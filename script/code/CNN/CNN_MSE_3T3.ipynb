{
  "cells": [
    {
      "cell_type": "markdown",
      "metadata": {
        "id": "lXTrDcbYXxzE"
      },
      "source": [
        "# 3T3 Cell Line"
      ]
    },
    {
      "cell_type": "code",
      "execution_count": null,
      "metadata": {
        "colab": {
          "base_uri": "https://localhost:8080/"
        },
        "id": "XahShGahX3tM",
        "outputId": "8cbddc8e-ae6d-4d70-8378-e34753e6349b"
      },
      "outputs": [
        {
          "output_type": "stream",
          "name": "stdout",
          "text": [
            "Mounted at /content/drive\n"
          ]
        }
      ],
      "source": [
        "from google.colab import drive\n",
        "drive.mount('/content/drive')"
      ]
    },
    {
      "cell_type": "code",
      "execution_count": null,
      "metadata": {
        "colab": {
          "base_uri": "https://localhost:8080/"
        },
        "id": "IL0XmHGBYE8e",
        "outputId": "bd9185b1-2057-44d8-953f-2a9f9798e000"
      },
      "outputs": [
        {
          "output_type": "stream",
          "name": "stdout",
          "text": [
            "Looking in indexes: https://pypi.org/simple, https://us-python.pkg.dev/colab-wheels/public/simple/\n",
            "Collecting util-gfsilveira\n",
            "  Downloading util_gfsilveira-0.1-py3-none-any.whl (3.1 kB)\n",
            "Installing collected packages: util-gfsilveira\n",
            "Successfully installed util-gfsilveira-0.1\n"
          ]
        }
      ],
      "source": [
        "pip install util-gfsilveira"
      ]
    },
    {
      "cell_type": "markdown",
      "metadata": {
        "id": "IeSWk6K3XxzQ"
      },
      "source": [
        "# Imports data structuring"
      ]
    },
    {
      "cell_type": "code",
      "execution_count": null,
      "metadata": {
        "id": "QiNtXo7UXxzT"
      },
      "outputs": [],
      "source": [
        "#organização dos arquivos\n",
        "import os\n",
        "#salvar/carregar arquivos em diferentes formatos\n",
        "import joblib\n",
        "#organizando os arquivos de forma aleatória\n",
        "import random\n",
        "#gerar gráfico\n",
        "import matplotlib\n",
        "#estruturação dos dados\n",
        "import numpy as np\n",
        "#gerar gráfico\n",
        "import seaborn as sns\n",
        "#gerar gráfico\n",
        "import matplotlib.pyplot as plt\n",
        "#gerar imagem\n",
        "import matplotlib.image as mpimg"
      ]
    },
    {
      "cell_type": "markdown",
      "metadata": {
        "id": "9wxkyRiuXxzX"
      },
      "source": [
        "# CNN template import"
      ]
    },
    {
      "cell_type": "code",
      "execution_count": null,
      "metadata": {
        "id": "T8QKDHdnXxzZ"
      },
      "outputs": [],
      "source": [
        "#modelo de revisão redes neurais - cnn\n",
        "from keras.models import Sequential\n",
        "from keras.utils.np_utils import to_categorical\n",
        "#from keras.utils import to_categorical\n",
        "from util import meus_uteis, timeProcess, mask_corr_graphic, printLis\n",
        "from sklearn.metrics import confusion_matrix, accuracy_score, classification_report\n",
        "from keras.layers import Dense, Conv2D, MaxPooling2D, Dropout, Flatten"
      ]
    },
    {
      "cell_type": "markdown",
      "metadata": {
        "id": "NkjgCPQDXxza"
      },
      "source": [
        "Documents from different files will be stored in this directory"
      ]
    },
    {
      "cell_type": "code",
      "execution_count": null,
      "metadata": {
        "colab": {
          "base_uri": "https://localhost:8080/"
        },
        "id": "EKMzddd_Xxzc",
        "outputId": "cea9fde6-b61c-40e3-98c4-dbf70e1e1eb2"
      },
      "outputs": [
        {
          "output_type": "stream",
          "name": "stdout",
          "text": [
            "-------------\n",
            "-=< Lista >=-\n",
            "-------------\n",
            "0 -> lista_img_camp_clar_100_resized_regressao_3T3_samehuh72021-10-25.gz\n",
            "1 -> lista_rotulo_camp_clar_100_resized_regressao_3T3_samehuh72021-10-25.gz\n",
            "2 -> lista_img_camp_clar_100_resized_regressao_A549_samehuh72021-10-25.gz\n",
            "3 -> lista_rotulo_camp_clar_100_resized_regressao_A549_samehuh72021-10-25.gz\n",
            "4 -> lista_img_camp_clar_100_resized_regressao_huh7_samehuh72021-10-25.gz\n",
            "5 -> lista_rotulo_camp_clar_100_resized_regressao_huh7_samehuh72021-10-25.gz\n",
            "6 -> model_A549_samehuh7_img2021-10-26.h5\n",
            "7 -> model_huh7_samehuh7_img2021-10-26.h5\n",
            "8 -> model__3T3_samehuh7_img2021-10-26.h5\n",
            "9 -> model_A549_samehuh7_img_40_602021-10-27.h5\n",
            "10 -> model_huh7_samehuh7_img_40_602021-10-27.h5\n",
            "11 -> model__3T3_samehuh7_img_40_602021-10-27.h5\n",
            "12 -> lista_img_camp_clar_100_resized_regressao_A5492021-11-9.gz\n",
            "13 -> lista_rotulo_camp_clar_100_resized_regressao_A5492021-11-9.gz\n",
            "14 -> lista_img_camp_clar_75_resized_regressao_A5492021-11-9.gz\n",
            "15 -> lista_rotulo_camp_clar_75_resized_regressao_A5492021-11-9.gz\n",
            "16 -> lista_img_camp_clar_50_resized_regressao_A5492021-11-9.gz\n",
            "17 -> lista_rotulo_camp_clar_50_resized_regressao_A5492021-11-9.gz\n",
            "18 -> lista_img_camp_clar_25_resized_regressao_A5492021-11-9.gz\n",
            "19 -> lista_rotulo_camp_clar_25_resized_regressao_A5492021-11-9.gz\n",
            "20 -> lista_img_camp_clar_100_resized_regressao_huh72021-11-9.gz\n",
            "21 -> lista_rotulo_camp_clar_100_resized_regressao_huh72021-11-9.gz\n",
            "22 -> lista_img_camp_clar_75_resized_regressao_HUH72021-11-9.gz\n",
            "23 -> lista_rotulo_camp_clar_75_resized_regressao_HUH72021-11-9.gz\n",
            "24 -> lista_img_camp_clar_50_resized_regressao_HUH72021-11-9.gz\n",
            "25 -> lista_rotulo_camp_clar_50_resized_regressao_HUH72021-11-9.gz\n",
            "26 -> lista_rotulo_camp_clar_25_resized_regressao_HUH72021-11-9.gz\n",
            "27 -> lista_img_camp_clar_25_resized_regressao_HUH72021-11-9.gz\n",
            "28 -> lista_img_camp_clar_100_resized_regressao_3T32021-11-9.gz\n",
            "29 -> lista_rotulo_camp_clar_100_resized_regressao_3T32021-11-9.gz\n",
            "30 -> lista_img_camp_clar_75_resized_regressao_3T3_2021-11-9.gz\n",
            "31 -> lista_rotulo_camp_clar_75_resized_regressao_3T3_2021-11-9.gz\n",
            "32 -> lista_img_camp_clar_50_resized_regressao_3T3_2021-11-9.gz\n",
            "33 -> lista_rotulo_camp_clar_50_resized_regressao_3T3_2021-11-9.gz\n",
            "34 -> lista_img_camp_clar_25_resized_regressao_3T3_2021-11-9.gz\n",
            "35 -> lista_rotulo_camp_clar_25_resized_regressao_3T3_2021-11-9.gz\n",
            "36 -> model_A549_100_75_50_25_2021-11-11.h5\n",
            "37 -> model_HUH7_100_75_50_25_2021-11-11.h5\n",
            "38 -> model_3T3_100_75_50_25_2021-11-11.h5\n",
            "39 -> images_de_x_caracteristicas_a549.gz\n",
            "40 -> images_de_y_caracteristicas_a549.gz\n",
            "41 -> images_de_x_caracteristicas_Huh7.gz\n",
            "42 -> rotulos_de_y_caracteristicas_Huh7.gz\n",
            "43 -> images_de_x_caracteristicas_3T3.gz\n",
            "44 -> rotulos_de_y_caracteristicas_3T3.gz\n",
            "45 -> 1_images_de_X_train_a549_pior_modelo.gz\n",
            "46 -> 1_images_de_y_train_a549_pior_modelo.gz\n",
            "47 -> 2_images_de_X_test_a549_pior_modelo.gz\n",
            "48 -> 2_images_de_y_test_a549_pior_modelo.gz\n",
            "49 -> model__A549_regressao_maior_erro2022-1-26.h5\n",
            "50 -> 1_images_de_X_train_a549_melhor_modelo2022-1-26.gz\n",
            "51 -> 1_images_de_y_train_a549_melhor_modelo2022-1-26.gz\n",
            "52 -> 2_images_de_X_test_a549_melhor_modelo2022-1-26.gz\n",
            "53 -> 2_images_de_y_test_a549_melhor_modelo2022-1-26.gz\n",
            "54 -> model__A549_regressao_menor_erro2022-1-26.h5\n",
            "55 -> 3_images_de_X_train_huh7_pior_modelo.gz\n",
            "56 -> 3_images_de_y_train_huh7_pior_modelo.gz\n",
            "57 -> 4_images_de_X_test_huh7_pior_modelo.gz\n",
            "58 -> 4_images_de_y_test_huh7_pior_modelo.gz\n",
            "59 -> 3_images_de_X_train_huh7_melhor_modelo.gz\n",
            "60 -> 3_images_de_y_train_huh7_melhor_modelo.gz\n",
            "61 -> 4_images_de_X_test_huh7_melhor_modelo.gz\n",
            "62 -> 4_images_de_y_test_huh7_melhor_modelo.gz\n",
            "63 -> model__huh7_regressao_maior_erro2022-1-26.h5\n",
            "64 -> model__huh7_regressao_menor_erro2022-1-26.h5\n",
            "65 -> 5_images_de_X_train_3T3_melhor_modelo.gz\n",
            "66 -> 5_images_de_y_train_3T3_melhor_modelo.gz\n",
            "67 -> 6_images_de_X_test_3T3_melhor_modelo.gz\n",
            "68 -> 6_images_de_y_test_3T3_melhor_modelo.gz\n",
            "69 -> 5_images_de_X_train_3T3_pior_modelo.gz\n",
            "70 -> 5_images_de_y_train_3T3_pior_modelo.gz\n",
            "71 -> 6_images_de_X_test_3T3_pior_modelo.gz\n",
            "72 -> 6_images_de_y_test_3T3_pior_modelo.gz\n",
            "73 -> model__3T3_regressao_menor_erro2022-1-26.h5\n",
            "74 -> model__3T3_regressao_maior_erro2022-1-26.h5\n",
            "75 -> model__A549_regressao_menor_erro_Mean_squared_error2022-4-27.h5\n",
            "76 -> model__3T3_regressao_menor_erro_Mean_squared_error2022-4-27.h5\n",
            "77 -> model__huh7_regressao_menor_erro_Mean_squared_error2022-4-27.h5\n",
            "78 -> model__huh7_regressao_maior_erro_Mean_squared_error2022-4-28.h5\n",
            "79 -> model__huh7_regressao_maior_erro_Mean_squared_error_30%2022-4-29.h5\n",
            "80 -> model__huh7_regressao_maior_erro_Mean_squared_error_40%2022-4-29.h5\n",
            "81 -> model__A549_regressao_menor_erro_Mean_squared_error_30%2022-4-29.h5\n",
            "82 -> 1_model__huh7_regressao_menor_erro_Mean_squared_error_30%2022-4-29.h5\n",
            "83 -> model__A549_regressao_menor_erro_Mean_squared_error2022-4-29.h5\n",
            "84 -> model__A549_regressao_maior_erro_Mean_squared_error2022-4-29.h5\n",
            "85 -> model__3T3_regressao_maior_erro_Mean_squared_error2022-4-29.h5\n",
            "86 -> model__3T3_regressao_menor_erro_Mean_squared_error2022-4-29.h5\n",
            "87 -> model__A549_regressao_maior_erro_Mean_squared_error2022-5-4.h5\n",
            "88 -> 1_images_de_y_train_a549_melhor_modelo2022-5-11.gz\n",
            "89 -> 1_images_de_X_train_a549_melhor_modelo2022-5-11.gz\n",
            "90 -> 2_images_de_X_test_a549_melhor_modelo2022-5-11.gz\n",
            "91 -> 2_images_de_y_test_a549_melhor_modelo2022-5-11.gz\n",
            "92 -> model__A549_regressao_maior_erro_Mean_squared_error_2022-5-11.h5\n",
            "93 -> 1_images_de_X_train_a549_pior_modelo2022-5-11.gz\n",
            "94 -> 1_images_de_y_train_a549_pior_modelo2022-5-11.gz\n",
            "95 -> 2_images_de_X_test_a549_pior_modelo2022-5-11.gz\n",
            "96 -> 2_images_de_y_test_a549_pior_modelo2022-5-11.gz\n",
            "97 -> 1_images_de_X_train_a549_pior_modelo2022-5-16.gz\n",
            "98 -> 1_images_de_X_train_a549_pior_modelo_2022-5-16.gz\n",
            "99 -> 1_images_de_y_train_a549_pior_modelo_2022-5-16.gz\n",
            "100 -> 2_images_de_X_test_a549_pior_modelo_2022-5-16.gz\n",
            "101 -> 2_images_de_y_test_a549_pior_modelo_2022-5-16.gz\n",
            "102 -> model__A549_regressao_maior_erro_Mean_squared_error_2022-5-16.h5\n",
            "103 -> 3_images_de_y_train_huh7_pior_modelo_2022-5-18.gz\n",
            "104 -> 4_images_de_X_test_huh7_pior_modelo_2022-5-18.gz\n",
            "105 -> 3_images_de_X_train_huh7_pior_modelo_2022-5-18.gz\n",
            "106 -> 4_images_de_y_test_huh7_pior_modelo_2022-5-18.gz\n",
            "107 -> 2_model__huh7_regressao_maior_erro_Mean_squared_error_40%2022-5-18.h5\n",
            "108 -> model_3T3_100_75_50_25_2022-5-18.h5\n",
            "109 -> 5_images_de_y_train_3T3_melhor_modelo2022-5-18.gz\n",
            "110 -> 5_images_de_X_train_3T3_melhor_modelo2022-5-18.gz\n",
            "111 -> model_3T3_pior_modelo_mean_squared_error_2022-5-18.h5\n",
            "112 -> 6_images_de_X_test_3T3_pior_modelo_2022-5-18.gz\n",
            "113 -> .ipynb_checkpoints\n",
            "114 -> 6_images_de_y_test_3T3_pior_modelo_2022-5-18.gz\n",
            "115 -> lista_img_camp_clar_3T3_samehuh72022-5-23.gz\n",
            "116 -> lista_rotulo_camp_camp_clar_3T3_samehuh772022-5-23.gz\n",
            "117 -> images_de_X_train_a549_melhor_modelo_18_PACIENCE2022-6-29.gz\n",
            "118 -> images_de_y_train_a549_melhor_modelo_18_PACIENCE2022-6-29.gz\n",
            "119 -> images_de_X_test_a549_melhor_modelo_18_PACIENCE2022-6-29.gz\n",
            "120 -> images_de_y_test_a549_melhor_modelo_18_PACIENCE2022-6-29.gz\n",
            "121 -> 1_images_de_y_train_a549_pior_modelo_18_PACIENCE2022-6-29.gz\n",
            "122 -> 2_images_de_X_test_a549_pior_modelo_18_PACIENCE_2022-6-29.gz\n",
            "123 -> 1_images_de_X_train_a549_pior_modelo_18_PACIENCE2022-6-29.gz\n",
            "124 -> 2_images_de_y_test_a549_pior_modelo_18_PACIENCE_2022-6-29.gz\n",
            "125 -> model__A549_regressao_maior_erro_18_PACIEN_2022-6-29.h5\n",
            "126 -> images_de_X_train_a549_melhor_modelo_18_PACIENCE_500_2022-6-29.gz\n",
            "127 -> images_de_y_train_a549_melhor_modelo_18_PACIENCE_500_2022-6-29.gz\n",
            "128 -> images_de_y_test_a549_melhor_modelo_18_PACIENCE%00_2022-6-29.gz\n",
            "129 -> model__A549_regressao_menor_erro_Mean_squared_error_30%_18_PACIENCE2022-6-29.h5\n",
            "130 -> images_de_X_test_a549_melhor_modelo_18_PACIENCE_500_2022-6-29.gz\n",
            "131 -> 1_images_de_X_train_a549_pior_modelo_18_PACIENCE_500_2022-6-29.gz\n",
            "132 -> 1_images_de_y_train_a549_pior_modelo_18_PACIENCE_500_2022-6-29.gz\n",
            "133 -> 2_images_de_X_test_a549_pior_modelo_18_PACIENCE_500_2022-6-29.gz\n",
            "134 -> 2_images_de_y_test_a549_pior_modelo_18_PACIENCE_500_2022-6-29.gz\n",
            "135 -> model__A549_regressao_maior_erro_18_PACIEN_500_2022-6-29.h5\n",
            "136 -> 3_images_de_X_train_huh7_melhor_modelo_200_epochs_2022-6-30.gz\n",
            "137 -> 3_images_de_y_train_huh7_melhor_modelo_200_epochs_2022-6-30.gz\n",
            "138 -> 4_images_de_X_test_huh7_melhor_modelo_200_epochs_2022-6-30.gz\n",
            "139 -> 4_images_de_y_test_huh7_melhor_modelo_200_epochs_2022-6-30.gz\n",
            "140 -> model__huh7_regressao_menor_erro_Mean_squared_error_200_epochs2022-6-30.h5\n",
            "141 -> 3_images_de_y_train_huh7_PIOR_modelo_200_epochs_2022-6-30.gz\n",
            "142 -> 3_images_de_X_train_huh7_PIOR_modelo_200_epochs_2022-6-30.gz\n",
            "143 -> 4_images_de_X_test_huh7_PIOR_modelo_200_epochs_2022-6-30.gz\n",
            "144 -> 4_images_de_y_test_huh7_PIOR_modelo_200_epochs_2022-6-30.gz\n",
            "145 -> model__huh7_regressao_MAIOR_erro_Mean_squared_error_200_epochs2022-6-30.h5\n",
            "146 -> 3_images_de_X_train_huh7_melhor_modelo_500_epochs_2022-6-30.gz\n",
            "147 -> 3_images_de_y_train_huh7_melhor_modelo_500_epochs_2022-6-30.gz\n",
            "148 -> 4_images_de_X_test_huh7_melhor_modelo_500_epochs_2022-6-30.gz\n",
            "149 -> 4_images_de_y_test_huh7_melhor_modelo_500_epochs_2022-6-30.gz\n",
            "150 -> model__huh7_regressao_menor_erro_Mean_squared_error_500_epochs2022-6-30.h5\n",
            "151 -> 3_images_de_X_train_huh7_PIOR_modelo_500_epochs_2022-6-30.gz\n",
            "152 -> 3_images_de_y_train_huh7_PIOR_modelo_500_epochs_2022-6-30.gz\n",
            "153 -> 4_images_de_X_test_huh7_PIOR_modelo_500_epochs_2022-6-30.gz\n",
            "154 -> 4_images_de_y_test_huh7_PIOR_modelo_500_epochs_2022-6-30.gz\n",
            "155 -> model__huh7_regressao_MAIOR_erro_Mean_squared_error_500_epochs2022-6-30.h5\n",
            "156 -> 5_images_de_X_train_3T3_melhor_modelo_200_epochs_2022-6-30.gz\n",
            "157 -> 5_images_de_y_train_3T3_melhor_modelo_200_epochs_2022-6-30.gz\n",
            "158 -> 6_images_de_X_test_3T3_melhor_modelo_200_epochs_2022-6-30.gz\n",
            "159 -> 6_images_de_y_test_3T3_melhor_model_200_epochs_2022-6-30.gz\n",
            "160 -> model__3T3_regressao_menor_erro_Mean_squared_error_200_epochs_2022-6-30.gz\n",
            "161 -> model__3T3_regressao_menor_erro_Mean_squared_error_200_epochs_2022-6-30.hu\n",
            "162 -> model__3T3_regressao_menor_erro_Mean_squared_error_200_epochs_2022-6-30.h5\n",
            "163 -> 6_images_de_X_test_3T3_PIOR_modelo_200_epochs2022-6-30.gz\n",
            "164 -> 6_images_de_y_test_3T3_PIOR_modelo_200_epochs2022-6-30.gz\n",
            "165 -> model__3T3_regressao_Maior_erro_Mean_squared_error_200_epochs_2022-6-30.h5\n"
          ]
        }
      ],
      "source": [
        "diretorio = '/content/drive/MyDrive/1_Informações_scripts' #alimentando a variável com os arquivos da pasta datasets\n",
        "lista_dados = os.listdir(diretorio) #listando os arquivos dessa pasta\n",
        "printLis(lista_dados) #printando as diferentes listas"
      ]
    },
    {
      "cell_type": "markdown",
      "metadata": {
        "id": "UJPyHEFEXxzg"
      },
      "source": [
        "Lists of all images in each file"
      ]
    },
    {
      "cell_type": "code",
      "execution_count": null,
      "metadata": {
        "colab": {
          "base_uri": "https://localhost:8080/"
        },
        "id": "E3b7ZCpjHlQV",
        "outputId": "077ec37a-3c86-49f4-fb3b-237094fda0a9"
      },
      "outputs": [
        {
          "output_type": "stream",
          "name": "stdout",
          "text": [
            "28 -> lista_img_camp_clar_100_resized_regressao_3T32021-11-9.gz\n",
            "30 -> lista_img_camp_clar_75_resized_regressao_3T3_2021-11-9.gz\n",
            "32 -> lista_img_camp_clar_50_resized_regressao_3T3_2021-11-9.gz\n",
            "34 -> lista_img_camp_clar_25_resized_regressao_3T3_2021-11-9.gz\n"
          ]
        }
      ],
      "source": [
        "#lstando arquivos com as imagens 100%, 75%, 50%, 25%\n",
        "for k, v in enumerate(lista_dados):\n",
        "    if k in [28,30,32,34]:\n",
        "        print(f'{k} -> {v}')"
      ]
    },
    {
      "cell_type": "markdown",
      "metadata": {
        "id": "fq_7XZzxXxzl"
      },
      "source": [
        "## x = features/images"
      ]
    },
    {
      "cell_type": "code",
      "execution_count": null,
      "metadata": {
        "colab": {
          "base_uri": "https://localhost:8080/"
        },
        "id": "no7EJT2QIHud",
        "outputId": "d7838933-4374-4fe7-d9a8-b6bbbf5a1246"
      },
      "outputs": [
        {
          "output_type": "execute_result",
          "data": {
            "text/plain": [
              "(832, 200, 200, 3)"
            ]
          },
          "metadata": {},
          "execution_count": 7
        }
      ],
      "source": [
        "#somando todas as imagens de diferentes tamanho\n",
        "X_cem = joblib.load(diretorio+ '/' + lista_dados[28])\n",
        "\n",
        "# 12 -> 00-lista_img_dapi_crop_75_resized_2021-5-12.gz\n",
        "X_setcin = joblib.load(diretorio+ '/' + lista_dados[30])\n",
        "\n",
        "# 10 -> 00-lista_img_dapi_crop_50_resized_2021-5-12.gz\n",
        "X_cinq = joblib.load(diretorio+ '/' + lista_dados[32])\n",
        "\n",
        "# 8 -> 00-lista_img_dapi_crop_25_resized_2021-5-12.gz\n",
        "X_vincin = joblib.load(diretorio+ '/' + lista_dados[34])\n",
        "\n",
        "x = np.asarray(list(X_cem) + list(X_setcin) + list(X_cinq) + list(X_vincin))\n",
        "\n",
        "x.shape"
      ]
    },
    {
      "cell_type": "markdown",
      "metadata": {
        "id": "ERqd0bayXxzq"
      },
      "source": [
        "## y = labels"
      ]
    },
    {
      "cell_type": "markdown",
      "metadata": {
        "id": "CFTHH25FXxzr"
      },
      "source": [
        "Opening the labels that were saved in the preparation of the images"
      ]
    },
    {
      "cell_type": "code",
      "execution_count": null,
      "metadata": {
        "colab": {
          "base_uri": "https://localhost:8080/"
        },
        "id": "I9xK_3HbImY9",
        "outputId": "59304625-8a23-4b42-95cd-0a4228a3a267"
      },
      "outputs": [
        {
          "output_type": "stream",
          "name": "stdout",
          "text": [
            "29 -> lista_rotulo_camp_clar_100_resized_regressao_3T32021-11-9.gz\n",
            "31 -> lista_rotulo_camp_clar_75_resized_regressao_3T3_2021-11-9.gz\n",
            "33 -> lista_rotulo_camp_clar_50_resized_regressao_3T3_2021-11-9.gz\n",
            "35 -> lista_rotulo_camp_clar_25_resized_regressao_3T3_2021-11-9.gz\n"
          ]
        }
      ],
      "source": [
        "for k, v in enumerate(lista_dados):\n",
        "    if k in [29,31,33,35]:\n",
        "        print(f'{k} -> {v}')"
      ]
    },
    {
      "cell_type": "code",
      "execution_count": null,
      "metadata": {
        "colab": {
          "base_uri": "https://localhost:8080/"
        },
        "id": "7fKYPX4BI2A1",
        "outputId": "c3f4aff3-3d5e-4b16-9236-a667b2b0fa80"
      },
      "outputs": [
        {
          "output_type": "execute_result",
          "data": {
            "text/plain": [
              "(832,)"
            ]
          },
          "metadata": {},
          "execution_count": 9
        }
      ],
      "source": [
        "#somando todos os rótulos de diferentes tamanho\n",
        "y_cem = joblib.load(diretorio+ '/' + lista_dados[29])\n",
        "\n",
        "# 12 -> 00-lista_img_dapi_crop_75_resized_2021-5-12.gz\n",
        "y_setcin = joblib.load(diretorio+ '/' + lista_dados[31])\n",
        "\n",
        "# 10 -> 00-lista_img_dapi_crop_50_resized_2021-5-12.gz\n",
        "y_cinq = joblib.load(diretorio+ '/' + lista_dados[33])\n",
        "\n",
        "# 8 -> 00-lista_img_dapi_crop_25_resized_2021-5-12.gz\n",
        "y_vincin = joblib.load(diretorio+ '/' + lista_dados[35])\n",
        "\n",
        "y = np.asarray(list(y_cem) + list(y_setcin) + list(y_cinq) + list(y_vincin))\n",
        "\n",
        "y.shape"
      ]
    },
    {
      "cell_type": "code",
      "execution_count": null,
      "metadata": {
        "id": "N6toxFZaXxzu"
      },
      "outputs": [],
      "source": [
        "#Train and test split datasets for CNN model\n",
        "#função que separa as imagens em teste e treino\n",
        "from sklearn.model_selection import train_test_split"
      ]
    },
    {
      "cell_type": "markdown",
      "metadata": {
        "id": "MFbIs_UWXxzv"
      },
      "source": [
        "Test and training separation from a library."
      ]
    },
    {
      "cell_type": "code",
      "execution_count": null,
      "metadata": {
        "colab": {
          "base_uri": "https://localhost:8080/"
        },
        "id": "Jxj_ISEnXxzw",
        "outputId": "184f7130-f47c-4852-fe07-4558b7f7cb09"
      },
      "outputs": [
        {
          "output_type": "stream",
          "name": "stdout",
          "text": [
            "(582, 200, 200, 3) \n",
            "(250, 200, 200, 3) \n",
            "(582,) \n",
            "(250,)\n"
          ]
        }
      ],
      "source": [
        "X_train, X_test, y_train, y_test = train_test_split(x, y, test_size=0.3, random_state=0)\n",
        "#variáveis recebem o número de imagens para tes e treino\n",
        "print(f'{X_train.shape} \\n{X_test.shape} \\n{y_train.shape} \\n{y_test.shape}')"
      ]
    },
    {
      "cell_type": "code",
      "source": [
        "data = timeProcess()[1]"
      ],
      "metadata": {
        "id": "lgeDI-zKtIb0"
      },
      "execution_count": null,
      "outputs": []
    },
    {
      "cell_type": "code",
      "execution_count": null,
      "metadata": {
        "id": "dNTZ-tPrqbGA",
        "colab": {
          "base_uri": "https://localhost:8080/"
        },
        "outputId": "12fc5bc5-2897-4460-f447-0f04ab4f3cb9"
      },
      "outputs": [
        {
          "output_type": "execute_result",
          "data": {
            "text/plain": [
              "['/content/drive/MyDrive/1_Informações_scripts//6_images_de_y_test_3T3_melhor_model_200_epochs_2022-6-30.gz']"
            ]
          },
          "metadata": {},
          "execution_count": 14
        }
      ],
      "source": [
        "joblib.dump(X_train, '/content/drive/MyDrive/1_Informações_scripts//5_images_de_X_train_3T3_melhor_modelo_200_epochs_'+data+'.gz')\n",
        "joblib.dump(y_train, '/content/drive/MyDrive/1_Informações_scripts//5_images_de_y_train_3T3_melhor_modelo_200_epochs_'+data+'.gz')\n",
        "joblib.dump(X_test, '/content/drive/MyDrive/1_Informações_scripts//6_images_de_X_test_3T3_melhor_modelo_200_epochs_'+data+'.gz')\n",
        "joblib.dump(y_test, '/content/drive/MyDrive/1_Informações_scripts//6_images_de_y_test_3T3_melhor_model_200_epochs_'+data+'.gz')\n"
      ]
    },
    {
      "cell_type": "markdown",
      "metadata": {
        "id": "-gRh4JauXxz0"
      },
      "source": [
        "### Model determination"
      ]
    },
    {
      "cell_type": "code",
      "execution_count": null,
      "metadata": {
        "colab": {
          "base_uri": "https://localhost:8080/"
        },
        "id": "yjKHFqTDXxz1",
        "outputId": "ed8d5f1f-5647-4e14-fb58-82f30f78c687"
      },
      "outputs": [
        {
          "output_type": "stream",
          "name": "stdout",
          "text": [
            "Model: \"sequential\"\n",
            "_________________________________________________________________\n",
            " Layer (type)                Output Shape              Param #   \n",
            "=================================================================\n",
            " conv2d (Conv2D)             (None, 198, 198, 32)      896       \n",
            "                                                                 \n",
            " max_pooling2d (MaxPooling2D  (None, 99, 99, 32)       0         \n",
            " )                                                               \n",
            "                                                                 \n",
            " conv2d_1 (Conv2D)           (None, 97, 97, 64)        18496     \n",
            "                                                                 \n",
            " max_pooling2d_1 (MaxPooling  (None, 48, 48, 64)       0         \n",
            " 2D)                                                             \n",
            "                                                                 \n",
            " conv2d_2 (Conv2D)           (None, 46, 46, 128)       73856     \n",
            "                                                                 \n",
            " max_pooling2d_2 (MaxPooling  (None, 23, 23, 128)      0         \n",
            " 2D)                                                             \n",
            "                                                                 \n",
            " conv2d_3 (Conv2D)           (None, 21, 21, 256)       295168    \n",
            "                                                                 \n",
            " max_pooling2d_3 (MaxPooling  (None, 10, 10, 256)      0         \n",
            " 2D)                                                             \n",
            "                                                                 \n",
            " flatten (Flatten)           (None, 25600)             0         \n",
            "                                                                 \n",
            " dropout (Dropout)           (None, 25600)             0         \n",
            "                                                                 \n",
            " dense (Dense)               (None, 1)                 25601     \n",
            "                                                                 \n",
            "=================================================================\n",
            "Total params: 414,017\n",
            "Trainable params: 414,017\n",
            "Non-trainable params: 0\n",
            "_________________________________________________________________\n",
            "None\n"
          ]
        }
      ],
      "source": [
        "modelo = Sequential()\n",
        "modelo.add(Conv2D(32, kernel_size=3, activation='relu', input_shape=X_train[0].shape))\n",
        "#função de ativação relu é muito utilizado para problemas de regressão\n",
        "modelo.add(MaxPooling2D(pool_size=(2, 2), strides=(2, 2), padding='valid'))\n",
        "modelo.add(Conv2D(64, kernel_size=3, activation='relu'))\n",
        "modelo.add(MaxPooling2D(pool_size=(2, 2), strides=(2, 2), padding='valid'))\n",
        "modelo.add(Conv2D(128, kernel_size=3, activation='relu'))\n",
        "modelo.add(MaxPooling2D(pool_size=(2, 2), strides=(2, 2), padding='valid'))\n",
        "modelo.add(Conv2D(256, kernel_size=3, activation='relu'))\n",
        "modelo.add(MaxPooling2D(pool_size=(2, 2), strides=(2, 2), padding='valid'))\n",
        "modelo.add(Flatten())\n",
        "modelo.add(Dropout(0.9))\n",
        "modelo.add(Dense(1, activation='linear'))\n",
        "#apenas uma saída e de forma linear\n",
        "modelo.compile(optimizer='adam', loss='mse', metrics=['mean_squared_error'])\n",
        "print(modelo.summary())"
      ]
    },
    {
      "cell_type": "markdown",
      "source": [
        "# Training and testing epochs"
      ],
      "metadata": {
        "id": "mI2Nj_u0GHe1"
      }
    },
    {
      "cell_type": "code",
      "source": [
        "from tensorflow.keras.callbacks import EarlyStopping\n",
        "from tensorflow.keras.callbacks import ModelCheckpoint"
      ],
      "metadata": {
        "id": "v9A8OJvqsap6"
      },
      "execution_count": null,
      "outputs": []
    },
    {
      "cell_type": "code",
      "source": [
        "# simple early stopping\n",
        "es = EarlyStopping(monitor='val_loss', mode='min', verbose=1, patience=18)"
      ],
      "metadata": {
        "id": "9AkEAv1qsdPw"
      },
      "execution_count": null,
      "outputs": []
    },
    {
      "cell_type": "code",
      "source": [
        "# fit model\n",
        "history = modelo.fit(X_train,y_train,\n",
        "                    validation_data=(X_test, y_test), \n",
        "                    epochs=200, verbose=2, \n",
        "                    callbacks=[es]\n",
        "                     )"
      ],
      "metadata": {
        "colab": {
          "base_uri": "https://localhost:8080/"
        },
        "id": "CfCuItW2sfYx",
        "outputId": "94aa5d03-f0c0-4c44-b5e0-e6614ef46937"
      },
      "execution_count": null,
      "outputs": [
        {
          "output_type": "stream",
          "name": "stdout",
          "text": [
            "Epoch 1/200\n",
            "19/19 - 14s - loss: 36205.2305 - mean_squared_error: 36205.2305 - val_loss: 36233.3555 - val_mean_squared_error: 36233.3555 - 14s/epoch - 743ms/step\n",
            "Epoch 2/200\n",
            "19/19 - 1s - loss: 33521.3359 - mean_squared_error: 33521.3359 - val_loss: 34242.7227 - val_mean_squared_error: 34242.7227 - 907ms/epoch - 48ms/step\n",
            "Epoch 3/200\n",
            "19/19 - 1s - loss: 31622.4746 - mean_squared_error: 31622.4746 - val_loss: 38855.7109 - val_mean_squared_error: 38855.7109 - 913ms/epoch - 48ms/step\n",
            "Epoch 4/200\n",
            "19/19 - 1s - loss: 31855.4492 - mean_squared_error: 31855.4492 - val_loss: 35333.1406 - val_mean_squared_error: 35333.1406 - 907ms/epoch - 48ms/step\n",
            "Epoch 5/200\n",
            "19/19 - 1s - loss: 30717.5254 - mean_squared_error: 30717.5254 - val_loss: 34342.5664 - val_mean_squared_error: 34342.5664 - 913ms/epoch - 48ms/step\n",
            "Epoch 6/200\n",
            "19/19 - 1s - loss: 31566.6426 - mean_squared_error: 31566.6426 - val_loss: 34259.1992 - val_mean_squared_error: 34259.1992 - 899ms/epoch - 47ms/step\n",
            "Epoch 7/200\n",
            "19/19 - 1s - loss: 32361.8496 - mean_squared_error: 32361.8496 - val_loss: 39990.3125 - val_mean_squared_error: 39990.3125 - 897ms/epoch - 47ms/step\n",
            "Epoch 8/200\n",
            "19/19 - 1s - loss: 32258.8770 - mean_squared_error: 32258.8770 - val_loss: 35880.4883 - val_mean_squared_error: 35880.4883 - 914ms/epoch - 48ms/step\n",
            "Epoch 9/200\n",
            "19/19 - 1s - loss: 30838.8184 - mean_squared_error: 30838.8184 - val_loss: 33689.6289 - val_mean_squared_error: 33689.6328 - 901ms/epoch - 47ms/step\n",
            "Epoch 10/200\n",
            "19/19 - 1s - loss: 29715.9766 - mean_squared_error: 29715.9766 - val_loss: 36227.7969 - val_mean_squared_error: 36227.7969 - 893ms/epoch - 47ms/step\n",
            "Epoch 11/200\n",
            "19/19 - 1s - loss: 30578.9902 - mean_squared_error: 30578.9902 - val_loss: 34882.2891 - val_mean_squared_error: 34882.2891 - 905ms/epoch - 48ms/step\n",
            "Epoch 12/200\n",
            "19/19 - 1s - loss: 30263.2891 - mean_squared_error: 30263.2891 - val_loss: 33639.7812 - val_mean_squared_error: 33639.7812 - 901ms/epoch - 47ms/step\n",
            "Epoch 13/200\n",
            "19/19 - 1s - loss: 31528.7461 - mean_squared_error: 31528.7461 - val_loss: 34235.7383 - val_mean_squared_error: 34235.7383 - 897ms/epoch - 47ms/step\n",
            "Epoch 14/200\n",
            "19/19 - 1s - loss: 31315.1895 - mean_squared_error: 31315.1895 - val_loss: 34765.9336 - val_mean_squared_error: 34765.9336 - 902ms/epoch - 47ms/step\n",
            "Epoch 15/200\n",
            "19/19 - 1s - loss: 34265.9883 - mean_squared_error: 34265.9883 - val_loss: 37081.1172 - val_mean_squared_error: 37081.1172 - 896ms/epoch - 47ms/step\n",
            "Epoch 16/200\n",
            "19/19 - 1s - loss: 30156.8652 - mean_squared_error: 30156.8652 - val_loss: 33959.1562 - val_mean_squared_error: 33959.1562 - 889ms/epoch - 47ms/step\n",
            "Epoch 17/200\n",
            "19/19 - 1s - loss: 30167.8867 - mean_squared_error: 30167.8867 - val_loss: 33478.6992 - val_mean_squared_error: 33478.6992 - 900ms/epoch - 47ms/step\n",
            "Epoch 18/200\n",
            "19/19 - 1s - loss: 30887.6660 - mean_squared_error: 30887.6660 - val_loss: 33657.8125 - val_mean_squared_error: 33657.8125 - 902ms/epoch - 47ms/step\n",
            "Epoch 19/200\n",
            "19/19 - 1s - loss: 30293.3652 - mean_squared_error: 30293.3652 - val_loss: 38283.3672 - val_mean_squared_error: 38283.3672 - 902ms/epoch - 47ms/step\n",
            "Epoch 20/200\n",
            "19/19 - 1s - loss: 31978.0098 - mean_squared_error: 31978.0098 - val_loss: 33612.1719 - val_mean_squared_error: 33612.1719 - 911ms/epoch - 48ms/step\n",
            "Epoch 21/200\n",
            "19/19 - 1s - loss: 30343.2578 - mean_squared_error: 30343.2578 - val_loss: 33517.6016 - val_mean_squared_error: 33517.6016 - 896ms/epoch - 47ms/step\n",
            "Epoch 22/200\n",
            "19/19 - 1s - loss: 30551.0508 - mean_squared_error: 30551.0508 - val_loss: 33609.9102 - val_mean_squared_error: 33609.9102 - 900ms/epoch - 47ms/step\n",
            "Epoch 23/200\n",
            "19/19 - 1s - loss: 29916.9785 - mean_squared_error: 29916.9785 - val_loss: 34409.9688 - val_mean_squared_error: 34409.9688 - 898ms/epoch - 47ms/step\n",
            "Epoch 24/200\n",
            "19/19 - 1s - loss: 30496.1777 - mean_squared_error: 30496.1777 - val_loss: 35823.7305 - val_mean_squared_error: 35823.7305 - 896ms/epoch - 47ms/step\n",
            "Epoch 25/200\n",
            "19/19 - 1s - loss: 29586.8594 - mean_squared_error: 29586.8594 - val_loss: 33337.7227 - val_mean_squared_error: 33337.7227 - 899ms/epoch - 47ms/step\n",
            "Epoch 26/200\n",
            "19/19 - 1s - loss: 30722.1777 - mean_squared_error: 30722.1777 - val_loss: 40300.8750 - val_mean_squared_error: 40300.8750 - 898ms/epoch - 47ms/step\n",
            "Epoch 27/200\n",
            "19/19 - 1s - loss: 33632.0195 - mean_squared_error: 33632.0195 - val_loss: 34147.6484 - val_mean_squared_error: 34147.6484 - 899ms/epoch - 47ms/step\n",
            "Epoch 28/200\n",
            "19/19 - 1s - loss: 31190.0215 - mean_squared_error: 31190.0215 - val_loss: 35690.8281 - val_mean_squared_error: 35690.8281 - 896ms/epoch - 47ms/step\n",
            "Epoch 29/200\n",
            "19/19 - 1s - loss: 30773.3711 - mean_squared_error: 30773.3711 - val_loss: 34036.1914 - val_mean_squared_error: 34036.1914 - 1s/epoch - 53ms/step\n",
            "Epoch 30/200\n",
            "19/19 - 1s - loss: 30015.7070 - mean_squared_error: 30015.7070 - val_loss: 36118.7422 - val_mean_squared_error: 36118.7422 - 939ms/epoch - 49ms/step\n",
            "Epoch 31/200\n",
            "19/19 - 1s - loss: 30665.3574 - mean_squared_error: 30665.3574 - val_loss: 33859.7109 - val_mean_squared_error: 33859.7109 - 899ms/epoch - 47ms/step\n",
            "Epoch 32/200\n",
            "19/19 - 1s - loss: 30106.0898 - mean_squared_error: 30106.0898 - val_loss: 33524.9336 - val_mean_squared_error: 33524.9336 - 896ms/epoch - 47ms/step\n",
            "Epoch 33/200\n",
            "19/19 - 1s - loss: 29855.9414 - mean_squared_error: 29855.9414 - val_loss: 33449.0703 - val_mean_squared_error: 33449.0703 - 898ms/epoch - 47ms/step\n",
            "Epoch 34/200\n",
            "19/19 - 1s - loss: 30572.8184 - mean_squared_error: 30572.8184 - val_loss: 33822.4766 - val_mean_squared_error: 33822.4766 - 893ms/epoch - 47ms/step\n",
            "Epoch 35/200\n",
            "19/19 - 1s - loss: 30519.3438 - mean_squared_error: 30519.3438 - val_loss: 38539.4297 - val_mean_squared_error: 38539.4297 - 901ms/epoch - 47ms/step\n",
            "Epoch 36/200\n",
            "19/19 - 1s - loss: 30100.3086 - mean_squared_error: 30100.3086 - val_loss: 36229.9453 - val_mean_squared_error: 36229.9453 - 899ms/epoch - 47ms/step\n",
            "Epoch 37/200\n",
            "19/19 - 1s - loss: 30183.6934 - mean_squared_error: 30183.6934 - val_loss: 34798.1914 - val_mean_squared_error: 34798.1914 - 895ms/epoch - 47ms/step\n",
            "Epoch 38/200\n",
            "19/19 - 1s - loss: 29836.8184 - mean_squared_error: 29836.8184 - val_loss: 35902.9375 - val_mean_squared_error: 35902.9375 - 894ms/epoch - 47ms/step\n",
            "Epoch 39/200\n",
            "19/19 - 1s - loss: 30012.2539 - mean_squared_error: 30012.2539 - val_loss: 36576.8086 - val_mean_squared_error: 36576.8086 - 899ms/epoch - 47ms/step\n",
            "Epoch 40/200\n",
            "19/19 - 1s - loss: 30824.1777 - mean_squared_error: 30824.1777 - val_loss: 35800.1445 - val_mean_squared_error: 35800.1445 - 896ms/epoch - 47ms/step\n",
            "Epoch 41/200\n",
            "19/19 - 1s - loss: 32482.0508 - mean_squared_error: 32482.0508 - val_loss: 34509.9648 - val_mean_squared_error: 34509.9648 - 900ms/epoch - 47ms/step\n",
            "Epoch 42/200\n",
            "19/19 - 1s - loss: 30412.4980 - mean_squared_error: 30412.4980 - val_loss: 34996.8945 - val_mean_squared_error: 34996.8945 - 899ms/epoch - 47ms/step\n",
            "Epoch 43/200\n",
            "19/19 - 1s - loss: 30090.6777 - mean_squared_error: 30090.6777 - val_loss: 33209.5078 - val_mean_squared_error: 33209.5078 - 902ms/epoch - 47ms/step\n",
            "Epoch 44/200\n",
            "19/19 - 1s - loss: 30385.5977 - mean_squared_error: 30385.5977 - val_loss: 33399.2227 - val_mean_squared_error: 33399.2227 - 894ms/epoch - 47ms/step\n",
            "Epoch 45/200\n",
            "19/19 - 1s - loss: 33888.1680 - mean_squared_error: 33888.1680 - val_loss: 33756.5195 - val_mean_squared_error: 33756.5234 - 902ms/epoch - 47ms/step\n",
            "Epoch 46/200\n",
            "19/19 - 1s - loss: 30851.5977 - mean_squared_error: 30851.5977 - val_loss: 34271.0938 - val_mean_squared_error: 34271.0938 - 900ms/epoch - 47ms/step\n",
            "Epoch 47/200\n",
            "19/19 - 1s - loss: 30728.7695 - mean_squared_error: 30728.7695 - val_loss: 35853.2812 - val_mean_squared_error: 35853.2812 - 896ms/epoch - 47ms/step\n",
            "Epoch 48/200\n",
            "19/19 - 1s - loss: 30439.8828 - mean_squared_error: 30439.8828 - val_loss: 33650.1641 - val_mean_squared_error: 33650.1641 - 900ms/epoch - 47ms/step\n",
            "Epoch 49/200\n",
            "19/19 - 1s - loss: 30454.3066 - mean_squared_error: 30454.3066 - val_loss: 34905.6875 - val_mean_squared_error: 34905.6875 - 891ms/epoch - 47ms/step\n",
            "Epoch 50/200\n",
            "19/19 - 1s - loss: 30694.7148 - mean_squared_error: 30694.7148 - val_loss: 34050.8125 - val_mean_squared_error: 34050.8125 - 896ms/epoch - 47ms/step\n",
            "Epoch 51/200\n",
            "19/19 - 1s - loss: 30182.4160 - mean_squared_error: 30182.4160 - val_loss: 34376.9023 - val_mean_squared_error: 34376.9023 - 893ms/epoch - 47ms/step\n",
            "Epoch 52/200\n",
            "19/19 - 1s - loss: 30485.0859 - mean_squared_error: 30485.0859 - val_loss: 35038.4414 - val_mean_squared_error: 35038.4414 - 893ms/epoch - 47ms/step\n",
            "Epoch 53/200\n",
            "19/19 - 1s - loss: 29869.4941 - mean_squared_error: 29869.4941 - val_loss: 33791.8398 - val_mean_squared_error: 33791.8398 - 898ms/epoch - 47ms/step\n",
            "Epoch 54/200\n",
            "19/19 - 1s - loss: 30463.0820 - mean_squared_error: 30463.0820 - val_loss: 34138.7461 - val_mean_squared_error: 34138.7461 - 908ms/epoch - 48ms/step\n",
            "Epoch 55/200\n",
            "19/19 - 1s - loss: 30588.3164 - mean_squared_error: 30588.3164 - val_loss: 36030.9883 - val_mean_squared_error: 36030.9883 - 902ms/epoch - 47ms/step\n",
            "Epoch 56/200\n",
            "19/19 - 1s - loss: 30062.1309 - mean_squared_error: 30062.1309 - val_loss: 34714.1680 - val_mean_squared_error: 34714.1680 - 897ms/epoch - 47ms/step\n",
            "Epoch 57/200\n",
            "19/19 - 1s - loss: 30142.0762 - mean_squared_error: 30142.0762 - val_loss: 36952.5039 - val_mean_squared_error: 36952.5039 - 901ms/epoch - 47ms/step\n",
            "Epoch 58/200\n",
            "19/19 - 1s - loss: 30411.3926 - mean_squared_error: 30411.3926 - val_loss: 34534.6914 - val_mean_squared_error: 34534.6914 - 904ms/epoch - 48ms/step\n",
            "Epoch 59/200\n",
            "19/19 - 1s - loss: 30553.6641 - mean_squared_error: 30553.6641 - val_loss: 33539.1562 - val_mean_squared_error: 33539.1562 - 899ms/epoch - 47ms/step\n",
            "Epoch 60/200\n",
            "19/19 - 1s - loss: 31470.0137 - mean_squared_error: 31470.0137 - val_loss: 35293.7891 - val_mean_squared_error: 35293.7891 - 893ms/epoch - 47ms/step\n",
            "Epoch 61/200\n",
            "19/19 - 1s - loss: 30642.0371 - mean_squared_error: 30642.0371 - val_loss: 33587.8945 - val_mean_squared_error: 33587.8945 - 894ms/epoch - 47ms/step\n",
            "Epoch 61: early stopping\n"
          ]
        }
      ]
    },
    {
      "cell_type": "code",
      "execution_count": null,
      "metadata": {
        "id": "8hvBp0dJq1vu"
      },
      "outputs": [],
      "source": [
        "data = timeProcess()[1]\n",
        "modelo.save('/content/drive/MyDrive/1_Informações_scripts//model__3T3_regressao_menor_erro_Mean_squared_error_200_epochs_'+data+'.h5')"
      ]
    },
    {
      "cell_type": "markdown",
      "metadata": {
        "id": "ko0pAsoXXxz4"
      },
      "source": [
        "## Accuracy Assessment"
      ]
    },
    {
      "cell_type": "code",
      "execution_count": null,
      "metadata": {
        "colab": {
          "base_uri": "https://localhost:8080/",
          "height": 295
        },
        "id": "G2lHHr_VXxz7",
        "outputId": "d867e7e3-54a8-4cde-b13a-9c6112d23a91"
      },
      "outputs": [
        {
          "output_type": "display_data",
          "data": {
            "text/plain": [
              "<Figure size 432x288 with 1 Axes>"
            ],
            "image/png": "[encoded data removed]"
          },
          "metadata": {
            "needs_background": "light"
          }
        }
      ],
      "source": [
        "#gráfico avaliando a acurácia a partir de treino e teste\n",
        "plt.plot(history.history['mean_squared_error'])\n",
        "plt.plot(history.history['val_mean_squared_error'])\n",
        "plt.title('Accuracy Metric')\n",
        "plt.ylabel('MSE')\n",
        "plt.xlabel('Epochs')\n",
        "plt.legend(['train', 'test'], loc='upper left')\n",
        "plt.show()"
      ]
    },
    {
      "cell_type": "code",
      "execution_count": null,
      "metadata": {
        "colab": {
          "base_uri": "https://localhost:8080/",
          "height": 295
        },
        "id": "iS1HHAB8Xxz7",
        "outputId": "fc05ff94-7001-4816-f57c-3c4d8d9af17e"
      },
      "outputs": [
        {
          "output_type": "display_data",
          "data": {
            "text/plain": [
              "<Figure size 432x288 with 1 Axes>"
            ],
            "image/png": "[encoded data removed]"
          },
          "metadata": {
            "needs_background": "light"
          }
        }
      ],
      "source": [
        "#avaliando a previsão do modelo com os rótulos\n",
        "prev = modelo.predict(X_test)\n",
        "plt.title('Previsão dos valores Operetta')\n",
        "plt.ylabel('Rótulos')\n",
        "plt.xlabel('Previsão')\n",
        "plt.plot(prev)#azul - o que o modelo previu\n",
        "plt.plot(y_test)#laranja - o que se sabe - observado\n",
        "plt.show()"
      ]
    },
    {
      "cell_type": "code",
      "execution_count": null,
      "metadata": {
        "id": "EFL4jb60Xxz9"
      },
      "outputs": [],
      "source": [
        ""
      ]
    },
    {
      "cell_type": "code",
      "execution_count": null,
      "metadata": {
        "id": "EKHLufoTXxz-"
      },
      "outputs": [],
      "source": [
        "# Qualit model analisys\n",
        "from sklearn.metrics import r2_score,mean_absolute_error, mean_squared_error, mean_squared_log_error, median_absolute_error"
      ]
    },
    {
      "cell_type": "code",
      "execution_count": null,
      "metadata": {
        "colab": {
          "base_uri": "https://localhost:8080/"
        },
        "id": "uot14dnJXxz_",
        "outputId": "edd20bd9-9e78-48ba-8b28-674602eeed96"
      },
      "outputs": [
        {
          "output_type": "stream",
          "name": "stdout",
          "text": [
            "-1.41%\n",
            "149.12\n",
            "33587.89\n"
          ]
        }
      ],
      "source": [
        "#buscando pelas métricas\n",
        "print(f\"{round(r2_score(y_test, prev) * 100, 2)}%\") #raíz quadrada\n",
        "print(f\"{round(mean_absolute_error(y_test, prev), 2)}\") \n",
        "print(f\"{round(mean_squared_error(y_test, prev), 2)}\") #erro médio quadrático\n",
        "# print(f\"{round(median_absolute_error(y_test, prev), 2)}\")#Erro médio absoluto sem %\n",
        "\n"
      ]
    },
    {
      "cell_type": "code",
      "execution_count": null,
      "metadata": {
        "colab": {
          "base_uri": "https://localhost:8080/"
        },
        "id": "qUK5ochKXx0A",
        "outputId": "bde050e1-a271-4023-a0b0-11a832efa21c"
      },
      "outputs": [
        {
          "data": {
            "text/plain": [
              "136.23026354980468"
            ]
          },
          "execution_count": 29,
          "metadata": {},
          "output_type": "execute_result"
        }
      ],
      "source": [
        "mean_absolute_error(y_test, prev)"
      ]
    },
    {
      "cell_type": "code",
      "execution_count": null,
      "metadata": {
        "colab": {
          "base_uri": "https://localhost:8080/"
        },
        "id": "NlrGUOfkXx0B",
        "outputId": "c26bdf98-b620-44f7-c854-8567a1c79831"
      },
      "outputs": [
        {
          "name": "stdout",
          "output_type": "stream",
          "text": [
            "13623.03%\n"
          ]
        }
      ],
      "source": [
        "print(f\"{round(mean_absolute_error(y_test, prev) * 100, 2)}%\")\n"
      ]
    },
    {
      "cell_type": "code",
      "execution_count": null,
      "metadata": {
        "colab": {
          "base_uri": "https://localhost:8080/"
        },
        "id": "jujuxI83Xx0B",
        "outputId": "abe01bc8-a827-41f2-eaa2-3cb1b321e306"
      },
      "outputs": [
        {
          "name": "stdout",
          "output_type": "stream",
          "text": [
            "3550664.82%\n"
          ]
        }
      ],
      "source": [
        "print(f\"{round(mean_squared_error(y_test, prev) * 100, 2)}%\")\n"
      ]
    },
    {
      "cell_type": "code",
      "execution_count": null,
      "metadata": {
        "id": "_TjShvjSXx0C"
      },
      "outputs": [],
      "source": [
        "# #salvando o modelo\n",
        "data = timeProcess()[1]\n",
        "modelo.save('/content/drive/MyDrive/1_Informações_scripts//model_3T3_100_75_50_25_'+data+'.h5')"
      ]
    },
    {
      "cell_type": "markdown",
      "metadata": {
        "id": "AGEezxJHXx0H"
      },
      "source": [
        "<a style='text-decoration:none;line-height:16px;display:flex;color:#5B5B62;padding:10px;justify-content:end;' href='https://deepnote.com?utm_source=created-in-deepnote-cell&projectId=c8daaa9d-6377-4e73-9571-1ae0cf7200fc' target=\"_blank\">\n",
        "<img alt='Created in deepnote.com' style='display:inline;max-height:16px;margin:0px;margin-right:7.5px;' src='data:image/svg+xml;base64,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' > </img>\n",
        "Created in <span style='font-weight:600;margin-left:4px;'>Deepnote</span></a>"
      ]
    }
  ],
  "metadata": {
    "accelerator": "GPU",
    "colab": {
      "name": "CNN_MSE_3T3.ipynb",
      "provenance": []
    },
    "deepnote": {
      "is_reactive": false
    },
    "deepnote_execution_queue": [],
    "deepnote_notebook_id": "97283c22-38bf-4a74-b7d7-78b0105de7dd",
    "kernelspec": {
      "display_name": "Python 3",
      "name": "python3"
    },
    "language_info": {
      "name": "python"
    }
  },
  "nbformat": 4,
  "nbformat_minor": 0
}