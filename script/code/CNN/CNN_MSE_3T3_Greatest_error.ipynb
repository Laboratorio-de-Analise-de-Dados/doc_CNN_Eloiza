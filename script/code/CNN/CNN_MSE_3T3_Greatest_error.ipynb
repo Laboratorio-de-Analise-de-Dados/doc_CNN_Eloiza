{
 "cells": [
  {
   "cell_type": "markdown",
   "metadata": {
    "cell_id": "00000-288de0bc-8cc2-4998-872c-01f58e6fa085",
    "deepnote_cell_type": "text-cell-h1",
    "id": "nqv0ckUVeN1Y",
    "is_collapsed": false,
    "tags": []
   },
   "source": [
    "# Linhagem 3T3"
   ]
  },
  {
   "cell_type": "markdown",
   "metadata": {
    "cell_id": "00000-9bdebeb7-f4c3-4b52-9360-68ef655b9779",
    "deepnote_cell_type": "text-cell-h1",
    "id": "7R-pmlPGeN1a",
    "is_collapsed": false,
    "tags": []
   },
   "source": [
    "# Importações estruturação dos dados"
   ]
  },
  {
   "cell_type": "code",
   "execution_count": 1,
   "metadata": {
    "cell_id": "00001-972e581c-6be2-452a-9163-ba15e69acd0d",
    "deepnote_cell_type": "code",
    "deepnote_to_be_reexecuted": false,
    "execution_millis": 748,
    "execution_start": 1633461500805,
    "id": "bF-CkTDYeN1a",
    "source_hash": "64fc40d5",
    "tags": []
   },
   "outputs": [],
   "source": [
    "#organização dos arquivos\n",
    "import os\n",
    "#salvar/carregar arquivos em diferentes formatos\n",
    "import joblib\n",
    "#organizando os arquivos de forma aleatória\n",
    "import random\n",
    "#gerar gráfico\n",
    "import matplotlib\n",
    "#estruturação dos dados\n",
    "import numpy as np\n",
    "#gerar gráfico\n",
    "import seaborn as sns\n",
    "#gerar gráfico\n",
    "import matplotlib.pyplot as plt\n",
    "#gerar imagem\n",
    "import matplotlib.image as mpimg"
   ]
  },
  {
   "cell_type": "markdown",
   "metadata": {
    "cell_id": "00002-9d58b1f9-b49b-45eb-a495-16f3ad253dcc",
    "deepnote_cell_type": "text-cell-h1",
    "id": "hldsJXXReN1b",
    "is_collapsed": false,
    "tags": []
   },
   "source": [
    "# Importação do modelo de CNN"
   ]
  },
  {
   "cell_type": "code",
   "execution_count": 2,
   "metadata": {
    "cell_id": "00003-87f289b7-d2cd-4f4c-9db8-bdb01a8452d9",
    "deepnote_cell_type": "code",
    "deepnote_to_be_reexecuted": false,
    "execution_millis": 1990,
    "execution_start": 1633461502575,
    "id": "zoKxX7cSeN1b",
    "source_hash": "654178fe",
    "tags": []
   },
   "outputs": [
    {
     "name": "stderr",
     "output_type": "stream",
     "text": [
      "2022-08-05 18:52:58.033909: W tensorflow/stream_executor/platform/default/dso_loader.cc:60] Could not load dynamic library 'libcudart.so.11.0'; dlerror: libcudart.so.11.0: cannot open shared object file: No such file or directory\n",
      "2022-08-05 18:52:58.034612: I tensorflow/stream_executor/cuda/cudart_stub.cc:29] Ignore above cudart dlerror if you do not have a GPU set up on your machine.\n"
     ]
    }
   ],
   "source": [
    "#modelo de revisão redes neurais - cnn\n",
    "from keras.models import Sequential\n",
    "from keras.utils.np_utils import to_categorical\n",
    "#from keras.utils import to_categorical\n",
    "from util import meus_uteis, timeProcess, mask_corr_graphic, printLis\n",
    "from sklearn.metrics import confusion_matrix, accuracy_score, classification_report\n",
    "from keras.layers import Dense, Conv2D, MaxPooling2D, Dropout, Flatten"
   ]
  },
  {
   "cell_type": "markdown",
   "metadata": {
    "cell_id": "00004-9cbd326e-031b-41f6-9acc-a1093d34c92f",
    "deepnote_cell_type": "text-cell-p",
    "id": "HyqVB5JIeN1c",
    "is_collapsed": false,
    "tags": []
   },
   "source": [
    "Os documentos de diferentes arquivos serão armazenados nesse diretório"
   ]
  },
  {
   "cell_type": "code",
   "execution_count": 3,
   "metadata": {
    "cell_id": "00005-12ddf809-8cd5-457c-8838-0469b9db7e9e",
    "colab": {
     "base_uri": "https://localhost:8080/"
    },
    "deepnote_cell_type": "code",
    "deepnote_to_be_reexecuted": false,
    "execution_millis": 17,
    "execution_start": 1633461509648,
    "id": "3tkECycNeN1c",
    "outputId": "c0cfb047-1170-4d5a-e897-f76548b54e07",
    "source_hash": "38a38df5",
    "tags": []
   },
   "outputs": [
    {
     "name": "stdout",
     "output_type": "stream",
     "text": [
      "-------------\n",
      "-=< Lista >=-\n",
      "-------------\n",
      "0 -> 10_images_de_X_test_3T3_melhor_modelo_200_epochs_2022-6-30.gz\n",
      "1 -> 11_images_de_y_test_3T3_melhor_model_200_epochs_2022-6-30.gz\n",
      "2 -> 12_lista_img_camp_clar_100_resized_regressao_3T3_samehuh72021-10-25.gz\n",
      "3 -> 13_lista_rotulo_camp_clar_100_resized_regressao_3T3_samehuh72021-10-25.gz\n",
      "4 -> 14_model__3T3_regressao_Maior_erro_Mean_squared_error_500_epochs_2022-6-30.h5\n",
      "5 -> 15_images_de_X_test_3T3_PIOR_modelo_500_epochs2022-6-30.gz\n",
      "6 -> 16_images_de_y_test_3T3_PIOR_modelo_500_epochs2022-6-30.gz\n",
      "7 -> 1_lista_img_camp_clar_100_resized_regressao_3T32021-11-9.gz\n",
      "8 -> 2_lista_img_camp_clar_75_resized_regressao_3T3_2021-11-9.gz\n",
      "9 -> 3_lista_img_camp_clar_50_resized_regressao_3T3_2021-11-9.gz\n",
      "10 -> 4_lista_img_camp_clar_25_resized_regressao_3T3_2021-11-9.gz\n",
      "11 -> 5_lista_rotulo_camp_clar_100_resized_regressao_3T32021-11-9.gz\n",
      "12 -> 6_lista_rotulo_camp_clar_75_resized_regressao_3T3_2021-11-9.gz\n",
      "13 -> 7_lista_rotulo_camp_clar_50_resized_regressao_3T3_2021-11-9.gz\n",
      "14 -> 8_lista_rotulo_camp_clar_25_resized_regressao_3T3_2021-11-9.gz\n",
      "15 -> 9_model__3T3_regressao_menor_erro_Mean_squared_error_200_epochs_2022-6-30.h5\n"
     ]
    }
   ],
   "source": [
    "diretorio = './../../results/results_3T3' #alimentando a variável com os arquivos da pasta datasets\n",
    "lista_dados = os.listdir(diretorio) #listando os arquivos dessa pasta\n",
    "printLis(lista_dados) #printando as diferentes listas"
   ]
  },
  {
   "cell_type": "markdown",
   "metadata": {
    "cell_id": "00006-0467cef1-28ae-4132-99f4-52e3f6dd56cd",
    "deepnote_cell_type": "text-cell-p",
    "id": "pceNspFWeN1d",
    "is_collapsed": false,
    "tags": []
   },
   "source": [
    "Para regressão, foi salvo 284 imagens a partir de 71 imagens originais"
   ]
  },
  {
   "cell_type": "code",
   "execution_count": 4,
   "metadata": {
    "cell_id": "00007-fe91ac12-233a-4a55-ae7d-0db6c6ede293",
    "colab": {
     "base_uri": "https://localhost:8080/"
    },
    "deepnote_cell_type": "code",
    "deepnote_output_heights": [
     20.65625
    ],
    "deepnote_to_be_reexecuted": false,
    "execution_millis": 266,
    "execution_start": 1633461580643,
    "id": "7LoTqih8eN1d",
    "outputId": "4a2fc4e3-b3fa-472a-c408-ecab6871cf52",
    "source_hash": "eec15ce2",
    "tags": []
   },
   "outputs": [
    {
     "data": {
      "text/plain": [
       "(176, 200, 200, 3)"
      ]
     },
     "execution_count": 4,
     "metadata": {},
     "output_type": "execute_result"
    }
   ],
   "source": [
    "#lista same huh7de 3T3\n",
    "imagem_camp_claro = joblib.load(diretorio+ '/' + lista_dados[2]) #carregando o arquivo\n",
    "imagem_camp_claro.shape #apresentando 4000 imagens de 108x108, 3 rgb"
   ]
  },
  {
   "cell_type": "markdown",
   "metadata": {
    "cell_id": "00020-687c50fe-7fed-478b-a9be-756ca0cd90e0",
    "deepnote_cell_type": "text-cell-h2",
    "id": "5YaTmpePeN1d",
    "is_collapsed": false,
    "tags": []
   },
   "source": [
    "## x = características/imagens"
   ]
  },
  {
   "cell_type": "code",
   "execution_count": 5,
   "metadata": {
    "cell_id": "00021-c1e78082-8e7d-42a8-93d0-3be74afe9ac6",
    "colab": {
     "base_uri": "https://localhost:8080/"
    },
    "deepnote_cell_type": "code",
    "deepnote_output_heights": [
     20.65625
    ],
    "deepnote_to_be_reexecuted": false,
    "execution_millis": 8,
    "execution_start": 1633461594864,
    "id": "f5puyxwQeN1d",
    "outputId": "65a636d2-0526-445b-c502-80f202401d02",
    "source_hash": "3d92fdb4",
    "tags": []
   },
   "outputs": [
    {
     "data": {
      "text/plain": [
       "(176, 200, 200, 3)"
      ]
     },
     "execution_count": 5,
     "metadata": {},
     "output_type": "execute_result"
    }
   ],
   "source": [
    "#somando cada lista gerada acima e salvando em um array\n",
    "x = np.asarray(imagem_camp_claro) #abriando em array as imagens\n",
    "x.shape #x - características (labels) "
   ]
  },
  {
   "cell_type": "markdown",
   "metadata": {
    "cell_id": "00023-576d3772-7256-4c8b-8f4a-ce2a27447373",
    "deepnote_cell_type": "text-cell-p",
    "id": "mmJE6kb9eN1e",
    "is_collapsed": false,
    "tags": []
   },
   "source": [
    "Vamos definir nossos rótulos (y)"
   ]
  },
  {
   "cell_type": "markdown",
   "metadata": {
    "cell_id": "00024-2a52cddd-d57a-43ea-b19b-79d121441438",
    "deepnote_cell_type": "text-cell-h2",
    "id": "H7duvF-JeN1e",
    "is_collapsed": false,
    "tags": []
   },
   "source": [
    "## y = rótulos"
   ]
  },
  {
   "cell_type": "markdown",
   "metadata": {
    "cell_id": "00013-59c042e6-ccc7-4e8a-8ad0-93c47d0dfc93",
    "deepnote_cell_type": "text-cell-p",
    "id": "AXSxOaFzeN1e",
    "is_collapsed": false,
    "tags": []
   },
   "source": [
    "Abrindo os rótulos que foram salvos na preparação das imagens"
   ]
  },
  {
   "cell_type": "code",
   "execution_count": 6,
   "metadata": {
    "cell_id": "00013-5ec0ed10-07d6-4cea-83a0-cdaaa4b9309e",
    "colab": {
     "base_uri": "https://localhost:8080/"
    },
    "deepnote_cell_type": "code",
    "deepnote_output_heights": [
     20.65625
    ],
    "deepnote_to_be_reexecuted": false,
    "execution_millis": 14,
    "execution_start": 1633366091444,
    "id": "yH79hVHQeN1f",
    "outputId": "4811e43d-4131-45f8-e48c-d401901a2d05",
    "source_hash": "18408477",
    "tags": []
   },
   "outputs": [
    {
     "data": {
      "text/plain": [
       "(176,)"
      ]
     },
     "execution_count": 6,
     "metadata": {},
     "output_type": "execute_result"
    }
   ],
   "source": [
    "#rotulos same huh7\n",
    "y_rotulo = joblib.load(diretorio+ '/' + lista_dados[3]) #carregando os rotulos\n",
    "y = np.asarray(y_rotulo)\n",
    "y.shape"
   ]
  },
  {
   "cell_type": "code",
   "execution_count": 7,
   "metadata": {
    "cell_id": "00015-e899e30c-5063-4ed5-a36e-c96cfd7154c8",
    "deepnote_cell_type": "code",
    "deepnote_to_be_reexecuted": false,
    "execution_millis": 14,
    "execution_start": 1633366123142,
    "id": "4r33BIPzeN1f",
    "source_hash": "abcd6da",
    "tags": []
   },
   "outputs": [],
   "source": [
    "#Train and test split datasets for CNN model\n",
    "#função que separa as imagens em teste e treino\n",
    "from sklearn.model_selection import train_test_split"
   ]
  },
  {
   "cell_type": "markdown",
   "metadata": {
    "cell_id": "00016-1914ad8b-dfb9-4d5b-9644-47b675be2c68",
    "deepnote_cell_type": "text-cell-p",
    "id": "Nn0VC4cIeN1g",
    "is_collapsed": false,
    "tags": []
   },
   "source": [
    "Separação de teste e treino a partir de uma biblioteca."
   ]
  },
  {
   "cell_type": "code",
   "execution_count": null,
   "metadata": {
    "cell_id": "00015-8ddea1cc-fc2b-4056-aea9-bb22914790fe",
    "colab": {
     "base_uri": "https://localhost:8080/"
    },
    "deepnote_cell_type": "code",
    "deepnote_to_be_reexecuted": false,
    "execution_millis": 45,
    "execution_start": 1633366126594,
    "id": "R7EqVvImeN1g",
    "outputId": "fc2818e5-8d9b-44b1-f582-8dd9590a1386",
    "source_hash": "2984b900",
    "tags": []
   },
   "outputs": [
    {
     "name": "stdout",
     "output_type": "stream",
     "text": [
      "(123, 200, 200, 3) \n",
      "(53, 200, 200, 3) \n",
      "(123,) \n",
      "(53,)\n"
     ]
    }
   ],
   "source": [
    "X_train, X_test, y_train, y_test = train_test_split(x, y, test_size=0.3, random_state=0)\n",
    "#variáveis recebem o número de imagens para tes e treino\n",
    "print(f'{X_train.shape} \\n{X_test.shape} \\n{y_train.shape} \\n{y_test.shape}')"
   ]
  },
  {
   "cell_type": "code",
   "execution_count": null,
   "metadata": {
    "colab": {
     "base_uri": "https://localhost:8080/"
    },
    "id": "b6lAX0-3x09L",
    "outputId": "318bf212-c5f6-4c29-8c28-ac54d8788704"
   },
   "outputs": [
    {
     "data": {
      "text/plain": [
       "['/content/drive/MyDrive/1_Informações_scripts//6_images_de_y_test_3T3_pior_modelo.gz']"
      ]
     },
     "execution_count": 18,
     "metadata": {},
     "output_type": "execute_result"
    }
   ],
   "source": [
    "#joblib.dump(X_train, './../../results/5_images_de_X_train_3T3_pior_modelo.gz')\n",
    "#joblib.dump(y_train, './../../results/5_images_de_y_train_3T3_pior_modelo.gz')\n",
    "#joblib.dump(X_test, './../../results/6_images_de_X_test_3T3_pior_modelo.gz')\n",
    "#joblib.dump(y_test, './../../results/6_images_de_y_test_3T3_pior_modelo.gz')"
   ]
  },
  {
   "cell_type": "markdown",
   "metadata": {
    "cell_id": "00028-b7da895f-49eb-43aa-affa-0ab9581095b8",
    "deepnote_cell_type": "text-cell-p",
    "id": "z7zmgaaAeN1g",
    "is_collapsed": false,
    "tags": []
   },
   "source": [
    "Para treinar o modelo, geralmente é selecionada 30% das imagens para o treino e 70% para teste. Para isso, as imagens são guardadas em uma variável de teste (somente 30%) e o restante vai para o treino."
   ]
  },
  {
   "cell_type": "markdown",
   "metadata": {
    "cell_id": "00020-643aca93-ac54-4b42-a96b-0d9cb3766c07",
    "deepnote_cell_type": "text-cell-h3",
    "id": "VW5_D6IveN1g",
    "is_collapsed": false,
    "tags": []
   },
   "source": [
    "### Determinação do modelo"
   ]
  },
  {
   "cell_type": "code",
   "execution_count": null,
   "metadata": {
    "cell_id": "00021-7cc62f7e-3524-4624-ad1c-28768879074d",
    "deepnote_cell_type": "code",
    "deepnote_to_be_reexecuted": false,
    "execution_millis": 124,
    "execution_start": 1633366142373,
    "id": "dq1l0CEreN1h",
    "source_hash": "fcfd5f57",
    "tags": []
   },
   "outputs": [],
   "source": [
    "modelo = Sequential()\n",
    "modelo.add(Conv2D(32, kernel_size=3, activation='relu', input_shape=X_train[0].shape))\n",
    "#função de ativação relu é muito utilizado para problemas de regressão\n",
    "modelo.add(MaxPooling2D(pool_size=(2, 2), strides=(2, 2), padding='valid'))\n",
    "modelo.add(Conv2D(64, kernel_size=3, activation='relu'))\n",
    "modelo.add(MaxPooling2D(pool_size=(2, 2), strides=(2, 2), padding='valid'))\n",
    "modelo.add(Conv2D(128, kernel_size=3, activation='relu'))\n",
    "modelo.add(MaxPooling2D(pool_size=(2, 2), strides=(2, 2), padding='valid'))\n",
    "modelo.add(Conv2D(256, kernel_size=3, activation='relu'))\n",
    "modelo.add(MaxPooling2D(pool_size=(2, 2), strides=(2, 2), padding='valid'))\n",
    "modelo.add(Flatten())\n",
    "modelo.add(Dropout(0.9))\n",
    "modelo.add(Dense(1, activation='linear'))\n",
    "#apenas uma saída e de forma linear\n",
    "modelo.compile(optimizer='adam', loss='mse', metrics=['mean_absolute_error'])\n",
    "print(modelo.summary())"
   ]
  },
  {
   "cell_type": "markdown",
   "metadata": {
    "cell_id": "00037-2bf0c5ef-7de8-431e-9901-50121ec2aa24",
    "deepnote_cell_type": "text-cell-p",
    "id": "GgX5ykJDeN1h",
    "is_collapsed": false,
    "tags": []
   },
   "source": [
    "Após correr o modelo de Redes Neurais, vamos treina-lo em algumas rodadas e verificar a acurácia."
   ]
  },
  {
   "cell_type": "markdown",
   "metadata": {
    "cell_id": "00038-03075256-1368-40a8-a9e1-89e1b1348e9c",
    "deepnote_cell_type": "text-cell-p",
    "id": "L6aLsWVleN1i",
    "is_collapsed": false,
    "tags": []
   },
   "source": [
    "Guardando&nbsp;em&nbsp;uma&nbsp;variável&nbsp;o&nbsp;treinamento&nbsp;do&nbsp;modelo&nbsp;-&nbsp;informando&nbsp;as&nbsp;imagens&nbsp;com&nbsp;as&nbsp;caracteristicas (X_treino) e junto a elas os rótulos, validando com os valores de teste em 10 rodadas"
   ]
  },
  {
   "cell_type": "code",
   "execution_count": null,
   "metadata": {
    "cell_id": "00039-c9f36df9-7a64-4024-a903-e04aa3cdba53",
    "colab": {
     "base_uri": "https://localhost:8080/"
    },
    "deepnote_cell_type": "code",
    "deepnote_to_be_reexecuted": false,
    "execution_millis": 1414850,
    "execution_start": 1633366155490,
    "id": "0X1_ONbceN1i",
    "outputId": "401b2d71-aca9-45ee-89ee-17f9a619df0c",
    "source_hash": "b6e72463",
    "tags": []
   },
   "outputs": [
    {
     "name": "stdout",
     "output_type": "stream",
     "text": [
      "Epoch 1/50\n",
      "11/11 [==============================] - 12s 987ms/step - loss: 64638.1172 - mean_absolute_error: 199.0873 - val_loss: 38855.9492 - val_mean_absolute_error: 147.1569\n",
      "Epoch 2/50\n",
      "11/11 [==============================] - 11s 968ms/step - loss: 53203.6055 - mean_absolute_error: 184.3406 - val_loss: 32464.1973 - val_mean_absolute_error: 138.5840\n",
      "Epoch 3/50\n",
      "11/11 [==============================] - 10s 957ms/step - loss: 48725.4141 - mean_absolute_error: 176.2462 - val_loss: 29766.0039 - val_mean_absolute_error: 140.5224\n",
      "Epoch 4/50\n",
      "11/11 [==============================] - 10s 957ms/step - loss: 45975.5273 - mean_absolute_error: 168.4689 - val_loss: 30829.2012 - val_mean_absolute_error: 146.2111\n",
      "Epoch 5/50\n",
      "11/11 [==============================] - 11s 959ms/step - loss: 58594.9883 - mean_absolute_error: 182.9096 - val_loss: 82608.9141 - val_mean_absolute_error: 248.1278\n",
      "Epoch 6/50\n",
      "11/11 [==============================] - 10s 957ms/step - loss: 63350.6719 - mean_absolute_error: 199.8621 - val_loss: 37837.9258 - val_mean_absolute_error: 146.0574\n",
      "Epoch 7/50\n",
      "11/11 [==============================] - 10s 950ms/step - loss: 42437.7539 - mean_absolute_error: 168.1511 - val_loss: 38452.9414 - val_mean_absolute_error: 168.5307\n",
      "Epoch 8/50\n",
      "11/11 [==============================] - 10s 949ms/step - loss: 49581.4609 - mean_absolute_error: 173.4555 - val_loss: 30002.3418 - val_mean_absolute_error: 140.7899\n",
      "Epoch 9/50\n",
      "11/11 [==============================] - 10s 956ms/step - loss: 47415.3477 - mean_absolute_error: 182.1250 - val_loss: 33577.6914 - val_mean_absolute_error: 140.6364\n",
      "Epoch 10/50\n",
      "11/11 [==============================] - 10s 952ms/step - loss: 47475.7266 - mean_absolute_error: 168.6797 - val_loss: 32490.9434 - val_mean_absolute_error: 151.9296\n",
      "Epoch 11/50\n",
      "11/11 [==============================] - 10s 954ms/step - loss: 46407.8164 - mean_absolute_error: 168.4924 - val_loss: 32706.5527 - val_mean_absolute_error: 152.6884\n",
      "Epoch 12/50\n",
      "11/11 [==============================] - 10s 954ms/step - loss: 45857.2773 - mean_absolute_error: 168.3313 - val_loss: 30456.2949 - val_mean_absolute_error: 144.2827\n",
      "Epoch 13/50\n",
      "11/11 [==============================] - 10s 952ms/step - loss: 44912.2305 - mean_absolute_error: 174.6300 - val_loss: 31958.7188 - val_mean_absolute_error: 137.8883\n",
      "Epoch 14/50\n",
      "11/11 [==============================] - 10s 957ms/step - loss: 48343.6016 - mean_absolute_error: 175.7224 - val_loss: 30360.7148 - val_mean_absolute_error: 143.8295\n",
      "Epoch 15/50\n",
      "11/11 [==============================] - 10s 953ms/step - loss: 40883.1445 - mean_absolute_error: 160.8240 - val_loss: 30820.5645 - val_mean_absolute_error: 146.0195\n",
      "Epoch 16/50\n",
      "11/11 [==============================] - 11s 961ms/step - loss: 43533.5078 - mean_absolute_error: 171.0475 - val_loss: 29889.5000 - val_mean_absolute_error: 139.2612\n",
      "Epoch 17/50\n",
      "11/11 [==============================] - 11s 959ms/step - loss: 43199.1953 - mean_absolute_error: 163.0993 - val_loss: 35021.0859 - val_mean_absolute_error: 159.7936\n",
      "Epoch 18/50\n",
      "11/11 [==============================] - 10s 957ms/step - loss: 56132.2578 - mean_absolute_error: 194.4627 - val_loss: 32957.6602 - val_mean_absolute_error: 139.6016\n",
      "Epoch 19/50\n",
      "11/11 [==============================] - 10s 951ms/step - loss: 47797.2266 - mean_absolute_error: 177.2129 - val_loss: 30146.6699 - val_mean_absolute_error: 142.5939\n",
      "Epoch 20/50\n",
      "11/11 [==============================] - 10s 953ms/step - loss: 48530.0820 - mean_absolute_error: 167.8067 - val_loss: 32389.4785 - val_mean_absolute_error: 151.4788\n",
      "Epoch 21/50\n",
      "11/11 [==============================] - 10s 951ms/step - loss: 50874.7383 - mean_absolute_error: 189.2263 - val_loss: 30522.9316 - val_mean_absolute_error: 137.8778\n",
      "Epoch 22/50\n",
      "11/11 [==============================] - 10s 951ms/step - loss: 44717.9844 - mean_absolute_error: 172.7524 - val_loss: 34541.6367 - val_mean_absolute_error: 158.4172\n",
      "Epoch 23/50\n",
      "11/11 [==============================] - 10s 949ms/step - loss: 49102.8047 - mean_absolute_error: 176.2937 - val_loss: 30007.8340 - val_mean_absolute_error: 141.8524\n",
      "Epoch 24/50\n",
      "11/11 [==============================] - 10s 959ms/step - loss: 45950.1328 - mean_absolute_error: 178.5864 - val_loss: 30060.9766 - val_mean_absolute_error: 139.2252\n",
      "Epoch 25/50\n",
      "11/11 [==============================] - 10s 948ms/step - loss: 44775.9414 - mean_absolute_error: 169.6883 - val_loss: 29967.3203 - val_mean_absolute_error: 139.3488\n",
      "Epoch 26/50\n",
      "11/11 [==============================] - 10s 946ms/step - loss: 44135.0625 - mean_absolute_error: 169.6935 - val_loss: 30895.9023 - val_mean_absolute_error: 146.2422\n",
      "Epoch 27/50\n",
      "11/11 [==============================] - 10s 945ms/step - loss: 47582.9453 - mean_absolute_error: 174.4782 - val_loss: 30353.9473 - val_mean_absolute_error: 144.0647\n",
      "Epoch 28/50\n",
      "11/11 [==============================] - 10s 947ms/step - loss: 46380.0000 - mean_absolute_error: 176.4604 - val_loss: 29925.5156 - val_mean_absolute_error: 141.8237\n",
      "Epoch 29/50\n",
      "11/11 [==============================] - 11s 972ms/step - loss: 44648.8906 - mean_absolute_error: 172.8715 - val_loss: 31058.0078 - val_mean_absolute_error: 146.9689\n",
      "Epoch 30/50\n",
      "11/11 [==============================] - 10s 952ms/step - loss: 45649.1094 - mean_absolute_error: 177.6982 - val_loss: 32370.3496 - val_mean_absolute_error: 151.4374\n",
      "Epoch 31/50\n",
      "11/11 [==============================] - 10s 952ms/step - loss: 43356.3945 - mean_absolute_error: 173.6042 - val_loss: 29618.8262 - val_mean_absolute_error: 139.0018\n",
      "Epoch 32/50\n",
      "11/11 [==============================] - 10s 949ms/step - loss: 46462.8633 - mean_absolute_error: 176.4877 - val_loss: 30196.2363 - val_mean_absolute_error: 137.4039\n",
      "Epoch 33/50\n",
      "11/11 [==============================] - 10s 947ms/step - loss: 44332.8242 - mean_absolute_error: 167.3489 - val_loss: 34108.9297 - val_mean_absolute_error: 157.3337\n",
      "Epoch 34/50\n",
      "11/11 [==============================] - 10s 952ms/step - loss: 46536.9727 - mean_absolute_error: 179.7424 - val_loss: 29938.9844 - val_mean_absolute_error: 141.9623\n",
      "Epoch 35/50\n",
      "11/11 [==============================] - 10s 953ms/step - loss: 42250.1055 - mean_absolute_error: 163.8259 - val_loss: 33343.2305 - val_mean_absolute_error: 155.0928\n",
      "Epoch 36/50\n",
      "11/11 [==============================] - 10s 950ms/step - loss: 45503.2891 - mean_absolute_error: 173.5895 - val_loss: 29844.1504 - val_mean_absolute_error: 138.7658\n",
      "Epoch 37/50\n",
      "11/11 [==============================] - 10s 947ms/step - loss: 44579.6719 - mean_absolute_error: 174.1980 - val_loss: 30487.1621 - val_mean_absolute_error: 144.9951\n",
      "Epoch 38/50\n",
      "11/11 [==============================] - 10s 948ms/step - loss: 46005.8633 - mean_absolute_error: 169.1194 - val_loss: 30866.0195 - val_mean_absolute_error: 146.4004\n",
      "Epoch 39/50\n",
      "11/11 [==============================] - 10s 953ms/step - loss: 47348.8242 - mean_absolute_error: 175.2730 - val_loss: 30172.2227 - val_mean_absolute_error: 137.3778\n",
      "Epoch 40/50\n",
      "11/11 [==============================] - 10s 947ms/step - loss: 45257.0781 - mean_absolute_error: 175.0636 - val_loss: 30181.4980 - val_mean_absolute_error: 137.4653\n",
      "Epoch 41/50\n",
      "11/11 [==============================] - 10s 958ms/step - loss: 44179.5586 - mean_absolute_error: 165.9403 - val_loss: 31701.9180 - val_mean_absolute_error: 149.3626\n",
      "Epoch 42/50\n",
      "11/11 [==============================] - 10s 949ms/step - loss: 48306.6914 - mean_absolute_error: 185.0008 - val_loss: 32556.7988 - val_mean_absolute_error: 138.6790\n",
      "Epoch 43/50\n",
      "11/11 [==============================] - 10s 948ms/step - loss: 45597.2148 - mean_absolute_error: 168.0355 - val_loss: 35071.9375 - val_mean_absolute_error: 159.9446\n",
      "Epoch 44/50\n",
      "11/11 [==============================] - 10s 950ms/step - loss: 44419.2266 - mean_absolute_error: 179.9554 - val_loss: 31789.4551 - val_mean_absolute_error: 137.2254\n",
      "Epoch 45/50\n",
      "11/11 [==============================] - 10s 952ms/step - loss: 45062.5234 - mean_absolute_error: 171.5063 - val_loss: 34268.0820 - val_mean_absolute_error: 157.8596\n",
      "Epoch 46/50\n",
      "11/11 [==============================] - 10s 950ms/step - loss: 49652.5391 - mean_absolute_error: 189.5868 - val_loss: 35929.3398 - val_mean_absolute_error: 143.5232\n",
      "Epoch 47/50\n",
      "11/11 [==============================] - 10s 951ms/step - loss: 50305.6016 - mean_absolute_error: 176.4822 - val_loss: 34327.5898 - val_mean_absolute_error: 157.9055\n",
      "Epoch 48/50\n",
      "11/11 [==============================] - 10s 950ms/step - loss: 45638.8438 - mean_absolute_error: 171.2891 - val_loss: 29780.7402 - val_mean_absolute_error: 140.1891\n",
      "Epoch 49/50\n",
      "11/11 [==============================] - 10s 949ms/step - loss: 43870.0586 - mean_absolute_error: 172.4280 - val_loss: 30505.4004 - val_mean_absolute_error: 145.0457\n",
      "Epoch 50/50\n",
      "11/11 [==============================] - 10s 949ms/step - loss: 45067.1914 - mean_absolute_error: 172.1682 - val_loss: 29875.8672 - val_mean_absolute_error: 138.0852\n"
     ]
    }
   ],
   "source": [
    "#rodadas de treinamento\n",
    "history = modelo.fit(\n",
    "                        X_train,\n",
    "                        y_train,\n",
    "                        validation_data=(X_test, y_test),\n",
    "                        epochs=50,\n",
    "                        batch_size=12\n",
    "                    )"
   ]
  },
  {
   "cell_type": "code",
   "execution_count": null,
   "metadata": {
    "id": "_zTp-9ue72pg"
   },
   "outputs": [],
   "source": [
    "#modelo.save('./../../results/model__3T3_regressao_maior_erro'+data+'.h5')"
   ]
  },
  {
   "cell_type": "markdown",
   "metadata": {
    "cell_id": "00040-4b571408-a790-4e76-99df-23a92c28cd25",
    "deepnote_cell_type": "text-cell-h2",
    "id": "GQRrFl9deN1i",
    "is_collapsed": false,
    "tags": []
   },
   "source": [
    "## Avaliação da Acurácia"
   ]
  },
  {
   "cell_type": "markdown",
   "metadata": {
    "cell_id": "00041-34c3ccbe-3463-495e-83f9-3443d7ca0445",
    "deepnote_cell_type": "text-cell-p",
    "id": "pv-EnIFseN1i",
    "is_collapsed": false,
    "tags": []
   },
   "source": [
    "Existem algumas maneiras de se avaliar a acurácia dos algoritmos, para algoritmo de regressão, as métricas mais comuns são Erro médio absoluto (MSE) não se baseia na média a partir de valores discrepantes. Erro Médio quadrático (MAE) considera os valores discrepantes entre as variáveis, apontando maior erro."
   ]
  },
  {
   "cell_type": "markdown",
   "metadata": {
    "cell_id": "00029-2d1013c4-61e6-42f9-ab51-b66729f54b1e",
    "deepnote_cell_type": "text-cell-p",
    "id": "7JA1fMG7eN1i",
    "is_collapsed": false,
    "tags": []
   },
   "source": [
    "O algoritmo avalia o valor previsto e subtraí pelo valor conhecido, depois é calculado a média entre cada valor."
   ]
  },
  {
   "cell_type": "code",
   "execution_count": null,
   "metadata": {
    "cell_id": "00046-4282754c-259e-493a-91af-ac3d19c2da8a",
    "deepnote_cell_type": "code",
    "deepnote_to_be_reexecuted": false,
    "execution_millis": 0,
    "execution_start": 1633367586426,
    "id": "RNiEGiUDeN1j",
    "source_hash": "c5059107",
    "tags": []
   },
   "outputs": [],
   "source": [
    "# #salvando o modelo\n",
    "# data = timeProcess()[1]\n",
    "# modelo.save('arquivos_text_modelo_imagens//model_camp_claro_A549_regressao'+data+'.h5')"
   ]
  },
  {
   "cell_type": "code",
   "execution_count": null,
   "metadata": {
    "cell_id": "00028-91ae04ee-eb68-410d-9d0c-a503131c11d3",
    "colab": {
     "base_uri": "https://localhost:8080/",
     "height": 295
    },
    "deepnote_cell_type": "code",
    "deepnote_output_heights": [
     280
    ],
    "deepnote_to_be_reexecuted": false,
    "execution_millis": 208,
    "execution_start": 1633367587203,
    "id": "Eck2jlzoeN1j",
    "outputId": "00520fa7-6213-4644-9dc7-2e387e9e8408",
    "source_hash": "b96ca127",
    "tags": []
   },
   "outputs": [
    {
     "data": {
      "image/png": "[encoded data removed]",
      "text/plain": [
       "<Figure size 432x288 with 1 Axes>"
      ]
     },
     "metadata": {
      "needs_background": "light"
     },
     "output_type": "display_data"
    }
   ],
   "source": [
    "#gráfico avaliando a acurácia a partir de treino e teste\n",
    "plt.plot(history.history['mean_absolute_error'])\n",
    "plt.plot(history.history['val_mean_absolute_error'])\n",
    "plt.title('model accuracy')\n",
    "plt.ylabel('accuracy')\n",
    "plt.xlabel('epoch')\n",
    "plt.legend(['train', 'test'], loc='upper left')\n",
    "plt.show()"
   ]
  },
  {
   "cell_type": "code",
   "execution_count": null,
   "metadata": {
    "cell_id": "00029-fcafda94-1f62-4b1d-99f9-8e40571aa205",
    "colab": {
     "base_uri": "https://localhost:8080/",
     "height": 265
    },
    "deepnote_cell_type": "code",
    "deepnote_output_heights": [
     250
    ],
    "deepnote_to_be_reexecuted": false,
    "execution_millis": 5295,
    "execution_start": 1633367597958,
    "id": "-sH1Gs9feN1j",
    "outputId": "cc7e0b32-bccc-4720-b266-8a52125c9bd4",
    "source_hash": "96e272ff",
    "tags": []
   },
   "outputs": [
    {
     "data": {
      "image/png": "[encoded data removed]",
      "text/plain": [
       "<Figure size 432x288 with 1 Axes>"
      ]
     },
     "metadata": {
      "needs_background": "light"
     },
     "output_type": "display_data"
    }
   ],
   "source": [
    "#avaliando a previsão do modelo com os rótulos\n",
    "prev = modelo.predict(X_test)\n",
    "plt.plot(prev)\n",
    "plt.plot(y_test)\n",
    "plt.show()"
   ]
  },
  {
   "cell_type": "code",
   "execution_count": null,
   "metadata": {
    "cell_id": "00033-3b921652-22b5-46af-af23-62828b82b8a7",
    "deepnote_cell_type": "code",
    "deepnote_to_be_reexecuted": true,
    "execution_millis": 2,
    "execution_start": 1633026300082,
    "id": "0ilqEWnzeN1j",
    "source_hash": "b623e53d",
    "tags": []
   },
   "outputs": [],
   "source": []
  },
  {
   "cell_type": "code",
   "execution_count": null,
   "metadata": {
    "cell_id": "00029-d40ab35b-5c84-4bf2-aaee-8420ac763fd8",
    "deepnote_cell_type": "code",
    "deepnote_to_be_reexecuted": false,
    "execution_millis": 0,
    "execution_start": 1633367609115,
    "id": "gZWBdzAheN1k",
    "source_hash": "3b8f2163",
    "tags": []
   },
   "outputs": [],
   "source": [
    "# Qualit model analisys\n",
    "from sklearn.metrics import r2_score,mean_absolute_error, mean_squared_error, mean_squared_log_error, median_absolute_error"
   ]
  },
  {
   "cell_type": "code",
   "execution_count": null,
   "metadata": {
    "cell_id": "00047-d1f881d6-14d2-4951-97bc-8bb45c6a2252",
    "colab": {
     "base_uri": "https://localhost:8080/"
    },
    "deepnote_cell_type": "code",
    "deepnote_to_be_reexecuted": false,
    "execution_millis": 17,
    "execution_start": 1633367613280,
    "id": "tyEUOU_meN1k",
    "outputId": "4bc95097-2635-4697-faee-b8fbc3d56611",
    "source_hash": "7d8190e2",
    "tags": []
   },
   "outputs": [
    {
     "name": "stdout",
     "output_type": "stream",
     "text": [
      "-5.01% r2_score\n",
      "138.09 Erro médio absoluto\n",
      "0.6 Erro médio quadrático\n"
     ]
    }
   ],
   "source": [
    "#buscando pelas métricas\n",
    "print(f\"{round(r2_score(y_test, prev) * 100, 2)}% r2_score\") #raíz quadrada\n",
    "print(f\"{round(mean_absolute_error(y_test, prev), 2)} Erro médio absoluto\") \n",
    "print(f\"{round(mean_squared_log_error(y_test, prev), 2)} Erro médio quadrático\") #erro médio quadrático\n",
    "# print(f\"{round(median_absolute_error(y_test, prev), 2)}\")#Erro médio absoluto sem %\n",
    "\n"
   ]
  },
  {
   "cell_type": "code",
   "execution_count": null,
   "metadata": {
    "cell_id": "00035-9ffbd557-0627-4061-9b97-3b163a330706",
    "colab": {
     "base_uri": "https://localhost:8080/"
    },
    "deepnote_cell_type": "code",
    "deepnote_output_heights": [
     20.65625
    ],
    "deepnote_to_be_reexecuted": false,
    "execution_millis": 12,
    "execution_start": 1633367620410,
    "id": "V-9-6CUNeN1k",
    "outputId": "6d2c9fad-aa99-4fca-800f-fd158853a328",
    "source_hash": "bec942ae",
    "tags": []
   },
   "outputs": [
    {
     "data": {
      "text/plain": [
       "138.08521313937206"
      ]
     },
     "execution_count": 26,
     "metadata": {},
     "output_type": "execute_result"
    }
   ],
   "source": [
    "mean_absolute_error(y_test, prev)"
   ]
  },
  {
   "cell_type": "code",
   "execution_count": null,
   "metadata": {
    "cell_id": "00035-bac3899c-a659-4a73-8893-610cebe6993e",
    "deepnote_cell_type": "code",
    "deepnote_to_be_reexecuted": false,
    "execution_millis": 13,
    "execution_start": 1633367651861,
    "id": "lyCYzFyqeN1k",
    "outputId": "7b5f1b4c-ca52-442d-80b0-236be281952d",
    "source_hash": "89dfb76d",
    "tags": []
   },
   "outputs": [
    {
     "name": "stdout",
     "output_type": "stream",
     "text": [
      "193.86\n"
     ]
    }
   ],
   "source": [
    "print(f\"{round(mean_absolute_error(y_test, prev), 2)}\") #erro médio absoluto\n"
   ]
  },
  {
   "cell_type": "code",
   "execution_count": null,
   "metadata": {
    "cell_id": "00036-7ae14acb-8833-4e34-b97f-a455be5b70d5",
    "deepnote_cell_type": "code",
    "deepnote_to_be_reexecuted": false,
    "execution_millis": 8,
    "execution_start": 1633367662832,
    "id": "y14T-LLPeN1l",
    "outputId": "d82eb159-59ac-497f-8dc5-92ace69f934d",
    "source_hash": "874d8777",
    "tags": []
   },
   "outputs": [
    {
     "name": "stdout",
     "output_type": "stream",
     "text": [
      "0.06\n"
     ]
    }
   ],
   "source": [
    "print(f\"{round(mean_squared_log_error(y_test, prev), 2)}\") #erro médio quadrático\n"
   ]
  }
 ],
 "metadata": {
  "colab": {
   "collapsed_sections": [],
   "name": "CNN_MSE_3T3_Greatest_error.ipynb",
   "provenance": []
  },
  "deepnote": {
   "is_reactive": false
  },
  "deepnote_execution_queue": [],
  "deepnote_notebook_id": "584901cd-d49a-4b58-a71a-e5a8d1bde069",
  "kernelspec": {
   "display_name": "Python 3 (ipykernel)",
   "language": "python",
   "name": "python3"
  },
  "language_info": {
   "codemirror_mode": {
    "name": "ipython",
    "version": 3
   },
   "file_extension": ".py",
   "mimetype": "text/x-python",
   "name": "python",
   "nbconvert_exporter": "python",
   "pygments_lexer": "ipython3",
   "version": "3.7.9"
  }
 },
 "nbformat": 4,
 "nbformat_minor": 4
}
