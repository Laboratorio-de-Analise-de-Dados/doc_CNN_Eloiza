{
 "cells": [
  {
   "cell_type": "markdown",
   "metadata": {
    "cell_id": "00000-288de0bc-8cc2-4998-872c-01f58e6fa085",
    "deepnote_cell_type": "text-cell-h1",
    "id": "_ZJEgBd_bGcS",
    "is_collapsed": false,
    "tags": []
   },
   "source": [
    "# Linhagem Huh7"
   ]
  },
  {
   "cell_type": "markdown",
   "metadata": {
    "cell_id": "00000-9bdebeb7-f4c3-4b52-9360-68ef655b9779",
    "deepnote_cell_type": "text-cell-h1",
    "id": "1-JBJGHBbGcW",
    "is_collapsed": false,
    "tags": []
   },
   "source": [
    "# Importações estruturação dos dados"
   ]
  },
  {
   "cell_type": "code",
   "execution_count": 1,
   "metadata": {
    "cell_id": "00001-972e581c-6be2-452a-9163-ba15e69acd0d",
    "deepnote_cell_type": "code",
    "deepnote_to_be_reexecuted": false,
    "execution_millis": 748,
    "execution_start": 1633461500805,
    "id": "CV63ik7obGcX",
    "source_hash": "64fc40d5",
    "tags": []
   },
   "outputs": [],
   "source": [
    "#organização dos arquivos\n",
    "import os\n",
    "#salvar/carregar arquivos em diferentes formatos\n",
    "import joblib\n",
    "#organizando os arquivos de forma aleatória\n",
    "import random\n",
    "#gerar gráfico\n",
    "import matplotlib\n",
    "#estruturação dos dados\n",
    "import numpy as np\n",
    "#gerar gráfico\n",
    "import seaborn as sns\n",
    "#gerar gráfico\n",
    "import matplotlib.pyplot as plt\n",
    "#gerar imagem\n",
    "import matplotlib.image as mpimg"
   ]
  },
  {
   "cell_type": "markdown",
   "metadata": {
    "cell_id": "00002-9d58b1f9-b49b-45eb-a495-16f3ad253dcc",
    "deepnote_cell_type": "text-cell-h1",
    "id": "4e8N7mCxbGcY",
    "is_collapsed": false,
    "tags": []
   },
   "source": [
    "# Importação do modelo de CNN"
   ]
  },
  {
   "cell_type": "code",
   "execution_count": 2,
   "metadata": {
    "cell_id": "00003-87f289b7-d2cd-4f4c-9db8-bdb01a8452d9",
    "deepnote_cell_type": "code",
    "deepnote_to_be_reexecuted": false,
    "execution_millis": 1990,
    "execution_start": 1633461502575,
    "id": "WynDC0gxbGcZ",
    "source_hash": "654178fe",
    "tags": []
   },
   "outputs": [
    {
     "name": "stderr",
     "output_type": "stream",
     "text": [
      "2022-08-05 18:45:02.852898: W tensorflow/stream_executor/platform/default/dso_loader.cc:60] Could not load dynamic library 'libcudart.so.11.0'; dlerror: libcudart.so.11.0: cannot open shared object file: No such file or directory\n",
      "2022-08-05 18:45:02.853008: I tensorflow/stream_executor/cuda/cudart_stub.cc:29] Ignore above cudart dlerror if you do not have a GPU set up on your machine.\n"
     ]
    }
   ],
   "source": [
    "#modelo de revisão redes neurais - cnn\n",
    "from keras.models import Sequential\n",
    "from keras.utils.np_utils import to_categorical\n",
    "#from keras.utils import to_categorical\n",
    "from util import meus_uteis, timeProcess, mask_corr_graphic, printLis\n",
    "from sklearn.metrics import confusion_matrix, accuracy_score, classification_report\n",
    "from keras.layers import Dense, Conv2D, MaxPooling2D, Dropout, Flatten"
   ]
  },
  {
   "cell_type": "code",
   "execution_count": 3,
   "metadata": {
    "cell_id": "00005-12ddf809-8cd5-457c-8838-0469b9db7e9e",
    "colab": {
     "base_uri": "https://localhost:8080/"
    },
    "deepnote_cell_type": "code",
    "deepnote_to_be_reexecuted": false,
    "execution_millis": 17,
    "execution_start": 1633461509648,
    "id": "lcFkLQOkbGcZ",
    "outputId": "2a6b54d4-5a8c-477a-d80f-7e98fd5e2fe9",
    "source_hash": "38a38df5",
    "tags": []
   },
   "outputs": [
    {
     "name": "stdout",
     "output_type": "stream",
     "text": [
      "-------------\n",
      "-=< Lista >=-\n",
      "-------------\n",
      "0 -> 10_images_de_X_test_huh7_melhor_modelo_500_epochs_2022-6-30.gz\n",
      "1 -> 11_images_de_y_test_huh7_melhor_modelo_500_epochs_2022-6-30.gz\n",
      "2 -> 12_lista_img_camp_clar_100_resized_regressao_huh7_samehuh72021-10-25.gz\n",
      "3 -> 13_lista_rotulo_camp_clar_100_resized_regressao_huh7_samehuh72021-10-25.gz\n",
      "4 -> 14_model__huh7_regressao_MAIOR_erro_Mean_squared_error_500_epochs2022-6-30.h5\n",
      "5 -> 15_images_de_X_test_huh7_PIOR_modelo_500_epochs_2022-6-30.gz\n",
      "6 -> 16_images_de_y_test_huh7_PIOR_modelo_500_epochs_2022-6-30.gz\n",
      "7 -> 1_lista_img_camp_clar_100_resized_regressao_huh72021-11-9.gz\n",
      "8 -> 2_lista_img_camp_clar_75_resized_regressao_HUH72021-11-9.gz\n",
      "9 -> 3_lista_img_camp_clar_50_resized_regressao_HUH72021-11-9.gz\n",
      "10 -> 4_lista_img_camp_clar_25_resized_regressao_HUH72021-11-9.gz\n",
      "11 -> 5_lista_rotulo_camp_clar_100_resized_regressao_huh72021-11-9.gz\n",
      "12 -> 6_lista_rotulo_camp_clar_75_resized_regressao_HUH72021-11-9.gz\n",
      "13 -> 7_lista_rotulo_camp_clar_50_resized_regressao_HUH72021-11-9.gz\n",
      "14 -> 8_lista_rotulo_camp_clar_25_resized_regressao_HUH72021-11-9.gz\n",
      "15 -> 9_model__huh7_regressao_menor_erro_Mean_squared_error_500_epochs2022-6-30.h5\n"
     ]
    }
   ],
   "source": [
    "diretorio = '/data/results/results_Huh7' #alimentando a variável com os arquivos da pasta datasets\n",
    "lista_dados = os.listdir(diretorio) #listando os arquivos dessa pasta\n",
    "printLis(lista_dados) #printando as diferentes listas"
   ]
  },
  {
   "cell_type": "markdown",
   "metadata": {
    "cell_id": "00006-0467cef1-28ae-4132-99f4-52e3f6dd56cd",
    "deepnote_cell_type": "text-cell-p",
    "id": "vPC0fOfubGcb",
    "is_collapsed": false,
    "tags": []
   },
   "source": [
    "Para regressão, foi salvo 284 imagens a partir de 71 imagens originais"
   ]
  },
  {
   "cell_type": "code",
   "execution_count": 4,
   "metadata": {
    "cell_id": "00007-fe91ac12-233a-4a55-ae7d-0db6c6ede293",
    "colab": {
     "base_uri": "https://localhost:8080/"
    },
    "deepnote_cell_type": "code",
    "deepnote_output_heights": [
     20.65625
    ],
    "deepnote_to_be_reexecuted": false,
    "execution_millis": 266,
    "execution_start": 1633461580643,
    "id": "FevzUzkFbGcb",
    "outputId": "4f64b855-bdd4-4873-9e75-4df981d9daa6",
    "source_hash": "eec15ce2",
    "tags": []
   },
   "outputs": [
    {
     "data": {
      "text/plain": [
       "(176, 200, 200, 3)"
      ]
     },
     "execution_count": 4,
     "metadata": {},
     "output_type": "execute_result"
    }
   ],
   "source": [
    "#lista same Huh7\n",
    "imagem_camp_claro = joblib.load(diretorio+ '/' + lista_dados[2])\n",
    "imagem_camp_claro.shape #apresentando 4000 imagens de 108x108, 3 rgb"
   ]
  },
  {
   "cell_type": "markdown",
   "metadata": {
    "cell_id": "00020-687c50fe-7fed-478b-a9be-756ca0cd90e0",
    "deepnote_cell_type": "text-cell-h2",
    "id": "qs5ycA9MbGcc",
    "is_collapsed": false,
    "tags": []
   },
   "source": [
    "## x = características/imagens"
   ]
  },
  {
   "cell_type": "code",
   "execution_count": 5,
   "metadata": {
    "cell_id": "00021-c1e78082-8e7d-42a8-93d0-3be74afe9ac6",
    "colab": {
     "base_uri": "https://localhost:8080/"
    },
    "deepnote_cell_type": "code",
    "deepnote_output_heights": [
     20.65625
    ],
    "deepnote_to_be_reexecuted": false,
    "execution_millis": 8,
    "execution_start": 1633461594864,
    "id": "gBqs1E_BbGcc",
    "outputId": "549d7278-c9b1-4e5a-9687-ae4c76ea7ac2",
    "source_hash": "3d92fdb4",
    "tags": []
   },
   "outputs": [
    {
     "data": {
      "text/plain": [
       "(176, 200, 200, 3)"
      ]
     },
     "execution_count": 5,
     "metadata": {},
     "output_type": "execute_result"
    }
   ],
   "source": [
    "#somando cada lista gerada acima e salvando em um array\n",
    "x = np.asarray(imagem_camp_claro) #abriando em array as imagens\n",
    "x.shape #x - características (labels) "
   ]
  },
  {
   "cell_type": "markdown",
   "metadata": {
    "cell_id": "00023-576d3772-7256-4c8b-8f4a-ce2a27447373",
    "deepnote_cell_type": "text-cell-p",
    "id": "zgDyoeBjbGcd",
    "is_collapsed": false,
    "tags": []
   },
   "source": [
    "Vamos definir nossos rótulos (y)"
   ]
  },
  {
   "cell_type": "markdown",
   "metadata": {
    "cell_id": "00024-2a52cddd-d57a-43ea-b19b-79d121441438",
    "deepnote_cell_type": "text-cell-h2",
    "id": "5V7IwP4CbGcd",
    "is_collapsed": false,
    "tags": []
   },
   "source": [
    "## y = rótulos"
   ]
  },
  {
   "cell_type": "markdown",
   "metadata": {
    "cell_id": "00013-59c042e6-ccc7-4e8a-8ad0-93c47d0dfc93",
    "deepnote_cell_type": "text-cell-p",
    "id": "eB8TQqr5bGce",
    "is_collapsed": false,
    "tags": []
   },
   "source": [
    "Abrindo os rótulos que foram salvos na preparação das imagens"
   ]
  },
  {
   "cell_type": "code",
   "execution_count": 6,
   "metadata": {
    "cell_id": "00013-5ec0ed10-07d6-4cea-83a0-cdaaa4b9309e",
    "colab": {
     "base_uri": "https://localhost:8080/"
    },
    "deepnote_cell_type": "code",
    "deepnote_output_heights": [
     20.65625
    ],
    "deepnote_to_be_reexecuted": false,
    "execution_millis": 14,
    "execution_start": 1633366091444,
    "id": "dz49TxRvbGce",
    "outputId": "c383bc7b-f7e1-4111-de67-bde9abf2f6b9",
    "source_hash": "18408477",
    "tags": []
   },
   "outputs": [
    {
     "data": {
      "text/plain": [
       "(176,)"
      ]
     },
     "execution_count": 6,
     "metadata": {},
     "output_type": "execute_result"
    }
   ],
   "source": [
    "#rotulo same Huh7\n",
    "y_rotulo = joblib.load(diretorio+ '/' + lista_dados[3]) #carregando os rotulos\n",
    "y = np.asarray(y_rotulo)\n",
    "y.shape"
   ]
  },
  {
   "cell_type": "code",
   "execution_count": null,
   "metadata": {
    "cell_id": "00015-e899e30c-5063-4ed5-a36e-c96cfd7154c8",
    "deepnote_cell_type": "code",
    "deepnote_to_be_reexecuted": false,
    "execution_millis": 14,
    "execution_start": 1633366123142,
    "id": "UYkcWY07bGcf",
    "source_hash": "abcd6da",
    "tags": []
   },
   "outputs": [],
   "source": [
    "#Train and test split datasets for CNN model\n",
    "#função que separa as imagens em teste e treino\n",
    "from sklearn.model_selection import train_test_split"
   ]
  },
  {
   "cell_type": "markdown",
   "metadata": {
    "cell_id": "00016-1914ad8b-dfb9-4d5b-9644-47b675be2c68",
    "deepnote_cell_type": "text-cell-p",
    "id": "6Li2-wMMbGcf",
    "is_collapsed": false,
    "tags": []
   },
   "source": [
    "Separação de teste e treino a partir de uma biblioteca."
   ]
  },
  {
   "cell_type": "code",
   "execution_count": null,
   "metadata": {
    "cell_id": "00015-8ddea1cc-fc2b-4056-aea9-bb22914790fe",
    "colab": {
     "base_uri": "https://localhost:8080/"
    },
    "deepnote_cell_type": "code",
    "deepnote_to_be_reexecuted": false,
    "execution_millis": 45,
    "execution_start": 1633366126594,
    "id": "2EocrXYnbGcf",
    "outputId": "112157e9-e812-43b2-d39d-e5d000f6a5f1",
    "source_hash": "2984b900",
    "tags": []
   },
   "outputs": [
    {
     "name": "stdout",
     "output_type": "stream",
     "text": [
      "(123, 200, 200, 3) \n",
      "(53, 200, 200, 3) \n",
      "(123,) \n",
      "(53,)\n"
     ]
    }
   ],
   "source": [
    "X_train, X_test, y_train, y_test = train_test_split(x, y, test_size=0.3, random_state=0)\n",
    "#variáveis recebem o número de imagens para tes e treino\n",
    "print(f'{X_train.shape} \\n{X_test.shape} \\n{y_train.shape} \\n{y_test.shape}')"
   ]
  },
  {
   "cell_type": "code",
   "execution_count": null,
   "metadata": {
    "colab": {
     "base_uri": "https://localhost:8080/"
    },
    "id": "kd1-p50-cLKO",
    "outputId": "e72c060c-f8cf-4745-e97d-41beffe88de0"
   },
   "outputs": [
    {
     "data": {
      "text/plain": [
       "['/content/drive/MyDrive/1_Informações_scripts//3_images_de_X_train_huh7_pior_modelo.gz']"
      ]
     },
     "execution_count": 13,
     "metadata": {},
     "output_type": "execute_result"
    }
   ],
   "source": [
    "#joblib.dump(X_train, './../../results/3_images_de_X_train_huh7_pior_modelo.gz')"
   ]
  },
  {
   "cell_type": "code",
   "execution_count": null,
   "metadata": {
    "colab": {
     "base_uri": "https://localhost:8080/"
    },
    "id": "VDE298EUcK-p",
    "outputId": "b6e82a46-843c-4c08-e070-e41a7779283c"
   },
   "outputs": [
    {
     "data": {
      "text/plain": [
       "['/content/drive/MyDrive/1_Informações_scripts//3_images_de_y_train_huh7_pior_modelo.gz']"
      ]
     },
     "execution_count": 14,
     "metadata": {},
     "output_type": "execute_result"
    }
   ],
   "source": [
    "#joblib.dump(y_train, './../../results/3_images_de_y_train_huh7_pior_modelo.gz')"
   ]
  },
  {
   "cell_type": "code",
   "execution_count": null,
   "metadata": {
    "colab": {
     "base_uri": "https://localhost:8080/"
    },
    "id": "8N3X3XZ5cKyo",
    "outputId": "af6169f8-d43d-4c5d-c5aa-4d4da129f503"
   },
   "outputs": [
    {
     "data": {
      "text/plain": [
       "['/content/drive/MyDrive/1_Informações_scripts//4_images_de_X_test_huh7_pior_modelo.gz']"
      ]
     },
     "execution_count": 15,
     "metadata": {},
     "output_type": "execute_result"
    }
   ],
   "source": [
    "#joblib.dump(X_test, './../../results/4_images_de_X_test_huh7_pior_modelo.gz')"
   ]
  },
  {
   "cell_type": "code",
   "execution_count": null,
   "metadata": {
    "colab": {
     "base_uri": "https://localhost:8080/"
    },
    "id": "s_6YGMMgcKmb",
    "outputId": "3f4db4e8-1acc-4036-f711-3f49359c92c8"
   },
   "outputs": [
    {
     "data": {
      "text/plain": [
       "['/content/drive/MyDrive/1_Informações_scripts//4_images_de_y_test_huh7_pior_modelo.gz']"
      ]
     },
     "execution_count": 16,
     "metadata": {},
     "output_type": "execute_result"
    }
   ],
   "source": [
    "#joblib.dump(y_test, './../../results/4_images_de_y_test_huh7_pior_modelo.gz')"
   ]
  },
  {
   "cell_type": "markdown",
   "metadata": {
    "cell_id": "00028-b7da895f-49eb-43aa-affa-0ab9581095b8",
    "deepnote_cell_type": "text-cell-p",
    "id": "eyt_bHYQbGcf",
    "is_collapsed": false,
    "tags": []
   },
   "source": [
    "Para treinar o modelo, geralmente é selecionada 30% das imagens para o treino e 70% para teste. Para isso, as imagens são guardadas em uma variável de teste (somente 30%) e o restante vai para o treino."
   ]
  },
  {
   "cell_type": "markdown",
   "metadata": {
    "cell_id": "00020-643aca93-ac54-4b42-a96b-0d9cb3766c07",
    "deepnote_cell_type": "text-cell-h3",
    "id": "G-HbSnQ7bGcg",
    "is_collapsed": false,
    "tags": []
   },
   "source": [
    "### Determinação do modelo"
   ]
  },
  {
   "cell_type": "code",
   "execution_count": null,
   "metadata": {
    "cell_id": "00021-7cc62f7e-3524-4624-ad1c-28768879074d",
    "colab": {
     "base_uri": "https://localhost:8080/"
    },
    "deepnote_cell_type": "code",
    "deepnote_to_be_reexecuted": false,
    "execution_millis": 124,
    "execution_start": 1633366142373,
    "id": "mVGmN3kxbGcg",
    "outputId": "11eb5080-6491-4721-bbe4-9e87877f44ef",
    "source_hash": "fcfd5f57",
    "tags": []
   },
   "outputs": [
    {
     "name": "stdout",
     "output_type": "stream",
     "text": [
      "Model: \"sequential\"\n",
      "_________________________________________________________________\n",
      " Layer (type)                Output Shape              Param #   \n",
      "=================================================================\n",
      " conv2d (Conv2D)             (None, 198, 198, 32)      896       \n",
      "                                                                 \n",
      " max_pooling2d (MaxPooling2D  (None, 99, 99, 32)       0         \n",
      " )                                                               \n",
      "                                                                 \n",
      " conv2d_1 (Conv2D)           (None, 97, 97, 64)        18496     \n",
      "                                                                 \n",
      " max_pooling2d_1 (MaxPooling  (None, 48, 48, 64)       0         \n",
      " 2D)                                                             \n",
      "                                                                 \n",
      " conv2d_2 (Conv2D)           (None, 46, 46, 128)       73856     \n",
      "                                                                 \n",
      " max_pooling2d_2 (MaxPooling  (None, 23, 23, 128)      0         \n",
      " 2D)                                                             \n",
      "                                                                 \n",
      " conv2d_3 (Conv2D)           (None, 21, 21, 256)       295168    \n",
      "                                                                 \n",
      " max_pooling2d_3 (MaxPooling  (None, 10, 10, 256)      0         \n",
      " 2D)                                                             \n",
      "                                                                 \n",
      " flatten (Flatten)           (None, 25600)             0         \n",
      "                                                                 \n",
      " dropout (Dropout)           (None, 25600)             0         \n",
      "                                                                 \n",
      " dense (Dense)               (None, 1)                 25601     \n",
      "                                                                 \n",
      "=================================================================\n",
      "Total params: 414,017\n",
      "Trainable params: 414,017\n",
      "Non-trainable params: 0\n",
      "_________________________________________________________________\n",
      "None\n"
     ]
    }
   ],
   "source": [
    "modelo = Sequential()\n",
    "modelo.add(Conv2D(32, kernel_size=3, activation='relu', input_shape=X_train[0].shape))\n",
    "#função de ativação relu é muito utilizado para problemas de regressão\n",
    "modelo.add(MaxPooling2D(pool_size=(2, 2), strides=(2, 2), padding='valid'))\n",
    "modelo.add(Conv2D(64, kernel_size=3, activation='relu'))\n",
    "modelo.add(MaxPooling2D(pool_size=(2, 2), strides=(2, 2), padding='valid'))\n",
    "modelo.add(Conv2D(128, kernel_size=3, activation='relu'))\n",
    "modelo.add(MaxPooling2D(pool_size=(2, 2), strides=(2, 2), padding='valid'))\n",
    "modelo.add(Conv2D(256, kernel_size=3, activation='relu'))\n",
    "modelo.add(MaxPooling2D(pool_size=(2, 2), strides=(2, 2), padding='valid'))\n",
    "modelo.add(Flatten())\n",
    "modelo.add(Dropout(0.9))\n",
    "modelo.add(Dense(1, activation='linear'))\n",
    "#apenas uma saída e de forma linear\n",
    "modelo.compile(optimizer='adam', loss='mse', metrics=['mean_absolute_error'])\n",
    "print(modelo.summary())"
   ]
  },
  {
   "cell_type": "markdown",
   "metadata": {
    "cell_id": "00037-2bf0c5ef-7de8-431e-9901-50121ec2aa24",
    "deepnote_cell_type": "text-cell-p",
    "id": "UGTHnyvlbGcg",
    "is_collapsed": false,
    "tags": []
   },
   "source": [
    "Após correr o modelo de Redes Neurais, vamos treina-lo em algumas rodadas e verificar a acurácia."
   ]
  },
  {
   "cell_type": "markdown",
   "metadata": {
    "cell_id": "00038-03075256-1368-40a8-a9e1-89e1b1348e9c",
    "deepnote_cell_type": "text-cell-p",
    "id": "HRLw9siAbGch",
    "is_collapsed": false,
    "tags": []
   },
   "source": [
    "Guardando&nbsp;em&nbsp;uma&nbsp;variável&nbsp;o&nbsp;treinamento&nbsp;do&nbsp;modelo&nbsp;-&nbsp;informando&nbsp;as&nbsp;imagens&nbsp;com&nbsp;as&nbsp;caracteristicas (X_treino) e junto a elas os rótulos, validando com os valores de teste em 10 rodadas"
   ]
  },
  {
   "cell_type": "code",
   "execution_count": null,
   "metadata": {
    "cell_id": "00039-c9f36df9-7a64-4024-a903-e04aa3cdba53",
    "colab": {
     "base_uri": "https://localhost:8080/"
    },
    "deepnote_cell_type": "code",
    "deepnote_to_be_reexecuted": false,
    "execution_millis": 1414850,
    "execution_start": 1633366155490,
    "id": "bMqqOCYnbGch",
    "outputId": "7bbab345-9068-4685-e823-4ddfb17655ee",
    "source_hash": "b6e72463",
    "tags": []
   },
   "outputs": [
    {
     "name": "stdout",
     "output_type": "stream",
     "text": [
      "Epoch 1/50\n",
      "11/11 [==============================] - 13s 1s/step - loss: 255035.3281 - mean_absolute_error: 391.8499 - val_loss: 102324.8359 - val_mean_absolute_error: 216.6875\n",
      "Epoch 2/50\n",
      "11/11 [==============================] - 12s 1s/step - loss: 97868.1641 - mean_absolute_error: 236.9522 - val_loss: 100913.2578 - val_mean_absolute_error: 216.0422\n",
      "Epoch 3/50\n",
      "11/11 [==============================] - 13s 1s/step - loss: 74585.6875 - mean_absolute_error: 209.7563 - val_loss: 103213.9609 - val_mean_absolute_error: 228.8837\n",
      "Epoch 4/50\n",
      "11/11 [==============================] - 12s 1s/step - loss: 68159.1484 - mean_absolute_error: 199.5978 - val_loss: 97399.3203 - val_mean_absolute_error: 213.5029\n",
      "Epoch 5/50\n",
      "11/11 [==============================] - 12s 1s/step - loss: 72438.8125 - mean_absolute_error: 186.1348 - val_loss: 91283.8047 - val_mean_absolute_error: 205.0888\n",
      "Epoch 6/50\n",
      "11/11 [==============================] - 12s 1s/step - loss: 63286.5625 - mean_absolute_error: 194.9223 - val_loss: 93150.2578 - val_mean_absolute_error: 228.4812\n",
      "Epoch 7/50\n",
      "11/11 [==============================] - 12s 1s/step - loss: 84921.8047 - mean_absolute_error: 220.2438 - val_loss: 85115.3281 - val_mean_absolute_error: 199.6614\n",
      "Epoch 8/50\n",
      "11/11 [==============================] - 12s 1s/step - loss: 63591.2812 - mean_absolute_error: 178.3277 - val_loss: 160731.6250 - val_mean_absolute_error: 337.8863\n",
      "Epoch 9/50\n",
      "11/11 [==============================] - 12s 1s/step - loss: 71018.3672 - mean_absolute_error: 203.4854 - val_loss: 111208.1484 - val_mean_absolute_error: 270.1281\n",
      "Epoch 10/50\n",
      "11/11 [==============================] - 12s 1s/step - loss: 80116.8047 - mean_absolute_error: 214.7934 - val_loss: 88197.0625 - val_mean_absolute_error: 228.5456\n",
      "Epoch 11/50\n",
      "11/11 [==============================] - 12s 1s/step - loss: 77189.0391 - mean_absolute_error: 205.9926 - val_loss: 114985.8516 - val_mean_absolute_error: 280.8459\n",
      "Epoch 12/50\n",
      "11/11 [==============================] - 11s 1s/step - loss: 68145.5547 - mean_absolute_error: 196.8371 - val_loss: 81095.7734 - val_mean_absolute_error: 213.7442\n",
      "Epoch 13/50\n",
      "11/11 [==============================] - 12s 1s/step - loss: 50663.7188 - mean_absolute_error: 168.0864 - val_loss: 67928.6562 - val_mean_absolute_error: 186.1272\n",
      "Epoch 14/50\n",
      "11/11 [==============================] - 12s 1s/step - loss: 48521.2266 - mean_absolute_error: 165.4585 - val_loss: 280763.1250 - val_mean_absolute_error: 471.9154\n",
      "Epoch 15/50\n",
      "11/11 [==============================] - 11s 1s/step - loss: 64915.0312 - mean_absolute_error: 195.7965 - val_loss: 79130.1953 - val_mean_absolute_error: 205.8557\n",
      "Epoch 16/50\n",
      "11/11 [==============================] - 11s 1s/step - loss: 52435.6367 - mean_absolute_error: 178.6587 - val_loss: 187781.7031 - val_mean_absolute_error: 360.1408\n",
      "Epoch 17/50\n",
      "11/11 [==============================] - 11s 1s/step - loss: 78610.5781 - mean_absolute_error: 216.2857 - val_loss: 100066.0078 - val_mean_absolute_error: 251.7332\n",
      "Epoch 18/50\n",
      "11/11 [==============================] - 11s 1s/step - loss: 72806.5625 - mean_absolute_error: 205.5284 - val_loss: 101486.1328 - val_mean_absolute_error: 254.5350\n",
      "Epoch 19/50\n",
      "11/11 [==============================] - 17s 2s/step - loss: 65239.9023 - mean_absolute_error: 194.3394 - val_loss: 97635.7109 - val_mean_absolute_error: 247.5047\n",
      "Epoch 20/50\n",
      "11/11 [==============================] - 12s 1s/step - loss: 54600.7617 - mean_absolute_error: 169.9613 - val_loss: 84488.5547 - val_mean_absolute_error: 221.9728\n",
      "Epoch 21/50\n",
      "11/11 [==============================] - 11s 1s/step - loss: 62416.7617 - mean_absolute_error: 190.5884 - val_loss: 69462.4219 - val_mean_absolute_error: 202.2785\n",
      "Epoch 22/50\n",
      "11/11 [==============================] - 11s 1s/step - loss: 50678.2461 - mean_absolute_error: 164.6913 - val_loss: 58016.6055 - val_mean_absolute_error: 166.4604\n",
      "Epoch 23/50\n",
      "11/11 [==============================] - 11s 1s/step - loss: 42434.4883 - mean_absolute_error: 155.4904 - val_loss: 75636.2812 - val_mean_absolute_error: 241.2586\n",
      "Epoch 24/50\n",
      "11/11 [==============================] - 11s 1s/step - loss: 68484.6641 - mean_absolute_error: 203.9922 - val_loss: 63484.0234 - val_mean_absolute_error: 175.1244\n",
      "Epoch 25/50\n",
      "11/11 [==============================] - 11s 1s/step - loss: 72958.9766 - mean_absolute_error: 200.1163 - val_loss: 53846.3203 - val_mean_absolute_error: 152.3357\n",
      "Epoch 26/50\n",
      "11/11 [==============================] - 11s 1s/step - loss: 45651.5430 - mean_absolute_error: 164.9609 - val_loss: 65608.1250 - val_mean_absolute_error: 213.6853\n",
      "Epoch 27/50\n",
      "11/11 [==============================] - 13s 1s/step - loss: 34742.8242 - mean_absolute_error: 143.2249 - val_loss: 46138.0938 - val_mean_absolute_error: 152.1881\n",
      "Epoch 28/50\n",
      "11/11 [==============================] - 15s 1s/step - loss: 39407.6562 - mean_absolute_error: 150.3974 - val_loss: 53316.5508 - val_mean_absolute_error: 162.4943\n",
      "Epoch 29/50\n",
      "11/11 [==============================] - 11s 1s/step - loss: 46485.6172 - mean_absolute_error: 165.6641 - val_loss: 48215.5391 - val_mean_absolute_error: 166.1811\n",
      "Epoch 30/50\n",
      "11/11 [==============================] - 11s 1s/step - loss: 72327.2188 - mean_absolute_error: 222.9372 - val_loss: 73337.9141 - val_mean_absolute_error: 240.6659\n",
      "Epoch 31/50\n",
      "11/11 [==============================] - 11s 1s/step - loss: 59849.9961 - mean_absolute_error: 181.5442 - val_loss: 62183.0078 - val_mean_absolute_error: 187.2168\n",
      "Epoch 32/50\n",
      "11/11 [==============================] - 11s 1s/step - loss: 53990.6055 - mean_absolute_error: 179.6685 - val_loss: 97723.1797 - val_mean_absolute_error: 243.3045\n",
      "Epoch 33/50\n",
      "11/11 [==============================] - 11s 1s/step - loss: 42412.8242 - mean_absolute_error: 157.3864 - val_loss: 57299.7461 - val_mean_absolute_error: 169.9248\n",
      "Epoch 34/50\n",
      "11/11 [==============================] - 11s 1s/step - loss: 28920.4902 - mean_absolute_error: 125.9860 - val_loss: 68045.8750 - val_mean_absolute_error: 187.6205\n",
      "Epoch 35/50\n",
      "11/11 [==============================] - 11s 1s/step - loss: 29000.2188 - mean_absolute_error: 122.1960 - val_loss: 49050.1797 - val_mean_absolute_error: 172.3957\n",
      "Epoch 36/50\n",
      "11/11 [==============================] - 12s 1s/step - loss: 29607.4141 - mean_absolute_error: 128.4972 - val_loss: 47971.4805 - val_mean_absolute_error: 155.8204\n",
      "Epoch 37/50\n",
      "11/11 [==============================] - 11s 1s/step - loss: 34901.4258 - mean_absolute_error: 132.9956 - val_loss: 53035.3477 - val_mean_absolute_error: 168.2182\n",
      "Epoch 38/50\n",
      "11/11 [==============================] - 11s 1s/step - loss: 31808.1738 - mean_absolute_error: 133.6726 - val_loss: 57512.5625 - val_mean_absolute_error: 162.7808\n",
      "Epoch 39/50\n",
      "11/11 [==============================] - 11s 1s/step - loss: 41642.4648 - mean_absolute_error: 146.4639 - val_loss: 63890.9141 - val_mean_absolute_error: 215.2827\n",
      "Epoch 40/50\n",
      "11/11 [==============================] - 11s 1s/step - loss: 56738.5391 - mean_absolute_error: 179.1037 - val_loss: 68720.4375 - val_mean_absolute_error: 208.3138\n",
      "Epoch 41/50\n",
      "11/11 [==============================] - 11s 1s/step - loss: 48294.1797 - mean_absolute_error: 156.7329 - val_loss: 51827.9766 - val_mean_absolute_error: 157.7136\n",
      "Epoch 42/50\n",
      "11/11 [==============================] - 11s 1s/step - loss: 50437.2266 - mean_absolute_error: 161.8750 - val_loss: 83499.6875 - val_mean_absolute_error: 199.7526\n",
      "Epoch 43/50\n",
      "11/11 [==============================] - 11s 1s/step - loss: 52872.8594 - mean_absolute_error: 175.4321 - val_loss: 87833.3047 - val_mean_absolute_error: 201.9786\n",
      "Epoch 44/50\n",
      "11/11 [==============================] - 11s 1s/step - loss: 67245.3047 - mean_absolute_error: 189.0355 - val_loss: 83829.9531 - val_mean_absolute_error: 202.3946\n",
      "Epoch 45/50\n",
      "11/11 [==============================] - 11s 1s/step - loss: 64225.2031 - mean_absolute_error: 186.9474 - val_loss: 75504.6875 - val_mean_absolute_error: 189.5561\n",
      "Epoch 46/50\n",
      "11/11 [==============================] - 11s 1s/step - loss: 50450.1250 - mean_absolute_error: 169.1476 - val_loss: 71205.0391 - val_mean_absolute_error: 215.5087\n",
      "Epoch 47/50\n",
      "11/11 [==============================] - 11s 1s/step - loss: 45395.5430 - mean_absolute_error: 153.1537 - val_loss: 64606.0625 - val_mean_absolute_error: 176.1099\n",
      "Epoch 48/50\n",
      "11/11 [==============================] - 12s 1s/step - loss: 47804.7852 - mean_absolute_error: 163.2254 - val_loss: 68547.3125 - val_mean_absolute_error: 180.7308\n",
      "Epoch 49/50\n",
      "11/11 [==============================] - 12s 1s/step - loss: 36732.9297 - mean_absolute_error: 144.7428 - val_loss: 85252.3047 - val_mean_absolute_error: 189.1598\n",
      "Epoch 50/50\n",
      "11/11 [==============================] - 11s 1s/step - loss: 59811.7891 - mean_absolute_error: 194.7905 - val_loss: 60593.7305 - val_mean_absolute_error: 179.5451\n"
     ]
    }
   ],
   "source": [
    "#rodadas de treinamento\n",
    "history = modelo.fit(\n",
    "                        X_train,\n",
    "                        y_train,\n",
    "                        validation_data=(X_test, y_test),\n",
    "                        epochs=50,\n",
    "                        batch_size=12\n",
    "                    )"
   ]
  },
  {
   "cell_type": "code",
   "execution_count": null,
   "metadata": {
    "id": "uLKLE7P9cx6t"
   },
   "outputs": [],
   "source": [
    "#data = timeProcess()[1]\n",
    "#modelo.save('./../../results/model__huh7_regressao_maior_erro'+data+'.h5')"
   ]
  },
  {
   "cell_type": "markdown",
   "metadata": {
    "cell_id": "00040-4b571408-a790-4e76-99df-23a92c28cd25",
    "deepnote_cell_type": "text-cell-h2",
    "id": "eUXUlOmjbGch",
    "is_collapsed": false,
    "tags": []
   },
   "source": [
    "## Avaliação da Acurácia"
   ]
  },
  {
   "cell_type": "markdown",
   "metadata": {
    "cell_id": "00041-34c3ccbe-3463-495e-83f9-3443d7ca0445",
    "deepnote_cell_type": "text-cell-p",
    "id": "J4YptOhkbGch",
    "is_collapsed": false,
    "tags": []
   },
   "source": [
    "Existem algumas maneiras de se avaliar a acurácia dos algoritmos, para algoritmo de regressão, as métricas mais comuns são Erro médio absoluto (MSE) não se baseia na média a partir de valores discrepantes. Erro Médio quadrático (MAE) considera os valores discrepantes entre as variáveis, apontando maior erro."
   ]
  },
  {
   "cell_type": "markdown",
   "metadata": {
    "cell_id": "00029-2d1013c4-61e6-42f9-ab51-b66729f54b1e",
    "deepnote_cell_type": "text-cell-p",
    "id": "0QwLldMebGch",
    "is_collapsed": false,
    "tags": []
   },
   "source": [
    "O algoritmo avalia o valor previsto e subtraí pelo valor conhecido, depois é calculado a média entre cada valor."
   ]
  },
  {
   "cell_type": "code",
   "execution_count": null,
   "metadata": {
    "cell_id": "00046-4282754c-259e-493a-91af-ac3d19c2da8a",
    "deepnote_cell_type": "code",
    "deepnote_to_be_reexecuted": false,
    "execution_millis": 0,
    "execution_start": 1633367586426,
    "id": "3ZjlF83JbGci",
    "source_hash": "c5059107",
    "tags": []
   },
   "outputs": [],
   "source": [
    "# #salvando o modelo\n",
    "# data = timeProcess()[1]\n",
    "# modelo.save('arquivos_text_modelo_imagens//model_camp_claro_A549_regressao'+data+'.h5')"
   ]
  },
  {
   "cell_type": "code",
   "execution_count": null,
   "metadata": {
    "cell_id": "00028-91ae04ee-eb68-410d-9d0c-a503131c11d3",
    "colab": {
     "base_uri": "https://localhost:8080/",
     "height": 295
    },
    "deepnote_cell_type": "code",
    "deepnote_output_heights": [
     280
    ],
    "deepnote_to_be_reexecuted": false,
    "execution_millis": 208,
    "execution_start": 1633367587203,
    "id": "wwTT8kAcbGci",
    "outputId": "f1640a72-fa21-4aeb-ebfd-70715b015b71",
    "source_hash": "b96ca127",
    "tags": []
   },
   "outputs": [
    {
     "data": {
      "image/png": "[encoded data removed]",
      "text/plain": [
       "<Figure size 432x288 with 1 Axes>"
      ]
     },
     "metadata": {
      "needs_background": "light"
     },
     "output_type": "display_data"
    }
   ],
   "source": [
    "#gráfico avaliando a acurácia a partir de treino e teste\n",
    "plt.plot(history.history['mean_absolute_error'])\n",
    "plt.plot(history.history['val_mean_absolute_error'])\n",
    "plt.title('model accuracy')\n",
    "plt.ylabel('accuracy')\n",
    "plt.xlabel('epoch')\n",
    "plt.legend(['train', 'test'], loc='upper left')\n",
    "plt.show()\n",
    "\n",
    "plt.savefig(\n",
    "    fname=\"/results/CNN_Huh7_Greatest_error.png\", #pasta e nome do arquivo onde vai ser salvo\n",
    "    bbox_inches='tight', #função que deixa o gráfico mais próxima da margem\n",
    "    dpi=150, #numero de pixels da imagem?\n",
    "    transparent=True #deixar o gráfico transparente\n",
    ")"
   ]
  },
  {
   "cell_type": "code",
   "execution_count": null,
   "metadata": {
    "cell_id": "00029-fcafda94-1f62-4b1d-99f9-8e40571aa205",
    "deepnote_cell_type": "code",
    "deepnote_output_heights": [
     250
    ],
    "deepnote_to_be_reexecuted": false,
    "execution_millis": 5295,
    "execution_start": 1633367597958,
    "id": "vmR5Agv6bGci",
    "outputId": "0c196e7b-ca83-4f93-873b-7d4d50e1b5fb",
    "source_hash": "96e272ff",
    "tags": []
   },
   "outputs": [
    {
     "data": {
      "image/png": "[encoded data removed]",
      "text/plain": [
       "<Figure size 432x288 with 1 Axes>"
      ]
     },
     "metadata": {
      "image/png": {
       "height": 248,
       "width": 381
      },
      "needs_background": "light"
     },
     "output_type": "display_data"
    }
   ],
   "source": [
    "#avaliando a previsão do modelo com os rótulos\n",
    "prev = modelo.predict(X_test)\n",
    "plt.plot(prev)\n",
    "plt.plot(y_test)\n",
    "plt.show()"
   ]
  },
  {
   "cell_type": "code",
   "execution_count": null,
   "metadata": {
    "cell_id": "00033-3b921652-22b5-46af-af23-62828b82b8a7",
    "deepnote_cell_type": "code",
    "deepnote_to_be_reexecuted": true,
    "execution_millis": 2,
    "execution_start": 1633026300082,
    "id": "IV1AF-O7bGci",
    "source_hash": "b623e53d",
    "tags": []
   },
   "outputs": [],
   "source": []
  },
  {
   "cell_type": "code",
   "execution_count": null,
   "metadata": {
    "cell_id": "00029-d40ab35b-5c84-4bf2-aaee-8420ac763fd8",
    "deepnote_cell_type": "code",
    "deepnote_to_be_reexecuted": false,
    "execution_millis": 0,
    "execution_start": 1633367609115,
    "id": "uVkTkdNubGci",
    "source_hash": "3b8f2163",
    "tags": []
   },
   "outputs": [],
   "source": [
    "# Qualit model analisys\n",
    "from sklearn.metrics import r2_score,mean_absolute_error, mean_squared_error, mean_squared_log_error, median_absolute_error"
   ]
  },
  {
   "cell_type": "code",
   "execution_count": null,
   "metadata": {
    "cell_id": "00047-d1f881d6-14d2-4951-97bc-8bb45c6a2252",
    "deepnote_cell_type": "code",
    "deepnote_to_be_reexecuted": false,
    "execution_millis": 17,
    "execution_start": 1633367613280,
    "id": "o5OMH2rxbGcj",
    "outputId": "7f855a7c-8973-44c1-c6cc-e1baf06f28ee",
    "source_hash": "7d8190e2",
    "tags": []
   },
   "outputs": [
    {
     "name": "stdout",
     "output_type": "stream",
     "text": [
      "-209.95% r2_score\n",
      "193.86 Erro médio absoluto\n",
      "0.06 Erro médio quadrático\n"
     ]
    }
   ],
   "source": [
    "#buscando pelas métricas\n",
    "print(f\"{round(r2_score(y_test, prev) * 100, 2)}% r2_score\") #raíz quadrada\n",
    "print(f\"{round(mean_absolute_error(y_test, prev), 2)} Erro médio absoluto\") \n",
    "print(f\"{round(mean_squared_log_error(y_test, prev), 2)} Erro médio quadrático\") #erro médio quadrático\n",
    "# print(f\"{round(median_absolute_error(y_test, prev), 2)}\")#Erro médio absoluto sem %\n",
    "\n"
   ]
  },
  {
   "cell_type": "code",
   "execution_count": null,
   "metadata": {
    "cell_id": "00035-9ffbd557-0627-4061-9b97-3b163a330706",
    "deepnote_cell_type": "code",
    "deepnote_output_heights": [
     20.65625
    ],
    "deepnote_to_be_reexecuted": false,
    "execution_millis": 12,
    "execution_start": 1633367620410,
    "id": "B6SnfOv8bGcj",
    "outputId": "3e24437a-c043-420c-880a-7fafa16372bc",
    "source_hash": "bec942ae",
    "tags": []
   },
   "outputs": [
    {
     "data": {
      "text/plain": [
       "193.85687255859375"
      ]
     },
     "execution_count": 19,
     "metadata": {},
     "output_type": "execute_result"
    }
   ],
   "source": [
    "mean_absolute_error(y_test, prev)"
   ]
  },
  {
   "cell_type": "code",
   "execution_count": null,
   "metadata": {
    "cell_id": "00035-bac3899c-a659-4a73-8893-610cebe6993e",
    "deepnote_cell_type": "code",
    "deepnote_to_be_reexecuted": false,
    "execution_millis": 13,
    "execution_start": 1633367651861,
    "id": "uo0BYGbQbGcj",
    "outputId": "9b7db04a-46d1-4e8b-be6b-078c601ef247",
    "source_hash": "89dfb76d",
    "tags": []
   },
   "outputs": [
    {
     "name": "stdout",
     "output_type": "stream",
     "text": [
      "193.86\n"
     ]
    }
   ],
   "source": [
    "print(f\"{round(mean_absolute_error(y_test, prev), 2)}\") #erro médio absoluto\n"
   ]
  },
  {
   "cell_type": "code",
   "execution_count": null,
   "metadata": {
    "cell_id": "00036-7ae14acb-8833-4e34-b97f-a455be5b70d5",
    "deepnote_cell_type": "code",
    "deepnote_to_be_reexecuted": false,
    "execution_millis": 8,
    "execution_start": 1633367662832,
    "id": "RF4ZqZFEbGcj",
    "outputId": "a129a3f9-0636-43ab-c145-da34454dec5e",
    "source_hash": "874d8777",
    "tags": []
   },
   "outputs": [
    {
     "name": "stdout",
     "output_type": "stream",
     "text": [
      "0.06\n"
     ]
    }
   ],
   "source": [
    "print(f\"{round(mean_squared_log_error(y_test, prev), 2)}\") #erro médio quadrático\n"
   ]
  }
 ],
 "metadata": {
  "colab": {
   "name": "CNN_MSE_Huh7_Greatest_error.ipynb",
   "provenance": []
  },
  "deepnote": {
   "is_reactive": false
  },
  "deepnote_execution_queue": [],
  "deepnote_notebook_id": "584901cd-d49a-4b58-a71a-e5a8d1bde069",
  "kernelspec": {
   "display_name": "Python 3 (ipykernel)",
   "language": "python",
   "name": "python3"
  },
  "language_info": {
   "codemirror_mode": {
    "name": "ipython",
    "version": 3
   },
   "file_extension": ".py",
   "mimetype": "text/x-python",
   "name": "python",
   "nbconvert_exporter": "python",
   "pygments_lexer": "ipython3",
   "version": "3.7.9"
  }
 },
 "nbformat": 4,
 "nbformat_minor": 4
}
