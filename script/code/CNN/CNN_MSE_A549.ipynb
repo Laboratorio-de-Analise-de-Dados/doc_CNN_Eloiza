{
 "cells": [
  {
   "cell_type": "markdown",
   "metadata": {
    "colab_type": "text",
    "id": "view-in-github"
   },
   "source": [
    "<a href=\"https://colab.research.google.com/github/eloiza-dias/cnn-correlation-code/blob/main/CNN_MSE_A549.ipynb\" target=\"_parent\"><img src=\"https://colab.research.google.com/assets/colab-badge.svg\" alt=\"Open In Colab\"/></a>"
   ]
  },
  {
   "cell_type": "markdown",
   "metadata": {
    "cell_id": "00000-288de0bc-8cc2-4998-872c-01f58e6fa085",
    "deepnote_cell_type": "text-cell-h1",
    "id": "i60H4h3U4tI1",
    "is_collapsed": false,
    "tags": []
   },
   "source": [
    "# Cell line A549"
   ]
  },
  {
   "cell_type": "markdown",
   "metadata": {
    "cell_id": "00000-9bdebeb7-f4c3-4b52-9360-68ef655b9779",
    "deepnote_cell_type": "text-cell-h1",
    "id": "eWnodvYd4tJA",
    "is_collapsed": false,
    "tags": []
   },
   "source": [
    "# Imports data structuring\n",
    "\n",
    "\n"
   ]
  },
  {
   "cell_type": "code",
   "execution_count": 22,
   "metadata": {
    "cell_id": "00001-972e581c-6be2-452a-9163-ba15e69acd0d",
    "deepnote_cell_type": "code",
    "deepnote_to_be_reexecuted": false,
    "execution_millis": 748,
    "execution_start": 1633461500805,
    "id": "fsIk6lJD4tJD",
    "source_hash": "64fc40d5",
    "tags": []
   },
   "outputs": [],
   "source": [
    "#organização dos arquivos\n",
    "import os\n",
    "#salvar/carregar arquivos em diferentes formatos\n",
    "import joblib\n",
    "#organizando os arquivos de forma aleatória\n",
    "import random\n",
    "#gerar gráfico\n",
    "import matplotlib\n",
    "#estruturação dos dados\n",
    "import numpy as np\n",
    "#gerar gráfico\n",
    "import seaborn as sns\n",
    "#gerar gráfico\n",
    "import matplotlib.pyplot as plt\n",
    "#gerar imagem\n",
    "import matplotlib.image as mpimg\n",
    "# Math\n",
    "from math import ceil\n"
   ]
  },
  {
   "cell_type": "markdown",
   "metadata": {
    "cell_id": "00002-9d58b1f9-b49b-45eb-a495-16f3ad253dcc",
    "deepnote_cell_type": "text-cell-h1",
    "id": "s8MqP3WQ4tJI",
    "is_collapsed": false,
    "tags": []
   },
   "source": [
    "# CNN template import"
   ]
  },
  {
   "cell_type": "code",
   "execution_count": 2,
   "metadata": {
    "cell_id": "00003-87f289b7-d2cd-4f4c-9db8-bdb01a8452d9",
    "deepnote_cell_type": "code",
    "deepnote_to_be_reexecuted": false,
    "execution_millis": 1990,
    "execution_start": 1633461502575,
    "id": "SdA4eoj94tJK",
    "source_hash": "654178fe",
    "tags": []
   },
   "outputs": [
    {
     "name": "stderr",
     "output_type": "stream",
     "text": [
      "2022-08-03 14:19:31.067486: W tensorflow/stream_executor/platform/default/dso_loader.cc:60] Could not load dynamic library 'libcudart.so.11.0'; dlerror: libcudart.so.11.0: cannot open shared object file: No such file or directory\n",
      "2022-08-03 14:19:31.068024: I tensorflow/stream_executor/cuda/cudart_stub.cc:29] Ignore above cudart dlerror if you do not have a GPU set up on your machine.\n"
     ]
    }
   ],
   "source": [
    "#modelo de revisão redes neurais - cnn\n",
    "from keras.models import Sequential\n",
    "from keras.utils.np_utils import to_categorical\n",
    "#from keras.utils import to_categorical\n",
    "from util import meus_uteis, timeProcess, mask_corr_graphic, printLis\n",
    "from sklearn.metrics import confusion_matrix, accuracy_score, classification_report\n",
    "from keras.layers import Dense, Conv2D, MaxPooling2D, Dropout, Flatten"
   ]
  },
  {
   "cell_type": "markdown",
   "metadata": {
    "cell_id": "00004-9cbd326e-031b-41f6-9acc-a1093d34c92f",
    "deepnote_cell_type": "text-cell-p",
    "id": "pgnUvf8G4tJM",
    "is_collapsed": false,
    "tags": []
   },
   "source": [
    "Documents from different files will be stored in this directory"
   ]
  },
  {
   "cell_type": "code",
   "execution_count": 23,
   "metadata": {},
   "outputs": [
    {
     "data": {
      "text/plain": [
       "'/usr/src/myapp/code/CNN'"
      ]
     },
     "execution_count": 23,
     "metadata": {},
     "output_type": "execute_result"
    }
   ],
   "source": [
    "os.getcwd()"
   ]
  },
  {
   "cell_type": "code",
   "execution_count": 24,
   "metadata": {
    "cell_id": "00005-12ddf809-8cd5-457c-8838-0469b9db7e9e",
    "colab": {
     "base_uri": "https://localhost:8080/"
    },
    "deepnote_cell_type": "code",
    "deepnote_to_be_reexecuted": false,
    "execution_millis": 17,
    "execution_start": 1633461509648,
    "id": "aDOFmVHI4tJO",
    "outputId": "be83eb96-92bf-45bb-beb6-3c2399e9675d",
    "source_hash": "38a38df5",
    "tags": []
   },
   "outputs": [
    {
     "name": "stdout",
     "output_type": "stream",
     "text": [
      "-------------\n",
      "-=< Lista >=-\n",
      "-------------\n",
      "0 -> images_de_X_test_a549_melhor_modelo_18_PACIENCE_500_2022-8-3.gz\n",
      "1 -> images_de_X_train_a549_melhor_modelo_18_PACIENCE_500_2022-8-3.gz\n",
      "2 -> images_de_y_test_a549_melhor_modelo_18_PACIENCE%00_2022-8-3.gz\n",
      "3 -> images_de_y_train_a549_melhor_modelo_18_PACIENCE_500_2022-8-3.gz\n",
      "4 -> lista_img_camp_clar_100_resized_regressao_3T32022-8-2.gz\n",
      "5 -> lista_img_camp_clar_100_resized_regressao_A5492022-8-3.gz\n",
      "6 -> lista_img_camp_clar_100_resized_regressao_huh72022-8-2.gz\n",
      "7 -> lista_img_camp_clar_25_resized_regressao_3T3_2022-8-2.gz\n",
      "8 -> lista_img_camp_clar_25_resized_regressao_A5492022-8-3.gz\n",
      "9 -> lista_img_camp_clar_25_resized_regressao_HUH72022-8-2.gz\n",
      "10 -> lista_img_camp_clar_50_resized_regressao_3T3_2022-8-2.gz\n",
      "11 -> lista_img_camp_clar_50_resized_regressao_A5492022-8-3.gz\n",
      "12 -> lista_img_camp_clar_50_resized_regressao_HUH72022-8-2.gz\n",
      "13 -> lista_img_camp_clar_75_resized_regressao_3T3_2022-8-2.gz\n",
      "14 -> lista_img_camp_clar_75_resized_regressao_A5492022-8-3.gz\n",
      "15 -> lista_img_camp_clar_75_resized_regressao_HUH72022-8-2.gz\n",
      "16 -> lista_rotulo_camp_clar_100_resized_regressao_3T32022-8-2.gz\n",
      "17 -> lista_rotulo_camp_clar_100_resized_regressao_A5492022-8-3.gz\n",
      "18 -> lista_rotulo_camp_clar_100_resized_regressao_huh72022-8-2.gz\n",
      "19 -> lista_rotulo_camp_clar_25_resized_regressao_3T3_2022-8-2.gz\n",
      "20 -> lista_rotulo_camp_clar_25_resized_regressao_A5492022-8-3.gz\n",
      "21 -> lista_rotulo_camp_clar_25_resized_regressao_HUH72022-8-2.gz\n",
      "22 -> lista_rotulo_camp_clar_50_resized_regressao_3T3_2022-8-2.gz\n",
      "23 -> lista_rotulo_camp_clar_50_resized_regressao_A5492022-8-3.gz\n",
      "24 -> lista_rotulo_camp_clar_50_resized_regressao_HUH72022-8-2.gz\n",
      "25 -> lista_rotulo_camp_clar_75_resized_regressao_3T3_2022-8-2.gz\n",
      "26 -> lista_rotulo_camp_clar_75_resized_regressao_A5492022-8-3.gz\n",
      "27 -> lista_rotulo_camp_clar_75_resized_regressao_HUH72022-8-2.gz\n",
      "28 -> README.md\n"
     ]
    }
   ],
   "source": [
    "diretorio = './../../results' #alimentando a variável com os arquivos da pasta datasets\n",
    "lista_dados = os.listdir(diretorio) #listando os arquivos dessa pasta\n",
    "printLis(lista_dados) #printando as diferentes listas"
   ]
  },
  {
   "cell_type": "markdown",
   "metadata": {
    "id": "ORvQdoZ4cg8X"
   },
   "source": [
    "Lists of all images in each file"
   ]
  },
  {
   "cell_type": "code",
   "execution_count": 6,
   "metadata": {
    "colab": {
     "base_uri": "https://localhost:8080/"
    },
    "id": "7XhHnLmvYgHc",
    "outputId": "582511ea-9cac-4b8c-e103-359f93a3e3e3"
   },
   "outputs": [
    {
     "name": "stdout",
     "output_type": "stream",
     "text": [
      "1 -> lista_img_camp_clar_100_resized_regressao_A5492022-8-3.gz\n",
      "4 -> lista_img_camp_clar_25_resized_regressao_A5492022-8-3.gz\n",
      "7 -> lista_img_camp_clar_50_resized_regressao_A5492022-8-3.gz\n",
      "10 -> lista_img_camp_clar_75_resized_regressao_A5492022-8-3.gz\n"
     ]
    }
   ],
   "source": [
    "#lstando arquivos com as imagens 100%, 75%, 50%, 25%\n",
    "for k, v in enumerate(lista_dados): #percorra na lista_dados e retorne a chave e valor\n",
    "    if k in [1,10,7,4]:          #Se a chave (k) for 12,14,16,17, print a chave e o valor  \n",
    "        print(f'{k} -> {v}')"
   ]
  },
  {
   "cell_type": "markdown",
   "metadata": {
    "id": "ztAlHaCPcdJH"
   },
   "source": [
    "## x = features/images\n",
    "\n",
    "\n"
   ]
  },
  {
   "cell_type": "code",
   "execution_count": 7,
   "metadata": {
    "colab": {
     "base_uri": "https://localhost:8080/"
    },
    "id": "LhyKepySY6Fj",
    "outputId": "ff59344a-19dd-457f-d31c-da51fb926f2d"
   },
   "outputs": [
    {
     "data": {
      "text/plain": [
       "(1136, 200, 200, 3)"
      ]
     },
     "execution_count": 7,
     "metadata": {},
     "output_type": "execute_result"
    }
   ],
   "source": [
    "#somando todas as imagens de diferentes tamanho\n",
    "X_cem = joblib.load(diretorio+ '/' + lista_dados[1]) # carregar o arquivo que esta no diretorio e lista de dados na posição 12\n",
    "\n",
    "X_setcin = joblib.load(diretorio+ '/' + lista_dados[10]) # carregar o arquivo que esta no diretorio e lista de dados na posição 14\n",
    "\n",
    "X_cinq = joblib.load(diretorio+ '/' + lista_dados[7]) # carregar o arquivo que esta no diretorio e lista de dados na posição 16\n",
    "\n",
    "X_vincin = joblib.load(diretorio+ '/' + lista_dados[4]) # carregar o arquivo que esta no diretorio e lista de dados na posição 18\n",
    "\n",
    "x = np.asarray(list(X_cem) + list(X_setcin) + list(X_cinq) + list(X_vincin)) #somando os valores de cada lista\n",
    "\n",
    "x.shape #Retornando a soma das imagens"
   ]
  },
  {
   "cell_type": "markdown",
   "metadata": {
    "cell_id": "00024-2a52cddd-d57a-43ea-b19b-79d121441438",
    "deepnote_cell_type": "text-cell-h2",
    "id": "oBtPa_i44tJf",
    "is_collapsed": false,
    "tags": []
   },
   "source": [
    "## y = labels"
   ]
  },
  {
   "cell_type": "markdown",
   "metadata": {
    "cell_id": "00013-59c042e6-ccc7-4e8a-8ad0-93c47d0dfc93",
    "deepnote_cell_type": "text-cell-p",
    "id": "askOnwAU4tJg",
    "is_collapsed": false,
    "tags": []
   },
   "source": [
    "Abrindo os rótulos que foram salvos na preparação das imagens"
   ]
  },
  {
   "cell_type": "code",
   "execution_count": 8,
   "metadata": {
    "colab": {
     "base_uri": "https://localhost:8080/"
    },
    "id": "-b5OF-msb3fx",
    "outputId": "f1c7243d-861d-4c9e-a066-64fecbd4b4a4"
   },
   "outputs": [
    {
     "name": "stdout",
     "output_type": "stream",
     "text": [
      "13 -> lista_rotulo_camp_clar_100_resized_regressao_A5492022-8-3.gz\n",
      "16 -> lista_rotulo_camp_clar_25_resized_regressao_A5492022-8-3.gz\n",
      "19 -> lista_rotulo_camp_clar_50_resized_regressao_A5492022-8-3.gz\n",
      "22 -> lista_rotulo_camp_clar_75_resized_regressao_A5492022-8-3.gz\n"
     ]
    }
   ],
   "source": [
    "for k, v in enumerate(lista_dados):\n",
    "    if k in [13,22,19,16]:\n",
    "        print(f'{k} -> {v}')"
   ]
  },
  {
   "cell_type": "code",
   "execution_count": 9,
   "metadata": {
    "colab": {
     "base_uri": "https://localhost:8080/"
    },
    "id": "xBbPF5QObvoo",
    "outputId": "4d5ba7e5-0135-40b6-eb64-9ea0a837c350"
   },
   "outputs": [
    {
     "data": {
      "text/plain": [
       "(1136,)"
      ]
     },
     "execution_count": 9,
     "metadata": {},
     "output_type": "execute_result"
    }
   ],
   "source": [
    "#somando todos os rótulos de diferentes tamanho\n",
    "y_cem = joblib.load(diretorio+ '/' + lista_dados[13])\n",
    "\n",
    "y_setcin = joblib.load(diretorio+ '/' + lista_dados[22])\n",
    "\n",
    "y_cinq = joblib.load(diretorio+ '/' + lista_dados[19])\n",
    "\n",
    "y_vincin = joblib.load(diretorio+ '/' + lista_dados[16])\n",
    "\n",
    "y = np.asarray(list(y_cem) + list(y_setcin) + list(y_cinq) + list(y_vincin))\n",
    "\n",
    "y.shape"
   ]
  },
  {
   "cell_type": "code",
   "execution_count": 11,
   "metadata": {
    "cell_id": "00015-e899e30c-5063-4ed5-a36e-c96cfd7154c8",
    "deepnote_cell_type": "code",
    "deepnote_to_be_reexecuted": false,
    "execution_millis": 14,
    "execution_start": 1633366123142,
    "id": "DJTn4f4C4tJl",
    "source_hash": "abcd6da",
    "tags": []
   },
   "outputs": [],
   "source": [
    "#Train and test split datasets for CNN model\n",
    "#função que separa as imagens em teste e treino\n",
    "from sklearn.model_selection import train_test_split"
   ]
  },
  {
   "cell_type": "markdown",
   "metadata": {
    "cell_id": "00016-1914ad8b-dfb9-4d5b-9644-47b675be2c68",
    "deepnote_cell_type": "text-cell-p",
    "id": "DM-YUwIs4tJm",
    "is_collapsed": false,
    "tags": []
   },
   "source": [
    "Test and training separation from a library."
   ]
  },
  {
   "cell_type": "code",
   "execution_count": 12,
   "metadata": {
    "cell_id": "00015-8ddea1cc-fc2b-4056-aea9-bb22914790fe",
    "colab": {
     "base_uri": "https://localhost:8080/"
    },
    "deepnote_cell_type": "code",
    "deepnote_to_be_reexecuted": false,
    "execution_millis": 45,
    "execution_start": 1633366126594,
    "id": "VbvO_0SO4tJn",
    "outputId": "1a0f6d5c-6f6f-454a-92fd-5b3cc674bf10",
    "source_hash": "2984b900",
    "tags": []
   },
   "outputs": [
    {
     "name": "stdout",
     "output_type": "stream",
     "text": [
      "(795, 200, 200, 3) \n",
      "(341, 200, 200, 3) \n",
      "(795,) \n",
      "(341,)\n"
     ]
    }
   ],
   "source": [
    "X_train, X_test, y_train, y_test = train_test_split(x, y, test_size=0.3, random_state=0)\n",
    "#variáveis recebem o número de imagens para tes e treino\n",
    "print(f'{X_train.shape} \\n{X_test.shape} \\n{y_train.shape} \\n{y_test.shape}')"
   ]
  },
  {
   "cell_type": "code",
   "execution_count": 13,
   "metadata": {
    "id": "z49o0tgWXKh8"
   },
   "outputs": [],
   "source": [
    "data = timeProcess()[1]"
   ]
  },
  {
   "cell_type": "code",
   "execution_count": 14,
   "metadata": {
    "colab": {
     "base_uri": "https://localhost:8080/"
    },
    "id": "ZMvqx66UWJgz",
    "outputId": "23b3aa33-13c7-489c-f4a4-cb3f21731541"
   },
   "outputs": [
    {
     "data": {
      "text/plain": [
       "['/usr/src/myapp/results//images_de_X_train_a549_melhor_modelo_18_PACIENCE_500_2022-8-3.gz']"
      ]
     },
     "execution_count": 14,
     "metadata": {},
     "output_type": "execute_result"
    }
   ],
   "source": [
    "joblib.dump(X_train, '/usr/src/myapp/results/images_de_X_train_a549_melhor_modelo_18_PACIENCE_500_'+data+'.gz')\n"
   ]
  },
  {
   "cell_type": "code",
   "execution_count": 15,
   "metadata": {
    "colab": {
     "base_uri": "https://localhost:8080/"
    },
    "id": "Fv3eVwIUWJTt",
    "outputId": "330c4f11-39b0-4a80-dbb1-6be7366c3a7b"
   },
   "outputs": [
    {
     "data": {
      "text/plain": [
       "['/usr/src/myapp/results//images_de_y_train_a549_melhor_modelo_18_PACIENCE_500_2022-8-3.gz']"
      ]
     },
     "execution_count": 15,
     "metadata": {},
     "output_type": "execute_result"
    }
   ],
   "source": [
    "joblib.dump(y_train, '/usr/src/myapp/results/images_de_y_train_a549_melhor_modelo_18_PACIENCE_500_'+data+'.gz')\n"
   ]
  },
  {
   "cell_type": "code",
   "execution_count": 16,
   "metadata": {
    "colab": {
     "base_uri": "https://localhost:8080/"
    },
    "id": "sLLxRtYQWJF2",
    "outputId": "d84f6505-b415-45f1-d36a-2e07d75a7ec7"
   },
   "outputs": [
    {
     "data": {
      "text/plain": [
       "['/usr/src/myapp/results//images_de_X_test_a549_melhor_modelo_18_PACIENCE_500_2022-8-3.gz']"
      ]
     },
     "execution_count": 16,
     "metadata": {},
     "output_type": "execute_result"
    }
   ],
   "source": [
    "joblib.dump(X_test, '/usr/src/myapp/results/images_de_X_test_a549_melhor_modelo_18_PACIENCE_500_'+data+'.gz')\n"
   ]
  },
  {
   "cell_type": "code",
   "execution_count": 17,
   "metadata": {
    "colab": {
     "base_uri": "https://localhost:8080/"
    },
    "id": "ScEl33x6WI59",
    "outputId": "894e5844-b68f-4658-8969-d230af0b56a1"
   },
   "outputs": [
    {
     "data": {
      "text/plain": [
       "['/usr/src/myapp/results//images_de_y_test_a549_melhor_modelo_18_PACIENCE%00_2022-8-3.gz']"
      ]
     },
     "execution_count": 17,
     "metadata": {},
     "output_type": "execute_result"
    }
   ],
   "source": [
    "joblib.dump(y_test, '/usr/src/myapp/results/images_de_y_test_a549_melhor_modelo_18_PACIENCE%00_'+data+'.gz')\n"
   ]
  },
  {
   "cell_type": "markdown",
   "metadata": {
    "cell_id": "00020-643aca93-ac54-4b42-a96b-0d9cb3766c07",
    "deepnote_cell_type": "text-cell-h3",
    "id": "IOsYujrz4tJq",
    "is_collapsed": false,
    "tags": []
   },
   "source": [
    "### Model determination"
   ]
  },
  {
   "cell_type": "code",
   "execution_count": 18,
   "metadata": {
    "cell_id": "00021-7cc62f7e-3524-4624-ad1c-28768879074d",
    "colab": {
     "base_uri": "https://localhost:8080/"
    },
    "deepnote_cell_type": "code",
    "deepnote_to_be_reexecuted": false,
    "execution_millis": 124,
    "execution_start": 1633366142373,
    "id": "s81L-_zW4tJr",
    "outputId": "acfd9502-d7d0-4089-a91a-067e400a3cb6",
    "source_hash": "fcfd5f57",
    "tags": []
   },
   "outputs": [
    {
     "name": "stdout",
     "output_type": "stream",
     "text": [
      "Model: \"sequential\"\n",
      "_________________________________________________________________\n",
      "Layer (type)                 Output Shape              Param #   \n",
      "=================================================================\n",
      "conv2d (Conv2D)              (None, 198, 198, 32)      896       \n",
      "_________________________________________________________________\n",
      "max_pooling2d (MaxPooling2D) (None, 99, 99, 32)        0         \n",
      "_________________________________________________________________\n",
      "conv2d_1 (Conv2D)            (None, 97, 97, 64)        18496     \n",
      "_________________________________________________________________\n",
      "max_pooling2d_1 (MaxPooling2 (None, 48, 48, 64)        0         \n",
      "_________________________________________________________________\n",
      "conv2d_2 (Conv2D)            (None, 46, 46, 128)       73856     \n",
      "_________________________________________________________________\n",
      "max_pooling2d_2 (MaxPooling2 (None, 23, 23, 128)       0         \n",
      "_________________________________________________________________\n",
      "conv2d_3 (Conv2D)            (None, 21, 21, 256)       295168    \n",
      "_________________________________________________________________\n",
      "max_pooling2d_3 (MaxPooling2 (None, 10, 10, 256)       0         \n",
      "_________________________________________________________________\n",
      "flatten (Flatten)            (None, 25600)             0         \n",
      "_________________________________________________________________\n",
      "dropout (Dropout)            (None, 25600)             0         \n",
      "_________________________________________________________________\n",
      "dense (Dense)                (None, 1)                 25601     \n",
      "=================================================================\n",
      "Total params: 414,017\n",
      "Trainable params: 414,017\n",
      "Non-trainable params: 0\n",
      "_________________________________________________________________\n",
      "None\n"
     ]
    },
    {
     "name": "stderr",
     "output_type": "stream",
     "text": [
      "2022-08-03 14:31:42.428065: I tensorflow/compiler/jit/xla_cpu_device.cc:41] Not creating XLA devices, tf_xla_enable_xla_devices not set\n",
      "2022-08-03 14:31:42.432225: W tensorflow/stream_executor/platform/default/dso_loader.cc:60] Could not load dynamic library 'libcuda.so.1'; dlerror: libcuda.so.1: cannot open shared object file: No such file or directory\n",
      "2022-08-03 14:31:42.433016: W tensorflow/stream_executor/cuda/cuda_driver.cc:326] failed call to cuInit: UNKNOWN ERROR (303)\n",
      "2022-08-03 14:31:42.433224: I tensorflow/stream_executor/cuda/cuda_diagnostics.cc:156] kernel driver does not appear to be running on this host (a8bce4a08e2b): /proc/driver/nvidia/version does not exist\n",
      "2022-08-03 14:31:42.438407: I tensorflow/core/platform/cpu_feature_guard.cc:142] This TensorFlow binary is optimized with oneAPI Deep Neural Network Library (oneDNN) to use the following CPU instructions in performance-critical operations:  AVX2 FMA\n",
      "To enable them in other operations, rebuild TensorFlow with the appropriate compiler flags.\n",
      "2022-08-03 14:31:42.442401: I tensorflow/compiler/jit/xla_gpu_device.cc:99] Not creating XLA devices, tf_xla_enable_xla_devices not set\n"
     ]
    }
   ],
   "source": [
    "modelo = Sequential()\n",
    "modelo.add(Conv2D(32, kernel_size=3, activation='relu', input_shape=X_train[0].shape))\n",
    "#função de ativação relu é muito utilizado para problemas de regressão\n",
    "modelo.add(MaxPooling2D(pool_size=(2, 2), strides=(2, 2), padding='valid'))\n",
    "modelo.add(Conv2D(64, kernel_size=3, activation='relu'))\n",
    "modelo.add(MaxPooling2D(pool_size=(2, 2), strides=(2, 2), padding='valid'))\n",
    "modelo.add(Conv2D(128, kernel_size=3, activation='relu'))\n",
    "modelo.add(MaxPooling2D(pool_size=(2, 2), strides=(2, 2), padding='valid'))\n",
    "modelo.add(Conv2D(256, kernel_size=3, activation='relu'))\n",
    "modelo.add(MaxPooling2D(pool_size=(2, 2), strides=(2, 2), padding='valid'))\n",
    "modelo.add(Flatten())\n",
    "modelo.add(Dropout(0.9))\n",
    "modelo.add(Dense(1, activation='linear'))\n",
    "#apenas uma saída e de forma linear\n",
    "#modelo.compile(optimizer='adam', loss='mse', metrics=['mean_absolute_error'])\n",
    "modelo.compile(optimizer='adam', loss='mse', metrics=['mean_squared_error'])\n",
    "\n",
    "print(modelo.summary())"
   ]
  },
  {
   "cell_type": "markdown",
   "metadata": {
    "id": "xAjg4PVAvNRV"
   },
   "source": [
    "# Training and testing epochs"
   ]
  },
  {
   "cell_type": "code",
   "execution_count": 19,
   "metadata": {
    "id": "UEgVVSYcuNCa"
   },
   "outputs": [],
   "source": [
    "from tensorflow.keras.callbacks import EarlyStopping\n",
    "from tensorflow.keras.callbacks import ModelCheckpoint\n"
   ]
  },
  {
   "cell_type": "code",
   "execution_count": 20,
   "metadata": {
    "id": "Kk8JBQiKtKG0"
   },
   "outputs": [],
   "source": [
    "# simple early stopping\n",
    "es = EarlyStopping(monitor='val_loss', mode='min', verbose=1, patience=18)\n",
    "\n",
    "#mc = ModelCheckpoint('best_model.h5', monitor='val_accuracy', mode='max', verbose=1, save_best_only=True)"
   ]
  },
  {
   "cell_type": "code",
   "execution_count": 21,
   "metadata": {
    "colab": {
     "base_uri": "https://localhost:8080/"
    },
    "id": "flT1AIsOopAz",
    "outputId": "4d2ae49b-3cd5-49d1-9e49-690f6122ecc5"
   },
   "outputs": [
    {
     "name": "stderr",
     "output_type": "stream",
     "text": [
      "2022-08-03 14:31:59.074142: W tensorflow/core/framework/cpu_allocator_impl.cc:80] Allocation of 95400000 exceeds 10% of free system memory.\n",
      "2022-08-03 14:32:00.592794: I tensorflow/compiler/mlir/mlir_graph_optimization_pass.cc:116] None of the MLIR optimization passes are enabled (registered 2)\n",
      "2022-08-03 14:32:00.652879: I tensorflow/core/platform/profile_utils/cpu_utils.cc:112] CPU Frequency: 1800005000 Hz\n"
     ]
    },
    {
     "name": "stdout",
     "output_type": "stream",
     "text": [
      "Epoch 1/500\n"
     ]
    },
    {
     "name": "stderr",
     "output_type": "stream",
     "text": [
      "2022-08-03 14:32:01.960080: W tensorflow/core/framework/cpu_allocator_impl.cc:80] Allocation of 15360000 exceeds 10% of free system memory.\n",
      "2022-08-03 14:32:02.225278: W tensorflow/core/framework/cpu_allocator_impl.cc:80] Allocation of 160579584 exceeds 10% of free system memory.\n",
      "2022-08-03 14:32:03.595540: W tensorflow/core/framework/cpu_allocator_impl.cc:80] Allocation of 40144896 exceeds 10% of free system memory.\n",
      "2022-08-03 14:32:03.886030: W tensorflow/core/framework/cpu_allocator_impl.cc:80] Allocation of 77078528 exceeds 10% of free system memory.\n"
     ]
    },
    {
     "name": "stdout",
     "output_type": "stream",
     "text": [
      "25/25 - 57s - loss: 177838.4688 - mean_squared_error: 177838.4688 - val_loss: 164983.2188 - val_mean_squared_error: 164983.2188\n",
      "Epoch 2/500\n",
      "25/25 - 37s - loss: 115949.2031 - mean_squared_error: 115949.2031 - val_loss: 108810.2031 - val_mean_squared_error: 108810.2031\n",
      "Epoch 3/500\n",
      "25/25 - 36s - loss: 90322.7812 - mean_squared_error: 90322.7812 - val_loss: 97808.6719 - val_mean_squared_error: 97808.6719\n",
      "Epoch 4/500\n",
      "25/25 - 37s - loss: 80845.6875 - mean_squared_error: 80845.6875 - val_loss: 55668.5117 - val_mean_squared_error: 55668.5117\n",
      "Epoch 5/500\n",
      "25/25 - 35s - loss: 73477.7266 - mean_squared_error: 73477.7266 - val_loss: 52236.8516 - val_mean_squared_error: 52236.8516\n",
      "Epoch 6/500\n",
      "25/25 - 35s - loss: 68339.5547 - mean_squared_error: 68339.5547 - val_loss: 57900.4883 - val_mean_squared_error: 57900.4805\n",
      "Epoch 7/500\n",
      "25/25 - 36s - loss: 52872.5898 - mean_squared_error: 52872.5898 - val_loss: 54752.8867 - val_mean_squared_error: 54752.8867\n",
      "Epoch 8/500\n",
      "25/25 - 2537s - loss: 47315.4727 - mean_squared_error: 47315.4727 - val_loss: 37515.1523 - val_mean_squared_error: 37515.1523\n",
      "Epoch 9/500\n",
      "25/25 - 37s - loss: 48508.6758 - mean_squared_error: 48508.6758 - val_loss: 34987.8398 - val_mean_squared_error: 34987.8398\n",
      "Epoch 10/500\n",
      "25/25 - 36s - loss: 47555.6836 - mean_squared_error: 47555.6836 - val_loss: 33451.9883 - val_mean_squared_error: 33451.9883\n",
      "Epoch 11/500\n",
      "25/25 - 34s - loss: 33724.7617 - mean_squared_error: 33724.7617 - val_loss: 48495.5703 - val_mean_squared_error: 48495.5703\n",
      "Epoch 12/500\n",
      "25/25 - 36s - loss: 30913.7637 - mean_squared_error: 30913.7637 - val_loss: 37625.3867 - val_mean_squared_error: 37625.3867\n",
      "Epoch 13/500\n",
      "25/25 - 32s - loss: 40115.1250 - mean_squared_error: 40115.1250 - val_loss: 29001.8906 - val_mean_squared_error: 29001.8906\n",
      "Epoch 14/500\n",
      "25/25 - 31s - loss: 36121.7500 - mean_squared_error: 36121.7500 - val_loss: 34811.0195 - val_mean_squared_error: 34811.0195\n",
      "Epoch 15/500\n",
      "25/25 - 32s - loss: 37951.9492 - mean_squared_error: 37951.9492 - val_loss: 36910.7109 - val_mean_squared_error: 36910.7109\n",
      "Epoch 16/500\n",
      "25/25 - 32s - loss: 30562.1426 - mean_squared_error: 30562.1426 - val_loss: 28360.5664 - val_mean_squared_error: 28360.5664\n",
      "Epoch 17/500\n",
      "25/25 - 36s - loss: 46445.1562 - mean_squared_error: 46445.1562 - val_loss: 34118.8164 - val_mean_squared_error: 34118.8164\n",
      "Epoch 18/500\n",
      "25/25 - 33s - loss: 42779.8789 - mean_squared_error: 42779.8789 - val_loss: 28010.9023 - val_mean_squared_error: 28010.9023\n",
      "Epoch 19/500\n",
      "25/25 - 33s - loss: 29004.1914 - mean_squared_error: 29004.1914 - val_loss: 28147.5332 - val_mean_squared_error: 28147.5332\n",
      "Epoch 20/500\n",
      "25/25 - 34s - loss: 28740.9355 - mean_squared_error: 28740.9355 - val_loss: 24018.6328 - val_mean_squared_error: 24018.6328\n",
      "Epoch 21/500\n",
      "25/25 - 33s - loss: 27206.0332 - mean_squared_error: 27206.0332 - val_loss: 21857.6855 - val_mean_squared_error: 21857.6855\n",
      "Epoch 22/500\n",
      "25/25 - 33s - loss: 24203.6094 - mean_squared_error: 24203.6094 - val_loss: 19481.1992 - val_mean_squared_error: 19481.1992\n",
      "Epoch 23/500\n",
      "25/25 - 33s - loss: 29053.8887 - mean_squared_error: 29053.8887 - val_loss: 40960.7578 - val_mean_squared_error: 40960.7578\n",
      "Epoch 24/500\n",
      "25/25 - 33s - loss: 30755.0508 - mean_squared_error: 30755.0508 - val_loss: 23576.2383 - val_mean_squared_error: 23576.2383\n",
      "Epoch 25/500\n",
      "25/25 - 33s - loss: 22984.3398 - mean_squared_error: 22984.3398 - val_loss: 20397.2598 - val_mean_squared_error: 20397.2598\n",
      "Epoch 26/500\n",
      "25/25 - 33s - loss: 28697.8926 - mean_squared_error: 28697.8926 - val_loss: 27725.9668 - val_mean_squared_error: 27725.9668\n",
      "Epoch 27/500\n",
      "25/25 - 33s - loss: 22772.8906 - mean_squared_error: 22772.8906 - val_loss: 19420.0684 - val_mean_squared_error: 19420.0684\n",
      "Epoch 28/500\n",
      "25/25 - 33s - loss: 32378.4805 - mean_squared_error: 32378.4805 - val_loss: 48612.5859 - val_mean_squared_error: 48612.5859\n",
      "Epoch 29/500\n",
      "25/25 - 34s - loss: 28067.8984 - mean_squared_error: 28067.8984 - val_loss: 20823.6387 - val_mean_squared_error: 20823.6387\n",
      "Epoch 30/500\n",
      "25/25 - 33s - loss: 26886.3652 - mean_squared_error: 26886.3652 - val_loss: 26870.7129 - val_mean_squared_error: 26870.7129\n",
      "Epoch 31/500\n",
      "25/25 - 33s - loss: 22721.7383 - mean_squared_error: 22721.7383 - val_loss: 22338.1094 - val_mean_squared_error: 22338.1094\n",
      "Epoch 32/500\n",
      "25/25 - 34s - loss: 20662.5020 - mean_squared_error: 20662.5020 - val_loss: 20592.9121 - val_mean_squared_error: 20592.9121\n",
      "Epoch 33/500\n",
      "25/25 - 34s - loss: 21988.5918 - mean_squared_error: 21988.5918 - val_loss: 24685.1504 - val_mean_squared_error: 24685.1504\n",
      "Epoch 34/500\n",
      "25/25 - 33s - loss: 21256.9531 - mean_squared_error: 21256.9531 - val_loss: 23341.9277 - val_mean_squared_error: 23341.9277\n",
      "Epoch 35/500\n",
      "25/25 - 34s - loss: 30389.1680 - mean_squared_error: 30389.1680 - val_loss: 22447.5645 - val_mean_squared_error: 22447.5645\n",
      "Epoch 36/500\n",
      "25/25 - 33s - loss: 22797.5996 - mean_squared_error: 22797.5996 - val_loss: 17834.2891 - val_mean_squared_error: 17834.2891\n",
      "Epoch 37/500\n",
      "25/25 - 35s - loss: 20512.3008 - mean_squared_error: 20512.3008 - val_loss: 25131.3145 - val_mean_squared_error: 25131.3145\n",
      "Epoch 38/500\n",
      "25/25 - 34s - loss: 20414.4258 - mean_squared_error: 20414.4258 - val_loss: 16483.1738 - val_mean_squared_error: 16483.1738\n",
      "Epoch 39/500\n",
      "25/25 - 34s - loss: 17217.5254 - mean_squared_error: 17217.5254 - val_loss: 27852.6660 - val_mean_squared_error: 27852.6660\n",
      "Epoch 40/500\n",
      "25/25 - 34s - loss: 27145.1094 - mean_squared_error: 27145.1094 - val_loss: 18747.2227 - val_mean_squared_error: 18747.2227\n",
      "Epoch 41/500\n",
      "25/25 - 33s - loss: 25436.2559 - mean_squared_error: 25436.2559 - val_loss: 18332.8438 - val_mean_squared_error: 18332.8438\n",
      "Epoch 42/500\n",
      "25/25 - 34s - loss: 20514.1680 - mean_squared_error: 20514.1680 - val_loss: 16579.5664 - val_mean_squared_error: 16579.5664\n",
      "Epoch 43/500\n",
      "25/25 - 33s - loss: 19708.1016 - mean_squared_error: 19708.1016 - val_loss: 17094.9258 - val_mean_squared_error: 17094.9258\n",
      "Epoch 44/500\n",
      "25/25 - 34s - loss: 18408.9238 - mean_squared_error: 18408.9238 - val_loss: 15519.2246 - val_mean_squared_error: 15519.2246\n",
      "Epoch 45/500\n",
      "25/25 - 33s - loss: 14190.0293 - mean_squared_error: 14190.0293 - val_loss: 24441.7852 - val_mean_squared_error: 24441.7852\n",
      "Epoch 46/500\n",
      "25/25 - 33s - loss: 21325.4062 - mean_squared_error: 21325.4062 - val_loss: 22100.3730 - val_mean_squared_error: 22100.3730\n",
      "Epoch 47/500\n",
      "25/25 - 33s - loss: 24352.6836 - mean_squared_error: 24352.6836 - val_loss: 20766.2227 - val_mean_squared_error: 20766.2227\n",
      "Epoch 48/500\n",
      "25/25 - 33s - loss: 16724.9727 - mean_squared_error: 16724.9727 - val_loss: 14902.0381 - val_mean_squared_error: 14902.0381\n",
      "Epoch 49/500\n",
      "25/25 - 33s - loss: 18714.6328 - mean_squared_error: 18714.6328 - val_loss: 24114.8242 - val_mean_squared_error: 24114.8242\n",
      "Epoch 50/500\n",
      "25/25 - 33s - loss: 17786.3945 - mean_squared_error: 17786.3945 - val_loss: 18477.9922 - val_mean_squared_error: 18477.9922\n",
      "Epoch 51/500\n",
      "25/25 - 34s - loss: 22113.9883 - mean_squared_error: 22113.9883 - val_loss: 23172.0117 - val_mean_squared_error: 23172.0117\n",
      "Epoch 52/500\n",
      "25/25 - 33s - loss: 16892.6992 - mean_squared_error: 16892.6992 - val_loss: 15686.4385 - val_mean_squared_error: 15686.4385\n",
      "Epoch 53/500\n",
      "25/25 - 33s - loss: 13337.5762 - mean_squared_error: 13337.5762 - val_loss: 11714.9834 - val_mean_squared_error: 11714.9834\n",
      "Epoch 54/500\n",
      "25/25 - 33s - loss: 14500.7480 - mean_squared_error: 14500.7480 - val_loss: 17230.9980 - val_mean_squared_error: 17230.9980\n",
      "Epoch 55/500\n",
      "25/25 - 33s - loss: 12498.4805 - mean_squared_error: 12498.4805 - val_loss: 11129.4980 - val_mean_squared_error: 11129.4980\n",
      "Epoch 56/500\n",
      "25/25 - 33s - loss: 11287.1084 - mean_squared_error: 11287.1084 - val_loss: 13233.0371 - val_mean_squared_error: 13233.0371\n",
      "Epoch 57/500\n",
      "25/25 - 33s - loss: 11946.7646 - mean_squared_error: 11946.7646 - val_loss: 12809.1582 - val_mean_squared_error: 12809.1582\n",
      "Epoch 58/500\n",
      "25/25 - 33s - loss: 12885.8037 - mean_squared_error: 12885.8037 - val_loss: 11352.5215 - val_mean_squared_error: 11352.5215\n",
      "Epoch 59/500\n",
      "25/25 - 2854s - loss: 11537.4199 - mean_squared_error: 11537.4199 - val_loss: 10229.7861 - val_mean_squared_error: 10229.7861\n",
      "Epoch 60/500\n",
      "25/25 - 31s - loss: 12707.5693 - mean_squared_error: 12707.5693 - val_loss: 10259.6328 - val_mean_squared_error: 10259.6328\n",
      "Epoch 61/500\n",
      "25/25 - 31s - loss: 15711.0391 - mean_squared_error: 15711.0391 - val_loss: 33199.4102 - val_mean_squared_error: 33199.4102\n",
      "Epoch 62/500\n",
      "25/25 - 31s - loss: 15710.6064 - mean_squared_error: 15710.6064 - val_loss: 18096.6113 - val_mean_squared_error: 18096.6113\n",
      "Epoch 63/500\n",
      "25/25 - 31s - loss: 13457.9004 - mean_squared_error: 13457.9004 - val_loss: 9964.8818 - val_mean_squared_error: 9964.8818\n",
      "Epoch 64/500\n",
      "25/25 - 32s - loss: 12568.8047 - mean_squared_error: 12568.8047 - val_loss: 12676.9102 - val_mean_squared_error: 12676.9102\n",
      "Epoch 65/500\n",
      "25/25 - 31s - loss: 9380.6748 - mean_squared_error: 9380.6748 - val_loss: 9903.2471 - val_mean_squared_error: 9903.2471\n",
      "Epoch 66/500\n",
      "25/25 - 31s - loss: 9654.6562 - mean_squared_error: 9654.6562 - val_loss: 9644.1807 - val_mean_squared_error: 9644.1807\n",
      "Epoch 67/500\n",
      "25/25 - 31s - loss: 10372.6084 - mean_squared_error: 10372.6084 - val_loss: 15124.3535 - val_mean_squared_error: 15124.3535\n",
      "Epoch 68/500\n",
      "25/25 - 32s - loss: 14558.3662 - mean_squared_error: 14558.3662 - val_loss: 13078.0176 - val_mean_squared_error: 13078.0176\n",
      "Epoch 69/500\n",
      "25/25 - 32s - loss: 9649.1094 - mean_squared_error: 9649.1094 - val_loss: 11560.7314 - val_mean_squared_error: 11560.7314\n",
      "Epoch 70/500\n",
      "25/25 - 32s - loss: 8779.3574 - mean_squared_error: 8779.3574 - val_loss: 9598.8584 - val_mean_squared_error: 9598.8584\n",
      "Epoch 71/500\n",
      "25/25 - 32s - loss: 9724.5518 - mean_squared_error: 9724.5518 - val_loss: 7977.4844 - val_mean_squared_error: 7977.4844\n",
      "Epoch 72/500\n",
      "25/25 - 32s - loss: 9321.7520 - mean_squared_error: 9321.7520 - val_loss: 15067.2129 - val_mean_squared_error: 15067.2129\n",
      "Epoch 73/500\n",
      "25/25 - 33s - loss: 9378.9814 - mean_squared_error: 9378.9814 - val_loss: 11383.6367 - val_mean_squared_error: 11383.6367\n",
      "Epoch 74/500\n",
      "25/25 - 33s - loss: 10087.5771 - mean_squared_error: 10087.5771 - val_loss: 11761.1074 - val_mean_squared_error: 11761.1074\n",
      "Epoch 75/500\n",
      "25/25 - 33s - loss: 8495.0488 - mean_squared_error: 8495.0488 - val_loss: 10802.5469 - val_mean_squared_error: 10802.5469\n",
      "Epoch 76/500\n",
      "25/25 - 32s - loss: 10383.6064 - mean_squared_error: 10383.6064 - val_loss: 10023.1338 - val_mean_squared_error: 10023.1338\n",
      "Epoch 77/500\n",
      "25/25 - 35s - loss: 9825.5508 - mean_squared_error: 9825.5508 - val_loss: 12918.5791 - val_mean_squared_error: 12918.5791\n",
      "Epoch 78/500\n",
      "25/25 - 34s - loss: 8930.4131 - mean_squared_error: 8930.4131 - val_loss: 7377.4258 - val_mean_squared_error: 7377.4258\n",
      "Epoch 79/500\n",
      "25/25 - 33s - loss: 6335.2407 - mean_squared_error: 6335.2407 - val_loss: 8328.0088 - val_mean_squared_error: 8328.0088\n",
      "Epoch 80/500\n",
      "25/25 - 33s - loss: 10533.8457 - mean_squared_error: 10533.8457 - val_loss: 15322.8955 - val_mean_squared_error: 15322.8955\n",
      "Epoch 81/500\n",
      "25/25 - 33s - loss: 11043.0752 - mean_squared_error: 11043.0752 - val_loss: 12550.0664 - val_mean_squared_error: 12550.0664\n",
      "Epoch 82/500\n",
      "25/25 - 33s - loss: 11298.1689 - mean_squared_error: 11298.1689 - val_loss: 13337.9912 - val_mean_squared_error: 13337.9912\n",
      "Epoch 83/500\n",
      "25/25 - 33s - loss: 10479.2139 - mean_squared_error: 10479.2139 - val_loss: 13932.7334 - val_mean_squared_error: 13932.7334\n",
      "Epoch 84/500\n",
      "25/25 - 33s - loss: 9404.3525 - mean_squared_error: 9404.3525 - val_loss: 8662.2002 - val_mean_squared_error: 8662.2002\n",
      "Epoch 85/500\n",
      "25/25 - 33s - loss: 7804.5923 - mean_squared_error: 7804.5923 - val_loss: 10509.3828 - val_mean_squared_error: 10509.3828\n",
      "Epoch 86/500\n",
      "25/25 - 34s - loss: 7346.7017 - mean_squared_error: 7346.7017 - val_loss: 6950.1450 - val_mean_squared_error: 6950.1450\n",
      "Epoch 87/500\n",
      "25/25 - 34s - loss: 7931.5430 - mean_squared_error: 7931.5430 - val_loss: 9446.0791 - val_mean_squared_error: 9446.0791\n",
      "Epoch 88/500\n",
      "25/25 - 33s - loss: 6967.9146 - mean_squared_error: 6967.9146 - val_loss: 7442.0659 - val_mean_squared_error: 7442.0659\n",
      "Epoch 89/500\n",
      "25/25 - 33s - loss: 9030.0586 - mean_squared_error: 9030.0586 - val_loss: 10491.4629 - val_mean_squared_error: 10491.4629\n",
      "Epoch 90/500\n",
      "25/25 - 33s - loss: 6167.6440 - mean_squared_error: 6167.6440 - val_loss: 7710.8491 - val_mean_squared_error: 7710.8491\n",
      "Epoch 91/500\n",
      "25/25 - 34s - loss: 8603.4766 - mean_squared_error: 8603.4766 - val_loss: 11888.3906 - val_mean_squared_error: 11888.3906\n",
      "Epoch 92/500\n",
      "25/25 - 33s - loss: 6523.6797 - mean_squared_error: 6523.6797 - val_loss: 6502.1504 - val_mean_squared_error: 6502.1504\n",
      "Epoch 93/500\n",
      "25/25 - 34s - loss: 6096.6113 - mean_squared_error: 6096.6113 - val_loss: 6440.3921 - val_mean_squared_error: 6440.3921\n",
      "Epoch 94/500\n",
      "25/25 - 33s - loss: 4925.7900 - mean_squared_error: 4925.7900 - val_loss: 7080.9443 - val_mean_squared_error: 7080.9443\n",
      "Epoch 95/500\n",
      "25/25 - 33s - loss: 5935.0649 - mean_squared_error: 5935.0649 - val_loss: 10673.0674 - val_mean_squared_error: 10673.0674\n",
      "Epoch 96/500\n",
      "25/25 - 33s - loss: 7267.4414 - mean_squared_error: 7267.4414 - val_loss: 7376.1714 - val_mean_squared_error: 7376.1714\n",
      "Epoch 97/500\n",
      "25/25 - 33s - loss: 7078.9097 - mean_squared_error: 7078.9097 - val_loss: 7632.3682 - val_mean_squared_error: 7632.3682\n",
      "Epoch 98/500\n",
      "25/25 - 33s - loss: 4730.9873 - mean_squared_error: 4730.9873 - val_loss: 5737.5728 - val_mean_squared_error: 5737.5728\n",
      "Epoch 99/500\n",
      "25/25 - 33s - loss: 4841.9614 - mean_squared_error: 4841.9614 - val_loss: 6434.3418 - val_mean_squared_error: 6434.3418\n",
      "Epoch 100/500\n",
      "25/25 - 33s - loss: 4956.1992 - mean_squared_error: 4956.1992 - val_loss: 6068.7236 - val_mean_squared_error: 6068.7236\n",
      "Epoch 101/500\n",
      "25/25 - 33s - loss: 4288.5781 - mean_squared_error: 4288.5781 - val_loss: 5745.6968 - val_mean_squared_error: 5745.6968\n",
      "Epoch 102/500\n",
      "25/25 - 34s - loss: 3927.4268 - mean_squared_error: 3927.4268 - val_loss: 6125.1421 - val_mean_squared_error: 6125.1421\n",
      "Epoch 103/500\n",
      "25/25 - 33s - loss: 4453.5522 - mean_squared_error: 4453.5522 - val_loss: 6536.5947 - val_mean_squared_error: 6536.5947\n",
      "Epoch 104/500\n",
      "25/25 - 34s - loss: 6856.6646 - mean_squared_error: 6856.6646 - val_loss: 8218.3203 - val_mean_squared_error: 8218.3203\n",
      "Epoch 105/500\n",
      "25/25 - 34s - loss: 6833.4326 - mean_squared_error: 6833.4326 - val_loss: 8385.9297 - val_mean_squared_error: 8385.9297\n",
      "Epoch 106/500\n",
      "25/25 - 33s - loss: 6502.8433 - mean_squared_error: 6502.8433 - val_loss: 7073.3877 - val_mean_squared_error: 7073.3877\n",
      "Epoch 107/500\n",
      "25/25 - 33s - loss: 4407.9722 - mean_squared_error: 4407.9722 - val_loss: 7221.9531 - val_mean_squared_error: 7221.9521\n",
      "Epoch 108/500\n",
      "25/25 - 33s - loss: 4935.3618 - mean_squared_error: 4935.3618 - val_loss: 9165.9102 - val_mean_squared_error: 9165.9102\n",
      "Epoch 109/500\n",
      "25/25 - 33s - loss: 4576.5288 - mean_squared_error: 4576.5288 - val_loss: 5998.0259 - val_mean_squared_error: 5998.0259\n",
      "Epoch 110/500\n",
      "25/25 - 33s - loss: 3948.2676 - mean_squared_error: 3948.2676 - val_loss: 5784.6611 - val_mean_squared_error: 5784.6611\n",
      "Epoch 111/500\n",
      "25/25 - 34s - loss: 4357.9717 - mean_squared_error: 4357.9717 - val_loss: 7232.7852 - val_mean_squared_error: 7232.7852\n",
      "Epoch 112/500\n",
      "25/25 - 34s - loss: 4536.5254 - mean_squared_error: 4536.5254 - val_loss: 6597.2485 - val_mean_squared_error: 6597.2485\n",
      "Epoch 113/500\n",
      "25/25 - 35s - loss: 3731.5056 - mean_squared_error: 3731.5056 - val_loss: 5712.1323 - val_mean_squared_error: 5712.1323\n",
      "Epoch 114/500\n",
      "25/25 - 35s - loss: 3777.7849 - mean_squared_error: 3777.7849 - val_loss: 5860.1460 - val_mean_squared_error: 5860.1460\n",
      "Epoch 115/500\n",
      "25/25 - 34s - loss: 3740.5771 - mean_squared_error: 3740.5771 - val_loss: 5959.1519 - val_mean_squared_error: 5959.1519\n",
      "Epoch 116/500\n",
      "25/25 - 34s - loss: 3313.9836 - mean_squared_error: 3313.9836 - val_loss: 6185.9897 - val_mean_squared_error: 6185.9897\n",
      "Epoch 117/500\n",
      "25/25 - 34s - loss: 4211.2144 - mean_squared_error: 4211.2144 - val_loss: 10255.3105 - val_mean_squared_error: 10255.3105\n",
      "Epoch 118/500\n",
      "25/25 - 35s - loss: 4012.0886 - mean_squared_error: 4012.0886 - val_loss: 5171.6714 - val_mean_squared_error: 5171.6714\n",
      "Epoch 119/500\n",
      "25/25 - 34s - loss: 2735.7480 - mean_squared_error: 2735.7480 - val_loss: 5791.5039 - val_mean_squared_error: 5791.5039\n",
      "Epoch 120/500\n",
      "25/25 - 34s - loss: 3234.7917 - mean_squared_error: 3234.7917 - val_loss: 5728.1597 - val_mean_squared_error: 5728.1597\n",
      "Epoch 121/500\n",
      "25/25 - 34s - loss: 2684.7007 - mean_squared_error: 2684.7007 - val_loss: 5435.9541 - val_mean_squared_error: 5435.9541\n",
      "Epoch 122/500\n",
      "25/25 - 35s - loss: 3833.8560 - mean_squared_error: 3833.8560 - val_loss: 7226.3569 - val_mean_squared_error: 7226.3569\n",
      "Epoch 123/500\n",
      "25/25 - 33s - loss: 3961.0535 - mean_squared_error: 3961.0535 - val_loss: 5702.2764 - val_mean_squared_error: 5702.2764\n",
      "Epoch 124/500\n",
      "25/25 - 34s - loss: 3459.4160 - mean_squared_error: 3459.4160 - val_loss: 7321.5571 - val_mean_squared_error: 7321.5571\n",
      "Epoch 125/500\n",
      "25/25 - 34s - loss: 3552.1082 - mean_squared_error: 3552.1082 - val_loss: 5101.0884 - val_mean_squared_error: 5101.0884\n",
      "Epoch 126/500\n",
      "25/25 - 34s - loss: 2521.0286 - mean_squared_error: 2521.0286 - val_loss: 5612.6802 - val_mean_squared_error: 5612.6802\n",
      "Epoch 127/500\n",
      "25/25 - 34s - loss: 2488.6887 - mean_squared_error: 2488.6887 - val_loss: 5266.6680 - val_mean_squared_error: 5266.6680\n",
      "Epoch 128/500\n",
      "25/25 - 34s - loss: 2623.7905 - mean_squared_error: 2623.7905 - val_loss: 5813.7236 - val_mean_squared_error: 5813.7236\n",
      "Epoch 129/500\n",
      "25/25 - 34s - loss: 2295.9404 - mean_squared_error: 2295.9404 - val_loss: 5204.9116 - val_mean_squared_error: 5204.9111\n",
      "Epoch 130/500\n",
      "25/25 - 33s - loss: 3815.8752 - mean_squared_error: 3815.8752 - val_loss: 5712.8892 - val_mean_squared_error: 5712.8892\n",
      "Epoch 131/500\n",
      "25/25 - 34s - loss: 2466.2117 - mean_squared_error: 2466.2117 - val_loss: 5349.4448 - val_mean_squared_error: 5349.4448\n",
      "Epoch 132/500\n",
      "25/25 - 34s - loss: 2265.1699 - mean_squared_error: 2265.1699 - val_loss: 5042.0254 - val_mean_squared_error: 5042.0254\n",
      "Epoch 133/500\n",
      "25/25 - 34s - loss: 2143.4434 - mean_squared_error: 2143.4434 - val_loss: 4542.5303 - val_mean_squared_error: 4542.5303\n",
      "Epoch 134/500\n",
      "25/25 - 34s - loss: 2319.8403 - mean_squared_error: 2319.8403 - val_loss: 4804.6392 - val_mean_squared_error: 4804.6392\n",
      "Epoch 135/500\n",
      "25/25 - 34s - loss: 2059.6355 - mean_squared_error: 2059.6355 - val_loss: 5301.7783 - val_mean_squared_error: 5301.7783\n",
      "Epoch 136/500\n",
      "25/25 - 33s - loss: 3437.8735 - mean_squared_error: 3437.8735 - val_loss: 5476.2363 - val_mean_squared_error: 5476.2363\n",
      "Epoch 137/500\n",
      "25/25 - 34s - loss: 2129.0430 - mean_squared_error: 2129.0430 - val_loss: 4806.1421 - val_mean_squared_error: 4806.1421\n",
      "Epoch 138/500\n",
      "25/25 - 34s - loss: 1894.6672 - mean_squared_error: 1894.6672 - val_loss: 4955.0728 - val_mean_squared_error: 4955.0728\n",
      "Epoch 139/500\n",
      "25/25 - 34s - loss: 2103.5974 - mean_squared_error: 2103.5974 - val_loss: 5095.2114 - val_mean_squared_error: 5095.2114\n",
      "Epoch 140/500\n",
      "25/25 - 34s - loss: 2346.7214 - mean_squared_error: 2346.7214 - val_loss: 5845.3608 - val_mean_squared_error: 5845.3608\n",
      "Epoch 141/500\n",
      "25/25 - 34s - loss: 2221.7002 - mean_squared_error: 2221.7002 - val_loss: 4902.7939 - val_mean_squared_error: 4902.7939\n",
      "Epoch 142/500\n",
      "25/25 - 34s - loss: 2012.1061 - mean_squared_error: 2012.1061 - val_loss: 4873.1895 - val_mean_squared_error: 4873.1895\n",
      "Epoch 143/500\n",
      "25/25 - 34s - loss: 1945.9749 - mean_squared_error: 1945.9749 - val_loss: 4931.5684 - val_mean_squared_error: 4931.5684\n",
      "Epoch 144/500\n",
      "25/25 - 33s - loss: 1992.5834 - mean_squared_error: 1992.5834 - val_loss: 5062.0610 - val_mean_squared_error: 5062.0610\n",
      "Epoch 145/500\n",
      "25/25 - 34s - loss: 2499.5327 - mean_squared_error: 2499.5327 - val_loss: 4626.8877 - val_mean_squared_error: 4626.8877\n",
      "Epoch 146/500\n",
      "25/25 - 34s - loss: 2995.4075 - mean_squared_error: 2995.4075 - val_loss: 6183.9663 - val_mean_squared_error: 6183.9663\n",
      "Epoch 147/500\n",
      "25/25 - 34s - loss: 2600.4365 - mean_squared_error: 2600.4365 - val_loss: 5032.1938 - val_mean_squared_error: 5032.1938\n",
      "Epoch 148/500\n",
      "25/25 - 34s - loss: 1893.5250 - mean_squared_error: 1893.5250 - val_loss: 4472.4238 - val_mean_squared_error: 4472.4238\n",
      "Epoch 149/500\n",
      "25/25 - 13790s - loss: 1969.8761 - mean_squared_error: 1969.8761 - val_loss: 4455.0918 - val_mean_squared_error: 4455.0918\n",
      "Epoch 150/500\n",
      "25/25 - 49s - loss: 1976.4805 - mean_squared_error: 1976.4805 - val_loss: 4486.7554 - val_mean_squared_error: 4486.7554\n",
      "Epoch 151/500\n",
      "25/25 - 46s - loss: 1507.7369 - mean_squared_error: 1507.7369 - val_loss: 4529.3652 - val_mean_squared_error: 4529.3652\n",
      "Epoch 152/500\n",
      "25/25 - 40s - loss: 1794.0972 - mean_squared_error: 1794.0972 - val_loss: 4470.3896 - val_mean_squared_error: 4470.3896\n",
      "Epoch 153/500\n",
      "25/25 - 38s - loss: 1893.6483 - mean_squared_error: 1893.6483 - val_loss: 5325.2480 - val_mean_squared_error: 5325.2480\n",
      "Epoch 154/500\n",
      "25/25 - 38s - loss: 1942.2375 - mean_squared_error: 1942.2375 - val_loss: 4810.8374 - val_mean_squared_error: 4810.8374\n",
      "Epoch 155/500\n",
      "25/25 - 39s - loss: 1971.7198 - mean_squared_error: 1971.7198 - val_loss: 4542.9565 - val_mean_squared_error: 4542.9565\n",
      "Epoch 156/500\n",
      "25/25 - 41s - loss: 1622.2162 - mean_squared_error: 1622.2162 - val_loss: 5335.8335 - val_mean_squared_error: 5335.8335\n",
      "Epoch 157/500\n",
      "25/25 - 46s - loss: 1892.7408 - mean_squared_error: 1892.7408 - val_loss: 4325.1831 - val_mean_squared_error: 4325.1831\n",
      "Epoch 158/500\n",
      "25/25 - 37s - loss: 1990.6019 - mean_squared_error: 1990.6019 - val_loss: 4788.4165 - val_mean_squared_error: 4788.4165\n",
      "Epoch 159/500\n",
      "25/25 - 36s - loss: 2480.5234 - mean_squared_error: 2480.5234 - val_loss: 5244.5596 - val_mean_squared_error: 5244.5596\n",
      "Epoch 160/500\n",
      "25/25 - 36s - loss: 1696.3315 - mean_squared_error: 1696.3315 - val_loss: 5416.8867 - val_mean_squared_error: 5416.8867\n",
      "Epoch 161/500\n",
      "25/25 - 36s - loss: 1728.5291 - mean_squared_error: 1728.5291 - val_loss: 4429.7510 - val_mean_squared_error: 4429.7510\n",
      "Epoch 162/500\n",
      "25/25 - 36s - loss: 1673.8756 - mean_squared_error: 1673.8756 - val_loss: 4985.7529 - val_mean_squared_error: 4985.7529\n",
      "Epoch 163/500\n",
      "25/25 - 42s - loss: 3399.6384 - mean_squared_error: 3399.6384 - val_loss: 6940.1504 - val_mean_squared_error: 6940.1504\n",
      "Epoch 164/500\n",
      "25/25 - 42s - loss: 3323.8682 - mean_squared_error: 3323.8682 - val_loss: 4637.4521 - val_mean_squared_error: 4637.4521\n",
      "Epoch 165/500\n",
      "25/25 - 47s - loss: 3503.4189 - mean_squared_error: 3503.4189 - val_loss: 8479.6895 - val_mean_squared_error: 8479.6895\n",
      "Epoch 166/500\n",
      "25/25 - 43s - loss: 3401.0808 - mean_squared_error: 3401.0808 - val_loss: 4858.0693 - val_mean_squared_error: 4858.0693\n",
      "Epoch 167/500\n",
      "25/25 - 46s - loss: 2390.0647 - mean_squared_error: 2390.0647 - val_loss: 5471.3159 - val_mean_squared_error: 5471.3159\n",
      "Epoch 168/500\n",
      "25/25 - 42s - loss: 2096.9146 - mean_squared_error: 2096.9146 - val_loss: 4719.6362 - val_mean_squared_error: 4719.6362\n",
      "Epoch 169/500\n",
      "25/25 - 41s - loss: 2326.9509 - mean_squared_error: 2326.9509 - val_loss: 8537.1045 - val_mean_squared_error: 8537.1045\n",
      "Epoch 170/500\n",
      "25/25 - 36s - loss: 5917.1958 - mean_squared_error: 5917.1958 - val_loss: 9585.5547 - val_mean_squared_error: 9585.5547\n",
      "Epoch 171/500\n",
      "25/25 - 36s - loss: 3028.1704 - mean_squared_error: 3028.1704 - val_loss: 5289.8936 - val_mean_squared_error: 5289.8936\n",
      "Epoch 172/500\n",
      "25/25 - 38s - loss: 2054.6475 - mean_squared_error: 2054.6475 - val_loss: 5898.8213 - val_mean_squared_error: 5898.8213\n",
      "Epoch 173/500\n",
      "25/25 - 38s - loss: 1851.3340 - mean_squared_error: 1851.3340 - val_loss: 4877.0186 - val_mean_squared_error: 4877.0186\n",
      "Epoch 174/500\n",
      "25/25 - 39s - loss: 1652.0651 - mean_squared_error: 1652.0651 - val_loss: 4427.1963 - val_mean_squared_error: 4427.1963\n",
      "Epoch 175/500\n",
      "25/25 - 40s - loss: 1512.1827 - mean_squared_error: 1512.1827 - val_loss: 4454.4932 - val_mean_squared_error: 4454.4932\n",
      "Epoch 00175: early stopping\n"
     ]
    }
   ],
   "source": [
    "# fit model\n",
    "history = modelo.fit(X_train,y_train,\n",
    "                    validation_data=(X_test, y_test), \n",
    "                    epochs=500, verbose=2, \n",
    "                    callbacks=[es]\n",
    "                     )"
   ]
  },
  {
   "cell_type": "code",
   "execution_count": null,
   "metadata": {
    "id": "0YkcOvC7XjY8"
   },
   "outputs": [],
   "source": [
    "data = timeProcess()[1]"
   ]
  },
  {
   "cell_type": "code",
   "execution_count": null,
   "metadata": {
    "id": "WXMNQlYeXZga"
   },
   "outputs": [],
   "source": [
    "modelo.save('./../../results/model__A549_regressao_menor_erro_Mean_squared_error_30%_18_PACIENCE'+data+'.h5')"
   ]
  },
  {
   "cell_type": "markdown",
   "metadata": {
    "cell_id": "00040-4b571408-a790-4e76-99df-23a92c28cd25",
    "deepnote_cell_type": "text-cell-h2",
    "id": "BTA3Xw5y4tJw",
    "is_collapsed": false,
    "tags": []
   },
   "source": [
    "## Accuracy Assessment"
   ]
  },
  {
   "cell_type": "code",
   "execution_count": null,
   "metadata": {
    "cell_id": "00028-91ae04ee-eb68-410d-9d0c-a503131c11d3",
    "colab": {
     "base_uri": "https://localhost:8080/",
     "height": 295
    },
    "deepnote_cell_type": "code",
    "deepnote_to_be_reexecuted": false,
    "execution_millis": 208,
    "execution_start": 1633367587203,
    "id": "yESKf6yz4tJ0",
    "outputId": "d1faa12a-545d-44b8-a1fe-735606f36de9",
    "source_hash": "b96ca127",
    "tags": []
   },
   "outputs": [
    {
     "data": {
      "image/png": "[encoded data removed]",
      "text/plain": [
       "<Figure size 432x288 with 1 Axes>"
      ]
     },
     "metadata": {
      "needs_background": "light"
     },
     "output_type": "display_data"
    }
   ],
   "source": [
    "#gráfico avaliando a acurácia a partir de treino e teste\n",
    "plt.plot(history.history['mean_squared_error'])\n",
    "plt.plot(history.history['val_mean_squared_error'])\n",
    "plt.title('Accuracy Metric')\n",
    "plt.ylabel('MSE')\n",
    "plt.xlabel('Epochs')\n",
    "plt.legend(['train', 'test'], loc='upper left')\n",
    "plt.show()"
   ]
  },
  {
   "cell_type": "code",
   "execution_count": null,
   "metadata": {
    "cell_id": "00029-fcafda94-1f62-4b1d-99f9-8e40571aa205",
    "colab": {
     "base_uri": "https://localhost:8080/",
     "height": 295
    },
    "deepnote_cell_type": "code",
    "deepnote_to_be_reexecuted": false,
    "execution_millis": 5295,
    "execution_start": 1633367597958,
    "id": "LiIbTq_l4tJ2",
    "outputId": "ccc3faad-8d0e-4c91-b672-e67d8f3fb4f1",
    "source_hash": "96e272ff",
    "tags": []
   },
   "outputs": [
    {
     "data": {
      "image/png": "[encoded data removed]",
      "text/plain": [
       "<Figure size 432x288 with 1 Axes>"
      ]
     },
     "metadata": {
      "needs_background": "light"
     },
     "output_type": "display_data"
    }
   ],
   "source": [
    "#avaliando a previsão do modelo com os rótulos\n",
    "prev = modelo.predict(X_test)\n",
    "plt.title('Previsão dos valores Operetta')\n",
    "plt.ylabel('Rótulos')\n",
    "plt.xlabel('Previsão')\n",
    "\n",
    "plt.plot(prev)\n",
    "plt.plot(y_test)\n",
    "plt.show()"
   ]
  },
  {
   "cell_type": "markdown",
   "metadata": {
    "id": "0h2kPADevqYA"
   },
   "source": [
    "# # Qualit model analisys"
   ]
  },
  {
   "cell_type": "code",
   "execution_count": null,
   "metadata": {
    "cell_id": "00029-d40ab35b-5c84-4bf2-aaee-8420ac763fd8",
    "deepnote_cell_type": "code",
    "deepnote_to_be_reexecuted": false,
    "execution_millis": 0,
    "execution_start": 1633367609115,
    "id": "rUKnxWUE4tJ4",
    "source_hash": "3b8f2163",
    "tags": []
   },
   "outputs": [],
   "source": [
    "\n",
    "from sklearn.metrics import r2_score,mean_absolute_error, mean_squared_error, mean_squared_log_error, median_absolute_error"
   ]
  },
  {
   "cell_type": "code",
   "execution_count": null,
   "metadata": {
    "cell_id": "00047-d1f881d6-14d2-4951-97bc-8bb45c6a2252",
    "colab": {
     "base_uri": "https://localhost:8080/"
    },
    "deepnote_cell_type": "code",
    "deepnote_to_be_reexecuted": false,
    "execution_millis": 17,
    "execution_start": 1633367613280,
    "id": "WKMvZyHA4tJ5",
    "outputId": "d44a10a3-a133-46b1-b853-525598585bc4",
    "source_hash": "7d8190e2",
    "tags": []
   },
   "outputs": [
    {
     "name": "stdout",
     "output_type": "stream",
     "text": [
      "95.35% r2_score\n",
      "50.21 Erro médio absoluto\n",
      "4335.99 Erro médio quadrático\n"
     ]
    }
   ],
   "source": [
    "#buscando pelas métricas\n",
    "print(f\"{round(r2_score(y_test, prev) * 100, 2)}% r2_score\") #raíz quadrada\n",
    "print(f\"{round(mean_absolute_error(y_test, prev), 2)} Erro médio absoluto\") \n",
    "print(f\"{round(mean_squared_error(y_test, prev), 2)} Erro médio quadrático\") #erro médio quadrático\n",
    "# print(f\"{round(median_absolute_error(y_test, prev), 2)}\")#Erro médio absoluto sem %\n",
    "#print(f\"{round(median(y_test, prev), 2)} mediana\") #erro médio quadrático\n",
    "\n"
   ]
  }
 ],
 "metadata": {
  "accelerator": "GPU",
  "colab": {
   "collapsed_sections": [
    "Fn7PTn064tJ9"
   ],
   "include_colab_link": true,
   "name": "CNN_A549.ipynb",
   "provenance": []
  },
  "deepnote": {
   "is_reactive": false
  },
  "deepnote_execution_queue": [],
  "deepnote_notebook_id": "584901cd-d49a-4b58-a71a-e5a8d1bde069",
  "kernelspec": {
   "display_name": "Python 3 (ipykernel)",
   "language": "python",
   "name": "python3"
  },
  "language_info": {
   "codemirror_mode": {
    "name": "ipython",
    "version": 3
   },
   "file_extension": ".py",
   "mimetype": "text/x-python",
   "name": "python",
   "nbconvert_exporter": "python",
   "pygments_lexer": "ipython3",
   "version": "3.7.9"
  }
 },
 "nbformat": 4,
 "nbformat_minor": 4
}
