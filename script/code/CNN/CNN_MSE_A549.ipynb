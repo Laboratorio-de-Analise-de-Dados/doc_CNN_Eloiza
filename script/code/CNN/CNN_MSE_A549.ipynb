{
  "nbformat": 4,
  "nbformat_minor": 0,
  "metadata": {
    "orig_nbformat": 2,
    "deepnote": {
      "is_reactive": false
    },
    "deepnote_notebook_id": "584901cd-d49a-4b58-a71a-e5a8d1bde069",
    "deepnote_execution_queue": [],
    "colab": {
      "name": "CNN_A549.ipynb",
      "provenance": [],
      "collapsed_sections": [
        "Fn7PTn064tJ9"
      ],
      "include_colab_link": true
    },
    "language_info": {
      "name": "python"
    },
    "kernelspec": {
      "name": "python3",
      "display_name": "Python 3"
    },
    "accelerator": "GPU"
  },
  "cells": [
    {
      "cell_type": "markdown",
      "metadata": {
        "id": "view-in-github",
        "colab_type": "text"
      },
      "source": [
        "<a href=\"https://colab.research.google.com/github/eloiza-dias/cnn-correlation-code/blob/main/CNN_MSE_A549.ipynb\" target=\"_parent\"><img src=\"https://colab.research.google.com/assets/colab-badge.svg\" alt=\"Open In Colab\"/></a>"
      ]
    },
    {
      "cell_type": "markdown",
      "metadata": {
        "tags": [],
        "is_collapsed": false,
        "cell_id": "00000-288de0bc-8cc2-4998-872c-01f58e6fa085",
        "deepnote_cell_type": "text-cell-h1",
        "id": "i60H4h3U4tI1"
      },
      "source": [
        "# Cell line A549"
      ]
    },
    {
      "cell_type": "code",
      "metadata": {
        "colab": {
          "base_uri": "https://localhost:8080/"
        },
        "id": "-AM8VC3e48CW",
        "outputId": "1384b9d1-ac55-4325-cede-d0f4a20ebe1e"
      },
      "source": [
        "from google.colab import drive\n",
        "drive.mount('/content/drive')"
      ],
      "execution_count": null,
      "outputs": [
        {
          "output_type": "stream",
          "name": "stdout",
          "text": [
            "Mounted at /content/drive\n"
          ]
        }
      ]
    },
    {
      "cell_type": "markdown",
      "metadata": {
        "tags": [],
        "is_collapsed": false,
        "cell_id": "00000-9bdebeb7-f4c3-4b52-9360-68ef655b9779",
        "deepnote_cell_type": "text-cell-h1",
        "id": "eWnodvYd4tJA"
      },
      "source": [
        "# Imports data structuring\n",
        "\n",
        "\n"
      ]
    },
    {
      "cell_type": "code",
      "metadata": {
        "tags": [],
        "deepnote_to_be_reexecuted": false,
        "source_hash": "64fc40d5",
        "execution_start": 1633461500805,
        "execution_millis": 748,
        "cell_id": "00001-972e581c-6be2-452a-9163-ba15e69acd0d",
        "deepnote_cell_type": "code",
        "id": "fsIk6lJD4tJD"
      },
      "source": [
        "#organização dos arquivos\n",
        "import os\n",
        "#salvar/carregar arquivos em diferentes formatos\n",
        "import joblib\n",
        "#organizando os arquivos de forma aleatória\n",
        "import random\n",
        "#gerar gráfico\n",
        "import matplotlib\n",
        "#estruturação dos dados\n",
        "import numpy as np\n",
        "#gerar gráfico\n",
        "import seaborn as sns\n",
        "#gerar gráfico\n",
        "import matplotlib.pyplot as plt\n",
        "#gerar imagem\n",
        "import matplotlib.image as mpimg\n",
        "# Math\n",
        "from math import ceil\n"
      ],
      "execution_count": null,
      "outputs": []
    },
    {
      "cell_type": "markdown",
      "metadata": {
        "tags": [],
        "is_collapsed": false,
        "cell_id": "00002-9d58b1f9-b49b-45eb-a495-16f3ad253dcc",
        "deepnote_cell_type": "text-cell-h1",
        "id": "s8MqP3WQ4tJI"
      },
      "source": [
        "# CNN template import"
      ]
    },
    {
      "cell_type": "code",
      "metadata": {
        "colab": {
          "base_uri": "https://localhost:8080/"
        },
        "id": "6BUl2OMG5b-Q",
        "outputId": "0ecac13f-35a5-4c23-85ea-0064b067df15"
      },
      "source": [
        "pip install util-gfsilveira"
      ],
      "execution_count": null,
      "outputs": [
        {
          "output_type": "stream",
          "name": "stdout",
          "text": [
            "Looking in indexes: https://pypi.org/simple, https://us-python.pkg.dev/colab-wheels/public/simple/\n",
            "Collecting util-gfsilveira\n",
            "  Downloading util_gfsilveira-0.1-py3-none-any.whl (3.1 kB)\n",
            "Installing collected packages: util-gfsilveira\n",
            "Successfully installed util-gfsilveira-0.1\n"
          ]
        }
      ]
    },
    {
      "cell_type": "code",
      "metadata": {
        "tags": [],
        "deepnote_to_be_reexecuted": false,
        "source_hash": "654178fe",
        "execution_start": 1633461502575,
        "execution_millis": 1990,
        "cell_id": "00003-87f289b7-d2cd-4f4c-9db8-bdb01a8452d9",
        "deepnote_cell_type": "code",
        "id": "SdA4eoj94tJK"
      },
      "source": [
        "#modelo de revisão redes neurais - cnn\n",
        "from keras.models import Sequential\n",
        "from keras.utils.np_utils import to_categorical\n",
        "#from keras.utils import to_categorical\n",
        "from util import meus_uteis, timeProcess, mask_corr_graphic, printLis\n",
        "from sklearn.metrics import confusion_matrix, accuracy_score, classification_report\n",
        "from keras.layers import Dense, Conv2D, MaxPooling2D, Dropout, Flatten"
      ],
      "execution_count": null,
      "outputs": []
    },
    {
      "cell_type": "markdown",
      "metadata": {
        "tags": [],
        "is_collapsed": false,
        "cell_id": "00004-9cbd326e-031b-41f6-9acc-a1093d34c92f",
        "deepnote_cell_type": "text-cell-p",
        "id": "pgnUvf8G4tJM"
      },
      "source": [
        "Documents from different files will be stored in this directory"
      ]
    },
    {
      "cell_type": "code",
      "metadata": {
        "tags": [],
        "deepnote_to_be_reexecuted": false,
        "source_hash": "38a38df5",
        "execution_start": 1633461509648,
        "execution_millis": 17,
        "cell_id": "00005-12ddf809-8cd5-457c-8838-0469b9db7e9e",
        "deepnote_cell_type": "code",
        "colab": {
          "base_uri": "https://localhost:8080/"
        },
        "id": "aDOFmVHI4tJO",
        "outputId": "be83eb96-92bf-45bb-beb6-3c2399e9675d"
      },
      "source": [
        "diretorio = '/content/drive/MyDrive/1_Informações_scripts' #alimentando a variável com os arquivos da pasta datasets\n",
        "lista_dados = os.listdir(diretorio) #listando os arquivos dessa pasta\n",
        "printLis(lista_dados) #printando as diferentes listas"
      ],
      "execution_count": null,
      "outputs": [
        {
          "output_type": "stream",
          "name": "stdout",
          "text": [
            "-------------\n",
            "-=< Lista >=-\n",
            "-------------\n",
            "0 -> lista_img_camp_clar_100_resized_regressao_3T3_samehuh72021-10-25.gz\n",
            "1 -> lista_rotulo_camp_clar_100_resized_regressao_3T3_samehuh72021-10-25.gz\n",
            "2 -> lista_img_camp_clar_100_resized_regressao_A549_samehuh72021-10-25.gz\n",
            "3 -> lista_rotulo_camp_clar_100_resized_regressao_A549_samehuh72021-10-25.gz\n",
            "4 -> lista_img_camp_clar_100_resized_regressao_huh7_samehuh72021-10-25.gz\n",
            "5 -> lista_rotulo_camp_clar_100_resized_regressao_huh7_samehuh72021-10-25.gz\n",
            "6 -> model_A549_samehuh7_img2021-10-26.h5\n",
            "7 -> model_huh7_samehuh7_img2021-10-26.h5\n",
            "8 -> model__3T3_samehuh7_img2021-10-26.h5\n",
            "9 -> model_A549_samehuh7_img_40_602021-10-27.h5\n",
            "10 -> model_huh7_samehuh7_img_40_602021-10-27.h5\n",
            "11 -> model__3T3_samehuh7_img_40_602021-10-27.h5\n",
            "12 -> lista_img_camp_clar_100_resized_regressao_A5492021-11-9.gz\n",
            "13 -> lista_rotulo_camp_clar_100_resized_regressao_A5492021-11-9.gz\n",
            "14 -> lista_img_camp_clar_75_resized_regressao_A5492021-11-9.gz\n",
            "15 -> lista_rotulo_camp_clar_75_resized_regressao_A5492021-11-9.gz\n",
            "16 -> lista_img_camp_clar_50_resized_regressao_A5492021-11-9.gz\n",
            "17 -> lista_rotulo_camp_clar_50_resized_regressao_A5492021-11-9.gz\n",
            "18 -> lista_img_camp_clar_25_resized_regressao_A5492021-11-9.gz\n",
            "19 -> lista_rotulo_camp_clar_25_resized_regressao_A5492021-11-9.gz\n",
            "20 -> lista_img_camp_clar_100_resized_regressao_huh72021-11-9.gz\n",
            "21 -> lista_rotulo_camp_clar_100_resized_regressao_huh72021-11-9.gz\n",
            "22 -> lista_img_camp_clar_75_resized_regressao_HUH72021-11-9.gz\n",
            "23 -> lista_rotulo_camp_clar_75_resized_regressao_HUH72021-11-9.gz\n",
            "24 -> lista_img_camp_clar_50_resized_regressao_HUH72021-11-9.gz\n",
            "25 -> lista_rotulo_camp_clar_50_resized_regressao_HUH72021-11-9.gz\n",
            "26 -> lista_rotulo_camp_clar_25_resized_regressao_HUH72021-11-9.gz\n",
            "27 -> lista_img_camp_clar_25_resized_regressao_HUH72021-11-9.gz\n",
            "28 -> lista_img_camp_clar_100_resized_regressao_3T32021-11-9.gz\n",
            "29 -> lista_rotulo_camp_clar_100_resized_regressao_3T32021-11-9.gz\n",
            "30 -> lista_img_camp_clar_75_resized_regressao_3T3_2021-11-9.gz\n",
            "31 -> lista_rotulo_camp_clar_75_resized_regressao_3T3_2021-11-9.gz\n",
            "32 -> lista_img_camp_clar_50_resized_regressao_3T3_2021-11-9.gz\n",
            "33 -> lista_rotulo_camp_clar_50_resized_regressao_3T3_2021-11-9.gz\n",
            "34 -> lista_img_camp_clar_25_resized_regressao_3T3_2021-11-9.gz\n",
            "35 -> lista_rotulo_camp_clar_25_resized_regressao_3T3_2021-11-9.gz\n",
            "36 -> model_A549_100_75_50_25_2021-11-11.h5\n",
            "37 -> model_HUH7_100_75_50_25_2021-11-11.h5\n",
            "38 -> model_3T3_100_75_50_25_2021-11-11.h5\n",
            "39 -> images_de_x_caracteristicas_a549.gz\n",
            "40 -> images_de_y_caracteristicas_a549.gz\n",
            "41 -> images_de_x_caracteristicas_Huh7.gz\n",
            "42 -> rotulos_de_y_caracteristicas_Huh7.gz\n",
            "43 -> images_de_x_caracteristicas_3T3.gz\n",
            "44 -> rotulos_de_y_caracteristicas_3T3.gz\n",
            "45 -> 1_images_de_X_train_a549_pior_modelo.gz\n",
            "46 -> 1_images_de_y_train_a549_pior_modelo.gz\n",
            "47 -> 2_images_de_X_test_a549_pior_modelo.gz\n",
            "48 -> 2_images_de_y_test_a549_pior_modelo.gz\n",
            "49 -> model__A549_regressao_maior_erro2022-1-26.h5\n",
            "50 -> 1_images_de_X_train_a549_melhor_modelo2022-1-26.gz\n",
            "51 -> 1_images_de_y_train_a549_melhor_modelo2022-1-26.gz\n",
            "52 -> 2_images_de_X_test_a549_melhor_modelo2022-1-26.gz\n",
            "53 -> 2_images_de_y_test_a549_melhor_modelo2022-1-26.gz\n",
            "54 -> model__A549_regressao_menor_erro2022-1-26.h5\n",
            "55 -> 3_images_de_X_train_huh7_pior_modelo.gz\n",
            "56 -> 3_images_de_y_train_huh7_pior_modelo.gz\n",
            "57 -> 4_images_de_X_test_huh7_pior_modelo.gz\n",
            "58 -> 4_images_de_y_test_huh7_pior_modelo.gz\n",
            "59 -> 3_images_de_X_train_huh7_melhor_modelo.gz\n",
            "60 -> 3_images_de_y_train_huh7_melhor_modelo.gz\n",
            "61 -> 4_images_de_X_test_huh7_melhor_modelo.gz\n",
            "62 -> 4_images_de_y_test_huh7_melhor_modelo.gz\n",
            "63 -> model__huh7_regressao_maior_erro2022-1-26.h5\n",
            "64 -> model__huh7_regressao_menor_erro2022-1-26.h5\n",
            "65 -> 5_images_de_X_train_3T3_melhor_modelo.gz\n",
            "66 -> 5_images_de_y_train_3T3_melhor_modelo.gz\n",
            "67 -> 6_images_de_X_test_3T3_melhor_modelo.gz\n",
            "68 -> 6_images_de_y_test_3T3_melhor_modelo.gz\n",
            "69 -> 5_images_de_X_train_3T3_pior_modelo.gz\n",
            "70 -> 5_images_de_y_train_3T3_pior_modelo.gz\n",
            "71 -> 6_images_de_X_test_3T3_pior_modelo.gz\n",
            "72 -> 6_images_de_y_test_3T3_pior_modelo.gz\n",
            "73 -> model__3T3_regressao_menor_erro2022-1-26.h5\n",
            "74 -> model__3T3_regressao_maior_erro2022-1-26.h5\n",
            "75 -> model__A549_regressao_menor_erro_Mean_squared_error2022-4-27.h5\n",
            "76 -> model__3T3_regressao_menor_erro_Mean_squared_error2022-4-27.h5\n",
            "77 -> model__huh7_regressao_menor_erro_Mean_squared_error2022-4-27.h5\n",
            "78 -> model__huh7_regressao_maior_erro_Mean_squared_error2022-4-28.h5\n",
            "79 -> model__huh7_regressao_maior_erro_Mean_squared_error_30%2022-4-29.h5\n",
            "80 -> model__huh7_regressao_maior_erro_Mean_squared_error_40%2022-4-29.h5\n",
            "81 -> model__A549_regressao_menor_erro_Mean_squared_error_30%2022-4-29.h5\n",
            "82 -> 1_model__huh7_regressao_menor_erro_Mean_squared_error_30%2022-4-29.h5\n",
            "83 -> model__A549_regressao_menor_erro_Mean_squared_error2022-4-29.h5\n",
            "84 -> model__A549_regressao_maior_erro_Mean_squared_error2022-4-29.h5\n",
            "85 -> model__3T3_regressao_maior_erro_Mean_squared_error2022-4-29.h5\n",
            "86 -> model__3T3_regressao_menor_erro_Mean_squared_error2022-4-29.h5\n",
            "87 -> model__A549_regressao_maior_erro_Mean_squared_error2022-5-4.h5\n",
            "88 -> 1_images_de_y_train_a549_melhor_modelo2022-5-11.gz\n",
            "89 -> 1_images_de_X_train_a549_melhor_modelo2022-5-11.gz\n",
            "90 -> 2_images_de_X_test_a549_melhor_modelo2022-5-11.gz\n",
            "91 -> 2_images_de_y_test_a549_melhor_modelo2022-5-11.gz\n",
            "92 -> model__A549_regressao_maior_erro_Mean_squared_error_2022-5-11.h5\n",
            "93 -> 1_images_de_X_train_a549_pior_modelo2022-5-11.gz\n",
            "94 -> 1_images_de_y_train_a549_pior_modelo2022-5-11.gz\n",
            "95 -> 2_images_de_X_test_a549_pior_modelo2022-5-11.gz\n",
            "96 -> 2_images_de_y_test_a549_pior_modelo2022-5-11.gz\n",
            "97 -> 1_images_de_X_train_a549_pior_modelo2022-5-16.gz\n",
            "98 -> 1_images_de_X_train_a549_pior_modelo_2022-5-16.gz\n",
            "99 -> 1_images_de_y_train_a549_pior_modelo_2022-5-16.gz\n",
            "100 -> 2_images_de_X_test_a549_pior_modelo_2022-5-16.gz\n",
            "101 -> 2_images_de_y_test_a549_pior_modelo_2022-5-16.gz\n",
            "102 -> model__A549_regressao_maior_erro_Mean_squared_error_2022-5-16.h5\n",
            "103 -> 3_images_de_y_train_huh7_pior_modelo_2022-5-18.gz\n",
            "104 -> 4_images_de_X_test_huh7_pior_modelo_2022-5-18.gz\n",
            "105 -> 3_images_de_X_train_huh7_pior_modelo_2022-5-18.gz\n",
            "106 -> 4_images_de_y_test_huh7_pior_modelo_2022-5-18.gz\n",
            "107 -> 2_model__huh7_regressao_maior_erro_Mean_squared_error_40%2022-5-18.h5\n",
            "108 -> model_3T3_100_75_50_25_2022-5-18.h5\n",
            "109 -> 5_images_de_y_train_3T3_melhor_modelo2022-5-18.gz\n",
            "110 -> 5_images_de_X_train_3T3_melhor_modelo2022-5-18.gz\n",
            "111 -> model_3T3_pior_modelo_mean_squared_error_2022-5-18.h5\n",
            "112 -> 6_images_de_X_test_3T3_pior_modelo_2022-5-18.gz\n",
            "113 -> .ipynb_checkpoints\n",
            "114 -> 6_images_de_y_test_3T3_pior_modelo_2022-5-18.gz\n",
            "115 -> lista_img_camp_clar_3T3_samehuh72022-5-23.gz\n",
            "116 -> lista_rotulo_camp_camp_clar_3T3_samehuh772022-5-23.gz\n",
            "117 -> images_de_X_train_a549_melhor_modelo_18_PACIENCE2022-6-29.gz\n",
            "118 -> images_de_y_train_a549_melhor_modelo_18_PACIENCE2022-6-29.gz\n",
            "119 -> images_de_X_test_a549_melhor_modelo_18_PACIENCE2022-6-29.gz\n",
            "120 -> images_de_y_test_a549_melhor_modelo_18_PACIENCE2022-6-29.gz\n",
            "121 -> 1_images_de_y_train_a549_pior_modelo_18_PACIENCE2022-6-29.gz\n",
            "122 -> 2_images_de_X_test_a549_pior_modelo_18_PACIENCE_2022-6-29.gz\n",
            "123 -> 1_images_de_X_train_a549_pior_modelo_18_PACIENCE2022-6-29.gz\n",
            "124 -> 2_images_de_y_test_a549_pior_modelo_18_PACIENCE_2022-6-29.gz\n",
            "125 -> model__A549_regressao_maior_erro_18_PACIEN_2022-6-29.h5\n",
            "126 -> images_de_X_train_a549_melhor_modelo_18_PACIENCE_500_2022-6-29.gz\n",
            "127 -> images_de_y_train_a549_melhor_modelo_18_PACIENCE_500_2022-6-29.gz\n",
            "128 -> images_de_y_test_a549_melhor_modelo_18_PACIENCE%00_2022-6-29.gz\n",
            "129 -> model__A549_regressao_menor_erro_Mean_squared_error_30%_18_PACIENCE2022-6-29.h5\n",
            "130 -> images_de_X_test_a549_melhor_modelo_18_PACIENCE_500_2022-6-29.gz\n",
            "131 -> 1_images_de_X_train_a549_pior_modelo_18_PACIENCE_500_2022-6-29.gz\n",
            "132 -> 1_images_de_y_train_a549_pior_modelo_18_PACIENCE_500_2022-6-29.gz\n",
            "133 -> 2_images_de_X_test_a549_pior_modelo_18_PACIENCE_500_2022-6-29.gz\n",
            "134 -> 2_images_de_y_test_a549_pior_modelo_18_PACIENCE_500_2022-6-29.gz\n",
            "135 -> model__A549_regressao_maior_erro_18_PACIEN_500_2022-6-29.h5\n",
            "136 -> 3_images_de_X_train_huh7_melhor_modelo_200_epochs_2022-6-30.gz\n",
            "137 -> 3_images_de_y_train_huh7_melhor_modelo_200_epochs_2022-6-30.gz\n",
            "138 -> 4_images_de_X_test_huh7_melhor_modelo_200_epochs_2022-6-30.gz\n",
            "139 -> 4_images_de_y_test_huh7_melhor_modelo_200_epochs_2022-6-30.gz\n",
            "140 -> model__huh7_regressao_menor_erro_Mean_squared_error_200_epochs2022-6-30.h5\n",
            "141 -> 3_images_de_y_train_huh7_PIOR_modelo_200_epochs_2022-6-30.gz\n",
            "142 -> 3_images_de_X_train_huh7_PIOR_modelo_200_epochs_2022-6-30.gz\n",
            "143 -> 4_images_de_X_test_huh7_PIOR_modelo_200_epochs_2022-6-30.gz\n",
            "144 -> 4_images_de_y_test_huh7_PIOR_modelo_200_epochs_2022-6-30.gz\n",
            "145 -> model__huh7_regressao_MAIOR_erro_Mean_squared_error_200_epochs2022-6-30.h5\n",
            "146 -> 3_images_de_X_train_huh7_melhor_modelo_500_epochs_2022-6-30.gz\n",
            "147 -> 3_images_de_y_train_huh7_melhor_modelo_500_epochs_2022-6-30.gz\n",
            "148 -> 4_images_de_X_test_huh7_melhor_modelo_500_epochs_2022-6-30.gz\n",
            "149 -> 4_images_de_y_test_huh7_melhor_modelo_500_epochs_2022-6-30.gz\n",
            "150 -> model__huh7_regressao_menor_erro_Mean_squared_error_500_epochs2022-6-30.h5\n",
            "151 -> 3_images_de_X_train_huh7_PIOR_modelo_500_epochs_2022-6-30.gz\n",
            "152 -> 3_images_de_y_train_huh7_PIOR_modelo_500_epochs_2022-6-30.gz\n",
            "153 -> 4_images_de_X_test_huh7_PIOR_modelo_500_epochs_2022-6-30.gz\n",
            "154 -> 4_images_de_y_test_huh7_PIOR_modelo_500_epochs_2022-6-30.gz\n",
            "155 -> model__huh7_regressao_MAIOR_erro_Mean_squared_error_500_epochs2022-6-30.h5\n",
            "156 -> model__3T3_regressao_menor_erro_Mean_squared_error_200_epochs_2022-6-30.gz\n",
            "157 -> model__3T3_regressao_menor_erro_Mean_squared_error_200_epochs_2022-6-30.hu\n",
            "158 -> 6_images_de_X_test_3T3_PIOR_modelo_200_epochs2022-6-30.gz\n",
            "159 -> 6_images_de_y_test_3T3_PIOR_modelo_200_epochs2022-6-30.gz\n",
            "160 -> model__3T3_regressao_Maior_erro_Mean_squared_error_200_epochs_2022-6-30.h5\n",
            "161 -> 5_images_de_y_train_3T3_melhor_modelo_200_epochs_2022-6-30.gz\n",
            "162 -> 6_images_de_y_test_3T3_melhor_model_200_epochs_2022-6-30.gz\n",
            "163 -> 5_images_de_X_train_3T3_melhor_modelo_200_epochs_2022-6-30.gz\n",
            "164 -> 6_images_de_X_test_3T3_melhor_modelo_200_epochs_2022-6-30.gz\n",
            "165 -> model__3T3_regressao_menor_erro_Mean_squared_error_200_epochs_2022-6-30.h5\n",
            "166 -> 6_images_de_X_test_3T3_PIOR_modelo_500_epochs2022-6-30.gz\n",
            "167 -> 6_images_de_y_test_3T3_PIOR_modelo_500_epochs2022-6-30.gz\n",
            "168 -> model__3T3_regressao_Maior_erro_Mean_squared_error_500_epochs_2022-6-30.h5\n"
          ]
        }
      ]
    },
    {
      "cell_type": "markdown",
      "metadata": {
        "id": "ORvQdoZ4cg8X"
      },
      "source": [
        "Lists of all images in each file"
      ]
    },
    {
      "cell_type": "code",
      "metadata": {
        "colab": {
          "base_uri": "https://localhost:8080/"
        },
        "id": "7XhHnLmvYgHc",
        "outputId": "582511ea-9cac-4b8c-e103-359f93a3e3e3"
      },
      "source": [
        "#lstando arquivos com as imagens 100%, 75%, 50%, 25%\n",
        "for k, v in enumerate(lista_dados): #percorra na lista_dados e retorne a chave e valor\n",
        "    if k in [12,14,16,18]:          #Se a chave (k) for 12,14,16,17, print a chave e o valor  \n",
        "        print(f'{k} -> {v}')"
      ],
      "execution_count": null,
      "outputs": [
        {
          "output_type": "stream",
          "name": "stdout",
          "text": [
            "12 -> lista_img_camp_clar_100_resized_regressao_A5492021-11-9.gz\n",
            "14 -> lista_img_camp_clar_75_resized_regressao_A5492021-11-9.gz\n",
            "16 -> lista_img_camp_clar_50_resized_regressao_A5492021-11-9.gz\n",
            "18 -> lista_img_camp_clar_25_resized_regressao_A5492021-11-9.gz\n"
          ]
        }
      ]
    },
    {
      "cell_type": "markdown",
      "metadata": {
        "id": "ztAlHaCPcdJH"
      },
      "source": [
        "## x = features/images\n",
        "\n",
        "\n"
      ]
    },
    {
      "cell_type": "code",
      "metadata": {
        "colab": {
          "base_uri": "https://localhost:8080/"
        },
        "id": "LhyKepySY6Fj",
        "outputId": "ff59344a-19dd-457f-d31c-da51fb926f2d"
      },
      "source": [
        "#somando todas as imagens de diferentes tamanho\n",
        "X_cem = joblib.load(diretorio+ '/' + lista_dados[12]) # carregar o arquivo que esta no diretorio e lista de dados na posição 12\n",
        "\n",
        "# 12 -> 00-lista_img_dapi_crop_75_resized_2021-5-12.gz\n",
        "X_setcin = joblib.load(diretorio+ '/' + lista_dados[14]) # carregar o arquivo que esta no diretorio e lista de dados na posição 14\n",
        "\n",
        "# 10 -> 00-lista_img_dapi_crop_50_resized_2021-5-12.gz\n",
        "X_cinq = joblib.load(diretorio+ '/' + lista_dados[16]) # carregar o arquivo que esta no diretorio e lista de dados na posição 16\n",
        "\n",
        "# 8 -> 00-lista_img_dapi_crop_25_resized_2021-5-12.gz\n",
        "X_vincin = joblib.load(diretorio+ '/' + lista_dados[18]) # carregar o arquivo que esta no diretorio e lista de dados na posição 18\n",
        "\n",
        "x = np.asarray(list(X_cem) + list(X_setcin) + list(X_cinq) + list(X_vincin)) #somando os valores de cada lista\n",
        "\n",
        "x.shape #Retornando a soma das imagens"
      ],
      "execution_count": null,
      "outputs": [
        {
          "output_type": "execute_result",
          "data": {
            "text/plain": [
              "(1136, 200, 200, 3)"
            ]
          },
          "metadata": {},
          "execution_count": 8
        }
      ]
    },
    {
      "cell_type": "markdown",
      "metadata": {
        "tags": [],
        "is_collapsed": false,
        "cell_id": "00024-2a52cddd-d57a-43ea-b19b-79d121441438",
        "deepnote_cell_type": "text-cell-h2",
        "id": "oBtPa_i44tJf"
      },
      "source": [
        "## y = labels"
      ]
    },
    {
      "cell_type": "markdown",
      "metadata": {
        "tags": [],
        "is_collapsed": false,
        "cell_id": "00013-59c042e6-ccc7-4e8a-8ad0-93c47d0dfc93",
        "deepnote_cell_type": "text-cell-p",
        "id": "askOnwAU4tJg"
      },
      "source": [
        "Abrindo os rótulos que foram salvos na preparação das imagens"
      ]
    },
    {
      "cell_type": "code",
      "metadata": {
        "colab": {
          "base_uri": "https://localhost:8080/"
        },
        "id": "-b5OF-msb3fx",
        "outputId": "f1c7243d-861d-4c9e-a066-64fecbd4b4a4"
      },
      "source": [
        "for k, v in enumerate(lista_dados):\n",
        "    if k in [13,15,17,19]:\n",
        "        print(f'{k} -> {v}')"
      ],
      "execution_count": null,
      "outputs": [
        {
          "output_type": "stream",
          "name": "stdout",
          "text": [
            "13 -> lista_rotulo_camp_clar_100_resized_regressao_A5492021-11-9.gz\n",
            "15 -> lista_rotulo_camp_clar_75_resized_regressao_A5492021-11-9.gz\n",
            "17 -> lista_rotulo_camp_clar_50_resized_regressao_A5492021-11-9.gz\n",
            "19 -> lista_rotulo_camp_clar_25_resized_regressao_A5492021-11-9.gz\n"
          ]
        }
      ]
    },
    {
      "cell_type": "code",
      "metadata": {
        "colab": {
          "base_uri": "https://localhost:8080/"
        },
        "id": "xBbPF5QObvoo",
        "outputId": "4d5ba7e5-0135-40b6-eb64-9ea0a837c350"
      },
      "source": [
        "#somando todos os rótulos de diferentes tamanho\n",
        "y_cem = joblib.load(diretorio+ '/' + lista_dados[13])\n",
        "\n",
        "# 12 -> 00-lista_img_dapi_crop_75_resized_2021-5-12.gz\n",
        "y_setcin = joblib.load(diretorio+ '/' + lista_dados[15])\n",
        "\n",
        "# 10 -> 00-lista_img_dapi_crop_50_resized_2021-5-12.gz\n",
        "y_cinq = joblib.load(diretorio+ '/' + lista_dados[17])\n",
        "\n",
        "# 8 -> 00-lista_img_dapi_crop_25_resized_2021-5-12.gz\n",
        "y_vincin = joblib.load(diretorio+ '/' + lista_dados[19])\n",
        "\n",
        "y = np.asarray(list(y_cem) + list(y_setcin) + list(y_cinq) + list(y_vincin))\n",
        "\n",
        "y.shape"
      ],
      "execution_count": null,
      "outputs": [
        {
          "output_type": "execute_result",
          "data": {
            "text/plain": [
              "(1136,)"
            ]
          },
          "metadata": {},
          "execution_count": 10
        }
      ]
    },
    {
      "cell_type": "code",
      "metadata": {
        "tags": [],
        "cell_id": "00015-e899e30c-5063-4ed5-a36e-c96cfd7154c8",
        "deepnote_to_be_reexecuted": false,
        "source_hash": "abcd6da",
        "execution_start": 1633366123142,
        "execution_millis": 14,
        "deepnote_cell_type": "code",
        "id": "DJTn4f4C4tJl"
      },
      "source": [
        "#Train and test split datasets for CNN model\n",
        "#função que separa as imagens em teste e treino\n",
        "from sklearn.model_selection import train_test_split"
      ],
      "execution_count": null,
      "outputs": []
    },
    {
      "cell_type": "markdown",
      "metadata": {
        "tags": [],
        "is_collapsed": false,
        "cell_id": "00016-1914ad8b-dfb9-4d5b-9644-47b675be2c68",
        "deepnote_cell_type": "text-cell-p",
        "id": "DM-YUwIs4tJm"
      },
      "source": [
        "Test and training separation from a library."
      ]
    },
    {
      "cell_type": "code",
      "metadata": {
        "tags": [],
        "cell_id": "00015-8ddea1cc-fc2b-4056-aea9-bb22914790fe",
        "deepnote_to_be_reexecuted": false,
        "source_hash": "2984b900",
        "execution_start": 1633366126594,
        "execution_millis": 45,
        "deepnote_cell_type": "code",
        "colab": {
          "base_uri": "https://localhost:8080/"
        },
        "id": "VbvO_0SO4tJn",
        "outputId": "1a0f6d5c-6f6f-454a-92fd-5b3cc674bf10"
      },
      "source": [
        "X_train, X_test, y_train, y_test = train_test_split(x, y, test_size=0.3, random_state=0)\n",
        "#variáveis recebem o número de imagens para tes e treino\n",
        "print(f'{X_train.shape} \\n{X_test.shape} \\n{y_train.shape} \\n{y_test.shape}')"
      ],
      "execution_count": null,
      "outputs": [
        {
          "output_type": "stream",
          "name": "stdout",
          "text": [
            "(795, 200, 200, 3) \n",
            "(341, 200, 200, 3) \n",
            "(795,) \n",
            "(341,)\n"
          ]
        }
      ]
    },
    {
      "cell_type": "code",
      "source": [
        "data = timeProcess()[1]"
      ],
      "metadata": {
        "id": "z49o0tgWXKh8"
      },
      "execution_count": null,
      "outputs": []
    },
    {
      "cell_type": "code",
      "source": [
        "joblib.dump(X_train, '/content/drive/MyDrive/1_Informações_scripts//images_de_X_train_a549_melhor_modelo_18_PACIENCE_500_'+data+'.gz')\n"
      ],
      "metadata": {
        "id": "ZMvqx66UWJgz",
        "colab": {
          "base_uri": "https://localhost:8080/"
        },
        "outputId": "23b3aa33-13c7-489c-f4a4-cb3f21731541"
      },
      "execution_count": null,
      "outputs": [
        {
          "output_type": "execute_result",
          "data": {
            "text/plain": [
              "['/content/drive/MyDrive/1_Informações_scripts//images_de_X_train_a549_melhor_modelo_18_PACIENCE_500_2022-6-29.gz']"
            ]
          },
          "metadata": {},
          "execution_count": 14
        }
      ]
    },
    {
      "cell_type": "code",
      "source": [
        "joblib.dump(y_train, '/content/drive/MyDrive/1_Informações_scripts//images_de_y_train_a549_melhor_modelo_18_PACIENCE_500_'+data+'.gz')\n"
      ],
      "metadata": {
        "id": "Fv3eVwIUWJTt",
        "colab": {
          "base_uri": "https://localhost:8080/"
        },
        "outputId": "330c4f11-39b0-4a80-dbb1-6be7366c3a7b"
      },
      "execution_count": null,
      "outputs": [
        {
          "output_type": "execute_result",
          "data": {
            "text/plain": [
              "['/content/drive/MyDrive/1_Informações_scripts//images_de_y_train_a549_melhor_modelo_18_PACIENCE_500_2022-6-29.gz']"
            ]
          },
          "metadata": {},
          "execution_count": 15
        }
      ]
    },
    {
      "cell_type": "code",
      "source": [
        "joblib.dump(X_test, '/content/drive/MyDrive/1_Informações_scripts//images_de_X_test_a549_melhor_modelo_18_PACIENCE_500_'+data+'.gz')\n"
      ],
      "metadata": {
        "id": "sLLxRtYQWJF2",
        "colab": {
          "base_uri": "https://localhost:8080/"
        },
        "outputId": "d84f6505-b415-45f1-d36a-2e07d75a7ec7"
      },
      "execution_count": null,
      "outputs": [
        {
          "output_type": "execute_result",
          "data": {
            "text/plain": [
              "['/content/drive/MyDrive/1_Informações_scripts//images_de_X_test_a549_melhor_modelo_18_PACIENCE_500_2022-6-29.gz']"
            ]
          },
          "metadata": {},
          "execution_count": 29
        }
      ]
    },
    {
      "cell_type": "code",
      "source": [
        "joblib.dump(y_test, '/content/drive/MyDrive/1_Informações_scripts//images_de_y_test_a549_melhor_modelo_18_PACIENCE%00_'+data+'.gz')\n"
      ],
      "metadata": {
        "id": "ScEl33x6WI59",
        "colab": {
          "base_uri": "https://localhost:8080/"
        },
        "outputId": "894e5844-b68f-4658-8969-d230af0b56a1"
      },
      "execution_count": null,
      "outputs": [
        {
          "output_type": "execute_result",
          "data": {
            "text/plain": [
              "['/content/drive/MyDrive/1_Informações_scripts//images_de_y_test_a549_melhor_modelo_18_PACIENCE%00_2022-6-29.gz']"
            ]
          },
          "metadata": {},
          "execution_count": 17
        }
      ]
    },
    {
      "cell_type": "markdown",
      "metadata": {
        "tags": [],
        "is_collapsed": false,
        "cell_id": "00020-643aca93-ac54-4b42-a96b-0d9cb3766c07",
        "deepnote_cell_type": "text-cell-h3",
        "id": "IOsYujrz4tJq"
      },
      "source": [
        "### Model determination"
      ]
    },
    {
      "cell_type": "code",
      "metadata": {
        "tags": [],
        "cell_id": "00021-7cc62f7e-3524-4624-ad1c-28768879074d",
        "deepnote_to_be_reexecuted": false,
        "source_hash": "fcfd5f57",
        "execution_start": 1633366142373,
        "execution_millis": 124,
        "deepnote_cell_type": "code",
        "colab": {
          "base_uri": "https://localhost:8080/"
        },
        "id": "s81L-_zW4tJr",
        "outputId": "acfd9502-d7d0-4089-a91a-067e400a3cb6"
      },
      "source": [
        "modelo = Sequential()\n",
        "modelo.add(Conv2D(32, kernel_size=3, activation='relu', input_shape=X_train[0].shape))\n",
        "#função de ativação relu é muito utilizado para problemas de regressão\n",
        "modelo.add(MaxPooling2D(pool_size=(2, 2), strides=(2, 2), padding='valid'))\n",
        "modelo.add(Conv2D(64, kernel_size=3, activation='relu'))\n",
        "modelo.add(MaxPooling2D(pool_size=(2, 2), strides=(2, 2), padding='valid'))\n",
        "modelo.add(Conv2D(128, kernel_size=3, activation='relu'))\n",
        "modelo.add(MaxPooling2D(pool_size=(2, 2), strides=(2, 2), padding='valid'))\n",
        "modelo.add(Conv2D(256, kernel_size=3, activation='relu'))\n",
        "modelo.add(MaxPooling2D(pool_size=(2, 2), strides=(2, 2), padding='valid'))\n",
        "modelo.add(Flatten())\n",
        "modelo.add(Dropout(0.9))\n",
        "modelo.add(Dense(1, activation='linear'))\n",
        "#apenas uma saída e de forma linear\n",
        "#modelo.compile(optimizer='adam', loss='mse', metrics=['mean_absolute_error'])\n",
        "modelo.compile(optimizer='adam', loss='mse', metrics=['mean_squared_error'])\n",
        "\n",
        "print(modelo.summary())"
      ],
      "execution_count": null,
      "outputs": [
        {
          "output_type": "stream",
          "name": "stdout",
          "text": [
            "Model: \"sequential_2\"\n",
            "_________________________________________________________________\n",
            " Layer (type)                Output Shape              Param #   \n",
            "=================================================================\n",
            " conv2d_8 (Conv2D)           (None, 198, 198, 32)      896       \n",
            "                                                                 \n",
            " max_pooling2d_8 (MaxPooling  (None, 99, 99, 32)       0         \n",
            " 2D)                                                             \n",
            "                                                                 \n",
            " conv2d_9 (Conv2D)           (None, 97, 97, 64)        18496     \n",
            "                                                                 \n",
            " max_pooling2d_9 (MaxPooling  (None, 48, 48, 64)       0         \n",
            " 2D)                                                             \n",
            "                                                                 \n",
            " conv2d_10 (Conv2D)          (None, 46, 46, 128)       73856     \n",
            "                                                                 \n",
            " max_pooling2d_10 (MaxPoolin  (None, 23, 23, 128)      0         \n",
            " g2D)                                                            \n",
            "                                                                 \n",
            " conv2d_11 (Conv2D)          (None, 21, 21, 256)       295168    \n",
            "                                                                 \n",
            " max_pooling2d_11 (MaxPoolin  (None, 10, 10, 256)      0         \n",
            " g2D)                                                            \n",
            "                                                                 \n",
            " flatten_2 (Flatten)         (None, 25600)             0         \n",
            "                                                                 \n",
            " dropout_2 (Dropout)         (None, 25600)             0         \n",
            "                                                                 \n",
            " dense_2 (Dense)             (None, 1)                 25601     \n",
            "                                                                 \n",
            "=================================================================\n",
            "Total params: 414,017\n",
            "Trainable params: 414,017\n",
            "Non-trainable params: 0\n",
            "_________________________________________________________________\n",
            "None\n"
          ]
        }
      ]
    },
    {
      "cell_type": "markdown",
      "source": [
        "# Training and testing epochs"
      ],
      "metadata": {
        "id": "xAjg4PVAvNRV"
      }
    },
    {
      "cell_type": "code",
      "source": [
        "from tensorflow.keras.callbacks import EarlyStopping\n",
        "from tensorflow.keras.callbacks import ModelCheckpoint\n"
      ],
      "metadata": {
        "id": "UEgVVSYcuNCa"
      },
      "execution_count": null,
      "outputs": []
    },
    {
      "cell_type": "code",
      "source": [
        "# simple early stopping\n",
        "es = EarlyStopping(monitor='val_loss', mode='min', verbose=1, patience=18)\n",
        "\n",
        "#mc = ModelCheckpoint('best_model.h5', monitor='val_accuracy', mode='max', verbose=1, save_best_only=True)"
      ],
      "metadata": {
        "id": "Kk8JBQiKtKG0"
      },
      "execution_count": null,
      "outputs": []
    },
    {
      "cell_type": "code",
      "source": [
        "# fit model\n",
        "history = modelo.fit(X_train,y_train,\n",
        "                    validation_data=(X_test, y_test), \n",
        "                    epochs=500, verbose=2, \n",
        "                    callbacks=[es]\n",
        "                     )"
      ],
      "metadata": {
        "colab": {
          "base_uri": "https://localhost:8080/"
        },
        "id": "flT1AIsOopAz",
        "outputId": "4d2ae49b-3cd5-49d1-9e49-690f6122ecc5"
      },
      "execution_count": null,
      "outputs": [
        {
          "output_type": "stream",
          "name": "stdout",
          "text": [
            "Epoch 1/500\n",
            "25/25 - 2s - loss: 180734.2656 - mean_squared_error: 180734.2656 - val_loss: 173601.1562 - val_mean_squared_error: 173601.1562 - 2s/epoch - 81ms/step\n",
            "Epoch 2/500\n",
            "25/25 - 1s - loss: 115703.1484 - mean_squared_error: 115703.1484 - val_loss: 97112.5156 - val_mean_squared_error: 97112.5156 - 1s/epoch - 47ms/step\n",
            "Epoch 3/500\n",
            "25/25 - 1s - loss: 95558.0781 - mean_squared_error: 95558.0781 - val_loss: 74364.7422 - val_mean_squared_error: 74364.7422 - 1s/epoch - 52ms/step\n",
            "Epoch 4/500\n",
            "25/25 - 1s - loss: 73058.0938 - mean_squared_error: 73058.0938 - val_loss: 91636.0156 - val_mean_squared_error: 91636.0156 - 1s/epoch - 47ms/step\n",
            "Epoch 5/500\n",
            "25/25 - 1s - loss: 76926.9766 - mean_squared_error: 76926.9766 - val_loss: 45905.9258 - val_mean_squared_error: 45905.9258 - 1s/epoch - 47ms/step\n",
            "Epoch 6/500\n",
            "25/25 - 1s - loss: 73226.7344 - mean_squared_error: 73226.7344 - val_loss: 69036.4375 - val_mean_squared_error: 69036.4375 - 1s/epoch - 47ms/step\n",
            "Epoch 7/500\n",
            "25/25 - 1s - loss: 55083.6914 - mean_squared_error: 55083.6914 - val_loss: 41491.6758 - val_mean_squared_error: 41491.6758 - 1s/epoch - 47ms/step\n",
            "Epoch 8/500\n",
            "25/25 - 1s - loss: 42275.9961 - mean_squared_error: 42275.9961 - val_loss: 34474.3945 - val_mean_squared_error: 34474.3945 - 1s/epoch - 47ms/step\n",
            "Epoch 9/500\n",
            "25/25 - 1s - loss: 40352.8438 - mean_squared_error: 40352.8438 - val_loss: 28730.7148 - val_mean_squared_error: 28730.7148 - 1s/epoch - 47ms/step\n",
            "Epoch 10/500\n",
            "25/25 - 1s - loss: 44967.4258 - mean_squared_error: 44967.4258 - val_loss: 36100.7930 - val_mean_squared_error: 36100.7930 - 1s/epoch - 47ms/step\n",
            "Epoch 11/500\n",
            "25/25 - 1s - loss: 48650.1797 - mean_squared_error: 48650.1797 - val_loss: 32095.7324 - val_mean_squared_error: 32095.7324 - 1s/epoch - 47ms/step\n",
            "Epoch 12/500\n",
            "25/25 - 1s - loss: 36425.4297 - mean_squared_error: 36425.4297 - val_loss: 27248.9082 - val_mean_squared_error: 27248.9082 - 1s/epoch - 47ms/step\n",
            "Epoch 13/500\n",
            "25/25 - 1s - loss: 56326.9297 - mean_squared_error: 56326.9297 - val_loss: 47345.6680 - val_mean_squared_error: 47345.6680 - 1s/epoch - 47ms/step\n",
            "Epoch 14/500\n",
            "25/25 - 1s - loss: 39714.1094 - mean_squared_error: 39714.1094 - val_loss: 29834.5039 - val_mean_squared_error: 29834.5039 - 1s/epoch - 47ms/step\n",
            "Epoch 15/500\n",
            "25/25 - 1s - loss: 43328.6055 - mean_squared_error: 43328.6055 - val_loss: 27441.0566 - val_mean_squared_error: 27441.0566 - 1s/epoch - 47ms/step\n",
            "Epoch 16/500\n",
            "25/25 - 1s - loss: 36724.0039 - mean_squared_error: 36724.0039 - val_loss: 28630.1562 - val_mean_squared_error: 28630.1562 - 1s/epoch - 53ms/step\n",
            "Epoch 17/500\n",
            "25/25 - 1s - loss: 26504.2520 - mean_squared_error: 26504.2520 - val_loss: 18733.4531 - val_mean_squared_error: 18733.4531 - 1s/epoch - 47ms/step\n",
            "Epoch 18/500\n",
            "25/25 - 1s - loss: 31794.4629 - mean_squared_error: 31794.4629 - val_loss: 28092.6211 - val_mean_squared_error: 28092.6211 - 1s/epoch - 53ms/step\n",
            "Epoch 19/500\n",
            "25/25 - 1s - loss: 41774.5703 - mean_squared_error: 41774.5703 - val_loss: 25648.9434 - val_mean_squared_error: 25648.9434 - 1s/epoch - 47ms/step\n",
            "Epoch 20/500\n",
            "25/25 - 1s - loss: 28394.0020 - mean_squared_error: 28394.0020 - val_loss: 18225.6836 - val_mean_squared_error: 18225.6836 - 1s/epoch - 52ms/step\n",
            "Epoch 21/500\n",
            "25/25 - 1s - loss: 25759.4043 - mean_squared_error: 25759.4043 - val_loss: 20688.2383 - val_mean_squared_error: 20688.2383 - 1s/epoch - 47ms/step\n",
            "Epoch 22/500\n",
            "25/25 - 1s - loss: 34764.4258 - mean_squared_error: 34764.4258 - val_loss: 25494.1465 - val_mean_squared_error: 25494.1465 - 1s/epoch - 47ms/step\n",
            "Epoch 23/500\n",
            "25/25 - 1s - loss: 31826.6113 - mean_squared_error: 31826.6113 - val_loss: 22157.0957 - val_mean_squared_error: 22157.0957 - 1s/epoch - 47ms/step\n",
            "Epoch 24/500\n",
            "25/25 - 1s - loss: 26767.0547 - mean_squared_error: 26767.0547 - val_loss: 27202.6738 - val_mean_squared_error: 27202.6738 - 1s/epoch - 47ms/step\n",
            "Epoch 25/500\n",
            "25/25 - 1s - loss: 29989.0039 - mean_squared_error: 29989.0039 - val_loss: 20067.3906 - val_mean_squared_error: 20067.3906 - 1s/epoch - 48ms/step\n",
            "Epoch 26/500\n",
            "25/25 - 1s - loss: 28012.8047 - mean_squared_error: 28012.8047 - val_loss: 16465.8711 - val_mean_squared_error: 16465.8711 - 1s/epoch - 48ms/step\n",
            "Epoch 27/500\n",
            "25/25 - 1s - loss: 34482.1445 - mean_squared_error: 34482.1445 - val_loss: 21433.3906 - val_mean_squared_error: 21433.3906 - 1s/epoch - 47ms/step\n",
            "Epoch 28/500\n",
            "25/25 - 1s - loss: 34646.0156 - mean_squared_error: 34646.0156 - val_loss: 20627.4824 - val_mean_squared_error: 20627.4824 - 1s/epoch - 53ms/step\n",
            "Epoch 29/500\n",
            "25/25 - 1s - loss: 31456.2734 - mean_squared_error: 31456.2734 - val_loss: 20959.1914 - val_mean_squared_error: 20959.1914 - 1s/epoch - 48ms/step\n",
            "Epoch 30/500\n",
            "25/25 - 1s - loss: 37463.5547 - mean_squared_error: 37463.5547 - val_loss: 19469.1367 - val_mean_squared_error: 19469.1367 - 1s/epoch - 47ms/step\n",
            "Epoch 31/500\n",
            "25/25 - 1s - loss: 27619.5898 - mean_squared_error: 27619.5898 - val_loss: 18582.3203 - val_mean_squared_error: 18582.3203 - 1s/epoch - 47ms/step\n",
            "Epoch 32/500\n",
            "25/25 - 1s - loss: 23362.5391 - mean_squared_error: 23362.5391 - val_loss: 14645.3545 - val_mean_squared_error: 14645.3545 - 1s/epoch - 47ms/step\n",
            "Epoch 33/500\n",
            "25/25 - 1s - loss: 23956.5703 - mean_squared_error: 23956.5703 - val_loss: 21067.1504 - val_mean_squared_error: 21067.1504 - 1s/epoch - 47ms/step\n",
            "Epoch 34/500\n",
            "25/25 - 1s - loss: 28046.4180 - mean_squared_error: 28046.4180 - val_loss: 31468.6270 - val_mean_squared_error: 31468.6270 - 1s/epoch - 49ms/step\n",
            "Epoch 35/500\n",
            "25/25 - 1s - loss: 24125.5957 - mean_squared_error: 24125.5957 - val_loss: 14705.1924 - val_mean_squared_error: 14705.1924 - 1s/epoch - 48ms/step\n",
            "Epoch 36/500\n",
            "25/25 - 1s - loss: 27610.5996 - mean_squared_error: 27610.5996 - val_loss: 33564.2891 - val_mean_squared_error: 33564.2891 - 1s/epoch - 49ms/step\n",
            "Epoch 37/500\n",
            "25/25 - 1s - loss: 29487.7051 - mean_squared_error: 29487.7051 - val_loss: 16167.7773 - val_mean_squared_error: 16167.7773 - 1s/epoch - 53ms/step\n",
            "Epoch 38/500\n",
            "25/25 - 1s - loss: 21032.2051 - mean_squared_error: 21032.2051 - val_loss: 13872.9248 - val_mean_squared_error: 13872.9248 - 1s/epoch - 55ms/step\n",
            "Epoch 39/500\n",
            "25/25 - 1s - loss: 25068.3789 - mean_squared_error: 25068.3789 - val_loss: 28247.4258 - val_mean_squared_error: 28247.4258 - 1s/epoch - 54ms/step\n",
            "Epoch 40/500\n",
            "25/25 - 1s - loss: 30606.3223 - mean_squared_error: 30606.3223 - val_loss: 33904.0859 - val_mean_squared_error: 33904.0859 - 1s/epoch - 49ms/step\n",
            "Epoch 41/500\n",
            "25/25 - 1s - loss: 30260.3398 - mean_squared_error: 30260.3398 - val_loss: 17774.4355 - val_mean_squared_error: 17774.4355 - 1s/epoch - 47ms/step\n",
            "Epoch 42/500\n",
            "25/25 - 1s - loss: 20693.2305 - mean_squared_error: 20693.2305 - val_loss: 15262.7715 - val_mean_squared_error: 15262.7695 - 1s/epoch - 47ms/step\n",
            "Epoch 43/500\n",
            "25/25 - 1s - loss: 35178.0469 - mean_squared_error: 35178.0469 - val_loss: 22154.5176 - val_mean_squared_error: 22154.5176 - 1s/epoch - 52ms/step\n",
            "Epoch 44/500\n",
            "25/25 - 1s - loss: 22950.5234 - mean_squared_error: 22950.5234 - val_loss: 13685.7402 - val_mean_squared_error: 13685.7402 - 1s/epoch - 47ms/step\n",
            "Epoch 45/500\n",
            "25/25 - 1s - loss: 24515.0566 - mean_squared_error: 24515.0566 - val_loss: 29559.9004 - val_mean_squared_error: 29559.9004 - 1s/epoch - 47ms/step\n",
            "Epoch 46/500\n",
            "25/25 - 1s - loss: 24155.4316 - mean_squared_error: 24155.4316 - val_loss: 15468.0410 - val_mean_squared_error: 15468.0410 - 1s/epoch - 47ms/step\n",
            "Epoch 47/500\n",
            "25/25 - 1s - loss: 21569.6445 - mean_squared_error: 21569.6445 - val_loss: 20178.6797 - val_mean_squared_error: 20178.6797 - 1s/epoch - 47ms/step\n",
            "Epoch 48/500\n",
            "25/25 - 1s - loss: 23387.8770 - mean_squared_error: 23387.8770 - val_loss: 13187.7832 - val_mean_squared_error: 13187.7832 - 1s/epoch - 47ms/step\n",
            "Epoch 49/500\n",
            "25/25 - 1s - loss: 19306.6621 - mean_squared_error: 19306.6621 - val_loss: 24080.6230 - val_mean_squared_error: 24080.6230 - 1s/epoch - 47ms/step\n",
            "Epoch 50/500\n",
            "25/25 - 1s - loss: 25071.0156 - mean_squared_error: 25071.0156 - val_loss: 13733.7686 - val_mean_squared_error: 13733.7686 - 1s/epoch - 47ms/step\n",
            "Epoch 51/500\n",
            "25/25 - 1s - loss: 20416.1289 - mean_squared_error: 20416.1289 - val_loss: 13969.9736 - val_mean_squared_error: 13969.9736 - 1s/epoch - 47ms/step\n",
            "Epoch 52/500\n",
            "25/25 - 1s - loss: 19689.8105 - mean_squared_error: 19689.8105 - val_loss: 25125.5625 - val_mean_squared_error: 25125.5625 - 1s/epoch - 47ms/step\n",
            "Epoch 53/500\n",
            "25/25 - 1s - loss: 28624.8027 - mean_squared_error: 28624.8027 - val_loss: 15066.6631 - val_mean_squared_error: 15066.6631 - 1s/epoch - 47ms/step\n",
            "Epoch 54/500\n",
            "25/25 - 1s - loss: 17684.1348 - mean_squared_error: 17684.1348 - val_loss: 12481.7598 - val_mean_squared_error: 12481.7598 - 1s/epoch - 52ms/step\n",
            "Epoch 55/500\n",
            "25/25 - 1s - loss: 14988.7988 - mean_squared_error: 14988.7988 - val_loss: 10206.8760 - val_mean_squared_error: 10206.8760 - 1s/epoch - 47ms/step\n",
            "Epoch 56/500\n",
            "25/25 - 1s - loss: 19660.8418 - mean_squared_error: 19660.8418 - val_loss: 15701.0645 - val_mean_squared_error: 15701.0645 - 1s/epoch - 47ms/step\n",
            "Epoch 57/500\n",
            "25/25 - 1s - loss: 20101.5234 - mean_squared_error: 20101.5234 - val_loss: 44312.1250 - val_mean_squared_error: 44312.1250 - 1s/epoch - 47ms/step\n",
            "Epoch 58/500\n",
            "25/25 - 1s - loss: 23067.2773 - mean_squared_error: 23067.2773 - val_loss: 20571.8984 - val_mean_squared_error: 20571.8984 - 1s/epoch - 47ms/step\n",
            "Epoch 59/500\n",
            "25/25 - 1s - loss: 18828.6211 - mean_squared_error: 18828.6211 - val_loss: 21203.2969 - val_mean_squared_error: 21203.2969 - 1s/epoch - 47ms/step\n",
            "Epoch 60/500\n",
            "25/25 - 1s - loss: 18149.5996 - mean_squared_error: 18149.5996 - val_loss: 10073.7920 - val_mean_squared_error: 10073.7920 - 1s/epoch - 47ms/step\n",
            "Epoch 61/500\n",
            "25/25 - 1s - loss: 14139.9355 - mean_squared_error: 14139.9355 - val_loss: 14956.6777 - val_mean_squared_error: 14956.6777 - 1s/epoch - 47ms/step\n",
            "Epoch 62/500\n",
            "25/25 - 1s - loss: 16615.2109 - mean_squared_error: 16615.2109 - val_loss: 9277.3633 - val_mean_squared_error: 9277.3633 - 1s/epoch - 47ms/step\n",
            "Epoch 63/500\n",
            "25/25 - 1s - loss: 16519.0723 - mean_squared_error: 16519.0723 - val_loss: 12620.4922 - val_mean_squared_error: 12620.4922 - 1s/epoch - 47ms/step\n",
            "Epoch 64/500\n",
            "25/25 - 1s - loss: 13393.9736 - mean_squared_error: 13393.9736 - val_loss: 8276.6582 - val_mean_squared_error: 8276.6582 - 1s/epoch - 47ms/step\n",
            "Epoch 65/500\n",
            "25/25 - 1s - loss: 11539.2051 - mean_squared_error: 11539.2051 - val_loss: 12858.7041 - val_mean_squared_error: 12858.7041 - 1s/epoch - 47ms/step\n",
            "Epoch 66/500\n",
            "25/25 - 1s - loss: 13541.0439 - mean_squared_error: 13541.0439 - val_loss: 20418.7949 - val_mean_squared_error: 20418.7949 - 1s/epoch - 47ms/step\n",
            "Epoch 67/500\n",
            "25/25 - 1s - loss: 11946.9746 - mean_squared_error: 11946.9746 - val_loss: 8081.8389 - val_mean_squared_error: 8081.8389 - 1s/epoch - 47ms/step\n",
            "Epoch 68/500\n",
            "25/25 - 1s - loss: 11120.2607 - mean_squared_error: 11120.2607 - val_loss: 7422.9097 - val_mean_squared_error: 7422.9097 - 1s/epoch - 47ms/step\n",
            "Epoch 69/500\n",
            "25/25 - 1s - loss: 13731.0840 - mean_squared_error: 13731.0840 - val_loss: 10413.3701 - val_mean_squared_error: 10413.3701 - 1s/epoch - 52ms/step\n",
            "Epoch 70/500\n",
            "25/25 - 1s - loss: 11456.8965 - mean_squared_error: 11456.8965 - val_loss: 9708.8721 - val_mean_squared_error: 9708.8721 - 1s/epoch - 47ms/step\n",
            "Epoch 71/500\n",
            "25/25 - 1s - loss: 10319.0498 - mean_squared_error: 10319.0498 - val_loss: 12409.6279 - val_mean_squared_error: 12409.6279 - 1s/epoch - 47ms/step\n",
            "Epoch 72/500\n",
            "25/25 - 1s - loss: 13522.9941 - mean_squared_error: 13522.9941 - val_loss: 8976.8359 - val_mean_squared_error: 8976.8359 - 1s/epoch - 47ms/step\n",
            "Epoch 73/500\n",
            "25/25 - 1s - loss: 11364.7324 - mean_squared_error: 11364.7324 - val_loss: 8213.7334 - val_mean_squared_error: 8213.7334 - 1s/epoch - 52ms/step\n",
            "Epoch 74/500\n",
            "25/25 - 1s - loss: 10163.8760 - mean_squared_error: 10163.8760 - val_loss: 6201.5894 - val_mean_squared_error: 6201.5894 - 1s/epoch - 47ms/step\n",
            "Epoch 75/500\n",
            "25/25 - 1s - loss: 11181.4756 - mean_squared_error: 11181.4756 - val_loss: 27202.0703 - val_mean_squared_error: 27202.0703 - 1s/epoch - 47ms/step\n",
            "Epoch 76/500\n",
            "25/25 - 1s - loss: 12533.3457 - mean_squared_error: 12533.3457 - val_loss: 6641.4668 - val_mean_squared_error: 6641.4668 - 1s/epoch - 47ms/step\n",
            "Epoch 77/500\n",
            "25/25 - 1s - loss: 14394.0781 - mean_squared_error: 14394.0781 - val_loss: 7077.9766 - val_mean_squared_error: 7077.9766 - 1s/epoch - 52ms/step\n",
            "Epoch 78/500\n",
            "25/25 - 1s - loss: 13960.7949 - mean_squared_error: 13960.7949 - val_loss: 17852.7676 - val_mean_squared_error: 17852.7676 - 1s/epoch - 52ms/step\n",
            "Epoch 79/500\n",
            "25/25 - 1s - loss: 10283.3379 - mean_squared_error: 10283.3379 - val_loss: 7921.2485 - val_mean_squared_error: 7921.2485 - 1s/epoch - 47ms/step\n",
            "Epoch 80/500\n",
            "25/25 - 1s - loss: 10202.2090 - mean_squared_error: 10202.2090 - val_loss: 7372.5698 - val_mean_squared_error: 7372.5698 - 1s/epoch - 47ms/step\n",
            "Epoch 81/500\n",
            "25/25 - 1s - loss: 7882.9839 - mean_squared_error: 7882.9839 - val_loss: 6885.8906 - val_mean_squared_error: 6885.8906 - 1s/epoch - 47ms/step\n",
            "Epoch 82/500\n",
            "25/25 - 1s - loss: 9482.0029 - mean_squared_error: 9482.0029 - val_loss: 7922.3301 - val_mean_squared_error: 7922.3301 - 1s/epoch - 47ms/step\n",
            "Epoch 83/500\n",
            "25/25 - 1s - loss: 7761.2529 - mean_squared_error: 7761.2529 - val_loss: 6163.5396 - val_mean_squared_error: 6163.5396 - 1s/epoch - 47ms/step\n",
            "Epoch 84/500\n",
            "25/25 - 1s - loss: 7667.6621 - mean_squared_error: 7667.6621 - val_loss: 5710.1211 - val_mean_squared_error: 5710.1211 - 1s/epoch - 47ms/step\n",
            "Epoch 85/500\n",
            "25/25 - 1s - loss: 8072.6611 - mean_squared_error: 8072.6611 - val_loss: 7913.6846 - val_mean_squared_error: 7913.6846 - 1s/epoch - 47ms/step\n",
            "Epoch 86/500\n",
            "25/25 - 1s - loss: 9235.5098 - mean_squared_error: 9235.5098 - val_loss: 9988.7676 - val_mean_squared_error: 9988.7676 - 1s/epoch - 47ms/step\n",
            "Epoch 87/500\n",
            "25/25 - 1s - loss: 7382.7407 - mean_squared_error: 7382.7407 - val_loss: 5976.1865 - val_mean_squared_error: 5976.1865 - 1s/epoch - 47ms/step\n",
            "Epoch 88/500\n",
            "25/25 - 1s - loss: 8196.7002 - mean_squared_error: 8196.7002 - val_loss: 6717.4736 - val_mean_squared_error: 6717.4736 - 1s/epoch - 47ms/step\n",
            "Epoch 89/500\n",
            "25/25 - 1s - loss: 7136.9043 - mean_squared_error: 7136.9043 - val_loss: 5205.7939 - val_mean_squared_error: 5205.7939 - 1s/epoch - 47ms/step\n",
            "Epoch 90/500\n",
            "25/25 - 1s - loss: 11930.4307 - mean_squared_error: 11930.4307 - val_loss: 11781.5928 - val_mean_squared_error: 11781.5928 - 1s/epoch - 47ms/step\n",
            "Epoch 91/500\n",
            "25/25 - 1s - loss: 8226.0322 - mean_squared_error: 8226.0322 - val_loss: 6618.8672 - val_mean_squared_error: 6618.8672 - 1s/epoch - 52ms/step\n",
            "Epoch 92/500\n",
            "25/25 - 1s - loss: 5682.2334 - mean_squared_error: 5682.2334 - val_loss: 5288.8521 - val_mean_squared_error: 5288.8521 - 1s/epoch - 52ms/step\n",
            "Epoch 93/500\n",
            "25/25 - 1s - loss: 6046.8486 - mean_squared_error: 6046.8486 - val_loss: 4624.7075 - val_mean_squared_error: 4624.7075 - 1s/epoch - 47ms/step\n",
            "Epoch 94/500\n",
            "25/25 - 1s - loss: 5373.5806 - mean_squared_error: 5373.5806 - val_loss: 6393.8389 - val_mean_squared_error: 6393.8389 - 1s/epoch - 47ms/step\n",
            "Epoch 95/500\n",
            "25/25 - 1s - loss: 8115.1206 - mean_squared_error: 8115.1206 - val_loss: 5602.1831 - val_mean_squared_error: 5602.1831 - 1s/epoch - 52ms/step\n",
            "Epoch 96/500\n",
            "25/25 - 1s - loss: 6047.6177 - mean_squared_error: 6047.6177 - val_loss: 6405.8022 - val_mean_squared_error: 6405.8022 - 1s/epoch - 52ms/step\n",
            "Epoch 97/500\n",
            "25/25 - 1s - loss: 7482.4482 - mean_squared_error: 7482.4482 - val_loss: 9107.9287 - val_mean_squared_error: 9107.9287 - 1s/epoch - 47ms/step\n",
            "Epoch 98/500\n",
            "25/25 - 1s - loss: 5720.3623 - mean_squared_error: 5720.3623 - val_loss: 5035.3125 - val_mean_squared_error: 5035.3125 - 1s/epoch - 47ms/step\n",
            "Epoch 99/500\n",
            "25/25 - 1s - loss: 5646.1636 - mean_squared_error: 5646.1636 - val_loss: 5460.7476 - val_mean_squared_error: 5460.7476 - 1s/epoch - 47ms/step\n",
            "Epoch 100/500\n",
            "25/25 - 1s - loss: 6937.5181 - mean_squared_error: 6937.5181 - val_loss: 6381.7134 - val_mean_squared_error: 6381.7134 - 1s/epoch - 47ms/step\n",
            "Epoch 101/500\n",
            "25/25 - 1s - loss: 5689.7886 - mean_squared_error: 5689.7886 - val_loss: 6713.9238 - val_mean_squared_error: 6713.9238 - 1s/epoch - 47ms/step\n",
            "Epoch 102/500\n",
            "25/25 - 1s - loss: 6346.2266 - mean_squared_error: 6346.2266 - val_loss: 5682.0918 - val_mean_squared_error: 5682.0918 - 1s/epoch - 47ms/step\n",
            "Epoch 103/500\n",
            "25/25 - 1s - loss: 4834.3032 - mean_squared_error: 4834.3032 - val_loss: 5772.2026 - val_mean_squared_error: 5772.2026 - 1s/epoch - 47ms/step\n",
            "Epoch 104/500\n",
            "25/25 - 1s - loss: 5176.8682 - mean_squared_error: 5176.8682 - val_loss: 4452.9951 - val_mean_squared_error: 4452.9951 - 1s/epoch - 52ms/step\n",
            "Epoch 105/500\n",
            "25/25 - 1s - loss: 4033.6963 - mean_squared_error: 4033.6963 - val_loss: 4738.4521 - val_mean_squared_error: 4738.4521 - 1s/epoch - 47ms/step\n",
            "Epoch 106/500\n",
            "25/25 - 1s - loss: 4755.8608 - mean_squared_error: 4755.8608 - val_loss: 4683.1016 - val_mean_squared_error: 4683.1016 - 1s/epoch - 47ms/step\n",
            "Epoch 107/500\n",
            "25/25 - 1s - loss: 4357.6226 - mean_squared_error: 4357.6226 - val_loss: 7163.9868 - val_mean_squared_error: 7163.9868 - 1s/epoch - 47ms/step\n",
            "Epoch 108/500\n",
            "25/25 - 1s - loss: 4976.0684 - mean_squared_error: 4976.0684 - val_loss: 7091.3198 - val_mean_squared_error: 7091.3198 - 1s/epoch - 47ms/step\n",
            "Epoch 109/500\n",
            "25/25 - 1s - loss: 5139.5015 - mean_squared_error: 5139.5015 - val_loss: 8738.9160 - val_mean_squared_error: 8738.9160 - 1s/epoch - 47ms/step\n",
            "Epoch 110/500\n",
            "25/25 - 1s - loss: 5773.5376 - mean_squared_error: 5773.5376 - val_loss: 7800.7559 - val_mean_squared_error: 7800.7559 - 1s/epoch - 47ms/step\n",
            "Epoch 111/500\n",
            "25/25 - 1s - loss: 4456.2217 - mean_squared_error: 4456.2217 - val_loss: 5833.0713 - val_mean_squared_error: 5833.0713 - 1s/epoch - 47ms/step\n",
            "Epoch 112/500\n",
            "25/25 - 1s - loss: 5818.3521 - mean_squared_error: 5818.3521 - val_loss: 5463.4863 - val_mean_squared_error: 5463.4863 - 1s/epoch - 47ms/step\n",
            "Epoch 113/500\n",
            "25/25 - 1s - loss: 5159.4253 - mean_squared_error: 5159.4253 - val_loss: 4878.6260 - val_mean_squared_error: 4878.6260 - 1s/epoch - 47ms/step\n",
            "Epoch 114/500\n",
            "25/25 - 1s - loss: 3668.7598 - mean_squared_error: 3668.7598 - val_loss: 4442.4473 - val_mean_squared_error: 4442.4473 - 1s/epoch - 47ms/step\n",
            "Epoch 115/500\n",
            "25/25 - 1s - loss: 3999.0874 - mean_squared_error: 3999.0874 - val_loss: 5069.8198 - val_mean_squared_error: 5069.8198 - 1s/epoch - 47ms/step\n",
            "Epoch 116/500\n",
            "25/25 - 1s - loss: 5300.9111 - mean_squared_error: 5300.9111 - val_loss: 5184.6919 - val_mean_squared_error: 5184.6919 - 1s/epoch - 47ms/step\n",
            "Epoch 117/500\n",
            "25/25 - 1s - loss: 5998.3545 - mean_squared_error: 5998.3545 - val_loss: 9487.8564 - val_mean_squared_error: 9487.8564 - 1s/epoch - 52ms/step\n",
            "Epoch 118/500\n",
            "25/25 - 1s - loss: 5944.8232 - mean_squared_error: 5944.8232 - val_loss: 8440.1650 - val_mean_squared_error: 8440.1650 - 1s/epoch - 47ms/step\n",
            "Epoch 119/500\n",
            "25/25 - 1s - loss: 3909.4773 - mean_squared_error: 3909.4773 - val_loss: 4691.2432 - val_mean_squared_error: 4691.2432 - 1s/epoch - 47ms/step\n",
            "Epoch 120/500\n",
            "25/25 - 1s - loss: 3360.0149 - mean_squared_error: 3360.0149 - val_loss: 5237.6719 - val_mean_squared_error: 5237.6719 - 1s/epoch - 52ms/step\n",
            "Epoch 121/500\n",
            "25/25 - 1s - loss: 3221.2307 - mean_squared_error: 3221.2307 - val_loss: 4925.5659 - val_mean_squared_error: 4925.5659 - 1s/epoch - 47ms/step\n",
            "Epoch 122/500\n",
            "25/25 - 1s - loss: 3159.7466 - mean_squared_error: 3159.7466 - val_loss: 4098.3071 - val_mean_squared_error: 4098.3071 - 1s/epoch - 47ms/step\n",
            "Epoch 123/500\n",
            "25/25 - 1s - loss: 2405.6638 - mean_squared_error: 2405.6638 - val_loss: 4403.1436 - val_mean_squared_error: 4403.1436 - 1s/epoch - 47ms/step\n",
            "Epoch 124/500\n",
            "25/25 - 1s - loss: 3119.7061 - mean_squared_error: 3119.7061 - val_loss: 4811.4541 - val_mean_squared_error: 4811.4541 - 1s/epoch - 47ms/step\n",
            "Epoch 125/500\n",
            "25/25 - 1s - loss: 3167.6379 - mean_squared_error: 3167.6379 - val_loss: 6370.4595 - val_mean_squared_error: 6370.4595 - 1s/epoch - 47ms/step\n",
            "Epoch 126/500\n",
            "25/25 - 1s - loss: 2977.2671 - mean_squared_error: 2977.2671 - val_loss: 5498.0420 - val_mean_squared_error: 5498.0420 - 1s/epoch - 47ms/step\n",
            "Epoch 127/500\n",
            "25/25 - 1s - loss: 4245.0303 - mean_squared_error: 4245.0303 - val_loss: 6491.6113 - val_mean_squared_error: 6491.6113 - 1s/epoch - 47ms/step\n",
            "Epoch 128/500\n",
            "25/25 - 1s - loss: 2937.8855 - mean_squared_error: 2937.8855 - val_loss: 4708.4351 - val_mean_squared_error: 4708.4351 - 1s/epoch - 52ms/step\n",
            "Epoch 129/500\n",
            "25/25 - 1s - loss: 2693.8464 - mean_squared_error: 2693.8464 - val_loss: 5450.0220 - val_mean_squared_error: 5450.0220 - 1s/epoch - 47ms/step\n",
            "Epoch 130/500\n",
            "25/25 - 1s - loss: 3036.6321 - mean_squared_error: 3036.6321 - val_loss: 4065.0693 - val_mean_squared_error: 4065.0693 - 1s/epoch - 52ms/step\n",
            "Epoch 131/500\n",
            "25/25 - 1s - loss: 3094.4685 - mean_squared_error: 3094.4685 - val_loss: 4630.0874 - val_mean_squared_error: 4630.0874 - 1s/epoch - 47ms/step\n",
            "Epoch 132/500\n",
            "25/25 - 1s - loss: 4628.0396 - mean_squared_error: 4628.0396 - val_loss: 4897.6011 - val_mean_squared_error: 4897.6011 - 1s/epoch - 47ms/step\n",
            "Epoch 133/500\n",
            "25/25 - 1s - loss: 3698.7961 - mean_squared_error: 3698.7961 - val_loss: 5308.7158 - val_mean_squared_error: 5308.7158 - 1s/epoch - 47ms/step\n",
            "Epoch 134/500\n",
            "25/25 - 1s - loss: 2881.0696 - mean_squared_error: 2881.0696 - val_loss: 6177.8184 - val_mean_squared_error: 6177.8184 - 1s/epoch - 47ms/step\n",
            "Epoch 135/500\n",
            "25/25 - 1s - loss: 2676.7642 - mean_squared_error: 2676.7642 - val_loss: 5111.6382 - val_mean_squared_error: 5111.6382 - 1s/epoch - 47ms/step\n",
            "Epoch 136/500\n",
            "25/25 - 1s - loss: 2552.9429 - mean_squared_error: 2552.9429 - val_loss: 4226.2095 - val_mean_squared_error: 4226.2095 - 1s/epoch - 52ms/step\n",
            "Epoch 137/500\n",
            "25/25 - 1s - loss: 2342.1741 - mean_squared_error: 2342.1741 - val_loss: 4721.6509 - val_mean_squared_error: 4721.6509 - 1s/epoch - 47ms/step\n",
            "Epoch 138/500\n",
            "25/25 - 1s - loss: 2042.1876 - mean_squared_error: 2042.1876 - val_loss: 5079.2705 - val_mean_squared_error: 5079.2705 - 1s/epoch - 47ms/step\n",
            "Epoch 139/500\n",
            "25/25 - 1s - loss: 2026.2441 - mean_squared_error: 2026.2441 - val_loss: 4568.5786 - val_mean_squared_error: 4568.5786 - 1s/epoch - 47ms/step\n",
            "Epoch 140/500\n",
            "25/25 - 1s - loss: 3085.2949 - mean_squared_error: 3085.2949 - val_loss: 6524.1260 - val_mean_squared_error: 6524.1260 - 1s/epoch - 47ms/step\n",
            "Epoch 141/500\n",
            "25/25 - 1s - loss: 3268.1116 - mean_squared_error: 3268.1116 - val_loss: 4372.3374 - val_mean_squared_error: 4372.3374 - 1s/epoch - 47ms/step\n",
            "Epoch 142/500\n",
            "25/25 - 1s - loss: 2449.5342 - mean_squared_error: 2449.5342 - val_loss: 4020.3076 - val_mean_squared_error: 4020.3076 - 1s/epoch - 47ms/step\n",
            "Epoch 143/500\n",
            "25/25 - 1s - loss: 1801.9532 - mean_squared_error: 1801.9532 - val_loss: 4671.5713 - val_mean_squared_error: 4671.5713 - 1s/epoch - 47ms/step\n",
            "Epoch 144/500\n",
            "25/25 - 1s - loss: 1841.9695 - mean_squared_error: 1841.9695 - val_loss: 4219.3101 - val_mean_squared_error: 4219.3101 - 1s/epoch - 47ms/step\n",
            "Epoch 145/500\n",
            "25/25 - 1s - loss: 1876.2218 - mean_squared_error: 1876.2218 - val_loss: 5611.6626 - val_mean_squared_error: 5611.6626 - 1s/epoch - 47ms/step\n",
            "Epoch 146/500\n",
            "25/25 - 1s - loss: 2325.2715 - mean_squared_error: 2325.2715 - val_loss: 4450.2759 - val_mean_squared_error: 4450.2759 - 1s/epoch - 47ms/step\n",
            "Epoch 147/500\n",
            "25/25 - 1s - loss: 2329.4292 - mean_squared_error: 2329.4292 - val_loss: 3926.0818 - val_mean_squared_error: 3926.0818 - 1s/epoch - 52ms/step\n",
            "Epoch 148/500\n",
            "25/25 - 1s - loss: 1767.6956 - mean_squared_error: 1767.6956 - val_loss: 3827.1592 - val_mean_squared_error: 3827.1592 - 1s/epoch - 47ms/step\n",
            "Epoch 149/500\n",
            "25/25 - 1s - loss: 1794.6403 - mean_squared_error: 1794.6403 - val_loss: 4451.8965 - val_mean_squared_error: 4451.8965 - 1s/epoch - 47ms/step\n",
            "Epoch 150/500\n",
            "25/25 - 1s - loss: 1992.4822 - mean_squared_error: 1992.4822 - val_loss: 4056.1909 - val_mean_squared_error: 4056.1909 - 1s/epoch - 47ms/step\n",
            "Epoch 151/500\n",
            "25/25 - 1s - loss: 3412.6636 - mean_squared_error: 3412.6636 - val_loss: 4073.0044 - val_mean_squared_error: 4073.0044 - 1s/epoch - 47ms/step\n",
            "Epoch 152/500\n",
            "25/25 - 1s - loss: 2278.2073 - mean_squared_error: 2278.2073 - val_loss: 4108.7563 - val_mean_squared_error: 4108.7563 - 1s/epoch - 47ms/step\n",
            "Epoch 153/500\n",
            "25/25 - 1s - loss: 1810.0190 - mean_squared_error: 1810.0190 - val_loss: 4121.6392 - val_mean_squared_error: 4121.6392 - 1s/epoch - 52ms/step\n",
            "Epoch 154/500\n",
            "25/25 - 1s - loss: 1711.9612 - mean_squared_error: 1711.9612 - val_loss: 4348.2021 - val_mean_squared_error: 4348.2021 - 1s/epoch - 47ms/step\n",
            "Epoch 155/500\n",
            "25/25 - 1s - loss: 1752.5679 - mean_squared_error: 1752.5679 - val_loss: 4243.9058 - val_mean_squared_error: 4243.9058 - 1s/epoch - 47ms/step\n",
            "Epoch 156/500\n",
            "25/25 - 1s - loss: 1652.1327 - mean_squared_error: 1652.1327 - val_loss: 3808.7258 - val_mean_squared_error: 3808.7258 - 1s/epoch - 47ms/step\n",
            "Epoch 157/500\n",
            "25/25 - 1s - loss: 1677.9128 - mean_squared_error: 1677.9128 - val_loss: 3963.3538 - val_mean_squared_error: 3963.3538 - 1s/epoch - 47ms/step\n",
            "Epoch 158/500\n",
            "25/25 - 1s - loss: 1822.6654 - mean_squared_error: 1822.6654 - val_loss: 4533.3521 - val_mean_squared_error: 4533.3521 - 1s/epoch - 47ms/step\n",
            "Epoch 159/500\n",
            "25/25 - 1s - loss: 1979.9893 - mean_squared_error: 1979.9893 - val_loss: 4807.3540 - val_mean_squared_error: 4807.3540 - 1s/epoch - 47ms/step\n",
            "Epoch 160/500\n",
            "25/25 - 1s - loss: 2817.0493 - mean_squared_error: 2817.0493 - val_loss: 4280.3022 - val_mean_squared_error: 4280.3022 - 1s/epoch - 47ms/step\n",
            "Epoch 161/500\n",
            "25/25 - 1s - loss: 2340.5461 - mean_squared_error: 2340.5461 - val_loss: 4264.8936 - val_mean_squared_error: 4264.8936 - 1s/epoch - 47ms/step\n",
            "Epoch 162/500\n",
            "25/25 - 1s - loss: 2430.0745 - mean_squared_error: 2430.0745 - val_loss: 4091.5461 - val_mean_squared_error: 4091.5461 - 1s/epoch - 47ms/step\n",
            "Epoch 163/500\n",
            "25/25 - 1s - loss: 2076.4487 - mean_squared_error: 2076.4487 - val_loss: 4521.3979 - val_mean_squared_error: 4521.3979 - 1s/epoch - 47ms/step\n",
            "Epoch 164/500\n",
            "25/25 - 1s - loss: 1348.2037 - mean_squared_error: 1348.2037 - val_loss: 3776.0034 - val_mean_squared_error: 3776.0034 - 1s/epoch - 47ms/step\n",
            "Epoch 165/500\n",
            "25/25 - 1s - loss: 2320.2708 - mean_squared_error: 2320.2708 - val_loss: 4869.2109 - val_mean_squared_error: 4869.2109 - 1s/epoch - 47ms/step\n",
            "Epoch 166/500\n",
            "25/25 - 1s - loss: 1494.8804 - mean_squared_error: 1494.8804 - val_loss: 4237.6133 - val_mean_squared_error: 4237.6133 - 1s/epoch - 47ms/step\n",
            "Epoch 167/500\n",
            "25/25 - 1s - loss: 1778.8890 - mean_squared_error: 1778.8890 - val_loss: 4280.8813 - val_mean_squared_error: 4280.8813 - 1s/epoch - 47ms/step\n",
            "Epoch 168/500\n",
            "25/25 - 1s - loss: 1714.0939 - mean_squared_error: 1714.0939 - val_loss: 3952.9553 - val_mean_squared_error: 3952.9553 - 1s/epoch - 47ms/step\n",
            "Epoch 169/500\n",
            "25/25 - 1s - loss: 1449.7860 - mean_squared_error: 1449.7860 - val_loss: 4637.1357 - val_mean_squared_error: 4637.1357 - 1s/epoch - 52ms/step\n",
            "Epoch 170/500\n",
            "25/25 - 1s - loss: 1936.8224 - mean_squared_error: 1936.8224 - val_loss: 4466.1489 - val_mean_squared_error: 4466.1489 - 1s/epoch - 47ms/step\n",
            "Epoch 171/500\n",
            "25/25 - 1s - loss: 1487.6178 - mean_squared_error: 1487.6178 - val_loss: 4652.4971 - val_mean_squared_error: 4652.4971 - 1s/epoch - 47ms/step\n",
            "Epoch 172/500\n",
            "25/25 - 1s - loss: 1737.3662 - mean_squared_error: 1737.3662 - val_loss: 4203.7271 - val_mean_squared_error: 4203.7271 - 1s/epoch - 47ms/step\n",
            "Epoch 173/500\n",
            "25/25 - 1s - loss: 1652.6053 - mean_squared_error: 1652.6053 - val_loss: 3770.4856 - val_mean_squared_error: 3770.4856 - 1s/epoch - 47ms/step\n",
            "Epoch 174/500\n",
            "25/25 - 1s - loss: 1414.6016 - mean_squared_error: 1414.6016 - val_loss: 3993.5615 - val_mean_squared_error: 3993.5615 - 1s/epoch - 47ms/step\n",
            "Epoch 175/500\n",
            "25/25 - 1s - loss: 1400.8149 - mean_squared_error: 1400.8149 - val_loss: 3926.1003 - val_mean_squared_error: 3926.1003 - 1s/epoch - 47ms/step\n",
            "Epoch 176/500\n",
            "25/25 - 1s - loss: 1301.5441 - mean_squared_error: 1301.5441 - val_loss: 4485.6719 - val_mean_squared_error: 4485.6719 - 1s/epoch - 47ms/step\n",
            "Epoch 177/500\n",
            "25/25 - 1s - loss: 2179.0828 - mean_squared_error: 2179.0828 - val_loss: 4784.2632 - val_mean_squared_error: 4784.2632 - 1s/epoch - 53ms/step\n",
            "Epoch 178/500\n",
            "25/25 - 1s - loss: 2142.2197 - mean_squared_error: 2142.2197 - val_loss: 4952.4790 - val_mean_squared_error: 4952.4790 - 1s/epoch - 47ms/step\n",
            "Epoch 179/500\n",
            "25/25 - 1s - loss: 1844.6014 - mean_squared_error: 1844.6014 - val_loss: 4135.0752 - val_mean_squared_error: 4135.0752 - 1s/epoch - 47ms/step\n",
            "Epoch 180/500\n",
            "25/25 - 1s - loss: 1625.9537 - mean_squared_error: 1625.9537 - val_loss: 4311.8877 - val_mean_squared_error: 4311.8877 - 1s/epoch - 47ms/step\n",
            "Epoch 181/500\n",
            "25/25 - 1s - loss: 1680.9636 - mean_squared_error: 1680.9636 - val_loss: 4320.1562 - val_mean_squared_error: 4320.1562 - 1s/epoch - 52ms/step\n",
            "Epoch 182/500\n",
            "25/25 - 1s - loss: 1815.0961 - mean_squared_error: 1815.0961 - val_loss: 5133.1055 - val_mean_squared_error: 5133.1055 - 1s/epoch - 47ms/step\n",
            "Epoch 183/500\n",
            "25/25 - 1s - loss: 2000.8035 - mean_squared_error: 2000.8035 - val_loss: 4136.7119 - val_mean_squared_error: 4136.7119 - 1s/epoch - 47ms/step\n",
            "Epoch 184/500\n",
            "25/25 - 1s - loss: 1976.7203 - mean_squared_error: 1976.7203 - val_loss: 5050.3574 - val_mean_squared_error: 5050.3574 - 1s/epoch - 47ms/step\n",
            "Epoch 185/500\n",
            "25/25 - 1s - loss: 1482.2744 - mean_squared_error: 1482.2744 - val_loss: 4487.8213 - val_mean_squared_error: 4487.8213 - 1s/epoch - 47ms/step\n",
            "Epoch 186/500\n",
            "25/25 - 1s - loss: 1891.1514 - mean_squared_error: 1891.1514 - val_loss: 4208.5366 - val_mean_squared_error: 4208.5366 - 1s/epoch - 47ms/step\n",
            "Epoch 187/500\n",
            "25/25 - 1s - loss: 1548.1044 - mean_squared_error: 1548.1044 - val_loss: 4434.0908 - val_mean_squared_error: 4434.0908 - 1s/epoch - 47ms/step\n",
            "Epoch 188/500\n",
            "25/25 - 1s - loss: 1796.1211 - mean_squared_error: 1796.1211 - val_loss: 4912.4155 - val_mean_squared_error: 4912.4155 - 1s/epoch - 47ms/step\n",
            "Epoch 189/500\n",
            "25/25 - 1s - loss: 2088.8411 - mean_squared_error: 2088.8411 - val_loss: 4241.7261 - val_mean_squared_error: 4241.7261 - 1s/epoch - 47ms/step\n",
            "Epoch 190/500\n",
            "25/25 - 1s - loss: 1667.2357 - mean_squared_error: 1667.2357 - val_loss: 4679.0801 - val_mean_squared_error: 4679.0801 - 1s/epoch - 47ms/step\n",
            "Epoch 191/500\n",
            "25/25 - 1s - loss: 1248.6104 - mean_squared_error: 1248.6104 - val_loss: 4335.9858 - val_mean_squared_error: 4335.9858 - 1s/epoch - 47ms/step\n",
            "Epoch 191: early stopping\n"
          ]
        }
      ]
    },
    {
      "cell_type": "code",
      "source": [
        "data = timeProcess()[1]"
      ],
      "metadata": {
        "id": "0YkcOvC7XjY8"
      },
      "execution_count": null,
      "outputs": []
    },
    {
      "cell_type": "code",
      "source": [
        "modelo.save('/content/drive/MyDrive/1_Informações_scripts//model__A549_regressao_menor_erro_Mean_squared_error_30%_18_PACIENCE'+data+'.h5')"
      ],
      "metadata": {
        "id": "WXMNQlYeXZga"
      },
      "execution_count": null,
      "outputs": []
    },
    {
      "cell_type": "markdown",
      "metadata": {
        "tags": [],
        "is_collapsed": false,
        "cell_id": "00040-4b571408-a790-4e76-99df-23a92c28cd25",
        "deepnote_cell_type": "text-cell-h2",
        "id": "BTA3Xw5y4tJw"
      },
      "source": [
        "## Accuracy Assessment"
      ]
    },
    {
      "cell_type": "code",
      "metadata": {
        "tags": [],
        "cell_id": "00028-91ae04ee-eb68-410d-9d0c-a503131c11d3",
        "deepnote_to_be_reexecuted": false,
        "source_hash": "b96ca127",
        "execution_start": 1633367587203,
        "execution_millis": 208,
        "deepnote_cell_type": "code",
        "colab": {
          "base_uri": "https://localhost:8080/",
          "height": 295
        },
        "id": "yESKf6yz4tJ0",
        "outputId": "d1faa12a-545d-44b8-a1fe-735606f36de9"
      },
      "source": [
        "#gráfico avaliando a acurácia a partir de treino e teste\n",
        "plt.plot(history.history['mean_squared_error'])\n",
        "plt.plot(history.history['val_mean_squared_error'])\n",
        "plt.title('Accuracy Metric')\n",
        "plt.ylabel('MSE')\n",
        "plt.xlabel('Epochs')\n",
        "plt.legend(['train', 'test'], loc='upper left')\n",
        "plt.show()"
      ],
      "execution_count": null,
      "outputs": [
        {
          "output_type": "display_data",
          "data": {
            "text/plain": [
              "<Figure size 432x288 with 1 Axes>"
            ],
            "image/png": "[encoded data removed]"
          },
          "metadata": {
            "needs_background": "light"
          }
        }
      ]
    },
    {
      "cell_type": "code",
      "metadata": {
        "tags": [],
        "cell_id": "00029-fcafda94-1f62-4b1d-99f9-8e40571aa205",
        "deepnote_to_be_reexecuted": false,
        "source_hash": "96e272ff",
        "execution_start": 1633367597958,
        "execution_millis": 5295,
        "deepnote_cell_type": "code",
        "colab": {
          "base_uri": "https://localhost:8080/",
          "height": 295
        },
        "id": "LiIbTq_l4tJ2",
        "outputId": "ccc3faad-8d0e-4c91-b672-e67d8f3fb4f1"
      },
      "source": [
        "#avaliando a previsão do modelo com os rótulos\n",
        "prev = modelo.predict(X_test)\n",
        "plt.title('Previsão dos valores Operetta')\n",
        "plt.ylabel('Rótulos')\n",
        "plt.xlabel('Previsão')\n",
        "\n",
        "plt.plot(prev)\n",
        "plt.plot(y_test)\n",
        "plt.show()"
      ],
      "execution_count": null,
      "outputs": [
        {
          "output_type": "display_data",
          "data": {
            "text/plain": [
              "<Figure size 432x288 with 1 Axes>"
            ],
            "image/png": "[encoded data removed]"
          },
          "metadata": {
            "needs_background": "light"
          }
        }
      ]
    },
    {
      "cell_type": "markdown",
      "source": [
        "# # Qualit model analisys"
      ],
      "metadata": {
        "id": "0h2kPADevqYA"
      }
    },
    {
      "cell_type": "code",
      "metadata": {
        "tags": [],
        "cell_id": "00029-d40ab35b-5c84-4bf2-aaee-8420ac763fd8",
        "deepnote_to_be_reexecuted": false,
        "source_hash": "3b8f2163",
        "execution_start": 1633367609115,
        "execution_millis": 0,
        "deepnote_cell_type": "code",
        "id": "rUKnxWUE4tJ4"
      },
      "source": [
        "\n",
        "from sklearn.metrics import r2_score,mean_absolute_error, mean_squared_error, mean_squared_log_error, median_absolute_error"
      ],
      "execution_count": null,
      "outputs": []
    },
    {
      "cell_type": "code",
      "metadata": {
        "tags": [],
        "cell_id": "00047-d1f881d6-14d2-4951-97bc-8bb45c6a2252",
        "deepnote_to_be_reexecuted": false,
        "source_hash": "7d8190e2",
        "execution_start": 1633367613280,
        "execution_millis": 17,
        "deepnote_cell_type": "code",
        "colab": {
          "base_uri": "https://localhost:8080/"
        },
        "id": "WKMvZyHA4tJ5",
        "outputId": "d44a10a3-a133-46b1-b853-525598585bc4"
      },
      "source": [
        "#buscando pelas métricas\n",
        "print(f\"{round(r2_score(y_test, prev) * 100, 2)}% r2_score\") #raíz quadrada\n",
        "print(f\"{round(mean_absolute_error(y_test, prev), 2)} Erro médio absoluto\") \n",
        "print(f\"{round(mean_squared_error(y_test, prev), 2)} Erro médio quadrático\") #erro médio quadrático\n",
        "# print(f\"{round(median_absolute_error(y_test, prev), 2)}\")#Erro médio absoluto sem %\n",
        "#print(f\"{round(median(y_test, prev), 2)} mediana\") #erro médio quadrático\n",
        "\n"
      ],
      "execution_count": null,
      "outputs": [
        {
          "output_type": "stream",
          "name": "stdout",
          "text": [
            "95.35% r2_score\n",
            "50.21 Erro médio absoluto\n",
            "4335.99 Erro médio quadrático\n"
          ]
        }
      ]
    }
  ]
}