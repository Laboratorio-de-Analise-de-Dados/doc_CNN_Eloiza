{
 "cells": [
  {
   "cell_type": "markdown",
   "metadata": {
    "cell_id": "00000-288de0bc-8cc2-4998-872c-01f58e6fa085",
    "deepnote_cell_type": "text-cell-h1",
    "id": "DIP4f59iQOXu",
    "is_collapsed": false,
    "tags": []
   },
   "source": [
    "# Linhagem A549"
   ]
  },
  {
   "cell_type": "markdown",
   "metadata": {
    "cell_id": "00000-9bdebeb7-f4c3-4b52-9360-68ef655b9779",
    "deepnote_cell_type": "text-cell-h1",
    "id": "ZOJb6W5_QOXx",
    "is_collapsed": false,
    "tags": []
   },
   "source": [
    "# Importações estruturação dos dados"
   ]
  },
  {
   "cell_type": "code",
   "execution_count": 1,
   "metadata": {
    "cell_id": "00001-972e581c-6be2-452a-9163-ba15e69acd0d",
    "deepnote_cell_type": "code",
    "deepnote_to_be_reexecuted": false,
    "execution_millis": 748,
    "execution_start": 1633461500805,
    "id": "euqh1-fhQOXy",
    "source_hash": "64fc40d5",
    "tags": []
   },
   "outputs": [],
   "source": [
    "#organização dos arquivos\n",
    "import os\n",
    "#salvar/carregar arquivos em diferentes formatos\n",
    "import joblib\n",
    "#organizando os arquivos de forma aleatória\n",
    "import random\n",
    "#gerar gráfico\n",
    "import matplotlib\n",
    "#estruturação dos dados\n",
    "import numpy as np\n",
    "#gerar gráfico\n",
    "import seaborn as sns\n",
    "#gerar gráfico\n",
    "import matplotlib.pyplot as plt\n",
    "#gerar imagem\n",
    "import matplotlib.image as mpimg"
   ]
  },
  {
   "cell_type": "markdown",
   "metadata": {
    "cell_id": "00002-9d58b1f9-b49b-45eb-a495-16f3ad253dcc",
    "deepnote_cell_type": "text-cell-h1",
    "id": "h3xJa8HGQOXz",
    "is_collapsed": false,
    "tags": []
   },
   "source": [
    "# Importação do modelo de CNN"
   ]
  },
  {
   "cell_type": "code",
   "execution_count": 2,
   "metadata": {
    "cell_id": "00003-87f289b7-d2cd-4f4c-9db8-bdb01a8452d9",
    "deepnote_cell_type": "code",
    "deepnote_to_be_reexecuted": false,
    "execution_millis": 1990,
    "execution_start": 1633461502575,
    "id": "NDiD0U_1QOX0",
    "source_hash": "654178fe",
    "tags": []
   },
   "outputs": [
    {
     "name": "stderr",
     "output_type": "stream",
     "text": [
      "2022-08-05 18:43:08.789268: W tensorflow/stream_executor/platform/default/dso_loader.cc:60] Could not load dynamic library 'libcudart.so.11.0'; dlerror: libcudart.so.11.0: cannot open shared object file: No such file or directory\n",
      "2022-08-05 18:43:08.790030: I tensorflow/stream_executor/cuda/cudart_stub.cc:29] Ignore above cudart dlerror if you do not have a GPU set up on your machine.\n"
     ]
    }
   ],
   "source": [
    "#modelo de revisão redes neurais - cnn\n",
    "from keras.models import Sequential\n",
    "from keras.utils.np_utils import to_categorical\n",
    "#from keras.utils import to_categorical\n",
    "from util import meus_uteis, timeProcess, mask_corr_graphic, printLis\n",
    "from sklearn.metrics import confusion_matrix, accuracy_score, classification_report\n",
    "from keras.layers import Dense, Conv2D, MaxPooling2D, Dropout, Flatten"
   ]
  },
  {
   "cell_type": "code",
   "execution_count": 3,
   "metadata": {
    "cell_id": "00005-12ddf809-8cd5-457c-8838-0469b9db7e9e",
    "colab": {
     "base_uri": "https://localhost:8080/"
    },
    "deepnote_cell_type": "code",
    "deepnote_to_be_reexecuted": false,
    "execution_millis": 17,
    "execution_start": 1633461509648,
    "id": "0wJERBvwQOX1",
    "outputId": "d73c0f83-596c-4450-b4eb-aab66b487dd9",
    "source_hash": "38a38df5",
    "tags": []
   },
   "outputs": [
    {
     "name": "stdout",
     "output_type": "stream",
     "text": [
      "-------------\n",
      "-=< Lista >=-\n",
      "-------------\n",
      "0 -> 10_images_de_X_test_a549_melhor_modelo_18_PACIENCE_500_2022-6-29.gz\n",
      "1 -> 11_images_de_y_test_a549_melhor_modelo_18_PACIENCE%00_2022-6-29.gz\n",
      "2 -> 12_lista_img_camp_clar_100_resized_regressao_A549_samehuh72021-10-25.gz\n",
      "3 -> 13_lista_rotulo_camp_clar_100_resized_regressao_A549_samehuh72021-10-25.gz\n",
      "4 -> 14_model__A549_regressao_maior_erro_18_PACIEN_500_2022-6-29.h5\n",
      "5 -> 15_images_de_X_test_a549_pior_modelo_18_PACIENCE_500_2022-6-29.gz\n",
      "6 -> 16_images_de_y_test_a549_pior_modelo_18_PACIENCE_500_2022-6-29.gz\n",
      "7 -> 1_lista_img_camp_clar_100_resized_regressao_A5492021-11-9.gz\n",
      "8 -> 2_lista_img_camp_clar_75_resized_regressao_A5492021-11-9.gz\n",
      "9 -> 3_lista_img_camp_clar_50_resized_regressao_A5492021-11-9.gz\n",
      "10 -> 4_lista_img_camp_clar_25_resized_regressao_A5492021-11-9.gz\n",
      "11 -> 5_lista_rotulo_camp_clar_100_resized_regressao_A5492021-11-9.gz\n",
      "12 -> 6_lista_rotulo_camp_clar_75_resized_regressao_A5492021-11-9.gz\n",
      "13 -> 7_lista_rotulo_camp_clar_50_resized_regressao_A5492021-11-9.gz\n",
      "14 -> 8_lista_rotulo_camp_clar_25_resized_regressao_A5492021-11-9.gz\n",
      "15 -> 9_model__A549_regressao_menor_erro_Mean_squared_error_30%_18_PACIENCE2022-6-29.h5\n"
     ]
    }
   ],
   "source": [
    "diretorio = '/data/results/results_A549' #alimentando a variável com os arquivos da pasta datasets\n",
    "lista_dados = os.listdir(diretorio) #listando os arquivos dessa pasta\n",
    "printLis(lista_dados) #printando as diferentes listas"
   ]
  },
  {
   "cell_type": "code",
   "execution_count": 4,
   "metadata": {
    "cell_id": "00007-fe91ac12-233a-4a55-ae7d-0db6c6ede293",
    "colab": {
     "base_uri": "https://localhost:8080/"
    },
    "deepnote_cell_type": "code",
    "deepnote_output_heights": [
     20.65625
    ],
    "deepnote_to_be_reexecuted": false,
    "execution_millis": 266,
    "execution_start": 1633461580643,
    "id": "izrc65DQQOX3",
    "outputId": "40ff6ebd-b562-44c9-a42b-0d341ee9c2f1",
    "source_hash": "eec15ce2",
    "tags": []
   },
   "outputs": [
    {
     "data": {
      "text/plain": [
       "(176, 200, 200, 3)"
      ]
     },
     "execution_count": 4,
     "metadata": {},
     "output_type": "execute_result"
    }
   ],
   "source": [
    "#lista sameHuh7 A549\n",
    "imagem_camp_claro = joblib.load(diretorio+ '/' + lista_dados[2]) #atualizar\n",
    "imagem_camp_claro.shape #apresentando 4000 imagens de 108x108, 3 rgb"
   ]
  },
  {
   "cell_type": "markdown",
   "metadata": {
    "cell_id": "00020-687c50fe-7fed-478b-a9be-756ca0cd90e0",
    "deepnote_cell_type": "text-cell-h2",
    "id": "FN-RvGfqQOX3",
    "is_collapsed": false,
    "tags": []
   },
   "source": [
    "## x = características/imagens"
   ]
  },
  {
   "cell_type": "code",
   "execution_count": 5,
   "metadata": {
    "cell_id": "00021-c1e78082-8e7d-42a8-93d0-3be74afe9ac6",
    "colab": {
     "base_uri": "https://localhost:8080/"
    },
    "deepnote_cell_type": "code",
    "deepnote_output_heights": [
     20.65625
    ],
    "deepnote_to_be_reexecuted": false,
    "execution_millis": 8,
    "execution_start": 1633461594864,
    "id": "fxEVaBbOQOX4",
    "outputId": "17448c94-c3c7-4d58-a8e6-628d0ea8263c",
    "source_hash": "3d92fdb4",
    "tags": []
   },
   "outputs": [
    {
     "data": {
      "text/plain": [
       "(176, 200, 200, 3)"
      ]
     },
     "execution_count": 5,
     "metadata": {},
     "output_type": "execute_result"
    }
   ],
   "source": [
    "#somando cada lista gerada acima e salvando em um array\n",
    "x = np.asarray(imagem_camp_claro) #abriando em array as imagens\n",
    "x.shape #x - características (labels) "
   ]
  },
  {
   "cell_type": "markdown",
   "metadata": {
    "cell_id": "00024-2a52cddd-d57a-43ea-b19b-79d121441438",
    "deepnote_cell_type": "text-cell-h2",
    "id": "h6cT-ESzQOX5",
    "is_collapsed": false,
    "tags": []
   },
   "source": [
    "## y = rótulos"
   ]
  },
  {
   "cell_type": "markdown",
   "metadata": {
    "cell_id": "00013-59c042e6-ccc7-4e8a-8ad0-93c47d0dfc93",
    "deepnote_cell_type": "text-cell-p",
    "id": "oGF08N3GQOX5",
    "is_collapsed": false,
    "tags": []
   },
   "source": [
    "Abrindo os rótulos que foram salvos na preparação das imagens"
   ]
  },
  {
   "cell_type": "code",
   "execution_count": 6,
   "metadata": {
    "cell_id": "00013-5ec0ed10-07d6-4cea-83a0-cdaaa4b9309e",
    "colab": {
     "base_uri": "https://localhost:8080/"
    },
    "deepnote_cell_type": "code",
    "deepnote_output_heights": [
     20.65625
    ],
    "deepnote_to_be_reexecuted": false,
    "execution_millis": 14,
    "execution_start": 1633366091444,
    "id": "lQMqFtMjQOX5",
    "outputId": "e31b0363-8d09-487a-d4d5-f85781e8a347",
    "source_hash": "18408477",
    "tags": []
   },
   "outputs": [
    {
     "data": {
      "text/plain": [
       "(176,)"
      ]
     },
     "execution_count": 6,
     "metadata": {},
     "output_type": "execute_result"
    }
   ],
   "source": [
    "#rotulo samehuh7 A549\n",
    "y_rotulo = joblib.load(diretorio+ '/' + lista_dados[3]) #atualizar #carregando os rotulos\n",
    "y = np.asarray(y_rotulo)\n",
    "y.shape"
   ]
  },
  {
   "cell_type": "code",
   "execution_count": null,
   "metadata": {
    "cell_id": "00015-e899e30c-5063-4ed5-a36e-c96cfd7154c8",
    "deepnote_cell_type": "code",
    "deepnote_to_be_reexecuted": false,
    "execution_millis": 14,
    "execution_start": 1633366123142,
    "id": "ydr2jaRhQOX6",
    "source_hash": "abcd6da",
    "tags": []
   },
   "outputs": [],
   "source": [
    "#Train and test split datasets for CNN model\n",
    "#função que separa as imagens em teste e treino\n",
    "from sklearn.model_selection import train_test_split"
   ]
  },
  {
   "cell_type": "markdown",
   "metadata": {
    "cell_id": "00016-1914ad8b-dfb9-4d5b-9644-47b675be2c68",
    "deepnote_cell_type": "text-cell-p",
    "id": "hWclkbUIQOX6",
    "is_collapsed": false,
    "tags": []
   },
   "source": [
    "Separação de teste e treino a partir de uma biblioteca."
   ]
  },
  {
   "cell_type": "code",
   "execution_count": null,
   "metadata": {
    "cell_id": "00015-8ddea1cc-fc2b-4056-aea9-bb22914790fe",
    "colab": {
     "base_uri": "https://localhost:8080/"
    },
    "deepnote_cell_type": "code",
    "deepnote_to_be_reexecuted": false,
    "execution_millis": 45,
    "execution_start": 1633366126594,
    "id": "pKpSxhBZQOX6",
    "outputId": "dfb00368-260b-4af5-f08b-8019a7ecd089",
    "source_hash": "2984b900",
    "tags": []
   },
   "outputs": [
    {
     "name": "stdout",
     "output_type": "stream",
     "text": [
      "(170, 200, 200, 3) \n",
      "(114, 200, 200, 3) \n",
      "(170,) \n",
      "(114,)\n"
     ]
    }
   ],
   "source": [
    "X_train, X_test, y_train, y_test = train_test_split(x, y, test_size=0.4, random_state=0)\n",
    "#variáveis recebem o número de imagens para tes e treino\n",
    "print(f'{X_train.shape} \\n{X_test.shape} \\n{y_train.shape} \\n{y_test.shape}')"
   ]
  },
  {
   "cell_type": "code",
   "execution_count": null,
   "metadata": {
    "id": "z--2onxbyPSQ"
   },
   "outputs": [],
   "source": [
    "#data = timeProcess()[1]\n"
   ]
  },
  {
   "cell_type": "code",
   "execution_count": null,
   "metadata": {
    "colab": {
     "base_uri": "https://localhost:8080/"
    },
    "id": "m8RdAPxVRmWx",
    "outputId": "dd877929-8170-41b1-9023-e52c97735df2"
   },
   "outputs": [
    {
     "data": {
      "text/plain": [
       "['/content/drive/MyDrive/1_Informações_scripts//1_images_de_X_train_a549_pior_modelo_18_PACIENCE_500_2022-6-29.gz']"
      ]
     },
     "execution_count": 12,
     "metadata": {},
     "output_type": "execute_result"
    }
   ],
   "source": [
    "#joblib.dump(X_train, './../../results/1_images_de_X_train_a549_pior_modelo_18_PACIENCE_500_'+data+'.gz')\n"
   ]
  },
  {
   "cell_type": "code",
   "execution_count": null,
   "metadata": {
    "colab": {
     "base_uri": "https://localhost:8080/"
    },
    "id": "FtOgxAtiR6Uo",
    "outputId": "56481b06-e7c4-48a6-8be9-1875054fff4e"
   },
   "outputs": [
    {
     "data": {
      "text/plain": [
       "['/content/drive/MyDrive/1_Informações_scripts//1_images_de_y_train_a549_pior_modelo_18_PACIENCE_500_2022-6-29.gz']"
      ]
     },
     "execution_count": 13,
     "metadata": {},
     "output_type": "execute_result"
    }
   ],
   "source": [
    "#joblib.dump(y_train, './../../results/1_images_de_y_train_a549_pior_modelo_18_PACIENCE_500_'+data+'.gz')\n"
   ]
  },
  {
   "cell_type": "code",
   "execution_count": null,
   "metadata": {
    "colab": {
     "base_uri": "https://localhost:8080/"
    },
    "id": "sJI7sMYFSBiE",
    "outputId": "7b2b1ff1-6955-4086-c5d9-9664e6528490"
   },
   "outputs": [
    {
     "data": {
      "text/plain": [
       "['/content/drive/MyDrive/1_Informações_scripts//2_images_de_X_test_a549_pior_modelo_18_PACIENCE_500_2022-6-29.gz']"
      ]
     },
     "execution_count": 14,
     "metadata": {},
     "output_type": "execute_result"
    }
   ],
   "source": [
    "#joblib.dump(X_test, './../../results/2_images_de_X_test_a549_pior_modelo_18_PACIENCE_500_'+data+'.gz')\n"
   ]
  },
  {
   "cell_type": "code",
   "execution_count": null,
   "metadata": {
    "colab": {
     "base_uri": "https://localhost:8080/"
    },
    "id": "yserbJJsSa9X",
    "outputId": "cbbeb2df-74ca-4025-faf3-8742daaf0909"
   },
   "outputs": [
    {
     "data": {
      "text/plain": [
       "['/content/drive/MyDrive/1_Informações_scripts//2_images_de_y_test_a549_pior_modelo_18_PACIENCE_500_2022-6-29.gz']"
      ]
     },
     "execution_count": 15,
     "metadata": {},
     "output_type": "execute_result"
    }
   ],
   "source": [
    "#joblib.dump(y_test, './../../results/2_images_de_y_test_a549_pior_modelo_18_PACIENCE_500_'+data+'.gz')\n"
   ]
  },
  {
   "cell_type": "markdown",
   "metadata": {
    "cell_id": "00028-b7da895f-49eb-43aa-affa-0ab9581095b8",
    "deepnote_cell_type": "text-cell-p",
    "id": "AQxhTiIfQOX7",
    "is_collapsed": false,
    "tags": []
   },
   "source": [
    "Para treinar o modelo, geralmente é selecionada 30% das imagens para o treino e 70% para teste. Para isso, as imagens são guardadas em uma variável de teste (somente 30%) e o restante vai para o treino."
   ]
  },
  {
   "cell_type": "markdown",
   "metadata": {
    "cell_id": "00020-643aca93-ac54-4b42-a96b-0d9cb3766c07",
    "deepnote_cell_type": "text-cell-h3",
    "id": "KSDHO-IlQOX7",
    "is_collapsed": false,
    "tags": []
   },
   "source": [
    "### Determinação do modelo"
   ]
  },
  {
   "cell_type": "code",
   "execution_count": null,
   "metadata": {
    "cell_id": "00021-7cc62f7e-3524-4624-ad1c-28768879074d",
    "colab": {
     "base_uri": "https://localhost:8080/"
    },
    "deepnote_cell_type": "code",
    "deepnote_to_be_reexecuted": false,
    "execution_millis": 124,
    "execution_start": 1633366142373,
    "id": "h-0iKlNVQOX7",
    "outputId": "037d7a49-c79f-4a54-935a-1c6632101797",
    "source_hash": "fcfd5f57",
    "tags": []
   },
   "outputs": [
    {
     "name": "stdout",
     "output_type": "stream",
     "text": [
      "Model: \"sequential_5\"\n",
      "_________________________________________________________________\n",
      " Layer (type)                Output Shape              Param #   \n",
      "=================================================================\n",
      " conv2d_20 (Conv2D)          (None, 198, 198, 32)      896       \n",
      "                                                                 \n",
      " max_pooling2d_20 (MaxPoolin  (None, 99, 99, 32)       0         \n",
      " g2D)                                                            \n",
      "                                                                 \n",
      " conv2d_21 (Conv2D)          (None, 97, 97, 64)        18496     \n",
      "                                                                 \n",
      " max_pooling2d_21 (MaxPoolin  (None, 48, 48, 64)       0         \n",
      " g2D)                                                            \n",
      "                                                                 \n",
      " conv2d_22 (Conv2D)          (None, 46, 46, 128)       73856     \n",
      "                                                                 \n",
      " max_pooling2d_22 (MaxPoolin  (None, 23, 23, 128)      0         \n",
      " g2D)                                                            \n",
      "                                                                 \n",
      " conv2d_23 (Conv2D)          (None, 21, 21, 256)       295168    \n",
      "                                                                 \n",
      " max_pooling2d_23 (MaxPoolin  (None, 10, 10, 256)      0         \n",
      " g2D)                                                            \n",
      "                                                                 \n",
      " flatten_5 (Flatten)         (None, 25600)             0         \n",
      "                                                                 \n",
      " dropout_5 (Dropout)         (None, 25600)             0         \n",
      "                                                                 \n",
      " dense_5 (Dense)             (None, 1)                 25601     \n",
      "                                                                 \n",
      "=================================================================\n",
      "Total params: 414,017\n",
      "Trainable params: 414,017\n",
      "Non-trainable params: 0\n",
      "_________________________________________________________________\n",
      "None\n"
     ]
    }
   ],
   "source": [
    "modelo = Sequential()\n",
    "modelo.add(Conv2D(32, kernel_size=3, activation='relu', input_shape=X_train[0].shape))\n",
    "#função de ativação relu é muito utilizado para problemas de regressão\n",
    "modelo.add(MaxPooling2D(pool_size=(2, 2), strides=(2, 2), padding='valid'))\n",
    "modelo.add(Conv2D(64, kernel_size=3, activation='relu'))\n",
    "modelo.add(MaxPooling2D(pool_size=(2, 2), strides=(2, 2), padding='valid'))\n",
    "modelo.add(Conv2D(128, kernel_size=3, activation='relu'))\n",
    "modelo.add(MaxPooling2D(pool_size=(2, 2), strides=(2, 2), padding='valid'))\n",
    "modelo.add(Conv2D(256, kernel_size=3, activation='relu'))\n",
    "modelo.add(MaxPooling2D(pool_size=(2, 2), strides=(2, 2), padding='valid'))\n",
    "modelo.add(Flatten())\n",
    "modelo.add(Dropout(0.9))\n",
    "modelo.add(Dense(1, activation='linear'))\n",
    "#apenas uma saída e de forma linear\n",
    "modelo.compile(optimizer='adam', loss='mse', metrics=['mean_squared_error'])\n",
    "print(modelo.summary())"
   ]
  },
  {
   "cell_type": "markdown",
   "metadata": {
    "cell_id": "00037-2bf0c5ef-7de8-431e-9901-50121ec2aa24",
    "deepnote_cell_type": "text-cell-p",
    "id": "fRxcXjn1QOX8",
    "is_collapsed": false,
    "tags": []
   },
   "source": [
    "Após correr o modelo de Redes Neurais, vamos treina-lo em algumas rodadas e verificar a acurácia."
   ]
  },
  {
   "cell_type": "markdown",
   "metadata": {
    "cell_id": "00038-03075256-1368-40a8-a9e1-89e1b1348e9c",
    "deepnote_cell_type": "text-cell-p",
    "id": "xEHQ1AhKQOX8",
    "is_collapsed": false,
    "tags": []
   },
   "source": [
    "Guardando&nbsp;em&nbsp;uma&nbsp;variável&nbsp;o&nbsp;treinamento&nbsp;do&nbsp;modelo&nbsp;-&nbsp;informando&nbsp;as&nbsp;imagens&nbsp;com&nbsp;as&nbsp;caracteristicas (X_treino) e junto a elas os rótulos, validando com os valores de teste em 10 rodadas"
   ]
  },
  {
   "cell_type": "code",
   "execution_count": null,
   "metadata": {
    "id": "tkMKsvcgwzGz"
   },
   "outputs": [],
   "source": [
    "from tensorflow.keras.callbacks import EarlyStopping\n",
    "from tensorflow.keras.callbacks import ModelCheckpoint"
   ]
  },
  {
   "cell_type": "code",
   "execution_count": null,
   "metadata": {
    "id": "NWM0_8P1wy3r"
   },
   "outputs": [],
   "source": [
    "# simple early stopping\n",
    "es = EarlyStopping(monitor='val_loss', mode='min', verbose=1, patience=18)"
   ]
  },
  {
   "cell_type": "code",
   "execution_count": null,
   "metadata": {
    "colab": {
     "base_uri": "https://localhost:8080/"
    },
    "id": "mNUWfQmVw6f5",
    "outputId": "78a85487-d4bd-4e01-9b12-56c652796106"
   },
   "outputs": [
    {
     "name": "stdout",
     "output_type": "stream",
     "text": [
      "Epoch 1/500\n",
      "6/6 - 1s - loss: 349994.1250 - mean_squared_error: 349994.1250 - val_loss: 66802.1250 - val_mean_squared_error: 66802.1250 - 1s/epoch - 171ms/step\n",
      "Epoch 2/500\n",
      "6/6 - 0s - loss: 73270.3750 - mean_squared_error: 73270.3750 - val_loss: 47794.7734 - val_mean_squared_error: 47794.7734 - 380ms/epoch - 63ms/step\n",
      "Epoch 3/500\n",
      "6/6 - 0s - loss: 57056.9102 - mean_squared_error: 57056.9102 - val_loss: 48031.1797 - val_mean_squared_error: 48031.1797 - 302ms/epoch - 50ms/step\n",
      "Epoch 4/500\n",
      "6/6 - 0s - loss: 58749.9219 - mean_squared_error: 58749.9219 - val_loss: 37655.9609 - val_mean_squared_error: 37655.9609 - 302ms/epoch - 50ms/step\n",
      "Epoch 5/500\n",
      "6/6 - 0s - loss: 60832.6484 - mean_squared_error: 60832.6484 - val_loss: 38630.4570 - val_mean_squared_error: 38630.4570 - 308ms/epoch - 51ms/step\n",
      "Epoch 6/500\n",
      "6/6 - 0s - loss: 59406.4297 - mean_squared_error: 59406.4297 - val_loss: 43625.5664 - val_mean_squared_error: 43625.5664 - 384ms/epoch - 64ms/step\n",
      "Epoch 7/500\n",
      "6/6 - 0s - loss: 53722.2344 - mean_squared_error: 53722.2344 - val_loss: 48273.7109 - val_mean_squared_error: 48273.7109 - 382ms/epoch - 64ms/step\n",
      "Epoch 8/500\n",
      "6/6 - 0s - loss: 58598.1406 - mean_squared_error: 58598.1406 - val_loss: 36081.5781 - val_mean_squared_error: 36081.5781 - 309ms/epoch - 51ms/step\n",
      "Epoch 9/500\n",
      "6/6 - 0s - loss: 49975.6641 - mean_squared_error: 49975.6641 - val_loss: 52627.0781 - val_mean_squared_error: 52627.0781 - 305ms/epoch - 51ms/step\n",
      "Epoch 10/500\n",
      "6/6 - 0s - loss: 70685.6406 - mean_squared_error: 70685.6406 - val_loss: 41407.1641 - val_mean_squared_error: 41407.1641 - 384ms/epoch - 64ms/step\n",
      "Epoch 11/500\n",
      "6/6 - 0s - loss: 48864.5664 - mean_squared_error: 48864.5664 - val_loss: 33515.6836 - val_mean_squared_error: 33515.6836 - 390ms/epoch - 65ms/step\n",
      "Epoch 12/500\n",
      "6/6 - 0s - loss: 44267.6484 - mean_squared_error: 44267.6484 - val_loss: 36530.5078 - val_mean_squared_error: 36530.5078 - 303ms/epoch - 51ms/step\n",
      "Epoch 13/500\n",
      "6/6 - 0s - loss: 47855.0195 - mean_squared_error: 47855.0195 - val_loss: 33987.4492 - val_mean_squared_error: 33987.4492 - 309ms/epoch - 51ms/step\n",
      "Epoch 14/500\n",
      "6/6 - 0s - loss: 48084.2891 - mean_squared_error: 48084.2891 - val_loss: 32567.0840 - val_mean_squared_error: 32567.0840 - 387ms/epoch - 65ms/step\n",
      "Epoch 15/500\n",
      "6/6 - 0s - loss: 45006.7148 - mean_squared_error: 45006.7148 - val_loss: 33851.8438 - val_mean_squared_error: 33851.8438 - 305ms/epoch - 51ms/step\n",
      "Epoch 16/500\n",
      "6/6 - 0s - loss: 42645.0977 - mean_squared_error: 42645.0977 - val_loss: 42723.3711 - val_mean_squared_error: 42723.3711 - 305ms/epoch - 51ms/step\n",
      "Epoch 17/500\n",
      "6/6 - 0s - loss: 54220.4531 - mean_squared_error: 54220.4531 - val_loss: 35731.1445 - val_mean_squared_error: 35731.1445 - 311ms/epoch - 52ms/step\n",
      "Epoch 18/500\n",
      "6/6 - 0s - loss: 51133.5547 - mean_squared_error: 51133.5547 - val_loss: 46575.9180 - val_mean_squared_error: 46575.9180 - 386ms/epoch - 64ms/step\n",
      "Epoch 19/500\n",
      "6/6 - 0s - loss: 50972.8359 - mean_squared_error: 50972.8359 - val_loss: 34995.3594 - val_mean_squared_error: 34995.3594 - 304ms/epoch - 51ms/step\n",
      "Epoch 20/500\n",
      "6/6 - 0s - loss: 49079.4180 - mean_squared_error: 49079.4180 - val_loss: 32521.6738 - val_mean_squared_error: 32521.6738 - 306ms/epoch - 51ms/step\n",
      "Epoch 21/500\n",
      "6/6 - 0s - loss: 49387.8008 - mean_squared_error: 49387.8008 - val_loss: 35186.8672 - val_mean_squared_error: 35186.8672 - 303ms/epoch - 50ms/step\n",
      "Epoch 22/500\n",
      "6/6 - 0s - loss: 62038.2305 - mean_squared_error: 62038.2305 - val_loss: 74656.4922 - val_mean_squared_error: 74656.4922 - 303ms/epoch - 50ms/step\n",
      "Epoch 23/500\n",
      "6/6 - 0s - loss: 69478.7891 - mean_squared_error: 69478.7891 - val_loss: 49099.2734 - val_mean_squared_error: 49099.2734 - 383ms/epoch - 64ms/step\n",
      "Epoch 24/500\n",
      "6/6 - 0s - loss: 52880.8164 - mean_squared_error: 52880.8164 - val_loss: 36628.3516 - val_mean_squared_error: 36628.3516 - 303ms/epoch - 50ms/step\n",
      "Epoch 25/500\n",
      "6/6 - 0s - loss: 46874.9805 - mean_squared_error: 46874.9805 - val_loss: 43767.8516 - val_mean_squared_error: 43767.8516 - 307ms/epoch - 51ms/step\n",
      "Epoch 26/500\n",
      "6/6 - 0s - loss: 62859.8516 - mean_squared_error: 62859.8516 - val_loss: 60348.8086 - val_mean_squared_error: 60348.8086 - 384ms/epoch - 64ms/step\n",
      "Epoch 27/500\n",
      "6/6 - 0s - loss: 68728.8438 - mean_squared_error: 68728.8438 - val_loss: 40370.6680 - val_mean_squared_error: 40370.6680 - 381ms/epoch - 63ms/step\n",
      "Epoch 28/500\n",
      "6/6 - 0s - loss: 52564.0469 - mean_squared_error: 52564.0469 - val_loss: 38056.7188 - val_mean_squared_error: 38056.7188 - 299ms/epoch - 50ms/step\n",
      "Epoch 29/500\n",
      "6/6 - 0s - loss: 63797.6953 - mean_squared_error: 63797.6953 - val_loss: 76271.6172 - val_mean_squared_error: 76271.6172 - 309ms/epoch - 51ms/step\n",
      "Epoch 30/500\n",
      "6/6 - 0s - loss: 65904.6797 - mean_squared_error: 65904.6797 - val_loss: 37927.8672 - val_mean_squared_error: 37927.8672 - 307ms/epoch - 51ms/step\n",
      "Epoch 31/500\n",
      "6/6 - 0s - loss: 46657.0469 - mean_squared_error: 46657.0469 - val_loss: 33628.9336 - val_mean_squared_error: 33628.9336 - 304ms/epoch - 51ms/step\n",
      "Epoch 32/500\n",
      "6/6 - 0s - loss: 45071.9258 - mean_squared_error: 45071.9258 - val_loss: 33176.3906 - val_mean_squared_error: 33176.3906 - 384ms/epoch - 64ms/step\n",
      "Epoch 33/500\n",
      "6/6 - 0s - loss: 45421.2188 - mean_squared_error: 45421.2188 - val_loss: 34443.7109 - val_mean_squared_error: 34443.7109 - 303ms/epoch - 51ms/step\n",
      "Epoch 34/500\n",
      "6/6 - 0s - loss: 44349.3320 - mean_squared_error: 44349.3320 - val_loss: 32499.4238 - val_mean_squared_error: 32499.4238 - 305ms/epoch - 51ms/step\n",
      "Epoch 35/500\n",
      "6/6 - 0s - loss: 44412.5117 - mean_squared_error: 44412.5117 - val_loss: 36066.0820 - val_mean_squared_error: 36066.0820 - 384ms/epoch - 64ms/step\n",
      "Epoch 36/500\n",
      "6/6 - 0s - loss: 47063.6289 - mean_squared_error: 47063.6289 - val_loss: 35936.0742 - val_mean_squared_error: 35936.0742 - 381ms/epoch - 64ms/step\n",
      "Epoch 37/500\n",
      "6/6 - 0s - loss: 47802.8867 - mean_squared_error: 47802.8867 - val_loss: 33647.0664 - val_mean_squared_error: 33647.0664 - 379ms/epoch - 63ms/step\n",
      "Epoch 38/500\n",
      "6/6 - 0s - loss: 48949.1875 - mean_squared_error: 48949.1875 - val_loss: 35009.6055 - val_mean_squared_error: 35009.6055 - 307ms/epoch - 51ms/step\n",
      "Epoch 39/500\n",
      "6/6 - 0s - loss: 46943.7891 - mean_squared_error: 46943.7891 - val_loss: 35541.8711 - val_mean_squared_error: 35541.8711 - 305ms/epoch - 51ms/step\n",
      "Epoch 40/500\n",
      "6/6 - 0s - loss: 42183.3672 - mean_squared_error: 42183.3672 - val_loss: 30837.9883 - val_mean_squared_error: 30837.9883 - 383ms/epoch - 64ms/step\n",
      "Epoch 41/500\n",
      "6/6 - 0s - loss: 41983.9180 - mean_squared_error: 41983.9180 - val_loss: 50723.1484 - val_mean_squared_error: 50723.1445 - 306ms/epoch - 51ms/step\n",
      "Epoch 42/500\n",
      "6/6 - 0s - loss: 52899.4883 - mean_squared_error: 52899.4883 - val_loss: 31422.7715 - val_mean_squared_error: 31422.7715 - 304ms/epoch - 51ms/step\n",
      "Epoch 43/500\n",
      "6/6 - 0s - loss: 42889.4570 - mean_squared_error: 42889.4570 - val_loss: 30581.9180 - val_mean_squared_error: 30581.9180 - 307ms/epoch - 51ms/step\n",
      "Epoch 44/500\n",
      "6/6 - 0s - loss: 40387.5078 - mean_squared_error: 40387.5078 - val_loss: 32343.3613 - val_mean_squared_error: 32343.3613 - 303ms/epoch - 51ms/step\n",
      "Epoch 45/500\n",
      "6/6 - 0s - loss: 44637.0430 - mean_squared_error: 44637.0430 - val_loss: 33251.4102 - val_mean_squared_error: 33251.4102 - 384ms/epoch - 64ms/step\n",
      "Epoch 46/500\n",
      "6/6 - 0s - loss: 40794.8320 - mean_squared_error: 40794.8320 - val_loss: 38726.9648 - val_mean_squared_error: 38726.9648 - 386ms/epoch - 64ms/step\n",
      "Epoch 47/500\n",
      "6/6 - 0s - loss: 44282.7930 - mean_squared_error: 44282.7930 - val_loss: 30293.6816 - val_mean_squared_error: 30293.6816 - 389ms/epoch - 65ms/step\n",
      "Epoch 48/500\n",
      "6/6 - 0s - loss: 39637.5391 - mean_squared_error: 39637.5391 - val_loss: 29890.2031 - val_mean_squared_error: 29890.2031 - 303ms/epoch - 51ms/step\n",
      "Epoch 49/500\n",
      "6/6 - 0s - loss: 40454.9688 - mean_squared_error: 40454.9688 - val_loss: 36215.9922 - val_mean_squared_error: 36215.9922 - 306ms/epoch - 51ms/step\n",
      "Epoch 50/500\n",
      "6/6 - 0s - loss: 46351.1758 - mean_squared_error: 46351.1758 - val_loss: 31231.0527 - val_mean_squared_error: 31231.0527 - 312ms/epoch - 52ms/step\n",
      "Epoch 51/500\n",
      "6/6 - 0s - loss: 47416.0938 - mean_squared_error: 47416.0938 - val_loss: 36652.6523 - val_mean_squared_error: 36652.6523 - 303ms/epoch - 50ms/step\n",
      "Epoch 52/500\n",
      "6/6 - 0s - loss: 60270.5898 - mean_squared_error: 60270.5898 - val_loss: 54625.8711 - val_mean_squared_error: 54625.8711 - 306ms/epoch - 51ms/step\n",
      "Epoch 53/500\n",
      "6/6 - 0s - loss: 79633.3047 - mean_squared_error: 79633.3047 - val_loss: 52262.7266 - val_mean_squared_error: 52262.7266 - 308ms/epoch - 51ms/step\n",
      "Epoch 54/500\n",
      "6/6 - 0s - loss: 44881.0938 - mean_squared_error: 44881.0977 - val_loss: 45902.2656 - val_mean_squared_error: 45902.2656 - 307ms/epoch - 51ms/step\n",
      "Epoch 55/500\n",
      "6/6 - 0s - loss: 51387.6172 - mean_squared_error: 51387.6172 - val_loss: 30895.6602 - val_mean_squared_error: 30895.6602 - 309ms/epoch - 51ms/step\n",
      "Epoch 56/500\n",
      "6/6 - 0s - loss: 42396.4180 - mean_squared_error: 42396.4180 - val_loss: 41397.8906 - val_mean_squared_error: 41397.8906 - 393ms/epoch - 66ms/step\n",
      "Epoch 57/500\n",
      "6/6 - 0s - loss: 48678.1719 - mean_squared_error: 48678.1719 - val_loss: 30650.9004 - val_mean_squared_error: 30650.9004 - 388ms/epoch - 65ms/step\n",
      "Epoch 58/500\n",
      "6/6 - 0s - loss: 41322.2070 - mean_squared_error: 41322.2070 - val_loss: 38943.0234 - val_mean_squared_error: 38943.0234 - 387ms/epoch - 65ms/step\n",
      "Epoch 59/500\n",
      "6/6 - 0s - loss: 49387.0898 - mean_squared_error: 49387.0898 - val_loss: 30139.4434 - val_mean_squared_error: 30139.4434 - 311ms/epoch - 52ms/step\n",
      "Epoch 60/500\n",
      "6/6 - 0s - loss: 57737.7773 - mean_squared_error: 57737.7773 - val_loss: 48890.6094 - val_mean_squared_error: 48890.6094 - 305ms/epoch - 51ms/step\n",
      "Epoch 61/500\n",
      "6/6 - 0s - loss: 47300.5078 - mean_squared_error: 47300.5078 - val_loss: 30848.4824 - val_mean_squared_error: 30848.4824 - 304ms/epoch - 51ms/step\n",
      "Epoch 62/500\n",
      "6/6 - 0s - loss: 41465.4766 - mean_squared_error: 41465.4766 - val_loss: 32486.8750 - val_mean_squared_error: 32486.8750 - 311ms/epoch - 52ms/step\n",
      "Epoch 63/500\n",
      "6/6 - 0s - loss: 44184.5703 - mean_squared_error: 44184.5703 - val_loss: 31123.2480 - val_mean_squared_error: 31123.2480 - 385ms/epoch - 64ms/step\n",
      "Epoch 64/500\n",
      "6/6 - 0s - loss: 42495.0234 - mean_squared_error: 42495.0234 - val_loss: 33143.9570 - val_mean_squared_error: 33143.9570 - 312ms/epoch - 52ms/step\n",
      "Epoch 65/500\n",
      "6/6 - 0s - loss: 49973.0117 - mean_squared_error: 49973.0117 - val_loss: 39910.6484 - val_mean_squared_error: 39910.6484 - 308ms/epoch - 51ms/step\n",
      "Epoch 66/500\n",
      "6/6 - 0s - loss: 43776.3477 - mean_squared_error: 43776.3477 - val_loss: 29670.5840 - val_mean_squared_error: 29670.5840 - 304ms/epoch - 51ms/step\n",
      "Epoch 67/500\n",
      "6/6 - 0s - loss: 41217.1406 - mean_squared_error: 41217.1406 - val_loss: 35317.3867 - val_mean_squared_error: 35317.3867 - 308ms/epoch - 51ms/step\n",
      "Epoch 68/500\n",
      "6/6 - 0s - loss: 39982.0117 - mean_squared_error: 39982.0117 - val_loss: 35820.0703 - val_mean_squared_error: 35820.0703 - 384ms/epoch - 64ms/step\n",
      "Epoch 69/500\n",
      "6/6 - 0s - loss: 57340.4297 - mean_squared_error: 57340.4297 - val_loss: 29117.8223 - val_mean_squared_error: 29117.8223 - 383ms/epoch - 64ms/step\n",
      "Epoch 70/500\n",
      "6/6 - 0s - loss: 42781.4844 - mean_squared_error: 42781.4844 - val_loss: 35969.2812 - val_mean_squared_error: 35969.2812 - 310ms/epoch - 52ms/step\n",
      "Epoch 71/500\n",
      "6/6 - 0s - loss: 46276.4297 - mean_squared_error: 46276.4297 - val_loss: 29067.1973 - val_mean_squared_error: 29067.1973 - 307ms/epoch - 51ms/step\n",
      "Epoch 72/500\n",
      "6/6 - 0s - loss: 43890.4609 - mean_squared_error: 43890.4609 - val_loss: 32322.4043 - val_mean_squared_error: 32322.4043 - 382ms/epoch - 64ms/step\n",
      "Epoch 73/500\n",
      "6/6 - 0s - loss: 41057.4219 - mean_squared_error: 41057.4219 - val_loss: 28577.1406 - val_mean_squared_error: 28577.1406 - 305ms/epoch - 51ms/step\n",
      "Epoch 74/500\n",
      "6/6 - 0s - loss: 39512.7188 - mean_squared_error: 39512.7188 - val_loss: 29665.7676 - val_mean_squared_error: 29665.7676 - 311ms/epoch - 52ms/step\n",
      "Epoch 75/500\n",
      "6/6 - 0s - loss: 41744.0195 - mean_squared_error: 41744.0195 - val_loss: 28725.2988 - val_mean_squared_error: 28725.2988 - 382ms/epoch - 64ms/step\n",
      "Epoch 76/500\n",
      "6/6 - 0s - loss: 38213.4062 - mean_squared_error: 38213.4062 - val_loss: 29140.0898 - val_mean_squared_error: 29140.0898 - 305ms/epoch - 51ms/step\n",
      "Epoch 77/500\n",
      "6/6 - 0s - loss: 36893.3906 - mean_squared_error: 36893.3906 - val_loss: 36593.9688 - val_mean_squared_error: 36593.9688 - 314ms/epoch - 52ms/step\n",
      "Epoch 78/500\n",
      "6/6 - 0s - loss: 49031.0391 - mean_squared_error: 49031.0391 - val_loss: 27417.8828 - val_mean_squared_error: 27417.8828 - 303ms/epoch - 50ms/step\n",
      "Epoch 79/500\n",
      "6/6 - 0s - loss: 45561.6328 - mean_squared_error: 45561.6328 - val_loss: 42771.9922 - val_mean_squared_error: 42771.9961 - 306ms/epoch - 51ms/step\n",
      "Epoch 80/500\n",
      "6/6 - 0s - loss: 54664.2305 - mean_squared_error: 54664.2305 - val_loss: 78673.4922 - val_mean_squared_error: 78673.4922 - 385ms/epoch - 64ms/step\n",
      "Epoch 81/500\n",
      "6/6 - 0s - loss: 62648.2070 - mean_squared_error: 62648.2070 - val_loss: 29991.8535 - val_mean_squared_error: 29991.8535 - 389ms/epoch - 65ms/step\n",
      "Epoch 82/500\n",
      "6/6 - 0s - loss: 41331.2539 - mean_squared_error: 41331.2539 - val_loss: 29863.9609 - val_mean_squared_error: 29863.9609 - 305ms/epoch - 51ms/step\n",
      "Epoch 83/500\n",
      "6/6 - 0s - loss: 40397.4258 - mean_squared_error: 40397.4258 - val_loss: 28925.4531 - val_mean_squared_error: 28925.4531 - 306ms/epoch - 51ms/step\n",
      "Epoch 84/500\n",
      "6/6 - 0s - loss: 40262.4766 - mean_squared_error: 40262.4766 - val_loss: 43524.9570 - val_mean_squared_error: 43524.9570 - 382ms/epoch - 64ms/step\n",
      "Epoch 85/500\n",
      "6/6 - 0s - loss: 43888.3047 - mean_squared_error: 43888.3047 - val_loss: 34328.1523 - val_mean_squared_error: 34328.1523 - 381ms/epoch - 64ms/step\n",
      "Epoch 86/500\n",
      "6/6 - 0s - loss: 45886.0938 - mean_squared_error: 45886.0938 - val_loss: 41580.9883 - val_mean_squared_error: 41580.9883 - 305ms/epoch - 51ms/step\n",
      "Epoch 87/500\n",
      "6/6 - 0s - loss: 54753.5781 - mean_squared_error: 54753.5781 - val_loss: 39168.3594 - val_mean_squared_error: 39168.3594 - 304ms/epoch - 51ms/step\n",
      "Epoch 88/500\n",
      "6/6 - 0s - loss: 46213.0547 - mean_squared_error: 46213.0547 - val_loss: 28445.0234 - val_mean_squared_error: 28445.0234 - 384ms/epoch - 64ms/step\n",
      "Epoch 89/500\n",
      "6/6 - 0s - loss: 34114.3828 - mean_squared_error: 34114.3828 - val_loss: 28277.0703 - val_mean_squared_error: 28277.0703 - 386ms/epoch - 64ms/step\n",
      "Epoch 90/500\n",
      "6/6 - 0s - loss: 34694.8477 - mean_squared_error: 34694.8477 - val_loss: 26983.8613 - val_mean_squared_error: 26983.8613 - 303ms/epoch - 51ms/step\n",
      "Epoch 91/500\n",
      "6/6 - 0s - loss: 35933.0352 - mean_squared_error: 35933.0312 - val_loss: 26818.7344 - val_mean_squared_error: 26818.7344 - 310ms/epoch - 52ms/step\n",
      "Epoch 92/500\n",
      "6/6 - 0s - loss: 32957.9180 - mean_squared_error: 32957.9180 - val_loss: 39819.3711 - val_mean_squared_error: 39819.3711 - 314ms/epoch - 52ms/step\n",
      "Epoch 93/500\n",
      "6/6 - 0s - loss: 35868.3750 - mean_squared_error: 35868.3750 - val_loss: 30793.7070 - val_mean_squared_error: 30793.7070 - 305ms/epoch - 51ms/step\n",
      "Epoch 94/500\n",
      "6/6 - 0s - loss: 35751.3945 - mean_squared_error: 35751.3945 - val_loss: 26179.1250 - val_mean_squared_error: 26179.1250 - 305ms/epoch - 51ms/step\n",
      "Epoch 95/500\n",
      "6/6 - 0s - loss: 30802.6094 - mean_squared_error: 30802.6094 - val_loss: 27971.7832 - val_mean_squared_error: 27971.7832 - 383ms/epoch - 64ms/step\n",
      "Epoch 96/500\n",
      "6/6 - 0s - loss: 36437.9414 - mean_squared_error: 36437.9414 - val_loss: 49645.9141 - val_mean_squared_error: 49645.9141 - 382ms/epoch - 64ms/step\n",
      "Epoch 97/500\n",
      "6/6 - 0s - loss: 39576.1641 - mean_squared_error: 39576.1641 - val_loss: 25542.0020 - val_mean_squared_error: 25542.0020 - 386ms/epoch - 64ms/step\n",
      "Epoch 98/500\n",
      "6/6 - 0s - loss: 34025.5430 - mean_squared_error: 34025.5430 - val_loss: 38662.2773 - val_mean_squared_error: 38662.2773 - 306ms/epoch - 51ms/step\n",
      "Epoch 99/500\n",
      "6/6 - 0s - loss: 36300.0312 - mean_squared_error: 36300.0312 - val_loss: 44655.6680 - val_mean_squared_error: 44655.6680 - 383ms/epoch - 64ms/step\n",
      "Epoch 100/500\n",
      "6/6 - 0s - loss: 43750.9766 - mean_squared_error: 43750.9766 - val_loss: 27772.1582 - val_mean_squared_error: 27772.1582 - 380ms/epoch - 63ms/step\n",
      "Epoch 101/500\n",
      "6/6 - 0s - loss: 32501.0352 - mean_squared_error: 32501.0352 - val_loss: 28880.3789 - val_mean_squared_error: 28880.3789 - 382ms/epoch - 64ms/step\n",
      "Epoch 102/500\n",
      "6/6 - 0s - loss: 36027.1875 - mean_squared_error: 36027.1875 - val_loss: 28921.4102 - val_mean_squared_error: 28921.4102 - 304ms/epoch - 51ms/step\n",
      "Epoch 103/500\n",
      "6/6 - 0s - loss: 30900.5801 - mean_squared_error: 30900.5801 - val_loss: 31334.2637 - val_mean_squared_error: 31334.2637 - 304ms/epoch - 51ms/step\n",
      "Epoch 104/500\n",
      "6/6 - 0s - loss: 34596.8320 - mean_squared_error: 34596.8320 - val_loss: 44098.9922 - val_mean_squared_error: 44098.9922 - 309ms/epoch - 52ms/step\n",
      "Epoch 105/500\n",
      "6/6 - 0s - loss: 44242.4570 - mean_squared_error: 44242.4570 - val_loss: 52662.9375 - val_mean_squared_error: 52662.9375 - 384ms/epoch - 64ms/step\n",
      "Epoch 106/500\n",
      "6/6 - 0s - loss: 62661.9062 - mean_squared_error: 62661.9062 - val_loss: 37540.8945 - val_mean_squared_error: 37540.8945 - 302ms/epoch - 50ms/step\n",
      "Epoch 107/500\n",
      "6/6 - 0s - loss: 47970.5820 - mean_squared_error: 47970.5820 - val_loss: 46628.0508 - val_mean_squared_error: 46628.0508 - 306ms/epoch - 51ms/step\n",
      "Epoch 108/500\n",
      "6/6 - 0s - loss: 45941.4688 - mean_squared_error: 45941.4688 - val_loss: 37905.2734 - val_mean_squared_error: 37905.2734 - 383ms/epoch - 64ms/step\n",
      "Epoch 109/500\n",
      "6/6 - 0s - loss: 34593.2891 - mean_squared_error: 34593.2891 - val_loss: 26982.5684 - val_mean_squared_error: 26982.5684 - 382ms/epoch - 64ms/step\n",
      "Epoch 110/500\n",
      "6/6 - 0s - loss: 33139.7227 - mean_squared_error: 33139.7227 - val_loss: 29310.4629 - val_mean_squared_error: 29310.4629 - 381ms/epoch - 63ms/step\n",
      "Epoch 111/500\n",
      "6/6 - 0s - loss: 32189.4492 - mean_squared_error: 32189.4492 - val_loss: 27220.8418 - val_mean_squared_error: 27220.8418 - 303ms/epoch - 50ms/step\n",
      "Epoch 112/500\n",
      "6/6 - 0s - loss: 33423.9102 - mean_squared_error: 33423.9102 - val_loss: 31129.3516 - val_mean_squared_error: 31129.3516 - 302ms/epoch - 50ms/step\n",
      "Epoch 113/500\n",
      "6/6 - 0s - loss: 40344.2383 - mean_squared_error: 40344.2383 - val_loss: 37829.5352 - val_mean_squared_error: 37829.5352 - 303ms/epoch - 50ms/step\n",
      "Epoch 114/500\n",
      "6/6 - 0s - loss: 41890.2617 - mean_squared_error: 41890.2617 - val_loss: 39837.5273 - val_mean_squared_error: 39837.5273 - 309ms/epoch - 52ms/step\n",
      "Epoch 115/500\n",
      "6/6 - 0s - loss: 41235.4922 - mean_squared_error: 41235.4922 - val_loss: 32017.5527 - val_mean_squared_error: 32017.5527 - 380ms/epoch - 63ms/step\n",
      "Epoch 115: early stopping\n"
     ]
    }
   ],
   "source": [
    "# fit model\n",
    "history = modelo.fit(X_train,y_train,\n",
    "                    validation_data=(X_test, y_test), \n",
    "                    epochs=500, verbose=2, \n",
    "                    callbacks=[es]\n",
    "                     )"
   ]
  },
  {
   "cell_type": "code",
   "execution_count": null,
   "metadata": {
    "cell_id": "00039-c9f36df9-7a64-4024-a903-e04aa3cdba53",
    "deepnote_cell_type": "code",
    "deepnote_to_be_reexecuted": false,
    "execution_millis": 1414850,
    "execution_start": 1633366155490,
    "id": "77Eu0KQqQOX8",
    "source_hash": "b6e72463",
    "tags": []
   },
   "outputs": [],
   "source": [
    "# #rodadas de treinamento\n",
    "# history = modelo.fit(\n",
    "#                         X_train,\n",
    "#                         y_train,\n",
    "#                         validation_data=(X_test, y_test),\n",
    "#                         epochs=50,\n",
    "#                         batch_size=12\n",
    "#                     )"
   ]
  },
  {
   "cell_type": "code",
   "execution_count": null,
   "metadata": {
    "id": "iDnNyJboSqkM"
   },
   "outputs": [],
   "source": [
    "# #salvando o modelo\n",
    "#modelo.save('./../../results/model__A549_regressao_MAIOR_ERRO_18_PACIEN_500_'+data+'.h5')"
   ]
  },
  {
   "cell_type": "markdown",
   "metadata": {
    "cell_id": "00040-4b571408-a790-4e76-99df-23a92c28cd25",
    "deepnote_cell_type": "text-cell-h2",
    "id": "0-23WU5mQOX8",
    "is_collapsed": false,
    "tags": []
   },
   "source": [
    "## Avaliação da Acurácia"
   ]
  },
  {
   "cell_type": "markdown",
   "metadata": {
    "cell_id": "00041-34c3ccbe-3463-495e-83f9-3443d7ca0445",
    "deepnote_cell_type": "text-cell-p",
    "id": "WeTySdEtQOX9",
    "is_collapsed": false,
    "tags": []
   },
   "source": [
    "Existem algumas maneiras de se avaliar a acurácia dos algoritmos, para algoritmo de regressão, as métricas mais comuns são Erro médio absoluto (MSE) não se baseia na média a partir de valores discrepantes. Erro Médio quadrático (MAE) considera os valores discrepantes entre as variáveis, apontando maior erro."
   ]
  },
  {
   "cell_type": "markdown",
   "metadata": {
    "cell_id": "00029-2d1013c4-61e6-42f9-ab51-b66729f54b1e",
    "deepnote_cell_type": "text-cell-p",
    "id": "7zMGCdSwQOX9",
    "is_collapsed": false,
    "tags": []
   },
   "source": [
    "O algoritmo avalia o valor previsto e subtraí pelo valor conhecido, depois é calculado a média entre cada valor."
   ]
  },
  {
   "cell_type": "code",
   "execution_count": null,
   "metadata": {
    "cell_id": "00046-4282754c-259e-493a-91af-ac3d19c2da8a",
    "deepnote_cell_type": "code",
    "deepnote_to_be_reexecuted": false,
    "execution_millis": 0,
    "execution_start": 1633367586426,
    "id": "GcWJNF2BQOX9",
    "source_hash": "c5059107",
    "tags": []
   },
   "outputs": [],
   "source": [
    "# #salvando o modelo\n",
    "# data = timeProcess()[1]\n",
    "# modelo.save('arquivos_text_modelo_imagens//model_camp_claro_A549_regressao'+data+'.h5')"
   ]
  },
  {
   "cell_type": "code",
   "execution_count": null,
   "metadata": {
    "cell_id": "00028-91ae04ee-eb68-410d-9d0c-a503131c11d3",
    "colab": {
     "base_uri": "https://localhost:8080/",
     "height": 295
    },
    "deepnote_cell_type": "code",
    "deepnote_output_heights": [
     280
    ],
    "deepnote_to_be_reexecuted": false,
    "execution_millis": 208,
    "execution_start": 1633367587203,
    "id": "E6JZI45oQOX9",
    "outputId": "abfe7021-135d-4e5c-ae10-d324ffa89a33",
    "source_hash": "b96ca127",
    "tags": []
   },
   "outputs": [
    {
     "data": {
      "image/png": "[encoded data removed]",
      "text/plain": [
       "<Figure size 432x288 with 1 Axes>"
      ]
     },
     "metadata": {
      "needs_background": "light"
     },
     "output_type": "display_data"
    }
   ],
   "source": [
    "#gráfico avaliando a acurácia a partir de treino e teste\n",
    "plt.plot(history.history['mean_squared_error'])\n",
    "plt.plot(history.history['val_mean_squared_error'])\n",
    "plt.title('Accuracy Metric')\n",
    "plt.ylabel('MSE')\n",
    "plt.xlabel('Epochs')\n",
    "plt.legend(['train', 'test'], loc='upper left')\n",
    "plt.show()\n",
    "\n",
    "plt.savefig(\n",
    "    fname=\"/results/CNN_A549_Greatest_error.png\", #pasta e nome do arquivo onde vai ser salvo\n",
    "    bbox_inches='tight', #função que deixa o gráfico mais próxima da margem\n",
    "    dpi=150, #numero de pixels da imagem?\n",
    "    transparent=True #deixar o gráfico transparente\n",
    ")"
   ]
  },
  {
   "cell_type": "code",
   "execution_count": null,
   "metadata": {
    "cell_id": "00029-fcafda94-1f62-4b1d-99f9-8e40571aa205",
    "colab": {
     "base_uri": "https://localhost:8080/",
     "height": 265
    },
    "deepnote_cell_type": "code",
    "deepnote_output_heights": [
     250
    ],
    "deepnote_to_be_reexecuted": false,
    "execution_millis": 5295,
    "execution_start": 1633367597958,
    "id": "90YJbXnzQOX9",
    "outputId": "895a2110-40f7-4460-b8e1-6189ffd666b4",
    "source_hash": "96e272ff",
    "tags": []
   },
   "outputs": [
    {
     "data": {
      "image/png": "[encoded data removed]",
      "text/plain": [
       "<Figure size 432x288 with 1 Axes>"
      ]
     },
     "metadata": {
      "needs_background": "light"
     },
     "output_type": "display_data"
    }
   ],
   "source": [
    "#avaliando a previsão do modelo com os rótulos\n",
    "prev = modelo.predict(X_test)\n",
    "plt.plot(prev)\n",
    "plt.plot(y_test)\n",
    "plt.show()"
   ]
  },
  {
   "cell_type": "code",
   "execution_count": null,
   "metadata": {
    "cell_id": "00033-3b921652-22b5-46af-af23-62828b82b8a7",
    "deepnote_cell_type": "code",
    "deepnote_to_be_reexecuted": true,
    "execution_millis": 2,
    "execution_start": 1633026300082,
    "id": "2pOmKK63QOX-",
    "source_hash": "b623e53d",
    "tags": []
   },
   "outputs": [],
   "source": []
  },
  {
   "cell_type": "code",
   "execution_count": null,
   "metadata": {
    "cell_id": "00029-d40ab35b-5c84-4bf2-aaee-8420ac763fd8",
    "deepnote_cell_type": "code",
    "deepnote_to_be_reexecuted": false,
    "execution_millis": 0,
    "execution_start": 1633367609115,
    "id": "lfK1ngGDQOX-",
    "source_hash": "3b8f2163",
    "tags": []
   },
   "outputs": [],
   "source": [
    "# Qualit model analisys\n",
    "from sklearn.metrics import r2_score,mean_absolute_error, mean_squared_error, mean_squared_log_error, median_absolute_error"
   ]
  },
  {
   "cell_type": "code",
   "execution_count": null,
   "metadata": {
    "cell_id": "00047-d1f881d6-14d2-4951-97bc-8bb45c6a2252",
    "colab": {
     "base_uri": "https://localhost:8080/"
    },
    "deepnote_cell_type": "code",
    "deepnote_to_be_reexecuted": false,
    "execution_millis": 17,
    "execution_start": 1633367613280,
    "id": "NkauiqfgQOX-",
    "outputId": "b5db47d9-b6f3-42e4-9e56-b90ed452cf12",
    "source_hash": "7d8190e2",
    "tags": []
   },
   "outputs": [
    {
     "name": "stdout",
     "output_type": "stream",
     "text": [
      "-103.11% r2_score\n",
      "148.86 Erro médio absoluto\n",
      "32017.55 Erro médio quadrático\n"
     ]
    }
   ],
   "source": [
    "#buscando pelas métricas\n",
    "print(f\"{round(r2_score(y_test, prev) * 100, 2)}% r2_score\") #raíz quadrada\n",
    "print(f\"{round(mean_absolute_error(y_test, prev), 2)} Erro médio absoluto\") \n",
    "print(f\"{round(mean_squared_error(y_test, prev), 2)} Erro médio quadrático\")\n",
    "# print(f\"{round(median_absolute_error(y_test, prev), 2)}\")#Erro médio absoluto sem %\n",
    "\n"
   ]
  },
  {
   "cell_type": "code",
   "execution_count": null,
   "metadata": {
    "cell_id": "00035-9ffbd557-0627-4061-9b97-3b163a330706",
    "deepnote_cell_type": "code",
    "deepnote_output_heights": [
     20.65625
    ],
    "deepnote_to_be_reexecuted": false,
    "execution_millis": 12,
    "execution_start": 1633367620410,
    "id": "9o-b29iRQOX-",
    "outputId": "0b83dfed-c1aa-4a15-94b0-71ea11e43824",
    "source_hash": "bec942ae",
    "tags": []
   },
   "outputs": [
    {
     "data": {
      "text/plain": [
       "193.85687255859375"
      ]
     },
     "execution_count": 19,
     "metadata": {},
     "output_type": "execute_result"
    }
   ],
   "source": [
    "mean_absolute_error(y_test, prev)"
   ]
  },
  {
   "cell_type": "code",
   "execution_count": null,
   "metadata": {
    "cell_id": "00035-bac3899c-a659-4a73-8893-610cebe6993e",
    "deepnote_cell_type": "code",
    "deepnote_to_be_reexecuted": false,
    "execution_millis": 13,
    "execution_start": 1633367651861,
    "id": "vrgZmZhbQOX-",
    "outputId": "c735d3e6-1bd1-477a-8f8d-052dab81638c",
    "source_hash": "89dfb76d",
    "tags": []
   },
   "outputs": [
    {
     "name": "stdout",
     "output_type": "stream",
     "text": [
      "193.86\n"
     ]
    }
   ],
   "source": [
    "print(f\"{round(mean_absolute_error(y_test, prev), 2)}\") #erro médio absoluto\n"
   ]
  },
  {
   "cell_type": "code",
   "execution_count": null,
   "metadata": {
    "cell_id": "00036-7ae14acb-8833-4e34-b97f-a455be5b70d5",
    "deepnote_cell_type": "code",
    "deepnote_to_be_reexecuted": false,
    "execution_millis": 8,
    "execution_start": 1633367662832,
    "id": "Knnjjym0QOX_",
    "outputId": "8a8e5868-0c92-4531-de27-03f6668f1395",
    "source_hash": "874d8777",
    "tags": []
   },
   "outputs": [
    {
     "name": "stdout",
     "output_type": "stream",
     "text": [
      "0.06\n"
     ]
    }
   ],
   "source": [
    "print(f\"{round(mean_squared_log_error(y_test, prev), 2)}\") #erro médio quadrático\n"
   ]
  }
 ],
 "metadata": {
  "accelerator": "GPU",
  "colab": {
   "collapsed_sections": [
    "ncIHyyLiQOX_"
   ],
   "name": "CNN_MSE_A549_Greatest_error.ipynb",
   "provenance": []
  },
  "deepnote": {
   "is_reactive": false
  },
  "deepnote_execution_queue": [],
  "deepnote_notebook_id": "584901cd-d49a-4b58-a71a-e5a8d1bde069",
  "gpuClass": "standard",
  "kernelspec": {
   "display_name": "Python 3 (ipykernel)",
   "language": "python",
   "name": "python3"
  },
  "language_info": {
   "codemirror_mode": {
    "name": "ipython",
    "version": 3
   },
   "file_extension": ".py",
   "mimetype": "text/x-python",
   "name": "python",
   "nbconvert_exporter": "python",
   "pygments_lexer": "ipython3",
   "version": "3.7.9"
  }
 },
 "nbformat": 4,
 "nbformat_minor": 4
}
