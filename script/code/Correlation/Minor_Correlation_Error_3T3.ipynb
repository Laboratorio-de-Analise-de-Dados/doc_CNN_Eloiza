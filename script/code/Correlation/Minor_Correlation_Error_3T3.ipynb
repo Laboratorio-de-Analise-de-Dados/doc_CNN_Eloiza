{
  "nbformat": 4,
  "nbformat_minor": 0,
  "metadata": {
    "colab": {
      "name": "Minor_Correlation_Error_3T3.ipynb",
      "provenance": [],
      "mount_file_id": "1W8ezvqUxee8rFynnntPZ_XQffO8ApXGs",
      "authorship_tag": "ABX9TyO4vzfKtD7fyhWmw3hXVHDd"
    },
    "kernelspec": {
      "name": "python3",
      "display_name": "Python 3"
    },
    "language_info": {
      "name": "python"
    }
  },
  "cells": [
    {
      "cell_type": "markdown",
      "source": [
        "### Organization of libraries\n"
      ],
      "metadata": {
        "id": "di0w2jhRk6Kt"
      }
    },
    {
      "cell_type": "code",
      "source": [
        "#organização dos arquivos\n",
        "import os\n",
        "#salvar/carregar arquivos em diferentes formatos\n",
        "import joblib\n",
        "#gerar gráfico\n",
        "import matplotlib\n",
        "#estruturação dos dados\n",
        "import numpy as np\n",
        "#gerar gráfico\n",
        "import seaborn as sns\n",
        "#gerar gráfico\n",
        "import matplotlib.pyplot as plt\n",
        "#gerar imagem\n",
        "import matplotlib.image as mpimg\n"
      ],
      "metadata": {
        "id": "uwFVyuaJlDF0"
      },
      "execution_count": null,
      "outputs": []
    },
    {
      "cell_type": "code",
      "execution_count": null,
      "metadata": {
        "id": "9i3PsI8Dfs_P"
      },
      "outputs": [],
      "source": [
        "# pip install util-gfsilveira"
      ]
    },
    {
      "cell_type": "code",
      "source": [
        "#Biblioteca para carregar o modelo de regressão\n",
        "from keras.models import load_model"
      ],
      "metadata": {
        "id": "pwBj_mITlM9j"
      },
      "execution_count": null,
      "outputs": []
    },
    {
      "cell_type": "markdown",
      "source": [
        "### Modelo de regressão 3T3"
      ],
      "metadata": {
        "id": "PrBpQF1xlPOZ"
      }
    },
    {
      "cell_type": "code",
      "source": [
        "#Importando o modelo contendo os valores previstos para o número de células nas imagens\n",
        "modelo_3t3_menor_erro = load_model('/content/drive/MyDrive/1_Informações_scripts/model__3T3_regressao_menor_erro_Mean_squared_error_200_epochs_2022-6-30.h5')\n",
        "modelo_3t3_menor_erro"
      ],
      "metadata": {
        "colab": {
          "base_uri": "https://localhost:8080/"
        },
        "id": "-nYLkV1GlTwH",
        "outputId": "da29383a-5415-4add-e68a-86e8ee60982a"
      },
      "execution_count": null,
      "outputs": [
        {
          "output_type": "execute_result",
          "data": {
            "text/plain": [
              "<keras.engine.sequential.Sequential at 0x7f5dde7b0bd0>"
            ]
          },
          "metadata": {},
          "execution_count": 17
        }
      ]
    },
    {
      "cell_type": "markdown",
      "source": [
        "### Data needed to get X_test"
      ],
      "metadata": {
        "id": "KTmYoLtslmil"
      }
    },
    {
      "cell_type": "code",
      "source": [
        "#Importando as imagens que foram salvas para treinar e testar o modelo\n",
        "X_test_menor_erro = joblib.load('/content/drive/MyDrive/1_Informações_scripts/6_images_de_X_test_3T3_melhor_modelo_200_epochs_2022-6-30.gz') #carregando arquivo\n",
        "X_test_menor_erro.shape "
      ],
      "metadata": {
        "id": "OQpkxfOjlteJ",
        "colab": {
          "base_uri": "https://localhost:8080/"
        },
        "outputId": "9e5d2227-4316-4f94-cf78-eb5ddbef7486"
      },
      "execution_count": null,
      "outputs": [
        {
          "output_type": "execute_result",
          "data": {
            "text/plain": [
              "(250, 200, 200, 3)"
            ]
          },
          "metadata": {},
          "execution_count": 19
        }
      ]
    },
    {
      "cell_type": "code",
      "source": [
        "#Importando os rótulos de cada imagem - número de células para cada imagem\n",
        "y_test_menor_erro = joblib.load('/content/drive/MyDrive/1_Informações_scripts/6_images_de_y_test_3T3_melhor_model_200_epochs_2022-6-30.gz')\n",
        "y_test_menor_erro.shape"
      ],
      "metadata": {
        "colab": {
          "base_uri": "https://localhost:8080/"
        },
        "id": "ydl_ROn_l801",
        "outputId": "587a37f1-ea2c-4e99-f2b9-efa61c436e43"
      },
      "execution_count": null,
      "outputs": [
        {
          "output_type": "execute_result",
          "data": {
            "text/plain": [
              "(250,)"
            ]
          },
          "metadata": {},
          "execution_count": 20
        }
      ]
    },
    {
      "cell_type": "markdown",
      "source": [
        "### Getting X_test values to build predicted data list"
      ],
      "metadata": {
        "id": "drCeO8cgmO-n"
      }
    },
    {
      "cell_type": "code",
      "source": [
        "#Usando método predict para obter os valores dos dados previstos\n",
        "dados_prev = modelo_3t3_menor_erro.predict(X_test_menor_erro)\n",
        "lista_previsto_menor_erro = dados_prev.flatten().tolist() #Organizando os dados em formato de lista - tolist/e os dados de array em uma ÚNICA lista-flatten\n",
        "#lista_previsto"
      ],
      "metadata": {
        "id": "RDYmTnTWmQVW"
      },
      "execution_count": null,
      "outputs": []
    },
    {
      "cell_type": "markdown",
      "source": [
        "### Observed data values"
      ],
      "metadata": {
        "id": "GDJzGzgLmfu-"
      }
    },
    {
      "cell_type": "code",
      "source": [
        "lista_observado_menor_erro = list(y_test_menor_erro)\n",
        "#lista_observado"
      ],
      "metadata": {
        "id": "M1dZTK1TmTzN"
      },
      "execution_count": null,
      "outputs": []
    },
    {
      "cell_type": "code",
      "source": [
        "#importando pandas para organizar as listas\n",
        "import pandas as pd\n",
        "#importando a biblioteca para gerar a correlação\n",
        "from scipy.stats.stats import pearsonr as stats\n"
      ],
      "metadata": {
        "id": "RvK9GubxmlFu"
      },
      "execution_count": null,
      "outputs": []
    },
    {
      "cell_type": "markdown",
      "source": [
        "Creating the dataframe to organize the lists of values"
      ],
      "metadata": {
        "id": "Vc78B92kmtNQ"
      }
    },
    {
      "cell_type": "code",
      "source": [
        "df = pd.DataFrame(zip(lista_observado_menor_erro,lista_previsto_menor_erro), columns = ['Observed values','Lista preditos'])\n",
        "df.head()"
      ],
      "metadata": {
        "colab": {
          "base_uri": "https://localhost:8080/",
          "height": 206
        },
        "id": "wNuMl5_1muKy",
        "outputId": "bca60425-0fa0-4057-c071-2ae1b84a26af"
      },
      "execution_count": null,
      "outputs": [
        {
          "output_type": "execute_result",
          "data": {
            "text/plain": [
              "   Observed values  Lista preditos\n",
              "0              574      227.828537\n",
              "1              377      233.354446\n",
              "2              532      228.922470\n",
              "3              377      235.543533\n",
              "4              765      223.365738"
            ],
            "text/html": [
              "\n",
              "  <div id=\"df-0c11f70b-d859-4bb1-b527-560659775e14\">\n",
              "    <div class=\"colab-df-container\">\n",
              "      <div>\n",
              "<style scoped>\n",
              "    .dataframe tbody tr th:only-of-type {\n",
              "        vertical-align: middle;\n",
              "    }\n",
              "\n",
              "    .dataframe tbody tr th {\n",
              "        vertical-align: top;\n",
              "    }\n",
              "\n",
              "    .dataframe thead th {\n",
              "        text-align: right;\n",
              "    }\n",
              "</style>\n",
              "<table border=\"1\" class=\"dataframe\">\n",
              "  <thead>\n",
              "    <tr style=\"text-align: right;\">\n",
              "      <th></th>\n",
              "      <th>Observed values</th>\n",
              "      <th>Lista preditos</th>\n",
              "    </tr>\n",
              "  </thead>\n",
              "  <tbody>\n",
              "    <tr>\n",
              "      <th>0</th>\n",
              "      <td>574</td>\n",
              "      <td>227.828537</td>\n",
              "    </tr>\n",
              "    <tr>\n",
              "      <th>1</th>\n",
              "      <td>377</td>\n",
              "      <td>233.354446</td>\n",
              "    </tr>\n",
              "    <tr>\n",
              "      <th>2</th>\n",
              "      <td>532</td>\n",
              "      <td>228.922470</td>\n",
              "    </tr>\n",
              "    <tr>\n",
              "      <th>3</th>\n",
              "      <td>377</td>\n",
              "      <td>235.543533</td>\n",
              "    </tr>\n",
              "    <tr>\n",
              "      <th>4</th>\n",
              "      <td>765</td>\n",
              "      <td>223.365738</td>\n",
              "    </tr>\n",
              "  </tbody>\n",
              "</table>\n",
              "</div>\n",
              "      <button class=\"colab-df-convert\" onclick=\"convertToInteractive('df-0c11f70b-d859-4bb1-b527-560659775e14')\"\n",
              "              title=\"Convert this dataframe to an interactive table.\"\n",
              "              style=\"display:none;\">\n",
              "        \n",
              "  <svg xmlns=\"http://www.w3.org/2000/svg\" height=\"24px\"viewBox=\"0 0 24 24\"\n",
              "       width=\"24px\">\n",
              "    <path d=\"M0 0h24v24H0V0z\" fill=\"none\"/>\n",
              "    <path d=\"M18.56 5.44l.94 2.06.94-2.06 2.06-.94-2.06-.94-.94-2.06-.94 2.06-2.06.94zm-11 1L8.5 8.5l.94-2.06 2.06-.94-2.06-.94L8.5 2.5l-.94 2.06-2.06.94zm10 10l.94 2.06.94-2.06 2.06-.94-2.06-.94-.94-2.06-.94 2.06-2.06.94z\"/><path d=\"M17.41 7.96l-1.37-1.37c-.4-.4-.92-.59-1.43-.59-.52 0-1.04.2-1.43.59L10.3 9.45l-7.72 7.72c-.78.78-.78 2.05 0 2.83L4 21.41c.39.39.9.59 1.41.59.51 0 1.02-.2 1.41-.59l7.78-7.78 2.81-2.81c.8-.78.8-2.07 0-2.86zM5.41 20L4 18.59l7.72-7.72 1.47 1.35L5.41 20z\"/>\n",
              "  </svg>\n",
              "      </button>\n",
              "      \n",
              "  <style>\n",
              "    .colab-df-container {\n",
              "      display:flex;\n",
              "      flex-wrap:wrap;\n",
              "      gap: 12px;\n",
              "    }\n",
              "\n",
              "    .colab-df-convert {\n",
              "      background-color: #E8F0FE;\n",
              "      border: none;\n",
              "      border-radius: 50%;\n",
              "      cursor: pointer;\n",
              "      display: none;\n",
              "      fill: #1967D2;\n",
              "      height: 32px;\n",
              "      padding: 0 0 0 0;\n",
              "      width: 32px;\n",
              "    }\n",
              "\n",
              "    .colab-df-convert:hover {\n",
              "      background-color: #E2EBFA;\n",
              "      box-shadow: 0px 1px 2px rgba(60, 64, 67, 0.3), 0px 1px 3px 1px rgba(60, 64, 67, 0.15);\n",
              "      fill: #174EA6;\n",
              "    }\n",
              "\n",
              "    [theme=dark] .colab-df-convert {\n",
              "      background-color: #3B4455;\n",
              "      fill: #D2E3FC;\n",
              "    }\n",
              "\n",
              "    [theme=dark] .colab-df-convert:hover {\n",
              "      background-color: #434B5C;\n",
              "      box-shadow: 0px 1px 3px 1px rgba(0, 0, 0, 0.15);\n",
              "      filter: drop-shadow(0px 1px 2px rgba(0, 0, 0, 0.3));\n",
              "      fill: #FFFFFF;\n",
              "    }\n",
              "  </style>\n",
              "\n",
              "      <script>\n",
              "        const buttonEl =\n",
              "          document.querySelector('#df-0c11f70b-d859-4bb1-b527-560659775e14 button.colab-df-convert');\n",
              "        buttonEl.style.display =\n",
              "          google.colab.kernel.accessAllowed ? 'block' : 'none';\n",
              "\n",
              "        async function convertToInteractive(key) {\n",
              "          const element = document.querySelector('#df-0c11f70b-d859-4bb1-b527-560659775e14');\n",
              "          const dataTable =\n",
              "            await google.colab.kernel.invokeFunction('convertToInteractive',\n",
              "                                                     [key], {});\n",
              "          if (!dataTable) return;\n",
              "\n",
              "          const docLinkHtml = 'Like what you see? Visit the ' +\n",
              "            '<a target=\"_blank\" href=https://colab.research.google.com/notebooks/data_table.ipynb>data table notebook</a>'\n",
              "            + ' to learn more about interactive tables.';\n",
              "          element.innerHTML = '';\n",
              "          dataTable['output_type'] = 'display_data';\n",
              "          await google.colab.output.renderOutput(dataTable, element);\n",
              "          const docLink = document.createElement('div');\n",
              "          docLink.innerHTML = docLinkHtml;\n",
              "          element.appendChild(docLink);\n",
              "        }\n",
              "      </script>\n",
              "    </div>\n",
              "  </div>\n",
              "  "
            ]
          },
          "metadata": {},
          "execution_count": 24
        }
      ]
    },
    {
      "cell_type": "code",
      "source": [
        "#arredondando os dados previstos\n",
        "dado_arre = round(df['Lista preditos'],2)\n",
        "df['Predicted values'] = dado_arre\n",
        "# df"
      ],
      "metadata": {
        "id": "K6usXIz-my5n"
      },
      "execution_count": null,
      "outputs": []
    },
    {
      "cell_type": "code",
      "source": [
        "#invertendo a ordem das colunas\n",
        "df = df.reindex(columns=['Observed values','Predicted values','Lista preditos'])\n",
        "df"
      ],
      "metadata": {
        "colab": {
          "base_uri": "https://localhost:8080/",
          "height": 424
        },
        "id": "gmut4Wjsm4vG",
        "outputId": "d1427442-1130-472f-bd5a-648a3fc3d03a"
      },
      "execution_count": null,
      "outputs": [
        {
          "output_type": "execute_result",
          "data": {
            "text/plain": [
              "     Observed values  Predicted values  Lista preditos\n",
              "0                574            227.83      227.828537\n",
              "1                377            233.35      233.354446\n",
              "2                532            228.92      228.922470\n",
              "3                377            235.54      235.543533\n",
              "4                765            223.37      223.365738\n",
              "..               ...               ...             ...\n",
              "245               56            205.91      205.914612\n",
              "246              147            208.90      208.895493\n",
              "247              610            223.06      223.061844\n",
              "248              195            210.51      210.513870\n",
              "249              164            222.53      222.529099\n",
              "\n",
              "[250 rows x 3 columns]"
            ],
            "text/html": [
              "\n",
              "  <div id=\"df-6fe40309-8a82-489e-aa9d-1229897ed22d\">\n",
              "    <div class=\"colab-df-container\">\n",
              "      <div>\n",
              "<style scoped>\n",
              "    .dataframe tbody tr th:only-of-type {\n",
              "        vertical-align: middle;\n",
              "    }\n",
              "\n",
              "    .dataframe tbody tr th {\n",
              "        vertical-align: top;\n",
              "    }\n",
              "\n",
              "    .dataframe thead th {\n",
              "        text-align: right;\n",
              "    }\n",
              "</style>\n",
              "<table border=\"1\" class=\"dataframe\">\n",
              "  <thead>\n",
              "    <tr style=\"text-align: right;\">\n",
              "      <th></th>\n",
              "      <th>Observed values</th>\n",
              "      <th>Predicted values</th>\n",
              "      <th>Lista preditos</th>\n",
              "    </tr>\n",
              "  </thead>\n",
              "  <tbody>\n",
              "    <tr>\n",
              "      <th>0</th>\n",
              "      <td>574</td>\n",
              "      <td>227.83</td>\n",
              "      <td>227.828537</td>\n",
              "    </tr>\n",
              "    <tr>\n",
              "      <th>1</th>\n",
              "      <td>377</td>\n",
              "      <td>233.35</td>\n",
              "      <td>233.354446</td>\n",
              "    </tr>\n",
              "    <tr>\n",
              "      <th>2</th>\n",
              "      <td>532</td>\n",
              "      <td>228.92</td>\n",
              "      <td>228.922470</td>\n",
              "    </tr>\n",
              "    <tr>\n",
              "      <th>3</th>\n",
              "      <td>377</td>\n",
              "      <td>235.54</td>\n",
              "      <td>235.543533</td>\n",
              "    </tr>\n",
              "    <tr>\n",
              "      <th>4</th>\n",
              "      <td>765</td>\n",
              "      <td>223.37</td>\n",
              "      <td>223.365738</td>\n",
              "    </tr>\n",
              "    <tr>\n",
              "      <th>...</th>\n",
              "      <td>...</td>\n",
              "      <td>...</td>\n",
              "      <td>...</td>\n",
              "    </tr>\n",
              "    <tr>\n",
              "      <th>245</th>\n",
              "      <td>56</td>\n",
              "      <td>205.91</td>\n",
              "      <td>205.914612</td>\n",
              "    </tr>\n",
              "    <tr>\n",
              "      <th>246</th>\n",
              "      <td>147</td>\n",
              "      <td>208.90</td>\n",
              "      <td>208.895493</td>\n",
              "    </tr>\n",
              "    <tr>\n",
              "      <th>247</th>\n",
              "      <td>610</td>\n",
              "      <td>223.06</td>\n",
              "      <td>223.061844</td>\n",
              "    </tr>\n",
              "    <tr>\n",
              "      <th>248</th>\n",
              "      <td>195</td>\n",
              "      <td>210.51</td>\n",
              "      <td>210.513870</td>\n",
              "    </tr>\n",
              "    <tr>\n",
              "      <th>249</th>\n",
              "      <td>164</td>\n",
              "      <td>222.53</td>\n",
              "      <td>222.529099</td>\n",
              "    </tr>\n",
              "  </tbody>\n",
              "</table>\n",
              "<p>250 rows × 3 columns</p>\n",
              "</div>\n",
              "      <button class=\"colab-df-convert\" onclick=\"convertToInteractive('df-6fe40309-8a82-489e-aa9d-1229897ed22d')\"\n",
              "              title=\"Convert this dataframe to an interactive table.\"\n",
              "              style=\"display:none;\">\n",
              "        \n",
              "  <svg xmlns=\"http://www.w3.org/2000/svg\" height=\"24px\"viewBox=\"0 0 24 24\"\n",
              "       width=\"24px\">\n",
              "    <path d=\"M0 0h24v24H0V0z\" fill=\"none\"/>\n",
              "    <path d=\"M18.56 5.44l.94 2.06.94-2.06 2.06-.94-2.06-.94-.94-2.06-.94 2.06-2.06.94zm-11 1L8.5 8.5l.94-2.06 2.06-.94-2.06-.94L8.5 2.5l-.94 2.06-2.06.94zm10 10l.94 2.06.94-2.06 2.06-.94-2.06-.94-.94-2.06-.94 2.06-2.06.94z\"/><path d=\"M17.41 7.96l-1.37-1.37c-.4-.4-.92-.59-1.43-.59-.52 0-1.04.2-1.43.59L10.3 9.45l-7.72 7.72c-.78.78-.78 2.05 0 2.83L4 21.41c.39.39.9.59 1.41.59.51 0 1.02-.2 1.41-.59l7.78-7.78 2.81-2.81c.8-.78.8-2.07 0-2.86zM5.41 20L4 18.59l7.72-7.72 1.47 1.35L5.41 20z\"/>\n",
              "  </svg>\n",
              "      </button>\n",
              "      \n",
              "  <style>\n",
              "    .colab-df-container {\n",
              "      display:flex;\n",
              "      flex-wrap:wrap;\n",
              "      gap: 12px;\n",
              "    }\n",
              "\n",
              "    .colab-df-convert {\n",
              "      background-color: #E8F0FE;\n",
              "      border: none;\n",
              "      border-radius: 50%;\n",
              "      cursor: pointer;\n",
              "      display: none;\n",
              "      fill: #1967D2;\n",
              "      height: 32px;\n",
              "      padding: 0 0 0 0;\n",
              "      width: 32px;\n",
              "    }\n",
              "\n",
              "    .colab-df-convert:hover {\n",
              "      background-color: #E2EBFA;\n",
              "      box-shadow: 0px 1px 2px rgba(60, 64, 67, 0.3), 0px 1px 3px 1px rgba(60, 64, 67, 0.15);\n",
              "      fill: #174EA6;\n",
              "    }\n",
              "\n",
              "    [theme=dark] .colab-df-convert {\n",
              "      background-color: #3B4455;\n",
              "      fill: #D2E3FC;\n",
              "    }\n",
              "\n",
              "    [theme=dark] .colab-df-convert:hover {\n",
              "      background-color: #434B5C;\n",
              "      box-shadow: 0px 1px 3px 1px rgba(0, 0, 0, 0.15);\n",
              "      filter: drop-shadow(0px 1px 2px rgba(0, 0, 0, 0.3));\n",
              "      fill: #FFFFFF;\n",
              "    }\n",
              "  </style>\n",
              "\n",
              "      <script>\n",
              "        const buttonEl =\n",
              "          document.querySelector('#df-6fe40309-8a82-489e-aa9d-1229897ed22d button.colab-df-convert');\n",
              "        buttonEl.style.display =\n",
              "          google.colab.kernel.accessAllowed ? 'block' : 'none';\n",
              "\n",
              "        async function convertToInteractive(key) {\n",
              "          const element = document.querySelector('#df-6fe40309-8a82-489e-aa9d-1229897ed22d');\n",
              "          const dataTable =\n",
              "            await google.colab.kernel.invokeFunction('convertToInteractive',\n",
              "                                                     [key], {});\n",
              "          if (!dataTable) return;\n",
              "\n",
              "          const docLinkHtml = 'Like what you see? Visit the ' +\n",
              "            '<a target=\"_blank\" href=https://colab.research.google.com/notebooks/data_table.ipynb>data table notebook</a>'\n",
              "            + ' to learn more about interactive tables.';\n",
              "          element.innerHTML = '';\n",
              "          dataTable['output_type'] = 'display_data';\n",
              "          await google.colab.output.renderOutput(dataTable, element);\n",
              "          const docLink = document.createElement('div');\n",
              "          docLink.innerHTML = docLinkHtml;\n",
              "          element.appendChild(docLink);\n",
              "        }\n",
              "      </script>\n",
              "    </div>\n",
              "  </div>\n",
              "  "
            ]
          },
          "metadata": {},
          "execution_count": 26
        }
      ]
    },
    {
      "cell_type": "code",
      "source": [
        "from scipy.stats.stats import spearmanr as spearman #importando a biblioteca para gráfico de correlação\n"
      ],
      "metadata": {
        "id": "5qbpGIYFj1-0"
      },
      "execution_count": null,
      "outputs": []
    },
    {
      "cell_type": "code",
      "source": [
        "col1_obt = 0\n",
        "col2_prev = 1\n",
        "pear_pos_menor_erro = stats(df[df.columns[col1_obt]], df[df.columns[col2_prev]])\n",
        "#+++++++++++++++++++++++++++++++++++++++++++++++++++++++++++++++++++++++++++++++\n",
        "plt.figure(figsize=(15,15))\n",
        "sns.jointplot(\n",
        "    x=df.columns[col1_obt],\n",
        "    y=df.columns[col2_prev],\n",
        "    kind='reg',\n",
        "    data=df\n",
        ")\n",
        "\n",
        "# plt.legend(['p = ' + str(round(pear_pos[1], 5)) + '\\nR = ' + str(round(pear_pos[0], 5))])\n",
        "if pear_pos_menor_erro[1] < 0.01:\n",
        "  plt.legend(['p < ' + '0.01' + '\\nR = ' + str(round(pear_pos_menor_erro[0], 4))]) #calculando p e relse:\n",
        "else: \n",
        "  plt.legend(['p = ' + str(pear_pos_menor_erro[1]) + '\\nR = ' + str(round(pear_pos_menor_erro[0], 4))]) #calculando p e r"
      ],
      "metadata": {
        "colab": {
          "base_uri": "https://localhost:8080/",
          "height": 458
        },
        "id": "QDJHbFXMm_-_",
        "outputId": "2deeeadf-40dc-44a9-968c-5ead3155ee0c"
      },
      "execution_count": null,
      "outputs": [
        {
          "output_type": "display_data",
          "data": {
            "text/plain": [
              "<Figure size 1080x1080 with 0 Axes>"
            ]
          },
          "metadata": {}
        },
        {
          "output_type": "display_data",
          "data": {
            "text/plain": [
              "<Figure size 432x432 with 3 Axes>"
            ],
            "image/png": "[encoded data removed]"
          },
          "metadata": {
            "needs_background": "light"
          }
        }
      ]
    },
    {
      "cell_type": "code",
      "source": [
        "pear_pos_menor_erro"
      ],
      "metadata": {
        "colab": {
          "base_uri": "https://localhost:8080/"
        },
        "id": "2dsDQTescXoD",
        "outputId": "e984942f-b6d0-4346-dfc3-4973b9987b14"
      },
      "execution_count": null,
      "outputs": [
        {
          "output_type": "execute_result",
          "data": {
            "text/plain": [
              "SpearmanrResult(correlation=0.4593467836501783, pvalue=1.876935385674242e-14)"
            ]
          },
          "metadata": {},
          "execution_count": 15
        }
      ]
    },
    {
      "cell_type": "code",
      "source": [
        "pear_pos_menor_erro[1]\n",
        "if pear_pos_menor_erro[1] < 0.01:\n",
        "  print('Sim, é inferior')\n",
        "else:\n",
        "  print('Não é inferior')"
      ],
      "metadata": {
        "colab": {
          "base_uri": "https://localhost:8080/"
        },
        "id": "1GZZC5Tvafho",
        "outputId": "ba481e1e-3609-4deb-ec61-a95a8236efbd"
      },
      "execution_count": null,
      "outputs": [
        {
          "output_type": "stream",
          "name": "stdout",
          "text": [
            "Sim, é inferior\n"
          ]
        }
      ]
    },
    {
      "cell_type": "code",
      "source": [
        ""
      ],
      "metadata": {
        "id": "vE6YKdkHcoZ8"
      },
      "execution_count": null,
      "outputs": []
    }
  ]
}