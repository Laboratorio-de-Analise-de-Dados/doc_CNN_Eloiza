{
 "cells": [
  {
   "cell_type": "markdown",
   "metadata": {
    "id": "di0w2jhRk6Kt"
   },
   "source": [
    "### Organization of libraries\n"
   ]
  },
  {
   "cell_type": "code",
   "execution_count": 1,
   "metadata": {
    "id": "uwFVyuaJlDF0"
   },
   "outputs": [],
   "source": [
    "#organização dos arquivos\n",
    "import os\n",
    "#salvar/carregar arquivos em diferentes formatos\n",
    "import joblib\n",
    "#gerar gráfico\n",
    "import matplotlib\n",
    "#estruturação dos dados\n",
    "import numpy as np\n",
    "#gerar gráfico\n",
    "import seaborn as sns\n",
    "#gerar gráfico\n",
    "import matplotlib.pyplot as plt\n",
    "#gerar imagem\n",
    "import matplotlib.image as mpimg\n"
   ]
  },
  {
   "cell_type": "code",
   "execution_count": 2,
   "metadata": {
    "id": "pwBj_mITlM9j"
   },
   "outputs": [
    {
     "name": "stderr",
     "output_type": "stream",
     "text": [
      "2022-08-05 19:10:37.320153: W tensorflow/stream_executor/platform/default/dso_loader.cc:60] Could not load dynamic library 'libcudart.so.11.0'; dlerror: libcudart.so.11.0: cannot open shared object file: No such file or directory\n",
      "2022-08-05 19:10:37.320927: I tensorflow/stream_executor/cuda/cudart_stub.cc:29] Ignore above cudart dlerror if you do not have a GPU set up on your machine.\n"
     ]
    }
   ],
   "source": [
    "#Biblioteca para carregar o modelo de regressão\n",
    "from keras.models import load_model"
   ]
  },
  {
   "cell_type": "markdown",
   "metadata": {
    "id": "PrBpQF1xlPOZ"
   },
   "source": [
    "### Modelo de regressão 3T3"
   ]
  },
  {
   "cell_type": "code",
   "execution_count": 3,
   "metadata": {
    "colab": {
     "base_uri": "https://localhost:8080/"
    },
    "id": "-nYLkV1GlTwH",
    "outputId": "da29383a-5415-4add-e68a-86e8ee60982a"
   },
   "outputs": [
    {
     "name": "stderr",
     "output_type": "stream",
     "text": [
      "2022-08-05 19:10:39.368651: I tensorflow/compiler/jit/xla_cpu_device.cc:41] Not creating XLA devices, tf_xla_enable_xla_devices not set\n",
      "2022-08-05 19:10:39.368875: W tensorflow/stream_executor/platform/default/dso_loader.cc:60] Could not load dynamic library 'libcuda.so.1'; dlerror: libcuda.so.1: cannot open shared object file: No such file or directory\n",
      "2022-08-05 19:10:39.368891: W tensorflow/stream_executor/cuda/cuda_driver.cc:326] failed call to cuInit: UNKNOWN ERROR (303)\n",
      "2022-08-05 19:10:39.369867: I tensorflow/stream_executor/cuda/cuda_diagnostics.cc:156] kernel driver does not appear to be running on this host (a8bce4a08e2b): /proc/driver/nvidia/version does not exist\n",
      "2022-08-05 19:10:39.370156: I tensorflow/core/platform/cpu_feature_guard.cc:142] This TensorFlow binary is optimized with oneAPI Deep Neural Network Library (oneDNN) to use the following CPU instructions in performance-critical operations:  AVX2 FMA\n",
      "To enable them in other operations, rebuild TensorFlow with the appropriate compiler flags.\n",
      "2022-08-05 19:10:39.374067: I tensorflow/compiler/jit/xla_gpu_device.cc:99] Not creating XLA devices, tf_xla_enable_xla_devices not set\n"
     ]
    },
    {
     "data": {
      "text/plain": [
       "<tensorflow.python.keras.engine.sequential.Sequential at 0x7f0da4552990>"
      ]
     },
     "execution_count": 3,
     "metadata": {},
     "output_type": "execute_result"
    }
   ],
   "source": [
    "#Importando o modelo contendo os valores previstos para o número de células nas imagens\n",
    "modelo_3t3_menor_erro = load_model('/data/results/results_3T3/9_model__3T3_regressao_menor_erro_Mean_squared_error_200_epochs_2022-6-30.h5')\n",
    "modelo_3t3_menor_erro"
   ]
  },
  {
   "cell_type": "markdown",
   "metadata": {
    "id": "KTmYoLtslmil"
   },
   "source": [
    "### Data needed to get X_test"
   ]
  },
  {
   "cell_type": "code",
   "execution_count": 4,
   "metadata": {
    "colab": {
     "base_uri": "https://localhost:8080/"
    },
    "id": "OQpkxfOjlteJ",
    "outputId": "9e5d2227-4316-4f94-cf78-eb5ddbef7486"
   },
   "outputs": [
    {
     "data": {
      "text/plain": [
       "(250, 200, 200, 3)"
      ]
     },
     "execution_count": 4,
     "metadata": {},
     "output_type": "execute_result"
    }
   ],
   "source": [
    "#Importando as imagens que foram salvas para treinar e testar o modelo\n",
    "X_test_menor_erro = joblib.load('/data./results/results_3T3/10_images_de_X_test_3T3_melhor_modelo_200_epochs_2022-6-30.gz') #carregando arquivo\n",
    "X_test_menor_erro.shape "
   ]
  },
  {
   "cell_type": "code",
   "execution_count": 5,
   "metadata": {
    "colab": {
     "base_uri": "https://localhost:8080/"
    },
    "id": "ydl_ROn_l801",
    "outputId": "587a37f1-ea2c-4e99-f2b9-efa61c436e43"
   },
   "outputs": [
    {
     "data": {
      "text/plain": [
       "(250,)"
      ]
     },
     "execution_count": 5,
     "metadata": {},
     "output_type": "execute_result"
    }
   ],
   "source": [
    "#Importando os rótulos de cada imagem - número de células para cada imagem\n",
    "y_test_menor_erro = joblib.load('/data/results/results_3T3/11_images_de_y_test_3T3_melhor_model_200_epochs_2022-6-30.gz')\n",
    "y_test_menor_erro.shape"
   ]
  },
  {
   "cell_type": "markdown",
   "metadata": {
    "id": "drCeO8cgmO-n"
   },
   "source": [
    "### Getting X_test values to build predicted data list"
   ]
  },
  {
   "cell_type": "code",
   "execution_count": 6,
   "metadata": {
    "id": "RDYmTnTWmQVW"
   },
   "outputs": [
    {
     "name": "stderr",
     "output_type": "stream",
     "text": [
      "2022-08-05 19:10:42.458993: W tensorflow/core/framework/cpu_allocator_impl.cc:80] Allocation of 30000000 exceeds 10% of free system memory.\n",
      "2022-08-05 19:10:42.749734: I tensorflow/compiler/mlir/mlir_graph_optimization_pass.cc:116] None of the MLIR optimization passes are enabled (registered 2)\n",
      "2022-08-05 19:10:42.778822: I tensorflow/core/platform/profile_utils/cpu_utils.cc:112] CPU Frequency: 1800005000 Hz\n",
      "2022-08-05 19:10:42.980224: W tensorflow/core/framework/cpu_allocator_impl.cc:80] Allocation of 15360000 exceeds 10% of free system memory.\n",
      "2022-08-05 19:10:43.008481: W tensorflow/core/framework/cpu_allocator_impl.cc:80] Allocation of 160579584 exceeds 10% of free system memory.\n",
      "2022-08-05 19:10:43.212576: W tensorflow/core/framework/cpu_allocator_impl.cc:80] Allocation of 40144896 exceeds 10% of free system memory.\n",
      "2022-08-05 19:10:43.942908: W tensorflow/core/framework/cpu_allocator_impl.cc:80] Allocation of 77078528 exceeds 10% of free system memory.\n"
     ]
    }
   ],
   "source": [
    "#Usando método predict para obter os valores dos dados previstos\n",
    "dados_prev = modelo_3t3_menor_erro.predict(X_test_menor_erro)\n",
    "lista_previsto_menor_erro = dados_prev.flatten().tolist() #Organizando os dados em formato de lista - tolist/e os dados de array em uma ÚNICA lista-flatten\n",
    "#lista_previsto"
   ]
  },
  {
   "cell_type": "markdown",
   "metadata": {
    "id": "GDJzGzgLmfu-"
   },
   "source": [
    "### Observed data values"
   ]
  },
  {
   "cell_type": "code",
   "execution_count": 7,
   "metadata": {
    "id": "M1dZTK1TmTzN"
   },
   "outputs": [],
   "source": [
    "lista_observado_menor_erro = list(y_test_menor_erro)\n",
    "#lista_observado"
   ]
  },
  {
   "cell_type": "code",
   "execution_count": 8,
   "metadata": {
    "id": "RvK9GubxmlFu"
   },
   "outputs": [],
   "source": [
    "#importando pandas para organizar as listas\n",
    "import pandas as pd\n",
    "#importando a biblioteca para gerar a correlação\n",
    "from scipy.stats.stats import pearsonr as stats\n"
   ]
  },
  {
   "cell_type": "markdown",
   "metadata": {
    "id": "Vc78B92kmtNQ"
   },
   "source": [
    "Creating the dataframe to organize the lists of values"
   ]
  },
  {
   "cell_type": "code",
   "execution_count": 9,
   "metadata": {
    "colab": {
     "base_uri": "https://localhost:8080/",
     "height": 206
    },
    "id": "wNuMl5_1muKy",
    "outputId": "bca60425-0fa0-4057-c071-2ae1b84a26af"
   },
   "outputs": [
    {
     "data": {
      "text/html": [
       "<div>\n",
       "<style scoped>\n",
       "    .dataframe tbody tr th:only-of-type {\n",
       "        vertical-align: middle;\n",
       "    }\n",
       "\n",
       "    .dataframe tbody tr th {\n",
       "        vertical-align: top;\n",
       "    }\n",
       "\n",
       "    .dataframe thead th {\n",
       "        text-align: right;\n",
       "    }\n",
       "</style>\n",
       "<table border=\"1\" class=\"dataframe\">\n",
       "  <thead>\n",
       "    <tr style=\"text-align: right;\">\n",
       "      <th></th>\n",
       "      <th>Observed values</th>\n",
       "      <th>Lista preditos</th>\n",
       "    </tr>\n",
       "  </thead>\n",
       "  <tbody>\n",
       "    <tr>\n",
       "      <th>0</th>\n",
       "      <td>574</td>\n",
       "      <td>227.828537</td>\n",
       "    </tr>\n",
       "    <tr>\n",
       "      <th>1</th>\n",
       "      <td>377</td>\n",
       "      <td>233.354446</td>\n",
       "    </tr>\n",
       "    <tr>\n",
       "      <th>2</th>\n",
       "      <td>532</td>\n",
       "      <td>228.922470</td>\n",
       "    </tr>\n",
       "    <tr>\n",
       "      <th>3</th>\n",
       "      <td>377</td>\n",
       "      <td>235.543533</td>\n",
       "    </tr>\n",
       "    <tr>\n",
       "      <th>4</th>\n",
       "      <td>765</td>\n",
       "      <td>223.365738</td>\n",
       "    </tr>\n",
       "  </tbody>\n",
       "</table>\n",
       "</div>"
      ],
      "text/plain": [
       "   Observed values  Lista preditos\n",
       "0              574      227.828537\n",
       "1              377      233.354446\n",
       "2              532      228.922470\n",
       "3              377      235.543533\n",
       "4              765      223.365738"
      ]
     },
     "execution_count": 9,
     "metadata": {},
     "output_type": "execute_result"
    }
   ],
   "source": [
    "df = pd.DataFrame(zip(lista_observado_menor_erro,lista_previsto_menor_erro), columns = ['Observed values','Lista preditos'])\n",
    "df.head()"
   ]
  },
  {
   "cell_type": "code",
   "execution_count": 10,
   "metadata": {
    "id": "K6usXIz-my5n"
   },
   "outputs": [],
   "source": [
    "#arredondando os dados previstos\n",
    "dado_arre = round(df['Lista preditos'],2)\n",
    "df['Predicted values'] = dado_arre\n",
    "# df"
   ]
  },
  {
   "cell_type": "code",
   "execution_count": 11,
   "metadata": {
    "colab": {
     "base_uri": "https://localhost:8080/",
     "height": 424
    },
    "id": "gmut4Wjsm4vG",
    "outputId": "d1427442-1130-472f-bd5a-648a3fc3d03a"
   },
   "outputs": [
    {
     "data": {
      "text/html": [
       "<div>\n",
       "<style scoped>\n",
       "    .dataframe tbody tr th:only-of-type {\n",
       "        vertical-align: middle;\n",
       "    }\n",
       "\n",
       "    .dataframe tbody tr th {\n",
       "        vertical-align: top;\n",
       "    }\n",
       "\n",
       "    .dataframe thead th {\n",
       "        text-align: right;\n",
       "    }\n",
       "</style>\n",
       "<table border=\"1\" class=\"dataframe\">\n",
       "  <thead>\n",
       "    <tr style=\"text-align: right;\">\n",
       "      <th></th>\n",
       "      <th>Observed values</th>\n",
       "      <th>Predicted values</th>\n",
       "      <th>Lista preditos</th>\n",
       "    </tr>\n",
       "  </thead>\n",
       "  <tbody>\n",
       "    <tr>\n",
       "      <th>0</th>\n",
       "      <td>574</td>\n",
       "      <td>227.83</td>\n",
       "      <td>227.828537</td>\n",
       "    </tr>\n",
       "    <tr>\n",
       "      <th>1</th>\n",
       "      <td>377</td>\n",
       "      <td>233.35</td>\n",
       "      <td>233.354446</td>\n",
       "    </tr>\n",
       "    <tr>\n",
       "      <th>2</th>\n",
       "      <td>532</td>\n",
       "      <td>228.92</td>\n",
       "      <td>228.922470</td>\n",
       "    </tr>\n",
       "    <tr>\n",
       "      <th>3</th>\n",
       "      <td>377</td>\n",
       "      <td>235.54</td>\n",
       "      <td>235.543533</td>\n",
       "    </tr>\n",
       "    <tr>\n",
       "      <th>4</th>\n",
       "      <td>765</td>\n",
       "      <td>223.37</td>\n",
       "      <td>223.365738</td>\n",
       "    </tr>\n",
       "    <tr>\n",
       "      <th>...</th>\n",
       "      <td>...</td>\n",
       "      <td>...</td>\n",
       "      <td>...</td>\n",
       "    </tr>\n",
       "    <tr>\n",
       "      <th>245</th>\n",
       "      <td>56</td>\n",
       "      <td>205.91</td>\n",
       "      <td>205.914612</td>\n",
       "    </tr>\n",
       "    <tr>\n",
       "      <th>246</th>\n",
       "      <td>147</td>\n",
       "      <td>208.90</td>\n",
       "      <td>208.895477</td>\n",
       "    </tr>\n",
       "    <tr>\n",
       "      <th>247</th>\n",
       "      <td>610</td>\n",
       "      <td>223.06</td>\n",
       "      <td>223.061844</td>\n",
       "    </tr>\n",
       "    <tr>\n",
       "      <th>248</th>\n",
       "      <td>195</td>\n",
       "      <td>210.51</td>\n",
       "      <td>210.513870</td>\n",
       "    </tr>\n",
       "    <tr>\n",
       "      <th>249</th>\n",
       "      <td>164</td>\n",
       "      <td>222.53</td>\n",
       "      <td>222.529099</td>\n",
       "    </tr>\n",
       "  </tbody>\n",
       "</table>\n",
       "<p>250 rows × 3 columns</p>\n",
       "</div>"
      ],
      "text/plain": [
       "     Observed values  Predicted values  Lista preditos\n",
       "0                574            227.83      227.828537\n",
       "1                377            233.35      233.354446\n",
       "2                532            228.92      228.922470\n",
       "3                377            235.54      235.543533\n",
       "4                765            223.37      223.365738\n",
       "..               ...               ...             ...\n",
       "245               56            205.91      205.914612\n",
       "246              147            208.90      208.895477\n",
       "247              610            223.06      223.061844\n",
       "248              195            210.51      210.513870\n",
       "249              164            222.53      222.529099\n",
       "\n",
       "[250 rows x 3 columns]"
      ]
     },
     "execution_count": 11,
     "metadata": {},
     "output_type": "execute_result"
    }
   ],
   "source": [
    "#invertendo a ordem das colunas\n",
    "df = df.reindex(columns=['Observed values','Predicted values','Lista preditos'])\n",
    "df"
   ]
  },
  {
   "cell_type": "code",
   "execution_count": 12,
   "metadata": {
    "id": "5qbpGIYFj1-0"
   },
   "outputs": [],
   "source": [
    "from scipy.stats.stats import spearmanr as spearman #importando a biblioteca para gráfico de correlação\n"
   ]
  },
  {
   "cell_type": "code",
   "execution_count": 13,
   "metadata": {
    "colab": {
     "base_uri": "https://localhost:8080/",
     "height": 458
    },
    "id": "QDJHbFXMm_-_",
    "outputId": "2deeeadf-40dc-44a9-968c-5ead3155ee0c"
   },
   "outputs": [
    {
     "data": {
      "text/plain": [
       "<Figure size 1080x1080 with 0 Axes>"
      ]
     },
     "metadata": {},
     "output_type": "display_data"
    },
    {
     "data": {
      "image/png": "[encoded data removed]",
      "text/plain": [
       "<Figure size 432x432 with 3 Axes>"
      ]
     },
     "metadata": {
      "needs_background": "light"
     },
     "output_type": "display_data"
    }
   ],
   "source": [
    "col1_obt = 0\n",
    "col2_prev = 1\n",
    "pear_pos_menor_erro = stats(df[df.columns[col1_obt]], df[df.columns[col2_prev]])\n",
    "#+++++++++++++++++++++++++++++++++++++++++++++++++++++++++++++++++++++++++++++++\n",
    "plt.figure(figsize=(15,15))\n",
    "sns.jointplot(\n",
    "    x=df.columns[col1_obt],\n",
    "    y=df.columns[col2_prev],\n",
    "    kind='reg',\n",
    "    data=df\n",
    ")\n",
    "\n",
    "# plt.legend(['p = ' + str(round(pear_pos[1], 5)) + '\\nR = ' + str(round(pear_pos[0], 5))])\n",
    "if pear_pos_menor_erro[1] < 0.01:\n",
    "  plt.legend(['p < ' + '0.01' + '\\nR = ' + str(round(pear_pos_menor_erro[0], 4))]) #calculando p e relse:\n",
    "else: \n",
    "  plt.legend(['p = ' + str(pear_pos_menor_erro[1]) + '\\nR = ' + str(round(pear_pos_menor_erro[0], 4))]) #calculando p e r\n",
    "\n",
    "plt.savefig(\n",
    "    fname=\"/results/Minor_Correlation_error_3T3.png\", #pasta e nome do arquivo onde vai ser salvo\n",
    "    bbox_inches='tight', #função que deixa o gráfico mais próxima da margem\n",
    "    dpi=150, #numero de pixels da imagem?\n",
    "    transparent=True #deixar o gráfico transparente\n",
    ")"
   ]
  },
  {
   "cell_type": "code",
   "execution_count": 14,
   "metadata": {
    "colab": {
     "base_uri": "https://localhost:8080/"
    },
    "id": "2dsDQTescXoD",
    "outputId": "e984942f-b6d0-4346-dfc3-4973b9987b14"
   },
   "outputs": [
    {
     "data": {
      "text/plain": [
       "(-0.005682035971268128, 0.9287708920879009)"
      ]
     },
     "execution_count": 14,
     "metadata": {},
     "output_type": "execute_result"
    }
   ],
   "source": [
    "pear_pos_menor_erro"
   ]
  },
  {
   "cell_type": "code",
   "execution_count": 15,
   "metadata": {
    "colab": {
     "base_uri": "https://localhost:8080/"
    },
    "id": "1GZZC5Tvafho",
    "outputId": "ba481e1e-3609-4deb-ec61-a95a8236efbd"
   },
   "outputs": [
    {
     "name": "stdout",
     "output_type": "stream",
     "text": [
      "Não é inferior\n"
     ]
    }
   ],
   "source": [
    "pear_pos_menor_erro[1]\n",
    "if pear_pos_menor_erro[1] < 0.01:\n",
    "  print('Sim, é inferior')\n",
    "else:\n",
    "  print('Não é inferior')"
   ]
  },
  {
   "cell_type": "code",
   "execution_count": null,
   "metadata": {
    "id": "vE6YKdkHcoZ8"
   },
   "outputs": [],
   "source": []
  }
 ],
 "metadata": {
  "colab": {
   "authorship_tag": "ABX9TyO4vzfKtD7fyhWmw3hXVHDd",
   "mount_file_id": "1W8ezvqUxee8rFynnntPZ_XQffO8ApXGs",
   "name": "Minor_Correlation_Error_3T3.ipynb",
   "provenance": []
  },
  "kernelspec": {
   "display_name": "Python 3 (ipykernel)",
   "language": "python",
   "name": "python3"
  },
  "language_info": {
   "codemirror_mode": {
    "name": "ipython",
    "version": 3
   },
   "file_extension": ".py",
   "mimetype": "text/x-python",
   "name": "python",
   "nbconvert_exporter": "python",
   "pygments_lexer": "ipython3",
   "version": "3.7.9"
  }
 },
 "nbformat": 4,
 "nbformat_minor": 4
}
