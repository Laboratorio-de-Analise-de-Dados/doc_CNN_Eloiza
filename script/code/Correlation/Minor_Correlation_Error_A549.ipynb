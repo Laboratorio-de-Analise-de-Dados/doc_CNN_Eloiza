{
 "cells": [
  {
   "cell_type": "markdown",
   "metadata": {
    "id": "drk8EzJ_MQMW"
   },
   "source": [
    "Correlation\n",
    "\n",
    "For this analysis, I need to check if there is a relationship between the predicted values (model) and the values I know (y). Whether this relationship is positive or negative."
   ]
  },
  {
   "cell_type": "markdown",
   "metadata": {
    "id": "LaBVq9VaNo8o"
   },
   "source": [
    "### Organization of libraries"
   ]
  },
  {
   "cell_type": "code",
   "execution_count": 1,
   "metadata": {
    "id": "9Afm8Op2uavd"
   },
   "outputs": [
    {
     "name": "stderr",
     "output_type": "stream",
     "text": [
      "2022-08-05 19:02:08.436716: W tensorflow/stream_executor/platform/default/dso_loader.cc:60] Could not load dynamic library 'libcudart.so.11.0'; dlerror: libcudart.so.11.0: cannot open shared object file: No such file or directory\n",
      "2022-08-05 19:02:08.436842: I tensorflow/stream_executor/cuda/cudart_stub.cc:29] Ignore above cudart dlerror if you do not have a GPU set up on your machine.\n"
     ]
    }
   ],
   "source": [
    "#salvar/carregar arquivos em diferentes formatos\n",
    "import joblib\n",
    "#gerar gráfico\n",
    "import matplotlib\n",
    "#estruturação dos dados\n",
    "import numpy as np\n",
    "#gerar gráfico\n",
    "import seaborn as sns\n",
    "#gerar gráfico\n",
    "import matplotlib.pyplot as plt\n",
    "#Carregar o modelo\n",
    "from keras.models import load_model\n"
   ]
  },
  {
   "cell_type": "markdown",
   "metadata": {
    "id": "woazDkf1NxNO"
   },
   "source": [
    "Regression Model A549 - MINOR ERROR"
   ]
  },
  {
   "cell_type": "code",
   "execution_count": 2,
   "metadata": {
    "colab": {
     "base_uri": "https://localhost:8080/"
    },
    "id": "vhnGcTinxl-_",
    "outputId": "e4b2bf54-f5c3-4b2a-b17a-02603510b032"
   },
   "outputs": [
    {
     "name": "stderr",
     "output_type": "stream",
     "text": [
      "2022-08-05 19:02:13.397964: I tensorflow/compiler/jit/xla_cpu_device.cc:41] Not creating XLA devices, tf_xla_enable_xla_devices not set\n",
      "2022-08-05 19:02:13.402994: W tensorflow/stream_executor/platform/default/dso_loader.cc:60] Could not load dynamic library 'libcuda.so.1'; dlerror: libcuda.so.1: cannot open shared object file: No such file or directory\n",
      "2022-08-05 19:02:13.403329: W tensorflow/stream_executor/cuda/cuda_driver.cc:326] failed call to cuInit: UNKNOWN ERROR (303)\n",
      "2022-08-05 19:02:13.404081: I tensorflow/stream_executor/cuda/cuda_diagnostics.cc:156] kernel driver does not appear to be running on this host (a8bce4a08e2b): /proc/driver/nvidia/version does not exist\n",
      "2022-08-05 19:02:13.425602: I tensorflow/core/platform/cpu_feature_guard.cc:142] This TensorFlow binary is optimized with oneAPI Deep Neural Network Library (oneDNN) to use the following CPU instructions in performance-critical operations:  AVX2 FMA\n",
      "To enable them in other operations, rebuild TensorFlow with the appropriate compiler flags.\n",
      "2022-08-05 19:02:13.437832: I tensorflow/compiler/jit/xla_gpu_device.cc:99] Not creating XLA devices, tf_xla_enable_xla_devices not set\n"
     ]
    },
    {
     "data": {
      "text/plain": [
       "<tensorflow.python.keras.engine.sequential.Sequential at 0x7fe265c18a10>"
      ]
     },
     "execution_count": 2,
     "metadata": {},
     "output_type": "execute_result"
    }
   ],
   "source": [
    "#Importando o modelo contendo os valores previstos para o número de células nas imagens\n",
    "\n",
    "modelo_menor_erro = load_model('/data/results/results_A549/9_model__A549_regressao_menor_erro_Mean_squared_error_30%_18_PACIENCE2022-6-29.h5')\n",
    "modelo_menor_erro"
   ]
  },
  {
   "cell_type": "markdown",
   "metadata": {
    "id": "ftz0R5TWN8_5"
   },
   "source": [
    "### Data needed to get X_test"
   ]
  },
  {
   "cell_type": "code",
   "execution_count": 3,
   "metadata": {
    "colab": {
     "base_uri": "https://localhost:8080/"
    },
    "id": "YYVc-u7E3en7",
    "outputId": "0a7b7839-c5db-4122-96d1-2ce03e326d4e"
   },
   "outputs": [
    {
     "data": {
      "text/plain": [
       "(341, 200, 200, 3)"
      ]
     },
     "execution_count": 3,
     "metadata": {},
     "output_type": "execute_result"
    }
   ],
   "source": [
    "#Importando as imagnes que foram salvas para treinar e testar o modelo quando foram separadas usando train_test_split\n",
    "\n",
    "X_test_menor_erro = joblib.load('/data/results/results_A549/10_images_de_X_test_a549_melhor_modelo_18_PACIENCE_500_2022-6-29.gz') #carregando arquivo\n",
    "X_test_menor_erro.shape #30% das imagens que foram salvas para testar o modelo"
   ]
  },
  {
   "cell_type": "code",
   "execution_count": 4,
   "metadata": {
    "colab": {
     "base_uri": "https://localhost:8080/"
    },
    "id": "jXZqsPwI4KHw",
    "outputId": "e47fbbb8-90ad-4c46-8f45-8545cd44597a"
   },
   "outputs": [
    {
     "data": {
      "text/plain": [
       "(341,)"
      ]
     },
     "execution_count": 4,
     "metadata": {},
     "output_type": "execute_result"
    }
   ],
   "source": [
    "#Importando os rótulos de cada imagem - número de células para cada imagem\n",
    "\n",
    "y_test_menor_erro = joblib.load('/data/results/results_A549/11_images_de_y_test_a549_melhor_modelo_18_PACIENCE%00_2022-6-29.gz')\n",
    "y_test_menor_erro.shape #30% dos rótulos que foram salvos das imagens"
   ]
  },
  {
   "cell_type": "markdown",
   "metadata": {
    "id": "2VjICJ5ZOKmq"
   },
   "source": [
    "### Getting X_test values to create predicted data list"
   ]
  },
  {
   "cell_type": "code",
   "execution_count": 5,
   "metadata": {
    "colab": {
     "base_uri": "https://localhost:8080/"
    },
    "id": "tTpBZcg9TFb3",
    "outputId": "13d9d5f8-6a2e-4e8c-9cbc-a6b36fd064ce"
   },
   "outputs": [
    {
     "name": "stderr",
     "output_type": "stream",
     "text": [
      "2022-08-05 19:02:24.444384: W tensorflow/core/framework/cpu_allocator_impl.cc:80] Allocation of 40920000 exceeds 10% of free system memory.\n",
      "2022-08-05 19:02:25.543129: I tensorflow/compiler/mlir/mlir_graph_optimization_pass.cc:116] None of the MLIR optimization passes are enabled (registered 2)\n",
      "2022-08-05 19:02:25.575741: I tensorflow/core/platform/profile_utils/cpu_utils.cc:112] CPU Frequency: 1800005000 Hz\n",
      "2022-08-05 19:02:26.071636: W tensorflow/core/framework/cpu_allocator_impl.cc:80] Allocation of 15360000 exceeds 10% of free system memory.\n",
      "2022-08-05 19:02:27.008285: W tensorflow/core/framework/cpu_allocator_impl.cc:80] Allocation of 160579584 exceeds 10% of free system memory.\n",
      "2022-08-05 19:02:29.088019: W tensorflow/core/framework/cpu_allocator_impl.cc:80] Allocation of 40144896 exceeds 10% of free system memory.\n",
      "2022-08-05 19:02:29.616090: W tensorflow/core/framework/cpu_allocator_impl.cc:80] Allocation of 77078528 exceeds 10% of free system memory.\n"
     ]
    },
    {
     "data": {
      "text/plain": [
       "341"
      ]
     },
     "execution_count": 5,
     "metadata": {},
     "output_type": "execute_result"
    }
   ],
   "source": [
    "#ROTULO\n",
    "dados_prev = modelo_menor_erro.predict(X_test_menor_erro) #usando a função predict para obter os valores das imagens de X_test\n",
    "lista_previsto_menor_erro = dados_prev.flatten().tolist() #criando uma lista com valores e retirando as listas dentro de listas (comuns em arrays)\n",
    "len(lista_previsto_menor_erro)"
   ]
  },
  {
   "cell_type": "markdown",
   "metadata": {
    "id": "T6cba4sqOQ17"
   },
   "source": [
    "### Observed data values"
   ]
  },
  {
   "cell_type": "code",
   "execution_count": 6,
   "metadata": {
    "colab": {
     "base_uri": "https://localhost:8080/"
    },
    "id": "ICQmY0-tYUlh",
    "outputId": "25685290-4bad-47b8-d6c0-684dacf7337d"
   },
   "outputs": [
    {
     "data": {
      "text/plain": [
       "341"
      ]
     },
     "execution_count": 6,
     "metadata": {},
     "output_type": "execute_result"
    }
   ],
   "source": [
    "#ROTULO\n",
    "lista_observado_menor_erro = list(y_test_menor_erro) #Salvando os rótulos que estavam em único array em uma lista\n",
    "len(lista_observado_menor_erro)"
   ]
  },
  {
   "cell_type": "markdown",
   "metadata": {
    "id": "5E1tEfRGOWMA"
   },
   "source": [
    "### Creating the dataframe to organize the lists of values"
   ]
  },
  {
   "cell_type": "code",
   "execution_count": 7,
   "metadata": {
    "id": "l9H08-gBCnLh"
   },
   "outputs": [],
   "source": [
    "import pandas as pd #Chamando pandas para criar Dataframe\n",
    "from scipy.stats.stats import pearsonr as stats #importando a biblioteca para gráfico de correlação\n"
   ]
  },
  {
   "cell_type": "code",
   "execution_count": 8,
   "metadata": {
    "colab": {
     "base_uri": "https://localhost:8080/",
     "height": 206
    },
    "id": "urHH63C6Da7v",
    "outputId": "0f68153a-2e61-4ce3-ddd8-34bd0233d598"
   },
   "outputs": [
    {
     "data": {
      "text/html": [
       "<div>\n",
       "<style scoped>\n",
       "    .dataframe tbody tr th:only-of-type {\n",
       "        vertical-align: middle;\n",
       "    }\n",
       "\n",
       "    .dataframe tbody tr th {\n",
       "        vertical-align: top;\n",
       "    }\n",
       "\n",
       "    .dataframe thead th {\n",
       "        text-align: right;\n",
       "    }\n",
       "</style>\n",
       "<table border=\"1\" class=\"dataframe\">\n",
       "  <thead>\n",
       "    <tr style=\"text-align: right;\">\n",
       "      <th></th>\n",
       "      <th>Observed values</th>\n",
       "      <th>Lista preditos</th>\n",
       "    </tr>\n",
       "  </thead>\n",
       "  <tbody>\n",
       "    <tr>\n",
       "      <th>336</th>\n",
       "      <td>591</td>\n",
       "      <td>489.135406</td>\n",
       "    </tr>\n",
       "    <tr>\n",
       "      <th>337</th>\n",
       "      <td>1041</td>\n",
       "      <td>1088.215820</td>\n",
       "    </tr>\n",
       "    <tr>\n",
       "      <th>338</th>\n",
       "      <td>212</td>\n",
       "      <td>302.097565</td>\n",
       "    </tr>\n",
       "    <tr>\n",
       "      <th>339</th>\n",
       "      <td>241</td>\n",
       "      <td>289.556000</td>\n",
       "    </tr>\n",
       "    <tr>\n",
       "      <th>340</th>\n",
       "      <td>1044</td>\n",
       "      <td>984.529114</td>\n",
       "    </tr>\n",
       "  </tbody>\n",
       "</table>\n",
       "</div>"
      ],
      "text/plain": [
       "     Observed values  Lista preditos\n",
       "336              591      489.135406\n",
       "337             1041     1088.215820\n",
       "338              212      302.097565\n",
       "339              241      289.556000\n",
       "340             1044      984.529114"
      ]
     },
     "execution_count": 8,
     "metadata": {},
     "output_type": "execute_result"
    }
   ],
   "source": [
    "#criando um dataframe para organizar os dados de cada lista criada\n",
    "df_menor_erro = pd.DataFrame(zip(lista_observado_menor_erro,lista_previsto_menor_erro), \n",
    "                  columns = ['Observed values','Lista preditos']) #criando as colunas que vão receber as listas\n",
    "df_menor_erro.tail() #chamando a dataframe"
   ]
  },
  {
   "cell_type": "code",
   "execution_count": 9,
   "metadata": {
    "colab": {
     "base_uri": "https://localhost:8080/",
     "height": 206
    },
    "id": "RYiRrt7riAQb",
    "outputId": "c2b9956f-77cd-407a-a269-aa23872bb676"
   },
   "outputs": [
    {
     "data": {
      "text/html": [
       "<div>\n",
       "<style scoped>\n",
       "    .dataframe tbody tr th:only-of-type {\n",
       "        vertical-align: middle;\n",
       "    }\n",
       "\n",
       "    .dataframe tbody tr th {\n",
       "        vertical-align: top;\n",
       "    }\n",
       "\n",
       "    .dataframe thead th {\n",
       "        text-align: right;\n",
       "    }\n",
       "</style>\n",
       "<table border=\"1\" class=\"dataframe\">\n",
       "  <thead>\n",
       "    <tr style=\"text-align: right;\">\n",
       "      <th></th>\n",
       "      <th>Observed values</th>\n",
       "      <th>Lista preditos</th>\n",
       "      <th>Predicted values</th>\n",
       "    </tr>\n",
       "  </thead>\n",
       "  <tbody>\n",
       "    <tr>\n",
       "      <th>0</th>\n",
       "      <td>466</td>\n",
       "      <td>444.524567</td>\n",
       "      <td>444.52</td>\n",
       "    </tr>\n",
       "    <tr>\n",
       "      <th>1</th>\n",
       "      <td>944</td>\n",
       "      <td>946.898376</td>\n",
       "      <td>946.90</td>\n",
       "    </tr>\n",
       "    <tr>\n",
       "      <th>2</th>\n",
       "      <td>455</td>\n",
       "      <td>536.983337</td>\n",
       "      <td>536.98</td>\n",
       "    </tr>\n",
       "    <tr>\n",
       "      <th>3</th>\n",
       "      <td>539</td>\n",
       "      <td>566.919373</td>\n",
       "      <td>566.92</td>\n",
       "    </tr>\n",
       "    <tr>\n",
       "      <th>4</th>\n",
       "      <td>874</td>\n",
       "      <td>833.593018</td>\n",
       "      <td>833.59</td>\n",
       "    </tr>\n",
       "  </tbody>\n",
       "</table>\n",
       "</div>"
      ],
      "text/plain": [
       "   Observed values  Lista preditos  Predicted values\n",
       "0              466      444.524567            444.52\n",
       "1              944      946.898376            946.90\n",
       "2              455      536.983337            536.98\n",
       "3              539      566.919373            566.92\n",
       "4              874      833.593018            833.59"
      ]
     },
     "execution_count": 9,
     "metadata": {},
     "output_type": "execute_result"
    }
   ],
   "source": [
    "#Precisava do dado arrendodado, já que era muito extenso, então foi criada uma nova coluna com esses valores e adicionado ao df\n",
    "teste = round(df_menor_erro['Lista preditos'],2) #arredondando\n",
    "df_menor_erro['Predicted values'] = teste #criando a coluna\n",
    "df_menor_erro.head()"
   ]
  },
  {
   "cell_type": "code",
   "execution_count": 10,
   "metadata": {
    "colab": {
     "base_uri": "https://localhost:8080/",
     "height": 206
    },
    "id": "L3jTF3_YoQTb",
    "outputId": "eb4b9172-458d-4cf5-be7d-8914d56ba1cf"
   },
   "outputs": [
    {
     "data": {
      "text/html": [
       "<div>\n",
       "<style scoped>\n",
       "    .dataframe tbody tr th:only-of-type {\n",
       "        vertical-align: middle;\n",
       "    }\n",
       "\n",
       "    .dataframe tbody tr th {\n",
       "        vertical-align: top;\n",
       "    }\n",
       "\n",
       "    .dataframe thead th {\n",
       "        text-align: right;\n",
       "    }\n",
       "</style>\n",
       "<table border=\"1\" class=\"dataframe\">\n",
       "  <thead>\n",
       "    <tr style=\"text-align: right;\">\n",
       "      <th></th>\n",
       "      <th>Observed values</th>\n",
       "      <th>Predicted values</th>\n",
       "      <th>Lista preditos</th>\n",
       "    </tr>\n",
       "  </thead>\n",
       "  <tbody>\n",
       "    <tr>\n",
       "      <th>0</th>\n",
       "      <td>466</td>\n",
       "      <td>444.52</td>\n",
       "      <td>444.524567</td>\n",
       "    </tr>\n",
       "    <tr>\n",
       "      <th>1</th>\n",
       "      <td>944</td>\n",
       "      <td>946.90</td>\n",
       "      <td>946.898376</td>\n",
       "    </tr>\n",
       "    <tr>\n",
       "      <th>2</th>\n",
       "      <td>455</td>\n",
       "      <td>536.98</td>\n",
       "      <td>536.983337</td>\n",
       "    </tr>\n",
       "    <tr>\n",
       "      <th>3</th>\n",
       "      <td>539</td>\n",
       "      <td>566.92</td>\n",
       "      <td>566.919373</td>\n",
       "    </tr>\n",
       "    <tr>\n",
       "      <th>4</th>\n",
       "      <td>874</td>\n",
       "      <td>833.59</td>\n",
       "      <td>833.593018</td>\n",
       "    </tr>\n",
       "  </tbody>\n",
       "</table>\n",
       "</div>"
      ],
      "text/plain": [
       "   Observed values  Predicted values  Lista preditos\n",
       "0              466            444.52      444.524567\n",
       "1              944            946.90      946.898376\n",
       "2              455            536.98      536.983337\n",
       "3              539            566.92      566.919373\n",
       "4              874            833.59      833.593018"
      ]
     },
     "execution_count": 10,
     "metadata": {},
     "output_type": "execute_result"
    }
   ],
   "source": [
    "#alternando a ordem das colunas da Dataframe para melhor organizar\n",
    "df_menor_erro = df_menor_erro.reindex(columns=['Observed values','Predicted values','Lista preditos'])\n",
    "df_menor_erro.head()"
   ]
  },
  {
   "cell_type": "code",
   "execution_count": 11,
   "metadata": {
    "id": "yCOwnAMoZb_4"
   },
   "outputs": [],
   "source": [
    "#Chamando apenas os dados maiores 300 células\n",
    "df_300 = df_menor_erro[df_menor_erro['Observed values'] > 300]\n"
   ]
  },
  {
   "cell_type": "code",
   "execution_count": 12,
   "metadata": {
    "id": "robMjVqFwBkw"
   },
   "outputs": [],
   "source": [
    "#len(df_300)"
   ]
  },
  {
   "cell_type": "markdown",
   "metadata": {
    "id": "aQ4110wCOk71"
   },
   "source": [
    "### Pearson Correlation Chart"
   ]
  },
  {
   "cell_type": "code",
   "execution_count": 13,
   "metadata": {
    "id": "glzd2fGxU9Rp"
   },
   "outputs": [],
   "source": [
    "col1_obt = 0 #chamando a primeira coluna\n",
    "col2_prev = 1 #chamando a segunda coluna\n",
    "pear_pos_menor_erro = stats(df_300[df_300.columns[col1_obt]], df_300[df_300.columns[col2_prev]]) #calculando a correlação entre as duas colunas selecionadas"
   ]
  },
  {
   "cell_type": "code",
   "execution_count": 14,
   "metadata": {
    "colab": {
     "base_uri": "https://localhost:8080/",
     "height": 458
    },
    "id": "JzlSYNZ0EP7q",
    "outputId": "a8e5222b-15bd-4469-a860-2dbae7985fd6"
   },
   "outputs": [
    {
     "data": {
      "text/plain": [
       "<Figure size 1080x1080 with 0 Axes>"
      ]
     },
     "metadata": {},
     "output_type": "display_data"
    },
    {
     "data": {
      "image/png": "[encoded data removed]",
      "text/plain": [
       "<Figure size 432x432 with 3 Axes>"
      ]
     },
     "metadata": {
      "needs_background": "light"
     },
     "output_type": "display_data"
    }
   ],
   "source": [
    "plt.figure(figsize=(15,15))\n",
    "sns.jointplot(\n",
    "    x=df_300.columns[col1_obt], #Em x recebe os dados obtidos (rótulos)\n",
    "    y=df_300.columns[col2_prev], #Em y recebe os valores previstos (imagens)\n",
    "    kind='reg',\n",
    "    data=df_300\n",
    ")\n",
    "\n",
    "if pear_pos_menor_erro[1] < 0.01:\n",
    "  plt.legend(['p < ' + '0.01' + '\\nR = ' + str(round(pear_pos_menor_erro[0], 4))]) #calculando p e relse:\n",
    "else: \n",
    "  plt.legend(['p = ' + str(round(pear_pos_menor_erro[1],3)) + '\\nR = ' + str(round(pear_pos_menor_erro[0], 4))]) #calculando p e r\n",
    "\n",
    "\n",
    "plt.savefig(\n",
    "    fname=\"/results/Minor_Correlation_error_A549.png\", #pasta e nome do arquivo onde vai ser salvo\n",
    "    bbox_inches='tight', #função que deixa o gráfico mais próxima da margem\n",
    "    dpi=150, #numero de pixels da imagem?\n",
    "    transparent=True #deixar o gráfico transparente\n",
    ")"
   ]
  },
  {
   "cell_type": "code",
   "execution_count": 15,
   "metadata": {
    "id": "xObmKBkyT9i8"
   },
   "outputs": [],
   "source": [
    "# pear_pos_menor_erro"
   ]
  },
  {
   "cell_type": "code",
   "execution_count": 16,
   "metadata": {
    "colab": {
     "base_uri": "https://localhost:8080/"
    },
    "id": "6RVmNGmNEK_t",
    "outputId": "15a93e9e-8cd1-4b5e-98bc-2f49a6de7677"
   },
   "outputs": [
    {
     "name": "stdout",
     "output_type": "stream",
     "text": [
      "Sim, é inferior\n"
     ]
    }
   ],
   "source": [
    "pear_pos_menor_erro[1]\n",
    "if pear_pos_menor_erro[1] < 0.01:\n",
    "  print('Sim, é inferior')\n",
    "else:\n",
    "  print('Não é inferior')"
   ]
  },
  {
   "cell_type": "code",
   "execution_count": null,
   "metadata": {},
   "outputs": [],
   "source": []
  }
 ],
 "metadata": {
  "colab": {
   "authorship_tag": "ABX9TyNLNA29eAnX2a90bkidEwNj",
   "mount_file_id": "1gQIjMbHjhjXx8IeUVkBN_4W-gf43pWIZ",
   "name": "Minor_Correlation_Error_A549.ipynb",
   "provenance": []
  },
  "kernelspec": {
   "display_name": "Python 3 (ipykernel)",
   "language": "python",
   "name": "python3"
  },
  "language_info": {
   "codemirror_mode": {
    "name": "ipython",
    "version": 3
   },
   "file_extension": ".py",
   "mimetype": "text/x-python",
   "name": "python",
   "nbconvert_exporter": "python",
   "pygments_lexer": "ipython3",
   "version": "3.7.9"
  }
 },
 "nbformat": 4,
 "nbformat_minor": 4
}
