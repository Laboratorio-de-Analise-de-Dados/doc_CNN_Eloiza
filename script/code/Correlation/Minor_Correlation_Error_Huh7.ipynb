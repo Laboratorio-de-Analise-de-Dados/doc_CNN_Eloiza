{
 "cells": [
  {
   "cell_type": "markdown",
   "metadata": {
    "id": "sGd8Kc6MTaiP"
   },
   "source": [
    "### Organization of libraries"
   ]
  },
  {
   "cell_type": "code",
   "execution_count": 1,
   "metadata": {
    "id": "N31hXgtmTB0Z"
   },
   "outputs": [],
   "source": [
    "#organização dos arquivos\n",
    "import os\n",
    "#salvar/carregar arquivos em diferentes formatos\n",
    "import joblib\n",
    "#gerar gráfico\n",
    "import matplotlib\n",
    "#estruturação dos dados\n",
    "import numpy as np\n",
    "#gerar gráfico\n",
    "import seaborn as sns\n",
    "#gerar gráfico\n",
    "import matplotlib.pyplot as plt\n",
    "#gerar imagem\n",
    "import matplotlib.image as mpimg\n"
   ]
  },
  {
   "cell_type": "code",
   "execution_count": 2,
   "metadata": {
    "id": "ULPHuilhTq1W"
   },
   "outputs": [
    {
     "name": "stderr",
     "output_type": "stream",
     "text": [
      "2022-08-05 19:08:10.648560: W tensorflow/stream_executor/platform/default/dso_loader.cc:60] Could not load dynamic library 'libcudart.so.11.0'; dlerror: libcudart.so.11.0: cannot open shared object file: No such file or directory\n",
      "2022-08-05 19:08:10.648713: I tensorflow/stream_executor/cuda/cudart_stub.cc:29] Ignore above cudart dlerror if you do not have a GPU set up on your machine.\n"
     ]
    }
   ],
   "source": [
    "#Biblioteca para carregar o modelo de regressão\n",
    "from keras.models import load_model"
   ]
  },
  {
   "cell_type": "markdown",
   "metadata": {
    "id": "nM6Ei7d6UUtm"
   },
   "source": [
    "### Huh7 regression model - MINOR ERROR"
   ]
  },
  {
   "cell_type": "code",
   "execution_count": 3,
   "metadata": {
    "colab": {
     "base_uri": "https://localhost:8080/"
    },
    "id": "-NhiS6OTT-ae",
    "outputId": "80b43f4e-161f-4d0e-cb12-5f8e3aa50da8"
   },
   "outputs": [
    {
     "name": "stderr",
     "output_type": "stream",
     "text": [
      "2022-08-05 19:08:14.946571: I tensorflow/compiler/jit/xla_cpu_device.cc:41] Not creating XLA devices, tf_xla_enable_xla_devices not set\n",
      "2022-08-05 19:08:14.946902: W tensorflow/stream_executor/platform/default/dso_loader.cc:60] Could not load dynamic library 'libcuda.so.1'; dlerror: libcuda.so.1: cannot open shared object file: No such file or directory\n",
      "2022-08-05 19:08:14.946919: W tensorflow/stream_executor/cuda/cuda_driver.cc:326] failed call to cuInit: UNKNOWN ERROR (303)\n",
      "2022-08-05 19:08:14.947770: I tensorflow/stream_executor/cuda/cuda_diagnostics.cc:156] kernel driver does not appear to be running on this host (a8bce4a08e2b): /proc/driver/nvidia/version does not exist\n",
      "2022-08-05 19:08:14.948040: I tensorflow/core/platform/cpu_feature_guard.cc:142] This TensorFlow binary is optimized with oneAPI Deep Neural Network Library (oneDNN) to use the following CPU instructions in performance-critical operations:  AVX2 FMA\n",
      "To enable them in other operations, rebuild TensorFlow with the appropriate compiler flags.\n",
      "2022-08-05 19:08:14.953796: I tensorflow/compiler/jit/xla_gpu_device.cc:99] Not creating XLA devices, tf_xla_enable_xla_devices not set\n"
     ]
    },
    {
     "data": {
      "text/plain": [
       "<tensorflow.python.keras.engine.sequential.Sequential at 0x7fda680b42d0>"
      ]
     },
     "execution_count": 3,
     "metadata": {},
     "output_type": "execute_result"
    }
   ],
   "source": [
    "#Importando o modelo contendo os valores previstos para o número de células nas imagens\n",
    "modelo_huh7_menor_erro = load_model('./../../results/results_Huh7/9_model__huh7_regressao_menor_erro_Mean_squared_error_500_epochs2022-6-30.h5')\n",
    "modelo_huh7_menor_erro"
   ]
  },
  {
   "cell_type": "markdown",
   "metadata": {
    "id": "oHCl8cBYUe4t"
   },
   "source": [
    "### Data needed to get X_test"
   ]
  },
  {
   "cell_type": "code",
   "execution_count": 4,
   "metadata": {
    "colab": {
     "base_uri": "https://localhost:8080/"
    },
    "id": "5zTXffm8USLB",
    "outputId": "924e6580-179d-4348-eec8-76615c6564ba"
   },
   "outputs": [
    {
     "data": {
      "text/plain": [
       "(212, 200, 200, 3)"
      ]
     },
     "execution_count": 4,
     "metadata": {},
     "output_type": "execute_result"
    }
   ],
   "source": [
    "#Importando as imagens que foram salvas para treinar e testar o modelo\n",
    "X_test_menor_erro = joblib.load('./../../results/results_Huh7/10_images_de_X_test_huh7_melhor_modelo_500_epochs_2022-6-30.gz') #carregando arquivo\n",
    "X_test_menor_erro.shape "
   ]
  },
  {
   "cell_type": "code",
   "execution_count": 5,
   "metadata": {
    "colab": {
     "base_uri": "https://localhost:8080/"
    },
    "id": "eCpfumEfW0vi",
    "outputId": "086b45f4-c638-4114-9740-ee340fc70960"
   },
   "outputs": [
    {
     "data": {
      "text/plain": [
       "(212,)"
      ]
     },
     "execution_count": 5,
     "metadata": {},
     "output_type": "execute_result"
    }
   ],
   "source": [
    "#Importando os rótulos de cada imagem - número de células para cada imagem\n",
    "y_test_menor_erro = joblib.load('./../../results/results_Huh7/11_images_de_y_test_huh7_melhor_modelo_500_epochs_2022-6-30.gz')\n",
    "y_test_menor_erro.shape"
   ]
  },
  {
   "cell_type": "markdown",
   "metadata": {
    "id": "_p5uzaquXpOO"
   },
   "source": [
    "### Getting X_test values to build predicted data list"
   ]
  },
  {
   "cell_type": "code",
   "execution_count": 6,
   "metadata": {
    "id": "iNrmr_1AXohO"
   },
   "outputs": [
    {
     "name": "stderr",
     "output_type": "stream",
     "text": [
      "2022-08-05 19:08:20.370663: W tensorflow/core/framework/cpu_allocator_impl.cc:80] Allocation of 25440000 exceeds 10% of free system memory.\n",
      "2022-08-05 19:08:20.969881: I tensorflow/compiler/mlir/mlir_graph_optimization_pass.cc:116] None of the MLIR optimization passes are enabled (registered 2)\n",
      "2022-08-05 19:08:20.970457: I tensorflow/core/platform/profile_utils/cpu_utils.cc:112] CPU Frequency: 1800005000 Hz\n",
      "2022-08-05 19:08:23.371966: W tensorflow/core/framework/cpu_allocator_impl.cc:80] Allocation of 15360000 exceeds 10% of free system memory.\n",
      "2022-08-05 19:08:23.438565: W tensorflow/core/framework/cpu_allocator_impl.cc:80] Allocation of 160579584 exceeds 10% of free system memory.\n",
      "2022-08-05 19:08:28.997331: W tensorflow/core/framework/cpu_allocator_impl.cc:80] Allocation of 40144896 exceeds 10% of free system memory.\n",
      "2022-08-05 19:08:29.349043: W tensorflow/core/framework/cpu_allocator_impl.cc:80] Allocation of 77078528 exceeds 10% of free system memory.\n"
     ]
    }
   ],
   "source": [
    "#Usando método predict para obter os valores dos dados previstos\n",
    "dados_prev = modelo_huh7_menor_erro.predict(X_test_menor_erro)\n",
    "lista_previsto_menor_erro = dados_prev.flatten().tolist() #Organizando os dados em formato de lista - tolist/e os dados de array em uma ÚNICA lista-flatten\n",
    "#lista_previsto"
   ]
  },
  {
   "cell_type": "markdown",
   "metadata": {
    "id": "vRyfcwbrYz-1"
   },
   "source": [
    "### Observed data values"
   ]
  },
  {
   "cell_type": "code",
   "execution_count": 7,
   "metadata": {
    "id": "vtpfmykuZGLp"
   },
   "outputs": [],
   "source": [
    "lista_observado_menor_erro = list(y_test_menor_erro)\n",
    "#lista_observado"
   ]
  },
  {
   "cell_type": "code",
   "execution_count": 8,
   "metadata": {
    "id": "Yb1TyCWwZS1k"
   },
   "outputs": [],
   "source": [
    "#importando pandas para organizar as listas\n",
    "import pandas as pd\n",
    "#importando a biblioteca para gerar a correlação\n",
    "from scipy.stats.stats import pearsonr as stats\n"
   ]
  },
  {
   "cell_type": "markdown",
   "metadata": {
    "id": "j3xFECI8bc12"
   },
   "source": [
    "### Creating the dataframe to organize the lists of values"
   ]
  },
  {
   "cell_type": "code",
   "execution_count": 9,
   "metadata": {
    "colab": {
     "base_uri": "https://localhost:8080/",
     "height": 206
    },
    "id": "4Uiqo0KrbcJ8",
    "outputId": "558ca670-1eb0-430f-cc67-7e97372dc3d0"
   },
   "outputs": [
    {
     "data": {
      "text/html": [
       "<div>\n",
       "<style scoped>\n",
       "    .dataframe tbody tr th:only-of-type {\n",
       "        vertical-align: middle;\n",
       "    }\n",
       "\n",
       "    .dataframe tbody tr th {\n",
       "        vertical-align: top;\n",
       "    }\n",
       "\n",
       "    .dataframe thead th {\n",
       "        text-align: right;\n",
       "    }\n",
       "</style>\n",
       "<table border=\"1\" class=\"dataframe\">\n",
       "  <thead>\n",
       "    <tr style=\"text-align: right;\">\n",
       "      <th></th>\n",
       "      <th>Observed values</th>\n",
       "      <th>Lista preditos</th>\n",
       "    </tr>\n",
       "  </thead>\n",
       "  <tbody>\n",
       "    <tr>\n",
       "      <th>0</th>\n",
       "      <td>338</td>\n",
       "      <td>435.933655</td>\n",
       "    </tr>\n",
       "    <tr>\n",
       "      <th>1</th>\n",
       "      <td>692</td>\n",
       "      <td>1079.670654</td>\n",
       "    </tr>\n",
       "    <tr>\n",
       "      <th>2</th>\n",
       "      <td>369</td>\n",
       "      <td>534.388062</td>\n",
       "    </tr>\n",
       "    <tr>\n",
       "      <th>3</th>\n",
       "      <td>175</td>\n",
       "      <td>220.816025</td>\n",
       "    </tr>\n",
       "    <tr>\n",
       "      <th>4</th>\n",
       "      <td>175</td>\n",
       "      <td>275.766693</td>\n",
       "    </tr>\n",
       "  </tbody>\n",
       "</table>\n",
       "</div>"
      ],
      "text/plain": [
       "   Observed values  Lista preditos\n",
       "0              338      435.933655\n",
       "1              692     1079.670654\n",
       "2              369      534.388062\n",
       "3              175      220.816025\n",
       "4              175      275.766693"
      ]
     },
     "execution_count": 9,
     "metadata": {},
     "output_type": "execute_result"
    }
   ],
   "source": [
    "df = pd.DataFrame(zip(lista_observado_menor_erro,lista_previsto_menor_erro), columns = ['Observed values','Lista preditos'])\n",
    "df.head()"
   ]
  },
  {
   "cell_type": "code",
   "execution_count": 10,
   "metadata": {
    "id": "wZPFD-tYYsFq"
   },
   "outputs": [],
   "source": [
    "#arredondando os dados previstos\n",
    "dado_arre = round(df['Lista preditos'],2)\n",
    "df['Predicted values'] = dado_arre\n",
    "# df"
   ]
  },
  {
   "cell_type": "code",
   "execution_count": 11,
   "metadata": {
    "colab": {
     "base_uri": "https://localhost:8080/",
     "height": 206
    },
    "id": "hr40suMvcCQR",
    "outputId": "d7acbeac-a02a-4ebc-dbb6-2ff217980457"
   },
   "outputs": [
    {
     "data": {
      "text/html": [
       "<div>\n",
       "<style scoped>\n",
       "    .dataframe tbody tr th:only-of-type {\n",
       "        vertical-align: middle;\n",
       "    }\n",
       "\n",
       "    .dataframe tbody tr th {\n",
       "        vertical-align: top;\n",
       "    }\n",
       "\n",
       "    .dataframe thead th {\n",
       "        text-align: right;\n",
       "    }\n",
       "</style>\n",
       "<table border=\"1\" class=\"dataframe\">\n",
       "  <thead>\n",
       "    <tr style=\"text-align: right;\">\n",
       "      <th></th>\n",
       "      <th>Observed values</th>\n",
       "      <th>Predicted values</th>\n",
       "      <th>Lista preditos</th>\n",
       "    </tr>\n",
       "  </thead>\n",
       "  <tbody>\n",
       "    <tr>\n",
       "      <th>0</th>\n",
       "      <td>338</td>\n",
       "      <td>435.93</td>\n",
       "      <td>435.933655</td>\n",
       "    </tr>\n",
       "    <tr>\n",
       "      <th>1</th>\n",
       "      <td>692</td>\n",
       "      <td>1079.67</td>\n",
       "      <td>1079.670654</td>\n",
       "    </tr>\n",
       "    <tr>\n",
       "      <th>2</th>\n",
       "      <td>369</td>\n",
       "      <td>534.39</td>\n",
       "      <td>534.388062</td>\n",
       "    </tr>\n",
       "    <tr>\n",
       "      <th>3</th>\n",
       "      <td>175</td>\n",
       "      <td>220.82</td>\n",
       "      <td>220.816025</td>\n",
       "    </tr>\n",
       "    <tr>\n",
       "      <th>4</th>\n",
       "      <td>175</td>\n",
       "      <td>275.77</td>\n",
       "      <td>275.766693</td>\n",
       "    </tr>\n",
       "  </tbody>\n",
       "</table>\n",
       "</div>"
      ],
      "text/plain": [
       "   Observed values  Predicted values  Lista preditos\n",
       "0              338            435.93      435.933655\n",
       "1              692           1079.67     1079.670654\n",
       "2              369            534.39      534.388062\n",
       "3              175            220.82      220.816025\n",
       "4              175            275.77      275.766693"
      ]
     },
     "execution_count": 11,
     "metadata": {},
     "output_type": "execute_result"
    }
   ],
   "source": [
    "#invertendo a ordem das colunas\n",
    "df = df.reindex(columns=['Observed values','Predicted values','Lista preditos'])\n",
    "df.head()"
   ]
  },
  {
   "cell_type": "markdown",
   "metadata": {
    "id": "Ja9ZV_UaObRF"
   },
   "source": [
    "### Pearson Correlation Chart"
   ]
  },
  {
   "cell_type": "code",
   "execution_count": 12,
   "metadata": {
    "id": "wHNoZlqp_is6"
   },
   "outputs": [],
   "source": [
    "from scipy.stats.stats import spearmanr as spearman #importando a biblioteca para gráfico de correlação\n"
   ]
  },
  {
   "cell_type": "code",
   "execution_count": 13,
   "metadata": {
    "colab": {
     "base_uri": "https://localhost:8080/",
     "height": 458
    },
    "id": "96EkGaIWcH7F",
    "outputId": "22c848aa-6056-4254-df08-5c5ebcbc0f43"
   },
   "outputs": [
    {
     "data": {
      "text/plain": [
       "<Figure size 1080x1080 with 0 Axes>"
      ]
     },
     "metadata": {},
     "output_type": "display_data"
    },
    {
     "data": {
      "image/png": "[encoded data removed]",
      "text/plain": [
       "<Figure size 432x432 with 3 Axes>"
      ]
     },
     "metadata": {
      "needs_background": "light"
     },
     "output_type": "display_data"
    }
   ],
   "source": [
    "col1_obt = 0\n",
    "col2_prev = 1\n",
    "pear_pos_menor_erro = stats(df[df.columns[col1_obt]], df[df.columns[col2_prev]])\n",
    "#+++++++++++++++++++++++++++++++++++++++++++++++++++++++++++++++++++++++++++++++\n",
    "plt.figure(figsize=(15,15))\n",
    "sns.jointplot(\n",
    "    x=df.columns[col1_obt],\n",
    "    y=df.columns[col2_prev],\n",
    "    kind='reg',\n",
    "    data=df\n",
    ")\n",
    "\n",
    "\n",
    "# plt.legend([\n",
    "#     'p = ' + str(round(pear_pos[1], 5)) + '\\nR = ' + str(round(pear_pos[0], 5))])\n",
    "if pear_pos_menor_erro[1] < 0.01:\n",
    "  plt.legend(['p < ' + '0.01' + '\\nR = ' + str(round(pear_pos_menor_erro[0], 4))]) #calculando p e relse:\n",
    "else: \n",
    "  plt.legend(['p = ' + str(pear_pos_menor_erro[1]) + '\\nR = ' + str(round(pear_pos_menor_erro[0], 4))]) #calculando p e r"
   ]
  },
  {
   "cell_type": "code",
   "execution_count": null,
   "metadata": {
    "id": "Z_Q3rSwRtyJb"
   },
   "outputs": [],
   "source": []
  }
 ],
 "metadata": {
  "colab": {
   "authorship_tag": "ABX9TyPefeThpGXnAHuo7vUGPjq7",
   "mount_file_id": "1P52mPrpZOQ0GqXz-r4tdo9j0Ol2Hd0bJ",
   "name": "Minor_Correlation_Error_Huh7.ipynb",
   "provenance": []
  },
  "kernelspec": {
   "display_name": "Python 3 (ipykernel)",
   "language": "python",
   "name": "python3"
  },
  "language_info": {
   "codemirror_mode": {
    "name": "ipython",
    "version": 3
   },
   "file_extension": ".py",
   "mimetype": "text/x-python",
   "name": "python",
   "nbconvert_exporter": "python",
   "pygments_lexer": "ipython3",
   "version": "3.7.9"
  }
 },
 "nbformat": 4,
 "nbformat_minor": 4
}
