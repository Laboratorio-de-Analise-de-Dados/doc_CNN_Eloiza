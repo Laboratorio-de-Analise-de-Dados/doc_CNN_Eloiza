{
  "nbformat": 4,
  "nbformat_minor": 0,
  "metadata": {
    "colab": {
      "name": "Minor_Correlation_Error_Huh7.ipynb",
      "provenance": [],
      "mount_file_id": "1P52mPrpZOQ0GqXz-r4tdo9j0Ol2Hd0bJ",
      "authorship_tag": "ABX9TyPefeThpGXnAHuo7vUGPjq7"
    },
    "kernelspec": {
      "name": "python3",
      "display_name": "Python 3"
    },
    "language_info": {
      "name": "python"
    }
  },
  "cells": [
    {
      "cell_type": "markdown",
      "source": [
        "### Organization of libraries"
      ],
      "metadata": {
        "id": "sGd8Kc6MTaiP"
      }
    },
    {
      "cell_type": "code",
      "execution_count": null,
      "metadata": {
        "id": "N31hXgtmTB0Z"
      },
      "outputs": [],
      "source": [
        "#organização dos arquivos\n",
        "import os\n",
        "#salvar/carregar arquivos em diferentes formatos\n",
        "import joblib\n",
        "#gerar gráfico\n",
        "import matplotlib\n",
        "#estruturação dos dados\n",
        "import numpy as np\n",
        "#gerar gráfico\n",
        "import seaborn as sns\n",
        "#gerar gráfico\n",
        "import matplotlib.pyplot as plt\n",
        "#gerar imagem\n",
        "import matplotlib.image as mpimg\n"
      ]
    },
    {
      "cell_type": "code",
      "source": [
        "# pip install util-gfsilveira"
      ],
      "metadata": {
        "id": "3m3VpMmjToAf"
      },
      "execution_count": null,
      "outputs": []
    },
    {
      "cell_type": "code",
      "source": [
        "#Biblioteca para carregar o modelo de regressão\n",
        "from keras.models import load_model"
      ],
      "metadata": {
        "id": "ULPHuilhTq1W"
      },
      "execution_count": null,
      "outputs": []
    },
    {
      "cell_type": "markdown",
      "source": [
        "### Huh7 regression model - MINOR ERROR"
      ],
      "metadata": {
        "id": "nM6Ei7d6UUtm"
      }
    },
    {
      "cell_type": "code",
      "source": [
        "#Importando o modelo contendo os valores previstos para o número de células nas imagens\n",
        "modelo_huh7_menor_erro = load_model('/content/drive/MyDrive/1_Informações_scripts/model__huh7_regressao_menor_erro_Mean_squared_error_500_epochs2022-6-30.h5')\n",
        "modelo_huh7_menor_erro"
      ],
      "metadata": {
        "colab": {
          "base_uri": "https://localhost:8080/"
        },
        "id": "-NhiS6OTT-ae",
        "outputId": "80b43f4e-161f-4d0e-cb12-5f8e3aa50da8"
      },
      "execution_count": null,
      "outputs": [
        {
          "output_type": "execute_result",
          "data": {
            "text/plain": [
              "<keras.engine.sequential.Sequential at 0x7fd96c815f50>"
            ]
          },
          "metadata": {},
          "execution_count": 19
        }
      ]
    },
    {
      "cell_type": "markdown",
      "source": [
        "### Data needed to get X_test"
      ],
      "metadata": {
        "id": "oHCl8cBYUe4t"
      }
    },
    {
      "cell_type": "code",
      "source": [
        "#Importando as imagens que foram salvas para treinar e testar o modelo\n",
        "X_test_menor_erro = joblib.load('/content/drive/MyDrive/1_Informações_scripts/4_images_de_X_test_huh7_melhor_modelo_500_epochs_2022-6-30.gz') #carregando arquivo\n",
        "X_test_menor_erro.shape "
      ],
      "metadata": {
        "id": "5zTXffm8USLB",
        "colab": {
          "base_uri": "https://localhost:8080/"
        },
        "outputId": "924e6580-179d-4348-eec8-76615c6564ba"
      },
      "execution_count": null,
      "outputs": [
        {
          "output_type": "execute_result",
          "data": {
            "text/plain": [
              "(212, 200, 200, 3)"
            ]
          },
          "metadata": {},
          "execution_count": 20
        }
      ]
    },
    {
      "cell_type": "code",
      "source": [
        "#Importando os rótulos de cada imagem - número de células para cada imagem\n",
        "y_test_menor_erro = joblib.load('/content/drive/MyDrive/1_Informações_scripts/4_images_de_y_test_huh7_melhor_modelo_500_epochs_2022-6-30.gz')\n",
        "y_test_menor_erro.shape"
      ],
      "metadata": {
        "colab": {
          "base_uri": "https://localhost:8080/"
        },
        "id": "eCpfumEfW0vi",
        "outputId": "086b45f4-c638-4114-9740-ee340fc70960"
      },
      "execution_count": null,
      "outputs": [
        {
          "output_type": "execute_result",
          "data": {
            "text/plain": [
              "(212,)"
            ]
          },
          "metadata": {},
          "execution_count": 21
        }
      ]
    },
    {
      "cell_type": "markdown",
      "source": [
        "### Getting X_test values to build predicted data list"
      ],
      "metadata": {
        "id": "_p5uzaquXpOO"
      }
    },
    {
      "cell_type": "code",
      "source": [
        "#Usando método predict para obter os valores dos dados previstos\n",
        "dados_prev = modelo_huh7_menor_erro.predict(X_test_menor_erro)\n",
        "lista_previsto_menor_erro = dados_prev.flatten().tolist() #Organizando os dados em formato de lista - tolist/e os dados de array em uma ÚNICA lista-flatten\n",
        "#lista_previsto"
      ],
      "metadata": {
        "id": "iNrmr_1AXohO"
      },
      "execution_count": null,
      "outputs": []
    },
    {
      "cell_type": "markdown",
      "source": [
        "### Observed data values"
      ],
      "metadata": {
        "id": "vRyfcwbrYz-1"
      }
    },
    {
      "cell_type": "code",
      "source": [
        "lista_observado_menor_erro = list(y_test_menor_erro)\n",
        "#lista_observado"
      ],
      "metadata": {
        "id": "vtpfmykuZGLp"
      },
      "execution_count": null,
      "outputs": []
    },
    {
      "cell_type": "code",
      "source": [
        "#importando pandas para organizar as listas\n",
        "import pandas as pd\n",
        "#importando a biblioteca para gerar a correlação\n",
        "from scipy.stats.stats import pearsonr as stats\n"
      ],
      "metadata": {
        "id": "Yb1TyCWwZS1k"
      },
      "execution_count": null,
      "outputs": []
    },
    {
      "cell_type": "markdown",
      "source": [
        "### Creating the dataframe to organize the lists of values"
      ],
      "metadata": {
        "id": "j3xFECI8bc12"
      }
    },
    {
      "cell_type": "code",
      "source": [
        "df = pd.DataFrame(zip(lista_observado_menor_erro,lista_previsto_menor_erro), columns = ['Observed values','Lista preditos'])\n",
        "df.head()"
      ],
      "metadata": {
        "colab": {
          "base_uri": "https://localhost:8080/",
          "height": 206
        },
        "id": "4Uiqo0KrbcJ8",
        "outputId": "558ca670-1eb0-430f-cc67-7e97372dc3d0"
      },
      "execution_count": null,
      "outputs": [
        {
          "output_type": "execute_result",
          "data": {
            "text/plain": [
              "   Observed values  Lista preditos\n",
              "0              338      435.933655\n",
              "1              692     1079.670776\n",
              "2              369      534.388062\n",
              "3              175      220.816025\n",
              "4              175      275.766724"
            ],
            "text/html": [
              "\n",
              "  <div id=\"df-460ebdc8-d960-48ce-9cb8-65b168851d58\">\n",
              "    <div class=\"colab-df-container\">\n",
              "      <div>\n",
              "<style scoped>\n",
              "    .dataframe tbody tr th:only-of-type {\n",
              "        vertical-align: middle;\n",
              "    }\n",
              "\n",
              "    .dataframe tbody tr th {\n",
              "        vertical-align: top;\n",
              "    }\n",
              "\n",
              "    .dataframe thead th {\n",
              "        text-align: right;\n",
              "    }\n",
              "</style>\n",
              "<table border=\"1\" class=\"dataframe\">\n",
              "  <thead>\n",
              "    <tr style=\"text-align: right;\">\n",
              "      <th></th>\n",
              "      <th>Observed values</th>\n",
              "      <th>Lista preditos</th>\n",
              "    </tr>\n",
              "  </thead>\n",
              "  <tbody>\n",
              "    <tr>\n",
              "      <th>0</th>\n",
              "      <td>338</td>\n",
              "      <td>435.933655</td>\n",
              "    </tr>\n",
              "    <tr>\n",
              "      <th>1</th>\n",
              "      <td>692</td>\n",
              "      <td>1079.670776</td>\n",
              "    </tr>\n",
              "    <tr>\n",
              "      <th>2</th>\n",
              "      <td>369</td>\n",
              "      <td>534.388062</td>\n",
              "    </tr>\n",
              "    <tr>\n",
              "      <th>3</th>\n",
              "      <td>175</td>\n",
              "      <td>220.816025</td>\n",
              "    </tr>\n",
              "    <tr>\n",
              "      <th>4</th>\n",
              "      <td>175</td>\n",
              "      <td>275.766724</td>\n",
              "    </tr>\n",
              "  </tbody>\n",
              "</table>\n",
              "</div>\n",
              "      <button class=\"colab-df-convert\" onclick=\"convertToInteractive('df-460ebdc8-d960-48ce-9cb8-65b168851d58')\"\n",
              "              title=\"Convert this dataframe to an interactive table.\"\n",
              "              style=\"display:none;\">\n",
              "        \n",
              "  <svg xmlns=\"http://www.w3.org/2000/svg\" height=\"24px\"viewBox=\"0 0 24 24\"\n",
              "       width=\"24px\">\n",
              "    <path d=\"M0 0h24v24H0V0z\" fill=\"none\"/>\n",
              "    <path d=\"M18.56 5.44l.94 2.06.94-2.06 2.06-.94-2.06-.94-.94-2.06-.94 2.06-2.06.94zm-11 1L8.5 8.5l.94-2.06 2.06-.94-2.06-.94L8.5 2.5l-.94 2.06-2.06.94zm10 10l.94 2.06.94-2.06 2.06-.94-2.06-.94-.94-2.06-.94 2.06-2.06.94z\"/><path d=\"M17.41 7.96l-1.37-1.37c-.4-.4-.92-.59-1.43-.59-.52 0-1.04.2-1.43.59L10.3 9.45l-7.72 7.72c-.78.78-.78 2.05 0 2.83L4 21.41c.39.39.9.59 1.41.59.51 0 1.02-.2 1.41-.59l7.78-7.78 2.81-2.81c.8-.78.8-2.07 0-2.86zM5.41 20L4 18.59l7.72-7.72 1.47 1.35L5.41 20z\"/>\n",
              "  </svg>\n",
              "      </button>\n",
              "      \n",
              "  <style>\n",
              "    .colab-df-container {\n",
              "      display:flex;\n",
              "      flex-wrap:wrap;\n",
              "      gap: 12px;\n",
              "    }\n",
              "\n",
              "    .colab-df-convert {\n",
              "      background-color: #E8F0FE;\n",
              "      border: none;\n",
              "      border-radius: 50%;\n",
              "      cursor: pointer;\n",
              "      display: none;\n",
              "      fill: #1967D2;\n",
              "      height: 32px;\n",
              "      padding: 0 0 0 0;\n",
              "      width: 32px;\n",
              "    }\n",
              "\n",
              "    .colab-df-convert:hover {\n",
              "      background-color: #E2EBFA;\n",
              "      box-shadow: 0px 1px 2px rgba(60, 64, 67, 0.3), 0px 1px 3px 1px rgba(60, 64, 67, 0.15);\n",
              "      fill: #174EA6;\n",
              "    }\n",
              "\n",
              "    [theme=dark] .colab-df-convert {\n",
              "      background-color: #3B4455;\n",
              "      fill: #D2E3FC;\n",
              "    }\n",
              "\n",
              "    [theme=dark] .colab-df-convert:hover {\n",
              "      background-color: #434B5C;\n",
              "      box-shadow: 0px 1px 3px 1px rgba(0, 0, 0, 0.15);\n",
              "      filter: drop-shadow(0px 1px 2px rgba(0, 0, 0, 0.3));\n",
              "      fill: #FFFFFF;\n",
              "    }\n",
              "  </style>\n",
              "\n",
              "      <script>\n",
              "        const buttonEl =\n",
              "          document.querySelector('#df-460ebdc8-d960-48ce-9cb8-65b168851d58 button.colab-df-convert');\n",
              "        buttonEl.style.display =\n",
              "          google.colab.kernel.accessAllowed ? 'block' : 'none';\n",
              "\n",
              "        async function convertToInteractive(key) {\n",
              "          const element = document.querySelector('#df-460ebdc8-d960-48ce-9cb8-65b168851d58');\n",
              "          const dataTable =\n",
              "            await google.colab.kernel.invokeFunction('convertToInteractive',\n",
              "                                                     [key], {});\n",
              "          if (!dataTable) return;\n",
              "\n",
              "          const docLinkHtml = 'Like what you see? Visit the ' +\n",
              "            '<a target=\"_blank\" href=https://colab.research.google.com/notebooks/data_table.ipynb>data table notebook</a>'\n",
              "            + ' to learn more about interactive tables.';\n",
              "          element.innerHTML = '';\n",
              "          dataTable['output_type'] = 'display_data';\n",
              "          await google.colab.output.renderOutput(dataTable, element);\n",
              "          const docLink = document.createElement('div');\n",
              "          docLink.innerHTML = docLinkHtml;\n",
              "          element.appendChild(docLink);\n",
              "        }\n",
              "      </script>\n",
              "    </div>\n",
              "  </div>\n",
              "  "
            ]
          },
          "metadata": {},
          "execution_count": 25
        }
      ]
    },
    {
      "cell_type": "code",
      "source": [
        "#arredondando os dados previstos\n",
        "dado_arre = round(df['Lista preditos'],2)\n",
        "df['Predicted values'] = dado_arre\n",
        "# df"
      ],
      "metadata": {
        "id": "wZPFD-tYYsFq"
      },
      "execution_count": null,
      "outputs": []
    },
    {
      "cell_type": "code",
      "source": [
        "#invertendo a ordem das colunas\n",
        "df = df.reindex(columns=['Observed values','Predicted values','Lista preditos'])\n",
        "df.head()"
      ],
      "metadata": {
        "colab": {
          "base_uri": "https://localhost:8080/",
          "height": 206
        },
        "id": "hr40suMvcCQR",
        "outputId": "d7acbeac-a02a-4ebc-dbb6-2ff217980457"
      },
      "execution_count": null,
      "outputs": [
        {
          "output_type": "execute_result",
          "data": {
            "text/plain": [
              "   Observed values  Predicted values  Lista preditos\n",
              "0              338            435.93      435.933655\n",
              "1              692           1079.67     1079.670776\n",
              "2              369            534.39      534.388062\n",
              "3              175            220.82      220.816025\n",
              "4              175            275.77      275.766724"
            ],
            "text/html": [
              "\n",
              "  <div id=\"df-f3e78bf3-f4d2-499e-bdda-6f26955e4aca\">\n",
              "    <div class=\"colab-df-container\">\n",
              "      <div>\n",
              "<style scoped>\n",
              "    .dataframe tbody tr th:only-of-type {\n",
              "        vertical-align: middle;\n",
              "    }\n",
              "\n",
              "    .dataframe tbody tr th {\n",
              "        vertical-align: top;\n",
              "    }\n",
              "\n",
              "    .dataframe thead th {\n",
              "        text-align: right;\n",
              "    }\n",
              "</style>\n",
              "<table border=\"1\" class=\"dataframe\">\n",
              "  <thead>\n",
              "    <tr style=\"text-align: right;\">\n",
              "      <th></th>\n",
              "      <th>Observed values</th>\n",
              "      <th>Predicted values</th>\n",
              "      <th>Lista preditos</th>\n",
              "    </tr>\n",
              "  </thead>\n",
              "  <tbody>\n",
              "    <tr>\n",
              "      <th>0</th>\n",
              "      <td>338</td>\n",
              "      <td>435.93</td>\n",
              "      <td>435.933655</td>\n",
              "    </tr>\n",
              "    <tr>\n",
              "      <th>1</th>\n",
              "      <td>692</td>\n",
              "      <td>1079.67</td>\n",
              "      <td>1079.670776</td>\n",
              "    </tr>\n",
              "    <tr>\n",
              "      <th>2</th>\n",
              "      <td>369</td>\n",
              "      <td>534.39</td>\n",
              "      <td>534.388062</td>\n",
              "    </tr>\n",
              "    <tr>\n",
              "      <th>3</th>\n",
              "      <td>175</td>\n",
              "      <td>220.82</td>\n",
              "      <td>220.816025</td>\n",
              "    </tr>\n",
              "    <tr>\n",
              "      <th>4</th>\n",
              "      <td>175</td>\n",
              "      <td>275.77</td>\n",
              "      <td>275.766724</td>\n",
              "    </tr>\n",
              "  </tbody>\n",
              "</table>\n",
              "</div>\n",
              "      <button class=\"colab-df-convert\" onclick=\"convertToInteractive('df-f3e78bf3-f4d2-499e-bdda-6f26955e4aca')\"\n",
              "              title=\"Convert this dataframe to an interactive table.\"\n",
              "              style=\"display:none;\">\n",
              "        \n",
              "  <svg xmlns=\"http://www.w3.org/2000/svg\" height=\"24px\"viewBox=\"0 0 24 24\"\n",
              "       width=\"24px\">\n",
              "    <path d=\"M0 0h24v24H0V0z\" fill=\"none\"/>\n",
              "    <path d=\"M18.56 5.44l.94 2.06.94-2.06 2.06-.94-2.06-.94-.94-2.06-.94 2.06-2.06.94zm-11 1L8.5 8.5l.94-2.06 2.06-.94-2.06-.94L8.5 2.5l-.94 2.06-2.06.94zm10 10l.94 2.06.94-2.06 2.06-.94-2.06-.94-.94-2.06-.94 2.06-2.06.94z\"/><path d=\"M17.41 7.96l-1.37-1.37c-.4-.4-.92-.59-1.43-.59-.52 0-1.04.2-1.43.59L10.3 9.45l-7.72 7.72c-.78.78-.78 2.05 0 2.83L4 21.41c.39.39.9.59 1.41.59.51 0 1.02-.2 1.41-.59l7.78-7.78 2.81-2.81c.8-.78.8-2.07 0-2.86zM5.41 20L4 18.59l7.72-7.72 1.47 1.35L5.41 20z\"/>\n",
              "  </svg>\n",
              "      </button>\n",
              "      \n",
              "  <style>\n",
              "    .colab-df-container {\n",
              "      display:flex;\n",
              "      flex-wrap:wrap;\n",
              "      gap: 12px;\n",
              "    }\n",
              "\n",
              "    .colab-df-convert {\n",
              "      background-color: #E8F0FE;\n",
              "      border: none;\n",
              "      border-radius: 50%;\n",
              "      cursor: pointer;\n",
              "      display: none;\n",
              "      fill: #1967D2;\n",
              "      height: 32px;\n",
              "      padding: 0 0 0 0;\n",
              "      width: 32px;\n",
              "    }\n",
              "\n",
              "    .colab-df-convert:hover {\n",
              "      background-color: #E2EBFA;\n",
              "      box-shadow: 0px 1px 2px rgba(60, 64, 67, 0.3), 0px 1px 3px 1px rgba(60, 64, 67, 0.15);\n",
              "      fill: #174EA6;\n",
              "    }\n",
              "\n",
              "    [theme=dark] .colab-df-convert {\n",
              "      background-color: #3B4455;\n",
              "      fill: #D2E3FC;\n",
              "    }\n",
              "\n",
              "    [theme=dark] .colab-df-convert:hover {\n",
              "      background-color: #434B5C;\n",
              "      box-shadow: 0px 1px 3px 1px rgba(0, 0, 0, 0.15);\n",
              "      filter: drop-shadow(0px 1px 2px rgba(0, 0, 0, 0.3));\n",
              "      fill: #FFFFFF;\n",
              "    }\n",
              "  </style>\n",
              "\n",
              "      <script>\n",
              "        const buttonEl =\n",
              "          document.querySelector('#df-f3e78bf3-f4d2-499e-bdda-6f26955e4aca button.colab-df-convert');\n",
              "        buttonEl.style.display =\n",
              "          google.colab.kernel.accessAllowed ? 'block' : 'none';\n",
              "\n",
              "        async function convertToInteractive(key) {\n",
              "          const element = document.querySelector('#df-f3e78bf3-f4d2-499e-bdda-6f26955e4aca');\n",
              "          const dataTable =\n",
              "            await google.colab.kernel.invokeFunction('convertToInteractive',\n",
              "                                                     [key], {});\n",
              "          if (!dataTable) return;\n",
              "\n",
              "          const docLinkHtml = 'Like what you see? Visit the ' +\n",
              "            '<a target=\"_blank\" href=https://colab.research.google.com/notebooks/data_table.ipynb>data table notebook</a>'\n",
              "            + ' to learn more about interactive tables.';\n",
              "          element.innerHTML = '';\n",
              "          dataTable['output_type'] = 'display_data';\n",
              "          await google.colab.output.renderOutput(dataTable, element);\n",
              "          const docLink = document.createElement('div');\n",
              "          docLink.innerHTML = docLinkHtml;\n",
              "          element.appendChild(docLink);\n",
              "        }\n",
              "      </script>\n",
              "    </div>\n",
              "  </div>\n",
              "  "
            ]
          },
          "metadata": {},
          "execution_count": 27
        }
      ]
    },
    {
      "cell_type": "markdown",
      "source": [
        "### Pearson Correlation Chart"
      ],
      "metadata": {
        "id": "Ja9ZV_UaObRF"
      }
    },
    {
      "cell_type": "code",
      "source": [
        "from scipy.stats.stats import spearmanr as spearman #importando a biblioteca para gráfico de correlação\n"
      ],
      "metadata": {
        "id": "wHNoZlqp_is6"
      },
      "execution_count": null,
      "outputs": []
    },
    {
      "cell_type": "code",
      "source": [
        "col1_obt = 0\n",
        "col2_prev = 1\n",
        "pear_pos_menor_erro = stats(df[df.columns[col1_obt]], df[df.columns[col2_prev]])\n",
        "#+++++++++++++++++++++++++++++++++++++++++++++++++++++++++++++++++++++++++++++++\n",
        "plt.figure(figsize=(15,15))\n",
        "sns.jointplot(\n",
        "    x=df.columns[col1_obt],\n",
        "    y=df.columns[col2_prev],\n",
        "    kind='reg',\n",
        "    data=df\n",
        ")\n",
        "\n",
        "\n",
        "# plt.legend([\n",
        "#     'p = ' + str(round(pear_pos[1], 5)) + '\\nR = ' + str(round(pear_pos[0], 5))])\n",
        "if pear_pos_menor_erro[1] < 0.01:\n",
        "  plt.legend(['p < ' + '0.01' + '\\nR = ' + str(round(pear_pos_menor_erro[0], 4))]) #calculando p e relse:\n",
        "else: \n",
        "  plt.legend(['p = ' + str(pear_pos_menor_erro[1]) + '\\nR = ' + str(round(pear_pos_menor_erro[0], 4))]) #calculando p e r"
      ],
      "metadata": {
        "colab": {
          "base_uri": "https://localhost:8080/",
          "height": 458
        },
        "id": "96EkGaIWcH7F",
        "outputId": "22c848aa-6056-4254-df08-5c5ebcbc0f43"
      },
      "execution_count": null,
      "outputs": [
        {
          "output_type": "display_data",
          "data": {
            "text/plain": [
              "<Figure size 1080x1080 with 0 Axes>"
            ]
          },
          "metadata": {}
        },
        {
          "output_type": "display_data",
          "data": {
            "text/plain": [
              "<Figure size 432x432 with 3 Axes>"
            ],
            "image/png": "[encoded data removed]"
          },
          "metadata": {
            "needs_background": "light"
          }
        }
      ]
    },
    {
      "cell_type": "code",
      "source": [
        ""
      ],
      "metadata": {
        "id": "Z_Q3rSwRtyJb"
      },
      "execution_count": null,
      "outputs": []
    }
  ]
}