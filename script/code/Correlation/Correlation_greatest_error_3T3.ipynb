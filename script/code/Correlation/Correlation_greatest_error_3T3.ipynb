{
 "cells": [
  {
   "cell_type": "code",
   "execution_count": 2,
   "metadata": {
    "id": "AUPjwgpRulYJ"
   },
   "outputs": [
    {
     "name": "stderr",
     "output_type": "stream",
     "text": [
      "2022-08-05 19:10:10.961671: W tensorflow/stream_executor/platform/default/dso_loader.cc:60] Could not load dynamic library 'libcudart.so.11.0'; dlerror: libcudart.so.11.0: cannot open shared object file: No such file or directory\n",
      "2022-08-05 19:10:10.962932: I tensorflow/stream_executor/cuda/cudart_stub.cc:29] Ignore above cudart dlerror if you do not have a GPU set up on your machine.\n"
     ]
    }
   ],
   "source": [
    "#gerar gráfico\n",
    "import matplotlib\n",
    "#estruturação dos dados\n",
    "import numpy as np\n",
    "#gerar gráfico\n",
    "import seaborn as sns\n",
    "#gerar gráfico\n",
    "import matplotlib.pyplot as plt\n",
    "#Carregar o modelo\n",
    "from keras.models import load_model\n",
    "#salvar/carregar arquivos em diferentes formatos\n",
    "import joblib"
   ]
  },
  {
   "cell_type": "code",
   "execution_count": 3,
   "metadata": {
    "colab": {
     "base_uri": "https://localhost:8080/"
    },
    "id": "XP3F4EGQus4v",
    "outputId": "c13407ee-9862-4629-a287-723227e98562"
   },
   "outputs": [
    {
     "name": "stderr",
     "output_type": "stream",
     "text": [
      "2022-08-05 19:10:15.965494: I tensorflow/compiler/jit/xla_cpu_device.cc:41] Not creating XLA devices, tf_xla_enable_xla_devices not set\n",
      "2022-08-05 19:10:15.966757: W tensorflow/stream_executor/platform/default/dso_loader.cc:60] Could not load dynamic library 'libcuda.so.1'; dlerror: libcuda.so.1: cannot open shared object file: No such file or directory\n",
      "2022-08-05 19:10:15.966817: W tensorflow/stream_executor/cuda/cuda_driver.cc:326] failed call to cuInit: UNKNOWN ERROR (303)\n",
      "2022-08-05 19:10:15.966891: I tensorflow/stream_executor/cuda/cuda_diagnostics.cc:156] kernel driver does not appear to be running on this host (a8bce4a08e2b): /proc/driver/nvidia/version does not exist\n",
      "2022-08-05 19:10:15.967406: I tensorflow/core/platform/cpu_feature_guard.cc:142] This TensorFlow binary is optimized with oneAPI Deep Neural Network Library (oneDNN) to use the following CPU instructions in performance-critical operations:  AVX2 FMA\n",
      "To enable them in other operations, rebuild TensorFlow with the appropriate compiler flags.\n",
      "2022-08-05 19:10:15.976553: I tensorflow/compiler/jit/xla_gpu_device.cc:99] Not creating XLA devices, tf_xla_enable_xla_devices not set\n"
     ]
    },
    {
     "data": {
      "text/plain": [
       "<tensorflow.python.keras.engine.sequential.Sequential at 0x7fb36876f810>"
      ]
     },
     "execution_count": 3,
     "metadata": {},
     "output_type": "execute_result"
    }
   ],
   "source": [
    "#Importando o modelo contendo os valores previstos para o número de células nas imagens\n",
    "modelo_maior_erro = load_model('/data/results/results_3T3/14_model__3T3_regressao_Maior_erro_Mean_squared_error_500_epochs_2022-6-30.h5')\n",
    "modelo_maior_erro"
   ]
  },
  {
   "cell_type": "code",
   "execution_count": 4,
   "metadata": {
    "colab": {
     "base_uri": "https://localhost:8080/"
    },
    "id": "lgz5bhulvCP9",
    "outputId": "b767235e-03bb-4c66-ff4f-4ccba9048f92"
   },
   "outputs": [
    {
     "data": {
      "text/plain": [
       "(71, 200, 200, 3)"
      ]
     },
     "execution_count": 4,
     "metadata": {},
     "output_type": "execute_result"
    }
   ],
   "source": [
    "#84 IMAGENS SEPARADAS RANDOMICAMENTE - 40% TESTE - 208 IMAGENS\n",
    "\n",
    "X_test_maior_erro = joblib.load('/data/results/results_3T3/15_images_de_X_test_3T3_PIOR_modelo_500_epochs2022-6-30.gz') #carregando arquivo\n",
    "X_test_maior_erro.shape"
   ]
  },
  {
   "cell_type": "code",
   "execution_count": 5,
   "metadata": {
    "colab": {
     "base_uri": "https://localhost:8080/"
    },
    "id": "eB1kdjY6vwfs",
    "outputId": "42b2216a-5cd7-4c7a-a8e2-4d5a3073f723"
   },
   "outputs": [
    {
     "data": {
      "text/plain": [
       "(71,)"
      ]
     },
     "execution_count": 5,
     "metadata": {},
     "output_type": "execute_result"
    }
   ],
   "source": [
    "#84 RÓTULOS\n",
    "\n",
    "y_test_maior_erro = joblib.load('/data/results/results_3T3/16_images_de_y_test_3T3_PIOR_modelo_500_epochs2022-6-30.gz') #carregando arquivo\n",
    "y_test_maior_erro.shape"
   ]
  },
  {
   "cell_type": "code",
   "execution_count": 6,
   "metadata": {
    "colab": {
     "base_uri": "https://localhost:8080/"
    },
    "id": "VDjv_M8dwLvl",
    "outputId": "8903f05e-c6ad-4327-c4c1-2e4f9e0b3a03"
   },
   "outputs": [
    {
     "data": {
      "text/plain": [
       "71"
      ]
     },
     "execution_count": 6,
     "metadata": {},
     "output_type": "execute_result"
    }
   ],
   "source": [
    "#ROTULOS SALVOS EM LISTA\n",
    "\n",
    "lista_observado_maior_erro = list(y_test_maior_erro)\n",
    "len(lista_observado_maior_erro)"
   ]
  },
  {
   "cell_type": "code",
   "execution_count": 7,
   "metadata": {
    "colab": {
     "base_uri": "https://localhost:8080/"
    },
    "id": "zc8K8E-9wbgy",
    "outputId": "12fb9f24-db22-4434-874c-f4a42795ed80"
   },
   "outputs": [
    {
     "name": "stderr",
     "output_type": "stream",
     "text": [
      "2022-08-05 19:10:16.989730: I tensorflow/compiler/mlir/mlir_graph_optimization_pass.cc:116] None of the MLIR optimization passes are enabled (registered 2)\n",
      "2022-08-05 19:10:16.993167: I tensorflow/core/platform/profile_utils/cpu_utils.cc:112] CPU Frequency: 1800005000 Hz\n",
      "2022-08-05 19:10:17.109366: W tensorflow/core/framework/cpu_allocator_impl.cc:80] Allocation of 15360000 exceeds 10% of free system memory.\n",
      "2022-08-05 19:10:17.127611: W tensorflow/core/framework/cpu_allocator_impl.cc:80] Allocation of 160579584 exceeds 10% of free system memory.\n",
      "2022-08-05 19:10:17.324469: W tensorflow/core/framework/cpu_allocator_impl.cc:80] Allocation of 40144896 exceeds 10% of free system memory.\n",
      "2022-08-05 19:10:17.363234: W tensorflow/core/framework/cpu_allocator_impl.cc:80] Allocation of 77078528 exceeds 10% of free system memory.\n",
      "2022-08-05 19:10:17.418530: W tensorflow/core/framework/cpu_allocator_impl.cc:80] Allocation of 18874368 exceeds 10% of free system memory.\n"
     ]
    },
    {
     "data": {
      "text/plain": [
       "71"
      ]
     },
     "execution_count": 7,
     "metadata": {},
     "output_type": "execute_result"
    }
   ],
   "source": [
    "#PREDIÇÃO SALVO EM LISTA\n",
    "\n",
    "dados_prev = modelo_maior_erro.predict(X_test_maior_erro)\n",
    "lista_previsto_maior_erro = dados_prev.flatten().tolist()\n",
    "len(lista_previsto_maior_erro)"
   ]
  },
  {
   "cell_type": "code",
   "execution_count": 8,
   "metadata": {
    "id": "-cc366gewtZf"
   },
   "outputs": [],
   "source": [
    "import pandas as pd\n",
    "from scipy.stats.stats import pearsonr as stats"
   ]
  },
  {
   "cell_type": "code",
   "execution_count": 9,
   "metadata": {
    "colab": {
     "base_uri": "https://localhost:8080/",
     "height": 206
    },
    "id": "i9BUwR-cwjuJ",
    "outputId": "4c0cf61c-f936-4783-8269-940b9d093564"
   },
   "outputs": [
    {
     "data": {
      "text/html": [
       "<div>\n",
       "<style scoped>\n",
       "    .dataframe tbody tr th:only-of-type {\n",
       "        vertical-align: middle;\n",
       "    }\n",
       "\n",
       "    .dataframe tbody tr th {\n",
       "        vertical-align: top;\n",
       "    }\n",
       "\n",
       "    .dataframe thead th {\n",
       "        text-align: right;\n",
       "    }\n",
       "</style>\n",
       "<table border=\"1\" class=\"dataframe\">\n",
       "  <thead>\n",
       "    <tr style=\"text-align: right;\">\n",
       "      <th></th>\n",
       "      <th>Observed values</th>\n",
       "      <th>Lista preditos</th>\n",
       "    </tr>\n",
       "  </thead>\n",
       "  <tbody>\n",
       "    <tr>\n",
       "      <th>0</th>\n",
       "      <td>610</td>\n",
       "      <td>235.107086</td>\n",
       "    </tr>\n",
       "    <tr>\n",
       "      <th>1</th>\n",
       "      <td>807</td>\n",
       "      <td>232.754639</td>\n",
       "    </tr>\n",
       "    <tr>\n",
       "      <th>2</th>\n",
       "      <td>734</td>\n",
       "      <td>237.473526</td>\n",
       "    </tr>\n",
       "    <tr>\n",
       "      <th>3</th>\n",
       "      <td>28</td>\n",
       "      <td>264.594879</td>\n",
       "    </tr>\n",
       "    <tr>\n",
       "      <th>4</th>\n",
       "      <td>259</td>\n",
       "      <td>216.330063</td>\n",
       "    </tr>\n",
       "  </tbody>\n",
       "</table>\n",
       "</div>"
      ],
      "text/plain": [
       "   Observed values  Lista preditos\n",
       "0              610      235.107086\n",
       "1              807      232.754639\n",
       "2              734      237.473526\n",
       "3               28      264.594879\n",
       "4              259      216.330063"
      ]
     },
     "execution_count": 9,
     "metadata": {},
     "output_type": "execute_result"
    }
   ],
   "source": [
    "#DATAFRAME - ORGANIZAÇÃO DAS LISTAS\n",
    "#COLUNA 1 ROTULO/ COLUNA 2 PREDITO\n",
    "\n",
    "df_maior_erro = pd.DataFrame(zip(lista_observado_maior_erro,lista_previsto_maior_erro), \n",
    "                             columns = ['Observed values','Lista preditos'])\n",
    "df_maior_erro.head()"
   ]
  },
  {
   "cell_type": "code",
   "execution_count": 10,
   "metadata": {
    "colab": {
     "base_uri": "https://localhost:8080/",
     "height": 206
    },
    "id": "i4M_y4gnwzmo",
    "outputId": "ac5d56eb-df9a-4556-d001-cb3773f4112c"
   },
   "outputs": [
    {
     "data": {
      "text/html": [
       "<div>\n",
       "<style scoped>\n",
       "    .dataframe tbody tr th:only-of-type {\n",
       "        vertical-align: middle;\n",
       "    }\n",
       "\n",
       "    .dataframe tbody tr th {\n",
       "        vertical-align: top;\n",
       "    }\n",
       "\n",
       "    .dataframe thead th {\n",
       "        text-align: right;\n",
       "    }\n",
       "</style>\n",
       "<table border=\"1\" class=\"dataframe\">\n",
       "  <thead>\n",
       "    <tr style=\"text-align: right;\">\n",
       "      <th></th>\n",
       "      <th>Observed values</th>\n",
       "      <th>Lista preditos</th>\n",
       "      <th>Predicted values</th>\n",
       "    </tr>\n",
       "  </thead>\n",
       "  <tbody>\n",
       "    <tr>\n",
       "      <th>0</th>\n",
       "      <td>610</td>\n",
       "      <td>235.107086</td>\n",
       "      <td>235.11</td>\n",
       "    </tr>\n",
       "    <tr>\n",
       "      <th>1</th>\n",
       "      <td>807</td>\n",
       "      <td>232.754639</td>\n",
       "      <td>232.75</td>\n",
       "    </tr>\n",
       "    <tr>\n",
       "      <th>2</th>\n",
       "      <td>734</td>\n",
       "      <td>237.473526</td>\n",
       "      <td>237.47</td>\n",
       "    </tr>\n",
       "    <tr>\n",
       "      <th>3</th>\n",
       "      <td>28</td>\n",
       "      <td>264.594879</td>\n",
       "      <td>264.59</td>\n",
       "    </tr>\n",
       "    <tr>\n",
       "      <th>4</th>\n",
       "      <td>259</td>\n",
       "      <td>216.330063</td>\n",
       "      <td>216.33</td>\n",
       "    </tr>\n",
       "  </tbody>\n",
       "</table>\n",
       "</div>"
      ],
      "text/plain": [
       "   Observed values  Lista preditos  Predicted values\n",
       "0              610      235.107086            235.11\n",
       "1              807      232.754639            232.75\n",
       "2              734      237.473526            237.47\n",
       "3               28      264.594879            264.59\n",
       "4              259      216.330063            216.33"
      ]
     },
     "execution_count": 10,
     "metadata": {},
     "output_type": "execute_result"
    }
   ],
   "source": [
    "#ARREDONDANDO O PREDITO ('lista preditos')\n",
    "\n",
    "teste = round(df_maior_erro['Lista preditos'],2)\n",
    "df_maior_erro['Predicted values'] = teste\n",
    "df_maior_erro.head()"
   ]
  },
  {
   "cell_type": "code",
   "execution_count": 11,
   "metadata": {
    "colab": {
     "base_uri": "https://localhost:8080/",
     "height": 206
    },
    "id": "JlSoU7KVw7tk",
    "outputId": "95eb2990-4d7d-4f1c-e545-a048b2482be8"
   },
   "outputs": [
    {
     "data": {
      "text/html": [
       "<div>\n",
       "<style scoped>\n",
       "    .dataframe tbody tr th:only-of-type {\n",
       "        vertical-align: middle;\n",
       "    }\n",
       "\n",
       "    .dataframe tbody tr th {\n",
       "        vertical-align: top;\n",
       "    }\n",
       "\n",
       "    .dataframe thead th {\n",
       "        text-align: right;\n",
       "    }\n",
       "</style>\n",
       "<table border=\"1\" class=\"dataframe\">\n",
       "  <thead>\n",
       "    <tr style=\"text-align: right;\">\n",
       "      <th></th>\n",
       "      <th>Observed values</th>\n",
       "      <th>Predicted values</th>\n",
       "      <th>Lista preditos</th>\n",
       "    </tr>\n",
       "  </thead>\n",
       "  <tbody>\n",
       "    <tr>\n",
       "      <th>0</th>\n",
       "      <td>610</td>\n",
       "      <td>235.11</td>\n",
       "      <td>235.107086</td>\n",
       "    </tr>\n",
       "    <tr>\n",
       "      <th>1</th>\n",
       "      <td>807</td>\n",
       "      <td>232.75</td>\n",
       "      <td>232.754639</td>\n",
       "    </tr>\n",
       "    <tr>\n",
       "      <th>2</th>\n",
       "      <td>734</td>\n",
       "      <td>237.47</td>\n",
       "      <td>237.473526</td>\n",
       "    </tr>\n",
       "    <tr>\n",
       "      <th>3</th>\n",
       "      <td>28</td>\n",
       "      <td>264.59</td>\n",
       "      <td>264.594879</td>\n",
       "    </tr>\n",
       "    <tr>\n",
       "      <th>4</th>\n",
       "      <td>259</td>\n",
       "      <td>216.33</td>\n",
       "      <td>216.330063</td>\n",
       "    </tr>\n",
       "  </tbody>\n",
       "</table>\n",
       "</div>"
      ],
      "text/plain": [
       "   Observed values  Predicted values  Lista preditos\n",
       "0              610            235.11      235.107086\n",
       "1              807            232.75      232.754639\n",
       "2              734            237.47      237.473526\n",
       "3               28            264.59      264.594879\n",
       "4              259            216.33      216.330063"
      ]
     },
     "execution_count": 11,
     "metadata": {},
     "output_type": "execute_result"
    }
   ],
   "source": [
    "#REORGANIZANDO AS COLUNAS\n",
    "\n",
    "df_maior_erro = df_maior_erro.reindex(columns=['Observed values','Predicted values','Lista preditos'])\n",
    "df_maior_erro.head()"
   ]
  },
  {
   "cell_type": "code",
   "execution_count": 12,
   "metadata": {
    "id": "9rxCX7DExHQL"
   },
   "outputs": [],
   "source": [
    "#BIBLIOTECA CORRELAÇÃO\n",
    "from scipy.stats.stats import spearmanr as spearman #importando a biblioteca para gráfico de correlação"
   ]
  },
  {
   "cell_type": "code",
   "execution_count": 13,
   "metadata": {
    "id": "z4KJPtNaxM_l"
   },
   "outputs": [],
   "source": [
    "#CALCULO DE CORRELAÇÃO\n",
    "\n",
    "col1_obt = 0 #Observed value\n",
    "col2_prev = 1 #Predicted values\n",
    "pear_pos_maior_erro = stats(df_maior_erro[df_maior_erro.columns[col1_obt]], \n",
    "                            df_maior_erro[df_maior_erro.columns[col2_prev]])"
   ]
  },
  {
   "cell_type": "code",
   "execution_count": 14,
   "metadata": {
    "colab": {
     "base_uri": "https://localhost:8080/",
     "height": 458
    },
    "id": "Gl6bt9XsxWSc",
    "outputId": "a97eeb71-a734-47c3-c837-aad720e71cb1"
   },
   "outputs": [
    {
     "data": {
      "text/plain": [
       "<Figure size 1080x1080 with 0 Axes>"
      ]
     },
     "metadata": {},
     "output_type": "display_data"
    },
    {
     "data": {
      "image/png": "[encoded data removed]",
      "text/plain": [
       "<Figure size 432x432 with 3 Axes>"
      ]
     },
     "metadata": {
      "needs_background": "light"
     },
     "output_type": "display_data"
    }
   ],
   "source": [
    "plt.figure(figsize=(15,15))\n",
    "sns.jointplot(\n",
    "    x=df_maior_erro.columns[col1_obt],\n",
    "    y=df_maior_erro.columns[col2_prev],\n",
    "    kind='reg',\n",
    "    data=df_maior_erro#[df_maior_erro['Lista observado'] > 300]\n",
    ")\n",
    "\n",
    "if pear_pos_maior_erro[1] < 0.01:\n",
    "  plt.legend(['p < ' + '0.01' + '\\nR = ' + str(round(pear_pos_maior_erro[0], 4))]) #calculando p e relse:\n",
    "else: \n",
    "  plt.legend(['p = ' + str(round(pear_pos_maior_erro[1],4)) + '\\nR = ' + str(round(pear_pos_maior_erro[0], 4))]) #calculando p e r\n",
    "\n",
    "plt.savefig(\n",
    "    fname=\"/results/Correlation_greatest_error_3T3.png\", #pasta e nome do arquivo onde vai ser salvo\n",
    "    bbox_inches='tight', #função que deixa o gráfico mais próxima da margem\n",
    "    dpi=150, #numero de pixels da imagem?\n",
    "    transparent=True #deixar o gráfico transparente\n",
    ")"
   ]
  },
  {
   "cell_type": "code",
   "execution_count": null,
   "metadata": {},
   "outputs": [],
   "source": []
  }
 ],
 "metadata": {
  "colab": {
   "authorship_tag": "ABX9TyPrCDJ9Oejt8f4S1Dn8mZBm",
   "include_colab_link": true,
   "mount_file_id": "191hS05KuBKZdfU1aOsizI3N9ocY0j6dl",
   "name": "Correlation_greatest_error_3T3.ipynb",
   "provenance": []
  },
  "kernelspec": {
   "display_name": "Python 3 (ipykernel)",
   "language": "python",
   "name": "python3"
  },
  "language_info": {
   "codemirror_mode": {
    "name": "ipython",
    "version": 3
   },
   "file_extension": ".py",
   "mimetype": "text/x-python",
   "name": "python",
   "nbconvert_exporter": "python",
   "pygments_lexer": "ipython3",
   "version": "3.7.9"
  }
 },
 "nbformat": 4,
 "nbformat_minor": 4
}
