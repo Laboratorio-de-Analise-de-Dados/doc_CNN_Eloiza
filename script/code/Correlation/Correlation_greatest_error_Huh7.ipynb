{
 "cells": [
  {
   "cell_type": "code",
   "execution_count": 1,
   "metadata": {
    "id": "TXJmew75VE1p"
   },
   "outputs": [
    {
     "name": "stderr",
     "output_type": "stream",
     "text": [
      "2022-08-05 19:03:17.455468: W tensorflow/stream_executor/platform/default/dso_loader.cc:60] Could not load dynamic library 'libcudart.so.11.0'; dlerror: libcudart.so.11.0: cannot open shared object file: No such file or directory\n",
      "2022-08-05 19:03:17.455690: I tensorflow/stream_executor/cuda/cudart_stub.cc:29] Ignore above cudart dlerror if you do not have a GPU set up on your machine.\n"
     ]
    }
   ],
   "source": [
    "#gerar gráfico\n",
    "import matplotlib\n",
    "#estruturação dos dados\n",
    "import numpy as np\n",
    "#gerar gráfico\n",
    "import seaborn as sns\n",
    "#gerar gráfico\n",
    "import matplotlib.pyplot as plt\n",
    "#Carregar o modelo\n",
    "from keras.models import load_model\n",
    "#salvar/carregar arquivos em diferentes formatos\n",
    "import joblib"
   ]
  },
  {
   "cell_type": "code",
   "execution_count": 2,
   "metadata": {
    "id": "4BLmTEb1ju55"
   },
   "outputs": [],
   "source": [
    "#Biblioteca para carregar o modelo de regressão\n",
    "from keras.models import load_model"
   ]
  },
  {
   "cell_type": "code",
   "execution_count": 3,
   "metadata": {
    "colab": {
     "base_uri": "https://localhost:8080/"
    },
    "id": "-4OCSR-bbpeg",
    "outputId": "6a154b74-7b44-47d6-99ad-2fcea9fecff5"
   },
   "outputs": [
    {
     "name": "stderr",
     "output_type": "stream",
     "text": [
      "2022-08-05 19:05:01.842038: I tensorflow/compiler/jit/xla_cpu_device.cc:41] Not creating XLA devices, tf_xla_enable_xla_devices not set\n",
      "2022-08-05 19:05:01.842449: W tensorflow/stream_executor/platform/default/dso_loader.cc:60] Could not load dynamic library 'libcuda.so.1'; dlerror: libcuda.so.1: cannot open shared object file: No such file or directory\n",
      "2022-08-05 19:05:01.842485: W tensorflow/stream_executor/cuda/cuda_driver.cc:326] failed call to cuInit: UNKNOWN ERROR (303)\n",
      "2022-08-05 19:05:01.842510: I tensorflow/stream_executor/cuda/cuda_diagnostics.cc:156] kernel driver does not appear to be running on this host (a8bce4a08e2b): /proc/driver/nvidia/version does not exist\n",
      "2022-08-05 19:05:01.842895: I tensorflow/core/platform/cpu_feature_guard.cc:142] This TensorFlow binary is optimized with oneAPI Deep Neural Network Library (oneDNN) to use the following CPU instructions in performance-critical operations:  AVX2 FMA\n",
      "To enable them in other operations, rebuild TensorFlow with the appropriate compiler flags.\n",
      "2022-08-05 19:05:01.844562: I tensorflow/compiler/jit/xla_gpu_device.cc:99] Not creating XLA devices, tf_xla_enable_xla_devices not set\n"
     ]
    },
    {
     "data": {
      "text/plain": [
       "<tensorflow.python.keras.engine.sequential.Sequential at 0x7f733e4c3dd0>"
      ]
     },
     "execution_count": 3,
     "metadata": {},
     "output_type": "execute_result"
    }
   ],
   "source": [
    "#Importando o modelo contendo os valores previstos para o número de células nas imagens\n",
    "modelo_maior_erro = load_model('./../../results/results_Huh7/14_model__huh7_regressao_MAIOR_erro_Mean_squared_error_500_epochs2022-6-30.h5')\n",
    "modelo_maior_erro"
   ]
  },
  {
   "cell_type": "code",
   "execution_count": 5,
   "metadata": {
    "colab": {
     "base_uri": "https://localhost:8080/"
    },
    "id": "XMDcgYKscf72",
    "outputId": "e642c9fa-f260-45ce-e43a-2aa8d4eb2029"
   },
   "outputs": [
    {
     "data": {
      "text/plain": [
       "(71, 200, 200, 3)"
      ]
     },
     "execution_count": 5,
     "metadata": {},
     "output_type": "execute_result"
    }
   ],
   "source": [
    "#71 IMAGENS SEPARADAS RANDOMICAMENTE - 40% TESTE\n",
    "\n",
    "X_test_maior_erro = joblib.load('./../../results/results_Huh7/15_images_de_X_test_huh7_PIOR_modelo_500_epochs_2022-6-30.gz')\n",
    "X_test_maior_erro.shape"
   ]
  },
  {
   "cell_type": "code",
   "execution_count": 6,
   "metadata": {
    "colab": {
     "base_uri": "https://localhost:8080/"
    },
    "id": "LhmqZjo4dBXg",
    "outputId": "084fafd3-d200-4ae3-aa71-ff5039d6917d"
   },
   "outputs": [
    {
     "data": {
      "text/plain": [
       "(71,)"
      ]
     },
     "execution_count": 6,
     "metadata": {},
     "output_type": "execute_result"
    }
   ],
   "source": [
    "#71 ROTULOS IMAGENS EM X\n",
    "\n",
    "y_test_maior_erro = joblib.load('./../../results/results_Huh7/16_images_de_y_test_huh7_PIOR_modelo_500_epochs_2022-6-30.gz') #carregando arquivo\n",
    "y_test_maior_erro.shape"
   ]
  },
  {
   "cell_type": "code",
   "execution_count": 7,
   "metadata": {
    "colab": {
     "base_uri": "https://localhost:8080/"
    },
    "id": "VM2454n6dWUZ",
    "outputId": "ba322a12-1052-4870-bbcc-e7ad24f51472"
   },
   "outputs": [
    {
     "data": {
      "text/plain": [
       "71"
      ]
     },
     "execution_count": 7,
     "metadata": {},
     "output_type": "execute_result"
    }
   ],
   "source": [
    "#ROTULOS SALVOS EM LISTA\n",
    "\n",
    "lista_observado_maior_erro = list(y_test_maior_erro)\n",
    "len(lista_observado_maior_erro)"
   ]
  },
  {
   "cell_type": "code",
   "execution_count": 8,
   "metadata": {
    "colab": {
     "base_uri": "https://localhost:8080/"
    },
    "id": "wMzGxq4ydib5",
    "outputId": "ae6de183-40eb-481f-8b84-e57668a7fa24"
   },
   "outputs": [
    {
     "name": "stderr",
     "output_type": "stream",
     "text": [
      "2022-08-05 19:05:15.388550: I tensorflow/compiler/mlir/mlir_graph_optimization_pass.cc:116] None of the MLIR optimization passes are enabled (registered 2)\n",
      "2022-08-05 19:05:15.389133: I tensorflow/core/platform/profile_utils/cpu_utils.cc:112] CPU Frequency: 1800005000 Hz\n",
      "2022-08-05 19:05:15.954998: W tensorflow/core/framework/cpu_allocator_impl.cc:80] Allocation of 15360000 exceeds 10% of free system memory.\n",
      "2022-08-05 19:05:15.989861: W tensorflow/core/framework/cpu_allocator_impl.cc:80] Allocation of 160579584 exceeds 10% of free system memory.\n",
      "2022-08-05 19:05:19.521047: W tensorflow/core/framework/cpu_allocator_impl.cc:80] Allocation of 40144896 exceeds 10% of free system memory.\n",
      "2022-08-05 19:05:19.642183: W tensorflow/core/framework/cpu_allocator_impl.cc:80] Allocation of 77078528 exceeds 10% of free system memory.\n",
      "2022-08-05 19:05:19.706721: W tensorflow/core/framework/cpu_allocator_impl.cc:80] Allocation of 18874368 exceeds 10% of free system memory.\n"
     ]
    },
    {
     "data": {
      "text/plain": [
       "71"
      ]
     },
     "execution_count": 8,
     "metadata": {},
     "output_type": "execute_result"
    }
   ],
   "source": [
    "#PREDIÇÃO SALVO EM LISTA\n",
    "\n",
    "dados_prev = modelo_maior_erro.predict(X_test_maior_erro)\n",
    "lista_previsto_maior_erro = dados_prev.flatten().tolist()\n",
    "len(lista_previsto_maior_erro)"
   ]
  },
  {
   "cell_type": "code",
   "execution_count": 9,
   "metadata": {
    "id": "-NUVIIuNcUv-"
   },
   "outputs": [],
   "source": [
    "import pandas as pd\n",
    "from scipy.stats.stats import pearsonr as stats"
   ]
  },
  {
   "cell_type": "code",
   "execution_count": 10,
   "metadata": {
    "colab": {
     "base_uri": "https://localhost:8080/",
     "height": 206
    },
    "id": "cY_u7ULhdvUH",
    "outputId": "acb38768-5c57-4551-b972-01b6486dc189"
   },
   "outputs": [
    {
     "data": {
      "text/html": [
       "<div>\n",
       "<style scoped>\n",
       "    .dataframe tbody tr th:only-of-type {\n",
       "        vertical-align: middle;\n",
       "    }\n",
       "\n",
       "    .dataframe tbody tr th {\n",
       "        vertical-align: top;\n",
       "    }\n",
       "\n",
       "    .dataframe thead th {\n",
       "        text-align: right;\n",
       "    }\n",
       "</style>\n",
       "<table border=\"1\" class=\"dataframe\">\n",
       "  <thead>\n",
       "    <tr style=\"text-align: right;\">\n",
       "      <th></th>\n",
       "      <th>Observed values</th>\n",
       "      <th>Lista preditos</th>\n",
       "    </tr>\n",
       "  </thead>\n",
       "  <tbody>\n",
       "    <tr>\n",
       "      <th>0</th>\n",
       "      <td>802</td>\n",
       "      <td>660.683960</td>\n",
       "    </tr>\n",
       "    <tr>\n",
       "      <th>1</th>\n",
       "      <td>745</td>\n",
       "      <td>799.404968</td>\n",
       "    </tr>\n",
       "    <tr>\n",
       "      <th>2</th>\n",
       "      <td>705</td>\n",
       "      <td>668.700317</td>\n",
       "    </tr>\n",
       "    <tr>\n",
       "      <th>3</th>\n",
       "      <td>721</td>\n",
       "      <td>695.312378</td>\n",
       "    </tr>\n",
       "    <tr>\n",
       "      <th>4</th>\n",
       "      <td>332</td>\n",
       "      <td>640.765869</td>\n",
       "    </tr>\n",
       "  </tbody>\n",
       "</table>\n",
       "</div>"
      ],
      "text/plain": [
       "   Observed values  Lista preditos\n",
       "0              802      660.683960\n",
       "1              745      799.404968\n",
       "2              705      668.700317\n",
       "3              721      695.312378\n",
       "4              332      640.765869"
      ]
     },
     "execution_count": 10,
     "metadata": {},
     "output_type": "execute_result"
    }
   ],
   "source": [
    "#DATAFRAME - ORGANIZAÇÃO DAS LISTAS\n",
    "#COLUNA 1 ROTULO/ COLUNA 2 PREDITO\n",
    "\n",
    "df_maior_erro = pd.DataFrame(zip(lista_observado_maior_erro,lista_previsto_maior_erro), \n",
    "                             columns = ['Observed values','Lista preditos'])\n",
    "df_maior_erro.head()"
   ]
  },
  {
   "cell_type": "code",
   "execution_count": 11,
   "metadata": {
    "colab": {
     "base_uri": "https://localhost:8080/",
     "height": 206
    },
    "id": "sr47sy5Ud_gt",
    "outputId": "fa34f517-c344-4518-effc-ef0a2cc8f283"
   },
   "outputs": [
    {
     "data": {
      "text/html": [
       "<div>\n",
       "<style scoped>\n",
       "    .dataframe tbody tr th:only-of-type {\n",
       "        vertical-align: middle;\n",
       "    }\n",
       "\n",
       "    .dataframe tbody tr th {\n",
       "        vertical-align: top;\n",
       "    }\n",
       "\n",
       "    .dataframe thead th {\n",
       "        text-align: right;\n",
       "    }\n",
       "</style>\n",
       "<table border=\"1\" class=\"dataframe\">\n",
       "  <thead>\n",
       "    <tr style=\"text-align: right;\">\n",
       "      <th></th>\n",
       "      <th>Observed values</th>\n",
       "      <th>Lista preditos</th>\n",
       "      <th>Predicted values</th>\n",
       "    </tr>\n",
       "  </thead>\n",
       "  <tbody>\n",
       "    <tr>\n",
       "      <th>0</th>\n",
       "      <td>802</td>\n",
       "      <td>660.683960</td>\n",
       "      <td>660.68</td>\n",
       "    </tr>\n",
       "    <tr>\n",
       "      <th>1</th>\n",
       "      <td>745</td>\n",
       "      <td>799.404968</td>\n",
       "      <td>799.40</td>\n",
       "    </tr>\n",
       "    <tr>\n",
       "      <th>2</th>\n",
       "      <td>705</td>\n",
       "      <td>668.700317</td>\n",
       "      <td>668.70</td>\n",
       "    </tr>\n",
       "    <tr>\n",
       "      <th>3</th>\n",
       "      <td>721</td>\n",
       "      <td>695.312378</td>\n",
       "      <td>695.31</td>\n",
       "    </tr>\n",
       "    <tr>\n",
       "      <th>4</th>\n",
       "      <td>332</td>\n",
       "      <td>640.765869</td>\n",
       "      <td>640.77</td>\n",
       "    </tr>\n",
       "  </tbody>\n",
       "</table>\n",
       "</div>"
      ],
      "text/plain": [
       "   Observed values  Lista preditos  Predicted values\n",
       "0              802      660.683960            660.68\n",
       "1              745      799.404968            799.40\n",
       "2              705      668.700317            668.70\n",
       "3              721      695.312378            695.31\n",
       "4              332      640.765869            640.77"
      ]
     },
     "execution_count": 11,
     "metadata": {},
     "output_type": "execute_result"
    }
   ],
   "source": [
    "#ARREDONDANDO O PREDITO ('lista preditos')\n",
    "\n",
    "teste = round(df_maior_erro['Lista preditos'],2)\n",
    "df_maior_erro['Predicted values'] = teste\n",
    "df_maior_erro.head()"
   ]
  },
  {
   "cell_type": "code",
   "execution_count": 12,
   "metadata": {
    "colab": {
     "base_uri": "https://localhost:8080/",
     "height": 206
    },
    "id": "qme2IEUCeHpF",
    "outputId": "d95dd646-2eab-44c1-b498-82423fa2b704"
   },
   "outputs": [
    {
     "data": {
      "text/html": [
       "<div>\n",
       "<style scoped>\n",
       "    .dataframe tbody tr th:only-of-type {\n",
       "        vertical-align: middle;\n",
       "    }\n",
       "\n",
       "    .dataframe tbody tr th {\n",
       "        vertical-align: top;\n",
       "    }\n",
       "\n",
       "    .dataframe thead th {\n",
       "        text-align: right;\n",
       "    }\n",
       "</style>\n",
       "<table border=\"1\" class=\"dataframe\">\n",
       "  <thead>\n",
       "    <tr style=\"text-align: right;\">\n",
       "      <th></th>\n",
       "      <th>Observed values</th>\n",
       "      <th>Predicted values</th>\n",
       "      <th>Lista preditos</th>\n",
       "    </tr>\n",
       "  </thead>\n",
       "  <tbody>\n",
       "    <tr>\n",
       "      <th>0</th>\n",
       "      <td>802</td>\n",
       "      <td>660.68</td>\n",
       "      <td>660.683960</td>\n",
       "    </tr>\n",
       "    <tr>\n",
       "      <th>1</th>\n",
       "      <td>745</td>\n",
       "      <td>799.40</td>\n",
       "      <td>799.404968</td>\n",
       "    </tr>\n",
       "    <tr>\n",
       "      <th>2</th>\n",
       "      <td>705</td>\n",
       "      <td>668.70</td>\n",
       "      <td>668.700317</td>\n",
       "    </tr>\n",
       "    <tr>\n",
       "      <th>3</th>\n",
       "      <td>721</td>\n",
       "      <td>695.31</td>\n",
       "      <td>695.312378</td>\n",
       "    </tr>\n",
       "    <tr>\n",
       "      <th>4</th>\n",
       "      <td>332</td>\n",
       "      <td>640.77</td>\n",
       "      <td>640.765869</td>\n",
       "    </tr>\n",
       "  </tbody>\n",
       "</table>\n",
       "</div>"
      ],
      "text/plain": [
       "   Observed values  Predicted values  Lista preditos\n",
       "0              802            660.68      660.683960\n",
       "1              745            799.40      799.404968\n",
       "2              705            668.70      668.700317\n",
       "3              721            695.31      695.312378\n",
       "4              332            640.77      640.765869"
      ]
     },
     "execution_count": 12,
     "metadata": {},
     "output_type": "execute_result"
    }
   ],
   "source": [
    "#REORGANIZANDO AS COLUNAS\n",
    "\n",
    "df_maior_erro = df_maior_erro.reindex(columns=['Observed values','Predicted values','Lista preditos'])\n",
    "df_maior_erro.head()"
   ]
  },
  {
   "cell_type": "code",
   "execution_count": 13,
   "metadata": {
    "id": "_uxVanSEedFO"
   },
   "outputs": [],
   "source": [
    "#BIBLIOTECA CORRELAÇÃO\n",
    "from scipy.stats.stats import spearmanr as spearman #importando a biblioteca para gráfico de correlação"
   ]
  },
  {
   "cell_type": "code",
   "execution_count": 14,
   "metadata": {
    "id": "uKJ8xElBeVUf"
   },
   "outputs": [],
   "source": [
    "#CALCULO DE CORRELAÇÃO\n",
    "\n",
    "col1_obt = 0 #Observed value\n",
    "col2_prev = 1 #Predicted values\n",
    "pear_pos_maior_erro = stats(df_maior_erro[df_maior_erro.columns[col1_obt]], \n",
    "                            df_maior_erro[df_maior_erro.columns[col2_prev]])"
   ]
  },
  {
   "cell_type": "code",
   "execution_count": 15,
   "metadata": {
    "colab": {
     "base_uri": "https://localhost:8080/",
     "height": 476
    },
    "id": "hggaXplfeq9D",
    "outputId": "8ed7c6a2-72e8-4744-eb2c-0abb26fba2f2"
   },
   "outputs": [
    {
     "name": "stderr",
     "output_type": "stream",
     "text": [
      "No artists with labels found to put in legend.  Note that artists whose label start with an underscore are ignored when legend() is called with no argument.\n"
     ]
    },
    {
     "data": {
      "text/plain": [
       "<Figure size 1080x1080 with 0 Axes>"
      ]
     },
     "metadata": {},
     "output_type": "display_data"
    },
    {
     "data": {
      "image/png": "[encoded data removed]",
      "text/plain": [
       "<Figure size 432x432 with 3 Axes>"
      ]
     },
     "metadata": {
      "needs_background": "light"
     },
     "output_type": "display_data"
    }
   ],
   "source": [
    "#GRAFICO CORRELAÇÃO\n",
    "\n",
    "plt.figure(figsize=(15,15))\n",
    "sns.jointplot(\n",
    "    x=df_maior_erro.columns[col1_obt],\n",
    "    y=df_maior_erro.columns[col2_prev],\n",
    "    kind='reg',\n",
    "    data=df_maior_erro#[df_maior_erro['Lista observado'] > 300]\n",
    ")\n",
    "\n",
    "plt.legend(loc='upper right')\n",
    "\n",
    "if pear_pos_maior_erro[1] < 0.01:\n",
    "  plt.legend(['p < ' + '0.01' + '\\nR = ' + str(round(pear_pos_maior_erro[0], 4))]) #calculando p e relse:\n",
    "else: \n",
    "  plt.legend(['p = ' + str(pear_pos_maior_erro[1]) + '\\nR = ' + str(round(pear_pos_maior_erro[0], 4))]) #calculando p e r"
   ]
  },
  {
   "cell_type": "code",
   "execution_count": null,
   "metadata": {},
   "outputs": [],
   "source": []
  }
 ],
 "metadata": {
  "colab": {
   "authorship_tag": "ABX9TyMK36Duf+SPfu4/AxPdDo7e",
   "mount_file_id": "1n5cn9Uq3Moo9Bufv1iEZPYBUA5kG1xS1",
   "name": "Correlation_greatest_error_Huh7.ipynb",
   "provenance": []
  },
  "kernelspec": {
   "display_name": "Python 3 (ipykernel)",
   "language": "python",
   "name": "python3"
  },
  "language_info": {
   "codemirror_mode": {
    "name": "ipython",
    "version": 3
   },
   "file_extension": ".py",
   "mimetype": "text/x-python",
   "name": "python",
   "nbconvert_exporter": "python",
   "pygments_lexer": "ipython3",
   "version": "3.7.9"
  }
 },
 "nbformat": 4,
 "nbformat_minor": 4
}
