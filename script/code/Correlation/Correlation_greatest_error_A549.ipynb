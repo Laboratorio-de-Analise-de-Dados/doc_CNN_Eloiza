{
 "cells": [
  {
   "cell_type": "code",
   "execution_count": 1,
   "metadata": {
    "id": "Ry2Jqlcwirrw"
   },
   "outputs": [
    {
     "name": "stderr",
     "output_type": "stream",
     "text": [
      "2022-08-08 17:31:32.826355: W tensorflow/stream_executor/platform/default/dso_loader.cc:60] Could not load dynamic library 'libcudart.so.11.0'; dlerror: libcudart.so.11.0: cannot open shared object file: No such file or directory\n",
      "2022-08-08 17:31:32.829412: I tensorflow/stream_executor/cuda/cudart_stub.cc:29] Ignore above cudart dlerror if you do not have a GPU set up on your machine.\n"
     ]
    }
   ],
   "source": [
    "#estruturação dos dados\n",
    "import numpy as np\n",
    "#gerar gráfico\n",
    "import seaborn as sns\n",
    "#gerar gráfico\n",
    "import matplotlib.pyplot as plt\n",
    "#Carregar o modelo\n",
    "from keras.models import load_model\n",
    "#salvar/carregar arquivos em diferentes formatos\n",
    "import joblib\n",
    "\n"
   ]
  },
  {
   "cell_type": "code",
   "execution_count": 2,
   "metadata": {
    "colab": {
     "base_uri": "https://localhost:8080/"
    },
    "id": "01nGupwji3Iv",
    "outputId": "4976499c-c98b-47c2-ec6c-ada0849a343e"
   },
   "outputs": [
    {
     "name": "stderr",
     "output_type": "stream",
     "text": [
      "2022-08-08 17:31:46.050155: I tensorflow/compiler/jit/xla_cpu_device.cc:41] Not creating XLA devices, tf_xla_enable_xla_devices not set\n",
      "2022-08-08 17:31:46.054858: W tensorflow/stream_executor/platform/default/dso_loader.cc:60] Could not load dynamic library 'libcuda.so.1'; dlerror: libcuda.so.1: cannot open shared object file: No such file or directory\n",
      "2022-08-08 17:31:46.055258: W tensorflow/stream_executor/cuda/cuda_driver.cc:326] failed call to cuInit: UNKNOWN ERROR (303)\n",
      "2022-08-08 17:31:46.056698: I tensorflow/stream_executor/cuda/cuda_diagnostics.cc:156] kernel driver does not appear to be running on this host (a8bce4a08e2b): /proc/driver/nvidia/version does not exist\n",
      "2022-08-08 17:31:46.065544: I tensorflow/core/platform/cpu_feature_guard.cc:142] This TensorFlow binary is optimized with oneAPI Deep Neural Network Library (oneDNN) to use the following CPU instructions in performance-critical operations:  AVX2 FMA\n",
      "To enable them in other operations, rebuild TensorFlow with the appropriate compiler flags.\n",
      "2022-08-08 17:31:46.109156: I tensorflow/compiler/jit/xla_gpu_device.cc:99] Not creating XLA devices, tf_xla_enable_xla_devices not set\n"
     ]
    },
    {
     "data": {
      "text/plain": [
       "<tensorflow.python.keras.engine.sequential.Sequential at 0x7f584f5a2410>"
      ]
     },
     "execution_count": 2,
     "metadata": {},
     "output_type": "execute_result"
    }
   ],
   "source": [
    "#Importando o modelo contendo os valores previstos para o número de células nas imagens\n",
    "\n",
    "modelo_maior_erro = load_model('/data/results/results_A549/14_model__A549_regressao_maior_erro_18_PACIEN_500_2022-6-29.h5')\n",
    "modelo_maior_erro"
   ]
  },
  {
   "cell_type": "code",
   "execution_count": 3,
   "metadata": {
    "colab": {
     "base_uri": "https://localhost:8080/"
    },
    "id": "kVVM_ycIi9jU",
    "outputId": "8ab30b77-4a96-4aa9-e632-583be8b9e3fe"
   },
   "outputs": [
    {
     "data": {
      "text/plain": [
       "(71, 200, 200, 3)"
      ]
     },
     "execution_count": 3,
     "metadata": {},
     "output_type": "execute_result"
    }
   ],
   "source": [
    "#71 IMAGENS SEPARADAS RANDOMICAMENTE - 40% TESTE\n",
    "X_test_maior_erro = joblib.load('/data/results/results_A549/15_images_de_X_test_a549_pior_modelo_18_PACIENCE_500_2022-6-29.gz') #carregando arquivo\n",
    "X_test_maior_erro.shape"
   ]
  },
  {
   "cell_type": "code",
   "execution_count": 7,
   "metadata": {
    "colab": {
     "base_uri": "https://localhost:8080/"
    },
    "id": "H0keoNL6jBbm",
    "outputId": "2bf3b89d-c572-41d8-aabd-5ba6f8aac8e7"
   },
   "outputs": [
    {
     "data": {
      "text/plain": [
       "(71,)"
      ]
     },
     "execution_count": 7,
     "metadata": {},
     "output_type": "execute_result"
    }
   ],
   "source": [
    "#71 ROTULOS IMAGENS EM X\n",
    "y_test_maior_erro = joblib.load('/data/results/results_A549/16_images_de_y_test_a549_pior_modelo_18_PACIENCE_500_2022-6-29.gz') #carregando arquivo\n",
    "y_test_maior_erro.shape"
   ]
  },
  {
   "cell_type": "code",
   "execution_count": 8,
   "metadata": {
    "colab": {
     "base_uri": "https://localhost:8080/"
    },
    "id": "qmwtmgbJjSK1",
    "outputId": "b8f6c195-5fd2-4265-83ad-681172af730b"
   },
   "outputs": [
    {
     "data": {
      "text/plain": [
       "71"
      ]
     },
     "execution_count": 8,
     "metadata": {},
     "output_type": "execute_result"
    }
   ],
   "source": [
    "#ROTULOS SALVOS EM LISTA\n",
    "lista_observado_maior_erro = list(y_test_maior_erro)\n",
    "len(lista_observado_maior_erro)"
   ]
  },
  {
   "cell_type": "code",
   "execution_count": 9,
   "metadata": {
    "colab": {
     "base_uri": "https://localhost:8080/"
    },
    "id": "X55hvgVCjYUh",
    "outputId": "76585434-f48c-4f42-e0e9-f0a9ccb68e46"
   },
   "outputs": [
    {
     "name": "stderr",
     "output_type": "stream",
     "text": [
      "2022-08-08 17:33:25.286605: I tensorflow/compiler/mlir/mlir_graph_optimization_pass.cc:116] None of the MLIR optimization passes are enabled (registered 2)\n",
      "2022-08-08 17:33:25.317229: I tensorflow/core/platform/profile_utils/cpu_utils.cc:112] CPU Frequency: 1800005000 Hz\n",
      "2022-08-08 17:33:25.662646: W tensorflow/core/framework/cpu_allocator_impl.cc:80] Allocation of 15360000 exceeds 10% of free system memory.\n",
      "2022-08-08 17:33:25.677396: W tensorflow/core/framework/cpu_allocator_impl.cc:80] Allocation of 160579584 exceeds 10% of free system memory.\n",
      "2022-08-08 17:33:36.056682: W tensorflow/core/framework/cpu_allocator_impl.cc:80] Allocation of 40144896 exceeds 10% of free system memory.\n",
      "2022-08-08 17:33:36.344086: W tensorflow/core/framework/cpu_allocator_impl.cc:80] Allocation of 77078528 exceeds 10% of free system memory.\n",
      "2022-08-08 17:33:36.443077: W tensorflow/core/framework/cpu_allocator_impl.cc:80] Allocation of 18874368 exceeds 10% of free system memory.\n"
     ]
    },
    {
     "data": {
      "text/plain": [
       "71"
      ]
     },
     "execution_count": 9,
     "metadata": {},
     "output_type": "execute_result"
    }
   ],
   "source": [
    "#PREDIÇÃO SALVO EM LISTA\n",
    "dados_prev = modelo_maior_erro.predict(X_test_maior_erro) #valores preditos usando .predict\n",
    "lista_previsto_maior_erro = dados_prev.flatten().tolist() #.flatten converte as imagens em unico array/.tolist criando lista a partir de dados em formato array\n",
    "len(lista_previsto_maior_erro) #print"
   ]
  },
  {
   "cell_type": "code",
   "execution_count": 10,
   "metadata": {
    "id": "dnJQMku2kGlI"
   },
   "outputs": [],
   "source": [
    "import pandas as pd #Chamando pandas para criar Dataframe\n",
    "from scipy.stats.stats import pearsonr as stats #importando a biblioteca para gráfico de correlação"
   ]
  },
  {
   "cell_type": "code",
   "execution_count": 11,
   "metadata": {
    "colab": {
     "base_uri": "https://localhost:8080/",
     "height": 206
    },
    "id": "tfK3mw2VkA5Y",
    "outputId": "7d209639-c712-4049-ea30-f938c5368419"
   },
   "outputs": [
    {
     "data": {
      "text/html": [
       "<div>\n",
       "<style scoped>\n",
       "    .dataframe tbody tr th:only-of-type {\n",
       "        vertical-align: middle;\n",
       "    }\n",
       "\n",
       "    .dataframe tbody tr th {\n",
       "        vertical-align: top;\n",
       "    }\n",
       "\n",
       "    .dataframe thead th {\n",
       "        text-align: right;\n",
       "    }\n",
       "</style>\n",
       "<table border=\"1\" class=\"dataframe\">\n",
       "  <thead>\n",
       "    <tr style=\"text-align: right;\">\n",
       "      <th></th>\n",
       "      <th>Observed values</th>\n",
       "      <th>Lista preditos</th>\n",
       "    </tr>\n",
       "  </thead>\n",
       "  <tbody>\n",
       "    <tr>\n",
       "      <th>66</th>\n",
       "      <td>950</td>\n",
       "      <td>941.773682</td>\n",
       "    </tr>\n",
       "    <tr>\n",
       "      <th>67</th>\n",
       "      <td>899</td>\n",
       "      <td>1009.786804</td>\n",
       "    </tr>\n",
       "    <tr>\n",
       "      <th>68</th>\n",
       "      <td>1041</td>\n",
       "      <td>949.071838</td>\n",
       "    </tr>\n",
       "    <tr>\n",
       "      <th>69</th>\n",
       "      <td>945</td>\n",
       "      <td>937.210266</td>\n",
       "    </tr>\n",
       "    <tr>\n",
       "      <th>70</th>\n",
       "      <td>1124</td>\n",
       "      <td>998.819641</td>\n",
       "    </tr>\n",
       "  </tbody>\n",
       "</table>\n",
       "</div>"
      ],
      "text/plain": [
       "    Observed values  Lista preditos\n",
       "66              950      941.773682\n",
       "67              899     1009.786804\n",
       "68             1041      949.071838\n",
       "69              945      937.210266\n",
       "70             1124      998.819641"
      ]
     },
     "execution_count": 11,
     "metadata": {},
     "output_type": "execute_result"
    }
   ],
   "source": [
    "#DATAFRAME - ORGANIZAÇÃO DAS LISTAS\n",
    "#COLUNA 1 ROTULO/ COLUNA 2 PREDITO\n",
    "df_maior_erro = pd.DataFrame(zip(lista_observado_maior_erro,lista_previsto_maior_erro), \n",
    "                             columns = ['Observed values','Lista preditos'])\n",
    "df_maior_erro.tail()"
   ]
  },
  {
   "cell_type": "code",
   "execution_count": 12,
   "metadata": {
    "colab": {
     "base_uri": "https://localhost:8080/",
     "height": 206
    },
    "id": "hHY2oUCbkPil",
    "outputId": "ec29fe8f-9397-475f-bc76-e7ea774cc8b5"
   },
   "outputs": [
    {
     "data": {
      "text/html": [
       "<div>\n",
       "<style scoped>\n",
       "    .dataframe tbody tr th:only-of-type {\n",
       "        vertical-align: middle;\n",
       "    }\n",
       "\n",
       "    .dataframe tbody tr th {\n",
       "        vertical-align: top;\n",
       "    }\n",
       "\n",
       "    .dataframe thead th {\n",
       "        text-align: right;\n",
       "    }\n",
       "</style>\n",
       "<table border=\"1\" class=\"dataframe\">\n",
       "  <thead>\n",
       "    <tr style=\"text-align: right;\">\n",
       "      <th></th>\n",
       "      <th>Observed values</th>\n",
       "      <th>Lista preditos</th>\n",
       "      <th>Predicted values</th>\n",
       "    </tr>\n",
       "  </thead>\n",
       "  <tbody>\n",
       "    <tr>\n",
       "      <th>0</th>\n",
       "      <td>963</td>\n",
       "      <td>887.128784</td>\n",
       "      <td>887.13</td>\n",
       "    </tr>\n",
       "    <tr>\n",
       "      <th>1</th>\n",
       "      <td>841</td>\n",
       "      <td>971.162720</td>\n",
       "      <td>971.16</td>\n",
       "    </tr>\n",
       "    <tr>\n",
       "      <th>2</th>\n",
       "      <td>821</td>\n",
       "      <td>880.695007</td>\n",
       "      <td>880.70</td>\n",
       "    </tr>\n",
       "    <tr>\n",
       "      <th>3</th>\n",
       "      <td>876</td>\n",
       "      <td>970.960693</td>\n",
       "      <td>970.96</td>\n",
       "    </tr>\n",
       "    <tr>\n",
       "      <th>4</th>\n",
       "      <td>944</td>\n",
       "      <td>714.504517</td>\n",
       "      <td>714.50</td>\n",
       "    </tr>\n",
       "  </tbody>\n",
       "</table>\n",
       "</div>"
      ],
      "text/plain": [
       "   Observed values  Lista preditos  Predicted values\n",
       "0              963      887.128784            887.13\n",
       "1              841      971.162720            971.16\n",
       "2              821      880.695007            880.70\n",
       "3              876      970.960693            970.96\n",
       "4              944      714.504517            714.50"
      ]
     },
     "execution_count": 12,
     "metadata": {},
     "output_type": "execute_result"
    }
   ],
   "source": [
    "#ARREDONDANDO O PREDITO ('lista preditos')\n",
    "teste = round(df_maior_erro['Lista preditos'],2) #arrendodando para duas casas\n",
    "df_maior_erro['Predicted values'] = teste #criando a coluna com esses valores\n",
    "df_maior_erro.head() #5 primeiros valores"
   ]
  },
  {
   "cell_type": "code",
   "execution_count": 13,
   "metadata": {
    "colab": {
     "base_uri": "https://localhost:8080/",
     "height": 206
    },
    "id": "X46pUpS2kfBs",
    "outputId": "6c4cfc35-1000-41ca-c335-fc18e9a46f5d"
   },
   "outputs": [
    {
     "data": {
      "text/html": [
       "<div>\n",
       "<style scoped>\n",
       "    .dataframe tbody tr th:only-of-type {\n",
       "        vertical-align: middle;\n",
       "    }\n",
       "\n",
       "    .dataframe tbody tr th {\n",
       "        vertical-align: top;\n",
       "    }\n",
       "\n",
       "    .dataframe thead th {\n",
       "        text-align: right;\n",
       "    }\n",
       "</style>\n",
       "<table border=\"1\" class=\"dataframe\">\n",
       "  <thead>\n",
       "    <tr style=\"text-align: right;\">\n",
       "      <th></th>\n",
       "      <th>Observed values</th>\n",
       "      <th>Predicted values</th>\n",
       "      <th>Lista preditos</th>\n",
       "    </tr>\n",
       "  </thead>\n",
       "  <tbody>\n",
       "    <tr>\n",
       "      <th>0</th>\n",
       "      <td>963</td>\n",
       "      <td>887.13</td>\n",
       "      <td>887.128784</td>\n",
       "    </tr>\n",
       "    <tr>\n",
       "      <th>1</th>\n",
       "      <td>841</td>\n",
       "      <td>971.16</td>\n",
       "      <td>971.162720</td>\n",
       "    </tr>\n",
       "    <tr>\n",
       "      <th>2</th>\n",
       "      <td>821</td>\n",
       "      <td>880.70</td>\n",
       "      <td>880.695007</td>\n",
       "    </tr>\n",
       "    <tr>\n",
       "      <th>3</th>\n",
       "      <td>876</td>\n",
       "      <td>970.96</td>\n",
       "      <td>970.960693</td>\n",
       "    </tr>\n",
       "    <tr>\n",
       "      <th>4</th>\n",
       "      <td>944</td>\n",
       "      <td>714.50</td>\n",
       "      <td>714.504517</td>\n",
       "    </tr>\n",
       "  </tbody>\n",
       "</table>\n",
       "</div>"
      ],
      "text/plain": [
       "   Observed values  Predicted values  Lista preditos\n",
       "0              963            887.13      887.128784\n",
       "1              841            971.16      971.162720\n",
       "2              821            880.70      880.695007\n",
       "3              876            970.96      970.960693\n",
       "4              944            714.50      714.504517"
      ]
     },
     "execution_count": 13,
     "metadata": {},
     "output_type": "execute_result"
    }
   ],
   "source": [
    "#REORGANIZANDO AS COLUNAS\n",
    "df_maior_erro = df_maior_erro.reindex(columns=['Observed values','Predicted values','Lista preditos']) #reindex para alterar a ordem das colunas\n",
    "df_maior_erro.head()"
   ]
  },
  {
   "cell_type": "code",
   "execution_count": 14,
   "metadata": {
    "id": "rJVFzuTakjL1"
   },
   "outputs": [],
   "source": [
    "#BIBLIOTECA CORRELAÇÃO\n",
    "from scipy.stats.stats import spearmanr as spearman #importando a biblioteca para gráfico de correlação\n"
   ]
  },
  {
   "cell_type": "code",
   "execution_count": 15,
   "metadata": {
    "id": "wH91hUljkmlv"
   },
   "outputs": [],
   "source": [
    "df_maior_erro = df_maior_erro[df_maior_erro['Observed values'] > 300]\n"
   ]
  },
  {
   "cell_type": "code",
   "execution_count": 16,
   "metadata": {
    "id": "PzsiRi1rnhN3"
   },
   "outputs": [],
   "source": [
    "#CALCULO DE CORRELAÇÃO\n",
    "col1_obt = 0 #dados observados - Observed values\n",
    "col2_prev = 1 #valores preditos - Predicted values\n",
    "pear_pos_maior_erro = stats(df_maior_erro[df_maior_erro.columns[col1_obt]], \n",
    "                            df_maior_erro[df_maior_erro.columns[col2_prev]])\n"
   ]
  },
  {
   "cell_type": "code",
   "execution_count": 17,
   "metadata": {
    "colab": {
     "base_uri": "https://localhost:8080/",
     "height": 458
    },
    "id": "LaZoklhokxWI",
    "outputId": "d2950c31-2746-474e-eedd-7d70a9d9c711"
   },
   "outputs": [
    {
     "data": {
      "text/plain": [
       "<Figure size 1080x1080 with 0 Axes>"
      ]
     },
     "metadata": {},
     "output_type": "display_data"
    },
    {
     "data": {
      "image/png": "[encoded data removed]",
      "text/plain": [
       "<Figure size 432x432 with 3 Axes>"
      ]
     },
     "metadata": {
      "needs_background": "light"
     },
     "output_type": "display_data"
    }
   ],
   "source": [
    "plt.figure(figsize=(15,15)) #tam figura\n",
    "\n",
    "sns.jointplot(\n",
    "    x=df_maior_erro.columns[col1_obt], #eixo x - valores observados\n",
    "    y=df_maior_erro.columns[col2_prev], #eixo y - valores preditos\n",
    "    kind='reg', #regressão\n",
    "    data=df_maior_erro #dados da dataframe\n",
    ")\n",
    "\n",
    "#condicional para o valor de p\n",
    "if pear_pos_maior_erro[1] < 0.01:\n",
    "  plt.legend(['p < ' + '0.01' + '\\nR = ' + str(round(pear_pos_maior_erro[0], 4))]) #calculando p e relse:\n",
    "else: \n",
    "  plt.legend(['p = ' + str(round(pear_pos_maior_erro[1],4)) + '\\nR = ' + str(round(pear_pos_maior_erro[0], 4))]) #calculando p e r\n",
    "\n",
    "plt.savefig(\n",
    "    fname=\"/results/Correlation_greatest_error_A549.png\", #pasta e nome do arquivo onde vai ser salvo\n",
    "    bbox_inches='tight', #função que deixa o gráfico mais próxima da margem\n",
    "    dpi=150, #numero de pixels da imagem?\n",
    "    transparent=True #deixar o gráfico transparente\n",
    ")"
   ]
  },
  {
   "cell_type": "code",
   "execution_count": null,
   "metadata": {
    "id": "OLoaKPaWk8ln"
   },
   "outputs": [],
   "source": []
  }
 ],
 "metadata": {
  "colab": {
   "authorship_tag": "ABX9TyPEh6YkQ8mMQoa92fVtzfh0",
   "include_colab_link": true,
   "mount_file_id": "1kKcXCTvEBgYp0hEnG9rLyTdZGci8Jg3v",
   "name": "Correlation_greatest_error_A549.ipynb",
   "provenance": []
  },
  "kernelspec": {
   "display_name": "Python 3 (ipykernel)",
   "language": "python",
   "name": "python3"
  },
  "language_info": {
   "codemirror_mode": {
    "name": "ipython",
    "version": 3
   },
   "file_extension": ".py",
   "mimetype": "text/x-python",
   "name": "python",
   "nbconvert_exporter": "python",
   "pygments_lexer": "ipython3",
   "version": "3.7.9"
  }
 },
 "nbformat": 4,
 "nbformat_minor": 4
}
