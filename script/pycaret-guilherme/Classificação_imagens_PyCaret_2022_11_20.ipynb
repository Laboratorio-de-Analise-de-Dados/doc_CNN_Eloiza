{
 "cells": [
  {
   "cell_type": "markdown",
   "metadata": {
    "id": "UXBd8UDKRRAq",
    "tags": []
   },
   "source": [
    "# Importação das Bibliotecas"
   ]
  },
  {
   "cell_type": "code",
   "execution_count": 1,
   "metadata": {},
   "outputs": [],
   "source": [
    "# !pip install joblib==1.2.0"
   ]
  },
  {
   "cell_type": "code",
   "execution_count": 2,
   "metadata": {},
   "outputs": [],
   "source": [
    "# !pip install pycaret"
   ]
  },
  {
   "cell_type": "code",
   "execution_count": 3,
   "metadata": {
    "id": "Ec21QQkLREGT"
   },
   "outputs": [],
   "source": [
    "import os\n",
    "import numpy as np\n",
    "import pandas as pd\n",
    "import joblib\n",
    "from util import meus_uteis, timeProcess, mask_corr_graphic, printLis\n",
    "\n",
    "# Salva e recupera arquivos\n",
    "from pickle import dump, load\n",
    "from bz2 import BZ2File\n",
    "\n",
    "from pycaret.classification import *"
   ]
  },
  {
   "cell_type": "code",
   "execution_count": 4,
   "metadata": {
    "colab": {
     "base_uri": "https://localhost:8080/"
    },
    "id": "3M4RqjWDRd3h",
    "outputId": "5a036213-e5cb-437d-f103-0233c0fb9490"
   },
   "outputs": [
    {
     "name": "stdout",
     "output_type": "stream",
     "text": [
      "-------------\n",
      "-=< Lista >=-\n",
      "-------------\n",
      "0 -> lista_rotulo_camp_clar_50_resized_regressao_mAb_DENV12022-10-25.gz\n",
      "1 -> lista_rotulo_camp_clar_50_resized_regressao_THP12022-10-25.gz\n",
      "2 -> lista_rotulo_camp_clar_50_resized_regressao_A1722022-10-25.gz\n",
      "3 -> lista_img_camp_clar_100_resized_regressao_THP12022-10-25.gz\n",
      "4 -> lista_img_camp_clar_25_resized_regressao_HUH72022-11-3.gz\n",
      "5 -> lista_rotulo_camp_clar_75_resized_regressao_3T3_2022-11-3.gz\n",
      "6 -> lista_rotulo_camp_clar_50_resized_regressao_MAYV2022-10-25.gz\n",
      "7 -> lista_rotulo_camp_clar_100_resized_regressao_SH_SY5Y2022-10-25.gz\n",
      "8 -> lista_rotulo_camp_clar_25_resized_regressao_A5492022-11-3.gz\n",
      "9 -> lista_img_camp_clar_75_resized_regressao_A1722022-10-25.gz\n",
      "10 -> lista_img_camp_clar_50_resized_regressao_MAYV2022-10-25.gz\n",
      "11 -> lista_rotulo_camp_clar_75_resized_regressao_THP12022-10-25.gz\n",
      "12 -> lista_rotulo_camp_clar_75_resized_regressao_HUH72022-11-3.gz\n",
      "13 -> lista_rotulo_camp_clar_50_resized_regressao_A5492022-11-3.gz\n",
      "14 -> lista_rotulo_camp_clar_25_resized_regressao_MAYV2022-10-25.gz\n",
      "15 -> lista_img_camp_clar_75_resized_regressao_A5492022-11-3.gz\n",
      "16 -> lista_rotulo_camp_clar_25_resized_regressao_THP12022-10-25.gz\n",
      "17 -> lista_img_camp_clar_25_resized_regressao_A1722022-10-25.gz\n",
      "18 -> lista_rotulo_camp_clar_75_resized_regressao_SH_SY5Y2022-10-25.gz\n",
      "19 -> lista_img_camp_clar_25_resized_regressao_3T3_2022-11-3.gz\n",
      "20 -> lista_img_camp_clar_75_resized_regressao_mAb_DENV12022-10-25.gz\n",
      "21 -> lista_rotulo_camp_clar_100_resized_regressao_THP12022-10-25.gz\n",
      "22 -> lista_rotulo_camp_clar_100_resized_regressao_A5492022-11-3.gz\n",
      "23 -> lista_img_camp_clar_50_resized_regressao_A1722022-10-25.gz\n",
      "24 -> lista_rotulo_camp_clar_25_resized_regressao_3T3_2022-11-3.gz\n",
      "25 -> lista_rotulo_camp_clar_100_resized_regressao_3T32022-11-3.gz\n",
      "26 -> Cópia de lista_rotulo_camp_clar_25_resized_regressao_VERO62022-10-24.gz\n",
      "27 -> lista_rotulo_camp_clar_100_resized_regressao_mAb_DENV12022-10-25.gz\n",
      "28 -> lista_img_camp_clar_50_resized_regressao_SH_SY5Y2022-10-25.gz\n",
      "29 -> lista_img_camp_clar_100_resized_regressao_A1722022-10-25.gz\n",
      "30 -> Cópia de lista_img_camp_clar_25_resized_regressao_VERO62022-10-24.gz\n",
      "31 -> lista_img_camp_clar_25_resized_regressao_SH_SY5Y2022-10-25.gz\n",
      "32 -> lista_img_camp_clar_50_resized_regressao_3T3_2022-11-3.gz\n",
      "33 -> lista_img_camp_clar_50_resized_regressao_THP12022-10-25.gz\n",
      "34 -> lista_img_camp_clar_100_resized_regressao_mAb_DENV12022-10-25.gz\n",
      "35 -> lista_img_camp_clar_75_resized_regressao_SH_SY5Y2022-10-25.gz\n",
      "36 -> lista_rotulo_camp_clar_75_resized_regressao_A5492022-11-3.gz\n",
      "37 -> lista_img_camp_clar_100_resized_regressao_3T32022-11-3.gz\n",
      "38 -> lista_img_camp_clar_100_resized_regressao_MAYV2022-10-25.gz\n",
      "39 -> lista_img_camp_clar_25_resized_regressao_mAb_DENV12022-10-25.gz\n",
      "40 -> lista_img_camp_clar_25_resized_regressao_A5492022-11-3.gz\n",
      "41 -> lista_rotulo_camp_clar_50_resized_regressao_SH_SY5Y2022-10-25.gz\n",
      "42 -> lista_rotulo_camp_clar_25_resized_regressao_mAb_DENV12022-10-25.gz\n",
      "43 -> lista_rotulo_camp_clar_50_resized_regressao_3T3_2022-11-3.gz\n",
      "44 -> lista_img_camp_clar_100_resized_regressao_HUH72022-11-3.gz\n",
      "45 -> Cópia de lista_img_camp_clar_75_resized_regressao_VERO62022-10-24.gz\n",
      "46 -> lista_rotulo_camp_clar_75_resized_regressao_MAYV2022-10-25.gz\n",
      "47 -> lista_rotulo_camp_clar_75_resized_regressao_A1722022-10-25.gz\n",
      "48 -> lista_rotulo_camp_clar_100_resized_regressao_HUH72022-11-3.gz\n",
      "49 -> lista_img_camp_clar_50_resized_regressao_HUH72022-11-3.gz\n",
      "50 -> lista_img_camp_clar_25_resized_regressao_MAYV2022-10-25.gz\n",
      "51 -> lista_img_camp_clar_75_resized_regressao_THP12022-10-25.gz\n",
      "52 -> lista_img_camp_clar_50_resized_regressao_A5492022-11-3.gz\n",
      "53 -> lista_img_camp_clar_50_resized_regressao_mAb_DENV12022-10-25.gz\n",
      "54 -> lista_rotulo_camp_clar_25_resized_regressao_SH_SY5Y2022-10-25.gz\n",
      "55 -> lista_img_camp_clar_100_resized_regressao_SH_SY5Y2022-10-25.gz\n",
      "56 -> lista_rotulo_camp_clar_100_resized_regressao_A1722022-10-25.gz\n",
      "57 -> lista_rotulo_camp_clar_25_resized_regressao_HUH72022-11-3.gz\n",
      "58 -> lista_img_camp_clar_75_resized_regressao_3T3_2022-11-3.gz\n",
      "59 -> Cópia de lista_rotulo_camp_clar_50_resized_regressao_VERO62022-10-24.gz\n",
      "60 -> lista_img_camp_clar_100_resized_regressao_A5492022-11-3.gz\n",
      "61 -> Cópia de lista_img_camp_clar_100_resized_regressao_VERO62022-10-24.gz\n",
      "62 -> lista_rotulo_camp_clar_50_resized_regressao_HUH72022-11-3.gz\n",
      "63 -> lista_rotulo_camp_clar_75_resized_regressao_mAb_DENV12022-10-25.gz\n",
      "64 -> lista_rotulo_camp_clar_25_resized_regressao_A1722022-10-25.gz\n",
      "65 -> lista_img_camp_clar_75_resized_regressao_MAYV2022-10-25.gz\n",
      "66 -> lista_img_camp_clar_75_resized_regressao_HUH72022-11-3.gz\n",
      "67 -> Cópia de lista_rotulo_camp_clar_75_resized_regressao_VERO62022-10-24.gz\n",
      "68 -> lista_rotulo_camp_clar_100_resized_regressao_MAYV2022-10-25.gz\n",
      "69 -> Cópia de lista_img_camp_clar_50_resized_regressao_VERO62022-10-24.gz\n",
      "70 -> Cópia de lista_rotulo_camp_clar_100_resized_regressao_VERO62022-10-24.gz\n",
      "71 -> lista_img_camp_clar_25_resized_regressao_THP12022-10-25.gz\n"
     ]
    }
   ],
   "source": [
    "diretorio = \"./../results/Classificação_imagens_DOC_CNN/\"\n",
    "lista_dados = os.listdir(diretorio)\n",
    "printLis(lista_dados)"
   ]
  },
  {
   "cell_type": "markdown",
   "metadata": {
    "id": "ktnt1zMBWBKc",
    "tags": []
   },
   "source": [
    "# THP1"
   ]
  },
  {
   "cell_type": "markdown",
   "metadata": {
    "id": "KC0dlymyWXQ9"
   },
   "source": [
    "## Imagens THP1"
   ]
  },
  {
   "cell_type": "code",
   "execution_count": 5,
   "metadata": {},
   "outputs": [
    {
     "name": "stdout",
     "output_type": "stream",
     "text": [
      "-------------\n",
      "-=< Lista >=-\n",
      "-------------\n",
      "0 -> ./../results/Classificação_imagens_DOC_CNN/lista_img_camp_clar_100_resized_regressao_THP12022-10-25.gz\n",
      "1 -> ./../results/Classificação_imagens_DOC_CNN/lista_img_camp_clar_50_resized_regressao_THP12022-10-25.gz\n",
      "2 -> ./../results/Classificação_imagens_DOC_CNN/lista_img_camp_clar_75_resized_regressao_THP12022-10-25.gz\n",
      "3 -> ./../results/Classificação_imagens_DOC_CNN/lista_img_camp_clar_25_resized_regressao_THP12022-10-25.gz\n"
     ]
    }
   ],
   "source": [
    "lista_thp_img = [diretorio+i for i in lista_dados if \"THP\" in i and \"img\" in i]\n",
    "lista_thp_rotulo = [diretorio+i for i in lista_dados if \"THP\" in i and \"rotulo\" in i]\n",
    "printLis(lista_thp_img)"
   ]
  },
  {
   "cell_type": "code",
   "execution_count": 6,
   "metadata": {
    "colab": {
     "base_uri": "https://localhost:8080/"
    },
    "id": "zXJj31r4Z1Bt",
    "outputId": "aa1d1f7b-f36a-445f-e93d-1c855fb130cf"
   },
   "outputs": [
    {
     "data": {
      "text/plain": [
       "(1696, 200, 200, 3)"
      ]
     },
     "execution_count": 6,
     "metadata": {},
     "output_type": "execute_result"
    }
   ],
   "source": [
    "for i in lista_thp_img:\n",
    "    if \"_25_\" in i:\n",
    "        imagem_thp_vin = joblib.load(i)\n",
    "    elif \"_50_\" in i:\n",
    "        imagem_thp_ciq = joblib.load(i)\n",
    "    elif \"_75_\" in i:\n",
    "        imagem_thp_set = joblib.load(i)\n",
    "    elif \"_100_\" in i:\n",
    "        imagem_thp_cem = joblib.load(i)\n",
    "imagem_thp_soma = np.asarray(list(imagem_thp_cem) + list(imagem_thp_set) + list(imagem_thp_ciq) + list(imagem_thp_vin)) #somando os valores de cada lista\n",
    "imagem_thp_soma.shape"
   ]
  },
  {
   "cell_type": "code",
   "execution_count": 7,
   "metadata": {
    "colab": {
     "base_uri": "https://localhost:8080/"
    },
    "id": "yQ_uVeQSTMv3",
    "outputId": "7cf56f98-84d0-463b-88b1-b0f3156542ee"
   },
   "outputs": [
    {
     "data": {
      "text/plain": [
       "1696"
      ]
     },
     "execution_count": 7,
     "metadata": {},
     "output_type": "execute_result"
    }
   ],
   "source": [
    "# Pegando o número de imagens\n",
    "num_de_imagens = imagem_thp_soma.shape[0]\n",
    "num_de_imagens"
   ]
  },
  {
   "cell_type": "code",
   "execution_count": 8,
   "metadata": {
    "colab": {
     "base_uri": "https://localhost:8080/"
    },
    "id": "Si4a5QYDUUYk",
    "outputId": "47e4f598-8756-4725-b851-0f6e7061b0f2"
   },
   "outputs": [
    {
     "data": {
      "text/plain": [
       "(1696, 120000)"
      ]
     },
     "execution_count": 8,
     "metadata": {},
     "output_type": "execute_result"
    }
   ],
   "source": [
    "# Modificando o formato do numpy para que cada imagem tenha apenas 1-D (Flatten)\n",
    "imagem_flat_thp = imagem_thp_soma.reshape(num_de_imagens, -1)\n",
    "imagem_flat_thp.shape"
   ]
  },
  {
   "cell_type": "markdown",
   "metadata": {
    "id": "irC-TzknXikN"
   },
   "source": [
    "## Rótulo THP1"
   ]
  },
  {
   "cell_type": "code",
   "execution_count": 9,
   "metadata": {},
   "outputs": [
    {
     "name": "stdout",
     "output_type": "stream",
     "text": [
      "-------------\n",
      "-=< Lista >=-\n",
      "-------------\n",
      "0 -> ./../results/Classificação_imagens_DOC_CNN/lista_rotulo_camp_clar_50_resized_regressao_THP12022-10-25.gz\n",
      "1 -> ./../results/Classificação_imagens_DOC_CNN/lista_rotulo_camp_clar_75_resized_regressao_THP12022-10-25.gz\n",
      "2 -> ./../results/Classificação_imagens_DOC_CNN/lista_rotulo_camp_clar_25_resized_regressao_THP12022-10-25.gz\n",
      "3 -> ./../results/Classificação_imagens_DOC_CNN/lista_rotulo_camp_clar_100_resized_regressao_THP12022-10-25.gz\n"
     ]
    }
   ],
   "source": [
    "printLis(lista_thp_rotulo)"
   ]
  },
  {
   "cell_type": "code",
   "execution_count": 10,
   "metadata": {
    "colab": {
     "base_uri": "https://localhost:8080/"
    },
    "id": "zXJj31r4Z1Bt",
    "outputId": "aa1d1f7b-f36a-445f-e93d-1c855fb130cf"
   },
   "outputs": [
    {
     "data": {
      "text/plain": [
       "(1696,)"
      ]
     },
     "execution_count": 10,
     "metadata": {},
     "output_type": "execute_result"
    }
   ],
   "source": [
    "for i in lista_thp_rotulo:\n",
    "    if \"_25_\" in i:\n",
    "        rot_thp_vin = joblib.load(i)\n",
    "    elif \"_50_\" in i:\n",
    "        rot_thp_ciq = joblib.load(i)\n",
    "    elif \"_75_\" in i:\n",
    "        rot_thp_set = joblib.load(i)\n",
    "    elif \"_100_\" in i:\n",
    "        rot_thp_cem = joblib.load(i)\n",
    "rot_thp_soma = np.asarray(list(rot_thp_cem) + list(rot_thp_set) + list(rot_thp_ciq) + list(rot_thp_vin)) #somando os valores de cada lista\n",
    "rot_thp_soma.shape"
   ]
  },
  {
   "cell_type": "markdown",
   "metadata": {
    "id": "9O1Nsm8UYRcT"
   },
   "source": [
    "## DataFrame THP1"
   ]
  },
  {
   "cell_type": "code",
   "execution_count": 11,
   "metadata": {
    "colab": {
     "base_uri": "https://localhost:8080/",
     "height": 299
    },
    "id": "e8YG_Y_PYGyS",
    "outputId": "c5700ae3-888f-4ecb-9965-4bc6def81cb7"
   },
   "outputs": [
    {
     "name": "stdout",
     "output_type": "stream",
     "text": [
      "<class 'pandas.core.frame.DataFrame'>\n",
      "RangeIndex: 1696 entries, 0 to 1695\n",
      "Columns: 120000 entries, 0 to 119999\n",
      "dtypes: uint8(120000)\n",
      "memory usage: 194.1 MB\n"
     ]
    }
   ],
   "source": [
    "df_imagens_thp = pd.DataFrame(imagem_flat_thp)\n",
    "df_imagens_thp.info()"
   ]
  },
  {
   "cell_type": "markdown",
   "metadata": {
    "id": "XbxpppJGYg6N"
   },
   "source": [
    "## Incluindo rótulo"
   ]
  },
  {
   "cell_type": "code",
   "execution_count": 12,
   "metadata": {
    "colab": {
     "base_uri": "https://localhost:8080/",
     "height": 299
    },
    "id": "q9IGPKHwYfsp",
    "outputId": "61c17202-9bf1-44e4-c294-d3707773795a"
   },
   "outputs": [
    {
     "name": "stdout",
     "output_type": "stream",
     "text": [
      "<class 'pandas.core.frame.DataFrame'>\n",
      "Int64Index: 170 entries, 1524 to 990\n",
      "Columns: 120001 entries, 0 to Rótulo_Y\n",
      "dtypes: object(1), uint8(120000)\n",
      "memory usage: 19.5+ MB\n"
     ]
    }
   ],
   "source": [
    "frac_test_inicial = 0.1\n",
    "df_imagens_thp[\"Rótulo_Y\"] = rot_thp_soma\n",
    "df_imagens_thp = df_imagens_thp.sample(frac=frac_test_inicial)\n",
    "df_imagens_thp.info()"
   ]
  },
  {
   "cell_type": "code",
   "execution_count": 13,
   "metadata": {},
   "outputs": [
    {
     "data": {
      "text/plain": [
       "THP1    170\n",
       "Name: Rótulo_Y, dtype: int64"
      ]
     },
     "execution_count": 13,
     "metadata": {},
     "output_type": "execute_result"
    }
   ],
   "source": [
    "df_imagens_thp['Rótulo_Y'].value_counts()"
   ]
  },
  {
   "cell_type": "markdown",
   "metadata": {
    "id": "b52G70UcZrRC",
    "tags": []
   },
   "source": [
    "# SH_SY5Y"
   ]
  },
  {
   "cell_type": "code",
   "execution_count": 14,
   "metadata": {},
   "outputs": [
    {
     "name": "stdout",
     "output_type": "stream",
     "text": [
      "-------------\n",
      "-=< Lista >=-\n",
      "-------------\n",
      "0 -> ./../results/Classificação_imagens_DOC_CNN/lista_img_camp_clar_50_resized_regressao_SH_SY5Y2022-10-25.gz\n",
      "1 -> ./../results/Classificação_imagens_DOC_CNN/lista_img_camp_clar_25_resized_regressao_SH_SY5Y2022-10-25.gz\n",
      "2 -> ./../results/Classificação_imagens_DOC_CNN/lista_img_camp_clar_75_resized_regressao_SH_SY5Y2022-10-25.gz\n",
      "3 -> ./../results/Classificação_imagens_DOC_CNN/lista_img_camp_clar_100_resized_regressao_SH_SY5Y2022-10-25.gz\n"
     ]
    }
   ],
   "source": [
    "lista_sh_img = [diretorio+i for i in lista_dados if \"SH_SY5Y\" in i and \"img\" in i]\n",
    "lista_sh_rotulo = [diretorio+i for i in lista_dados if \"SH_SY5Y\" in i and \"rotulo\" in i]\n",
    "printLis(lista_sh_img)"
   ]
  },
  {
   "cell_type": "code",
   "execution_count": 15,
   "metadata": {
    "colab": {
     "base_uri": "https://localhost:8080/"
    },
    "id": "zXJj31r4Z1Bt",
    "outputId": "aa1d1f7b-f36a-445f-e93d-1c855fb130cf"
   },
   "outputs": [
    {
     "data": {
      "text/plain": [
       "(1168, 200, 200, 3)"
      ]
     },
     "execution_count": 15,
     "metadata": {},
     "output_type": "execute_result"
    }
   ],
   "source": [
    "for i in lista_sh_img:\n",
    "    if \"_25_\" in i:\n",
    "        imagem_sh_vin = joblib.load(i)\n",
    "    elif \"_50_\" in i:\n",
    "        imagem_sh_ciq = joblib.load(i)\n",
    "    elif \"_75_\" in i:\n",
    "        imagem_sh_set = joblib.load(i)\n",
    "    elif \"_100_\" in i:\n",
    "        imagem_sh_cem = joblib.load(i)\n",
    "imagem_sh_soma = np.asarray(list(imagem_sh_cem) + list(imagem_sh_set) + list(imagem_sh_ciq) + list(imagem_sh_vin)) #somando os valores de cada lista\n",
    "imagem_sh_soma.shape"
   ]
  },
  {
   "cell_type": "markdown",
   "metadata": {
    "id": "iEYA72BSadNn"
   },
   "source": [
    "## Rótulo SH_SY5Y"
   ]
  },
  {
   "cell_type": "code",
   "execution_count": 16,
   "metadata": {
    "colab": {
     "base_uri": "https://localhost:8080/"
    },
    "id": "zXJj31r4Z1Bt",
    "outputId": "aa1d1f7b-f36a-445f-e93d-1c855fb130cf"
   },
   "outputs": [
    {
     "data": {
      "text/plain": [
       "(1168,)"
      ]
     },
     "execution_count": 16,
     "metadata": {},
     "output_type": "execute_result"
    }
   ],
   "source": [
    "for i in lista_sh_rotulo:\n",
    "    if \"_25_\" in i:\n",
    "        rot_sh_vin = joblib.load(i)\n",
    "    elif \"_50_\" in i:\n",
    "        rot_sh_ciq = joblib.load(i)\n",
    "    elif \"_75_\" in i:\n",
    "        rot_sh_set = joblib.load(i)\n",
    "    elif \"_100_\" in i:\n",
    "        rot_sh_cem = joblib.load(i)\n",
    "rot_sh_soma = np.asarray(list(rot_sh_cem) + list(rot_sh_set) + list(rot_sh_ciq) + list(rot_sh_vin)) #somando os valores de cada lista\n",
    "rot_sh_soma.shape"
   ]
  },
  {
   "cell_type": "code",
   "execution_count": 17,
   "metadata": {
    "colab": {
     "base_uri": "https://localhost:8080/"
    },
    "id": "HLUNmogRa1yi",
    "outputId": "558a0ebb-07ee-46bd-c718-a9e216d97544"
   },
   "outputs": [
    {
     "data": {
      "text/plain": [
       "1168"
      ]
     },
     "execution_count": 17,
     "metadata": {},
     "output_type": "execute_result"
    }
   ],
   "source": [
    "# Pegando o número de imagens\n",
    "num_de_imagens = imagem_sh_soma.shape[0]\n",
    "num_de_imagens"
   ]
  },
  {
   "cell_type": "code",
   "execution_count": 18,
   "metadata": {
    "colab": {
     "base_uri": "https://localhost:8080/"
    },
    "id": "nwLn621aa933",
    "outputId": "f1663a28-7d93-4a51-fca3-b24deadbb445"
   },
   "outputs": [
    {
     "data": {
      "text/plain": [
       "(1168, 120000)"
      ]
     },
     "execution_count": 18,
     "metadata": {},
     "output_type": "execute_result"
    }
   ],
   "source": [
    "# Modificando o formato do numpy para que cada imagem tenha apenas 1-D (Flatten)\n",
    "imagem_flat_sh = imagem_sh_soma.reshape(num_de_imagens, -1)\n",
    "imagem_flat_sh.shape"
   ]
  },
  {
   "cell_type": "markdown",
   "metadata": {
    "id": "20wVJe4MbGi0"
   },
   "source": [
    "## DataFrame SH-SY5Y"
   ]
  },
  {
   "cell_type": "code",
   "execution_count": 19,
   "metadata": {
    "colab": {
     "base_uri": "https://localhost:8080/",
     "height": 299
    },
    "id": "x-yAKRRAbKf8",
    "outputId": "a129b80b-b15d-490b-ed27-fda6d72f252e"
   },
   "outputs": [
    {
     "name": "stdout",
     "output_type": "stream",
     "text": [
      "<class 'pandas.core.frame.DataFrame'>\n",
      "RangeIndex: 1168 entries, 0 to 1167\n",
      "Columns: 120000 entries, 0 to 119999\n",
      "dtypes: uint8(120000)\n",
      "memory usage: 133.7 MB\n"
     ]
    }
   ],
   "source": [
    "df_imagens_sh = pd.DataFrame(imagem_flat_sh)\n",
    "df_imagens_sh.info()"
   ]
  },
  {
   "cell_type": "markdown",
   "metadata": {
    "id": "LSdh-5imb0-T"
   },
   "source": [
    "## Incluindo rótulo"
   ]
  },
  {
   "cell_type": "code",
   "execution_count": 20,
   "metadata": {
    "colab": {
     "base_uri": "https://localhost:8080/",
     "height": 299
    },
    "id": "75THut8wb2k6",
    "outputId": "0a9644a9-75ff-4f7c-b912-2a2b09c401d2"
   },
   "outputs": [
    {
     "name": "stdout",
     "output_type": "stream",
     "text": [
      "<class 'pandas.core.frame.DataFrame'>\n",
      "Int64Index: 117 entries, 258 to 294\n",
      "Columns: 120001 entries, 0 to Rótulo_Y\n",
      "dtypes: object(1), uint8(120000)\n",
      "memory usage: 13.4+ MB\n"
     ]
    }
   ],
   "source": [
    "df_imagens_sh[\"Rótulo_Y\"] = rot_sh_soma\n",
    "df_imagens_sh = df_imagens_sh.sample(frac=frac_test_inicial)\n",
    "df_imagens_sh.info()"
   ]
  },
  {
   "cell_type": "code",
   "execution_count": 21,
   "metadata": {},
   "outputs": [
    {
     "data": {
      "text/plain": [
       "SH-SY5Y    117\n",
       "Name: Rótulo_Y, dtype: int64"
      ]
     },
     "execution_count": 21,
     "metadata": {},
     "output_type": "execute_result"
    }
   ],
   "source": [
    "df_imagens_sh['Rótulo_Y'].value_counts()"
   ]
  },
  {
   "cell_type": "markdown",
   "metadata": {
    "id": "5Ng0GaRpc5Fm",
    "tags": []
   },
   "source": [
    "# A172"
   ]
  },
  {
   "cell_type": "markdown",
   "metadata": {
    "id": "mBuO0NB_dCg4"
   },
   "source": [
    "## Linhagem 172"
   ]
  },
  {
   "cell_type": "code",
   "execution_count": 22,
   "metadata": {},
   "outputs": [
    {
     "name": "stdout",
     "output_type": "stream",
     "text": [
      "-------------\n",
      "-=< Lista >=-\n",
      "-------------\n",
      "0 -> ./../results/Classificação_imagens_DOC_CNN/lista_img_camp_clar_75_resized_regressao_A1722022-10-25.gz\n",
      "1 -> ./../results/Classificação_imagens_DOC_CNN/lista_img_camp_clar_25_resized_regressao_A1722022-10-25.gz\n",
      "2 -> ./../results/Classificação_imagens_DOC_CNN/lista_img_camp_clar_50_resized_regressao_A1722022-10-25.gz\n",
      "3 -> ./../results/Classificação_imagens_DOC_CNN/lista_img_camp_clar_100_resized_regressao_A1722022-10-25.gz\n"
     ]
    }
   ],
   "source": [
    "lista_A172_img = [diretorio+i for i in lista_dados if \"A172\" in i and \"img\" in i]\n",
    "lista_A172_rotulo = [diretorio+i for i in lista_dados if \"A172\" in i and \"rotulo\" in i]\n",
    "printLis(lista_A172_img)"
   ]
  },
  {
   "cell_type": "code",
   "execution_count": 23,
   "metadata": {
    "colab": {
     "base_uri": "https://localhost:8080/"
    },
    "id": "zXJj31r4Z1Bt",
    "outputId": "aa1d1f7b-f36a-445f-e93d-1c855fb130cf"
   },
   "outputs": [
    {
     "data": {
      "text/plain": [
       "(1584, 200, 200, 3)"
      ]
     },
     "execution_count": 23,
     "metadata": {},
     "output_type": "execute_result"
    }
   ],
   "source": [
    "for i in lista_A172_img:\n",
    "    if \"_25_\" in i:\n",
    "        imagem_A172_vin = joblib.load(i)\n",
    "    elif \"_50_\" in i:\n",
    "        imagem_A172_ciq = joblib.load(i)\n",
    "    elif \"_75_\" in i:\n",
    "        imagem_A172_set = joblib.load(i)\n",
    "    elif \"_100_\" in i:\n",
    "        imagem_A172_cem = joblib.load(i)\n",
    "imagem_A172_soma = np.asarray(list(imagem_A172_cem) + list(imagem_A172_set) + list(imagem_A172_ciq) + list(imagem_A172_vin)) #somando os valores de cada lista\n",
    "imagem_A172_soma.shape"
   ]
  },
  {
   "cell_type": "markdown",
   "metadata": {
    "id": "7pKw8WjIeG8j"
   },
   "source": [
    "## Rótulo A172"
   ]
  },
  {
   "cell_type": "code",
   "execution_count": 24,
   "metadata": {
    "colab": {
     "base_uri": "https://localhost:8080/"
    },
    "id": "zXJj31r4Z1Bt",
    "outputId": "aa1d1f7b-f36a-445f-e93d-1c855fb130cf"
   },
   "outputs": [
    {
     "data": {
      "text/plain": [
       "(1584,)"
      ]
     },
     "execution_count": 24,
     "metadata": {},
     "output_type": "execute_result"
    }
   ],
   "source": [
    "for i in lista_A172_rotulo:\n",
    "    if \"_25_\" in i:\n",
    "        rot_A172_vin = joblib.load(i)\n",
    "    elif \"_50_\" in i:\n",
    "        rot_A172_ciq = joblib.load(i)\n",
    "    elif \"_75_\" in i:\n",
    "        rot_A172_set = joblib.load(i)\n",
    "    elif \"_100_\" in i:\n",
    "        rot_A172_cem = joblib.load(i)\n",
    "rot_A172_soma = np.asarray(list(rot_A172_cem) + list(rot_A172_set) + list(rot_A172_ciq) + list(rot_A172_vin)) #somando os valores de cada lista\n",
    "rot_A172_soma.shape"
   ]
  },
  {
   "cell_type": "code",
   "execution_count": 25,
   "metadata": {
    "colab": {
     "base_uri": "https://localhost:8080/"
    },
    "id": "h85aW2Fueb2J",
    "outputId": "02c80766-9eb1-4c98-83c6-b6b860fe844f"
   },
   "outputs": [
    {
     "data": {
      "text/plain": [
       "1584"
      ]
     },
     "execution_count": 25,
     "metadata": {},
     "output_type": "execute_result"
    }
   ],
   "source": [
    "# Pegando o número de imagens\n",
    "num_de_imagens = imagem_A172_soma.shape[0]\n",
    "num_de_imagens"
   ]
  },
  {
   "cell_type": "code",
   "execution_count": 26,
   "metadata": {
    "colab": {
     "base_uri": "https://localhost:8080/"
    },
    "id": "0qLlgswkfBfL",
    "outputId": "935df8d5-0ee4-4f3b-d9ca-160a5c263778"
   },
   "outputs": [
    {
     "data": {
      "text/plain": [
       "(1584, 120000)"
      ]
     },
     "execution_count": 26,
     "metadata": {},
     "output_type": "execute_result"
    }
   ],
   "source": [
    "# Modificando o formato do numpy para que cada imagem tenha apenas 1-D (Flatten)\n",
    "imagem_flat_A172 = imagem_A172_soma.reshape(num_de_imagens, -1)\n",
    "imagem_flat_A172.shape"
   ]
  },
  {
   "cell_type": "markdown",
   "metadata": {
    "id": "L602SPCmfn6q"
   },
   "source": [
    "## DataFrame A172"
   ]
  },
  {
   "cell_type": "code",
   "execution_count": 27,
   "metadata": {
    "colab": {
     "base_uri": "https://localhost:8080/",
     "height": 299
    },
    "id": "O5HZ_BGpfqRp",
    "outputId": "d660724f-d8e4-499a-b8ce-bcb5fc9a9909"
   },
   "outputs": [
    {
     "name": "stdout",
     "output_type": "stream",
     "text": [
      "<class 'pandas.core.frame.DataFrame'>\n",
      "RangeIndex: 1584 entries, 0 to 1583\n",
      "Columns: 120000 entries, 0 to 119999\n",
      "dtypes: uint8(120000)\n",
      "memory usage: 181.3 MB\n"
     ]
    }
   ],
   "source": [
    "df_imagens_A172 = pd.DataFrame(imagem_flat_A172)\n",
    "df_imagens_A172.info()"
   ]
  },
  {
   "cell_type": "code",
   "execution_count": 28,
   "metadata": {
    "colab": {
     "base_uri": "https://localhost:8080/",
     "height": 299
    },
    "id": "up2YfVAcf2QH",
    "outputId": "2ccb1068-07af-434f-a218-877a11aede02"
   },
   "outputs": [
    {
     "name": "stdout",
     "output_type": "stream",
     "text": [
      "<class 'pandas.core.frame.DataFrame'>\n",
      "Int64Index: 158 entries, 891 to 696\n",
      "Columns: 120001 entries, 0 to Rótulo_Y\n",
      "dtypes: object(1), uint8(120000)\n",
      "memory usage: 18.1+ MB\n"
     ]
    }
   ],
   "source": [
    "df_imagens_A172['Rótulo_Y'] = rot_A172_soma\n",
    "df_imagens_A172 = df_imagens_A172.sample(frac=frac_test_inicial)\n",
    "df_imagens_A172.info()"
   ]
  },
  {
   "cell_type": "code",
   "execution_count": 29,
   "metadata": {},
   "outputs": [
    {
     "data": {
      "text/plain": [
       "A172    158\n",
       "Name: Rótulo_Y, dtype: int64"
      ]
     },
     "execution_count": 29,
     "metadata": {},
     "output_type": "execute_result"
    }
   ],
   "source": [
    "df_imagens_A172['Rótulo_Y'].value_counts()"
   ]
  },
  {
   "cell_type": "markdown",
   "metadata": {
    "id": "oJ9X6lR_hZ7G",
    "tags": []
   },
   "source": [
    "# MAYV"
   ]
  },
  {
   "cell_type": "markdown",
   "metadata": {
    "id": "DaF-2YrAhO4i",
    "tags": []
   },
   "source": [
    "## MAYV Cell Line"
   ]
  },
  {
   "cell_type": "code",
   "execution_count": 30,
   "metadata": {},
   "outputs": [
    {
     "name": "stdout",
     "output_type": "stream",
     "text": [
      "-------------\n",
      "-=< Lista >=-\n",
      "-------------\n",
      "0 -> ./../results/Classificação_imagens_DOC_CNN/lista_img_camp_clar_50_resized_regressao_MAYV2022-10-25.gz\n",
      "1 -> ./../results/Classificação_imagens_DOC_CNN/lista_img_camp_clar_100_resized_regressao_MAYV2022-10-25.gz\n",
      "2 -> ./../results/Classificação_imagens_DOC_CNN/lista_img_camp_clar_25_resized_regressao_MAYV2022-10-25.gz\n",
      "3 -> ./../results/Classificação_imagens_DOC_CNN/lista_img_camp_clar_75_resized_regressao_MAYV2022-10-25.gz\n"
     ]
    }
   ],
   "source": [
    "lista_mayv_img = [diretorio+i for i in lista_dados if \"MAYV\" in i and \"img\" in i]\n",
    "lista_mayv_rotulo = [diretorio+i for i in lista_dados if \"MAYV\" in i and \"rotulo\" in i]\n",
    "printLis(lista_mayv_img)"
   ]
  },
  {
   "cell_type": "code",
   "execution_count": 31,
   "metadata": {
    "colab": {
     "base_uri": "https://localhost:8080/"
    },
    "id": "zXJj31r4Z1Bt",
    "outputId": "aa1d1f7b-f36a-445f-e93d-1c855fb130cf"
   },
   "outputs": [
    {
     "data": {
      "text/plain": [
       "(1280, 200, 200, 3)"
      ]
     },
     "execution_count": 31,
     "metadata": {},
     "output_type": "execute_result"
    }
   ],
   "source": [
    "for i in lista_mayv_img:\n",
    "    if \"_25_\" in i:\n",
    "        imagem_mayv_vin = joblib.load(i)\n",
    "    elif \"_50_\" in i:\n",
    "        imagem_mayv_ciq = joblib.load(i)\n",
    "    elif \"_75_\" in i:\n",
    "        imagem_mayv_set = joblib.load(i)\n",
    "    elif \"_100_\" in i:\n",
    "        imagem_mayv_cem = joblib.load(i)\n",
    "imagem_mayv_soma = np.asarray(list(imagem_mayv_cem) + list(imagem_mayv_set) + list(imagem_mayv_ciq) + list(imagem_mayv_vin)) #somando os valores de cada lista\n",
    "imagem_mayv_soma.shape"
   ]
  },
  {
   "cell_type": "markdown",
   "metadata": {
    "id": "3iW3latqh0Ye"
   },
   "source": [
    "## Rótulo MAYV"
   ]
  },
  {
   "cell_type": "code",
   "execution_count": 32,
   "metadata": {
    "colab": {
     "base_uri": "https://localhost:8080/"
    },
    "id": "zXJj31r4Z1Bt",
    "outputId": "aa1d1f7b-f36a-445f-e93d-1c855fb130cf"
   },
   "outputs": [
    {
     "data": {
      "text/plain": [
       "(1280,)"
      ]
     },
     "execution_count": 32,
     "metadata": {},
     "output_type": "execute_result"
    }
   ],
   "source": [
    "for i in lista_mayv_rotulo:\n",
    "    if \"_25_\" in i:\n",
    "        rot_mayv_vin = joblib.load(i)\n",
    "    elif \"_50_\" in i:\n",
    "        rot_mayv_ciq = joblib.load(i)\n",
    "    elif \"_75_\" in i:\n",
    "        rot_mayv_set = joblib.load(i)\n",
    "    elif \"_100_\" in i:\n",
    "        rot_mayv_cem = joblib.load(i)\n",
    "rot_mayv_soma = np.asarray(list(rot_mayv_cem) + list(rot_mayv_set) + list(rot_mayv_ciq) + list(rot_mayv_vin)) #somando os valores de cada lista\n",
    "rot_mayv_soma.shape"
   ]
  },
  {
   "cell_type": "code",
   "execution_count": 33,
   "metadata": {
    "colab": {
     "base_uri": "https://localhost:8080/"
    },
    "id": "WPBvFxKgiDoz",
    "outputId": "b28f19d1-e05c-4f50-b4b1-02acb601e0ff"
   },
   "outputs": [
    {
     "data": {
      "text/plain": [
       "1280"
      ]
     },
     "execution_count": 33,
     "metadata": {},
     "output_type": "execute_result"
    }
   ],
   "source": [
    "# Pegando o número de imagens\n",
    "num_de_imagens = imagem_mayv_soma.shape[0]\n",
    "num_de_imagens"
   ]
  },
  {
   "cell_type": "code",
   "execution_count": 34,
   "metadata": {
    "colab": {
     "base_uri": "https://localhost:8080/"
    },
    "id": "r_P55fpLiTSu",
    "outputId": "ef9abe45-8faa-46e1-949d-5d6b1003d980"
   },
   "outputs": [
    {
     "data": {
      "text/plain": [
       "(1280, 120000)"
      ]
     },
     "execution_count": 34,
     "metadata": {},
     "output_type": "execute_result"
    }
   ],
   "source": [
    "# Modificando o formato do numpy para que cada imagem tenha apenas 1-D (Flatten)\n",
    "imagem_flat_mayv = imagem_mayv_soma.reshape(num_de_imagens, -1)\n",
    "imagem_flat_mayv.shape"
   ]
  },
  {
   "cell_type": "markdown",
   "metadata": {
    "id": "_I8FY_S_iYMm"
   },
   "source": [
    "## DataFrame MAYV"
   ]
  },
  {
   "cell_type": "code",
   "execution_count": 35,
   "metadata": {
    "colab": {
     "base_uri": "https://localhost:8080/",
     "height": 299
    },
    "id": "j36Uf2ERiaOo",
    "outputId": "5eca5e1c-2949-4afb-cfcd-f711d453420a"
   },
   "outputs": [
    {
     "name": "stdout",
     "output_type": "stream",
     "text": [
      "<class 'pandas.core.frame.DataFrame'>\n",
      "RangeIndex: 1280 entries, 0 to 1279\n",
      "Columns: 120000 entries, 0 to 119999\n",
      "dtypes: uint8(120000)\n",
      "memory usage: 146.5 MB\n"
     ]
    }
   ],
   "source": [
    "df_imagens_mayv = pd.DataFrame(imagem_flat_mayv)\n",
    "df_imagens_mayv.info()"
   ]
  },
  {
   "cell_type": "code",
   "execution_count": 36,
   "metadata": {
    "colab": {
     "base_uri": "https://localhost:8080/",
     "height": 299
    },
    "id": "_CL3o0EWiXC8",
    "outputId": "40e7deb7-29c0-4566-856f-4bbe3e18470c"
   },
   "outputs": [
    {
     "name": "stdout",
     "output_type": "stream",
     "text": [
      "<class 'pandas.core.frame.DataFrame'>\n",
      "Int64Index: 128 entries, 991 to 25\n",
      "Columns: 120001 entries, 0 to Rótulo_Y\n",
      "dtypes: object(1), uint8(120000)\n",
      "memory usage: 14.7+ MB\n"
     ]
    }
   ],
   "source": [
    "df_imagens_mayv['Rótulo_Y'] = rot_mayv_soma\n",
    "df_imagens_mayv = df_imagens_mayv.sample(frac=frac_test_inicial)\n",
    "df_imagens_mayv.info()"
   ]
  },
  {
   "cell_type": "code",
   "execution_count": 37,
   "metadata": {},
   "outputs": [
    {
     "data": {
      "text/plain": [
       "MAYV    128\n",
       "Name: Rótulo_Y, dtype: int64"
      ]
     },
     "execution_count": 37,
     "metadata": {},
     "output_type": "execute_result"
    }
   ],
   "source": [
    "df_imagens_mayv['Rótulo_Y'].value_counts()"
   ]
  },
  {
   "cell_type": "markdown",
   "metadata": {
    "id": "Ce6QvgAbi4q_",
    "tags": []
   },
   "source": [
    "# DENV"
   ]
  },
  {
   "cell_type": "markdown",
   "metadata": {
    "id": "YtRVAJdPi6TV"
   },
   "source": [
    "## DENV Cell Line"
   ]
  },
  {
   "cell_type": "code",
   "execution_count": 38,
   "metadata": {},
   "outputs": [
    {
     "name": "stdout",
     "output_type": "stream",
     "text": [
      "-------------\n",
      "-=< Lista >=-\n",
      "-------------\n",
      "0 -> ./../results/Classificação_imagens_DOC_CNN/lista_img_camp_clar_75_resized_regressao_mAb_DENV12022-10-25.gz\n",
      "1 -> ./../results/Classificação_imagens_DOC_CNN/lista_img_camp_clar_100_resized_regressao_mAb_DENV12022-10-25.gz\n",
      "2 -> ./../results/Classificação_imagens_DOC_CNN/lista_img_camp_clar_25_resized_regressao_mAb_DENV12022-10-25.gz\n",
      "3 -> ./../results/Classificação_imagens_DOC_CNN/lista_img_camp_clar_50_resized_regressao_mAb_DENV12022-10-25.gz\n"
     ]
    }
   ],
   "source": [
    "lista_denv_img = [diretorio+i for i in lista_dados if \"mAb_DENV\" in i and \"img\" in i]\n",
    "lista_denv_rotulo = [diretorio+i for i in lista_dados if \"mAb_DENV\" in i and \"rotulo\" in i]\n",
    "printLis(lista_denv_img)"
   ]
  },
  {
   "cell_type": "code",
   "execution_count": 39,
   "metadata": {
    "colab": {
     "base_uri": "https://localhost:8080/"
    },
    "id": "zXJj31r4Z1Bt",
    "outputId": "aa1d1f7b-f36a-445f-e93d-1c855fb130cf"
   },
   "outputs": [
    {
     "data": {
      "text/plain": [
       "(1520, 200, 200, 3)"
      ]
     },
     "execution_count": 39,
     "metadata": {},
     "output_type": "execute_result"
    }
   ],
   "source": [
    "for i in lista_denv_img:\n",
    "    if \"_25_\" in i:\n",
    "        imagem_denv_vin = joblib.load(i)\n",
    "    elif \"_50_\" in i:\n",
    "        imagem_denv_ciq = joblib.load(i)\n",
    "    elif \"_75_\" in i:\n",
    "        imagem_denv_set = joblib.load(i)\n",
    "    elif \"_100_\" in i:\n",
    "        imagem_denv_cem = joblib.load(i)\n",
    "imagem_denv_soma = np.asarray(list(imagem_denv_cem) + list(imagem_denv_set) + list(imagem_denv_ciq) + list(imagem_denv_vin)) #somando os valores de cada lista\n",
    "imagem_denv_soma.shape"
   ]
  },
  {
   "cell_type": "markdown",
   "metadata": {
    "id": "y9oTzUd1jQ0M"
   },
   "source": [
    "## Rótulo DENV"
   ]
  },
  {
   "cell_type": "code",
   "execution_count": 40,
   "metadata": {
    "colab": {
     "base_uri": "https://localhost:8080/"
    },
    "id": "zXJj31r4Z1Bt",
    "outputId": "aa1d1f7b-f36a-445f-e93d-1c855fb130cf"
   },
   "outputs": [
    {
     "data": {
      "text/plain": [
       "(1520,)"
      ]
     },
     "execution_count": 40,
     "metadata": {},
     "output_type": "execute_result"
    }
   ],
   "source": [
    "for i in lista_denv_rotulo:\n",
    "    if \"_25_\" in i:\n",
    "        rot_denv_vin = joblib.load(i)\n",
    "    elif \"_50_\" in i:\n",
    "        rot_denv_ciq = joblib.load(i)\n",
    "    elif \"_75_\" in i:\n",
    "        rot_denv_set = joblib.load(i)\n",
    "    elif \"_100_\" in i:\n",
    "        rot_denv_cem = joblib.load(i)\n",
    "rot_denv_soma = np.asarray(list(rot_denv_cem) + list(rot_denv_set) + list(rot_denv_ciq) + list(rot_denv_vin)) #somando os valores de cada lista\n",
    "rot_denv_soma.shape"
   ]
  },
  {
   "cell_type": "code",
   "execution_count": 41,
   "metadata": {
    "colab": {
     "base_uri": "https://localhost:8080/"
    },
    "id": "9A9idSNojNHF",
    "outputId": "22fc2818-1aa5-4696-affc-e76167396d2a"
   },
   "outputs": [
    {
     "data": {
      "text/plain": [
       "1520"
      ]
     },
     "execution_count": 41,
     "metadata": {},
     "output_type": "execute_result"
    }
   ],
   "source": [
    "# Pegando o número de imagens\n",
    "num_de_imagens = imagem_denv_soma.shape[0]\n",
    "num_de_imagens"
   ]
  },
  {
   "cell_type": "code",
   "execution_count": 42,
   "metadata": {
    "colab": {
     "base_uri": "https://localhost:8080/"
    },
    "id": "mTmRL51kj3To",
    "outputId": "57ca6c56-0645-4f60-e163-afbfaec0328f"
   },
   "outputs": [
    {
     "data": {
      "text/plain": [
       "(1520, 120000)"
      ]
     },
     "execution_count": 42,
     "metadata": {},
     "output_type": "execute_result"
    }
   ],
   "source": [
    "# Modificando o formato do numpy para que cada imagem tenha apenas 1-D (Flatten)\n",
    "imagem_flat_denv = imagem_denv_soma.reshape(num_de_imagens, -1)\n",
    "imagem_flat_denv.shape"
   ]
  },
  {
   "cell_type": "markdown",
   "metadata": {
    "id": "HTDbfFlOj-4Q"
   },
   "source": [
    "## DataFrame Denv"
   ]
  },
  {
   "cell_type": "code",
   "execution_count": 43,
   "metadata": {
    "colab": {
     "base_uri": "https://localhost:8080/",
     "height": 299
    },
    "id": "ztIIp8ROj94x",
    "outputId": "ee8237eb-5d02-4f1e-cd7c-2df7875f4e7b"
   },
   "outputs": [
    {
     "name": "stdout",
     "output_type": "stream",
     "text": [
      "<class 'pandas.core.frame.DataFrame'>\n",
      "RangeIndex: 1520 entries, 0 to 1519\n",
      "Columns: 120000 entries, 0 to 119999\n",
      "dtypes: uint8(120000)\n",
      "memory usage: 174.0 MB\n"
     ]
    }
   ],
   "source": [
    "df_imagens_denv = pd.DataFrame(imagem_flat_denv)\n",
    "df_imagens_denv.info()"
   ]
  },
  {
   "cell_type": "code",
   "execution_count": 44,
   "metadata": {
    "colab": {
     "base_uri": "https://localhost:8080/",
     "height": 299
    },
    "id": "c4hDfFdukK48",
    "outputId": "8bb5c963-e5a6-4c02-b2ff-c11904f7223a"
   },
   "outputs": [
    {
     "name": "stdout",
     "output_type": "stream",
     "text": [
      "<class 'pandas.core.frame.DataFrame'>\n",
      "Int64Index: 152 entries, 35 to 1294\n",
      "Columns: 120001 entries, 0 to Rótulo_Y\n",
      "dtypes: object(1), uint8(120000)\n",
      "memory usage: 17.4+ MB\n"
     ]
    }
   ],
   "source": [
    "df_imagens_denv['Rótulo_Y'] = rot_denv_soma\n",
    "df_imagens_denv = df_imagens_denv.sample(frac=frac_test_inicial)\n",
    "df_imagens_denv.info()"
   ]
  },
  {
   "cell_type": "code",
   "execution_count": 45,
   "metadata": {},
   "outputs": [
    {
     "data": {
      "text/plain": [
       "mAb_DENV1    152\n",
       "Name: Rótulo_Y, dtype: int64"
      ]
     },
     "execution_count": 45,
     "metadata": {},
     "output_type": "execute_result"
    }
   ],
   "source": [
    "df_imagens_denv['Rótulo_Y'].value_counts()"
   ]
  },
  {
   "cell_type": "markdown",
   "metadata": {
    "id": "01fwZ9AGle2h",
    "tags": []
   },
   "source": [
    "# Vero6"
   ]
  },
  {
   "cell_type": "markdown",
   "metadata": {
    "id": "HFXa_XkRlmEH"
   },
   "source": [
    "## Vero6 Cell Line"
   ]
  },
  {
   "cell_type": "code",
   "execution_count": 46,
   "metadata": {},
   "outputs": [
    {
     "name": "stdout",
     "output_type": "stream",
     "text": [
      "-------------\n",
      "-=< Lista >=-\n",
      "-------------\n",
      "0 -> ./../results/Classificação_imagens_DOC_CNN/Cópia de lista_img_camp_clar_25_resized_regressao_VERO62022-10-24.gz\n",
      "1 -> ./../results/Classificação_imagens_DOC_CNN/Cópia de lista_img_camp_clar_75_resized_regressao_VERO62022-10-24.gz\n",
      "2 -> ./../results/Classificação_imagens_DOC_CNN/Cópia de lista_img_camp_clar_100_resized_regressao_VERO62022-10-24.gz\n",
      "3 -> ./../results/Classificação_imagens_DOC_CNN/Cópia de lista_img_camp_clar_50_resized_regressao_VERO62022-10-24.gz\n"
     ]
    }
   ],
   "source": [
    "lista_vero_img = [diretorio+i for i in lista_dados if \"VERO\" in i and \"img\" in i]\n",
    "lista_vero_rotulo = [diretorio+i for i in lista_dados if \"VERO\" in i and \"rotulo\" in i]\n",
    "printLis(lista_vero_img)"
   ]
  },
  {
   "cell_type": "code",
   "execution_count": 47,
   "metadata": {
    "colab": {
     "base_uri": "https://localhost:8080/"
    },
    "id": "zXJj31r4Z1Bt",
    "outputId": "aa1d1f7b-f36a-445f-e93d-1c855fb130cf"
   },
   "outputs": [
    {
     "data": {
      "text/plain": [
       "(1792, 200, 200, 3)"
      ]
     },
     "execution_count": 47,
     "metadata": {},
     "output_type": "execute_result"
    }
   ],
   "source": [
    "for i in lista_vero_img:\n",
    "    if \"_25_\" in i:\n",
    "        imagem_vero_vin = joblib.load(i)\n",
    "    elif \"_50_\" in i:\n",
    "        imagem_vero_ciq = joblib.load(i)\n",
    "    elif \"_75_\" in i:\n",
    "        imagem_vero_set = joblib.load(i)\n",
    "    elif \"_100_\" in i:\n",
    "        imagem_vero_cem = joblib.load(i)\n",
    "imagem_vero_soma = np.asarray(list(imagem_vero_cem) + list(imagem_vero_set) + list(imagem_vero_ciq) + list(imagem_vero_vin)) #somando os valores de cada lista\n",
    "imagem_vero_soma.shape"
   ]
  },
  {
   "cell_type": "markdown",
   "metadata": {
    "id": "eTnEbus0mMk1"
   },
   "source": [
    "## Rótulo Vero6"
   ]
  },
  {
   "cell_type": "code",
   "execution_count": 48,
   "metadata": {
    "colab": {
     "base_uri": "https://localhost:8080/"
    },
    "id": "zXJj31r4Z1Bt",
    "outputId": "aa1d1f7b-f36a-445f-e93d-1c855fb130cf"
   },
   "outputs": [
    {
     "data": {
      "text/plain": [
       "(1792,)"
      ]
     },
     "execution_count": 48,
     "metadata": {},
     "output_type": "execute_result"
    }
   ],
   "source": [
    "for i in lista_vero_rotulo:\n",
    "    if \"_25_\" in i:\n",
    "        rot_vero_vin = joblib.load(i)\n",
    "    elif \"_50_\" in i:\n",
    "        rot_vero_ciq = joblib.load(i)\n",
    "    elif \"_75_\" in i:\n",
    "        rot_vero_set = joblib.load(i)\n",
    "    elif \"_100_\" in i:\n",
    "        rot_vero_cem = joblib.load(i)\n",
    "rot_vero_soma = np.asarray(list(rot_vero_cem) + list(rot_vero_set) + list(rot_vero_ciq) + list(rot_vero_vin)) #somando os valores de cada lista\n",
    "rot_vero_soma.shape"
   ]
  },
  {
   "cell_type": "code",
   "execution_count": 49,
   "metadata": {
    "colab": {
     "base_uri": "https://localhost:8080/"
    },
    "id": "mKGe73PumtfP",
    "outputId": "fcc00eac-6938-4d3e-fdc9-9c616a2a3026"
   },
   "outputs": [
    {
     "data": {
      "text/plain": [
       "1792"
      ]
     },
     "execution_count": 49,
     "metadata": {},
     "output_type": "execute_result"
    }
   ],
   "source": [
    "# Pegando o número de imagens\n",
    "num_de_imagens = imagem_vero_soma.shape[0]\n",
    "num_de_imagens"
   ]
  },
  {
   "cell_type": "code",
   "execution_count": 50,
   "metadata": {
    "colab": {
     "base_uri": "https://localhost:8080/"
    },
    "id": "MNAjNGWfmyL6",
    "outputId": "5bcf0d4d-d5ec-4d77-cb13-fe5512a1873b"
   },
   "outputs": [
    {
     "data": {
      "text/plain": [
       "(1792, 120000)"
      ]
     },
     "execution_count": 50,
     "metadata": {},
     "output_type": "execute_result"
    }
   ],
   "source": [
    "# Modificando o formato do numpy para que cada imagem tenha apenas 1-D (Flatten)\n",
    "imagem_flat_vero = imagem_vero_soma.reshape(num_de_imagens, -1)\n",
    "imagem_flat_vero.shape"
   ]
  },
  {
   "cell_type": "markdown",
   "metadata": {
    "id": "ks4a79Egm7Mu"
   },
   "source": [
    "## DataFrame Vero6"
   ]
  },
  {
   "cell_type": "code",
   "execution_count": 51,
   "metadata": {
    "colab": {
     "base_uri": "https://localhost:8080/",
     "height": 299
    },
    "id": "ll9BQPLTm9Gy",
    "outputId": "ce7cb06d-739d-4401-9185-5bedbbf723c0"
   },
   "outputs": [
    {
     "name": "stdout",
     "output_type": "stream",
     "text": [
      "<class 'pandas.core.frame.DataFrame'>\n",
      "RangeIndex: 1792 entries, 0 to 1791\n",
      "Columns: 120000 entries, 0 to 119999\n",
      "dtypes: uint8(120000)\n",
      "memory usage: 205.1 MB\n"
     ]
    }
   ],
   "source": [
    "df_imagens_vero = pd.DataFrame(imagem_flat_vero)\n",
    "df_imagens_vero.info()"
   ]
  },
  {
   "cell_type": "code",
   "execution_count": 52,
   "metadata": {
    "colab": {
     "base_uri": "https://localhost:8080/",
     "height": 299
    },
    "id": "8pOE9plAnEJs",
    "outputId": "9ea08ded-5ec4-4b52-c32c-4c41609f10f5"
   },
   "outputs": [
    {
     "name": "stdout",
     "output_type": "stream",
     "text": [
      "<class 'pandas.core.frame.DataFrame'>\n",
      "Int64Index: 179 entries, 460 to 310\n",
      "Columns: 120001 entries, 0 to Rótulo_Y\n",
      "dtypes: object(1), uint8(120000)\n",
      "memory usage: 20.5+ MB\n"
     ]
    }
   ],
   "source": [
    "df_imagens_vero['Rótulo_Y'] = rot_vero_soma\n",
    "df_imagens_vero = df_imagens_vero.sample(frac=frac_test_inicial)\n",
    "df_imagens_vero.info()"
   ]
  },
  {
   "cell_type": "code",
   "execution_count": 53,
   "metadata": {},
   "outputs": [
    {
     "data": {
      "text/plain": [
       "VERO6    179\n",
       "Name: Rótulo_Y, dtype: int64"
      ]
     },
     "execution_count": 53,
     "metadata": {},
     "output_type": "execute_result"
    }
   ],
   "source": [
    "df_imagens_vero['Rótulo_Y'] = \"VERO6\"\n",
    "df_imagens_vero[\"Rótulo_Y\"].value_counts()"
   ]
  },
  {
   "cell_type": "markdown",
   "metadata": {
    "id": "dTAVNYJhz2Yp",
    "tags": []
   },
   "source": [
    "# A549"
   ]
  },
  {
   "cell_type": "markdown",
   "metadata": {
    "id": "gYLeFoEtz4Wg"
   },
   "source": [
    "## A549 Cell Line"
   ]
  },
  {
   "cell_type": "code",
   "execution_count": 54,
   "metadata": {},
   "outputs": [
    {
     "name": "stdout",
     "output_type": "stream",
     "text": [
      "-------------\n",
      "-=< Lista >=-\n",
      "-------------\n",
      "0 -> ./../results/Classificação_imagens_DOC_CNN/lista_img_camp_clar_75_resized_regressao_A5492022-11-3.gz\n",
      "1 -> ./../results/Classificação_imagens_DOC_CNN/lista_img_camp_clar_25_resized_regressao_A5492022-11-3.gz\n",
      "2 -> ./../results/Classificação_imagens_DOC_CNN/lista_img_camp_clar_50_resized_regressao_A5492022-11-3.gz\n",
      "3 -> ./../results/Classificação_imagens_DOC_CNN/lista_img_camp_clar_100_resized_regressao_A5492022-11-3.gz\n"
     ]
    }
   ],
   "source": [
    "lista_A549_img = [diretorio+i for i in lista_dados if \"A549\" in i and \"img\" in i]\n",
    "lista_A549_rotulo = [diretorio+i for i in lista_dados if \"A549\" in i and \"rotulo\" in i]\n",
    "printLis(lista_A549_img)"
   ]
  },
  {
   "cell_type": "code",
   "execution_count": 55,
   "metadata": {
    "colab": {
     "base_uri": "https://localhost:8080/"
    },
    "id": "zXJj31r4Z1Bt",
    "outputId": "aa1d1f7b-f36a-445f-e93d-1c855fb130cf"
   },
   "outputs": [
    {
     "data": {
      "text/plain": [
       "(1136, 200, 200, 3)"
      ]
     },
     "execution_count": 55,
     "metadata": {},
     "output_type": "execute_result"
    }
   ],
   "source": [
    "for i in lista_A549_img:\n",
    "    if \"_25_\" in i:\n",
    "        imagem_A549_vin = joblib.load(i)\n",
    "    elif \"_50_\" in i:\n",
    "        imagem_A549_ciq = joblib.load(i)\n",
    "    elif \"_75_\" in i:\n",
    "        imagem_A549_set = joblib.load(i)\n",
    "    elif \"_100_\" in i:\n",
    "        imagem_A549_cem = joblib.load(i)\n",
    "imagem_A549_soma = np.asarray(list(imagem_A549_cem) + list(imagem_A549_set) + list(imagem_A549_ciq) + list(imagem_A549_vin)) #somando os valores de cada lista\n",
    "imagem_A549_soma.shape"
   ]
  },
  {
   "cell_type": "markdown",
   "metadata": {
    "id": "eTnEbus0mMk1"
   },
   "source": [
    "## Rótulo A549"
   ]
  },
  {
   "cell_type": "code",
   "execution_count": 56,
   "metadata": {
    "colab": {
     "base_uri": "https://localhost:8080/"
    },
    "id": "zXJj31r4Z1Bt",
    "outputId": "aa1d1f7b-f36a-445f-e93d-1c855fb130cf"
   },
   "outputs": [
    {
     "data": {
      "text/plain": [
       "(1136,)"
      ]
     },
     "execution_count": 56,
     "metadata": {},
     "output_type": "execute_result"
    }
   ],
   "source": [
    "for i in lista_A549_rotulo:\n",
    "    if \"_25_\" in i:\n",
    "        rot_A549_vin = joblib.load(i)\n",
    "    elif \"_50_\" in i:\n",
    "        rot_A549_ciq = joblib.load(i)\n",
    "    elif \"_75_\" in i:\n",
    "        rot_A549_set = joblib.load(i)\n",
    "    elif \"_100_\" in i:\n",
    "        rot_A549_cem = joblib.load(i)\n",
    "rot_A549_soma = np.asarray(list(rot_A549_cem) + list(rot_A549_set) + list(rot_A549_ciq) + list(rot_A549_vin)) #somando os valores de cada lista\n",
    "rot_A549_soma.shape"
   ]
  },
  {
   "cell_type": "code",
   "execution_count": 57,
   "metadata": {
    "colab": {
     "base_uri": "https://localhost:8080/"
    },
    "id": "0ee9iHCZ9ZsU",
    "outputId": "fe77d865-a830-4303-debf-4f4d87426769"
   },
   "outputs": [
    {
     "data": {
      "text/plain": [
       "1136"
      ]
     },
     "execution_count": 57,
     "metadata": {},
     "output_type": "execute_result"
    }
   ],
   "source": [
    "# Pegando o número de imagens\n",
    "num_de_imagens = imagem_A549_soma.shape[0]\n",
    "num_de_imagens"
   ]
  },
  {
   "cell_type": "code",
   "execution_count": 58,
   "metadata": {
    "colab": {
     "base_uri": "https://localhost:8080/"
    },
    "id": "zBEJX0U59l0l",
    "outputId": "4955c06f-fe6c-478f-b45d-94783a74eeb0"
   },
   "outputs": [
    {
     "data": {
      "text/plain": [
       "(1136, 120000)"
      ]
     },
     "execution_count": 58,
     "metadata": {},
     "output_type": "execute_result"
    }
   ],
   "source": [
    "# Modificando o formato do numpy para que cada imagem tenha apenas 1-D (Flatten)\n",
    "imagem_flat_A549 = imagem_A549_soma.reshape(num_de_imagens, -1)\n",
    "imagem_flat_A549.shape"
   ]
  },
  {
   "cell_type": "markdown",
   "metadata": {
    "id": "6wSfQ8do9w1y"
   },
   "source": [
    "## DataFrame A549"
   ]
  },
  {
   "cell_type": "code",
   "execution_count": 59,
   "metadata": {
    "colab": {
     "base_uri": "https://localhost:8080/",
     "height": 299
    },
    "id": "SZvnt3R09zCF",
    "outputId": "078104ed-f9c7-4eae-9404-78ef7edcf3a1"
   },
   "outputs": [
    {
     "name": "stdout",
     "output_type": "stream",
     "text": [
      "<class 'pandas.core.frame.DataFrame'>\n",
      "RangeIndex: 1136 entries, 0 to 1135\n",
      "Columns: 120000 entries, 0 to 119999\n",
      "dtypes: uint8(120000)\n",
      "memory usage: 130.0 MB\n"
     ]
    }
   ],
   "source": [
    "df_imagens_A549 = pd.DataFrame(imagem_flat_A549)\n",
    "df_imagens_A549.info()"
   ]
  },
  {
   "cell_type": "code",
   "execution_count": 60,
   "metadata": {
    "colab": {
     "base_uri": "https://localhost:8080/",
     "height": 299
    },
    "id": "yNoJyac393u2",
    "outputId": "00a2cbef-14f6-4ea3-c8b2-376d0573c1f1"
   },
   "outputs": [
    {
     "name": "stdout",
     "output_type": "stream",
     "text": [
      "<class 'pandas.core.frame.DataFrame'>\n",
      "Int64Index: 114 entries, 550 to 618\n",
      "Columns: 120001 entries, 0 to Rótulo_Y\n",
      "dtypes: object(1), uint8(120000)\n",
      "memory usage: 13.0+ MB\n"
     ]
    }
   ],
   "source": [
    "df_imagens_A549['Rótulo_Y'] = rot_A549_soma\n",
    "df_imagens_A549 = df_imagens_A549.sample(frac=frac_test_inicial)\n",
    "df_imagens_A549.info()"
   ]
  },
  {
   "cell_type": "code",
   "execution_count": 61,
   "metadata": {},
   "outputs": [
    {
     "data": {
      "text/plain": [
       "A549    114\n",
       "Name: Rótulo_Y, dtype: int64"
      ]
     },
     "execution_count": 61,
     "metadata": {},
     "output_type": "execute_result"
    }
   ],
   "source": [
    "df_imagens_A549['Rótulo_Y'].value_counts()"
   ]
  },
  {
   "cell_type": "markdown",
   "metadata": {
    "id": "D9DRMgkf-BA_",
    "tags": []
   },
   "source": [
    "# HUH7"
   ]
  },
  {
   "cell_type": "markdown",
   "metadata": {
    "id": "B1ApufcW-Cft"
   },
   "source": [
    "## HUH7 Cell Line"
   ]
  },
  {
   "cell_type": "code",
   "execution_count": 62,
   "metadata": {},
   "outputs": [
    {
     "name": "stdout",
     "output_type": "stream",
     "text": [
      "-------------\n",
      "-=< Lista >=-\n",
      "-------------\n",
      "0 -> ./../results/Classificação_imagens_DOC_CNN/lista_img_camp_clar_25_resized_regressao_HUH72022-11-3.gz\n",
      "1 -> ./../results/Classificação_imagens_DOC_CNN/lista_img_camp_clar_100_resized_regressao_HUH72022-11-3.gz\n",
      "2 -> ./../results/Classificação_imagens_DOC_CNN/lista_img_camp_clar_50_resized_regressao_HUH72022-11-3.gz\n",
      "3 -> ./../results/Classificação_imagens_DOC_CNN/lista_img_camp_clar_75_resized_regressao_HUH72022-11-3.gz\n"
     ]
    }
   ],
   "source": [
    "lista_Huh7_img = [diretorio+i for i in lista_dados if \"HUH7\" in i and \"img\" in i]\n",
    "lista_Huh7_rotulo = [diretorio+i for i in lista_dados if \"HUH7\" in i and \"rotulo\" in i]\n",
    "printLis(lista_Huh7_img)"
   ]
  },
  {
   "cell_type": "code",
   "execution_count": 63,
   "metadata": {
    "colab": {
     "base_uri": "https://localhost:8080/"
    },
    "id": "zXJj31r4Z1Bt",
    "outputId": "aa1d1f7b-f36a-445f-e93d-1c855fb130cf"
   },
   "outputs": [
    {
     "data": {
      "text/plain": [
       "(704, 200, 200, 3)"
      ]
     },
     "execution_count": 63,
     "metadata": {},
     "output_type": "execute_result"
    }
   ],
   "source": [
    "for i in lista_Huh7_img:\n",
    "    if \"_25_\" in i:\n",
    "        imagem_Huh7_vin = joblib.load(i)\n",
    "    elif \"_50_\" in i:\n",
    "        imagem_Huh7_ciq = joblib.load(i)\n",
    "    elif \"_75_\" in i:\n",
    "        imagem_Huh7_set = joblib.load(i)\n",
    "    elif \"_100_\" in i:\n",
    "        imagem_Huh7_cem = joblib.load(i)\n",
    "imagem_Huh7_soma = np.asarray(list(imagem_Huh7_cem) + list(imagem_Huh7_set) + list(imagem_Huh7_ciq) + list(imagem_Huh7_vin)) #somando os valores de cada lista\n",
    "imagem_Huh7_soma.shape"
   ]
  },
  {
   "cell_type": "markdown",
   "metadata": {
    "id": "eTnEbus0mMk1"
   },
   "source": [
    "## Rótulo Huh7"
   ]
  },
  {
   "cell_type": "code",
   "execution_count": 64,
   "metadata": {
    "colab": {
     "base_uri": "https://localhost:8080/"
    },
    "id": "zXJj31r4Z1Bt",
    "outputId": "aa1d1f7b-f36a-445f-e93d-1c855fb130cf"
   },
   "outputs": [
    {
     "data": {
      "text/plain": [
       "(704,)"
      ]
     },
     "execution_count": 64,
     "metadata": {},
     "output_type": "execute_result"
    }
   ],
   "source": [
    "for i in lista_Huh7_rotulo:\n",
    "    if \"_25_\" in i:\n",
    "        rot_Huh7_vin = joblib.load(i)\n",
    "    elif \"_50_\" in i:\n",
    "        rot_Huh7_ciq = joblib.load(i)\n",
    "    elif \"_75_\" in i:\n",
    "        rot_Huh7_set = joblib.load(i)\n",
    "    elif \"_100_\" in i:\n",
    "        rot_Huh7_cem = joblib.load(i)\n",
    "rot_Huh7_soma = np.asarray(list(rot_Huh7_cem) + list(rot_Huh7_set) + list(rot_Huh7_ciq) + list(rot_Huh7_vin)) #somando os valores de cada lista\n",
    "rot_Huh7_soma.shape"
   ]
  },
  {
   "cell_type": "code",
   "execution_count": 65,
   "metadata": {
    "colab": {
     "base_uri": "https://localhost:8080/"
    },
    "id": "voNgVRqG-yAR",
    "outputId": "ae742b8b-77f7-41ff-b7f3-2601261a21db"
   },
   "outputs": [
    {
     "data": {
      "text/plain": [
       "704"
      ]
     },
     "execution_count": 65,
     "metadata": {},
     "output_type": "execute_result"
    }
   ],
   "source": [
    "# Pegando o número de imagens\n",
    "num_de_imagens = imagem_Huh7_soma.shape[0]\n",
    "num_de_imagens"
   ]
  },
  {
   "cell_type": "code",
   "execution_count": 66,
   "metadata": {
    "colab": {
     "base_uri": "https://localhost:8080/"
    },
    "id": "UP7vq3Gt-_Jy",
    "outputId": "8448ff6c-b89a-4670-ed2f-1bacc65a8b52"
   },
   "outputs": [
    {
     "data": {
      "text/plain": [
       "(704, 120000)"
      ]
     },
     "execution_count": 66,
     "metadata": {},
     "output_type": "execute_result"
    }
   ],
   "source": [
    "# Modificando o formato do numpy para que cada imagem tenha apenas 1-D (Flatten)\n",
    "imagem_flat_Huh7 = imagem_Huh7_soma.reshape(num_de_imagens, -1)\n",
    "imagem_flat_Huh7.shape"
   ]
  },
  {
   "cell_type": "markdown",
   "metadata": {
    "id": "yO4u4dt9_Gxc"
   },
   "source": [
    "## DataFrame Huh7"
   ]
  },
  {
   "cell_type": "code",
   "execution_count": 67,
   "metadata": {
    "colab": {
     "base_uri": "https://localhost:8080/",
     "height": 299
    },
    "id": "mqOwSwct_EEF",
    "outputId": "2467d0ea-6beb-438d-cb28-46294059fb92"
   },
   "outputs": [
    {
     "name": "stdout",
     "output_type": "stream",
     "text": [
      "<class 'pandas.core.frame.DataFrame'>\n",
      "RangeIndex: 704 entries, 0 to 703\n",
      "Columns: 120000 entries, 0 to 119999\n",
      "dtypes: uint8(120000)\n",
      "memory usage: 80.6 MB\n"
     ]
    }
   ],
   "source": [
    "df_imagens_Huh7 = pd.DataFrame(imagem_flat_Huh7)\n",
    "df_imagens_Huh7.info()"
   ]
  },
  {
   "cell_type": "markdown",
   "metadata": {
    "id": "0exFTzqD_Ovu"
   },
   "source": [
    "## Incluindo rótulos"
   ]
  },
  {
   "cell_type": "code",
   "execution_count": 68,
   "metadata": {
    "colab": {
     "base_uri": "https://localhost:8080/",
     "height": 299
    },
    "id": "WkIOjAZH_Nq5",
    "outputId": "5bd18651-7c9c-40ce-f855-754478e78c74"
   },
   "outputs": [
    {
     "name": "stdout",
     "output_type": "stream",
     "text": [
      "<class 'pandas.core.frame.DataFrame'>\n",
      "Int64Index: 70 entries, 532 to 385\n",
      "Columns: 120001 entries, 0 to Rótulo_Y\n",
      "dtypes: object(1), uint8(120000)\n",
      "memory usage: 8.0+ MB\n"
     ]
    }
   ],
   "source": [
    "df_imagens_Huh7['Rótulo_Y'] = rot_Huh7_soma\n",
    "df_imagens_Huh7 = df_imagens_Huh7.sample(frac=frac_test_inicial)\n",
    "df_imagens_Huh7.info()"
   ]
  },
  {
   "cell_type": "code",
   "execution_count": 69,
   "metadata": {
    "id": "tso89uSZ_X-6"
   },
   "outputs": [],
   "source": [
    "df_imagens_Huh7['Rótulo_Y'].replace('ajuste_huh7','Huh7', inplace=True)"
   ]
  },
  {
   "cell_type": "code",
   "execution_count": 70,
   "metadata": {},
   "outputs": [
    {
     "data": {
      "text/plain": [
       "Huh7    70\n",
       "Name: Rótulo_Y, dtype: int64"
      ]
     },
     "execution_count": 70,
     "metadata": {},
     "output_type": "execute_result"
    }
   ],
   "source": [
    "df_imagens_Huh7['Rótulo_Y'].value_counts()"
   ]
  },
  {
   "cell_type": "markdown",
   "metadata": {
    "id": "vIGTGjpPAdWw",
    "tags": []
   },
   "source": [
    "# 3T3"
   ]
  },
  {
   "cell_type": "markdown",
   "metadata": {
    "id": "eMCPIKsgAgOe"
   },
   "source": [
    "## 3T3 Cell Line"
   ]
  },
  {
   "cell_type": "code",
   "execution_count": 71,
   "metadata": {},
   "outputs": [
    {
     "name": "stdout",
     "output_type": "stream",
     "text": [
      "-------------\n",
      "-=< Lista >=-\n",
      "-------------\n",
      "0 -> ./../results/Classificação_imagens_DOC_CNN/lista_img_camp_clar_25_resized_regressao_3T3_2022-11-3.gz\n",
      "1 -> ./../results/Classificação_imagens_DOC_CNN/lista_img_camp_clar_50_resized_regressao_3T3_2022-11-3.gz\n",
      "2 -> ./../results/Classificação_imagens_DOC_CNN/lista_img_camp_clar_100_resized_regressao_3T32022-11-3.gz\n",
      "3 -> ./../results/Classificação_imagens_DOC_CNN/lista_img_camp_clar_75_resized_regressao_3T3_2022-11-3.gz\n"
     ]
    }
   ],
   "source": [
    "lista_3T3_img = [diretorio+i for i in lista_dados if \"3T3\" in i and \"img\" in i]\n",
    "lista_3T3_rotulo = [diretorio+i for i in lista_dados if \"3T3\" in i and \"rotulo\" in i]\n",
    "printLis(lista_3T3_img)"
   ]
  },
  {
   "cell_type": "code",
   "execution_count": 72,
   "metadata": {
    "colab": {
     "base_uri": "https://localhost:8080/"
    },
    "id": "zXJj31r4Z1Bt",
    "outputId": "aa1d1f7b-f36a-445f-e93d-1c855fb130cf"
   },
   "outputs": [
    {
     "data": {
      "text/plain": [
       "(832, 200, 200, 3)"
      ]
     },
     "execution_count": 72,
     "metadata": {},
     "output_type": "execute_result"
    }
   ],
   "source": [
    "for i in lista_3T3_img:\n",
    "    if \"_25_\" in i:\n",
    "        imagem_3T3_vin = joblib.load(i)\n",
    "    elif \"_50_\" in i:\n",
    "        imagem_3T3_ciq = joblib.load(i)\n",
    "    elif \"_75_\" in i:\n",
    "        imagem_3T3_set = joblib.load(i)\n",
    "    elif \"_100_\" in i:\n",
    "        imagem_3T3_cem = joblib.load(i)\n",
    "imagem_3T3_soma = np.asarray(list(imagem_3T3_cem) + list(imagem_3T3_set) + list(imagem_3T3_ciq) + list(imagem_3T3_vin)) #somando os valores de cada lista\n",
    "imagem_3T3_soma.shape"
   ]
  },
  {
   "cell_type": "markdown",
   "metadata": {
    "id": "eTnEbus0mMk1"
   },
   "source": [
    "## Rótulo 3T3"
   ]
  },
  {
   "cell_type": "code",
   "execution_count": 73,
   "metadata": {
    "colab": {
     "base_uri": "https://localhost:8080/"
    },
    "id": "zXJj31r4Z1Bt",
    "outputId": "aa1d1f7b-f36a-445f-e93d-1c855fb130cf"
   },
   "outputs": [
    {
     "data": {
      "text/plain": [
       "(832,)"
      ]
     },
     "execution_count": 73,
     "metadata": {},
     "output_type": "execute_result"
    }
   ],
   "source": [
    "for i in lista_3T3_rotulo:\n",
    "    if \"_25_\" in i:\n",
    "        rot_3T3_vin = joblib.load(i)\n",
    "    elif \"_50_\" in i:\n",
    "        rot_3T3_ciq = joblib.load(i)\n",
    "    elif \"_75_\" in i:\n",
    "        rot_3T3_set = joblib.load(i)\n",
    "    elif \"_100_\" in i:\n",
    "        rot_3T3_cem = joblib.load(i)\n",
    "rot_3T3_soma = np.asarray(list(rot_3T3_cem) + list(rot_3T3_set) + list(rot_3T3_ciq) + list(rot_3T3_vin)) #somando os valores de cada lista\n",
    "rot_3T3_soma.shape"
   ]
  },
  {
   "cell_type": "code",
   "execution_count": 74,
   "metadata": {
    "colab": {
     "base_uri": "https://localhost:8080/"
    },
    "id": "SQpIfqSRBUFJ",
    "outputId": "a2ade54b-8239-4371-d593-c4eb8a01e3ec"
   },
   "outputs": [
    {
     "data": {
      "text/plain": [
       "832"
      ]
     },
     "execution_count": 74,
     "metadata": {},
     "output_type": "execute_result"
    }
   ],
   "source": [
    "# Pegando o número de imagens\n",
    "num_de_imagens = imagem_3T3_soma.shape[0]\n",
    "num_de_imagens"
   ]
  },
  {
   "cell_type": "code",
   "execution_count": 75,
   "metadata": {
    "colab": {
     "base_uri": "https://localhost:8080/"
    },
    "id": "W8V5toayBayt",
    "outputId": "35cbe1be-07d6-4ad0-af40-7093f86bcda0"
   },
   "outputs": [
    {
     "data": {
      "text/plain": [
       "(832, 120000)"
      ]
     },
     "execution_count": 75,
     "metadata": {},
     "output_type": "execute_result"
    }
   ],
   "source": [
    "# Modificando o formato do numpy para que cada imagem tenha apenas 1-D (Flatten)\n",
    "imagem_flat_3T3 = imagem_3T3_soma.reshape(num_de_imagens, -1)\n",
    "imagem_flat_3T3.shape"
   ]
  },
  {
   "cell_type": "markdown",
   "metadata": {
    "id": "d5d3UIpZBgu2"
   },
   "source": [
    "## DataFrame 3T3"
   ]
  },
  {
   "cell_type": "code",
   "execution_count": 76,
   "metadata": {
    "colab": {
     "base_uri": "https://localhost:8080/",
     "height": 299
    },
    "id": "RyV64PxBBeW9",
    "outputId": "a2148e21-08ed-41da-9811-d8a6f724be08"
   },
   "outputs": [
    {
     "name": "stdout",
     "output_type": "stream",
     "text": [
      "<class 'pandas.core.frame.DataFrame'>\n",
      "RangeIndex: 832 entries, 0 to 831\n",
      "Columns: 120000 entries, 0 to 119999\n",
      "dtypes: uint8(120000)\n",
      "memory usage: 95.2 MB\n"
     ]
    }
   ],
   "source": [
    "df_imagens_3T3 = pd.DataFrame(imagem_flat_3T3)\n",
    "df_imagens_3T3.info()"
   ]
  },
  {
   "cell_type": "markdown",
   "metadata": {
    "id": "M6n_Ap2DBo8x"
   },
   "source": [
    "## Incluindo rótulos"
   ]
  },
  {
   "cell_type": "code",
   "execution_count": 77,
   "metadata": {
    "colab": {
     "base_uri": "https://localhost:8080/",
     "height": 299
    },
    "id": "41_I1zeRBmMr",
    "outputId": "f6562c59-ffee-4e8d-96b6-08eafb5d6610"
   },
   "outputs": [
    {
     "name": "stdout",
     "output_type": "stream",
     "text": [
      "<class 'pandas.core.frame.DataFrame'>\n",
      "Int64Index: 83 entries, 775 to 491\n",
      "Columns: 120001 entries, 0 to Rótulo_Y\n",
      "dtypes: object(1), uint8(120000)\n",
      "memory usage: 9.5+ MB\n"
     ]
    }
   ],
   "source": [
    "df_imagens_3T3['Rótulo_Y'] = rot_3T3_soma\n",
    "df_imagens_3T3 = df_imagens_3T3.sample(frac=frac_test_inicial)\n",
    "df_imagens_3T3.info()"
   ]
  },
  {
   "cell_type": "code",
   "execution_count": 78,
   "metadata": {},
   "outputs": [
    {
     "data": {
      "text/plain": [
       "3T3    83\n",
       "Name: Rótulo_Y, dtype: int64"
      ]
     },
     "execution_count": 78,
     "metadata": {},
     "output_type": "execute_result"
    }
   ],
   "source": [
    "df_imagens_3T3['Rótulo_Y'].value_counts()"
   ]
  },
  {
   "cell_type": "markdown",
   "metadata": {
    "id": "UGKgBn58cza3",
    "tags": []
   },
   "source": [
    "# Concatenando todas as Dataframes das linhagens e Salva a DataFrame"
   ]
  },
  {
   "cell_type": "code",
   "execution_count": 79,
   "metadata": {
    "colab": {
     "base_uri": "https://localhost:8080/",
     "height": 488
    },
    "id": "ZbGRYPvyBvCh",
    "outputId": "513bf5b5-bbfe-49e8-ac5c-7b9eeed8eef7"
   },
   "outputs": [
    {
     "name": "stdout",
     "output_type": "stream",
     "text": [
      "<class 'pandas.core.frame.DataFrame'>\n",
      "Int64Index: 1171 entries, 1524 to 491\n",
      "Columns: 120001 entries, 0 to Rótulo_Y\n",
      "dtypes: object(1), uint8(120000)\n",
      "memory usage: 134.0+ MB\n"
     ]
    }
   ],
   "source": [
    "frames = [\n",
    "    df_imagens_thp,\n",
    "    df_imagens_sh,\n",
    "    df_imagens_A172,\n",
    "    df_imagens_mayv,\n",
    "    df_imagens_denv,\n",
    "    df_imagens_vero,\n",
    "    df_imagens_A549,\n",
    "    df_imagens_Huh7,\n",
    "    df_imagens_3T3\n",
    "]\n",
    "  \n",
    "df_uniao_cell_line = pd.concat(frames)\n",
    "df_uniao_cell_line.info()"
   ]
  },
  {
   "cell_type": "code",
   "execution_count": 80,
   "metadata": {},
   "outputs": [],
   "source": [
    "# # Salva a tabela de instâncias\n",
    "# outfile = BZ2File('./data/df_uniao_cell_line', 'w')\n",
    "# dump(df_uniao_cell_line, outfile)\n",
    "# outfile.close()\n",
    "\n",
    "# # Carrega a tabela de instâncias para testas o salvamento\n",
    "# confirmed_file = BZ2File('./data/df_uniao_cell_line','rb')\n",
    "# tabela_de_intancias_load = load(confirmed_file)\n",
    "# confirmed_file.close()\n",
    "# tabela_de_intancias_load.info()"
   ]
  },
  {
   "cell_type": "code",
   "execution_count": 81,
   "metadata": {},
   "outputs": [],
   "source": [
    "# Carrega a tabela de instâncias para testas o salvamento\n",
    "# confirmed_file = BZ2File('./data/df_uniao_cell_line','rb')\n",
    "# df_uniao_cell_line = load(confirmed_file)\n",
    "# confirmed_file.close()\n",
    "# df_uniao_cell_line.info()"
   ]
  },
  {
   "cell_type": "markdown",
   "metadata": {
    "id": "lmSUEslTftzO"
   },
   "source": [
    "# PyCaret"
   ]
  },
  {
   "cell_type": "code",
   "execution_count": 82,
   "metadata": {},
   "outputs": [
    {
     "data": {
      "text/plain": [
       "(4001,)"
      ]
     },
     "execution_count": 82,
     "metadata": {},
     "output_type": "execute_result"
    }
   ],
   "source": [
    "num_pixels = 30 # Dividindo as imagens\n",
    "lista_colunas = [i for i in range(0, len(df_uniao_cell_line.columns), num_pixels)]\n",
    "np.array(lista_colunas).shape"
   ]
  },
  {
   "cell_type": "code",
   "execution_count": 83,
   "metadata": {},
   "outputs": [
    {
     "data": {
      "text/plain": [
       "(1171, 4001)"
      ]
     },
     "execution_count": 83,
     "metadata": {},
     "output_type": "execute_result"
    }
   ],
   "source": [
    "df_uniao_cell_line_reduzida = df_uniao_cell_line.iloc[:, lista_colunas]\n",
    "df_uniao_cell_line_reduzida['Rótulo_Y'] = df_uniao_cell_line.iloc[:, -1]\n",
    "df_uniao_cell_line_reduzida.shape"
   ]
  },
  {
   "cell_type": "code",
   "execution_count": 84,
   "metadata": {},
   "outputs": [
    {
     "name": "stdout",
     "output_type": "stream",
     "text": [
      "(1171, 4001)\n",
      "(1171, 4001)\n"
     ]
    }
   ],
   "source": [
    "print(df_uniao_cell_line_reduzida.shape)\n",
    "df_uniao_cell_line_reduzida.reset_index(drop=True, inplace=True)\n",
    "print(df_uniao_cell_line_reduzida.shape)"
   ]
  },
  {
   "cell_type": "markdown",
   "metadata": {
    "id": "2ugei1uQhz4a"
   },
   "source": [
    "# Seprando os bancos\n",
    "Separando algumas imagens para \"cross_validation\" antes de separar entre dado de treino e teste. Esse dado vai servir para testar o algoritmo pós testes."
   ]
  },
  {
   "cell_type": "code",
   "execution_count": 85,
   "metadata": {
    "colab": {
     "base_uri": "https://localhost:8080/"
    },
    "id": "eNhW2SdzhCls",
    "outputId": "6193c4b3-bdc2-4ce7-948b-45cb9563c795"
   },
   "outputs": [
    {
     "name": "stdout",
     "output_type": "stream",
     "text": [
      "Data for Modeling: (1054, 4001)\n",
      "Unseen Data For Predictions: (117, 4001)\n"
     ]
    }
   ],
   "source": [
    "data = df_uniao_cell_line_reduzida.sample(frac=0.9, random_state=786) #separando 90% das imagens pra treino e teste, deixando 10% pra cross validation\n",
    "data_unseen = df_uniao_cell_line_reduzida.drop(data.index)\n",
    "print('Data for Modeling: ' + str(data.shape)) #dados que vão para o modelo\n",
    "print('Unseen Data For Predictions: ' + str(data_unseen.shape)) #dados separados"
   ]
  },
  {
   "cell_type": "code",
   "execution_count": 86,
   "metadata": {
    "colab": {
     "background_save": true,
     "base_uri": "https://localhost:8080/",
     "height": 1000,
     "referenced_widgets": [
      "19270ec0461747a88693d8a254e8ea7b",
      "60fe738d0ae24f35979105bd45ff1ed7",
      "3ea1f18f3889428db56d68cd0facdcc9",
      "dfbbb5178ecf4ed0a1bf7c81089685ed",
      "694a9dda51f7428698f5fbd6e6ca2837",
      "d989e01b2e6d40efab5496dde382eb4a"
     ]
    },
    "id": "LogGZW0lkJEk",
    "outputId": "69a494ce-b53c-4fad-d571-29bc5f8831ac"
   },
   "outputs": [
    {
     "data": {
      "text/html": [
       "<style type=\"text/css\">\n",
       "#T_d5f2e_row44_col1 {\n",
       "  background-color: lightgreen;\n",
       "}\n",
       "</style>\n",
       "<table id=\"T_d5f2e_\">\n",
       "  <thead>\n",
       "    <tr>\n",
       "      <th class=\"blank level0\" >&nbsp;</th>\n",
       "      <th class=\"col_heading level0 col0\" >Description</th>\n",
       "      <th class=\"col_heading level0 col1\" >Value</th>\n",
       "    </tr>\n",
       "  </thead>\n",
       "  <tbody>\n",
       "    <tr>\n",
       "      <th id=\"T_d5f2e_level0_row0\" class=\"row_heading level0 row0\" >0</th>\n",
       "      <td id=\"T_d5f2e_row0_col0\" class=\"data row0 col0\" >session_id</td>\n",
       "      <td id=\"T_d5f2e_row0_col1\" class=\"data row0 col1\" >123</td>\n",
       "    </tr>\n",
       "    <tr>\n",
       "      <th id=\"T_d5f2e_level0_row1\" class=\"row_heading level0 row1\" >1</th>\n",
       "      <td id=\"T_d5f2e_row1_col0\" class=\"data row1 col0\" >Target</td>\n",
       "      <td id=\"T_d5f2e_row1_col1\" class=\"data row1 col1\" >Rótulo_Y</td>\n",
       "    </tr>\n",
       "    <tr>\n",
       "      <th id=\"T_d5f2e_level0_row2\" class=\"row_heading level0 row2\" >2</th>\n",
       "      <td id=\"T_d5f2e_row2_col0\" class=\"data row2 col0\" >Target Type</td>\n",
       "      <td id=\"T_d5f2e_row2_col1\" class=\"data row2 col1\" >Multiclass</td>\n",
       "    </tr>\n",
       "    <tr>\n",
       "      <th id=\"T_d5f2e_level0_row3\" class=\"row_heading level0 row3\" >3</th>\n",
       "      <td id=\"T_d5f2e_row3_col0\" class=\"data row3 col0\" >Label Encoded</td>\n",
       "      <td id=\"T_d5f2e_row3_col1\" class=\"data row3 col1\" >3T3: 0, A172: 1, A549: 2, Huh7: 3, MAYV: 4, SH-SY5Y: 5, THP1: 6, VERO6: 7, mAb_DENV1: 8</td>\n",
       "    </tr>\n",
       "    <tr>\n",
       "      <th id=\"T_d5f2e_level0_row4\" class=\"row_heading level0 row4\" >4</th>\n",
       "      <td id=\"T_d5f2e_row4_col0\" class=\"data row4 col0\" >Original Data</td>\n",
       "      <td id=\"T_d5f2e_row4_col1\" class=\"data row4 col1\" >(1054, 4001)</td>\n",
       "    </tr>\n",
       "    <tr>\n",
       "      <th id=\"T_d5f2e_level0_row5\" class=\"row_heading level0 row5\" >5</th>\n",
       "      <td id=\"T_d5f2e_row5_col0\" class=\"data row5 col0\" >Missing Values</td>\n",
       "      <td id=\"T_d5f2e_row5_col1\" class=\"data row5 col1\" >False</td>\n",
       "    </tr>\n",
       "    <tr>\n",
       "      <th id=\"T_d5f2e_level0_row6\" class=\"row_heading level0 row6\" >6</th>\n",
       "      <td id=\"T_d5f2e_row6_col0\" class=\"data row6 col0\" >Numeric Features</td>\n",
       "      <td id=\"T_d5f2e_row6_col1\" class=\"data row6 col1\" >4000</td>\n",
       "    </tr>\n",
       "    <tr>\n",
       "      <th id=\"T_d5f2e_level0_row7\" class=\"row_heading level0 row7\" >7</th>\n",
       "      <td id=\"T_d5f2e_row7_col0\" class=\"data row7 col0\" >Categorical Features</td>\n",
       "      <td id=\"T_d5f2e_row7_col1\" class=\"data row7 col1\" >0</td>\n",
       "    </tr>\n",
       "    <tr>\n",
       "      <th id=\"T_d5f2e_level0_row8\" class=\"row_heading level0 row8\" >8</th>\n",
       "      <td id=\"T_d5f2e_row8_col0\" class=\"data row8 col0\" >Ordinal Features</td>\n",
       "      <td id=\"T_d5f2e_row8_col1\" class=\"data row8 col1\" >False</td>\n",
       "    </tr>\n",
       "    <tr>\n",
       "      <th id=\"T_d5f2e_level0_row9\" class=\"row_heading level0 row9\" >9</th>\n",
       "      <td id=\"T_d5f2e_row9_col0\" class=\"data row9 col0\" >High Cardinality Features</td>\n",
       "      <td id=\"T_d5f2e_row9_col1\" class=\"data row9 col1\" >False</td>\n",
       "    </tr>\n",
       "    <tr>\n",
       "      <th id=\"T_d5f2e_level0_row10\" class=\"row_heading level0 row10\" >10</th>\n",
       "      <td id=\"T_d5f2e_row10_col0\" class=\"data row10 col0\" >High Cardinality Method</td>\n",
       "      <td id=\"T_d5f2e_row10_col1\" class=\"data row10 col1\" >None</td>\n",
       "    </tr>\n",
       "    <tr>\n",
       "      <th id=\"T_d5f2e_level0_row11\" class=\"row_heading level0 row11\" >11</th>\n",
       "      <td id=\"T_d5f2e_row11_col0\" class=\"data row11 col0\" >Transformed Train Set</td>\n",
       "      <td id=\"T_d5f2e_row11_col1\" class=\"data row11 col1\" >(737, 4000)</td>\n",
       "    </tr>\n",
       "    <tr>\n",
       "      <th id=\"T_d5f2e_level0_row12\" class=\"row_heading level0 row12\" >12</th>\n",
       "      <td id=\"T_d5f2e_row12_col0\" class=\"data row12 col0\" >Transformed Test Set</td>\n",
       "      <td id=\"T_d5f2e_row12_col1\" class=\"data row12 col1\" >(317, 4000)</td>\n",
       "    </tr>\n",
       "    <tr>\n",
       "      <th id=\"T_d5f2e_level0_row13\" class=\"row_heading level0 row13\" >13</th>\n",
       "      <td id=\"T_d5f2e_row13_col0\" class=\"data row13 col0\" >Shuffle Train-Test</td>\n",
       "      <td id=\"T_d5f2e_row13_col1\" class=\"data row13 col1\" >True</td>\n",
       "    </tr>\n",
       "    <tr>\n",
       "      <th id=\"T_d5f2e_level0_row14\" class=\"row_heading level0 row14\" >14</th>\n",
       "      <td id=\"T_d5f2e_row14_col0\" class=\"data row14 col0\" >Stratify Train-Test</td>\n",
       "      <td id=\"T_d5f2e_row14_col1\" class=\"data row14 col1\" >False</td>\n",
       "    </tr>\n",
       "    <tr>\n",
       "      <th id=\"T_d5f2e_level0_row15\" class=\"row_heading level0 row15\" >15</th>\n",
       "      <td id=\"T_d5f2e_row15_col0\" class=\"data row15 col0\" >Fold Generator</td>\n",
       "      <td id=\"T_d5f2e_row15_col1\" class=\"data row15 col1\" >StratifiedKFold</td>\n",
       "    </tr>\n",
       "    <tr>\n",
       "      <th id=\"T_d5f2e_level0_row16\" class=\"row_heading level0 row16\" >16</th>\n",
       "      <td id=\"T_d5f2e_row16_col0\" class=\"data row16 col0\" >Fold Number</td>\n",
       "      <td id=\"T_d5f2e_row16_col1\" class=\"data row16 col1\" >10</td>\n",
       "    </tr>\n",
       "    <tr>\n",
       "      <th id=\"T_d5f2e_level0_row17\" class=\"row_heading level0 row17\" >17</th>\n",
       "      <td id=\"T_d5f2e_row17_col0\" class=\"data row17 col0\" >CPU Jobs</td>\n",
       "      <td id=\"T_d5f2e_row17_col1\" class=\"data row17 col1\" >-1</td>\n",
       "    </tr>\n",
       "    <tr>\n",
       "      <th id=\"T_d5f2e_level0_row18\" class=\"row_heading level0 row18\" >18</th>\n",
       "      <td id=\"T_d5f2e_row18_col0\" class=\"data row18 col0\" >Use GPU</td>\n",
       "      <td id=\"T_d5f2e_row18_col1\" class=\"data row18 col1\" >False</td>\n",
       "    </tr>\n",
       "    <tr>\n",
       "      <th id=\"T_d5f2e_level0_row19\" class=\"row_heading level0 row19\" >19</th>\n",
       "      <td id=\"T_d5f2e_row19_col0\" class=\"data row19 col0\" >Log Experiment</td>\n",
       "      <td id=\"T_d5f2e_row19_col1\" class=\"data row19 col1\" >False</td>\n",
       "    </tr>\n",
       "    <tr>\n",
       "      <th id=\"T_d5f2e_level0_row20\" class=\"row_heading level0 row20\" >20</th>\n",
       "      <td id=\"T_d5f2e_row20_col0\" class=\"data row20 col0\" >Experiment Name</td>\n",
       "      <td id=\"T_d5f2e_row20_col1\" class=\"data row20 col1\" >clf-default-name</td>\n",
       "    </tr>\n",
       "    <tr>\n",
       "      <th id=\"T_d5f2e_level0_row21\" class=\"row_heading level0 row21\" >21</th>\n",
       "      <td id=\"T_d5f2e_row21_col0\" class=\"data row21 col0\" >USI</td>\n",
       "      <td id=\"T_d5f2e_row21_col1\" class=\"data row21 col1\" >169d</td>\n",
       "    </tr>\n",
       "    <tr>\n",
       "      <th id=\"T_d5f2e_level0_row22\" class=\"row_heading level0 row22\" >22</th>\n",
       "      <td id=\"T_d5f2e_row22_col0\" class=\"data row22 col0\" >Imputation Type</td>\n",
       "      <td id=\"T_d5f2e_row22_col1\" class=\"data row22 col1\" >simple</td>\n",
       "    </tr>\n",
       "    <tr>\n",
       "      <th id=\"T_d5f2e_level0_row23\" class=\"row_heading level0 row23\" >23</th>\n",
       "      <td id=\"T_d5f2e_row23_col0\" class=\"data row23 col0\" >Iterative Imputation Iteration</td>\n",
       "      <td id=\"T_d5f2e_row23_col1\" class=\"data row23 col1\" >None</td>\n",
       "    </tr>\n",
       "    <tr>\n",
       "      <th id=\"T_d5f2e_level0_row24\" class=\"row_heading level0 row24\" >24</th>\n",
       "      <td id=\"T_d5f2e_row24_col0\" class=\"data row24 col0\" >Numeric Imputer</td>\n",
       "      <td id=\"T_d5f2e_row24_col1\" class=\"data row24 col1\" >mean</td>\n",
       "    </tr>\n",
       "    <tr>\n",
       "      <th id=\"T_d5f2e_level0_row25\" class=\"row_heading level0 row25\" >25</th>\n",
       "      <td id=\"T_d5f2e_row25_col0\" class=\"data row25 col0\" >Iterative Imputation Numeric Model</td>\n",
       "      <td id=\"T_d5f2e_row25_col1\" class=\"data row25 col1\" >None</td>\n",
       "    </tr>\n",
       "    <tr>\n",
       "      <th id=\"T_d5f2e_level0_row26\" class=\"row_heading level0 row26\" >26</th>\n",
       "      <td id=\"T_d5f2e_row26_col0\" class=\"data row26 col0\" >Categorical Imputer</td>\n",
       "      <td id=\"T_d5f2e_row26_col1\" class=\"data row26 col1\" >constant</td>\n",
       "    </tr>\n",
       "    <tr>\n",
       "      <th id=\"T_d5f2e_level0_row27\" class=\"row_heading level0 row27\" >27</th>\n",
       "      <td id=\"T_d5f2e_row27_col0\" class=\"data row27 col0\" >Iterative Imputation Categorical Model</td>\n",
       "      <td id=\"T_d5f2e_row27_col1\" class=\"data row27 col1\" >None</td>\n",
       "    </tr>\n",
       "    <tr>\n",
       "      <th id=\"T_d5f2e_level0_row28\" class=\"row_heading level0 row28\" >28</th>\n",
       "      <td id=\"T_d5f2e_row28_col0\" class=\"data row28 col0\" >Unknown Categoricals Handling</td>\n",
       "      <td id=\"T_d5f2e_row28_col1\" class=\"data row28 col1\" >least_frequent</td>\n",
       "    </tr>\n",
       "    <tr>\n",
       "      <th id=\"T_d5f2e_level0_row29\" class=\"row_heading level0 row29\" >29</th>\n",
       "      <td id=\"T_d5f2e_row29_col0\" class=\"data row29 col0\" >Normalize</td>\n",
       "      <td id=\"T_d5f2e_row29_col1\" class=\"data row29 col1\" >False</td>\n",
       "    </tr>\n",
       "    <tr>\n",
       "      <th id=\"T_d5f2e_level0_row30\" class=\"row_heading level0 row30\" >30</th>\n",
       "      <td id=\"T_d5f2e_row30_col0\" class=\"data row30 col0\" >Normalize Method</td>\n",
       "      <td id=\"T_d5f2e_row30_col1\" class=\"data row30 col1\" >None</td>\n",
       "    </tr>\n",
       "    <tr>\n",
       "      <th id=\"T_d5f2e_level0_row31\" class=\"row_heading level0 row31\" >31</th>\n",
       "      <td id=\"T_d5f2e_row31_col0\" class=\"data row31 col0\" >Transformation</td>\n",
       "      <td id=\"T_d5f2e_row31_col1\" class=\"data row31 col1\" >False</td>\n",
       "    </tr>\n",
       "    <tr>\n",
       "      <th id=\"T_d5f2e_level0_row32\" class=\"row_heading level0 row32\" >32</th>\n",
       "      <td id=\"T_d5f2e_row32_col0\" class=\"data row32 col0\" >Transformation Method</td>\n",
       "      <td id=\"T_d5f2e_row32_col1\" class=\"data row32 col1\" >None</td>\n",
       "    </tr>\n",
       "    <tr>\n",
       "      <th id=\"T_d5f2e_level0_row33\" class=\"row_heading level0 row33\" >33</th>\n",
       "      <td id=\"T_d5f2e_row33_col0\" class=\"data row33 col0\" >PCA</td>\n",
       "      <td id=\"T_d5f2e_row33_col1\" class=\"data row33 col1\" >False</td>\n",
       "    </tr>\n",
       "    <tr>\n",
       "      <th id=\"T_d5f2e_level0_row34\" class=\"row_heading level0 row34\" >34</th>\n",
       "      <td id=\"T_d5f2e_row34_col0\" class=\"data row34 col0\" >PCA Method</td>\n",
       "      <td id=\"T_d5f2e_row34_col1\" class=\"data row34 col1\" >None</td>\n",
       "    </tr>\n",
       "    <tr>\n",
       "      <th id=\"T_d5f2e_level0_row35\" class=\"row_heading level0 row35\" >35</th>\n",
       "      <td id=\"T_d5f2e_row35_col0\" class=\"data row35 col0\" >PCA Components</td>\n",
       "      <td id=\"T_d5f2e_row35_col1\" class=\"data row35 col1\" >None</td>\n",
       "    </tr>\n",
       "    <tr>\n",
       "      <th id=\"T_d5f2e_level0_row36\" class=\"row_heading level0 row36\" >36</th>\n",
       "      <td id=\"T_d5f2e_row36_col0\" class=\"data row36 col0\" >Ignore Low Variance</td>\n",
       "      <td id=\"T_d5f2e_row36_col1\" class=\"data row36 col1\" >False</td>\n",
       "    </tr>\n",
       "    <tr>\n",
       "      <th id=\"T_d5f2e_level0_row37\" class=\"row_heading level0 row37\" >37</th>\n",
       "      <td id=\"T_d5f2e_row37_col0\" class=\"data row37 col0\" >Combine Rare Levels</td>\n",
       "      <td id=\"T_d5f2e_row37_col1\" class=\"data row37 col1\" >False</td>\n",
       "    </tr>\n",
       "    <tr>\n",
       "      <th id=\"T_d5f2e_level0_row38\" class=\"row_heading level0 row38\" >38</th>\n",
       "      <td id=\"T_d5f2e_row38_col0\" class=\"data row38 col0\" >Rare Level Threshold</td>\n",
       "      <td id=\"T_d5f2e_row38_col1\" class=\"data row38 col1\" >None</td>\n",
       "    </tr>\n",
       "    <tr>\n",
       "      <th id=\"T_d5f2e_level0_row39\" class=\"row_heading level0 row39\" >39</th>\n",
       "      <td id=\"T_d5f2e_row39_col0\" class=\"data row39 col0\" >Numeric Binning</td>\n",
       "      <td id=\"T_d5f2e_row39_col1\" class=\"data row39 col1\" >False</td>\n",
       "    </tr>\n",
       "    <tr>\n",
       "      <th id=\"T_d5f2e_level0_row40\" class=\"row_heading level0 row40\" >40</th>\n",
       "      <td id=\"T_d5f2e_row40_col0\" class=\"data row40 col0\" >Remove Outliers</td>\n",
       "      <td id=\"T_d5f2e_row40_col1\" class=\"data row40 col1\" >False</td>\n",
       "    </tr>\n",
       "    <tr>\n",
       "      <th id=\"T_d5f2e_level0_row41\" class=\"row_heading level0 row41\" >41</th>\n",
       "      <td id=\"T_d5f2e_row41_col0\" class=\"data row41 col0\" >Outliers Threshold</td>\n",
       "      <td id=\"T_d5f2e_row41_col1\" class=\"data row41 col1\" >None</td>\n",
       "    </tr>\n",
       "    <tr>\n",
       "      <th id=\"T_d5f2e_level0_row42\" class=\"row_heading level0 row42\" >42</th>\n",
       "      <td id=\"T_d5f2e_row42_col0\" class=\"data row42 col0\" >Remove Multicollinearity</td>\n",
       "      <td id=\"T_d5f2e_row42_col1\" class=\"data row42 col1\" >False</td>\n",
       "    </tr>\n",
       "    <tr>\n",
       "      <th id=\"T_d5f2e_level0_row43\" class=\"row_heading level0 row43\" >43</th>\n",
       "      <td id=\"T_d5f2e_row43_col0\" class=\"data row43 col0\" >Multicollinearity Threshold</td>\n",
       "      <td id=\"T_d5f2e_row43_col1\" class=\"data row43 col1\" >None</td>\n",
       "    </tr>\n",
       "    <tr>\n",
       "      <th id=\"T_d5f2e_level0_row44\" class=\"row_heading level0 row44\" >44</th>\n",
       "      <td id=\"T_d5f2e_row44_col0\" class=\"data row44 col0\" >Remove Perfect Collinearity</td>\n",
       "      <td id=\"T_d5f2e_row44_col1\" class=\"data row44 col1\" >True</td>\n",
       "    </tr>\n",
       "    <tr>\n",
       "      <th id=\"T_d5f2e_level0_row45\" class=\"row_heading level0 row45\" >45</th>\n",
       "      <td id=\"T_d5f2e_row45_col0\" class=\"data row45 col0\" >Clustering</td>\n",
       "      <td id=\"T_d5f2e_row45_col1\" class=\"data row45 col1\" >False</td>\n",
       "    </tr>\n",
       "    <tr>\n",
       "      <th id=\"T_d5f2e_level0_row46\" class=\"row_heading level0 row46\" >46</th>\n",
       "      <td id=\"T_d5f2e_row46_col0\" class=\"data row46 col0\" >Clustering Iteration</td>\n",
       "      <td id=\"T_d5f2e_row46_col1\" class=\"data row46 col1\" >None</td>\n",
       "    </tr>\n",
       "    <tr>\n",
       "      <th id=\"T_d5f2e_level0_row47\" class=\"row_heading level0 row47\" >47</th>\n",
       "      <td id=\"T_d5f2e_row47_col0\" class=\"data row47 col0\" >Polynomial Features</td>\n",
       "      <td id=\"T_d5f2e_row47_col1\" class=\"data row47 col1\" >False</td>\n",
       "    </tr>\n",
       "    <tr>\n",
       "      <th id=\"T_d5f2e_level0_row48\" class=\"row_heading level0 row48\" >48</th>\n",
       "      <td id=\"T_d5f2e_row48_col0\" class=\"data row48 col0\" >Polynomial Degree</td>\n",
       "      <td id=\"T_d5f2e_row48_col1\" class=\"data row48 col1\" >None</td>\n",
       "    </tr>\n",
       "    <tr>\n",
       "      <th id=\"T_d5f2e_level0_row49\" class=\"row_heading level0 row49\" >49</th>\n",
       "      <td id=\"T_d5f2e_row49_col0\" class=\"data row49 col0\" >Trignometry Features</td>\n",
       "      <td id=\"T_d5f2e_row49_col1\" class=\"data row49 col1\" >False</td>\n",
       "    </tr>\n",
       "    <tr>\n",
       "      <th id=\"T_d5f2e_level0_row50\" class=\"row_heading level0 row50\" >50</th>\n",
       "      <td id=\"T_d5f2e_row50_col0\" class=\"data row50 col0\" >Polynomial Threshold</td>\n",
       "      <td id=\"T_d5f2e_row50_col1\" class=\"data row50 col1\" >None</td>\n",
       "    </tr>\n",
       "    <tr>\n",
       "      <th id=\"T_d5f2e_level0_row51\" class=\"row_heading level0 row51\" >51</th>\n",
       "      <td id=\"T_d5f2e_row51_col0\" class=\"data row51 col0\" >Group Features</td>\n",
       "      <td id=\"T_d5f2e_row51_col1\" class=\"data row51 col1\" >False</td>\n",
       "    </tr>\n",
       "    <tr>\n",
       "      <th id=\"T_d5f2e_level0_row52\" class=\"row_heading level0 row52\" >52</th>\n",
       "      <td id=\"T_d5f2e_row52_col0\" class=\"data row52 col0\" >Feature Selection</td>\n",
       "      <td id=\"T_d5f2e_row52_col1\" class=\"data row52 col1\" >False</td>\n",
       "    </tr>\n",
       "    <tr>\n",
       "      <th id=\"T_d5f2e_level0_row53\" class=\"row_heading level0 row53\" >53</th>\n",
       "      <td id=\"T_d5f2e_row53_col0\" class=\"data row53 col0\" >Feature Selection Method</td>\n",
       "      <td id=\"T_d5f2e_row53_col1\" class=\"data row53 col1\" >classic</td>\n",
       "    </tr>\n",
       "    <tr>\n",
       "      <th id=\"T_d5f2e_level0_row54\" class=\"row_heading level0 row54\" >54</th>\n",
       "      <td id=\"T_d5f2e_row54_col0\" class=\"data row54 col0\" >Features Selection Threshold</td>\n",
       "      <td id=\"T_d5f2e_row54_col1\" class=\"data row54 col1\" >None</td>\n",
       "    </tr>\n",
       "    <tr>\n",
       "      <th id=\"T_d5f2e_level0_row55\" class=\"row_heading level0 row55\" >55</th>\n",
       "      <td id=\"T_d5f2e_row55_col0\" class=\"data row55 col0\" >Feature Interaction</td>\n",
       "      <td id=\"T_d5f2e_row55_col1\" class=\"data row55 col1\" >False</td>\n",
       "    </tr>\n",
       "    <tr>\n",
       "      <th id=\"T_d5f2e_level0_row56\" class=\"row_heading level0 row56\" >56</th>\n",
       "      <td id=\"T_d5f2e_row56_col0\" class=\"data row56 col0\" >Feature Ratio</td>\n",
       "      <td id=\"T_d5f2e_row56_col1\" class=\"data row56 col1\" >False</td>\n",
       "    </tr>\n",
       "    <tr>\n",
       "      <th id=\"T_d5f2e_level0_row57\" class=\"row_heading level0 row57\" >57</th>\n",
       "      <td id=\"T_d5f2e_row57_col0\" class=\"data row57 col0\" >Interaction Threshold</td>\n",
       "      <td id=\"T_d5f2e_row57_col1\" class=\"data row57 col1\" >None</td>\n",
       "    </tr>\n",
       "    <tr>\n",
       "      <th id=\"T_d5f2e_level0_row58\" class=\"row_heading level0 row58\" >58</th>\n",
       "      <td id=\"T_d5f2e_row58_col0\" class=\"data row58 col0\" >Fix Imbalance</td>\n",
       "      <td id=\"T_d5f2e_row58_col1\" class=\"data row58 col1\" >False</td>\n",
       "    </tr>\n",
       "    <tr>\n",
       "      <th id=\"T_d5f2e_level0_row59\" class=\"row_heading level0 row59\" >59</th>\n",
       "      <td id=\"T_d5f2e_row59_col0\" class=\"data row59 col0\" >Fix Imbalance Method</td>\n",
       "      <td id=\"T_d5f2e_row59_col1\" class=\"data row59 col1\" >SMOTE</td>\n",
       "    </tr>\n",
       "  </tbody>\n",
       "</table>\n"
      ],
      "text/plain": [
       "<pandas.io.formats.style.Styler at 0x7f1c866c52d0>"
      ]
     },
     "metadata": {},
     "output_type": "display_data"
    }
   ],
   "source": [
    "exp_mclf101 = setup(data = data, target = 'Rótulo_Y', session_id=123)"
   ]
  },
  {
   "cell_type": "code",
   "execution_count": 87,
   "metadata": {},
   "outputs": [
    {
     "data": {
      "text/html": [
       "<style type=\"text/css\">\n",
       "#T_7f5c8_ th {\n",
       "  text-align: left;\n",
       "}\n",
       "#T_7f5c8_row0_col0, #T_7f5c8_row1_col0, #T_7f5c8_row1_col1, #T_7f5c8_row1_col2, #T_7f5c8_row1_col3, #T_7f5c8_row1_col4, #T_7f5c8_row1_col5, #T_7f5c8_row1_col6, #T_7f5c8_row1_col7, #T_7f5c8_row2_col0, #T_7f5c8_row2_col1, #T_7f5c8_row2_col2, #T_7f5c8_row2_col3, #T_7f5c8_row2_col4, #T_7f5c8_row2_col5, #T_7f5c8_row2_col6, #T_7f5c8_row2_col7, #T_7f5c8_row3_col0, #T_7f5c8_row3_col1, #T_7f5c8_row3_col2, #T_7f5c8_row3_col3, #T_7f5c8_row3_col4, #T_7f5c8_row3_col5, #T_7f5c8_row3_col6, #T_7f5c8_row3_col7, #T_7f5c8_row4_col0, #T_7f5c8_row4_col1, #T_7f5c8_row4_col2, #T_7f5c8_row4_col3, #T_7f5c8_row4_col4, #T_7f5c8_row4_col5, #T_7f5c8_row4_col6, #T_7f5c8_row4_col7, #T_7f5c8_row5_col0, #T_7f5c8_row5_col1, #T_7f5c8_row5_col2, #T_7f5c8_row5_col3, #T_7f5c8_row5_col4, #T_7f5c8_row5_col5, #T_7f5c8_row5_col6, #T_7f5c8_row5_col7, #T_7f5c8_row6_col0, #T_7f5c8_row6_col1, #T_7f5c8_row6_col2, #T_7f5c8_row6_col3, #T_7f5c8_row6_col4, #T_7f5c8_row6_col5, #T_7f5c8_row6_col6, #T_7f5c8_row6_col7, #T_7f5c8_row7_col0, #T_7f5c8_row7_col1, #T_7f5c8_row7_col2, #T_7f5c8_row7_col3, #T_7f5c8_row7_col4, #T_7f5c8_row7_col5, #T_7f5c8_row7_col6, #T_7f5c8_row7_col7, #T_7f5c8_row8_col0, #T_7f5c8_row8_col1, #T_7f5c8_row8_col2, #T_7f5c8_row8_col3, #T_7f5c8_row8_col4, #T_7f5c8_row8_col5, #T_7f5c8_row8_col6, #T_7f5c8_row8_col7, #T_7f5c8_row9_col0, #T_7f5c8_row9_col1, #T_7f5c8_row9_col2, #T_7f5c8_row9_col3, #T_7f5c8_row9_col4, #T_7f5c8_row9_col5, #T_7f5c8_row9_col6, #T_7f5c8_row9_col7, #T_7f5c8_row10_col0, #T_7f5c8_row10_col1, #T_7f5c8_row10_col2, #T_7f5c8_row10_col3, #T_7f5c8_row10_col4, #T_7f5c8_row10_col5, #T_7f5c8_row10_col6, #T_7f5c8_row10_col7, #T_7f5c8_row11_col0, #T_7f5c8_row11_col1, #T_7f5c8_row11_col2, #T_7f5c8_row11_col3, #T_7f5c8_row11_col4, #T_7f5c8_row11_col5, #T_7f5c8_row11_col6, #T_7f5c8_row11_col7, #T_7f5c8_row12_col0, #T_7f5c8_row12_col1, #T_7f5c8_row12_col2, #T_7f5c8_row12_col3, #T_7f5c8_row12_col4, #T_7f5c8_row12_col5, #T_7f5c8_row12_col6, #T_7f5c8_row12_col7, #T_7f5c8_row13_col0, #T_7f5c8_row13_col1, #T_7f5c8_row13_col2, #T_7f5c8_row13_col3, #T_7f5c8_row13_col4, #T_7f5c8_row13_col5, #T_7f5c8_row13_col6, #T_7f5c8_row13_col7 {\n",
       "  text-align: left;\n",
       "}\n",
       "#T_7f5c8_row0_col1, #T_7f5c8_row0_col2, #T_7f5c8_row0_col3, #T_7f5c8_row0_col4, #T_7f5c8_row0_col5, #T_7f5c8_row0_col6, #T_7f5c8_row0_col7 {\n",
       "  text-align: left;\n",
       "  background-color: yellow;\n",
       "}\n",
       "#T_7f5c8_row0_col8, #T_7f5c8_row1_col8, #T_7f5c8_row2_col8, #T_7f5c8_row3_col8, #T_7f5c8_row4_col8, #T_7f5c8_row5_col8, #T_7f5c8_row7_col8, #T_7f5c8_row8_col8, #T_7f5c8_row9_col8, #T_7f5c8_row10_col8, #T_7f5c8_row11_col8, #T_7f5c8_row12_col8, #T_7f5c8_row13_col8 {\n",
       "  text-align: left;\n",
       "  background-color: lightgrey;\n",
       "}\n",
       "#T_7f5c8_row6_col8 {\n",
       "  text-align: left;\n",
       "  background-color: yellow;\n",
       "  background-color: lightgrey;\n",
       "}\n",
       "</style>\n",
       "<table id=\"T_7f5c8_\">\n",
       "  <thead>\n",
       "    <tr>\n",
       "      <th class=\"blank level0\" >&nbsp;</th>\n",
       "      <th class=\"col_heading level0 col0\" >Model</th>\n",
       "      <th class=\"col_heading level0 col1\" >Accuracy</th>\n",
       "      <th class=\"col_heading level0 col2\" >AUC</th>\n",
       "      <th class=\"col_heading level0 col3\" >Recall</th>\n",
       "      <th class=\"col_heading level0 col4\" >Prec.</th>\n",
       "      <th class=\"col_heading level0 col5\" >F1</th>\n",
       "      <th class=\"col_heading level0 col6\" >Kappa</th>\n",
       "      <th class=\"col_heading level0 col7\" >MCC</th>\n",
       "      <th class=\"col_heading level0 col8\" >TT (Sec)</th>\n",
       "    </tr>\n",
       "  </thead>\n",
       "  <tbody>\n",
       "    <tr>\n",
       "      <th id=\"T_7f5c8_level0_row0\" class=\"row_heading level0 row0\" >et</th>\n",
       "      <td id=\"T_7f5c8_row0_col0\" class=\"data row0 col0\" >Extra Trees Classifier</td>\n",
       "      <td id=\"T_7f5c8_row0_col1\" class=\"data row0 col1\" >0.4707</td>\n",
       "      <td id=\"T_7f5c8_row0_col2\" class=\"data row0 col2\" >0.8281</td>\n",
       "      <td id=\"T_7f5c8_row0_col3\" class=\"data row0 col3\" >0.4786</td>\n",
       "      <td id=\"T_7f5c8_row0_col4\" class=\"data row0 col4\" >0.4596</td>\n",
       "      <td id=\"T_7f5c8_row0_col5\" class=\"data row0 col5\" >0.4285</td>\n",
       "      <td id=\"T_7f5c8_row0_col6\" class=\"data row0 col6\" >0.3948</td>\n",
       "      <td id=\"T_7f5c8_row0_col7\" class=\"data row0 col7\" >0.4057</td>\n",
       "      <td id=\"T_7f5c8_row0_col8\" class=\"data row0 col8\" >0.3120</td>\n",
       "    </tr>\n",
       "    <tr>\n",
       "      <th id=\"T_7f5c8_level0_row1\" class=\"row_heading level0 row1\" >rf</th>\n",
       "      <td id=\"T_7f5c8_row1_col0\" class=\"data row1 col0\" >Random Forest Classifier</td>\n",
       "      <td id=\"T_7f5c8_row1_col1\" class=\"data row1 col1\" >0.4505</td>\n",
       "      <td id=\"T_7f5c8_row1_col2\" class=\"data row1 col2\" >0.8134</td>\n",
       "      <td id=\"T_7f5c8_row1_col3\" class=\"data row1 col3\" >0.4557</td>\n",
       "      <td id=\"T_7f5c8_row1_col4\" class=\"data row1 col4\" >0.4193</td>\n",
       "      <td id=\"T_7f5c8_row1_col5\" class=\"data row1 col5\" >0.4147</td>\n",
       "      <td id=\"T_7f5c8_row1_col6\" class=\"data row1 col6\" >0.3722</td>\n",
       "      <td id=\"T_7f5c8_row1_col7\" class=\"data row1 col7\" >0.3800</td>\n",
       "      <td id=\"T_7f5c8_row1_col8\" class=\"data row1 col8\" >0.2010</td>\n",
       "    </tr>\n",
       "    <tr>\n",
       "      <th id=\"T_7f5c8_level0_row2\" class=\"row_heading level0 row2\" >lightgbm</th>\n",
       "      <td id=\"T_7f5c8_row2_col0\" class=\"data row2 col0\" >Light Gradient Boosting Machine</td>\n",
       "      <td id=\"T_7f5c8_row2_col1\" class=\"data row2 col1\" >0.4193</td>\n",
       "      <td id=\"T_7f5c8_row2_col2\" class=\"data row2 col2\" >0.8107</td>\n",
       "      <td id=\"T_7f5c8_row2_col3\" class=\"data row2 col3\" >0.4307</td>\n",
       "      <td id=\"T_7f5c8_row2_col4\" class=\"data row2 col4\" >0.4030</td>\n",
       "      <td id=\"T_7f5c8_row2_col5\" class=\"data row2 col5\" >0.3877</td>\n",
       "      <td id=\"T_7f5c8_row2_col6\" class=\"data row2 col6\" >0.3387</td>\n",
       "      <td id=\"T_7f5c8_row2_col7\" class=\"data row2 col7\" >0.3434</td>\n",
       "      <td id=\"T_7f5c8_row2_col8\" class=\"data row2 col8\" >12.0550</td>\n",
       "    </tr>\n",
       "    <tr>\n",
       "      <th id=\"T_7f5c8_level0_row3\" class=\"row_heading level0 row3\" >gbc</th>\n",
       "      <td id=\"T_7f5c8_row3_col0\" class=\"data row3 col0\" >Gradient Boosting Classifier</td>\n",
       "      <td id=\"T_7f5c8_row3_col1\" class=\"data row3 col1\" >0.3935</td>\n",
       "      <td id=\"T_7f5c8_row3_col2\" class=\"data row3 col2\" >0.7936</td>\n",
       "      <td id=\"T_7f5c8_row3_col3\" class=\"data row3 col3\" >0.4129</td>\n",
       "      <td id=\"T_7f5c8_row3_col4\" class=\"data row3 col4\" >0.3778</td>\n",
       "      <td id=\"T_7f5c8_row3_col5\" class=\"data row3 col5\" >0.3741</td>\n",
       "      <td id=\"T_7f5c8_row3_col6\" class=\"data row3 col6\" >0.3110</td>\n",
       "      <td id=\"T_7f5c8_row3_col7\" class=\"data row3 col7\" >0.3138</td>\n",
       "      <td id=\"T_7f5c8_row3_col8\" class=\"data row3 col8\" >39.5680</td>\n",
       "    </tr>\n",
       "    <tr>\n",
       "      <th id=\"T_7f5c8_level0_row4\" class=\"row_heading level0 row4\" >nb</th>\n",
       "      <td id=\"T_7f5c8_row4_col0\" class=\"data row4 col0\" >Naive Bayes</td>\n",
       "      <td id=\"T_7f5c8_row4_col1\" class=\"data row4 col1\" >0.3188</td>\n",
       "      <td id=\"T_7f5c8_row4_col2\" class=\"data row4 col2\" >0.6928</td>\n",
       "      <td id=\"T_7f5c8_row4_col3\" class=\"data row4 col3\" >0.3674</td>\n",
       "      <td id=\"T_7f5c8_row4_col4\" class=\"data row4 col4\" >0.3050</td>\n",
       "      <td id=\"T_7f5c8_row4_col5\" class=\"data row4 col5\" >0.2905</td>\n",
       "      <td id=\"T_7f5c8_row4_col6\" class=\"data row4 col6\" >0.2325</td>\n",
       "      <td id=\"T_7f5c8_row4_col7\" class=\"data row4 col7\" >0.2378</td>\n",
       "      <td id=\"T_7f5c8_row4_col8\" class=\"data row4 col8\" >0.1980</td>\n",
       "    </tr>\n",
       "    <tr>\n",
       "      <th id=\"T_7f5c8_level0_row5\" class=\"row_heading level0 row5\" >dt</th>\n",
       "      <td id=\"T_7f5c8_row5_col0\" class=\"data row5 col0\" >Decision Tree Classifier</td>\n",
       "      <td id=\"T_7f5c8_row5_col1\" class=\"data row5 col1\" >0.2700</td>\n",
       "      <td id=\"T_7f5c8_row5_col2\" class=\"data row5 col2\" >0.5855</td>\n",
       "      <td id=\"T_7f5c8_row5_col3\" class=\"data row5 col3\" >0.2985</td>\n",
       "      <td id=\"T_7f5c8_row5_col4\" class=\"data row5 col4\" >0.2623</td>\n",
       "      <td id=\"T_7f5c8_row5_col5\" class=\"data row5 col5\" >0.2608</td>\n",
       "      <td id=\"T_7f5c8_row5_col6\" class=\"data row5 col6\" >0.1738</td>\n",
       "      <td id=\"T_7f5c8_row5_col7\" class=\"data row5 col7\" >0.1750</td>\n",
       "      <td id=\"T_7f5c8_row5_col8\" class=\"data row5 col8\" >0.3320</td>\n",
       "    </tr>\n",
       "    <tr>\n",
       "      <th id=\"T_7f5c8_level0_row6\" class=\"row_heading level0 row6\" >ridge</th>\n",
       "      <td id=\"T_7f5c8_row6_col0\" class=\"data row6 col0\" >Ridge Classifier</td>\n",
       "      <td id=\"T_7f5c8_row6_col1\" class=\"data row6 col1\" >0.2143</td>\n",
       "      <td id=\"T_7f5c8_row6_col2\" class=\"data row6 col2\" >0.0000</td>\n",
       "      <td id=\"T_7f5c8_row6_col3\" class=\"data row6 col3\" >0.2793</td>\n",
       "      <td id=\"T_7f5c8_row6_col4\" class=\"data row6 col4\" >0.1572</td>\n",
       "      <td id=\"T_7f5c8_row6_col5\" class=\"data row6 col5\" >0.1347</td>\n",
       "      <td id=\"T_7f5c8_row6_col6\" class=\"data row6 col6\" >0.1381</td>\n",
       "      <td id=\"T_7f5c8_row6_col7\" class=\"data row6 col7\" >0.1676</td>\n",
       "      <td id=\"T_7f5c8_row6_col8\" class=\"data row6 col8\" >0.0340</td>\n",
       "    </tr>\n",
       "    <tr>\n",
       "      <th id=\"T_7f5c8_level0_row7\" class=\"row_heading level0 row7\" >lda</th>\n",
       "      <td id=\"T_7f5c8_row7_col0\" class=\"data row7 col0\" >Linear Discriminant Analysis</td>\n",
       "      <td id=\"T_7f5c8_row7_col1\" class=\"data row7 col1\" >0.2008</td>\n",
       "      <td id=\"T_7f5c8_row7_col2\" class=\"data row7 col2\" >0.5726</td>\n",
       "      <td id=\"T_7f5c8_row7_col3\" class=\"data row7 col3\" >0.2345</td>\n",
       "      <td id=\"T_7f5c8_row7_col4\" class=\"data row7 col4\" >0.2014</td>\n",
       "      <td id=\"T_7f5c8_row7_col5\" class=\"data row7 col5\" >0.1859</td>\n",
       "      <td id=\"T_7f5c8_row7_col6\" class=\"data row7 col6\" >0.1032</td>\n",
       "      <td id=\"T_7f5c8_row7_col7\" class=\"data row7 col7\" >0.1051</td>\n",
       "      <td id=\"T_7f5c8_row7_col8\" class=\"data row7 col8\" >0.2050</td>\n",
       "    </tr>\n",
       "    <tr>\n",
       "      <th id=\"T_7f5c8_level0_row8\" class=\"row_heading level0 row8\" >ada</th>\n",
       "      <td id=\"T_7f5c8_row8_col0\" class=\"data row8 col0\" >Ada Boost Classifier</td>\n",
       "      <td id=\"T_7f5c8_row8_col1\" class=\"data row8 col1\" >0.1967</td>\n",
       "      <td id=\"T_7f5c8_row8_col2\" class=\"data row8 col2\" >0.5699</td>\n",
       "      <td id=\"T_7f5c8_row8_col3\" class=\"data row8 col3\" >0.2001</td>\n",
       "      <td id=\"T_7f5c8_row8_col4\" class=\"data row8 col4\" >0.1018</td>\n",
       "      <td id=\"T_7f5c8_row8_col5\" class=\"data row8 col5\" >0.1096</td>\n",
       "      <td id=\"T_7f5c8_row8_col6\" class=\"data row8 col6\" >0.0788</td>\n",
       "      <td id=\"T_7f5c8_row8_col7\" class=\"data row8 col7\" >0.1094</td>\n",
       "      <td id=\"T_7f5c8_row8_col8\" class=\"data row8 col8\" >0.8400</td>\n",
       "    </tr>\n",
       "    <tr>\n",
       "      <th id=\"T_7f5c8_level0_row9\" class=\"row_heading level0 row9\" >knn</th>\n",
       "      <td id=\"T_7f5c8_row9_col0\" class=\"data row9 col0\" >K Neighbors Classifier</td>\n",
       "      <td id=\"T_7f5c8_row9_col1\" class=\"data row9 col1\" >0.1628</td>\n",
       "      <td id=\"T_7f5c8_row9_col2\" class=\"data row9 col2\" >0.5572</td>\n",
       "      <td id=\"T_7f5c8_row9_col3\" class=\"data row9 col3\" >0.2363</td>\n",
       "      <td id=\"T_7f5c8_row9_col4\" class=\"data row9 col4\" >0.0694</td>\n",
       "      <td id=\"T_7f5c8_row9_col5\" class=\"data row9 col5\" >0.0759</td>\n",
       "      <td id=\"T_7f5c8_row9_col6\" class=\"data row9 col6\" >0.0880</td>\n",
       "      <td id=\"T_7f5c8_row9_col7\" class=\"data row9 col7\" >0.1229</td>\n",
       "      <td id=\"T_7f5c8_row9_col8\" class=\"data row9 col8\" >0.2470</td>\n",
       "    </tr>\n",
       "    <tr>\n",
       "      <th id=\"T_7f5c8_level0_row10\" class=\"row_heading level0 row10\" >dummy</th>\n",
       "      <td id=\"T_7f5c8_row10_col0\" class=\"data row10 col0\" >Dummy Classifier</td>\n",
       "      <td id=\"T_7f5c8_row10_col1\" class=\"data row10 col1\" >0.1506</td>\n",
       "      <td id=\"T_7f5c8_row10_col2\" class=\"data row10 col2\" >0.5000</td>\n",
       "      <td id=\"T_7f5c8_row10_col3\" class=\"data row10 col3\" >0.1111</td>\n",
       "      <td id=\"T_7f5c8_row10_col4\" class=\"data row10 col4\" >0.0227</td>\n",
       "      <td id=\"T_7f5c8_row10_col5\" class=\"data row10 col5\" >0.0394</td>\n",
       "      <td id=\"T_7f5c8_row10_col6\" class=\"data row10 col6\" >0.0000</td>\n",
       "      <td id=\"T_7f5c8_row10_col7\" class=\"data row10 col7\" >0.0000</td>\n",
       "      <td id=\"T_7f5c8_row10_col8\" class=\"data row10 col8\" >0.1750</td>\n",
       "    </tr>\n",
       "    <tr>\n",
       "      <th id=\"T_7f5c8_level0_row11\" class=\"row_heading level0 row11\" >svm</th>\n",
       "      <td id=\"T_7f5c8_row11_col0\" class=\"data row11 col0\" >SVM - Linear Kernel</td>\n",
       "      <td id=\"T_7f5c8_row11_col1\" class=\"data row11 col1\" >0.1492</td>\n",
       "      <td id=\"T_7f5c8_row11_col2\" class=\"data row11 col2\" >0.0000</td>\n",
       "      <td id=\"T_7f5c8_row11_col3\" class=\"data row11 col3\" >0.1489</td>\n",
       "      <td id=\"T_7f5c8_row11_col4\" class=\"data row11 col4\" >0.0907</td>\n",
       "      <td id=\"T_7f5c8_row11_col5\" class=\"data row11 col5\" >0.0885</td>\n",
       "      <td id=\"T_7f5c8_row11_col6\" class=\"data row11 col6\" >0.0432</td>\n",
       "      <td id=\"T_7f5c8_row11_col7\" class=\"data row11 col7\" >0.0498</td>\n",
       "      <td id=\"T_7f5c8_row11_col8\" class=\"data row11 col8\" >0.1020</td>\n",
       "    </tr>\n",
       "    <tr>\n",
       "      <th id=\"T_7f5c8_level0_row12\" class=\"row_heading level0 row12\" >lr</th>\n",
       "      <td id=\"T_7f5c8_row12_col0\" class=\"data row12 col0\" >Logistic Regression</td>\n",
       "      <td id=\"T_7f5c8_row12_col1\" class=\"data row12 col1\" >0.1425</td>\n",
       "      <td id=\"T_7f5c8_row12_col2\" class=\"data row12 col2\" >0.5425</td>\n",
       "      <td id=\"T_7f5c8_row12_col3\" class=\"data row12 col3\" >0.1713</td>\n",
       "      <td id=\"T_7f5c8_row12_col4\" class=\"data row12 col4\" >0.1264</td>\n",
       "      <td id=\"T_7f5c8_row12_col5\" class=\"data row12 col5\" >0.0923</td>\n",
       "      <td id=\"T_7f5c8_row12_col6\" class=\"data row12 col6\" >0.0609</td>\n",
       "      <td id=\"T_7f5c8_row12_col7\" class=\"data row12 col7\" >0.0743</td>\n",
       "      <td id=\"T_7f5c8_row12_col8\" class=\"data row12 col8\" >1.7840</td>\n",
       "    </tr>\n",
       "    <tr>\n",
       "      <th id=\"T_7f5c8_level0_row13\" class=\"row_heading level0 row13\" >qda</th>\n",
       "      <td id=\"T_7f5c8_row13_col0\" class=\"data row13 col0\" >Quadratic Discriminant Analysis</td>\n",
       "      <td id=\"T_7f5c8_row13_col1\" class=\"data row13 col1\" >0.1153</td>\n",
       "      <td id=\"T_7f5c8_row13_col2\" class=\"data row13 col2\" >0.5023</td>\n",
       "      <td id=\"T_7f5c8_row13_col3\" class=\"data row13 col3\" >0.1222</td>\n",
       "      <td id=\"T_7f5c8_row13_col4\" class=\"data row13 col4\" >0.1185</td>\n",
       "      <td id=\"T_7f5c8_row13_col5\" class=\"data row13 col5\" >0.1106</td>\n",
       "      <td id=\"T_7f5c8_row13_col6\" class=\"data row13 col6\" >0.0050</td>\n",
       "      <td id=\"T_7f5c8_row13_col7\" class=\"data row13 col7\" >0.0049</td>\n",
       "      <td id=\"T_7f5c8_row13_col8\" class=\"data row13 col8\" >0.0630</td>\n",
       "    </tr>\n",
       "  </tbody>\n",
       "</table>\n"
      ],
      "text/plain": [
       "<pandas.io.formats.style.Styler at 0x7f1c869c89d0>"
      ]
     },
     "metadata": {},
     "output_type": "display_data"
    },
    {
     "data": {
      "text/plain": [
       "ExtraTreesClassifier(bootstrap=False, ccp_alpha=0.0, class_weight=None,\n",
       "                     criterion='gini', max_depth=None, max_features='auto',\n",
       "                     max_leaf_nodes=None, max_samples=None,\n",
       "                     min_impurity_decrease=0.0, min_impurity_split=None,\n",
       "                     min_samples_leaf=1, min_samples_split=2,\n",
       "                     min_weight_fraction_leaf=0.0, n_estimators=100, n_jobs=-1,\n",
       "                     oob_score=False, random_state=123, verbose=0,\n",
       "                     warm_start=False)"
      ]
     },
     "execution_count": 87,
     "metadata": {},
     "output_type": "execute_result"
    }
   ],
   "source": [
    "best = compare_models()\n",
    "best"
   ]
  },
  {
   "cell_type": "code",
   "execution_count": 88,
   "metadata": {},
   "outputs": [
    {
     "data": {
      "application/vnd.jupyter.widget-view+json": {
       "model_id": "f2a7bd7ab9f240bf8d333d00d02485d0",
       "version_major": 2,
       "version_minor": 0
      },
      "text/plain": [
       "interactive(children=(ToggleButtons(description='Plot Type:', icons=('',), options=(('Hyperparameters', 'param…"
      ]
     },
     "metadata": {},
     "output_type": "display_data"
    }
   ],
   "source": [
    "evaluate_model(best)"
   ]
  },
  {
   "cell_type": "code",
   "execution_count": 90,
   "metadata": {},
   "outputs": [
    {
     "name": "stdout",
     "output_type": "stream",
     "text": [
      "Transformation Pipeline and Model Successfully Saved\n"
     ]
    },
    {
     "data": {
      "text/plain": [
       "(Pipeline(memory=None,\n",
       "          steps=[('dtypes',\n",
       "                  DataTypes_Auto_infer(categorical_features=[],\n",
       "                                       display_types=True, features_todrop=[],\n",
       "                                       id_columns=[],\n",
       "                                       ml_usecase='classification',\n",
       "                                       numerical_features=[], target='Rótulo_Y',\n",
       "                                       time_features=[])),\n",
       "                 ('imputer',\n",
       "                  Simple_Imputer(categorical_strategy='not_available',\n",
       "                                 fill_value_categorical=None,\n",
       "                                 fill_value_numerical=None,\n",
       "                                 numeric_str...\n",
       "                  ExtraTreesClassifier(bootstrap=False, ccp_alpha=0.0,\n",
       "                                       class_weight=None, criterion='gini',\n",
       "                                       max_depth=None, max_features='auto',\n",
       "                                       max_leaf_nodes=None, max_samples=None,\n",
       "                                       min_impurity_decrease=0.0,\n",
       "                                       min_impurity_split=None,\n",
       "                                       min_samples_leaf=1, min_samples_split=2,\n",
       "                                       min_weight_fraction_leaf=0.0,\n",
       "                                       n_estimators=100, n_jobs=-1,\n",
       "                                       oob_score=False, random_state=123,\n",
       "                                       verbose=0, warm_start=False)]],\n",
       "          verbose=False),\n",
       " 'my_best_pipeline.pkl')"
      ]
     },
     "execution_count": 90,
     "metadata": {},
     "output_type": "execute_result"
    }
   ],
   "source": [
    "save_model(best, 'my_best_pipeline')"
   ]
  },
  {
   "cell_type": "code",
   "execution_count": 91,
   "metadata": {},
   "outputs": [
    {
     "name": "stdout",
     "output_type": "stream",
     "text": [
      "Transformation Pipeline and Model Successfully Loaded\n",
      "Pipeline(memory=None,\n",
      "         steps=[('dtypes',\n",
      "                 DataTypes_Auto_infer(categorical_features=[],\n",
      "                                      display_types=True, features_todrop=[],\n",
      "                                      id_columns=[],\n",
      "                                      ml_usecase='classification',\n",
      "                                      numerical_features=[], target='Rótulo_Y',\n",
      "                                      time_features=[])),\n",
      "                ('imputer',\n",
      "                 Simple_Imputer(categorical_strategy='not_available',\n",
      "                                fill_value_categorical=None,\n",
      "                                fill_value_numerical=None,\n",
      "                                numeric_str...\n",
      "                 ExtraTreesClassifier(bootstrap=False, ccp_alpha=0.0,\n",
      "                                      class_weight=None, criterion='gini',\n",
      "                                      max_depth=None, max_features='auto',\n",
      "                                      max_leaf_nodes=None, max_samples=None,\n",
      "                                      min_impurity_decrease=0.0,\n",
      "                                      min_impurity_split=None,\n",
      "                                      min_samples_leaf=1, min_samples_split=2,\n",
      "                                      min_weight_fraction_leaf=0.0,\n",
      "                                      n_estimators=100, n_jobs=-1,\n",
      "                                      oob_score=False, random_state=123,\n",
      "                                      verbose=0, warm_start=False)]],\n",
      "         verbose=False)\n"
     ]
    }
   ],
   "source": [
    "loaded_model = load_model('my_best_pipeline')\n",
    "print(loaded_model)"
   ]
  },
  {
   "cell_type": "code",
   "execution_count": null,
   "metadata": {},
   "outputs": [],
   "source": []
  }
 ],
 "metadata": {
  "accelerator": "TPU",
  "colab": {
   "provenance": []
  },
  "gpuClass": "standard",
  "kernelspec": {
   "display_name": "Python 3 (ipykernel)",
   "language": "python",
   "name": "python3"
  },
  "language_info": {
   "codemirror_mode": {
    "name": "ipython",
    "version": 3
   },
   "file_extension": ".py",
   "mimetype": "text/x-python",
   "name": "python",
   "nbconvert_exporter": "python",
   "pygments_lexer": "ipython3",
   "version": "3.7.9"
  },
  "widgets": {
   "application/vnd.jupyter.widget-state+json": {
    "19270ec0461747a88693d8a254e8ea7b": {
     "model_module": "@jupyter-widgets/controls",
     "model_module_version": "1.5.0",
     "model_name": "IntProgressModel",
     "state": {
      "_dom_classes": [],
      "_model_module": "@jupyter-widgets/controls",
      "_model_module_version": "1.5.0",
      "_model_name": "IntProgressModel",
      "_view_count": null,
      "_view_module": "@jupyter-widgets/controls",
      "_view_module_version": "1.5.0",
      "_view_name": "ProgressView",
      "bar_style": "",
      "description": "Processing: ",
      "description_tooltip": null,
      "layout": "IPY_MODEL_60fe738d0ae24f35979105bd45ff1ed7",
      "max": 3,
      "min": 0,
      "orientation": "horizontal",
      "style": "IPY_MODEL_3ea1f18f3889428db56d68cd0facdcc9",
      "value": 2
     }
    },
    "3ea1f18f3889428db56d68cd0facdcc9": {
     "model_module": "@jupyter-widgets/controls",
     "model_module_version": "1.5.0",
     "model_name": "ProgressStyleModel",
     "state": {
      "_model_module": "@jupyter-widgets/controls",
      "_model_module_version": "1.5.0",
      "_model_name": "ProgressStyleModel",
      "_view_count": null,
      "_view_module": "@jupyter-widgets/base",
      "_view_module_version": "1.2.0",
      "_view_name": "StyleView",
      "bar_color": null,
      "description_width": ""
     }
    },
    "60fe738d0ae24f35979105bd45ff1ed7": {
     "model_module": "@jupyter-widgets/base",
     "model_module_version": "1.2.0",
     "model_name": "LayoutModel",
     "state": {
      "_model_module": "@jupyter-widgets/base",
      "_model_module_version": "1.2.0",
      "_model_name": "LayoutModel",
      "_view_count": null,
      "_view_module": "@jupyter-widgets/base",
      "_view_module_version": "1.2.0",
      "_view_name": "LayoutView",
      "align_content": null,
      "align_items": null,
      "align_self": null,
      "border": null,
      "bottom": null,
      "display": null,
      "flex": null,
      "flex_flow": null,
      "grid_area": null,
      "grid_auto_columns": null,
      "grid_auto_flow": null,
      "grid_auto_rows": null,
      "grid_column": null,
      "grid_gap": null,
      "grid_row": null,
      "grid_template_areas": null,
      "grid_template_columns": null,
      "grid_template_rows": null,
      "height": null,
      "justify_content": null,
      "justify_items": null,
      "left": null,
      "margin": null,
      "max_height": null,
      "max_width": null,
      "min_height": null,
      "min_width": null,
      "object_fit": null,
      "object_position": null,
      "order": null,
      "overflow": null,
      "overflow_x": null,
      "overflow_y": null,
      "padding": null,
      "right": null,
      "top": null,
      "visibility": null,
      "width": null
     }
    },
    "694a9dda51f7428698f5fbd6e6ca2837": {
     "model_module": "@jupyter-widgets/base",
     "model_module_version": "1.2.0",
     "model_name": "LayoutModel",
     "state": {
      "_model_module": "@jupyter-widgets/base",
      "_model_module_version": "1.2.0",
      "_model_name": "LayoutModel",
      "_view_count": null,
      "_view_module": "@jupyter-widgets/base",
      "_view_module_version": "1.2.0",
      "_view_name": "LayoutView",
      "align_content": null,
      "align_items": null,
      "align_self": null,
      "border": null,
      "bottom": null,
      "display": null,
      "flex": null,
      "flex_flow": null,
      "grid_area": null,
      "grid_auto_columns": null,
      "grid_auto_flow": null,
      "grid_auto_rows": null,
      "grid_column": null,
      "grid_gap": null,
      "grid_row": null,
      "grid_template_areas": null,
      "grid_template_columns": null,
      "grid_template_rows": null,
      "height": null,
      "justify_content": null,
      "justify_items": null,
      "left": null,
      "margin": null,
      "max_height": null,
      "max_width": null,
      "min_height": null,
      "min_width": null,
      "object_fit": null,
      "object_position": null,
      "order": null,
      "overflow": null,
      "overflow_x": null,
      "overflow_y": null,
      "padding": null,
      "right": null,
      "top": null,
      "visibility": null,
      "width": "100%"
     }
    },
    "d989e01b2e6d40efab5496dde382eb4a": {
     "model_module": "@jupyter-widgets/controls",
     "model_module_version": "1.5.0",
     "model_name": "DescriptionStyleModel",
     "state": {
      "_model_module": "@jupyter-widgets/controls",
      "_model_module_version": "1.5.0",
      "_model_name": "DescriptionStyleModel",
      "_view_count": null,
      "_view_module": "@jupyter-widgets/base",
      "_view_module_version": "1.2.0",
      "_view_name": "StyleView",
      "description_width": ""
     }
    },
    "dfbbb5178ecf4ed0a1bf7c81089685ed": {
     "model_module": "@jupyter-widgets/controls",
     "model_module_version": "1.5.0",
     "model_name": "TextModel",
     "state": {
      "_dom_classes": [],
      "_model_module": "@jupyter-widgets/controls",
      "_model_module_version": "1.5.0",
      "_model_name": "TextModel",
      "_view_count": null,
      "_view_module": "@jupyter-widgets/controls",
      "_view_module_version": "1.5.0",
      "_view_name": "TextView",
      "continuous_update": true,
      "description": "",
      "description_tooltip": null,
      "disabled": false,
      "layout": "IPY_MODEL_694a9dda51f7428698f5fbd6e6ca2837",
      "placeholder": "​",
      "style": "IPY_MODEL_d989e01b2e6d40efab5496dde382eb4a",
      "value": "Following data types have been inferred automatically, if they are correct press enter to continue or type 'quit' otherwise."
     }
    }
   }
  }
 },
 "nbformat": 4,
 "nbformat_minor": 4
}
