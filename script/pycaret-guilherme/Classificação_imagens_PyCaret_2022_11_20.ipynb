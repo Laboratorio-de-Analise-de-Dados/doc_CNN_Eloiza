{
 "cells": [
  {
   "cell_type": "markdown",
   "metadata": {
    "id": "UXBd8UDKRRAq",
    "tags": []
   },
   "source": [
    "# Importação das Bibliotecas"
   ]
  },
  {
   "cell_type": "code",
   "execution_count": 1,
   "metadata": {},
   "outputs": [],
   "source": [
    "# !pip install joblib==1.2.0"
   ]
  },
  {
   "cell_type": "code",
   "execution_count": 3,
   "metadata": {},
   "outputs": [],
   "source": [
    "# !pip install pycaret"
   ]
  },
  {
   "cell_type": "code",
   "execution_count": 4,
   "metadata": {
    "id": "Ec21QQkLREGT"
   },
   "outputs": [],
   "source": [
    "import os\n",
    "import numpy as np\n",
    "import pandas as pd\n",
    "import joblib\n",
    "from util import meus_uteis, timeProcess, mask_corr_graphic, printLis\n",
    "\n",
    "# Salva e recupera arquivos\n",
    "from pickle import dump, load\n",
    "from bz2 import BZ2File\n",
    "\n",
    "from pycaret.classification import *"
   ]
  },
  {
   "cell_type": "code",
   "execution_count": 5,
   "metadata": {
    "colab": {
     "base_uri": "https://localhost:8080/"
    },
    "id": "3M4RqjWDRd3h",
    "outputId": "5a036213-e5cb-437d-f103-0233c0fb9490"
   },
   "outputs": [
    {
     "name": "stdout",
     "output_type": "stream",
     "text": [
      "-------------\n",
      "-=< Lista >=-\n",
      "-------------\n",
      "0 -> lista_rotulo_camp_clar_50_resized_regressao_mAb_DENV12022-10-25.gz\n",
      "1 -> lista_rotulo_camp_clar_50_resized_regressao_THP12022-10-25.gz\n",
      "2 -> lista_rotulo_camp_clar_50_resized_regressao_A1722022-10-25.gz\n",
      "3 -> lista_img_camp_clar_100_resized_regressao_THP12022-10-25.gz\n",
      "4 -> lista_img_camp_clar_25_resized_regressao_HUH72022-11-3.gz\n",
      "5 -> lista_rotulo_camp_clar_75_resized_regressao_3T3_2022-11-3.gz\n",
      "6 -> lista_rotulo_camp_clar_50_resized_regressao_MAYV2022-10-25.gz\n",
      "7 -> lista_rotulo_camp_clar_100_resized_regressao_SH_SY5Y2022-10-25.gz\n",
      "8 -> lista_rotulo_camp_clar_25_resized_regressao_A5492022-11-3.gz\n",
      "9 -> lista_img_camp_clar_75_resized_regressao_A1722022-10-25.gz\n",
      "10 -> lista_img_camp_clar_50_resized_regressao_MAYV2022-10-25.gz\n",
      "11 -> lista_rotulo_camp_clar_75_resized_regressao_THP12022-10-25.gz\n",
      "12 -> lista_rotulo_camp_clar_75_resized_regressao_HUH72022-11-3.gz\n",
      "13 -> lista_rotulo_camp_clar_50_resized_regressao_A5492022-11-3.gz\n",
      "14 -> lista_rotulo_camp_clar_25_resized_regressao_MAYV2022-10-25.gz\n",
      "15 -> lista_img_camp_clar_75_resized_regressao_A5492022-11-3.gz\n",
      "16 -> lista_rotulo_camp_clar_25_resized_regressao_THP12022-10-25.gz\n",
      "17 -> lista_img_camp_clar_25_resized_regressao_A1722022-10-25.gz\n",
      "18 -> lista_rotulo_camp_clar_75_resized_regressao_SH_SY5Y2022-10-25.gz\n",
      "19 -> lista_img_camp_clar_25_resized_regressao_3T3_2022-11-3.gz\n",
      "20 -> lista_img_camp_clar_75_resized_regressao_mAb_DENV12022-10-25.gz\n",
      "21 -> lista_rotulo_camp_clar_100_resized_regressao_THP12022-10-25.gz\n",
      "22 -> lista_rotulo_camp_clar_100_resized_regressao_A5492022-11-3.gz\n",
      "23 -> lista_img_camp_clar_50_resized_regressao_A1722022-10-25.gz\n",
      "24 -> lista_rotulo_camp_clar_25_resized_regressao_3T3_2022-11-3.gz\n",
      "25 -> lista_rotulo_camp_clar_100_resized_regressao_3T32022-11-3.gz\n",
      "26 -> Cópia de lista_rotulo_camp_clar_25_resized_regressao_VERO62022-10-24.gz\n",
      "27 -> lista_rotulo_camp_clar_100_resized_regressao_mAb_DENV12022-10-25.gz\n",
      "28 -> lista_img_camp_clar_50_resized_regressao_SH_SY5Y2022-10-25.gz\n",
      "29 -> lista_img_camp_clar_100_resized_regressao_A1722022-10-25.gz\n",
      "30 -> Cópia de lista_img_camp_clar_25_resized_regressao_VERO62022-10-24.gz\n",
      "31 -> lista_img_camp_clar_25_resized_regressao_SH_SY5Y2022-10-25.gz\n",
      "32 -> lista_img_camp_clar_50_resized_regressao_3T3_2022-11-3.gz\n",
      "33 -> lista_img_camp_clar_50_resized_regressao_THP12022-10-25.gz\n",
      "34 -> lista_img_camp_clar_100_resized_regressao_mAb_DENV12022-10-25.gz\n",
      "35 -> lista_img_camp_clar_75_resized_regressao_SH_SY5Y2022-10-25.gz\n",
      "36 -> lista_rotulo_camp_clar_75_resized_regressao_A5492022-11-3.gz\n",
      "37 -> lista_img_camp_clar_100_resized_regressao_3T32022-11-3.gz\n",
      "38 -> lista_img_camp_clar_100_resized_regressao_MAYV2022-10-25.gz\n",
      "39 -> lista_img_camp_clar_25_resized_regressao_mAb_DENV12022-10-25.gz\n",
      "40 -> lista_img_camp_clar_25_resized_regressao_A5492022-11-3.gz\n",
      "41 -> lista_rotulo_camp_clar_50_resized_regressao_SH_SY5Y2022-10-25.gz\n",
      "42 -> lista_rotulo_camp_clar_25_resized_regressao_mAb_DENV12022-10-25.gz\n",
      "43 -> lista_rotulo_camp_clar_50_resized_regressao_3T3_2022-11-3.gz\n",
      "44 -> lista_img_camp_clar_100_resized_regressao_HUH72022-11-3.gz\n",
      "45 -> Cópia de lista_img_camp_clar_75_resized_regressao_VERO62022-10-24.gz\n",
      "46 -> lista_rotulo_camp_clar_75_resized_regressao_MAYV2022-10-25.gz\n",
      "47 -> lista_rotulo_camp_clar_75_resized_regressao_A1722022-10-25.gz\n",
      "48 -> lista_rotulo_camp_clar_100_resized_regressao_HUH72022-11-3.gz\n",
      "49 -> lista_img_camp_clar_50_resized_regressao_HUH72022-11-3.gz\n",
      "50 -> lista_img_camp_clar_25_resized_regressao_MAYV2022-10-25.gz\n",
      "51 -> lista_img_camp_clar_75_resized_regressao_THP12022-10-25.gz\n",
      "52 -> lista_img_camp_clar_50_resized_regressao_A5492022-11-3.gz\n",
      "53 -> lista_img_camp_clar_50_resized_regressao_mAb_DENV12022-10-25.gz\n",
      "54 -> lista_rotulo_camp_clar_25_resized_regressao_SH_SY5Y2022-10-25.gz\n",
      "55 -> lista_img_camp_clar_100_resized_regressao_SH_SY5Y2022-10-25.gz\n",
      "56 -> lista_rotulo_camp_clar_100_resized_regressao_A1722022-10-25.gz\n",
      "57 -> lista_rotulo_camp_clar_25_resized_regressao_HUH72022-11-3.gz\n",
      "58 -> lista_img_camp_clar_75_resized_regressao_3T3_2022-11-3.gz\n",
      "59 -> Cópia de lista_rotulo_camp_clar_50_resized_regressao_VERO62022-10-24.gz\n",
      "60 -> lista_img_camp_clar_100_resized_regressao_A5492022-11-3.gz\n",
      "61 -> Cópia de lista_img_camp_clar_100_resized_regressao_VERO62022-10-24.gz\n",
      "62 -> lista_rotulo_camp_clar_50_resized_regressao_HUH72022-11-3.gz\n",
      "63 -> lista_rotulo_camp_clar_75_resized_regressao_mAb_DENV12022-10-25.gz\n",
      "64 -> lista_rotulo_camp_clar_25_resized_regressao_A1722022-10-25.gz\n",
      "65 -> lista_img_camp_clar_75_resized_regressao_MAYV2022-10-25.gz\n",
      "66 -> lista_img_camp_clar_75_resized_regressao_HUH72022-11-3.gz\n",
      "67 -> Cópia de lista_rotulo_camp_clar_75_resized_regressao_VERO62022-10-24.gz\n",
      "68 -> lista_rotulo_camp_clar_100_resized_regressao_MAYV2022-10-25.gz\n",
      "69 -> Cópia de lista_img_camp_clar_50_resized_regressao_VERO62022-10-24.gz\n",
      "70 -> Cópia de lista_rotulo_camp_clar_100_resized_regressao_VERO62022-10-24.gz\n",
      "71 -> lista_img_camp_clar_25_resized_regressao_THP12022-10-25.gz\n"
     ]
    }
   ],
   "source": [
    "diretorio = \"./../results/Classificação_imagens_DOC_CNN/\"\n",
    "lista_dados = os.listdir(diretorio)\n",
    "printLis(lista_dados)"
   ]
  },
  {
   "cell_type": "markdown",
   "metadata": {
    "id": "ktnt1zMBWBKc",
    "tags": []
   },
   "source": [
    "# THP1"
   ]
  },
  {
   "cell_type": "markdown",
   "metadata": {
    "id": "KC0dlymyWXQ9"
   },
   "source": [
    "## Imagens THP1"
   ]
  },
  {
   "cell_type": "code",
   "execution_count": 6,
   "metadata": {},
   "outputs": [
    {
     "name": "stdout",
     "output_type": "stream",
     "text": [
      "-------------\n",
      "-=< Lista >=-\n",
      "-------------\n",
      "0 -> ./../results/Classificação_imagens_DOC_CNN/lista_img_camp_clar_100_resized_regressao_THP12022-10-25.gz\n",
      "1 -> ./../results/Classificação_imagens_DOC_CNN/lista_img_camp_clar_50_resized_regressao_THP12022-10-25.gz\n",
      "2 -> ./../results/Classificação_imagens_DOC_CNN/lista_img_camp_clar_75_resized_regressao_THP12022-10-25.gz\n",
      "3 -> ./../results/Classificação_imagens_DOC_CNN/lista_img_camp_clar_25_resized_regressao_THP12022-10-25.gz\n"
     ]
    }
   ],
   "source": [
    "lista_thp_img = [diretorio+i for i in lista_dados if \"THP\" in i and \"img\" in i]\n",
    "lista_thp_rotulo = [diretorio+i for i in lista_dados if \"THP\" in i and \"rotulo\" in i]\n",
    "printLis(lista_thp_img)"
   ]
  },
  {
   "cell_type": "code",
   "execution_count": 7,
   "metadata": {
    "colab": {
     "base_uri": "https://localhost:8080/"
    },
    "id": "zXJj31r4Z1Bt",
    "outputId": "aa1d1f7b-f36a-445f-e93d-1c855fb130cf"
   },
   "outputs": [
    {
     "data": {
      "text/plain": [
       "(1696, 200, 200, 3)"
      ]
     },
     "execution_count": 7,
     "metadata": {},
     "output_type": "execute_result"
    }
   ],
   "source": [
    "for i in lista_thp_img:\n",
    "    if \"_25_\" in i:\n",
    "        imagem_thp_vin = joblib.load(i)\n",
    "    elif \"_50_\" in i:\n",
    "        imagem_thp_ciq = joblib.load(i)\n",
    "    elif \"_75_\" in i:\n",
    "        imagem_thp_set = joblib.load(i)\n",
    "    elif \"_100_\" in i:\n",
    "        imagem_thp_cem = joblib.load(i)\n",
    "imagem_thp_soma = np.asarray(list(imagem_thp_cem) + list(imagem_thp_set) + list(imagem_thp_ciq) + list(imagem_thp_vin)) #somando os valores de cada lista\n",
    "imagem_thp_soma.shape"
   ]
  },
  {
   "cell_type": "code",
   "execution_count": 8,
   "metadata": {
    "colab": {
     "base_uri": "https://localhost:8080/"
    },
    "id": "yQ_uVeQSTMv3",
    "outputId": "7cf56f98-84d0-463b-88b1-b0f3156542ee"
   },
   "outputs": [
    {
     "data": {
      "text/plain": [
       "1696"
      ]
     },
     "execution_count": 8,
     "metadata": {},
     "output_type": "execute_result"
    }
   ],
   "source": [
    "# Pegando o número de imagens\n",
    "num_de_imagens = imagem_thp_soma.shape[0]\n",
    "num_de_imagens"
   ]
  },
  {
   "cell_type": "code",
   "execution_count": 9,
   "metadata": {
    "colab": {
     "base_uri": "https://localhost:8080/"
    },
    "id": "Si4a5QYDUUYk",
    "outputId": "47e4f598-8756-4725-b851-0f6e7061b0f2"
   },
   "outputs": [
    {
     "data": {
      "text/plain": [
       "(1696, 120000)"
      ]
     },
     "execution_count": 9,
     "metadata": {},
     "output_type": "execute_result"
    }
   ],
   "source": [
    "# Modificando o formato do numpy para que cada imagem tenha apenas 1-D (Flatten)\n",
    "imagem_flat_thp = imagem_thp_soma.reshape(num_de_imagens, -1)\n",
    "imagem_flat_thp.shape"
   ]
  },
  {
   "cell_type": "markdown",
   "metadata": {
    "id": "irC-TzknXikN"
   },
   "source": [
    "## Rótulo THP1"
   ]
  },
  {
   "cell_type": "code",
   "execution_count": 10,
   "metadata": {},
   "outputs": [
    {
     "name": "stdout",
     "output_type": "stream",
     "text": [
      "-------------\n",
      "-=< Lista >=-\n",
      "-------------\n",
      "0 -> ./../results/Classificação_imagens_DOC_CNN/lista_rotulo_camp_clar_50_resized_regressao_THP12022-10-25.gz\n",
      "1 -> ./../results/Classificação_imagens_DOC_CNN/lista_rotulo_camp_clar_75_resized_regressao_THP12022-10-25.gz\n",
      "2 -> ./../results/Classificação_imagens_DOC_CNN/lista_rotulo_camp_clar_25_resized_regressao_THP12022-10-25.gz\n",
      "3 -> ./../results/Classificação_imagens_DOC_CNN/lista_rotulo_camp_clar_100_resized_regressao_THP12022-10-25.gz\n"
     ]
    }
   ],
   "source": [
    "printLis(lista_thp_rotulo)"
   ]
  },
  {
   "cell_type": "code",
   "execution_count": 11,
   "metadata": {
    "colab": {
     "base_uri": "https://localhost:8080/"
    },
    "id": "zXJj31r4Z1Bt",
    "outputId": "aa1d1f7b-f36a-445f-e93d-1c855fb130cf"
   },
   "outputs": [
    {
     "data": {
      "text/plain": [
       "(1696,)"
      ]
     },
     "execution_count": 11,
     "metadata": {},
     "output_type": "execute_result"
    }
   ],
   "source": [
    "for i in lista_thp_rotulo:\n",
    "    if \"_25_\" in i:\n",
    "        rot_thp_vin = joblib.load(i)\n",
    "    elif \"_50_\" in i:\n",
    "        rot_thp_ciq = joblib.load(i)\n",
    "    elif \"_75_\" in i:\n",
    "        rot_thp_set = joblib.load(i)\n",
    "    elif \"_100_\" in i:\n",
    "        rot_thp_cem = joblib.load(i)\n",
    "rot_thp_soma = np.asarray(list(rot_thp_cem) + list(rot_thp_set) + list(rot_thp_ciq) + list(rot_thp_vin)) #somando os valores de cada lista\n",
    "rot_thp_soma.shape"
   ]
  },
  {
   "cell_type": "markdown",
   "metadata": {
    "id": "9O1Nsm8UYRcT"
   },
   "source": [
    "## DataFrame THP1"
   ]
  },
  {
   "cell_type": "code",
   "execution_count": 12,
   "metadata": {
    "colab": {
     "base_uri": "https://localhost:8080/",
     "height": 299
    },
    "id": "e8YG_Y_PYGyS",
    "outputId": "c5700ae3-888f-4ecb-9965-4bc6def81cb7"
   },
   "outputs": [
    {
     "name": "stdout",
     "output_type": "stream",
     "text": [
      "<class 'pandas.core.frame.DataFrame'>\n",
      "RangeIndex: 1696 entries, 0 to 1695\n",
      "Columns: 120000 entries, 0 to 119999\n",
      "dtypes: uint8(120000)\n",
      "memory usage: 194.1 MB\n"
     ]
    }
   ],
   "source": [
    "df_imagens_thp = pd.DataFrame(imagem_flat_thp)\n",
    "df_imagens_thp.info()"
   ]
  },
  {
   "cell_type": "markdown",
   "metadata": {
    "id": "XbxpppJGYg6N"
   },
   "source": [
    "## Incluindo rótulo"
   ]
  },
  {
   "cell_type": "code",
   "execution_count": 13,
   "metadata": {
    "colab": {
     "base_uri": "https://localhost:8080/",
     "height": 299
    },
    "id": "q9IGPKHwYfsp",
    "outputId": "61c17202-9bf1-44e4-c294-d3707773795a"
   },
   "outputs": [
    {
     "name": "stdout",
     "output_type": "stream",
     "text": [
      "<class 'pandas.core.frame.DataFrame'>\n",
      "RangeIndex: 1696 entries, 0 to 1695\n",
      "Columns: 120001 entries, 0 to Rótulo_Y\n",
      "dtypes: object(1), uint8(120000)\n",
      "memory usage: 194.1+ MB\n"
     ]
    }
   ],
   "source": [
    "df_imagens_thp[\"Rótulo_Y\"] = rot_thp_soma\n",
    "df_imagens_thp.info()"
   ]
  },
  {
   "cell_type": "markdown",
   "metadata": {
    "id": "b52G70UcZrRC",
    "tags": []
   },
   "source": [
    "# SH_SY5Y"
   ]
  },
  {
   "cell_type": "code",
   "execution_count": 14,
   "metadata": {},
   "outputs": [
    {
     "name": "stdout",
     "output_type": "stream",
     "text": [
      "-------------\n",
      "-=< Lista >=-\n",
      "-------------\n",
      "0 -> ./../results/Classificação_imagens_DOC_CNN/lista_img_camp_clar_50_resized_regressao_SH_SY5Y2022-10-25.gz\n",
      "1 -> ./../results/Classificação_imagens_DOC_CNN/lista_img_camp_clar_25_resized_regressao_SH_SY5Y2022-10-25.gz\n",
      "2 -> ./../results/Classificação_imagens_DOC_CNN/lista_img_camp_clar_75_resized_regressao_SH_SY5Y2022-10-25.gz\n",
      "3 -> ./../results/Classificação_imagens_DOC_CNN/lista_img_camp_clar_100_resized_regressao_SH_SY5Y2022-10-25.gz\n"
     ]
    }
   ],
   "source": [
    "lista_sh_img = [diretorio+i for i in lista_dados if \"SH_SY5Y\" in i and \"img\" in i]\n",
    "lista_sh_rotulo = [diretorio+i for i in lista_dados if \"SH_SY5Y\" in i and \"rotulo\" in i]\n",
    "printLis(lista_sh_img)"
   ]
  },
  {
   "cell_type": "code",
   "execution_count": 15,
   "metadata": {
    "colab": {
     "base_uri": "https://localhost:8080/"
    },
    "id": "zXJj31r4Z1Bt",
    "outputId": "aa1d1f7b-f36a-445f-e93d-1c855fb130cf"
   },
   "outputs": [
    {
     "data": {
      "text/plain": [
       "(1168, 200, 200, 3)"
      ]
     },
     "execution_count": 15,
     "metadata": {},
     "output_type": "execute_result"
    }
   ],
   "source": [
    "for i in lista_sh_img:\n",
    "    if \"_25_\" in i:\n",
    "        imagem_sh_vin = joblib.load(i)\n",
    "    elif \"_50_\" in i:\n",
    "        imagem_sh_ciq = joblib.load(i)\n",
    "    elif \"_75_\" in i:\n",
    "        imagem_sh_set = joblib.load(i)\n",
    "    elif \"_100_\" in i:\n",
    "        imagem_sh_cem = joblib.load(i)\n",
    "imagem_sh_soma = np.asarray(list(imagem_sh_cem) + list(imagem_sh_set) + list(imagem_sh_ciq) + list(imagem_sh_vin)) #somando os valores de cada lista\n",
    "imagem_sh_soma.shape"
   ]
  },
  {
   "cell_type": "markdown",
   "metadata": {
    "id": "iEYA72BSadNn"
   },
   "source": [
    "## Rótulo SH_SY5Y"
   ]
  },
  {
   "cell_type": "code",
   "execution_count": 16,
   "metadata": {
    "colab": {
     "base_uri": "https://localhost:8080/"
    },
    "id": "zXJj31r4Z1Bt",
    "outputId": "aa1d1f7b-f36a-445f-e93d-1c855fb130cf"
   },
   "outputs": [
    {
     "data": {
      "text/plain": [
       "(1168,)"
      ]
     },
     "execution_count": 16,
     "metadata": {},
     "output_type": "execute_result"
    }
   ],
   "source": [
    "for i in lista_sh_rotulo:\n",
    "    if \"_25_\" in i:\n",
    "        rot_sh_vin = joblib.load(i)\n",
    "    elif \"_50_\" in i:\n",
    "        rot_sh_ciq = joblib.load(i)\n",
    "    elif \"_75_\" in i:\n",
    "        rot_sh_set = joblib.load(i)\n",
    "    elif \"_100_\" in i:\n",
    "        rot_sh_cem = joblib.load(i)\n",
    "rot_sh_soma = np.asarray(list(rot_sh_cem) + list(rot_sh_set) + list(rot_sh_ciq) + list(rot_sh_vin)) #somando os valores de cada lista\n",
    "rot_sh_soma.shape"
   ]
  },
  {
   "cell_type": "code",
   "execution_count": 17,
   "metadata": {
    "colab": {
     "base_uri": "https://localhost:8080/"
    },
    "id": "HLUNmogRa1yi",
    "outputId": "558a0ebb-07ee-46bd-c718-a9e216d97544"
   },
   "outputs": [
    {
     "data": {
      "text/plain": [
       "1168"
      ]
     },
     "execution_count": 17,
     "metadata": {},
     "output_type": "execute_result"
    }
   ],
   "source": [
    "# Pegando o número de imagens\n",
    "num_de_imagens = imagem_sh_soma.shape[0]\n",
    "num_de_imagens"
   ]
  },
  {
   "cell_type": "code",
   "execution_count": 18,
   "metadata": {
    "colab": {
     "base_uri": "https://localhost:8080/"
    },
    "id": "nwLn621aa933",
    "outputId": "f1663a28-7d93-4a51-fca3-b24deadbb445"
   },
   "outputs": [
    {
     "data": {
      "text/plain": [
       "(1168, 120000)"
      ]
     },
     "execution_count": 18,
     "metadata": {},
     "output_type": "execute_result"
    }
   ],
   "source": [
    "# Modificando o formato do numpy para que cada imagem tenha apenas 1-D (Flatten)\n",
    "imagem_flat_sh = imagem_sh_soma.reshape(num_de_imagens, -1)\n",
    "imagem_flat_sh.shape"
   ]
  },
  {
   "cell_type": "markdown",
   "metadata": {
    "id": "20wVJe4MbGi0"
   },
   "source": [
    "## DataFrame SH-SY5Y"
   ]
  },
  {
   "cell_type": "code",
   "execution_count": 19,
   "metadata": {
    "colab": {
     "base_uri": "https://localhost:8080/",
     "height": 299
    },
    "id": "x-yAKRRAbKf8",
    "outputId": "a129b80b-b15d-490b-ed27-fda6d72f252e"
   },
   "outputs": [
    {
     "name": "stdout",
     "output_type": "stream",
     "text": [
      "<class 'pandas.core.frame.DataFrame'>\n",
      "RangeIndex: 1168 entries, 0 to 1167\n",
      "Columns: 120000 entries, 0 to 119999\n",
      "dtypes: uint8(120000)\n",
      "memory usage: 133.7 MB\n"
     ]
    }
   ],
   "source": [
    "df_imagens_sh = pd.DataFrame(imagem_flat_sh)\n",
    "df_imagens_sh.info()"
   ]
  },
  {
   "cell_type": "markdown",
   "metadata": {
    "id": "LSdh-5imb0-T"
   },
   "source": [
    "## Incluindo rótulo"
   ]
  },
  {
   "cell_type": "code",
   "execution_count": 20,
   "metadata": {
    "colab": {
     "base_uri": "https://localhost:8080/",
     "height": 299
    },
    "id": "75THut8wb2k6",
    "outputId": "0a9644a9-75ff-4f7c-b912-2a2b09c401d2"
   },
   "outputs": [
    {
     "name": "stdout",
     "output_type": "stream",
     "text": [
      "<class 'pandas.core.frame.DataFrame'>\n",
      "RangeIndex: 1168 entries, 0 to 1167\n",
      "Columns: 120001 entries, 0 to Rótulo_Y\n",
      "dtypes: object(1), uint8(120000)\n",
      "memory usage: 133.7+ MB\n"
     ]
    }
   ],
   "source": [
    "df_imagens_sh[\"Rótulo_Y\"] = rot_sh_soma\n",
    "df_imagens_sh.info()"
   ]
  },
  {
   "cell_type": "markdown",
   "metadata": {
    "id": "5Ng0GaRpc5Fm",
    "tags": []
   },
   "source": [
    "# A172"
   ]
  },
  {
   "cell_type": "markdown",
   "metadata": {
    "id": "mBuO0NB_dCg4"
   },
   "source": [
    "## Linhagem 172"
   ]
  },
  {
   "cell_type": "code",
   "execution_count": 21,
   "metadata": {},
   "outputs": [
    {
     "name": "stdout",
     "output_type": "stream",
     "text": [
      "-------------\n",
      "-=< Lista >=-\n",
      "-------------\n",
      "0 -> ./../results/Classificação_imagens_DOC_CNN/lista_img_camp_clar_75_resized_regressao_A1722022-10-25.gz\n",
      "1 -> ./../results/Classificação_imagens_DOC_CNN/lista_img_camp_clar_25_resized_regressao_A1722022-10-25.gz\n",
      "2 -> ./../results/Classificação_imagens_DOC_CNN/lista_img_camp_clar_50_resized_regressao_A1722022-10-25.gz\n",
      "3 -> ./../results/Classificação_imagens_DOC_CNN/lista_img_camp_clar_100_resized_regressao_A1722022-10-25.gz\n"
     ]
    }
   ],
   "source": [
    "lista_A172_img = [diretorio+i for i in lista_dados if \"A172\" in i and \"img\" in i]\n",
    "lista_A172_rotulo = [diretorio+i for i in lista_dados if \"A172\" in i and \"rotulo\" in i]\n",
    "printLis(lista_A172_img)"
   ]
  },
  {
   "cell_type": "code",
   "execution_count": 22,
   "metadata": {
    "colab": {
     "base_uri": "https://localhost:8080/"
    },
    "id": "zXJj31r4Z1Bt",
    "outputId": "aa1d1f7b-f36a-445f-e93d-1c855fb130cf"
   },
   "outputs": [
    {
     "data": {
      "text/plain": [
       "(1584, 200, 200, 3)"
      ]
     },
     "execution_count": 22,
     "metadata": {},
     "output_type": "execute_result"
    }
   ],
   "source": [
    "for i in lista_A172_img:\n",
    "    if \"_25_\" in i:\n",
    "        imagem_A172_vin = joblib.load(i)\n",
    "    elif \"_50_\" in i:\n",
    "        imagem_A172_ciq = joblib.load(i)\n",
    "    elif \"_75_\" in i:\n",
    "        imagem_A172_set = joblib.load(i)\n",
    "    elif \"_100_\" in i:\n",
    "        imagem_A172_cem = joblib.load(i)\n",
    "imagem_A172_soma = np.asarray(list(imagem_A172_cem) + list(imagem_A172_set) + list(imagem_A172_ciq) + list(imagem_A172_vin)) #somando os valores de cada lista\n",
    "imagem_A172_soma.shape"
   ]
  },
  {
   "cell_type": "markdown",
   "metadata": {
    "id": "7pKw8WjIeG8j"
   },
   "source": [
    "## Rótulo A172"
   ]
  },
  {
   "cell_type": "code",
   "execution_count": 23,
   "metadata": {
    "colab": {
     "base_uri": "https://localhost:8080/"
    },
    "id": "zXJj31r4Z1Bt",
    "outputId": "aa1d1f7b-f36a-445f-e93d-1c855fb130cf"
   },
   "outputs": [
    {
     "data": {
      "text/plain": [
       "(1584,)"
      ]
     },
     "execution_count": 23,
     "metadata": {},
     "output_type": "execute_result"
    }
   ],
   "source": [
    "for i in lista_A172_rotulo:\n",
    "    if \"_25_\" in i:\n",
    "        rot_A172_vin = joblib.load(i)\n",
    "    elif \"_50_\" in i:\n",
    "        rot_A172_ciq = joblib.load(i)\n",
    "    elif \"_75_\" in i:\n",
    "        rot_A172_set = joblib.load(i)\n",
    "    elif \"_100_\" in i:\n",
    "        rot_A172_cem = joblib.load(i)\n",
    "rot_A172_soma = np.asarray(list(rot_A172_cem) + list(rot_A172_set) + list(rot_A172_ciq) + list(rot_A172_vin)) #somando os valores de cada lista\n",
    "rot_A172_soma.shape"
   ]
  },
  {
   "cell_type": "code",
   "execution_count": 24,
   "metadata": {
    "colab": {
     "base_uri": "https://localhost:8080/"
    },
    "id": "h85aW2Fueb2J",
    "outputId": "02c80766-9eb1-4c98-83c6-b6b860fe844f"
   },
   "outputs": [
    {
     "data": {
      "text/plain": [
       "1584"
      ]
     },
     "execution_count": 24,
     "metadata": {},
     "output_type": "execute_result"
    }
   ],
   "source": [
    "# Pegando o número de imagens\n",
    "num_de_imagens = imagem_A172_soma.shape[0]\n",
    "num_de_imagens"
   ]
  },
  {
   "cell_type": "code",
   "execution_count": 25,
   "metadata": {
    "colab": {
     "base_uri": "https://localhost:8080/"
    },
    "id": "0qLlgswkfBfL",
    "outputId": "935df8d5-0ee4-4f3b-d9ca-160a5c263778"
   },
   "outputs": [
    {
     "data": {
      "text/plain": [
       "(1584, 120000)"
      ]
     },
     "execution_count": 25,
     "metadata": {},
     "output_type": "execute_result"
    }
   ],
   "source": [
    "# Modificando o formato do numpy para que cada imagem tenha apenas 1-D (Flatten)\n",
    "imagem_flat_A172 = imagem_A172_soma.reshape(num_de_imagens, -1)\n",
    "imagem_flat_A172.shape"
   ]
  },
  {
   "cell_type": "markdown",
   "metadata": {
    "id": "L602SPCmfn6q"
   },
   "source": [
    "## DataFrame A172"
   ]
  },
  {
   "cell_type": "code",
   "execution_count": 26,
   "metadata": {
    "colab": {
     "base_uri": "https://localhost:8080/",
     "height": 299
    },
    "id": "O5HZ_BGpfqRp",
    "outputId": "d660724f-d8e4-499a-b8ce-bcb5fc9a9909"
   },
   "outputs": [
    {
     "name": "stdout",
     "output_type": "stream",
     "text": [
      "<class 'pandas.core.frame.DataFrame'>\n",
      "RangeIndex: 1584 entries, 0 to 1583\n",
      "Columns: 120000 entries, 0 to 119999\n",
      "dtypes: uint8(120000)\n",
      "memory usage: 181.3 MB\n"
     ]
    }
   ],
   "source": [
    "df_imagens_A172 = pd.DataFrame(imagem_flat_A172)\n",
    "df_imagens_A172.info()"
   ]
  },
  {
   "cell_type": "code",
   "execution_count": 27,
   "metadata": {
    "colab": {
     "base_uri": "https://localhost:8080/",
     "height": 299
    },
    "id": "up2YfVAcf2QH",
    "outputId": "2ccb1068-07af-434f-a218-877a11aede02"
   },
   "outputs": [
    {
     "name": "stdout",
     "output_type": "stream",
     "text": [
      "<class 'pandas.core.frame.DataFrame'>\n",
      "RangeIndex: 1584 entries, 0 to 1583\n",
      "Columns: 120001 entries, 0 to Rótulo_Y\n",
      "dtypes: object(1), uint8(120000)\n",
      "memory usage: 181.3+ MB\n"
     ]
    }
   ],
   "source": [
    "df_imagens_A172['Rótulo_Y'] = rot_A172_soma\n",
    "df_imagens_A172.info()"
   ]
  },
  {
   "cell_type": "markdown",
   "metadata": {
    "id": "oJ9X6lR_hZ7G",
    "tags": []
   },
   "source": [
    "# MAYV"
   ]
  },
  {
   "cell_type": "markdown",
   "metadata": {
    "id": "DaF-2YrAhO4i",
    "tags": []
   },
   "source": [
    "## MAYV Cell Line"
   ]
  },
  {
   "cell_type": "code",
   "execution_count": 28,
   "metadata": {},
   "outputs": [
    {
     "name": "stdout",
     "output_type": "stream",
     "text": [
      "-------------\n",
      "-=< Lista >=-\n",
      "-------------\n",
      "0 -> ./../results/Classificação_imagens_DOC_CNN/lista_img_camp_clar_50_resized_regressao_MAYV2022-10-25.gz\n",
      "1 -> ./../results/Classificação_imagens_DOC_CNN/lista_img_camp_clar_100_resized_regressao_MAYV2022-10-25.gz\n",
      "2 -> ./../results/Classificação_imagens_DOC_CNN/lista_img_camp_clar_25_resized_regressao_MAYV2022-10-25.gz\n",
      "3 -> ./../results/Classificação_imagens_DOC_CNN/lista_img_camp_clar_75_resized_regressao_MAYV2022-10-25.gz\n"
     ]
    }
   ],
   "source": [
    "lista_mayv_img = [diretorio+i for i in lista_dados if \"MAYV\" in i and \"img\" in i]\n",
    "lista_mayv_rotulo = [diretorio+i for i in lista_dados if \"MAYV\" in i and \"rotulo\" in i]\n",
    "printLis(lista_mayv_img)"
   ]
  },
  {
   "cell_type": "code",
   "execution_count": 29,
   "metadata": {
    "colab": {
     "base_uri": "https://localhost:8080/"
    },
    "id": "zXJj31r4Z1Bt",
    "outputId": "aa1d1f7b-f36a-445f-e93d-1c855fb130cf"
   },
   "outputs": [
    {
     "data": {
      "text/plain": [
       "(1280, 200, 200, 3)"
      ]
     },
     "execution_count": 29,
     "metadata": {},
     "output_type": "execute_result"
    }
   ],
   "source": [
    "for i in lista_mayv_img:\n",
    "    if \"_25_\" in i:\n",
    "        imagem_mayv_vin = joblib.load(i)\n",
    "    elif \"_50_\" in i:\n",
    "        imagem_mayv_ciq = joblib.load(i)\n",
    "    elif \"_75_\" in i:\n",
    "        imagem_mayv_set = joblib.load(i)\n",
    "    elif \"_100_\" in i:\n",
    "        imagem_mayv_cem = joblib.load(i)\n",
    "imagem_mayv_soma = np.asarray(list(imagem_mayv_cem) + list(imagem_mayv_set) + list(imagem_mayv_ciq) + list(imagem_mayv_vin)) #somando os valores de cada lista\n",
    "imagem_mayv_soma.shape"
   ]
  },
  {
   "cell_type": "markdown",
   "metadata": {
    "id": "3iW3latqh0Ye"
   },
   "source": [
    "## Rótulo MAYV"
   ]
  },
  {
   "cell_type": "code",
   "execution_count": 30,
   "metadata": {
    "colab": {
     "base_uri": "https://localhost:8080/"
    },
    "id": "zXJj31r4Z1Bt",
    "outputId": "aa1d1f7b-f36a-445f-e93d-1c855fb130cf"
   },
   "outputs": [
    {
     "data": {
      "text/plain": [
       "(1280,)"
      ]
     },
     "execution_count": 30,
     "metadata": {},
     "output_type": "execute_result"
    }
   ],
   "source": [
    "for i in lista_mayv_rotulo:\n",
    "    if \"_25_\" in i:\n",
    "        rot_mayv_vin = joblib.load(i)\n",
    "    elif \"_50_\" in i:\n",
    "        rot_mayv_ciq = joblib.load(i)\n",
    "    elif \"_75_\" in i:\n",
    "        rot_mayv_set = joblib.load(i)\n",
    "    elif \"_100_\" in i:\n",
    "        rot_mayv_cem = joblib.load(i)\n",
    "rot_mayv_soma = np.asarray(list(rot_mayv_cem) + list(rot_mayv_set) + list(rot_mayv_ciq) + list(rot_mayv_vin)) #somando os valores de cada lista\n",
    "rot_mayv_soma.shape"
   ]
  },
  {
   "cell_type": "code",
   "execution_count": 31,
   "metadata": {
    "colab": {
     "base_uri": "https://localhost:8080/"
    },
    "id": "WPBvFxKgiDoz",
    "outputId": "b28f19d1-e05c-4f50-b4b1-02acb601e0ff"
   },
   "outputs": [
    {
     "data": {
      "text/plain": [
       "1280"
      ]
     },
     "execution_count": 31,
     "metadata": {},
     "output_type": "execute_result"
    }
   ],
   "source": [
    "# Pegando o número de imagens\n",
    "num_de_imagens = imagem_mayv_soma.shape[0]\n",
    "num_de_imagens"
   ]
  },
  {
   "cell_type": "code",
   "execution_count": 32,
   "metadata": {
    "colab": {
     "base_uri": "https://localhost:8080/"
    },
    "id": "r_P55fpLiTSu",
    "outputId": "ef9abe45-8faa-46e1-949d-5d6b1003d980"
   },
   "outputs": [
    {
     "data": {
      "text/plain": [
       "(1280, 120000)"
      ]
     },
     "execution_count": 32,
     "metadata": {},
     "output_type": "execute_result"
    }
   ],
   "source": [
    "# Modificando o formato do numpy para que cada imagem tenha apenas 1-D (Flatten)\n",
    "imagem_flat_mayv = imagem_mayv_soma.reshape(num_de_imagens, -1)\n",
    "imagem_flat_mayv.shape"
   ]
  },
  {
   "cell_type": "markdown",
   "metadata": {
    "id": "_I8FY_S_iYMm"
   },
   "source": [
    "## DataFrame MAYV"
   ]
  },
  {
   "cell_type": "code",
   "execution_count": 33,
   "metadata": {
    "colab": {
     "base_uri": "https://localhost:8080/",
     "height": 299
    },
    "id": "j36Uf2ERiaOo",
    "outputId": "5eca5e1c-2949-4afb-cfcd-f711d453420a"
   },
   "outputs": [
    {
     "name": "stdout",
     "output_type": "stream",
     "text": [
      "<class 'pandas.core.frame.DataFrame'>\n",
      "RangeIndex: 1280 entries, 0 to 1279\n",
      "Columns: 120000 entries, 0 to 119999\n",
      "dtypes: uint8(120000)\n",
      "memory usage: 146.5 MB\n"
     ]
    }
   ],
   "source": [
    "df_imagens_mayv = pd.DataFrame(imagem_flat_mayv)\n",
    "df_imagens_mayv.info()"
   ]
  },
  {
   "cell_type": "code",
   "execution_count": 34,
   "metadata": {
    "colab": {
     "base_uri": "https://localhost:8080/",
     "height": 299
    },
    "id": "_CL3o0EWiXC8",
    "outputId": "40e7deb7-29c0-4566-856f-4bbe3e18470c"
   },
   "outputs": [
    {
     "name": "stdout",
     "output_type": "stream",
     "text": [
      "<class 'pandas.core.frame.DataFrame'>\n",
      "RangeIndex: 1280 entries, 0 to 1279\n",
      "Columns: 120001 entries, 0 to Rótulo_Y\n",
      "dtypes: object(1), uint8(120000)\n",
      "memory usage: 146.5+ MB\n"
     ]
    }
   ],
   "source": [
    "df_imagens_mayv['Rótulo_Y'] = rot_mayv_soma\n",
    "df_imagens_mayv.info()"
   ]
  },
  {
   "cell_type": "markdown",
   "metadata": {
    "id": "Ce6QvgAbi4q_",
    "tags": []
   },
   "source": [
    "# DENV"
   ]
  },
  {
   "cell_type": "markdown",
   "metadata": {
    "id": "YtRVAJdPi6TV"
   },
   "source": [
    "## DENV Cell Line"
   ]
  },
  {
   "cell_type": "code",
   "execution_count": 35,
   "metadata": {},
   "outputs": [
    {
     "name": "stdout",
     "output_type": "stream",
     "text": [
      "-------------\n",
      "-=< Lista >=-\n",
      "-------------\n",
      "0 -> ./../results/Classificação_imagens_DOC_CNN/lista_img_camp_clar_75_resized_regressao_mAb_DENV12022-10-25.gz\n",
      "1 -> ./../results/Classificação_imagens_DOC_CNN/lista_img_camp_clar_100_resized_regressao_mAb_DENV12022-10-25.gz\n",
      "2 -> ./../results/Classificação_imagens_DOC_CNN/lista_img_camp_clar_25_resized_regressao_mAb_DENV12022-10-25.gz\n",
      "3 -> ./../results/Classificação_imagens_DOC_CNN/lista_img_camp_clar_50_resized_regressao_mAb_DENV12022-10-25.gz\n"
     ]
    }
   ],
   "source": [
    "lista_denv_img = [diretorio+i for i in lista_dados if \"mAb_DENV\" in i and \"img\" in i]\n",
    "lista_denv_rotulo = [diretorio+i for i in lista_dados if \"mAb_DENV\" in i and \"rotulo\" in i]\n",
    "printLis(lista_denv_img)"
   ]
  },
  {
   "cell_type": "code",
   "execution_count": 36,
   "metadata": {
    "colab": {
     "base_uri": "https://localhost:8080/"
    },
    "id": "zXJj31r4Z1Bt",
    "outputId": "aa1d1f7b-f36a-445f-e93d-1c855fb130cf"
   },
   "outputs": [
    {
     "data": {
      "text/plain": [
       "(1520, 200, 200, 3)"
      ]
     },
     "execution_count": 36,
     "metadata": {},
     "output_type": "execute_result"
    }
   ],
   "source": [
    "for i in lista_denv_img:\n",
    "    if \"_25_\" in i:\n",
    "        imagem_denv_vin = joblib.load(i)\n",
    "    elif \"_50_\" in i:\n",
    "        imagem_denv_ciq = joblib.load(i)\n",
    "    elif \"_75_\" in i:\n",
    "        imagem_denv_set = joblib.load(i)\n",
    "    elif \"_100_\" in i:\n",
    "        imagem_denv_cem = joblib.load(i)\n",
    "imagem_denv_soma = np.asarray(list(imagem_denv_cem) + list(imagem_denv_set) + list(imagem_denv_ciq) + list(imagem_denv_vin)) #somando os valores de cada lista\n",
    "imagem_denv_soma.shape"
   ]
  },
  {
   "cell_type": "markdown",
   "metadata": {
    "id": "y9oTzUd1jQ0M"
   },
   "source": [
    "## Rótulo DENV"
   ]
  },
  {
   "cell_type": "code",
   "execution_count": 37,
   "metadata": {
    "colab": {
     "base_uri": "https://localhost:8080/"
    },
    "id": "zXJj31r4Z1Bt",
    "outputId": "aa1d1f7b-f36a-445f-e93d-1c855fb130cf"
   },
   "outputs": [
    {
     "data": {
      "text/plain": [
       "(1520,)"
      ]
     },
     "execution_count": 37,
     "metadata": {},
     "output_type": "execute_result"
    }
   ],
   "source": [
    "for i in lista_denv_rotulo:\n",
    "    if \"_25_\" in i:\n",
    "        rot_denv_vin = joblib.load(i)\n",
    "    elif \"_50_\" in i:\n",
    "        rot_denv_ciq = joblib.load(i)\n",
    "    elif \"_75_\" in i:\n",
    "        rot_denv_set = joblib.load(i)\n",
    "    elif \"_100_\" in i:\n",
    "        rot_denv_cem = joblib.load(i)\n",
    "rot_denv_soma = np.asarray(list(rot_denv_cem) + list(rot_denv_set) + list(rot_denv_ciq) + list(rot_denv_vin)) #somando os valores de cada lista\n",
    "rot_denv_soma.shape"
   ]
  },
  {
   "cell_type": "code",
   "execution_count": 38,
   "metadata": {
    "colab": {
     "base_uri": "https://localhost:8080/"
    },
    "id": "9A9idSNojNHF",
    "outputId": "22fc2818-1aa5-4696-affc-e76167396d2a"
   },
   "outputs": [
    {
     "data": {
      "text/plain": [
       "1520"
      ]
     },
     "execution_count": 38,
     "metadata": {},
     "output_type": "execute_result"
    }
   ],
   "source": [
    "# Pegando o número de imagens\n",
    "num_de_imagens = imagem_denv_soma.shape[0]\n",
    "num_de_imagens"
   ]
  },
  {
   "cell_type": "code",
   "execution_count": 39,
   "metadata": {
    "colab": {
     "base_uri": "https://localhost:8080/"
    },
    "id": "mTmRL51kj3To",
    "outputId": "57ca6c56-0645-4f60-e163-afbfaec0328f"
   },
   "outputs": [
    {
     "data": {
      "text/plain": [
       "(1520, 120000)"
      ]
     },
     "execution_count": 39,
     "metadata": {},
     "output_type": "execute_result"
    }
   ],
   "source": [
    "# Modificando o formato do numpy para que cada imagem tenha apenas 1-D (Flatten)\n",
    "imagem_flat_denv = imagem_denv_soma.reshape(num_de_imagens, -1)\n",
    "imagem_flat_denv.shape"
   ]
  },
  {
   "cell_type": "markdown",
   "metadata": {
    "id": "HTDbfFlOj-4Q"
   },
   "source": [
    "## DataFrame Denv"
   ]
  },
  {
   "cell_type": "code",
   "execution_count": 40,
   "metadata": {
    "colab": {
     "base_uri": "https://localhost:8080/",
     "height": 299
    },
    "id": "ztIIp8ROj94x",
    "outputId": "ee8237eb-5d02-4f1e-cd7c-2df7875f4e7b"
   },
   "outputs": [
    {
     "name": "stdout",
     "output_type": "stream",
     "text": [
      "<class 'pandas.core.frame.DataFrame'>\n",
      "RangeIndex: 1520 entries, 0 to 1519\n",
      "Columns: 120000 entries, 0 to 119999\n",
      "dtypes: uint8(120000)\n",
      "memory usage: 174.0 MB\n"
     ]
    }
   ],
   "source": [
    "df_imagens_denv = pd.DataFrame(imagem_flat_denv)\n",
    "df_imagens_denv.info()"
   ]
  },
  {
   "cell_type": "code",
   "execution_count": 41,
   "metadata": {
    "colab": {
     "base_uri": "https://localhost:8080/",
     "height": 299
    },
    "id": "c4hDfFdukK48",
    "outputId": "8bb5c963-e5a6-4c02-b2ff-c11904f7223a"
   },
   "outputs": [
    {
     "name": "stdout",
     "output_type": "stream",
     "text": [
      "<class 'pandas.core.frame.DataFrame'>\n",
      "RangeIndex: 1520 entries, 0 to 1519\n",
      "Columns: 120001 entries, 0 to Rótulo_Y\n",
      "dtypes: object(1), uint8(120000)\n",
      "memory usage: 174.0+ MB\n"
     ]
    }
   ],
   "source": [
    "df_imagens_denv['Rótulo_Y'] = rot_denv_soma\n",
    "df_imagens_denv.info()"
   ]
  },
  {
   "cell_type": "markdown",
   "metadata": {
    "id": "01fwZ9AGle2h",
    "tags": []
   },
   "source": [
    "# Vero6"
   ]
  },
  {
   "cell_type": "markdown",
   "metadata": {
    "id": "HFXa_XkRlmEH"
   },
   "source": [
    "## Vero6 Cell Line"
   ]
  },
  {
   "cell_type": "code",
   "execution_count": 42,
   "metadata": {},
   "outputs": [
    {
     "name": "stdout",
     "output_type": "stream",
     "text": [
      "-------------\n",
      "-=< Lista >=-\n",
      "-------------\n",
      "0 -> ./../results/Classificação_imagens_DOC_CNN/Cópia de lista_img_camp_clar_25_resized_regressao_VERO62022-10-24.gz\n",
      "1 -> ./../results/Classificação_imagens_DOC_CNN/Cópia de lista_img_camp_clar_75_resized_regressao_VERO62022-10-24.gz\n",
      "2 -> ./../results/Classificação_imagens_DOC_CNN/Cópia de lista_img_camp_clar_100_resized_regressao_VERO62022-10-24.gz\n",
      "3 -> ./../results/Classificação_imagens_DOC_CNN/Cópia de lista_img_camp_clar_50_resized_regressao_VERO62022-10-24.gz\n"
     ]
    }
   ],
   "source": [
    "lista_vero_img = [diretorio+i for i in lista_dados if \"VERO\" in i and \"img\" in i]\n",
    "lista_vero_rotulo = [diretorio+i for i in lista_dados if \"VERO\" in i and \"rotulo\" in i]\n",
    "printLis(lista_vero_img)"
   ]
  },
  {
   "cell_type": "code",
   "execution_count": 43,
   "metadata": {
    "colab": {
     "base_uri": "https://localhost:8080/"
    },
    "id": "zXJj31r4Z1Bt",
    "outputId": "aa1d1f7b-f36a-445f-e93d-1c855fb130cf"
   },
   "outputs": [
    {
     "data": {
      "text/plain": [
       "(1792, 200, 200, 3)"
      ]
     },
     "execution_count": 43,
     "metadata": {},
     "output_type": "execute_result"
    }
   ],
   "source": [
    "for i in lista_vero_img:\n",
    "    if \"_25_\" in i:\n",
    "        imagem_vero_vin = joblib.load(i)\n",
    "    elif \"_50_\" in i:\n",
    "        imagem_vero_ciq = joblib.load(i)\n",
    "    elif \"_75_\" in i:\n",
    "        imagem_vero_set = joblib.load(i)\n",
    "    elif \"_100_\" in i:\n",
    "        imagem_vero_cem = joblib.load(i)\n",
    "imagem_vero_soma = np.asarray(list(imagem_vero_cem) + list(imagem_vero_set) + list(imagem_vero_ciq) + list(imagem_vero_vin)) #somando os valores de cada lista\n",
    "imagem_vero_soma.shape"
   ]
  },
  {
   "cell_type": "markdown",
   "metadata": {
    "id": "eTnEbus0mMk1"
   },
   "source": [
    "## Rótulo Vero6"
   ]
  },
  {
   "cell_type": "code",
   "execution_count": 44,
   "metadata": {
    "colab": {
     "base_uri": "https://localhost:8080/"
    },
    "id": "zXJj31r4Z1Bt",
    "outputId": "aa1d1f7b-f36a-445f-e93d-1c855fb130cf"
   },
   "outputs": [
    {
     "data": {
      "text/plain": [
       "(1792,)"
      ]
     },
     "execution_count": 44,
     "metadata": {},
     "output_type": "execute_result"
    }
   ],
   "source": [
    "for i in lista_vero_rotulo:\n",
    "    if \"_25_\" in i:\n",
    "        rot_vero_vin = joblib.load(i)\n",
    "    elif \"_50_\" in i:\n",
    "        rot_vero_ciq = joblib.load(i)\n",
    "    elif \"_75_\" in i:\n",
    "        rot_vero_set = joblib.load(i)\n",
    "    elif \"_100_\" in i:\n",
    "        rot_vero_cem = joblib.load(i)\n",
    "rot_vero_soma = np.asarray(list(rot_vero_cem) + list(rot_vero_set) + list(rot_vero_ciq) + list(rot_vero_vin)) #somando os valores de cada lista\n",
    "rot_vero_soma.shape"
   ]
  },
  {
   "cell_type": "code",
   "execution_count": 45,
   "metadata": {
    "colab": {
     "base_uri": "https://localhost:8080/"
    },
    "id": "mKGe73PumtfP",
    "outputId": "fcc00eac-6938-4d3e-fdc9-9c616a2a3026"
   },
   "outputs": [
    {
     "data": {
      "text/plain": [
       "1792"
      ]
     },
     "execution_count": 45,
     "metadata": {},
     "output_type": "execute_result"
    }
   ],
   "source": [
    "# Pegando o número de imagens\n",
    "num_de_imagens = imagem_vero_soma.shape[0]\n",
    "num_de_imagens"
   ]
  },
  {
   "cell_type": "code",
   "execution_count": 46,
   "metadata": {
    "colab": {
     "base_uri": "https://localhost:8080/"
    },
    "id": "MNAjNGWfmyL6",
    "outputId": "5bcf0d4d-d5ec-4d77-cb13-fe5512a1873b"
   },
   "outputs": [
    {
     "data": {
      "text/plain": [
       "(1792, 120000)"
      ]
     },
     "execution_count": 46,
     "metadata": {},
     "output_type": "execute_result"
    }
   ],
   "source": [
    "# Modificando o formato do numpy para que cada imagem tenha apenas 1-D (Flatten)\n",
    "imagem_flat_vero = imagem_vero_soma.reshape(num_de_imagens, -1)\n",
    "imagem_flat_vero.shape"
   ]
  },
  {
   "cell_type": "markdown",
   "metadata": {
    "id": "ks4a79Egm7Mu"
   },
   "source": [
    "## DataFrame Vero6"
   ]
  },
  {
   "cell_type": "code",
   "execution_count": 47,
   "metadata": {
    "colab": {
     "base_uri": "https://localhost:8080/",
     "height": 299
    },
    "id": "ll9BQPLTm9Gy",
    "outputId": "ce7cb06d-739d-4401-9185-5bedbbf723c0"
   },
   "outputs": [
    {
     "name": "stdout",
     "output_type": "stream",
     "text": [
      "<class 'pandas.core.frame.DataFrame'>\n",
      "RangeIndex: 1792 entries, 0 to 1791\n",
      "Columns: 120000 entries, 0 to 119999\n",
      "dtypes: uint8(120000)\n",
      "memory usage: 205.1 MB\n"
     ]
    }
   ],
   "source": [
    "df_imagens_vero = pd.DataFrame(imagem_flat_vero)\n",
    "df_imagens_vero.info()"
   ]
  },
  {
   "cell_type": "code",
   "execution_count": 48,
   "metadata": {
    "colab": {
     "base_uri": "https://localhost:8080/",
     "height": 299
    },
    "id": "8pOE9plAnEJs",
    "outputId": "9ea08ded-5ec4-4b52-c32c-4c41609f10f5"
   },
   "outputs": [
    {
     "name": "stdout",
     "output_type": "stream",
     "text": [
      "<class 'pandas.core.frame.DataFrame'>\n",
      "RangeIndex: 1792 entries, 0 to 1791\n",
      "Columns: 120001 entries, 0 to Rótulo_Y\n",
      "dtypes: object(1), uint8(120000)\n",
      "memory usage: 205.1+ MB\n"
     ]
    }
   ],
   "source": [
    "df_imagens_vero['Rótulo_Y'] = rot_vero_soma\n",
    "df_imagens_vero.info()"
   ]
  },
  {
   "cell_type": "markdown",
   "metadata": {
    "id": "dTAVNYJhz2Yp",
    "tags": []
   },
   "source": [
    "# A549"
   ]
  },
  {
   "cell_type": "markdown",
   "metadata": {
    "id": "gYLeFoEtz4Wg"
   },
   "source": [
    "## A549 Cell Line"
   ]
  },
  {
   "cell_type": "code",
   "execution_count": 49,
   "metadata": {},
   "outputs": [
    {
     "name": "stdout",
     "output_type": "stream",
     "text": [
      "-------------\n",
      "-=< Lista >=-\n",
      "-------------\n",
      "0 -> ./../results/Classificação_imagens_DOC_CNN/lista_img_camp_clar_75_resized_regressao_A5492022-11-3.gz\n",
      "1 -> ./../results/Classificação_imagens_DOC_CNN/lista_img_camp_clar_25_resized_regressao_A5492022-11-3.gz\n",
      "2 -> ./../results/Classificação_imagens_DOC_CNN/lista_img_camp_clar_50_resized_regressao_A5492022-11-3.gz\n",
      "3 -> ./../results/Classificação_imagens_DOC_CNN/lista_img_camp_clar_100_resized_regressao_A5492022-11-3.gz\n"
     ]
    }
   ],
   "source": [
    "lista_A549_img = [diretorio+i for i in lista_dados if \"A549\" in i and \"img\" in i]\n",
    "lista_A549_rotulo = [diretorio+i for i in lista_dados if \"A549\" in i and \"rotulo\" in i]\n",
    "printLis(lista_A549_img)"
   ]
  },
  {
   "cell_type": "code",
   "execution_count": 50,
   "metadata": {
    "colab": {
     "base_uri": "https://localhost:8080/"
    },
    "id": "zXJj31r4Z1Bt",
    "outputId": "aa1d1f7b-f36a-445f-e93d-1c855fb130cf"
   },
   "outputs": [
    {
     "data": {
      "text/plain": [
       "(1136, 200, 200, 3)"
      ]
     },
     "execution_count": 50,
     "metadata": {},
     "output_type": "execute_result"
    }
   ],
   "source": [
    "for i in lista_A549_img:\n",
    "    if \"_25_\" in i:\n",
    "        imagem_A549_vin = joblib.load(i)\n",
    "    elif \"_50_\" in i:\n",
    "        imagem_A549_ciq = joblib.load(i)\n",
    "    elif \"_75_\" in i:\n",
    "        imagem_A549_set = joblib.load(i)\n",
    "    elif \"_100_\" in i:\n",
    "        imagem_A549_cem = joblib.load(i)\n",
    "imagem_A549_soma = np.asarray(list(imagem_A549_cem) + list(imagem_A549_set) + list(imagem_A549_ciq) + list(imagem_A549_vin)) #somando os valores de cada lista\n",
    "imagem_A549_soma.shape"
   ]
  },
  {
   "cell_type": "markdown",
   "metadata": {
    "id": "eTnEbus0mMk1"
   },
   "source": [
    "## Rótulo A549"
   ]
  },
  {
   "cell_type": "code",
   "execution_count": 51,
   "metadata": {
    "colab": {
     "base_uri": "https://localhost:8080/"
    },
    "id": "zXJj31r4Z1Bt",
    "outputId": "aa1d1f7b-f36a-445f-e93d-1c855fb130cf"
   },
   "outputs": [
    {
     "data": {
      "text/plain": [
       "(1136,)"
      ]
     },
     "execution_count": 51,
     "metadata": {},
     "output_type": "execute_result"
    }
   ],
   "source": [
    "for i in lista_A549_rotulo:\n",
    "    if \"_25_\" in i:\n",
    "        rot_A549_vin = joblib.load(i)\n",
    "    elif \"_50_\" in i:\n",
    "        rot_A549_ciq = joblib.load(i)\n",
    "    elif \"_75_\" in i:\n",
    "        rot_A549_set = joblib.load(i)\n",
    "    elif \"_100_\" in i:\n",
    "        rot_A549_cem = joblib.load(i)\n",
    "rot_A549_soma = np.asarray(list(rot_A549_cem) + list(rot_A549_set) + list(rot_A549_ciq) + list(rot_A549_vin)) #somando os valores de cada lista\n",
    "rot_A549_soma.shape"
   ]
  },
  {
   "cell_type": "code",
   "execution_count": 52,
   "metadata": {
    "colab": {
     "base_uri": "https://localhost:8080/"
    },
    "id": "0ee9iHCZ9ZsU",
    "outputId": "fe77d865-a830-4303-debf-4f4d87426769"
   },
   "outputs": [
    {
     "data": {
      "text/plain": [
       "1136"
      ]
     },
     "execution_count": 52,
     "metadata": {},
     "output_type": "execute_result"
    }
   ],
   "source": [
    "# Pegando o número de imagens\n",
    "num_de_imagens = imagem_A549_soma.shape[0]\n",
    "num_de_imagens"
   ]
  },
  {
   "cell_type": "code",
   "execution_count": 53,
   "metadata": {
    "colab": {
     "base_uri": "https://localhost:8080/"
    },
    "id": "zBEJX0U59l0l",
    "outputId": "4955c06f-fe6c-478f-b45d-94783a74eeb0"
   },
   "outputs": [
    {
     "data": {
      "text/plain": [
       "(1136, 120000)"
      ]
     },
     "execution_count": 53,
     "metadata": {},
     "output_type": "execute_result"
    }
   ],
   "source": [
    "# Modificando o formato do numpy para que cada imagem tenha apenas 1-D (Flatten)\n",
    "imagem_flat_A549 = imagem_A549_soma.reshape(num_de_imagens, -1)\n",
    "imagem_flat_A549.shape"
   ]
  },
  {
   "cell_type": "markdown",
   "metadata": {
    "id": "6wSfQ8do9w1y"
   },
   "source": [
    "## DataFrame A549"
   ]
  },
  {
   "cell_type": "code",
   "execution_count": 54,
   "metadata": {
    "colab": {
     "base_uri": "https://localhost:8080/",
     "height": 299
    },
    "id": "SZvnt3R09zCF",
    "outputId": "078104ed-f9c7-4eae-9404-78ef7edcf3a1"
   },
   "outputs": [
    {
     "name": "stdout",
     "output_type": "stream",
     "text": [
      "<class 'pandas.core.frame.DataFrame'>\n",
      "RangeIndex: 1136 entries, 0 to 1135\n",
      "Columns: 120000 entries, 0 to 119999\n",
      "dtypes: uint8(120000)\n",
      "memory usage: 130.0 MB\n"
     ]
    }
   ],
   "source": [
    "df_imagens_A549 = pd.DataFrame(imagem_flat_A549)\n",
    "df_imagens_A549.info()"
   ]
  },
  {
   "cell_type": "code",
   "execution_count": 55,
   "metadata": {
    "colab": {
     "base_uri": "https://localhost:8080/",
     "height": 299
    },
    "id": "yNoJyac393u2",
    "outputId": "00a2cbef-14f6-4ea3-c8b2-376d0573c1f1"
   },
   "outputs": [
    {
     "name": "stdout",
     "output_type": "stream",
     "text": [
      "<class 'pandas.core.frame.DataFrame'>\n",
      "RangeIndex: 1136 entries, 0 to 1135\n",
      "Columns: 120001 entries, 0 to Rótulo_Y\n",
      "dtypes: object(1), uint8(120000)\n",
      "memory usage: 130.0+ MB\n"
     ]
    }
   ],
   "source": [
    "df_imagens_A549['Rótulo_Y'] = rot_A549_soma\n",
    "df_imagens_A549.info()"
   ]
  },
  {
   "cell_type": "markdown",
   "metadata": {
    "id": "D9DRMgkf-BA_",
    "tags": []
   },
   "source": [
    "# HUH7"
   ]
  },
  {
   "cell_type": "markdown",
   "metadata": {
    "id": "B1ApufcW-Cft"
   },
   "source": [
    "## HUH7 Cell Line"
   ]
  },
  {
   "cell_type": "code",
   "execution_count": 56,
   "metadata": {},
   "outputs": [
    {
     "name": "stdout",
     "output_type": "stream",
     "text": [
      "-------------\n",
      "-=< Lista >=-\n",
      "-------------\n",
      "0 -> ./../results/Classificação_imagens_DOC_CNN/lista_img_camp_clar_25_resized_regressao_HUH72022-11-3.gz\n",
      "1 -> ./../results/Classificação_imagens_DOC_CNN/lista_img_camp_clar_100_resized_regressao_HUH72022-11-3.gz\n",
      "2 -> ./../results/Classificação_imagens_DOC_CNN/lista_img_camp_clar_50_resized_regressao_HUH72022-11-3.gz\n",
      "3 -> ./../results/Classificação_imagens_DOC_CNN/lista_img_camp_clar_75_resized_regressao_HUH72022-11-3.gz\n"
     ]
    }
   ],
   "source": [
    "lista_Huh7_img = [diretorio+i for i in lista_dados if \"HUH7\" in i and \"img\" in i]\n",
    "lista_Huh7_rotulo = [diretorio+i for i in lista_dados if \"HUH7\" in i and \"rotulo\" in i]\n",
    "printLis(lista_Huh7_img)"
   ]
  },
  {
   "cell_type": "code",
   "execution_count": 57,
   "metadata": {
    "colab": {
     "base_uri": "https://localhost:8080/"
    },
    "id": "zXJj31r4Z1Bt",
    "outputId": "aa1d1f7b-f36a-445f-e93d-1c855fb130cf"
   },
   "outputs": [
    {
     "data": {
      "text/plain": [
       "(704, 200, 200, 3)"
      ]
     },
     "execution_count": 57,
     "metadata": {},
     "output_type": "execute_result"
    }
   ],
   "source": [
    "for i in lista_Huh7_img:\n",
    "    if \"_25_\" in i:\n",
    "        imagem_Huh7_vin = joblib.load(i)\n",
    "    elif \"_50_\" in i:\n",
    "        imagem_Huh7_ciq = joblib.load(i)\n",
    "    elif \"_75_\" in i:\n",
    "        imagem_Huh7_set = joblib.load(i)\n",
    "    elif \"_100_\" in i:\n",
    "        imagem_Huh7_cem = joblib.load(i)\n",
    "imagem_Huh7_soma = np.asarray(list(imagem_Huh7_cem) + list(imagem_Huh7_set) + list(imagem_Huh7_ciq) + list(imagem_Huh7_vin)) #somando os valores de cada lista\n",
    "imagem_Huh7_soma.shape"
   ]
  },
  {
   "cell_type": "markdown",
   "metadata": {
    "id": "eTnEbus0mMk1"
   },
   "source": [
    "## Rótulo Huh7"
   ]
  },
  {
   "cell_type": "code",
   "execution_count": 58,
   "metadata": {
    "colab": {
     "base_uri": "https://localhost:8080/"
    },
    "id": "zXJj31r4Z1Bt",
    "outputId": "aa1d1f7b-f36a-445f-e93d-1c855fb130cf"
   },
   "outputs": [
    {
     "data": {
      "text/plain": [
       "(704,)"
      ]
     },
     "execution_count": 58,
     "metadata": {},
     "output_type": "execute_result"
    }
   ],
   "source": [
    "for i in lista_Huh7_rotulo:\n",
    "    if \"_25_\" in i:\n",
    "        rot_Huh7_vin = joblib.load(i)\n",
    "    elif \"_50_\" in i:\n",
    "        rot_Huh7_ciq = joblib.load(i)\n",
    "    elif \"_75_\" in i:\n",
    "        rot_Huh7_set = joblib.load(i)\n",
    "    elif \"_100_\" in i:\n",
    "        rot_Huh7_cem = joblib.load(i)\n",
    "rot_Huh7_soma = np.asarray(list(rot_Huh7_cem) + list(rot_Huh7_set) + list(rot_Huh7_ciq) + list(rot_Huh7_vin)) #somando os valores de cada lista\n",
    "rot_Huh7_soma.shape"
   ]
  },
  {
   "cell_type": "code",
   "execution_count": 59,
   "metadata": {
    "colab": {
     "base_uri": "https://localhost:8080/"
    },
    "id": "voNgVRqG-yAR",
    "outputId": "ae742b8b-77f7-41ff-b7f3-2601261a21db"
   },
   "outputs": [
    {
     "data": {
      "text/plain": [
       "704"
      ]
     },
     "execution_count": 59,
     "metadata": {},
     "output_type": "execute_result"
    }
   ],
   "source": [
    "# Pegando o número de imagens\n",
    "num_de_imagens = imagem_Huh7_soma.shape[0]\n",
    "num_de_imagens"
   ]
  },
  {
   "cell_type": "code",
   "execution_count": 60,
   "metadata": {
    "colab": {
     "base_uri": "https://localhost:8080/"
    },
    "id": "UP7vq3Gt-_Jy",
    "outputId": "8448ff6c-b89a-4670-ed2f-1bacc65a8b52"
   },
   "outputs": [
    {
     "data": {
      "text/plain": [
       "(704, 120000)"
      ]
     },
     "execution_count": 60,
     "metadata": {},
     "output_type": "execute_result"
    }
   ],
   "source": [
    "# Modificando o formato do numpy para que cada imagem tenha apenas 1-D (Flatten)\n",
    "imagem_flat_Huh7 = imagem_Huh7_soma.reshape(num_de_imagens, -1)\n",
    "imagem_flat_Huh7.shape"
   ]
  },
  {
   "cell_type": "markdown",
   "metadata": {
    "id": "yO4u4dt9_Gxc"
   },
   "source": [
    "## DataFrame Huh7"
   ]
  },
  {
   "cell_type": "code",
   "execution_count": 61,
   "metadata": {
    "colab": {
     "base_uri": "https://localhost:8080/",
     "height": 299
    },
    "id": "mqOwSwct_EEF",
    "outputId": "2467d0ea-6beb-438d-cb28-46294059fb92"
   },
   "outputs": [
    {
     "name": "stdout",
     "output_type": "stream",
     "text": [
      "<class 'pandas.core.frame.DataFrame'>\n",
      "RangeIndex: 704 entries, 0 to 703\n",
      "Columns: 120000 entries, 0 to 119999\n",
      "dtypes: uint8(120000)\n",
      "memory usage: 80.6 MB\n"
     ]
    }
   ],
   "source": [
    "df_imagens_Huh7 = pd.DataFrame(imagem_flat_Huh7)\n",
    "df_imagens_Huh7.info()"
   ]
  },
  {
   "cell_type": "markdown",
   "metadata": {
    "id": "0exFTzqD_Ovu"
   },
   "source": [
    "## Incluindo rótulos"
   ]
  },
  {
   "cell_type": "code",
   "execution_count": 62,
   "metadata": {
    "colab": {
     "base_uri": "https://localhost:8080/",
     "height": 299
    },
    "id": "WkIOjAZH_Nq5",
    "outputId": "5bd18651-7c9c-40ce-f855-754478e78c74"
   },
   "outputs": [
    {
     "name": "stdout",
     "output_type": "stream",
     "text": [
      "<class 'pandas.core.frame.DataFrame'>\n",
      "RangeIndex: 704 entries, 0 to 703\n",
      "Columns: 120001 entries, 0 to Rótulo_Y\n",
      "dtypes: object(1), uint8(120000)\n",
      "memory usage: 80.6+ MB\n"
     ]
    }
   ],
   "source": [
    "df_imagens_Huh7['Rótulo_Y'] = rot_Huh7_soma\n",
    "df_imagens_Huh7.info()"
   ]
  },
  {
   "cell_type": "code",
   "execution_count": 63,
   "metadata": {
    "id": "tso89uSZ_X-6"
   },
   "outputs": [],
   "source": [
    "df_imagens_Huh7['Rótulo_Y'].replace('ajuste_huh7','Huh7', inplace=True)\n"
   ]
  },
  {
   "cell_type": "markdown",
   "metadata": {
    "id": "vIGTGjpPAdWw",
    "tags": []
   },
   "source": [
    "# 3T3"
   ]
  },
  {
   "cell_type": "markdown",
   "metadata": {
    "id": "eMCPIKsgAgOe"
   },
   "source": [
    "## 3T3 Cell Line"
   ]
  },
  {
   "cell_type": "code",
   "execution_count": 64,
   "metadata": {},
   "outputs": [
    {
     "name": "stdout",
     "output_type": "stream",
     "text": [
      "-------------\n",
      "-=< Lista >=-\n",
      "-------------\n",
      "0 -> ./../results/Classificação_imagens_DOC_CNN/lista_img_camp_clar_25_resized_regressao_3T3_2022-11-3.gz\n",
      "1 -> ./../results/Classificação_imagens_DOC_CNN/lista_img_camp_clar_50_resized_regressao_3T3_2022-11-3.gz\n",
      "2 -> ./../results/Classificação_imagens_DOC_CNN/lista_img_camp_clar_100_resized_regressao_3T32022-11-3.gz\n",
      "3 -> ./../results/Classificação_imagens_DOC_CNN/lista_img_camp_clar_75_resized_regressao_3T3_2022-11-3.gz\n"
     ]
    }
   ],
   "source": [
    "lista_3T3_img = [diretorio+i for i in lista_dados if \"3T3\" in i and \"img\" in i]\n",
    "lista_3T3_rotulo = [diretorio+i for i in lista_dados if \"3T3\" in i and \"rotulo\" in i]\n",
    "printLis(lista_3T3_img)"
   ]
  },
  {
   "cell_type": "code",
   "execution_count": 65,
   "metadata": {
    "colab": {
     "base_uri": "https://localhost:8080/"
    },
    "id": "zXJj31r4Z1Bt",
    "outputId": "aa1d1f7b-f36a-445f-e93d-1c855fb130cf"
   },
   "outputs": [
    {
     "data": {
      "text/plain": [
       "(832, 200, 200, 3)"
      ]
     },
     "execution_count": 65,
     "metadata": {},
     "output_type": "execute_result"
    }
   ],
   "source": [
    "for i in lista_3T3_img:\n",
    "    if \"_25_\" in i:\n",
    "        imagem_3T3_vin = joblib.load(i)\n",
    "    elif \"_50_\" in i:\n",
    "        imagem_3T3_ciq = joblib.load(i)\n",
    "    elif \"_75_\" in i:\n",
    "        imagem_3T3_set = joblib.load(i)\n",
    "    elif \"_100_\" in i:\n",
    "        imagem_3T3_cem = joblib.load(i)\n",
    "imagem_3T3_soma = np.asarray(list(imagem_3T3_cem) + list(imagem_3T3_set) + list(imagem_3T3_ciq) + list(imagem_3T3_vin)) #somando os valores de cada lista\n",
    "imagem_3T3_soma.shape"
   ]
  },
  {
   "cell_type": "markdown",
   "metadata": {
    "id": "eTnEbus0mMk1"
   },
   "source": [
    "## Rótulo 3T3"
   ]
  },
  {
   "cell_type": "code",
   "execution_count": 66,
   "metadata": {
    "colab": {
     "base_uri": "https://localhost:8080/"
    },
    "id": "zXJj31r4Z1Bt",
    "outputId": "aa1d1f7b-f36a-445f-e93d-1c855fb130cf"
   },
   "outputs": [
    {
     "data": {
      "text/plain": [
       "(832,)"
      ]
     },
     "execution_count": 66,
     "metadata": {},
     "output_type": "execute_result"
    }
   ],
   "source": [
    "for i in lista_3T3_rotulo:\n",
    "    if \"_25_\" in i:\n",
    "        rot_3T3_vin = joblib.load(i)\n",
    "    elif \"_50_\" in i:\n",
    "        rot_3T3_ciq = joblib.load(i)\n",
    "    elif \"_75_\" in i:\n",
    "        rot_3T3_set = joblib.load(i)\n",
    "    elif \"_100_\" in i:\n",
    "        rot_3T3_cem = joblib.load(i)\n",
    "rot_3T3_soma = np.asarray(list(rot_3T3_cem) + list(rot_3T3_set) + list(rot_3T3_ciq) + list(rot_3T3_vin)) #somando os valores de cada lista\n",
    "rot_3T3_soma.shape"
   ]
  },
  {
   "cell_type": "code",
   "execution_count": 67,
   "metadata": {
    "colab": {
     "base_uri": "https://localhost:8080/"
    },
    "id": "SQpIfqSRBUFJ",
    "outputId": "a2ade54b-8239-4371-d593-c4eb8a01e3ec"
   },
   "outputs": [
    {
     "data": {
      "text/plain": [
       "832"
      ]
     },
     "execution_count": 67,
     "metadata": {},
     "output_type": "execute_result"
    }
   ],
   "source": [
    "# Pegando o número de imagens\n",
    "num_de_imagens = imagem_3T3_soma.shape[0]\n",
    "num_de_imagens"
   ]
  },
  {
   "cell_type": "code",
   "execution_count": 68,
   "metadata": {
    "colab": {
     "base_uri": "https://localhost:8080/"
    },
    "id": "W8V5toayBayt",
    "outputId": "35cbe1be-07d6-4ad0-af40-7093f86bcda0"
   },
   "outputs": [
    {
     "data": {
      "text/plain": [
       "(832, 120000)"
      ]
     },
     "execution_count": 68,
     "metadata": {},
     "output_type": "execute_result"
    }
   ],
   "source": [
    "# Modificando o formato do numpy para que cada imagem tenha apenas 1-D (Flatten)\n",
    "imagem_flat_3T3 = imagem_3T3_soma.reshape(num_de_imagens, -1)\n",
    "imagem_flat_3T3.shape"
   ]
  },
  {
   "cell_type": "markdown",
   "metadata": {
    "id": "d5d3UIpZBgu2"
   },
   "source": [
    "## DataFrame 3T3"
   ]
  },
  {
   "cell_type": "code",
   "execution_count": 69,
   "metadata": {
    "colab": {
     "base_uri": "https://localhost:8080/",
     "height": 299
    },
    "id": "RyV64PxBBeW9",
    "outputId": "a2148e21-08ed-41da-9811-d8a6f724be08"
   },
   "outputs": [
    {
     "name": "stdout",
     "output_type": "stream",
     "text": [
      "<class 'pandas.core.frame.DataFrame'>\n",
      "RangeIndex: 832 entries, 0 to 831\n",
      "Columns: 120000 entries, 0 to 119999\n",
      "dtypes: uint8(120000)\n",
      "memory usage: 95.2 MB\n"
     ]
    }
   ],
   "source": [
    "df_imagens_3T3 = pd.DataFrame(imagem_flat_3T3)\n",
    "df_imagens_3T3.info()"
   ]
  },
  {
   "cell_type": "markdown",
   "metadata": {
    "id": "M6n_Ap2DBo8x"
   },
   "source": [
    "## Incluindo rótulos"
   ]
  },
  {
   "cell_type": "code",
   "execution_count": 70,
   "metadata": {
    "colab": {
     "base_uri": "https://localhost:8080/",
     "height": 299
    },
    "id": "41_I1zeRBmMr",
    "outputId": "f6562c59-ffee-4e8d-96b6-08eafb5d6610"
   },
   "outputs": [
    {
     "name": "stdout",
     "output_type": "stream",
     "text": [
      "<class 'pandas.core.frame.DataFrame'>\n",
      "RangeIndex: 832 entries, 0 to 831\n",
      "Columns: 120001 entries, 0 to Rótulo_Y\n",
      "dtypes: object(1), uint8(120000)\n",
      "memory usage: 95.2+ MB\n"
     ]
    }
   ],
   "source": [
    "df_imagens_3T3['Rótulo_Y'] = rot_3T3_soma\n",
    "df_imagens_3T3.info()"
   ]
  },
  {
   "cell_type": "markdown",
   "metadata": {
    "id": "UGKgBn58cza3",
    "tags": []
   },
   "source": [
    "# Concatenando todas as Dataframes das linhagens e Salva a DataFrame"
   ]
  },
  {
   "cell_type": "code",
   "execution_count": 71,
   "metadata": {
    "colab": {
     "base_uri": "https://localhost:8080/",
     "height": 488
    },
    "id": "ZbGRYPvyBvCh",
    "outputId": "513bf5b5-bbfe-49e8-ac5c-7b9eeed8eef7"
   },
   "outputs": [
    {
     "name": "stdout",
     "output_type": "stream",
     "text": [
      "<class 'pandas.core.frame.DataFrame'>\n",
      "Int64Index: 11712 entries, 0 to 831\n",
      "Columns: 120001 entries, 0 to Rótulo_Y\n",
      "dtypes: object(1), uint8(120000)\n",
      "memory usage: 1.3+ GB\n"
     ]
    }
   ],
   "source": [
    "frames = [\n",
    "    df_imagens_thp,\n",
    "    df_imagens_sh,\n",
    "    df_imagens_A172,\n",
    "    df_imagens_mayv,\n",
    "    df_imagens_denv,\n",
    "    df_imagens_vero,\n",
    "    df_imagens_A549,\n",
    "    df_imagens_Huh7,\n",
    "    df_imagens_3T3\n",
    "]\n",
    "  \n",
    "df_uniao_cell_line = pd.concat(frames)\n",
    "df_uniao_cell_line.info()"
   ]
  },
  {
   "cell_type": "code",
   "execution_count": 72,
   "metadata": {},
   "outputs": [
    {
     "ename": "FileNotFoundError",
     "evalue": "[Errno 2] No such file or directory: './data/df_uniao_cell_line'",
     "output_type": "error",
     "traceback": [
      "\u001b[0;31m---------------------------------------------------------------------------\u001b[0m",
      "\u001b[0;31mFileNotFoundError\u001b[0m                         Traceback (most recent call last)",
      "\u001b[0;32m/tmp/ipykernel_13/4277727039.py\u001b[0m in \u001b[0;36m<module>\u001b[0;34m\u001b[0m\n\u001b[1;32m      1\u001b[0m \u001b[0;31m# Salva a tabela de instâncias\u001b[0m\u001b[0;34m\u001b[0m\u001b[0;34m\u001b[0m\u001b[0;34m\u001b[0m\u001b[0m\n\u001b[0;32m----> 2\u001b[0;31m \u001b[0moutfile\u001b[0m \u001b[0;34m=\u001b[0m \u001b[0mBZ2File\u001b[0m\u001b[0;34m(\u001b[0m\u001b[0;34m'./data/df_uniao_cell_line'\u001b[0m\u001b[0;34m,\u001b[0m \u001b[0;34m'w'\u001b[0m\u001b[0;34m)\u001b[0m\u001b[0;34m\u001b[0m\u001b[0;34m\u001b[0m\u001b[0m\n\u001b[0m\u001b[1;32m      3\u001b[0m \u001b[0mdump\u001b[0m\u001b[0;34m(\u001b[0m\u001b[0mdf_uniao_cell_line\u001b[0m\u001b[0;34m,\u001b[0m \u001b[0moutfile\u001b[0m\u001b[0;34m)\u001b[0m\u001b[0;34m\u001b[0m\u001b[0;34m\u001b[0m\u001b[0m\n\u001b[1;32m      4\u001b[0m \u001b[0moutfile\u001b[0m\u001b[0;34m.\u001b[0m\u001b[0mclose\u001b[0m\u001b[0;34m(\u001b[0m\u001b[0;34m)\u001b[0m\u001b[0;34m\u001b[0m\u001b[0;34m\u001b[0m\u001b[0m\n\u001b[1;32m      5\u001b[0m \u001b[0;34m\u001b[0m\u001b[0m\n",
      "\u001b[0;32m/usr/local/lib/python3.7/bz2.py\u001b[0m in \u001b[0;36m__init__\u001b[0;34m(self, filename, mode, buffering, compresslevel)\u001b[0m\n\u001b[1;32m     90\u001b[0m \u001b[0;34m\u001b[0m\u001b[0m\n\u001b[1;32m     91\u001b[0m         \u001b[0;32mif\u001b[0m \u001b[0misinstance\u001b[0m\u001b[0;34m(\u001b[0m\u001b[0mfilename\u001b[0m\u001b[0;34m,\u001b[0m \u001b[0;34m(\u001b[0m\u001b[0mstr\u001b[0m\u001b[0;34m,\u001b[0m \u001b[0mbytes\u001b[0m\u001b[0;34m,\u001b[0m \u001b[0mos\u001b[0m\u001b[0;34m.\u001b[0m\u001b[0mPathLike\u001b[0m\u001b[0;34m)\u001b[0m\u001b[0;34m)\u001b[0m\u001b[0;34m:\u001b[0m\u001b[0;34m\u001b[0m\u001b[0;34m\u001b[0m\u001b[0m\n\u001b[0;32m---> 92\u001b[0;31m             \u001b[0mself\u001b[0m\u001b[0;34m.\u001b[0m\u001b[0m_fp\u001b[0m \u001b[0;34m=\u001b[0m \u001b[0m_builtin_open\u001b[0m\u001b[0;34m(\u001b[0m\u001b[0mfilename\u001b[0m\u001b[0;34m,\u001b[0m \u001b[0mmode\u001b[0m\u001b[0;34m)\u001b[0m\u001b[0;34m\u001b[0m\u001b[0;34m\u001b[0m\u001b[0m\n\u001b[0m\u001b[1;32m     93\u001b[0m             \u001b[0mself\u001b[0m\u001b[0;34m.\u001b[0m\u001b[0m_closefp\u001b[0m \u001b[0;34m=\u001b[0m \u001b[0;32mTrue\u001b[0m\u001b[0;34m\u001b[0m\u001b[0;34m\u001b[0m\u001b[0m\n\u001b[1;32m     94\u001b[0m             \u001b[0mself\u001b[0m\u001b[0;34m.\u001b[0m\u001b[0m_mode\u001b[0m \u001b[0;34m=\u001b[0m \u001b[0mmode_code\u001b[0m\u001b[0;34m\u001b[0m\u001b[0;34m\u001b[0m\u001b[0m\n",
      "\u001b[0;31mFileNotFoundError\u001b[0m: [Errno 2] No such file or directory: './data/df_uniao_cell_line'"
     ]
    }
   ],
   "source": [
    "# Salva a tabela de instâncias\n",
    "outfile = BZ2File('./data/df_uniao_cell_line', 'w')\n",
    "dump(df_uniao_cell_line, outfile)\n",
    "outfile.close()\n",
    "\n",
    "# Carrega a tabela de instâncias para testas o salvamento\n",
    "confirmed_file = BZ2File('./data/df_uniao_cell_line','rb')\n",
    "tabela_de_intancias_load = load(confirmed_file)\n",
    "confirmed_file.close()\n",
    "tabela_de_intancias_load.info()"
   ]
  },
  {
   "cell_type": "code",
   "execution_count": 73,
   "metadata": {},
   "outputs": [],
   "source": [
    "# Carrega a tabela de instâncias para testas o salvamento\n",
    "# confirmed_file = BZ2File('./data/df_uniao_cell_line','rb')\n",
    "# df_uniao_cell_line = load(confirmed_file)\n",
    "# confirmed_file.close()\n",
    "# df_uniao_cell_line.info()"
   ]
  },
  {
   "cell_type": "markdown",
   "metadata": {
    "id": "lmSUEslTftzO"
   },
   "source": [
    "# PyCaret"
   ]
  },
  {
   "cell_type": "code",
   "execution_count": 74,
   "metadata": {
    "colab": {
     "base_uri": "https://localhost:8080/"
    },
    "id": "6AZjr-uEgr5Z",
    "outputId": "66688751-7e2f-4b05-8fa7-393f8b17c7ba"
   },
   "outputs": [
    {
     "data": {
      "text/html": [
       "<div>\n",
       "<style scoped>\n",
       "    .dataframe tbody tr th:only-of-type {\n",
       "        vertical-align: middle;\n",
       "    }\n",
       "\n",
       "    .dataframe tbody tr th {\n",
       "        vertical-align: top;\n",
       "    }\n",
       "\n",
       "    .dataframe thead th {\n",
       "        text-align: right;\n",
       "    }\n",
       "</style>\n",
       "<table border=\"1\" class=\"dataframe\">\n",
       "  <thead>\n",
       "    <tr style=\"text-align: right;\">\n",
       "      <th></th>\n",
       "      <th>1</th>\n",
       "      <th>2</th>\n",
       "      <th>3</th>\n",
       "    </tr>\n",
       "  </thead>\n",
       "  <tbody>\n",
       "    <tr>\n",
       "      <th>1</th>\n",
       "      <td>152</td>\n",
       "      <td>152</td>\n",
       "      <td>149</td>\n",
       "    </tr>\n",
       "    <tr>\n",
       "      <th>1</th>\n",
       "      <td>141</td>\n",
       "      <td>141</td>\n",
       "      <td>125</td>\n",
       "    </tr>\n",
       "    <tr>\n",
       "      <th>1</th>\n",
       "      <td>145</td>\n",
       "      <td>145</td>\n",
       "      <td>141</td>\n",
       "    </tr>\n",
       "    <tr>\n",
       "      <th>1</th>\n",
       "      <td>143</td>\n",
       "      <td>143</td>\n",
       "      <td>150</td>\n",
       "    </tr>\n",
       "    <tr>\n",
       "      <th>1</th>\n",
       "      <td>164</td>\n",
       "      <td>164</td>\n",
       "      <td>130</td>\n",
       "    </tr>\n",
       "    <tr>\n",
       "      <th>1</th>\n",
       "      <td>189</td>\n",
       "      <td>189</td>\n",
       "      <td>194</td>\n",
       "    </tr>\n",
       "    <tr>\n",
       "      <th>1</th>\n",
       "      <td>144</td>\n",
       "      <td>144</td>\n",
       "      <td>115</td>\n",
       "    </tr>\n",
       "    <tr>\n",
       "      <th>1</th>\n",
       "      <td>134</td>\n",
       "      <td>134</td>\n",
       "      <td>121</td>\n",
       "    </tr>\n",
       "    <tr>\n",
       "      <th>1</th>\n",
       "      <td>153</td>\n",
       "      <td>153</td>\n",
       "      <td>151</td>\n",
       "    </tr>\n",
       "  </tbody>\n",
       "</table>\n",
       "</div>"
      ],
      "text/plain": [
       "     1    2    3\n",
       "1  152  152  149\n",
       "1  141  141  125\n",
       "1  145  145  141\n",
       "1  143  143  150\n",
       "1  164  164  130\n",
       "1  189  189  194\n",
       "1  144  144  115\n",
       "1  134  134  121\n",
       "1  153  153  151"
      ]
     },
     "execution_count": 74,
     "metadata": {},
     "output_type": "execute_result"
    }
   ],
   "source": [
    "df_uniao_cell_line.loc[1, 1:3]"
   ]
  },
  {
   "cell_type": "code",
   "execution_count": 75,
   "metadata": {},
   "outputs": [
    {
     "name": "stdout",
     "output_type": "stream",
     "text": [
      "(11712, 120001)\n",
      "(11712, 120001)\n"
     ]
    }
   ],
   "source": [
    "print(df_uniao_cell_line.shape)\n",
    "df_uniao_cell_line.reset_index(drop=True, inplace=True)\n",
    "print(df_uniao_cell_line.shape)"
   ]
  },
  {
   "cell_type": "markdown",
   "metadata": {
    "id": "2ugei1uQhz4a"
   },
   "source": [
    "# Seprando os bancos\n",
    "Separando algumas imagens para \"cross_validation\" antes de separar entre dado de treino e teste. Esse dado vai servir para testar o algoritmo pós testes."
   ]
  },
  {
   "cell_type": "code",
   "execution_count": 76,
   "metadata": {
    "colab": {
     "base_uri": "https://localhost:8080/"
    },
    "id": "eNhW2SdzhCls",
    "outputId": "6193c4b3-bdc2-4ce7-948b-45cb9563c795"
   },
   "outputs": [
    {
     "name": "stdout",
     "output_type": "stream",
     "text": [
      "Data for Modeling: (1171, 120001)\n",
      "Unseen Data For Predictions: (10541, 120001)\n"
     ]
    }
   ],
   "source": [
    "data = df_uniao_cell_line.sample(frac=0.1, random_state=786) #separando 90% das imagens pra treino e teste, deixando 10% pra cross validation\n",
    "data_unseen = df_uniao_cell_line.drop(data.index)\n",
    "print('Data for Modeling: ' + str(data.shape)) #dados que vão para o modelo\n",
    "print('Unseen Data For Predictions: ' + str(data_unseen.shape)) #dados separados"
   ]
  },
  {
   "cell_type": "code",
   "execution_count": 77,
   "metadata": {
    "colab": {
     "background_save": true,
     "base_uri": "https://localhost:8080/",
     "height": 1000,
     "referenced_widgets": [
      "19270ec0461747a88693d8a254e8ea7b",
      "60fe738d0ae24f35979105bd45ff1ed7",
      "3ea1f18f3889428db56d68cd0facdcc9",
      "dfbbb5178ecf4ed0a1bf7c81089685ed",
      "694a9dda51f7428698f5fbd6e6ca2837",
      "d989e01b2e6d40efab5496dde382eb4a"
     ]
    },
    "id": "LogGZW0lkJEk",
    "outputId": "69a494ce-b53c-4fad-d571-29bc5f8831ac"
   },
   "outputs": [
    {
     "data": {
      "application/vnd.jupyter.widget-view+json": {
       "model_id": "06b1a72cc9894f7a8438438b0493e0a6",
       "version_major": 2,
       "version_minor": 0
      },
      "text/plain": [
       "IntProgress(value=0, description='Processing: ', max=3)"
      ]
     },
     "metadata": {},
     "output_type": "display_data"
    },
    {
     "data": {
      "text/html": [
       "<div>\n",
       "<style scoped>\n",
       "    .dataframe tbody tr th:only-of-type {\n",
       "        vertical-align: middle;\n",
       "    }\n",
       "\n",
       "    .dataframe tbody tr th {\n",
       "        vertical-align: top;\n",
       "    }\n",
       "\n",
       "    .dataframe thead th {\n",
       "        text-align: right;\n",
       "    }\n",
       "</style>\n",
       "<table border=\"1\" class=\"dataframe\">\n",
       "  <thead>\n",
       "    <tr style=\"text-align: right;\">\n",
       "      <th></th>\n",
       "      <th></th>\n",
       "      <th></th>\n",
       "    </tr>\n",
       "    <tr>\n",
       "      <th></th>\n",
       "      <th></th>\n",
       "      <th></th>\n",
       "    </tr>\n",
       "  </thead>\n",
       "  <tbody>\n",
       "    <tr>\n",
       "      <th>Initiated</th>\n",
       "      <td>. . . . . . . . . . . . . . . . . .</td>\n",
       "      <td>10:37:19</td>\n",
       "    </tr>\n",
       "    <tr>\n",
       "      <th>Status</th>\n",
       "      <td>. . . . . . . . . . . . . . . . . .</td>\n",
       "      <td>Preprocessing Data</td>\n",
       "    </tr>\n",
       "  </tbody>\n",
       "</table>\n",
       "</div>"
      ],
      "text/plain": [
       "                                                                  \n",
       "                                                                  \n",
       "Initiated  . . . . . . . . . . . . . . . . . .            10:37:19\n",
       "Status     . . . . . . . . . . . . . . . . . .  Preprocessing Data"
      ]
     },
     "metadata": {},
     "output_type": "display_data"
    },
    {
     "data": {
      "application/vnd.jupyter.widget-view+json": {
       "model_id": "9efbe063860d4f5386cadfcf619ab183",
       "version_major": 2,
       "version_minor": 0
      },
      "text/plain": [
       "Text(value=\"Following data types have been inferred automatically, if they are correct press enter to continue…"
      ]
     },
     "metadata": {},
     "output_type": "display_data"
    },
    {
     "data": {
      "text/html": [
       "<div>\n",
       "<style scoped>\n",
       "    .dataframe tbody tr th:only-of-type {\n",
       "        vertical-align: middle;\n",
       "    }\n",
       "\n",
       "    .dataframe tbody tr th {\n",
       "        vertical-align: top;\n",
       "    }\n",
       "\n",
       "    .dataframe thead th {\n",
       "        text-align: right;\n",
       "    }\n",
       "</style>\n",
       "<table border=\"1\" class=\"dataframe\">\n",
       "  <thead>\n",
       "    <tr style=\"text-align: right;\">\n",
       "      <th></th>\n",
       "      <th>Data Type</th>\n",
       "    </tr>\n",
       "  </thead>\n",
       "  <tbody>\n",
       "    <tr>\n",
       "      <th>0</th>\n",
       "      <td></td>\n",
       "    </tr>\n",
       "    <tr>\n",
       "      <th>1</th>\n",
       "      <td></td>\n",
       "    </tr>\n",
       "    <tr>\n",
       "      <th>2</th>\n",
       "      <td></td>\n",
       "    </tr>\n",
       "    <tr>\n",
       "      <th>3</th>\n",
       "      <td></td>\n",
       "    </tr>\n",
       "    <tr>\n",
       "      <th>4</th>\n",
       "      <td></td>\n",
       "    </tr>\n",
       "    <tr>\n",
       "      <th>...</th>\n",
       "      <td>...</td>\n",
       "    </tr>\n",
       "    <tr>\n",
       "      <th>119996</th>\n",
       "      <td></td>\n",
       "    </tr>\n",
       "    <tr>\n",
       "      <th>119997</th>\n",
       "      <td></td>\n",
       "    </tr>\n",
       "    <tr>\n",
       "      <th>119998</th>\n",
       "      <td></td>\n",
       "    </tr>\n",
       "    <tr>\n",
       "      <th>119999</th>\n",
       "      <td></td>\n",
       "    </tr>\n",
       "    <tr>\n",
       "      <th>Rótulo_Y</th>\n",
       "      <td>Label</td>\n",
       "    </tr>\n",
       "  </tbody>\n",
       "</table>\n",
       "<p>120001 rows × 1 columns</p>\n",
       "</div>"
      ],
      "text/plain": [
       "         Data Type\n",
       "0                 \n",
       "1                 \n",
       "2                 \n",
       "3                 \n",
       "4                 \n",
       "...            ...\n",
       "119996            \n",
       "119997            \n",
       "119998            \n",
       "119999            \n",
       "Rótulo_Y     Label\n",
       "\n",
       "[120001 rows x 1 columns]"
      ]
     },
     "metadata": {},
     "output_type": "display_data"
    },
    {
     "name": "stdin",
     "output_type": "stream",
     "text": [
      " \n"
     ]
    },
    {
     "ename": "MemoryError",
     "evalue": "Unable to allocate 107. GiB for an array with shape (120000, 120000) and data type float64",
     "output_type": "error",
     "traceback": [
      "\u001b[0;31m---------------------------------------------------------------------------\u001b[0m",
      "\u001b[0;31mMemoryError\u001b[0m                               Traceback (most recent call last)",
      "\u001b[0;32m/tmp/ipykernel_13/2580966496.py\u001b[0m in \u001b[0;36m<module>\u001b[0;34m\u001b[0m\n\u001b[0;32m----> 1\u001b[0;31m \u001b[0mexp_mclf101\u001b[0m \u001b[0;34m=\u001b[0m \u001b[0msetup\u001b[0m\u001b[0;34m(\u001b[0m\u001b[0mdata\u001b[0m \u001b[0;34m=\u001b[0m \u001b[0mdata\u001b[0m\u001b[0;34m,\u001b[0m \u001b[0mtarget\u001b[0m \u001b[0;34m=\u001b[0m \u001b[0;34m'Rótulo_Y'\u001b[0m\u001b[0;34m,\u001b[0m \u001b[0msession_id\u001b[0m\u001b[0;34m=\u001b[0m\u001b[0;36m123\u001b[0m\u001b[0;34m)\u001b[0m\u001b[0;34m\u001b[0m\u001b[0;34m\u001b[0m\u001b[0m\n\u001b[0m",
      "\u001b[0;32m/usr/local/lib/python3.7/site-packages/pycaret/classification.py\u001b[0m in \u001b[0;36msetup\u001b[0;34m(data, target, train_size, test_data, preprocess, imputation_type, iterative_imputation_iters, categorical_features, categorical_imputation, categorical_iterative_imputer, ordinal_features, high_cardinality_features, high_cardinality_method, numeric_features, numeric_imputation, numeric_iterative_imputer, date_features, ignore_features, normalize, normalize_method, transformation, transformation_method, handle_unknown_categorical, unknown_categorical_method, pca, pca_method, pca_components, ignore_low_variance, combine_rare_levels, rare_level_threshold, bin_numeric_features, remove_outliers, outliers_threshold, remove_multicollinearity, multicollinearity_threshold, remove_perfect_collinearity, create_clusters, cluster_iter, polynomial_features, polynomial_degree, trigonometry_features, polynomial_threshold, group_features, group_names, feature_selection, feature_selection_threshold, feature_selection_method, feature_interaction, feature_ratio, interaction_threshold, fix_imbalance, fix_imbalance_method, data_split_shuffle, data_split_stratify, fold_strategy, fold, fold_shuffle, fold_groups, n_jobs, use_gpu, custom_pipeline, html, session_id, log_experiment, experiment_name, experiment_custom_tags, log_plots, log_profile, log_data, silent, verbose, profile, profile_kwargs)\u001b[0m\n\u001b[1;32m    672\u001b[0m         \u001b[0mverbose\u001b[0m\u001b[0;34m=\u001b[0m\u001b[0mverbose\u001b[0m\u001b[0;34m,\u001b[0m\u001b[0;34m\u001b[0m\u001b[0;34m\u001b[0m\u001b[0m\n\u001b[1;32m    673\u001b[0m         \u001b[0mprofile\u001b[0m\u001b[0;34m=\u001b[0m\u001b[0mprofile\u001b[0m\u001b[0;34m,\u001b[0m\u001b[0;34m\u001b[0m\u001b[0;34m\u001b[0m\u001b[0m\n\u001b[0;32m--> 674\u001b[0;31m         \u001b[0mprofile_kwargs\u001b[0m\u001b[0;34m=\u001b[0m\u001b[0mprofile_kwargs\u001b[0m\u001b[0;34m,\u001b[0m\u001b[0;34m\u001b[0m\u001b[0;34m\u001b[0m\u001b[0m\n\u001b[0m\u001b[1;32m    675\u001b[0m     )\n\u001b[1;32m    676\u001b[0m \u001b[0;34m\u001b[0m\u001b[0m\n",
      "\u001b[0;32m/usr/local/lib/python3.7/site-packages/pycaret/internal/tabular.py\u001b[0m in \u001b[0;36msetup\u001b[0;34m(data, target, ml_usecase, available_plots, train_size, test_data, preprocess, imputation_type, iterative_imputation_iters, categorical_features, categorical_imputation, categorical_iterative_imputer, ordinal_features, high_cardinality_features, high_cardinality_method, numeric_features, numeric_imputation, numeric_iterative_imputer, date_features, ignore_features, normalize, normalize_method, transformation, transformation_method, handle_unknown_categorical, unknown_categorical_method, pca, pca_method, pca_components, ignore_low_variance, combine_rare_levels, rare_level_threshold, bin_numeric_features, remove_outliers, outliers_threshold, remove_multicollinearity, multicollinearity_threshold, remove_perfect_collinearity, create_clusters, cluster_iter, polynomial_features, polynomial_degree, trigonometry_features, polynomial_threshold, group_features, group_names, feature_selection, feature_selection_threshold, feature_selection_method, feature_interaction, feature_ratio, interaction_threshold, fix_imbalance, fix_imbalance_method, transform_target, transform_target_method, data_split_shuffle, data_split_stratify, fold_strategy, fold, fold_shuffle, fold_groups, n_jobs, use_gpu, custom_pipeline, html, session_id, log_experiment, experiment_name, experiment_custom_tags, log_plots, log_profile, log_data, silent, verbose, profile, profile_kwargs, display)\u001b[0m\n\u001b[1;32m   1406\u001b[0m             \u001b[0mtest_data\u001b[0m \u001b[0;34m=\u001b[0m \u001b[0mpd\u001b[0m\u001b[0;34m.\u001b[0m\u001b[0mconcat\u001b[0m\u001b[0;34m(\u001b[0m\u001b[0;34m[\u001b[0m\u001b[0mX_test\u001b[0m\u001b[0;34m,\u001b[0m \u001b[0my_test\u001b[0m\u001b[0;34m]\u001b[0m\u001b[0;34m,\u001b[0m \u001b[0maxis\u001b[0m\u001b[0;34m=\u001b[0m\u001b[0;36m1\u001b[0m\u001b[0;34m)\u001b[0m\u001b[0;34m\u001b[0m\u001b[0;34m\u001b[0m\u001b[0m\n\u001b[1;32m   1407\u001b[0m \u001b[0;34m\u001b[0m\u001b[0m\n\u001b[0;32m-> 1408\u001b[0;31m         \u001b[0mtrain_data\u001b[0m \u001b[0;34m=\u001b[0m \u001b[0mprep_pipe\u001b[0m\u001b[0;34m.\u001b[0m\u001b[0mfit_transform\u001b[0m\u001b[0;34m(\u001b[0m\u001b[0mtrain_data\u001b[0m\u001b[0;34m)\u001b[0m\u001b[0;34m\u001b[0m\u001b[0;34m\u001b[0m\u001b[0m\n\u001b[0m\u001b[1;32m   1409\u001b[0m         \u001b[0;31m# workaround to also transform target\u001b[0m\u001b[0;34m\u001b[0m\u001b[0;34m\u001b[0m\u001b[0;34m\u001b[0m\u001b[0m\n\u001b[1;32m   1410\u001b[0m         \u001b[0mdtypes\u001b[0m\u001b[0;34m.\u001b[0m\u001b[0mfinal_training_columns\u001b[0m\u001b[0;34m.\u001b[0m\u001b[0mappend\u001b[0m\u001b[0;34m(\u001b[0m\u001b[0mtarget\u001b[0m\u001b[0;34m)\u001b[0m\u001b[0;34m\u001b[0m\u001b[0;34m\u001b[0m\u001b[0m\n",
      "\u001b[0;32m/usr/local/lib/python3.7/site-packages/sklearn/pipeline.py\u001b[0m in \u001b[0;36mfit_transform\u001b[0;34m(self, X, y, **fit_params)\u001b[0m\n\u001b[1;32m    365\u001b[0m         \"\"\"\n\u001b[1;32m    366\u001b[0m         \u001b[0mfit_params_steps\u001b[0m \u001b[0;34m=\u001b[0m \u001b[0mself\u001b[0m\u001b[0;34m.\u001b[0m\u001b[0m_check_fit_params\u001b[0m\u001b[0;34m(\u001b[0m\u001b[0;34m**\u001b[0m\u001b[0mfit_params\u001b[0m\u001b[0;34m)\u001b[0m\u001b[0;34m\u001b[0m\u001b[0;34m\u001b[0m\u001b[0m\n\u001b[0;32m--> 367\u001b[0;31m         \u001b[0mXt\u001b[0m \u001b[0;34m=\u001b[0m \u001b[0mself\u001b[0m\u001b[0;34m.\u001b[0m\u001b[0m_fit\u001b[0m\u001b[0;34m(\u001b[0m\u001b[0mX\u001b[0m\u001b[0;34m,\u001b[0m \u001b[0my\u001b[0m\u001b[0;34m,\u001b[0m \u001b[0;34m**\u001b[0m\u001b[0mfit_params_steps\u001b[0m\u001b[0;34m)\u001b[0m\u001b[0;34m\u001b[0m\u001b[0;34m\u001b[0m\u001b[0m\n\u001b[0m\u001b[1;32m    368\u001b[0m \u001b[0;34m\u001b[0m\u001b[0m\n\u001b[1;32m    369\u001b[0m         \u001b[0mlast_step\u001b[0m \u001b[0;34m=\u001b[0m \u001b[0mself\u001b[0m\u001b[0;34m.\u001b[0m\u001b[0m_final_estimator\u001b[0m\u001b[0;34m\u001b[0m\u001b[0;34m\u001b[0m\u001b[0m\n",
      "\u001b[0;32m/usr/local/lib/python3.7/site-packages/sklearn/pipeline.py\u001b[0m in \u001b[0;36m_fit\u001b[0;34m(self, X, y, **fit_params_steps)\u001b[0m\n\u001b[1;32m    294\u001b[0m                 \u001b[0mmessage_clsname\u001b[0m\u001b[0;34m=\u001b[0m\u001b[0;34m'Pipeline'\u001b[0m\u001b[0;34m,\u001b[0m\u001b[0;34m\u001b[0m\u001b[0;34m\u001b[0m\u001b[0m\n\u001b[1;32m    295\u001b[0m                 \u001b[0mmessage\u001b[0m\u001b[0;34m=\u001b[0m\u001b[0mself\u001b[0m\u001b[0;34m.\u001b[0m\u001b[0m_log_message\u001b[0m\u001b[0;34m(\u001b[0m\u001b[0mstep_idx\u001b[0m\u001b[0;34m)\u001b[0m\u001b[0;34m,\u001b[0m\u001b[0;34m\u001b[0m\u001b[0;34m\u001b[0m\u001b[0m\n\u001b[0;32m--> 296\u001b[0;31m                 **fit_params_steps[name])\n\u001b[0m\u001b[1;32m    297\u001b[0m             \u001b[0;31m# Replace the transformer of the step with the fitted\u001b[0m\u001b[0;34m\u001b[0m\u001b[0;34m\u001b[0m\u001b[0;34m\u001b[0m\u001b[0m\n\u001b[1;32m    298\u001b[0m             \u001b[0;31m# transformer. This is necessary when loading the transformer\u001b[0m\u001b[0;34m\u001b[0m\u001b[0;34m\u001b[0m\u001b[0;34m\u001b[0m\u001b[0m\n",
      "\u001b[0;32m/usr/local/lib/python3.7/site-packages/joblib/memory.py\u001b[0m in \u001b[0;36m__call__\u001b[0;34m(self, *args, **kwargs)\u001b[0m\n\u001b[1;32m    347\u001b[0m \u001b[0;34m\u001b[0m\u001b[0m\n\u001b[1;32m    348\u001b[0m     \u001b[0;32mdef\u001b[0m \u001b[0m__call__\u001b[0m\u001b[0;34m(\u001b[0m\u001b[0mself\u001b[0m\u001b[0;34m,\u001b[0m \u001b[0;34m*\u001b[0m\u001b[0margs\u001b[0m\u001b[0;34m,\u001b[0m \u001b[0;34m**\u001b[0m\u001b[0mkwargs\u001b[0m\u001b[0;34m)\u001b[0m\u001b[0;34m:\u001b[0m\u001b[0;34m\u001b[0m\u001b[0;34m\u001b[0m\u001b[0m\n\u001b[0;32m--> 349\u001b[0;31m         \u001b[0;32mreturn\u001b[0m \u001b[0mself\u001b[0m\u001b[0;34m.\u001b[0m\u001b[0mfunc\u001b[0m\u001b[0;34m(\u001b[0m\u001b[0;34m*\u001b[0m\u001b[0margs\u001b[0m\u001b[0;34m,\u001b[0m \u001b[0;34m**\u001b[0m\u001b[0mkwargs\u001b[0m\u001b[0;34m)\u001b[0m\u001b[0;34m\u001b[0m\u001b[0;34m\u001b[0m\u001b[0m\n\u001b[0m\u001b[1;32m    350\u001b[0m \u001b[0;34m\u001b[0m\u001b[0m\n\u001b[1;32m    351\u001b[0m     \u001b[0;32mdef\u001b[0m \u001b[0mcall_and_shelve\u001b[0m\u001b[0;34m(\u001b[0m\u001b[0mself\u001b[0m\u001b[0;34m,\u001b[0m \u001b[0;34m*\u001b[0m\u001b[0margs\u001b[0m\u001b[0;34m,\u001b[0m \u001b[0;34m**\u001b[0m\u001b[0mkwargs\u001b[0m\u001b[0;34m)\u001b[0m\u001b[0;34m:\u001b[0m\u001b[0;34m\u001b[0m\u001b[0;34m\u001b[0m\u001b[0m\n",
      "\u001b[0;32m/usr/local/lib/python3.7/site-packages/sklearn/pipeline.py\u001b[0m in \u001b[0;36m_fit_transform_one\u001b[0;34m(transformer, X, y, weight, message_clsname, message, **fit_params)\u001b[0m\n\u001b[1;32m    738\u001b[0m     \u001b[0;32mwith\u001b[0m \u001b[0m_print_elapsed_time\u001b[0m\u001b[0;34m(\u001b[0m\u001b[0mmessage_clsname\u001b[0m\u001b[0;34m,\u001b[0m \u001b[0mmessage\u001b[0m\u001b[0;34m)\u001b[0m\u001b[0;34m:\u001b[0m\u001b[0;34m\u001b[0m\u001b[0;34m\u001b[0m\u001b[0m\n\u001b[1;32m    739\u001b[0m         \u001b[0;32mif\u001b[0m \u001b[0mhasattr\u001b[0m\u001b[0;34m(\u001b[0m\u001b[0mtransformer\u001b[0m\u001b[0;34m,\u001b[0m \u001b[0;34m'fit_transform'\u001b[0m\u001b[0;34m)\u001b[0m\u001b[0;34m:\u001b[0m\u001b[0;34m\u001b[0m\u001b[0;34m\u001b[0m\u001b[0m\n\u001b[0;32m--> 740\u001b[0;31m             \u001b[0mres\u001b[0m \u001b[0;34m=\u001b[0m \u001b[0mtransformer\u001b[0m\u001b[0;34m.\u001b[0m\u001b[0mfit_transform\u001b[0m\u001b[0;34m(\u001b[0m\u001b[0mX\u001b[0m\u001b[0;34m,\u001b[0m \u001b[0my\u001b[0m\u001b[0;34m,\u001b[0m \u001b[0;34m**\u001b[0m\u001b[0mfit_params\u001b[0m\u001b[0;34m)\u001b[0m\u001b[0;34m\u001b[0m\u001b[0;34m\u001b[0m\u001b[0m\n\u001b[0m\u001b[1;32m    741\u001b[0m         \u001b[0;32melse\u001b[0m\u001b[0;34m:\u001b[0m\u001b[0;34m\u001b[0m\u001b[0;34m\u001b[0m\u001b[0m\n\u001b[1;32m    742\u001b[0m             \u001b[0mres\u001b[0m \u001b[0;34m=\u001b[0m \u001b[0mtransformer\u001b[0m\u001b[0;34m.\u001b[0m\u001b[0mfit\u001b[0m\u001b[0;34m(\u001b[0m\u001b[0mX\u001b[0m\u001b[0;34m,\u001b[0m \u001b[0my\u001b[0m\u001b[0;34m,\u001b[0m \u001b[0;34m**\u001b[0m\u001b[0mfit_params\u001b[0m\u001b[0;34m)\u001b[0m\u001b[0;34m.\u001b[0m\u001b[0mtransform\u001b[0m\u001b[0;34m(\u001b[0m\u001b[0mX\u001b[0m\u001b[0;34m)\u001b[0m\u001b[0;34m\u001b[0m\u001b[0;34m\u001b[0m\u001b[0m\n",
      "\u001b[0;32m/usr/local/lib/python3.7/site-packages/pycaret/internal/preprocess.py\u001b[0m in \u001b[0;36mfit_transform\u001b[0;34m(self, dataset, y)\u001b[0m\n\u001b[1;32m   2743\u001b[0m             \u001b[0;32mreturn\u001b[0m \u001b[0mdata\u001b[0m\u001b[0;34m\u001b[0m\u001b[0;34m\u001b[0m\u001b[0m\n\u001b[1;32m   2744\u001b[0m \u001b[0;34m\u001b[0m\u001b[0m\n\u001b[0;32m-> 2745\u001b[0;31m         \u001b[0mcorr\u001b[0m \u001b[0;34m=\u001b[0m \u001b[0mpd\u001b[0m\u001b[0;34m.\u001b[0m\u001b[0mDataFrame\u001b[0m\u001b[0;34m(\u001b[0m\u001b[0mnp\u001b[0m\u001b[0;34m.\u001b[0m\u001b[0mcorrcoef\u001b[0m\u001b[0;34m(\u001b[0m\u001b[0mtargetless_data\u001b[0m\u001b[0;34m.\u001b[0m\u001b[0mT\u001b[0m\u001b[0;34m)\u001b[0m\u001b[0;34m)\u001b[0m\u001b[0;34m\u001b[0m\u001b[0;34m\u001b[0m\u001b[0m\n\u001b[0m\u001b[1;32m   2746\u001b[0m         \u001b[0mcorr\u001b[0m\u001b[0;34m.\u001b[0m\u001b[0mcolumns\u001b[0m \u001b[0;34m=\u001b[0m \u001b[0mtargetless_data\u001b[0m\u001b[0;34m.\u001b[0m\u001b[0mcolumns\u001b[0m\u001b[0;34m\u001b[0m\u001b[0;34m\u001b[0m\u001b[0m\n\u001b[1;32m   2747\u001b[0m         \u001b[0mcorr\u001b[0m\u001b[0;34m.\u001b[0m\u001b[0mindex\u001b[0m \u001b[0;34m=\u001b[0m \u001b[0mtargetless_data\u001b[0m\u001b[0;34m.\u001b[0m\u001b[0mcolumns\u001b[0m\u001b[0;34m\u001b[0m\u001b[0;34m\u001b[0m\u001b[0m\n",
      "\u001b[0;32m<__array_function__ internals>\u001b[0m in \u001b[0;36mcorrcoef\u001b[0;34m(*args, **kwargs)\u001b[0m\n",
      "\u001b[0;32m/usr/local/lib/python3.7/site-packages/numpy/lib/function_base.py\u001b[0m in \u001b[0;36mcorrcoef\u001b[0;34m(x, y, rowvar, bias, ddof)\u001b[0m\n\u001b[1;32m   2549\u001b[0m         warnings.warn('bias and ddof have no effect and are deprecated',\n\u001b[1;32m   2550\u001b[0m                       DeprecationWarning, stacklevel=3)\n\u001b[0;32m-> 2551\u001b[0;31m     \u001b[0mc\u001b[0m \u001b[0;34m=\u001b[0m \u001b[0mcov\u001b[0m\u001b[0;34m(\u001b[0m\u001b[0mx\u001b[0m\u001b[0;34m,\u001b[0m \u001b[0my\u001b[0m\u001b[0;34m,\u001b[0m \u001b[0mrowvar\u001b[0m\u001b[0;34m)\u001b[0m\u001b[0;34m\u001b[0m\u001b[0;34m\u001b[0m\u001b[0m\n\u001b[0m\u001b[1;32m   2552\u001b[0m     \u001b[0;32mtry\u001b[0m\u001b[0;34m:\u001b[0m\u001b[0;34m\u001b[0m\u001b[0;34m\u001b[0m\u001b[0m\n\u001b[1;32m   2553\u001b[0m         \u001b[0md\u001b[0m \u001b[0;34m=\u001b[0m \u001b[0mdiag\u001b[0m\u001b[0;34m(\u001b[0m\u001b[0mc\u001b[0m\u001b[0;34m)\u001b[0m\u001b[0;34m\u001b[0m\u001b[0;34m\u001b[0m\u001b[0m\n",
      "\u001b[0;32m<__array_function__ internals>\u001b[0m in \u001b[0;36mcov\u001b[0;34m(*args, **kwargs)\u001b[0m\n",
      "\u001b[0;32m/usr/local/lib/python3.7/site-packages/numpy/lib/function_base.py\u001b[0m in \u001b[0;36mcov\u001b[0;34m(m, y, rowvar, bias, ddof, fweights, aweights)\u001b[0m\n\u001b[1;32m   2477\u001b[0m     \u001b[0;32melse\u001b[0m\u001b[0;34m:\u001b[0m\u001b[0;34m\u001b[0m\u001b[0;34m\u001b[0m\u001b[0m\n\u001b[1;32m   2478\u001b[0m         \u001b[0mX_T\u001b[0m \u001b[0;34m=\u001b[0m \u001b[0;34m(\u001b[0m\u001b[0mX\u001b[0m\u001b[0;34m*\u001b[0m\u001b[0mw\u001b[0m\u001b[0;34m)\u001b[0m\u001b[0;34m.\u001b[0m\u001b[0mT\u001b[0m\u001b[0;34m\u001b[0m\u001b[0;34m\u001b[0m\u001b[0m\n\u001b[0;32m-> 2479\u001b[0;31m     \u001b[0mc\u001b[0m \u001b[0;34m=\u001b[0m \u001b[0mdot\u001b[0m\u001b[0;34m(\u001b[0m\u001b[0mX\u001b[0m\u001b[0;34m,\u001b[0m \u001b[0mX_T\u001b[0m\u001b[0;34m.\u001b[0m\u001b[0mconj\u001b[0m\u001b[0;34m(\u001b[0m\u001b[0;34m)\u001b[0m\u001b[0;34m)\u001b[0m\u001b[0;34m\u001b[0m\u001b[0;34m\u001b[0m\u001b[0m\n\u001b[0m\u001b[1;32m   2480\u001b[0m     \u001b[0mc\u001b[0m \u001b[0;34m*=\u001b[0m \u001b[0mnp\u001b[0m\u001b[0;34m.\u001b[0m\u001b[0mtrue_divide\u001b[0m\u001b[0;34m(\u001b[0m\u001b[0;36m1\u001b[0m\u001b[0;34m,\u001b[0m \u001b[0mfact\u001b[0m\u001b[0;34m)\u001b[0m\u001b[0;34m\u001b[0m\u001b[0;34m\u001b[0m\u001b[0m\n\u001b[1;32m   2481\u001b[0m     \u001b[0;32mreturn\u001b[0m \u001b[0mc\u001b[0m\u001b[0;34m.\u001b[0m\u001b[0msqueeze\u001b[0m\u001b[0;34m(\u001b[0m\u001b[0;34m)\u001b[0m\u001b[0;34m\u001b[0m\u001b[0;34m\u001b[0m\u001b[0m\n",
      "\u001b[0;32m<__array_function__ internals>\u001b[0m in \u001b[0;36mdot\u001b[0;34m(*args, **kwargs)\u001b[0m\n",
      "\u001b[0;31mMemoryError\u001b[0m: Unable to allocate 107. GiB for an array with shape (120000, 120000) and data type float64"
     ]
    }
   ],
   "source": [
    "exp_mclf101 = setup(data = data, target = 'Rótulo_Y', session_id=123)"
   ]
  },
  {
   "cell_type": "code",
   "execution_count": null,
   "metadata": {
    "id": "kIODXps4sfG8"
   },
   "outputs": [],
   "source": []
  }
 ],
 "metadata": {
  "accelerator": "TPU",
  "colab": {
   "provenance": []
  },
  "gpuClass": "standard",
  "kernelspec": {
   "display_name": "Python 3 (ipykernel)",
   "language": "python",
   "name": "python3"
  },
  "language_info": {
   "codemirror_mode": {
    "name": "ipython",
    "version": 3
   },
   "file_extension": ".py",
   "mimetype": "text/x-python",
   "name": "python",
   "nbconvert_exporter": "python",
   "pygments_lexer": "ipython3",
   "version": "3.7.9"
  },
  "widgets": {
   "application/vnd.jupyter.widget-state+json": {
    "19270ec0461747a88693d8a254e8ea7b": {
     "model_module": "@jupyter-widgets/controls",
     "model_module_version": "1.5.0",
     "model_name": "IntProgressModel",
     "state": {
      "_dom_classes": [],
      "_model_module": "@jupyter-widgets/controls",
      "_model_module_version": "1.5.0",
      "_model_name": "IntProgressModel",
      "_view_count": null,
      "_view_module": "@jupyter-widgets/controls",
      "_view_module_version": "1.5.0",
      "_view_name": "ProgressView",
      "bar_style": "",
      "description": "Processing: ",
      "description_tooltip": null,
      "layout": "IPY_MODEL_60fe738d0ae24f35979105bd45ff1ed7",
      "max": 3,
      "min": 0,
      "orientation": "horizontal",
      "style": "IPY_MODEL_3ea1f18f3889428db56d68cd0facdcc9",
      "value": 2
     }
    },
    "3ea1f18f3889428db56d68cd0facdcc9": {
     "model_module": "@jupyter-widgets/controls",
     "model_module_version": "1.5.0",
     "model_name": "ProgressStyleModel",
     "state": {
      "_model_module": "@jupyter-widgets/controls",
      "_model_module_version": "1.5.0",
      "_model_name": "ProgressStyleModel",
      "_view_count": null,
      "_view_module": "@jupyter-widgets/base",
      "_view_module_version": "1.2.0",
      "_view_name": "StyleView",
      "bar_color": null,
      "description_width": ""
     }
    },
    "60fe738d0ae24f35979105bd45ff1ed7": {
     "model_module": "@jupyter-widgets/base",
     "model_module_version": "1.2.0",
     "model_name": "LayoutModel",
     "state": {
      "_model_module": "@jupyter-widgets/base",
      "_model_module_version": "1.2.0",
      "_model_name": "LayoutModel",
      "_view_count": null,
      "_view_module": "@jupyter-widgets/base",
      "_view_module_version": "1.2.0",
      "_view_name": "LayoutView",
      "align_content": null,
      "align_items": null,
      "align_self": null,
      "border": null,
      "bottom": null,
      "display": null,
      "flex": null,
      "flex_flow": null,
      "grid_area": null,
      "grid_auto_columns": null,
      "grid_auto_flow": null,
      "grid_auto_rows": null,
      "grid_column": null,
      "grid_gap": null,
      "grid_row": null,
      "grid_template_areas": null,
      "grid_template_columns": null,
      "grid_template_rows": null,
      "height": null,
      "justify_content": null,
      "justify_items": null,
      "left": null,
      "margin": null,
      "max_height": null,
      "max_width": null,
      "min_height": null,
      "min_width": null,
      "object_fit": null,
      "object_position": null,
      "order": null,
      "overflow": null,
      "overflow_x": null,
      "overflow_y": null,
      "padding": null,
      "right": null,
      "top": null,
      "visibility": null,
      "width": null
     }
    },
    "694a9dda51f7428698f5fbd6e6ca2837": {
     "model_module": "@jupyter-widgets/base",
     "model_module_version": "1.2.0",
     "model_name": "LayoutModel",
     "state": {
      "_model_module": "@jupyter-widgets/base",
      "_model_module_version": "1.2.0",
      "_model_name": "LayoutModel",
      "_view_count": null,
      "_view_module": "@jupyter-widgets/base",
      "_view_module_version": "1.2.0",
      "_view_name": "LayoutView",
      "align_content": null,
      "align_items": null,
      "align_self": null,
      "border": null,
      "bottom": null,
      "display": null,
      "flex": null,
      "flex_flow": null,
      "grid_area": null,
      "grid_auto_columns": null,
      "grid_auto_flow": null,
      "grid_auto_rows": null,
      "grid_column": null,
      "grid_gap": null,
      "grid_row": null,
      "grid_template_areas": null,
      "grid_template_columns": null,
      "grid_template_rows": null,
      "height": null,
      "justify_content": null,
      "justify_items": null,
      "left": null,
      "margin": null,
      "max_height": null,
      "max_width": null,
      "min_height": null,
      "min_width": null,
      "object_fit": null,
      "object_position": null,
      "order": null,
      "overflow": null,
      "overflow_x": null,
      "overflow_y": null,
      "padding": null,
      "right": null,
      "top": null,
      "visibility": null,
      "width": "100%"
     }
    },
    "d989e01b2e6d40efab5496dde382eb4a": {
     "model_module": "@jupyter-widgets/controls",
     "model_module_version": "1.5.0",
     "model_name": "DescriptionStyleModel",
     "state": {
      "_model_module": "@jupyter-widgets/controls",
      "_model_module_version": "1.5.0",
      "_model_name": "DescriptionStyleModel",
      "_view_count": null,
      "_view_module": "@jupyter-widgets/base",
      "_view_module_version": "1.2.0",
      "_view_name": "StyleView",
      "description_width": ""
     }
    },
    "dfbbb5178ecf4ed0a1bf7c81089685ed": {
     "model_module": "@jupyter-widgets/controls",
     "model_module_version": "1.5.0",
     "model_name": "TextModel",
     "state": {
      "_dom_classes": [],
      "_model_module": "@jupyter-widgets/controls",
      "_model_module_version": "1.5.0",
      "_model_name": "TextModel",
      "_view_count": null,
      "_view_module": "@jupyter-widgets/controls",
      "_view_module_version": "1.5.0",
      "_view_name": "TextView",
      "continuous_update": true,
      "description": "",
      "description_tooltip": null,
      "disabled": false,
      "layout": "IPY_MODEL_694a9dda51f7428698f5fbd6e6ca2837",
      "placeholder": "​",
      "style": "IPY_MODEL_d989e01b2e6d40efab5496dde382eb4a",
      "value": "Following data types have been inferred automatically, if they are correct press enter to continue or type 'quit' otherwise."
     }
    }
   }
  }
 },
 "nbformat": 4,
 "nbformat_minor": 4
}
