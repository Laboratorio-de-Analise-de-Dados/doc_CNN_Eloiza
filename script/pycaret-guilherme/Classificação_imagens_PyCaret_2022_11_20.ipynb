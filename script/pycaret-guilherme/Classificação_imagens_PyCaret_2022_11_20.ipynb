{
 "cells": [
  {
   "cell_type": "markdown",
   "metadata": {
    "id": "UXBd8UDKRRAq",
    "jp-MarkdownHeadingCollapsed": true,
    "tags": []
   },
   "source": [
    "# Importação das Bibliotecas"
   ]
  },
  {
   "cell_type": "code",
   "execution_count": 25,
   "metadata": {},
   "outputs": [
    {
     "name": "stdout",
     "output_type": "stream",
     "text": [
      "joblib==1.2.0\n"
     ]
    }
   ],
   "source": [
    "!pip install joblib==1.2.0"
   ]
  },
  {
   "cell_type": "code",
   "execution_count": 83,
   "metadata": {
    "id": "Ec21QQkLREGT"
   },
   "outputs": [],
   "source": [
    "import os\n",
    "import numpy as np\n",
    "import pandas as pd\n",
    "import joblib\n",
    "from util import meus_uteis, timeProcess, mask_corr_graphic, printLis\n",
    "\n",
    "# Salva e recupera arquivos\n",
    "from pickle import dump, load\n",
    "from bz2 import BZ2File"
   ]
  },
  {
   "cell_type": "code",
   "execution_count": 65,
   "metadata": {
    "colab": {
     "base_uri": "https://localhost:8080/"
    },
    "id": "3M4RqjWDRd3h",
    "outputId": "5a036213-e5cb-437d-f103-0233c0fb9490"
   },
   "outputs": [
    {
     "name": "stdout",
     "output_type": "stream",
     "text": [
      "-------------\n",
      "-=< Lista >=-\n",
      "-------------\n",
      "0 -> lista_rotulo_camp_clar_50_resized_regressao_mAb_DENV12022-10-25.gz\n",
      "1 -> lista_rotulo_camp_clar_50_resized_regressao_THP12022-10-25.gz\n",
      "2 -> lista_rotulo_camp_clar_50_resized_regressao_A1722022-10-25.gz\n",
      "3 -> lista_img_camp_clar_100_resized_regressao_THP12022-10-25.gz\n",
      "4 -> lista_img_camp_clar_25_resized_regressao_HUH72022-11-3.gz\n",
      "5 -> lista_rotulo_camp_clar_75_resized_regressao_3T3_2022-11-3.gz\n",
      "6 -> lista_rotulo_camp_clar_50_resized_regressao_MAYV2022-10-25.gz\n",
      "7 -> lista_rotulo_camp_clar_100_resized_regressao_SH_SY5Y2022-10-25.gz\n",
      "8 -> lista_rotulo_camp_clar_25_resized_regressao_A5492022-11-3.gz\n",
      "9 -> lista_img_camp_clar_75_resized_regressao_A1722022-10-25.gz\n",
      "10 -> lista_img_camp_clar_50_resized_regressao_MAYV2022-10-25.gz\n",
      "11 -> lista_rotulo_camp_clar_75_resized_regressao_THP12022-10-25.gz\n",
      "12 -> lista_rotulo_camp_clar_75_resized_regressao_HUH72022-11-3.gz\n",
      "13 -> lista_rotulo_camp_clar_50_resized_regressao_A5492022-11-3.gz\n",
      "14 -> lista_rotulo_camp_clar_25_resized_regressao_MAYV2022-10-25.gz\n",
      "15 -> lista_img_camp_clar_75_resized_regressao_A5492022-11-3.gz\n",
      "16 -> lista_rotulo_camp_clar_25_resized_regressao_THP12022-10-25.gz\n",
      "17 -> lista_img_camp_clar_25_resized_regressao_A1722022-10-25.gz\n",
      "18 -> lista_rotulo_camp_clar_75_resized_regressao_SH_SY5Y2022-10-25.gz\n",
      "19 -> lista_img_camp_clar_25_resized_regressao_3T3_2022-11-3.gz\n",
      "20 -> lista_img_camp_clar_75_resized_regressao_mAb_DENV12022-10-25.gz\n",
      "21 -> lista_rotulo_camp_clar_100_resized_regressao_THP12022-10-25.gz\n",
      "22 -> lista_rotulo_camp_clar_100_resized_regressao_A5492022-11-3.gz\n",
      "23 -> lista_img_camp_clar_50_resized_regressao_A1722022-10-25.gz\n",
      "24 -> lista_rotulo_camp_clar_25_resized_regressao_3T3_2022-11-3.gz\n",
      "25 -> lista_rotulo_camp_clar_100_resized_regressao_3T32022-11-3.gz\n",
      "26 -> Cópia de lista_rotulo_camp_clar_25_resized_regressao_VERO62022-10-24.gz\n",
      "27 -> lista_rotulo_camp_clar_100_resized_regressao_mAb_DENV12022-10-25.gz\n",
      "28 -> lista_img_camp_clar_50_resized_regressao_SH_SY5Y2022-10-25.gz\n",
      "29 -> lista_img_camp_clar_100_resized_regressao_A1722022-10-25.gz\n",
      "30 -> Cópia de lista_img_camp_clar_25_resized_regressao_VERO62022-10-24.gz\n",
      "31 -> lista_img_camp_clar_25_resized_regressao_SH_SY5Y2022-10-25.gz\n",
      "32 -> lista_img_camp_clar_50_resized_regressao_3T3_2022-11-3.gz\n",
      "33 -> lista_img_camp_clar_50_resized_regressao_THP12022-10-25.gz\n",
      "34 -> lista_img_camp_clar_100_resized_regressao_mAb_DENV12022-10-25.gz\n",
      "35 -> lista_img_camp_clar_75_resized_regressao_SH_SY5Y2022-10-25.gz\n",
      "36 -> lista_rotulo_camp_clar_75_resized_regressao_A5492022-11-3.gz\n",
      "37 -> lista_img_camp_clar_100_resized_regressao_3T32022-11-3.gz\n",
      "38 -> lista_img_camp_clar_100_resized_regressao_MAYV2022-10-25.gz\n",
      "39 -> lista_img_camp_clar_25_resized_regressao_mAb_DENV12022-10-25.gz\n",
      "40 -> lista_img_camp_clar_25_resized_regressao_A5492022-11-3.gz\n",
      "41 -> lista_rotulo_camp_clar_50_resized_regressao_SH_SY5Y2022-10-25.gz\n",
      "42 -> lista_rotulo_camp_clar_25_resized_regressao_mAb_DENV12022-10-25.gz\n",
      "43 -> lista_rotulo_camp_clar_50_resized_regressao_3T3_2022-11-3.gz\n",
      "44 -> lista_img_camp_clar_100_resized_regressao_HUH72022-11-3.gz\n",
      "45 -> Cópia de lista_img_camp_clar_75_resized_regressao_VERO62022-10-24.gz\n",
      "46 -> lista_rotulo_camp_clar_75_resized_regressao_MAYV2022-10-25.gz\n",
      "47 -> lista_rotulo_camp_clar_75_resized_regressao_A1722022-10-25.gz\n",
      "48 -> lista_rotulo_camp_clar_100_resized_regressao_HUH72022-11-3.gz\n",
      "49 -> lista_img_camp_clar_50_resized_regressao_HUH72022-11-3.gz\n",
      "50 -> lista_img_camp_clar_25_resized_regressao_MAYV2022-10-25.gz\n",
      "51 -> lista_img_camp_clar_75_resized_regressao_THP12022-10-25.gz\n",
      "52 -> lista_img_camp_clar_50_resized_regressao_A5492022-11-3.gz\n",
      "53 -> lista_img_camp_clar_50_resized_regressao_mAb_DENV12022-10-25.gz\n",
      "54 -> lista_rotulo_camp_clar_25_resized_regressao_SH_SY5Y2022-10-25.gz\n",
      "55 -> lista_img_camp_clar_100_resized_regressao_SH_SY5Y2022-10-25.gz\n",
      "56 -> lista_rotulo_camp_clar_100_resized_regressao_A1722022-10-25.gz\n",
      "57 -> lista_rotulo_camp_clar_25_resized_regressao_HUH72022-11-3.gz\n",
      "58 -> .ipynb_checkpoints\n",
      "59 -> lista_img_camp_clar_75_resized_regressao_3T3_2022-11-3.gz\n",
      "60 -> Cópia de lista_rotulo_camp_clar_50_resized_regressao_VERO62022-10-24.gz\n",
      "61 -> lista_img_camp_clar_100_resized_regressao_A5492022-11-3.gz\n",
      "62 -> Cópia de lista_img_camp_clar_100_resized_regressao_VERO62022-10-24.gz\n",
      "63 -> lista_rotulo_camp_clar_50_resized_regressao_HUH72022-11-3.gz\n",
      "64 -> lista_rotulo_camp_clar_75_resized_regressao_mAb_DENV12022-10-25.gz\n",
      "65 -> lista_rotulo_camp_clar_25_resized_regressao_A1722022-10-25.gz\n",
      "66 -> lista_img_camp_clar_75_resized_regressao_MAYV2022-10-25.gz\n",
      "67 -> lista_img_camp_clar_75_resized_regressao_HUH72022-11-3.gz\n",
      "68 -> Cópia de lista_rotulo_camp_clar_75_resized_regressao_VERO62022-10-24.gz\n",
      "69 -> lista_rotulo_camp_clar_100_resized_regressao_MAYV2022-10-25.gz\n",
      "70 -> Cópia de lista_img_camp_clar_50_resized_regressao_VERO62022-10-24.gz\n",
      "71 -> Cópia de lista_rotulo_camp_clar_100_resized_regressao_VERO62022-10-24.gz\n",
      "72 -> lista_img_camp_clar_25_resized_regressao_THP12022-10-25.gz\n"
     ]
    }
   ],
   "source": [
    "diretorio = \"./../results/Classificação_imagens_DOC_CNN/\"\n",
    "lista_dados = os.listdir(diretorio)\n",
    "printLis(lista_dados)"
   ]
  },
  {
   "cell_type": "markdown",
   "metadata": {
    "id": "ktnt1zMBWBKc",
    "jp-MarkdownHeadingCollapsed": true,
    "tags": []
   },
   "source": [
    "# THP1"
   ]
  },
  {
   "cell_type": "markdown",
   "metadata": {
    "id": "KC0dlymyWXQ9"
   },
   "source": [
    "## Imagens THP1"
   ]
  },
  {
   "cell_type": "code",
   "execution_count": 3,
   "metadata": {},
   "outputs": [
    {
     "name": "stdout",
     "output_type": "stream",
     "text": [
      "-------------\n",
      "-=< Lista >=-\n",
      "-------------\n",
      "0 -> ./../results/Classificação_imagens_DOC_CNN/lista_img_camp_clar_100_resized_regressao_THP12022-10-25.gz\n",
      "1 -> ./../results/Classificação_imagens_DOC_CNN/lista_img_camp_clar_50_resized_regressao_THP12022-10-25.gz\n",
      "2 -> ./../results/Classificação_imagens_DOC_CNN/lista_img_camp_clar_75_resized_regressao_THP12022-10-25.gz\n",
      "3 -> ./../results/Classificação_imagens_DOC_CNN/lista_img_camp_clar_25_resized_regressao_THP12022-10-25.gz\n",
      "-------------\n",
      "-=< Lista >=-\n",
      "-------------\n",
      "0 -> ./../results/Classificação_imagens_DOC_CNN/lista_rotulo_camp_clar_50_resized_regressao_THP12022-10-25.gz\n",
      "1 -> ./../results/Classificação_imagens_DOC_CNN/lista_rotulo_camp_clar_75_resized_regressao_THP12022-10-25.gz\n",
      "2 -> ./../results/Classificação_imagens_DOC_CNN/lista_rotulo_camp_clar_25_resized_regressao_THP12022-10-25.gz\n",
      "3 -> ./../results/Classificação_imagens_DOC_CNN/lista_rotulo_camp_clar_100_resized_regressao_THP12022-10-25.gz\n"
     ]
    }
   ],
   "source": [
    "lista_thp_img = [diretorio+i for i in lista_dados if \"THP\" in i and \"img\" in i]\n",
    "lista_thp_rotulo = [diretorio+i for i in lista_dados if \"THP\" in i and \"rotulo\" in i]\n",
    "printLis(lista_thp_img)"
   ]
  },
  {
   "cell_type": "code",
   "execution_count": 5,
   "metadata": {
    "colab": {
     "base_uri": "https://localhost:8080/"
    },
    "id": "ivZN4SYnTIv7",
    "outputId": "2a933f5d-2534-4ff8-ea09-3cdb8f34fd4c"
   },
   "outputs": [
    {
     "data": {
      "text/plain": [
       "(1696, 200, 200, 3)"
      ]
     },
     "execution_count": 5,
     "metadata": {},
     "output_type": "execute_result"
    }
   ],
   "source": [
    "imagem_thp_cem = joblib.load(lista_thp_img[0])\n",
    "imagem_thp_set = joblib.load(lista_thp_img[2])\n",
    "imagem_thp_ciq = joblib.load(lista_thp_img[1])\n",
    "imagem_thp_vin = joblib.load(lista_thp_img[3])\n",
    "imagem_thp_soma = np.asarray(list(imagem_thp_cem) + list(imagem_thp_set) + list(imagem_thp_ciq) + list(imagem_thp_vin)) #somando os valores de cada lista\n",
    "imagem_thp_soma.shape"
   ]
  },
  {
   "cell_type": "code",
   "execution_count": 6,
   "metadata": {
    "colab": {
     "base_uri": "https://localhost:8080/"
    },
    "id": "yQ_uVeQSTMv3",
    "outputId": "7cf56f98-84d0-463b-88b1-b0f3156542ee"
   },
   "outputs": [
    {
     "data": {
      "text/plain": [
       "1696"
      ]
     },
     "execution_count": 6,
     "metadata": {},
     "output_type": "execute_result"
    }
   ],
   "source": [
    "# Pegando o número de imagens\n",
    "num_de_imagens = imagem_thp_soma.shape[0]\n",
    "num_de_imagens\n"
   ]
  },
  {
   "cell_type": "code",
   "execution_count": 7,
   "metadata": {
    "colab": {
     "base_uri": "https://localhost:8080/"
    },
    "id": "Si4a5QYDUUYk",
    "outputId": "47e4f598-8756-4725-b851-0f6e7061b0f2"
   },
   "outputs": [
    {
     "data": {
      "text/plain": [
       "(1696, 120000)"
      ]
     },
     "execution_count": 7,
     "metadata": {},
     "output_type": "execute_result"
    }
   ],
   "source": [
    "# Modificando o formato do numpy para que cada imagem tenha apenas 1-D (Flatten)\n",
    "imagem_flat_thp = imagem_thp_soma.reshape(num_de_imagens, -1)\n",
    "imagem_flat_thp.shape\n"
   ]
  },
  {
   "cell_type": "markdown",
   "metadata": {
    "id": "irC-TzknXikN"
   },
   "source": [
    "## Rótulo THP1"
   ]
  },
  {
   "cell_type": "code",
   "execution_count": 8,
   "metadata": {},
   "outputs": [
    {
     "name": "stdout",
     "output_type": "stream",
     "text": [
      "-------------\n",
      "-=< Lista >=-\n",
      "-------------\n",
      "0 -> ./../results/Classificação_imagens_DOC_CNN/lista_rotulo_camp_clar_50_resized_regressao_THP12022-10-25.gz\n",
      "1 -> ./../results/Classificação_imagens_DOC_CNN/lista_rotulo_camp_clar_75_resized_regressao_THP12022-10-25.gz\n",
      "2 -> ./../results/Classificação_imagens_DOC_CNN/lista_rotulo_camp_clar_25_resized_regressao_THP12022-10-25.gz\n",
      "3 -> ./../results/Classificação_imagens_DOC_CNN/lista_rotulo_camp_clar_100_resized_regressao_THP12022-10-25.gz\n"
     ]
    }
   ],
   "source": [
    "printLis(lista_thp_rotulo)"
   ]
  },
  {
   "cell_type": "code",
   "execution_count": 9,
   "metadata": {
    "colab": {
     "base_uri": "https://localhost:8080/"
    },
    "id": "ydGffFmoUeTy",
    "outputId": "d0d24a4e-af38-421e-cd5a-b284e30acbca"
   },
   "outputs": [
    {
     "data": {
      "text/plain": [
       "(1696,)"
      ]
     },
     "execution_count": 9,
     "metadata": {},
     "output_type": "execute_result"
    }
   ],
   "source": [
    "rot_thp_cem = joblib.load(lista_thp_rotulo[3])\n",
    "rot_thp_set = joblib.load(lista_thp_rotulo[1])\n",
    "rot_thp_ciq = joblib.load(lista_thp_rotulo[0])\n",
    "rot_thp_vin = joblib.load(lista_thp_rotulo[2])\n",
    "rot_thp_soma = np.asarray(list(rot_thp_cem) + list(rot_thp_set) + list(rot_thp_ciq) + list(rot_thp_vin)) #somando os valores de cada lista\n",
    "rot_thp_soma.shape"
   ]
  },
  {
   "cell_type": "markdown",
   "metadata": {
    "id": "9O1Nsm8UYRcT"
   },
   "source": [
    "## DataFrame THP1"
   ]
  },
  {
   "cell_type": "code",
   "execution_count": 10,
   "metadata": {
    "colab": {
     "base_uri": "https://localhost:8080/",
     "height": 299
    },
    "id": "e8YG_Y_PYGyS",
    "outputId": "c5700ae3-888f-4ecb-9965-4bc6def81cb7"
   },
   "outputs": [
    {
     "name": "stdout",
     "output_type": "stream",
     "text": [
      "<class 'pandas.core.frame.DataFrame'>\n",
      "RangeIndex: 1696 entries, 0 to 1695\n",
      "Columns: 120000 entries, 0 to 119999\n",
      "dtypes: uint8(120000)\n",
      "memory usage: 194.1 MB\n"
     ]
    }
   ],
   "source": [
    "df_imagens_thp = pd.DataFrame(imagem_flat_thp)\n",
    "df_imagens_thp.info()"
   ]
  },
  {
   "cell_type": "markdown",
   "metadata": {
    "id": "XbxpppJGYg6N"
   },
   "source": [
    "## Incluindo rótulo"
   ]
  },
  {
   "cell_type": "code",
   "execution_count": 11,
   "metadata": {
    "colab": {
     "base_uri": "https://localhost:8080/",
     "height": 299
    },
    "id": "q9IGPKHwYfsp",
    "outputId": "61c17202-9bf1-44e4-c294-d3707773795a"
   },
   "outputs": [
    {
     "name": "stdout",
     "output_type": "stream",
     "text": [
      "<class 'pandas.core.frame.DataFrame'>\n",
      "RangeIndex: 1696 entries, 0 to 1695\n",
      "Columns: 120001 entries, 0 to Rótulo_Y\n",
      "dtypes: object(1), uint8(120000)\n",
      "memory usage: 194.1+ MB\n"
     ]
    }
   ],
   "source": [
    "df_imagens_thp[\"Rótulo_Y\"] = rot_thp_soma\n",
    "df_imagens_thp.info()"
   ]
  },
  {
   "cell_type": "markdown",
   "metadata": {
    "id": "b52G70UcZrRC",
    "jp-MarkdownHeadingCollapsed": true,
    "tags": []
   },
   "source": [
    "# SH_SY5Y"
   ]
  },
  {
   "cell_type": "code",
   "execution_count": 13,
   "metadata": {},
   "outputs": [
    {
     "name": "stdout",
     "output_type": "stream",
     "text": [
      "-------------\n",
      "-=< Lista >=-\n",
      "-------------\n",
      "0 -> ./../results/Classificação_imagens_DOC_CNN/lista_img_camp_clar_50_resized_regressao_SH_SY5Y2022-10-25.gz\n",
      "1 -> ./../results/Classificação_imagens_DOC_CNN/lista_img_camp_clar_25_resized_regressao_SH_SY5Y2022-10-25.gz\n",
      "2 -> ./../results/Classificação_imagens_DOC_CNN/lista_img_camp_clar_75_resized_regressao_SH_SY5Y2022-10-25.gz\n",
      "3 -> ./../results/Classificação_imagens_DOC_CNN/lista_img_camp_clar_100_resized_regressao_SH_SY5Y2022-10-25.gz\n"
     ]
    }
   ],
   "source": [
    "lista_sh_img = [diretorio+i for i in lista_dados if \"SH_SY5Y\" in i and \"img\" in i]\n",
    "lista_sh_rotulo = [diretorio+i for i in lista_dados if \"SH_SY5Y\" in i and \"rotulo\" in i]\n",
    "printLis(lista_sh_img)"
   ]
  },
  {
   "cell_type": "code",
   "execution_count": 14,
   "metadata": {
    "colab": {
     "base_uri": "https://localhost:8080/"
    },
    "id": "zXJj31r4Z1Bt",
    "outputId": "aa1d1f7b-f36a-445f-e93d-1c855fb130cf"
   },
   "outputs": [
    {
     "data": {
      "text/plain": [
       "(1168, 200, 200, 3)"
      ]
     },
     "execution_count": 14,
     "metadata": {},
     "output_type": "execute_result"
    }
   ],
   "source": [
    "for i in lista_sh_img:\n",
    "    if \"_25_\" in i:\n",
    "        imagem_sh_vin = joblib.load(i)\n",
    "    elif \"_50_\" in i:\n",
    "        imagem_sh_ciq = joblib.load(i)\n",
    "    elif \"_75_\" in i:\n",
    "        imagem_sh_set = joblib.load(i)\n",
    "    elif \"_100_\" in i:\n",
    "        imagem_sh_cem = joblib.load(i)\n",
    "imagem_sh_soma = np.asarray(list(imagem_sh_cem) + list(imagem_sh_set) + list(imagem_sh_ciq) + list(imagem_sh_vin)) #somando os valores de cada lista\n",
    "imagem_sh_soma.shape"
   ]
  },
  {
   "cell_type": "markdown",
   "metadata": {
    "id": "iEYA72BSadNn"
   },
   "source": [
    "## Rótulo SH_SY5Y"
   ]
  },
  {
   "cell_type": "code",
   "execution_count": 15,
   "metadata": {
    "colab": {
     "base_uri": "https://localhost:8080/"
    },
    "id": "zXJj31r4Z1Bt",
    "outputId": "aa1d1f7b-f36a-445f-e93d-1c855fb130cf"
   },
   "outputs": [
    {
     "data": {
      "text/plain": [
       "(1168,)"
      ]
     },
     "execution_count": 15,
     "metadata": {},
     "output_type": "execute_result"
    }
   ],
   "source": [
    "for i in lista_sh_rotulo:\n",
    "    if \"_25_\" in i:\n",
    "        rot_sh_vin = joblib.load(i)\n",
    "    elif \"_50_\" in i:\n",
    "        rot_sh_ciq = joblib.load(i)\n",
    "    elif \"_75_\" in i:\n",
    "        rot_sh_set = joblib.load(i)\n",
    "    elif \"_100_\" in i:\n",
    "        rot_sh_cem = joblib.load(i)\n",
    "rot_sh_soma = np.asarray(list(rot_sh_cem) + list(rot_sh_set) + list(rot_sh_ciq) + list(rot_sh_vin)) #somando os valores de cada lista\n",
    "rot_sh_soma.shape"
   ]
  },
  {
   "cell_type": "code",
   "execution_count": 16,
   "metadata": {
    "colab": {
     "base_uri": "https://localhost:8080/"
    },
    "id": "HLUNmogRa1yi",
    "outputId": "558a0ebb-07ee-46bd-c718-a9e216d97544"
   },
   "outputs": [
    {
     "data": {
      "text/plain": [
       "1168"
      ]
     },
     "execution_count": 16,
     "metadata": {},
     "output_type": "execute_result"
    }
   ],
   "source": [
    "# Pegando o número de imagens\n",
    "num_de_imagens = imagem_sh_soma.shape[0]\n",
    "num_de_imagens"
   ]
  },
  {
   "cell_type": "code",
   "execution_count": 17,
   "metadata": {
    "colab": {
     "base_uri": "https://localhost:8080/"
    },
    "id": "nwLn621aa933",
    "outputId": "f1663a28-7d93-4a51-fca3-b24deadbb445"
   },
   "outputs": [
    {
     "data": {
      "text/plain": [
       "(1168, 120000)"
      ]
     },
     "execution_count": 17,
     "metadata": {},
     "output_type": "execute_result"
    }
   ],
   "source": [
    "# Modificando o formato do numpy para que cada imagem tenha apenas 1-D (Flatten)\n",
    "imagem_flat_sh = imagem_sh_soma.reshape(num_de_imagens, -1)\n",
    "imagem_flat_sh.shape"
   ]
  },
  {
   "cell_type": "markdown",
   "metadata": {
    "id": "20wVJe4MbGi0"
   },
   "source": [
    "## DataFrame SH-SY5Y"
   ]
  },
  {
   "cell_type": "code",
   "execution_count": 18,
   "metadata": {
    "colab": {
     "base_uri": "https://localhost:8080/",
     "height": 299
    },
    "id": "x-yAKRRAbKf8",
    "outputId": "a129b80b-b15d-490b-ed27-fda6d72f252e"
   },
   "outputs": [
    {
     "name": "stdout",
     "output_type": "stream",
     "text": [
      "<class 'pandas.core.frame.DataFrame'>\n",
      "RangeIndex: 1168 entries, 0 to 1167\n",
      "Columns: 120000 entries, 0 to 119999\n",
      "dtypes: uint8(120000)\n",
      "memory usage: 133.7 MB\n"
     ]
    }
   ],
   "source": [
    "df_imagens_sh = pd.DataFrame(imagem_flat_sh)\n",
    "df_imagens_sh.info()"
   ]
  },
  {
   "cell_type": "markdown",
   "metadata": {
    "id": "LSdh-5imb0-T"
   },
   "source": [
    "## Incluindo rótulo"
   ]
  },
  {
   "cell_type": "code",
   "execution_count": 19,
   "metadata": {
    "colab": {
     "base_uri": "https://localhost:8080/",
     "height": 299
    },
    "id": "75THut8wb2k6",
    "outputId": "0a9644a9-75ff-4f7c-b912-2a2b09c401d2"
   },
   "outputs": [
    {
     "name": "stdout",
     "output_type": "stream",
     "text": [
      "<class 'pandas.core.frame.DataFrame'>\n",
      "RangeIndex: 1168 entries, 0 to 1167\n",
      "Columns: 120001 entries, 0 to Rótulo_Y\n",
      "dtypes: object(1), uint8(120000)\n",
      "memory usage: 133.7+ MB\n"
     ]
    }
   ],
   "source": [
    "df_imagens_sh[\"Rótulo_Y\"] = rot_sh_soma\n",
    "df_imagens_sh.info()"
   ]
  },
  {
   "cell_type": "markdown",
   "metadata": {
    "id": "5Ng0GaRpc5Fm",
    "jp-MarkdownHeadingCollapsed": true,
    "tags": []
   },
   "source": [
    "# A172"
   ]
  },
  {
   "cell_type": "markdown",
   "metadata": {
    "id": "mBuO0NB_dCg4"
   },
   "source": [
    "## Linhagem 172"
   ]
  },
  {
   "cell_type": "code",
   "execution_count": 21,
   "metadata": {},
   "outputs": [
    {
     "name": "stdout",
     "output_type": "stream",
     "text": [
      "-------------\n",
      "-=< Lista >=-\n",
      "-------------\n",
      "0 -> ./../results/Classificação_imagens_DOC_CNN/lista_img_camp_clar_75_resized_regressao_A1722022-10-25.gz\n",
      "1 -> ./../results/Classificação_imagens_DOC_CNN/lista_img_camp_clar_25_resized_regressao_A1722022-10-25.gz\n",
      "2 -> ./../results/Classificação_imagens_DOC_CNN/lista_img_camp_clar_50_resized_regressao_A1722022-10-25.gz\n",
      "3 -> ./../results/Classificação_imagens_DOC_CNN/lista_img_camp_clar_100_resized_regressao_A1722022-10-25.gz\n"
     ]
    }
   ],
   "source": [
    "lista_A172_img = [diretorio+i for i in lista_dados if \"A172\" in i and \"img\" in i]\n",
    "lista_A172_rotulo = [diretorio+i for i in lista_dados if \"A172\" in i and \"rotulo\" in i]\n",
    "printLis(lista_A172_img)"
   ]
  },
  {
   "cell_type": "code",
   "execution_count": 22,
   "metadata": {
    "colab": {
     "base_uri": "https://localhost:8080/"
    },
    "id": "zXJj31r4Z1Bt",
    "outputId": "aa1d1f7b-f36a-445f-e93d-1c855fb130cf"
   },
   "outputs": [
    {
     "data": {
      "text/plain": [
       "(1584, 200, 200, 3)"
      ]
     },
     "execution_count": 22,
     "metadata": {},
     "output_type": "execute_result"
    }
   ],
   "source": [
    "for i in lista_A172_img:\n",
    "    if \"_25_\" in i:\n",
    "        imagem_A172_vin = joblib.load(i)\n",
    "    elif \"_50_\" in i:\n",
    "        imagem_A172_ciq = joblib.load(i)\n",
    "    elif \"_75_\" in i:\n",
    "        imagem_A172_set = joblib.load(i)\n",
    "    elif \"_100_\" in i:\n",
    "        imagem_A172_cem = joblib.load(i)\n",
    "imagem_A172_soma = np.asarray(list(imagem_A172_cem) + list(imagem_A172_set) + list(imagem_A172_ciq) + list(imagem_A172_vin)) #somando os valores de cada lista\n",
    "imagem_A172_soma.shape"
   ]
  },
  {
   "cell_type": "markdown",
   "metadata": {
    "id": "7pKw8WjIeG8j"
   },
   "source": [
    "## Rótulo A172"
   ]
  },
  {
   "cell_type": "code",
   "execution_count": 23,
   "metadata": {
    "colab": {
     "base_uri": "https://localhost:8080/"
    },
    "id": "zXJj31r4Z1Bt",
    "outputId": "aa1d1f7b-f36a-445f-e93d-1c855fb130cf"
   },
   "outputs": [
    {
     "data": {
      "text/plain": [
       "(1584,)"
      ]
     },
     "execution_count": 23,
     "metadata": {},
     "output_type": "execute_result"
    }
   ],
   "source": [
    "for i in lista_A172_rotulo:\n",
    "    if \"_25_\" in i:\n",
    "        rot_A172_vin = joblib.load(i)\n",
    "    elif \"_50_\" in i:\n",
    "        rot_A172_ciq = joblib.load(i)\n",
    "    elif \"_75_\" in i:\n",
    "        rot_A172_set = joblib.load(i)\n",
    "    elif \"_100_\" in i:\n",
    "        rot_A172_cem = joblib.load(i)\n",
    "rot_A172_soma = np.asarray(list(rot_A172_cem) + list(rot_A172_set) + list(rot_A172_ciq) + list(rot_A172_vin)) #somando os valores de cada lista\n",
    "rot_A172_soma.shape"
   ]
  },
  {
   "cell_type": "code",
   "execution_count": 24,
   "metadata": {
    "colab": {
     "base_uri": "https://localhost:8080/"
    },
    "id": "h85aW2Fueb2J",
    "outputId": "02c80766-9eb1-4c98-83c6-b6b860fe844f"
   },
   "outputs": [
    {
     "data": {
      "text/plain": [
       "1584"
      ]
     },
     "execution_count": 24,
     "metadata": {},
     "output_type": "execute_result"
    }
   ],
   "source": [
    "# Pegando o número de imagens\n",
    "num_de_imagens = imagem_A172_soma.shape[0]\n",
    "num_de_imagens"
   ]
  },
  {
   "cell_type": "code",
   "execution_count": 25,
   "metadata": {
    "colab": {
     "base_uri": "https://localhost:8080/"
    },
    "id": "0qLlgswkfBfL",
    "outputId": "935df8d5-0ee4-4f3b-d9ca-160a5c263778"
   },
   "outputs": [
    {
     "data": {
      "text/plain": [
       "(1584, 120000)"
      ]
     },
     "execution_count": 25,
     "metadata": {},
     "output_type": "execute_result"
    }
   ],
   "source": [
    "# Modificando o formato do numpy para que cada imagem tenha apenas 1-D (Flatten)\n",
    "imagem_flat_A172 = imagem_A172_soma.reshape(num_de_imagens, -1)\n",
    "imagem_flat_A172.shape"
   ]
  },
  {
   "cell_type": "markdown",
   "metadata": {
    "id": "L602SPCmfn6q"
   },
   "source": [
    "## DataFrame A172"
   ]
  },
  {
   "cell_type": "code",
   "execution_count": 26,
   "metadata": {
    "colab": {
     "base_uri": "https://localhost:8080/",
     "height": 299
    },
    "id": "O5HZ_BGpfqRp",
    "outputId": "d660724f-d8e4-499a-b8ce-bcb5fc9a9909"
   },
   "outputs": [
    {
     "name": "stdout",
     "output_type": "stream",
     "text": [
      "<class 'pandas.core.frame.DataFrame'>\n",
      "RangeIndex: 1584 entries, 0 to 1583\n",
      "Columns: 120000 entries, 0 to 119999\n",
      "dtypes: uint8(120000)\n",
      "memory usage: 181.3 MB\n"
     ]
    }
   ],
   "source": [
    "df_imagens_A172 = pd.DataFrame(imagem_flat_A172)\n",
    "df_imagens_A172.info()"
   ]
  },
  {
   "cell_type": "code",
   "execution_count": 27,
   "metadata": {
    "colab": {
     "base_uri": "https://localhost:8080/",
     "height": 299
    },
    "id": "up2YfVAcf2QH",
    "outputId": "2ccb1068-07af-434f-a218-877a11aede02"
   },
   "outputs": [
    {
     "name": "stdout",
     "output_type": "stream",
     "text": [
      "<class 'pandas.core.frame.DataFrame'>\n",
      "RangeIndex: 1584 entries, 0 to 1583\n",
      "Columns: 120001 entries, 0 to Rótulo_Y\n",
      "dtypes: object(1), uint8(120000)\n",
      "memory usage: 181.3+ MB\n"
     ]
    }
   ],
   "source": [
    "df_imagens_A172['Rótulo_Y'] = rot_A172_soma\n",
    "df_imagens_A172.info()"
   ]
  },
  {
   "cell_type": "markdown",
   "metadata": {
    "id": "oJ9X6lR_hZ7G",
    "jp-MarkdownHeadingCollapsed": true,
    "tags": []
   },
   "source": [
    "# MAYV"
   ]
  },
  {
   "cell_type": "markdown",
   "metadata": {
    "id": "DaF-2YrAhO4i",
    "tags": []
   },
   "source": [
    "## MAYV Cell Line"
   ]
  },
  {
   "cell_type": "code",
   "execution_count": 28,
   "metadata": {},
   "outputs": [
    {
     "name": "stdout",
     "output_type": "stream",
     "text": [
      "-------------\n",
      "-=< Lista >=-\n",
      "-------------\n",
      "0 -> ./../results/Classificação_imagens_DOC_CNN/lista_img_camp_clar_50_resized_regressao_MAYV2022-10-25.gz\n",
      "1 -> ./../results/Classificação_imagens_DOC_CNN/lista_img_camp_clar_100_resized_regressao_MAYV2022-10-25.gz\n",
      "2 -> ./../results/Classificação_imagens_DOC_CNN/lista_img_camp_clar_25_resized_regressao_MAYV2022-10-25.gz\n",
      "3 -> ./../results/Classificação_imagens_DOC_CNN/lista_img_camp_clar_75_resized_regressao_MAYV2022-10-25.gz\n"
     ]
    }
   ],
   "source": [
    "lista_mayv_img = [diretorio+i for i in lista_dados if \"MAYV\" in i and \"img\" in i]\n",
    "lista_mayv_rotulo = [diretorio+i for i in lista_dados if \"MAYV\" in i and \"rotulo\" in i]\n",
    "printLis(lista_mayv_img)"
   ]
  },
  {
   "cell_type": "code",
   "execution_count": 29,
   "metadata": {
    "colab": {
     "base_uri": "https://localhost:8080/"
    },
    "id": "zXJj31r4Z1Bt",
    "outputId": "aa1d1f7b-f36a-445f-e93d-1c855fb130cf"
   },
   "outputs": [
    {
     "data": {
      "text/plain": [
       "(1280, 200, 200, 3)"
      ]
     },
     "execution_count": 29,
     "metadata": {},
     "output_type": "execute_result"
    }
   ],
   "source": [
    "for i in lista_mayv_img:\n",
    "    if \"_25_\" in i:\n",
    "        imagem_mayv_vin = joblib.load(i)\n",
    "    elif \"_50_\" in i:\n",
    "        imagem_mayv_ciq = joblib.load(i)\n",
    "    elif \"_75_\" in i:\n",
    "        imagem_mayv_set = joblib.load(i)\n",
    "    elif \"_100_\" in i:\n",
    "        imagem_mayv_cem = joblib.load(i)\n",
    "imagem_mayv_soma = np.asarray(list(imagem_mayv_cem) + list(imagem_mayv_set) + list(imagem_mayv_ciq) + list(imagem_mayv_vin)) #somando os valores de cada lista\n",
    "imagem_mayv_soma.shape"
   ]
  },
  {
   "cell_type": "markdown",
   "metadata": {
    "id": "3iW3latqh0Ye"
   },
   "source": [
    "## Rótulo MAYV"
   ]
  },
  {
   "cell_type": "code",
   "execution_count": 30,
   "metadata": {
    "colab": {
     "base_uri": "https://localhost:8080/"
    },
    "id": "zXJj31r4Z1Bt",
    "outputId": "aa1d1f7b-f36a-445f-e93d-1c855fb130cf"
   },
   "outputs": [
    {
     "data": {
      "text/plain": [
       "(1280,)"
      ]
     },
     "execution_count": 30,
     "metadata": {},
     "output_type": "execute_result"
    }
   ],
   "source": [
    "for i in lista_mayv_rotulo:\n",
    "    if \"_25_\" in i:\n",
    "        rot_mayv_vin = joblib.load(i)\n",
    "    elif \"_50_\" in i:\n",
    "        rot_mayv_ciq = joblib.load(i)\n",
    "    elif \"_75_\" in i:\n",
    "        rot_mayv_set = joblib.load(i)\n",
    "    elif \"_100_\" in i:\n",
    "        rot_mayv_cem = joblib.load(i)\n",
    "rot_mayv_soma = np.asarray(list(rot_mayv_cem) + list(rot_mayv_set) + list(rot_mayv_ciq) + list(rot_mayv_vin)) #somando os valores de cada lista\n",
    "rot_mayv_soma.shape"
   ]
  },
  {
   "cell_type": "code",
   "execution_count": 31,
   "metadata": {
    "colab": {
     "base_uri": "https://localhost:8080/"
    },
    "id": "WPBvFxKgiDoz",
    "outputId": "b28f19d1-e05c-4f50-b4b1-02acb601e0ff"
   },
   "outputs": [
    {
     "data": {
      "text/plain": [
       "1280"
      ]
     },
     "execution_count": 31,
     "metadata": {},
     "output_type": "execute_result"
    }
   ],
   "source": [
    "# Pegando o número de imagens\n",
    "num_de_imagens = imagem_mayv_soma.shape[0]\n",
    "num_de_imagens"
   ]
  },
  {
   "cell_type": "code",
   "execution_count": 32,
   "metadata": {
    "colab": {
     "base_uri": "https://localhost:8080/"
    },
    "id": "r_P55fpLiTSu",
    "outputId": "ef9abe45-8faa-46e1-949d-5d6b1003d980"
   },
   "outputs": [
    {
     "data": {
      "text/plain": [
       "(1280, 120000)"
      ]
     },
     "execution_count": 32,
     "metadata": {},
     "output_type": "execute_result"
    }
   ],
   "source": [
    "# Modificando o formato do numpy para que cada imagem tenha apenas 1-D (Flatten)\n",
    "imagem_flat_mayv = imagem_mayv_soma.reshape(num_de_imagens, -1)\n",
    "imagem_flat_mayv.shape"
   ]
  },
  {
   "cell_type": "markdown",
   "metadata": {
    "id": "_I8FY_S_iYMm"
   },
   "source": [
    "## DataFrame MAYV"
   ]
  },
  {
   "cell_type": "code",
   "execution_count": 33,
   "metadata": {
    "colab": {
     "base_uri": "https://localhost:8080/",
     "height": 299
    },
    "id": "j36Uf2ERiaOo",
    "outputId": "5eca5e1c-2949-4afb-cfcd-f711d453420a"
   },
   "outputs": [
    {
     "name": "stdout",
     "output_type": "stream",
     "text": [
      "<class 'pandas.core.frame.DataFrame'>\n",
      "RangeIndex: 1280 entries, 0 to 1279\n",
      "Columns: 120000 entries, 0 to 119999\n",
      "dtypes: uint8(120000)\n",
      "memory usage: 146.5 MB\n"
     ]
    }
   ],
   "source": [
    "df_imagens_mayv = pd.DataFrame(imagem_flat_mayv)\n",
    "df_imagens_mayv.info()"
   ]
  },
  {
   "cell_type": "code",
   "execution_count": 34,
   "metadata": {
    "colab": {
     "base_uri": "https://localhost:8080/",
     "height": 299
    },
    "id": "_CL3o0EWiXC8",
    "outputId": "40e7deb7-29c0-4566-856f-4bbe3e18470c"
   },
   "outputs": [
    {
     "name": "stdout",
     "output_type": "stream",
     "text": [
      "<class 'pandas.core.frame.DataFrame'>\n",
      "RangeIndex: 1280 entries, 0 to 1279\n",
      "Columns: 120001 entries, 0 to Rótulo_Y\n",
      "dtypes: object(1), uint8(120000)\n",
      "memory usage: 146.5+ MB\n"
     ]
    }
   ],
   "source": [
    "df_imagens_mayv['Rótulo_Y'] = rot_mayv_soma\n",
    "df_imagens_mayv.info()"
   ]
  },
  {
   "cell_type": "markdown",
   "metadata": {
    "id": "Ce6QvgAbi4q_",
    "jp-MarkdownHeadingCollapsed": true,
    "tags": []
   },
   "source": [
    "# DENV"
   ]
  },
  {
   "cell_type": "markdown",
   "metadata": {
    "id": "YtRVAJdPi6TV"
   },
   "source": [
    "## DENV Cell Line"
   ]
  },
  {
   "cell_type": "code",
   "execution_count": 35,
   "metadata": {},
   "outputs": [
    {
     "name": "stdout",
     "output_type": "stream",
     "text": [
      "-------------\n",
      "-=< Lista >=-\n",
      "-------------\n",
      "0 -> ./../results/Classificação_imagens_DOC_CNN/lista_img_camp_clar_75_resized_regressao_mAb_DENV12022-10-25.gz\n",
      "1 -> ./../results/Classificação_imagens_DOC_CNN/lista_img_camp_clar_100_resized_regressao_mAb_DENV12022-10-25.gz\n",
      "2 -> ./../results/Classificação_imagens_DOC_CNN/lista_img_camp_clar_25_resized_regressao_mAb_DENV12022-10-25.gz\n",
      "3 -> ./../results/Classificação_imagens_DOC_CNN/lista_img_camp_clar_50_resized_regressao_mAb_DENV12022-10-25.gz\n"
     ]
    }
   ],
   "source": [
    "lista_denv_img = [diretorio+i for i in lista_dados if \"mAb_DENV\" in i and \"img\" in i]\n",
    "lista_denv_rotulo = [diretorio+i for i in lista_dados if \"mAb_DENV\" in i and \"rotulo\" in i]\n",
    "printLis(lista_denv_img)"
   ]
  },
  {
   "cell_type": "code",
   "execution_count": 36,
   "metadata": {
    "colab": {
     "base_uri": "https://localhost:8080/"
    },
    "id": "zXJj31r4Z1Bt",
    "outputId": "aa1d1f7b-f36a-445f-e93d-1c855fb130cf"
   },
   "outputs": [
    {
     "data": {
      "text/plain": [
       "(1520, 200, 200, 3)"
      ]
     },
     "execution_count": 36,
     "metadata": {},
     "output_type": "execute_result"
    }
   ],
   "source": [
    "for i in lista_denv_img:\n",
    "    if \"_25_\" in i:\n",
    "        imagem_denv_vin = joblib.load(i)\n",
    "    elif \"_50_\" in i:\n",
    "        imagem_denv_ciq = joblib.load(i)\n",
    "    elif \"_75_\" in i:\n",
    "        imagem_denv_set = joblib.load(i)\n",
    "    elif \"_100_\" in i:\n",
    "        imagem_denv_cem = joblib.load(i)\n",
    "imagem_denv_soma = np.asarray(list(imagem_denv_cem) + list(imagem_denv_set) + list(imagem_denv_ciq) + list(imagem_denv_vin)) #somando os valores de cada lista\n",
    "imagem_denv_soma.shape"
   ]
  },
  {
   "cell_type": "markdown",
   "metadata": {
    "id": "y9oTzUd1jQ0M"
   },
   "source": [
    "## Rótulo DENV"
   ]
  },
  {
   "cell_type": "code",
   "execution_count": 37,
   "metadata": {
    "colab": {
     "base_uri": "https://localhost:8080/"
    },
    "id": "zXJj31r4Z1Bt",
    "outputId": "aa1d1f7b-f36a-445f-e93d-1c855fb130cf"
   },
   "outputs": [
    {
     "data": {
      "text/plain": [
       "(1520,)"
      ]
     },
     "execution_count": 37,
     "metadata": {},
     "output_type": "execute_result"
    }
   ],
   "source": [
    "for i in lista_denv_rotulo:\n",
    "    if \"_25_\" in i:\n",
    "        rot_denv_vin = joblib.load(i)\n",
    "    elif \"_50_\" in i:\n",
    "        rot_denv_ciq = joblib.load(i)\n",
    "    elif \"_75_\" in i:\n",
    "        rot_denv_set = joblib.load(i)\n",
    "    elif \"_100_\" in i:\n",
    "        rot_denv_cem = joblib.load(i)\n",
    "rot_denv_soma = np.asarray(list(rot_denv_cem) + list(rot_denv_set) + list(rot_denv_ciq) + list(rot_denv_vin)) #somando os valores de cada lista\n",
    "rot_denv_soma.shape"
   ]
  },
  {
   "cell_type": "code",
   "execution_count": 38,
   "metadata": {
    "colab": {
     "base_uri": "https://localhost:8080/"
    },
    "id": "9A9idSNojNHF",
    "outputId": "22fc2818-1aa5-4696-affc-e76167396d2a"
   },
   "outputs": [
    {
     "data": {
      "text/plain": [
       "1520"
      ]
     },
     "execution_count": 38,
     "metadata": {},
     "output_type": "execute_result"
    }
   ],
   "source": [
    "# Pegando o número de imagens\n",
    "num_de_imagens = imagem_denv_soma.shape[0]\n",
    "num_de_imagens"
   ]
  },
  {
   "cell_type": "code",
   "execution_count": 39,
   "metadata": {
    "colab": {
     "base_uri": "https://localhost:8080/"
    },
    "id": "mTmRL51kj3To",
    "outputId": "57ca6c56-0645-4f60-e163-afbfaec0328f"
   },
   "outputs": [
    {
     "data": {
      "text/plain": [
       "(1520, 120000)"
      ]
     },
     "execution_count": 39,
     "metadata": {},
     "output_type": "execute_result"
    }
   ],
   "source": [
    "# Modificando o formato do numpy para que cada imagem tenha apenas 1-D (Flatten)\n",
    "imagem_flat_denv = imagem_denv_soma.reshape(num_de_imagens, -1)\n",
    "imagem_flat_denv.shape"
   ]
  },
  {
   "cell_type": "markdown",
   "metadata": {
    "id": "HTDbfFlOj-4Q"
   },
   "source": [
    "## DataFrame Denv"
   ]
  },
  {
   "cell_type": "code",
   "execution_count": 40,
   "metadata": {
    "colab": {
     "base_uri": "https://localhost:8080/",
     "height": 299
    },
    "id": "ztIIp8ROj94x",
    "outputId": "ee8237eb-5d02-4f1e-cd7c-2df7875f4e7b"
   },
   "outputs": [
    {
     "name": "stdout",
     "output_type": "stream",
     "text": [
      "<class 'pandas.core.frame.DataFrame'>\n",
      "RangeIndex: 1520 entries, 0 to 1519\n",
      "Columns: 120000 entries, 0 to 119999\n",
      "dtypes: uint8(120000)\n",
      "memory usage: 174.0 MB\n"
     ]
    }
   ],
   "source": [
    "df_imagens_denv = pd.DataFrame(imagem_flat_denv)\n",
    "df_imagens_denv.info()"
   ]
  },
  {
   "cell_type": "code",
   "execution_count": 41,
   "metadata": {
    "colab": {
     "base_uri": "https://localhost:8080/",
     "height": 299
    },
    "id": "c4hDfFdukK48",
    "outputId": "8bb5c963-e5a6-4c02-b2ff-c11904f7223a"
   },
   "outputs": [
    {
     "name": "stdout",
     "output_type": "stream",
     "text": [
      "<class 'pandas.core.frame.DataFrame'>\n",
      "RangeIndex: 1520 entries, 0 to 1519\n",
      "Columns: 120001 entries, 0 to Rótulo_Y\n",
      "dtypes: object(1), uint8(120000)\n",
      "memory usage: 174.0+ MB\n"
     ]
    }
   ],
   "source": [
    "df_imagens_denv['Rótulo_Y'] = rot_denv_soma\n",
    "df_imagens_denv.info()"
   ]
  },
  {
   "cell_type": "markdown",
   "metadata": {
    "id": "01fwZ9AGle2h",
    "jp-MarkdownHeadingCollapsed": true,
    "tags": []
   },
   "source": [
    "# Vero6"
   ]
  },
  {
   "cell_type": "markdown",
   "metadata": {
    "id": "HFXa_XkRlmEH"
   },
   "source": [
    "## Vero6 Cell Line"
   ]
  },
  {
   "cell_type": "code",
   "execution_count": 44,
   "metadata": {},
   "outputs": [
    {
     "name": "stdout",
     "output_type": "stream",
     "text": [
      "-------------\n",
      "-=< Lista >=-\n",
      "-------------\n",
      "0 -> ./../results/Classificação_imagens_DOC_CNN/Cópia de lista_img_camp_clar_25_resized_regressao_VERO62022-10-24.gz\n",
      "1 -> ./../results/Classificação_imagens_DOC_CNN/Cópia de lista_img_camp_clar_75_resized_regressao_VERO62022-10-24.gz\n",
      "2 -> ./../results/Classificação_imagens_DOC_CNN/Cópia de lista_img_camp_clar_100_resized_regressao_VERO62022-10-24.gz\n",
      "3 -> ./../results/Classificação_imagens_DOC_CNN/Cópia de lista_img_camp_clar_50_resized_regressao_VERO62022-10-24.gz\n"
     ]
    }
   ],
   "source": [
    "lista_vero_img = [diretorio+i for i in lista_dados if \"VERO\" in i and \"img\" in i]\n",
    "lista_vero_rotulo = [diretorio+i for i in lista_dados if \"VERO\" in i and \"rotulo\" in i]\n",
    "printLis(lista_vero_img)"
   ]
  },
  {
   "cell_type": "code",
   "execution_count": 45,
   "metadata": {
    "colab": {
     "base_uri": "https://localhost:8080/"
    },
    "id": "zXJj31r4Z1Bt",
    "outputId": "aa1d1f7b-f36a-445f-e93d-1c855fb130cf"
   },
   "outputs": [
    {
     "data": {
      "text/plain": [
       "(1792, 200, 200, 3)"
      ]
     },
     "execution_count": 45,
     "metadata": {},
     "output_type": "execute_result"
    }
   ],
   "source": [
    "for i in lista_vero_img:\n",
    "    if \"_25_\" in i:\n",
    "        imagem_vero_vin = joblib.load(i)\n",
    "    elif \"_50_\" in i:\n",
    "        imagem_vero_ciq = joblib.load(i)\n",
    "    elif \"_75_\" in i:\n",
    "        imagem_vero_set = joblib.load(i)\n",
    "    elif \"_100_\" in i:\n",
    "        imagem_vero_cem = joblib.load(i)\n",
    "imagem_vero_soma = np.asarray(list(imagem_vero_cem) + list(imagem_vero_set) + list(imagem_vero_ciq) + list(imagem_vero_vin)) #somando os valores de cada lista\n",
    "imagem_vero_soma.shape"
   ]
  },
  {
   "cell_type": "markdown",
   "metadata": {
    "id": "eTnEbus0mMk1"
   },
   "source": [
    "## Rótulo Vero6"
   ]
  },
  {
   "cell_type": "code",
   "execution_count": 46,
   "metadata": {
    "colab": {
     "base_uri": "https://localhost:8080/"
    },
    "id": "zXJj31r4Z1Bt",
    "outputId": "aa1d1f7b-f36a-445f-e93d-1c855fb130cf"
   },
   "outputs": [
    {
     "data": {
      "text/plain": [
       "(1792,)"
      ]
     },
     "execution_count": 46,
     "metadata": {},
     "output_type": "execute_result"
    }
   ],
   "source": [
    "for i in lista_vero_rotulo:\n",
    "    if \"_25_\" in i:\n",
    "        rot_vero_vin = joblib.load(i)\n",
    "    elif \"_50_\" in i:\n",
    "        rot_vero_ciq = joblib.load(i)\n",
    "    elif \"_75_\" in i:\n",
    "        rot_vero_set = joblib.load(i)\n",
    "    elif \"_100_\" in i:\n",
    "        rot_vero_cem = joblib.load(i)\n",
    "rot_vero_soma = np.asarray(list(rot_vero_cem) + list(rot_vero_set) + list(rot_vero_ciq) + list(rot_vero_vin)) #somando os valores de cada lista\n",
    "rot_vero_soma.shape"
   ]
  },
  {
   "cell_type": "code",
   "execution_count": 47,
   "metadata": {
    "colab": {
     "base_uri": "https://localhost:8080/"
    },
    "id": "mKGe73PumtfP",
    "outputId": "fcc00eac-6938-4d3e-fdc9-9c616a2a3026"
   },
   "outputs": [
    {
     "data": {
      "text/plain": [
       "1792"
      ]
     },
     "execution_count": 47,
     "metadata": {},
     "output_type": "execute_result"
    }
   ],
   "source": [
    "# Pegando o número de imagens\n",
    "num_de_imagens = imagem_vero_soma.shape[0]\n",
    "num_de_imagens"
   ]
  },
  {
   "cell_type": "code",
   "execution_count": 48,
   "metadata": {
    "colab": {
     "base_uri": "https://localhost:8080/"
    },
    "id": "MNAjNGWfmyL6",
    "outputId": "5bcf0d4d-d5ec-4d77-cb13-fe5512a1873b"
   },
   "outputs": [
    {
     "data": {
      "text/plain": [
       "(1792, 120000)"
      ]
     },
     "execution_count": 48,
     "metadata": {},
     "output_type": "execute_result"
    }
   ],
   "source": [
    "# Modificando o formato do numpy para que cada imagem tenha apenas 1-D (Flatten)\n",
    "imagem_flat_vero = imagem_vero_soma.reshape(num_de_imagens, -1)\n",
    "imagem_flat_vero.shape"
   ]
  },
  {
   "cell_type": "markdown",
   "metadata": {
    "id": "ks4a79Egm7Mu"
   },
   "source": [
    "## DataFrame Vero6"
   ]
  },
  {
   "cell_type": "code",
   "execution_count": 49,
   "metadata": {
    "colab": {
     "base_uri": "https://localhost:8080/",
     "height": 299
    },
    "id": "ll9BQPLTm9Gy",
    "outputId": "ce7cb06d-739d-4401-9185-5bedbbf723c0"
   },
   "outputs": [
    {
     "name": "stdout",
     "output_type": "stream",
     "text": [
      "<class 'pandas.core.frame.DataFrame'>\n",
      "RangeIndex: 1792 entries, 0 to 1791\n",
      "Columns: 120000 entries, 0 to 119999\n",
      "dtypes: uint8(120000)\n",
      "memory usage: 205.1 MB\n"
     ]
    }
   ],
   "source": [
    "df_imagens_vero = pd.DataFrame(imagem_flat_vero)\n",
    "df_imagens_vero.info()"
   ]
  },
  {
   "cell_type": "code",
   "execution_count": 50,
   "metadata": {
    "colab": {
     "base_uri": "https://localhost:8080/",
     "height": 299
    },
    "id": "8pOE9plAnEJs",
    "outputId": "9ea08ded-5ec4-4b52-c32c-4c41609f10f5"
   },
   "outputs": [
    {
     "name": "stdout",
     "output_type": "stream",
     "text": [
      "<class 'pandas.core.frame.DataFrame'>\n",
      "RangeIndex: 1792 entries, 0 to 1791\n",
      "Columns: 120001 entries, 0 to Rótulo_Y\n",
      "dtypes: object(1), uint8(120000)\n",
      "memory usage: 205.1+ MB\n"
     ]
    }
   ],
   "source": [
    "df_imagens_vero['Rótulo_Y'] = rot_vero_soma\n",
    "df_imagens_vero.info()"
   ]
  },
  {
   "cell_type": "markdown",
   "metadata": {
    "id": "dTAVNYJhz2Yp",
    "jp-MarkdownHeadingCollapsed": true,
    "tags": []
   },
   "source": [
    "# A549"
   ]
  },
  {
   "cell_type": "markdown",
   "metadata": {
    "id": "gYLeFoEtz4Wg"
   },
   "source": [
    "## A549 Cell Line"
   ]
  },
  {
   "cell_type": "code",
   "execution_count": 51,
   "metadata": {},
   "outputs": [
    {
     "name": "stdout",
     "output_type": "stream",
     "text": [
      "-------------\n",
      "-=< Lista >=-\n",
      "-------------\n",
      "0 -> ./../results/Classificação_imagens_DOC_CNN/lista_img_camp_clar_75_resized_regressao_A5492022-11-3.gz\n",
      "1 -> ./../results/Classificação_imagens_DOC_CNN/lista_img_camp_clar_25_resized_regressao_A5492022-11-3.gz\n",
      "2 -> ./../results/Classificação_imagens_DOC_CNN/lista_img_camp_clar_50_resized_regressao_A5492022-11-3.gz\n",
      "3 -> ./../results/Classificação_imagens_DOC_CNN/lista_img_camp_clar_100_resized_regressao_A5492022-11-3.gz\n"
     ]
    }
   ],
   "source": [
    "lista_A549_img = [diretorio+i for i in lista_dados if \"A549\" in i and \"img\" in i]\n",
    "lista_A549_rotulo = [diretorio+i for i in lista_dados if \"A549\" in i and \"rotulo\" in i]\n",
    "printLis(lista_A549_img)"
   ]
  },
  {
   "cell_type": "code",
   "execution_count": 52,
   "metadata": {
    "colab": {
     "base_uri": "https://localhost:8080/"
    },
    "id": "zXJj31r4Z1Bt",
    "outputId": "aa1d1f7b-f36a-445f-e93d-1c855fb130cf"
   },
   "outputs": [
    {
     "data": {
      "text/plain": [
       "(1136, 200, 200, 3)"
      ]
     },
     "execution_count": 52,
     "metadata": {},
     "output_type": "execute_result"
    }
   ],
   "source": [
    "for i in lista_A549_img:\n",
    "    if \"_25_\" in i:\n",
    "        imagem_A549_vin = joblib.load(i)\n",
    "    elif \"_50_\" in i:\n",
    "        imagem_A549_ciq = joblib.load(i)\n",
    "    elif \"_75_\" in i:\n",
    "        imagem_A549_set = joblib.load(i)\n",
    "    elif \"_100_\" in i:\n",
    "        imagem_A549_cem = joblib.load(i)\n",
    "imagem_A549_soma = np.asarray(list(imagem_A549_cem) + list(imagem_A549_set) + list(imagem_A549_ciq) + list(imagem_A549_vin)) #somando os valores de cada lista\n",
    "imagem_A549_soma.shape"
   ]
  },
  {
   "cell_type": "markdown",
   "metadata": {
    "id": "eTnEbus0mMk1"
   },
   "source": [
    "## Rótulo A549"
   ]
  },
  {
   "cell_type": "code",
   "execution_count": 53,
   "metadata": {
    "colab": {
     "base_uri": "https://localhost:8080/"
    },
    "id": "zXJj31r4Z1Bt",
    "outputId": "aa1d1f7b-f36a-445f-e93d-1c855fb130cf"
   },
   "outputs": [
    {
     "data": {
      "text/plain": [
       "(1136,)"
      ]
     },
     "execution_count": 53,
     "metadata": {},
     "output_type": "execute_result"
    }
   ],
   "source": [
    "for i in lista_A549_rotulo:\n",
    "    if \"_25_\" in i:\n",
    "        rot_A549_vin = joblib.load(i)\n",
    "    elif \"_50_\" in i:\n",
    "        rot_A549_ciq = joblib.load(i)\n",
    "    elif \"_75_\" in i:\n",
    "        rot_A549_set = joblib.load(i)\n",
    "    elif \"_100_\" in i:\n",
    "        rot_A549_cem = joblib.load(i)\n",
    "rot_A549_soma = np.asarray(list(rot_A549_cem) + list(rot_A549_set) + list(rot_A549_ciq) + list(rot_A549_vin)) #somando os valores de cada lista\n",
    "rot_A549_soma.shape"
   ]
  },
  {
   "cell_type": "code",
   "execution_count": 54,
   "metadata": {
    "colab": {
     "base_uri": "https://localhost:8080/"
    },
    "id": "0ee9iHCZ9ZsU",
    "outputId": "fe77d865-a830-4303-debf-4f4d87426769"
   },
   "outputs": [
    {
     "data": {
      "text/plain": [
       "1136"
      ]
     },
     "execution_count": 54,
     "metadata": {},
     "output_type": "execute_result"
    }
   ],
   "source": [
    "# Pegando o número de imagens\n",
    "num_de_imagens = imagem_A549_soma.shape[0]\n",
    "num_de_imagens"
   ]
  },
  {
   "cell_type": "code",
   "execution_count": 55,
   "metadata": {
    "colab": {
     "base_uri": "https://localhost:8080/"
    },
    "id": "zBEJX0U59l0l",
    "outputId": "4955c06f-fe6c-478f-b45d-94783a74eeb0"
   },
   "outputs": [
    {
     "data": {
      "text/plain": [
       "(1136, 120000)"
      ]
     },
     "execution_count": 55,
     "metadata": {},
     "output_type": "execute_result"
    }
   ],
   "source": [
    "# Modificando o formato do numpy para que cada imagem tenha apenas 1-D (Flatten)\n",
    "imagem_flat_A549 = imagem_A549_soma.reshape(num_de_imagens, -1)\n",
    "imagem_flat_A549.shape"
   ]
  },
  {
   "cell_type": "markdown",
   "metadata": {
    "id": "6wSfQ8do9w1y"
   },
   "source": [
    "## DataFrame A549"
   ]
  },
  {
   "cell_type": "code",
   "execution_count": 56,
   "metadata": {
    "colab": {
     "base_uri": "https://localhost:8080/",
     "height": 299
    },
    "id": "SZvnt3R09zCF",
    "outputId": "078104ed-f9c7-4eae-9404-78ef7edcf3a1"
   },
   "outputs": [
    {
     "name": "stdout",
     "output_type": "stream",
     "text": [
      "<class 'pandas.core.frame.DataFrame'>\n",
      "RangeIndex: 1136 entries, 0 to 1135\n",
      "Columns: 120000 entries, 0 to 119999\n",
      "dtypes: uint8(120000)\n",
      "memory usage: 130.0 MB\n"
     ]
    }
   ],
   "source": [
    "df_imagens_A549 = pd.DataFrame(imagem_flat_A549)\n",
    "df_imagens_A549.info()"
   ]
  },
  {
   "cell_type": "code",
   "execution_count": 57,
   "metadata": {
    "colab": {
     "base_uri": "https://localhost:8080/",
     "height": 299
    },
    "id": "yNoJyac393u2",
    "outputId": "00a2cbef-14f6-4ea3-c8b2-376d0573c1f1"
   },
   "outputs": [
    {
     "name": "stdout",
     "output_type": "stream",
     "text": [
      "<class 'pandas.core.frame.DataFrame'>\n",
      "RangeIndex: 1136 entries, 0 to 1135\n",
      "Columns: 120001 entries, 0 to Rótulo_Y\n",
      "dtypes: object(1), uint8(120000)\n",
      "memory usage: 130.0+ MB\n"
     ]
    }
   ],
   "source": [
    "df_imagens_A549['Rótulo_Y'] = rot_A549_soma\n",
    "df_imagens_A549.info()"
   ]
  },
  {
   "cell_type": "markdown",
   "metadata": {
    "id": "D9DRMgkf-BA_",
    "jp-MarkdownHeadingCollapsed": true,
    "tags": []
   },
   "source": [
    "# HUH7"
   ]
  },
  {
   "cell_type": "markdown",
   "metadata": {
    "id": "B1ApufcW-Cft"
   },
   "source": [
    "## HUH7 Cell Line"
   ]
  },
  {
   "cell_type": "code",
   "execution_count": 66,
   "metadata": {},
   "outputs": [
    {
     "name": "stdout",
     "output_type": "stream",
     "text": [
      "-------------\n",
      "-=< Lista >=-\n",
      "-------------\n",
      "0 -> ./../results/Classificação_imagens_DOC_CNN/lista_img_camp_clar_25_resized_regressao_HUH72022-11-3.gz\n",
      "1 -> ./../results/Classificação_imagens_DOC_CNN/lista_img_camp_clar_100_resized_regressao_HUH72022-11-3.gz\n",
      "2 -> ./../results/Classificação_imagens_DOC_CNN/lista_img_camp_clar_50_resized_regressao_HUH72022-11-3.gz\n",
      "3 -> ./../results/Classificação_imagens_DOC_CNN/lista_img_camp_clar_75_resized_regressao_HUH72022-11-3.gz\n"
     ]
    }
   ],
   "source": [
    "lista_Huh7_img = [diretorio+i for i in lista_dados if \"HUH7\" in i and \"img\" in i]\n",
    "lista_Huh7_rotulo = [diretorio+i for i in lista_dados if \"HUH7\" in i and \"rotulo\" in i]\n",
    "printLis(lista_Huh7_img)"
   ]
  },
  {
   "cell_type": "code",
   "execution_count": 63,
   "metadata": {
    "colab": {
     "base_uri": "https://localhost:8080/"
    },
    "id": "zXJj31r4Z1Bt",
    "outputId": "aa1d1f7b-f36a-445f-e93d-1c855fb130cf"
   },
   "outputs": [
    {
     "data": {
      "text/plain": [
       "(704, 200, 200, 3)"
      ]
     },
     "execution_count": 63,
     "metadata": {},
     "output_type": "execute_result"
    }
   ],
   "source": [
    "for i in lista_Huh7_img:\n",
    "    if \"_25_\" in i:\n",
    "        imagem_Huh7_vin = joblib.load(i)\n",
    "    elif \"_50_\" in i:\n",
    "        imagem_Huh7_ciq = joblib.load(i)\n",
    "    elif \"_75_\" in i:\n",
    "        imagem_Huh7_set = joblib.load(i)\n",
    "    elif \"_100_\" in i:\n",
    "        imagem_Huh7_cem = joblib.load(i)\n",
    "imagem_Huh7_soma = np.asarray(list(imagem_Huh7_cem) + list(imagem_Huh7_set) + list(imagem_Huh7_ciq) + list(imagem_Huh7_vin)) #somando os valores de cada lista\n",
    "imagem_Huh7_soma.shape"
   ]
  },
  {
   "cell_type": "markdown",
   "metadata": {
    "id": "eTnEbus0mMk1"
   },
   "source": [
    "## Rótulo Huh7"
   ]
  },
  {
   "cell_type": "code",
   "execution_count": 67,
   "metadata": {
    "colab": {
     "base_uri": "https://localhost:8080/"
    },
    "id": "zXJj31r4Z1Bt",
    "outputId": "aa1d1f7b-f36a-445f-e93d-1c855fb130cf"
   },
   "outputs": [
    {
     "data": {
      "text/plain": [
       "(704,)"
      ]
     },
     "execution_count": 67,
     "metadata": {},
     "output_type": "execute_result"
    }
   ],
   "source": [
    "for i in lista_Huh7_rotulo:\n",
    "    if \"_25_\" in i:\n",
    "        rot_Huh7_vin = joblib.load(i)\n",
    "    elif \"_50_\" in i:\n",
    "        rot_Huh7_ciq = joblib.load(i)\n",
    "    elif \"_75_\" in i:\n",
    "        rot_Huh7_set = joblib.load(i)\n",
    "    elif \"_100_\" in i:\n",
    "        rot_Huh7_cem = joblib.load(i)\n",
    "rot_Huh7_soma = np.asarray(list(rot_Huh7_cem) + list(rot_Huh7_set) + list(rot_Huh7_ciq) + list(rot_Huh7_vin)) #somando os valores de cada lista\n",
    "rot_Huh7_soma.shape"
   ]
  },
  {
   "cell_type": "code",
   "execution_count": 68,
   "metadata": {
    "colab": {
     "base_uri": "https://localhost:8080/"
    },
    "id": "voNgVRqG-yAR",
    "outputId": "ae742b8b-77f7-41ff-b7f3-2601261a21db"
   },
   "outputs": [
    {
     "data": {
      "text/plain": [
       "704"
      ]
     },
     "execution_count": 68,
     "metadata": {},
     "output_type": "execute_result"
    }
   ],
   "source": [
    "# Pegando o número de imagens\n",
    "num_de_imagens = imagem_Huh7_soma.shape[0]\n",
    "num_de_imagens"
   ]
  },
  {
   "cell_type": "code",
   "execution_count": 69,
   "metadata": {
    "colab": {
     "base_uri": "https://localhost:8080/"
    },
    "id": "UP7vq3Gt-_Jy",
    "outputId": "8448ff6c-b89a-4670-ed2f-1bacc65a8b52"
   },
   "outputs": [
    {
     "data": {
      "text/plain": [
       "(704, 120000)"
      ]
     },
     "execution_count": 69,
     "metadata": {},
     "output_type": "execute_result"
    }
   ],
   "source": [
    "# Modificando o formato do numpy para que cada imagem tenha apenas 1-D (Flatten)\n",
    "imagem_flat_Huh7 = imagem_Huh7_soma.reshape(num_de_imagens, -1)\n",
    "imagem_flat_Huh7.shape"
   ]
  },
  {
   "cell_type": "markdown",
   "metadata": {
    "id": "yO4u4dt9_Gxc"
   },
   "source": [
    "## DataFrame Huh7"
   ]
  },
  {
   "cell_type": "code",
   "execution_count": 70,
   "metadata": {
    "colab": {
     "base_uri": "https://localhost:8080/",
     "height": 299
    },
    "id": "mqOwSwct_EEF",
    "outputId": "2467d0ea-6beb-438d-cb28-46294059fb92"
   },
   "outputs": [
    {
     "name": "stdout",
     "output_type": "stream",
     "text": [
      "<class 'pandas.core.frame.DataFrame'>\n",
      "RangeIndex: 704 entries, 0 to 703\n",
      "Columns: 120000 entries, 0 to 119999\n",
      "dtypes: uint8(120000)\n",
      "memory usage: 80.6 MB\n"
     ]
    }
   ],
   "source": [
    "df_imagens_Huh7 = pd.DataFrame(imagem_flat_Huh7)\n",
    "df_imagens_Huh7.info()"
   ]
  },
  {
   "cell_type": "markdown",
   "metadata": {
    "id": "0exFTzqD_Ovu"
   },
   "source": [
    "## Incluindo rótulos"
   ]
  },
  {
   "cell_type": "code",
   "execution_count": 71,
   "metadata": {
    "colab": {
     "base_uri": "https://localhost:8080/",
     "height": 299
    },
    "id": "WkIOjAZH_Nq5",
    "outputId": "5bd18651-7c9c-40ce-f855-754478e78c74"
   },
   "outputs": [
    {
     "name": "stdout",
     "output_type": "stream",
     "text": [
      "<class 'pandas.core.frame.DataFrame'>\n",
      "RangeIndex: 704 entries, 0 to 703\n",
      "Columns: 120001 entries, 0 to Rótulo_Y\n",
      "dtypes: object(1), uint8(120000)\n",
      "memory usage: 80.6+ MB\n"
     ]
    }
   ],
   "source": [
    "df_imagens_Huh7['Rótulo_Y'] = rot_Huh7_soma\n",
    "df_imagens_Huh7.info()"
   ]
  },
  {
   "cell_type": "code",
   "execution_count": 72,
   "metadata": {
    "id": "tso89uSZ_X-6"
   },
   "outputs": [],
   "source": [
    "df_imagens_Huh7['Rótulo_Y'].replace('ajuste_huh7','Huh7', inplace=True)\n"
   ]
  },
  {
   "cell_type": "markdown",
   "metadata": {
    "id": "vIGTGjpPAdWw",
    "jp-MarkdownHeadingCollapsed": true,
    "tags": []
   },
   "source": [
    "# 3T3"
   ]
  },
  {
   "cell_type": "markdown",
   "metadata": {
    "id": "eMCPIKsgAgOe"
   },
   "source": [
    "## 3T3 Cell Line"
   ]
  },
  {
   "cell_type": "code",
   "execution_count": 73,
   "metadata": {},
   "outputs": [
    {
     "name": "stdout",
     "output_type": "stream",
     "text": [
      "-------------\n",
      "-=< Lista >=-\n",
      "-------------\n",
      "0 -> ./../results/Classificação_imagens_DOC_CNN/lista_img_camp_clar_25_resized_regressao_3T3_2022-11-3.gz\n",
      "1 -> ./../results/Classificação_imagens_DOC_CNN/lista_img_camp_clar_50_resized_regressao_3T3_2022-11-3.gz\n",
      "2 -> ./../results/Classificação_imagens_DOC_CNN/lista_img_camp_clar_100_resized_regressao_3T32022-11-3.gz\n",
      "3 -> ./../results/Classificação_imagens_DOC_CNN/lista_img_camp_clar_75_resized_regressao_3T3_2022-11-3.gz\n"
     ]
    }
   ],
   "source": [
    "lista_3T3_img = [diretorio+i for i in lista_dados if \"3T3\" in i and \"img\" in i]\n",
    "lista_3T3_rotulo = [diretorio+i for i in lista_dados if \"3T3\" in i and \"rotulo\" in i]\n",
    "printLis(lista_3T3_img)"
   ]
  },
  {
   "cell_type": "code",
   "execution_count": 74,
   "metadata": {
    "colab": {
     "base_uri": "https://localhost:8080/"
    },
    "id": "zXJj31r4Z1Bt",
    "outputId": "aa1d1f7b-f36a-445f-e93d-1c855fb130cf"
   },
   "outputs": [
    {
     "data": {
      "text/plain": [
       "(832, 200, 200, 3)"
      ]
     },
     "execution_count": 74,
     "metadata": {},
     "output_type": "execute_result"
    }
   ],
   "source": [
    "for i in lista_3T3_img:\n",
    "    if \"_25_\" in i:\n",
    "        imagem_3T3_vin = joblib.load(i)\n",
    "    elif \"_50_\" in i:\n",
    "        imagem_3T3_ciq = joblib.load(i)\n",
    "    elif \"_75_\" in i:\n",
    "        imagem_3T3_set = joblib.load(i)\n",
    "    elif \"_100_\" in i:\n",
    "        imagem_3T3_cem = joblib.load(i)\n",
    "imagem_3T3_soma = np.asarray(list(imagem_3T3_cem) + list(imagem_3T3_set) + list(imagem_3T3_ciq) + list(imagem_3T3_vin)) #somando os valores de cada lista\n",
    "imagem_3T3_soma.shape"
   ]
  },
  {
   "cell_type": "markdown",
   "metadata": {
    "id": "eTnEbus0mMk1"
   },
   "source": [
    "## Rótulo 3T3"
   ]
  },
  {
   "cell_type": "code",
   "execution_count": 75,
   "metadata": {
    "colab": {
     "base_uri": "https://localhost:8080/"
    },
    "id": "zXJj31r4Z1Bt",
    "outputId": "aa1d1f7b-f36a-445f-e93d-1c855fb130cf"
   },
   "outputs": [
    {
     "data": {
      "text/plain": [
       "(832,)"
      ]
     },
     "execution_count": 75,
     "metadata": {},
     "output_type": "execute_result"
    }
   ],
   "source": [
    "for i in lista_3T3_rotulo:\n",
    "    if \"_25_\" in i:\n",
    "        rot_3T3_vin = joblib.load(i)\n",
    "    elif \"_50_\" in i:\n",
    "        rot_3T3_ciq = joblib.load(i)\n",
    "    elif \"_75_\" in i:\n",
    "        rot_3T3_set = joblib.load(i)\n",
    "    elif \"_100_\" in i:\n",
    "        rot_3T3_cem = joblib.load(i)\n",
    "rot_3T3_soma = np.asarray(list(rot_3T3_cem) + list(rot_3T3_set) + list(rot_3T3_ciq) + list(rot_3T3_vin)) #somando os valores de cada lista\n",
    "rot_3T3_soma.shape"
   ]
  },
  {
   "cell_type": "code",
   "execution_count": 76,
   "metadata": {
    "colab": {
     "base_uri": "https://localhost:8080/"
    },
    "id": "SQpIfqSRBUFJ",
    "outputId": "a2ade54b-8239-4371-d593-c4eb8a01e3ec"
   },
   "outputs": [
    {
     "data": {
      "text/plain": [
       "832"
      ]
     },
     "execution_count": 76,
     "metadata": {},
     "output_type": "execute_result"
    }
   ],
   "source": [
    "# Pegando o número de imagens\n",
    "num_de_imagens = imagem_3T3_soma.shape[0]\n",
    "num_de_imagens"
   ]
  },
  {
   "cell_type": "code",
   "execution_count": 77,
   "metadata": {
    "colab": {
     "base_uri": "https://localhost:8080/"
    },
    "id": "W8V5toayBayt",
    "outputId": "35cbe1be-07d6-4ad0-af40-7093f86bcda0"
   },
   "outputs": [
    {
     "data": {
      "text/plain": [
       "(832, 120000)"
      ]
     },
     "execution_count": 77,
     "metadata": {},
     "output_type": "execute_result"
    }
   ],
   "source": [
    "# Modificando o formato do numpy para que cada imagem tenha apenas 1-D (Flatten)\n",
    "imagem_flat_3T3 = imagem_3T3_soma.reshape(num_de_imagens, -1)\n",
    "imagem_flat_3T3.shape"
   ]
  },
  {
   "cell_type": "markdown",
   "metadata": {
    "id": "d5d3UIpZBgu2"
   },
   "source": [
    "## DataFrame 3T3"
   ]
  },
  {
   "cell_type": "code",
   "execution_count": 78,
   "metadata": {
    "colab": {
     "base_uri": "https://localhost:8080/",
     "height": 299
    },
    "id": "RyV64PxBBeW9",
    "outputId": "a2148e21-08ed-41da-9811-d8a6f724be08"
   },
   "outputs": [
    {
     "name": "stdout",
     "output_type": "stream",
     "text": [
      "<class 'pandas.core.frame.DataFrame'>\n",
      "RangeIndex: 832 entries, 0 to 831\n",
      "Columns: 120000 entries, 0 to 119999\n",
      "dtypes: uint8(120000)\n",
      "memory usage: 95.2 MB\n"
     ]
    }
   ],
   "source": [
    "df_imagens_3T3 = pd.DataFrame(imagem_flat_3T3)\n",
    "df_imagens_3T3.info()"
   ]
  },
  {
   "cell_type": "markdown",
   "metadata": {
    "id": "M6n_Ap2DBo8x"
   },
   "source": [
    "## Incluindo rótulos"
   ]
  },
  {
   "cell_type": "code",
   "execution_count": 79,
   "metadata": {
    "colab": {
     "base_uri": "https://localhost:8080/",
     "height": 299
    },
    "id": "41_I1zeRBmMr",
    "outputId": "f6562c59-ffee-4e8d-96b6-08eafb5d6610"
   },
   "outputs": [
    {
     "name": "stdout",
     "output_type": "stream",
     "text": [
      "<class 'pandas.core.frame.DataFrame'>\n",
      "RangeIndex: 832 entries, 0 to 831\n",
      "Columns: 120001 entries, 0 to Rótulo_Y\n",
      "dtypes: object(1), uint8(120000)\n",
      "memory usage: 95.2+ MB\n"
     ]
    }
   ],
   "source": [
    "df_imagens_3T3['Rótulo_Y'] = rot_3T3_soma\n",
    "df_imagens_3T3.info()"
   ]
  },
  {
   "cell_type": "markdown",
   "metadata": {
    "id": "UGKgBn58cza3"
   },
   "source": [
    "# Concatenando todas as Dataframes das linhagens e Salva a DataFrame"
   ]
  },
  {
   "cell_type": "code",
   "execution_count": 84,
   "metadata": {
    "colab": {
     "base_uri": "https://localhost:8080/",
     "height": 488
    },
    "id": "ZbGRYPvyBvCh",
    "outputId": "513bf5b5-bbfe-49e8-ac5c-7b9eeed8eef7"
   },
   "outputs": [
    {
     "name": "stdout",
     "output_type": "stream",
     "text": [
      "<class 'pandas.core.frame.DataFrame'>\n",
      "Int64Index: 11712 entries, 0 to 831\n",
      "Columns: 120001 entries, 0 to Rótulo_Y\n",
      "dtypes: object(1), uint8(120000)\n",
      "memory usage: 1.3+ GB\n"
     ]
    }
   ],
   "source": [
    "frames = [\n",
    "    df_imagens_thp,\n",
    "    df_imagens_sh,\n",
    "    df_imagens_A172,\n",
    "    df_imagens_mayv,\n",
    "    df_imagens_denv,\n",
    "    df_imagens_vero,\n",
    "    df_imagens_A549,\n",
    "    df_imagens_Huh7,\n",
    "    df_imagens_3T3\n",
    "]\n",
    "  \n",
    "df_uniao_cell_line = pd.concat(frames)\n",
    "df_uniao_cell_line.info()"
   ]
  },
  {
   "cell_type": "code",
   "execution_count": 85,
   "metadata": {},
   "outputs": [
    {
     "name": "stdout",
     "output_type": "stream",
     "text": [
      "<class 'pandas.core.frame.DataFrame'>\n",
      "Int64Index: 11712 entries, 0 to 831\n",
      "Columns: 120001 entries, 0 to Rótulo_Y\n",
      "dtypes: object(1), uint8(120000)\n",
      "memory usage: 1.3+ GB\n"
     ]
    }
   ],
   "source": [
    "# Salva a tabela de instâncias\n",
    "outfile = BZ2File('./data/df_uniao_cell_line', 'w')\n",
    "dump(df_uniao_cell_line, outfile)\n",
    "outfile.close()\n",
    "\n",
    "# Carrega a tabela de instâncias para testas o salvamento\n",
    "confirmed_file = BZ2File('./data/df_uniao_cell_line','rb')\n",
    "tabela_de_intancias_load = load(confirmed_file)\n",
    "confirmed_file.close()\n",
    "tabela_de_intancias_load.info()"
   ]
  },
  {
   "cell_type": "markdown",
   "metadata": {
    "id": "lmSUEslTftzO"
   },
   "source": [
    "# PyCaret"
   ]
  },
  {
   "cell_type": "code",
   "execution_count": null,
   "metadata": {
    "colab": {
     "base_uri": "https://localhost:8080/"
    },
    "id": "pic1t1lOfzYv",
    "outputId": "b628e52b-dab5-4637-a00d-b1f1cef5e31f"
   },
   "outputs": [
    {
     "name": "stdout",
     "output_type": "stream",
     "text": [
      "Looking in indexes: https://pypi.org/simple, https://us-python.pkg.dev/colab-wheels/public/simple/\n",
      "Requirement already satisfied: pycaret in /usr/local/lib/python3.7/dist-packages (2.3.10)\n",
      "Requirement already satisfied: wordcloud in /usr/local/lib/python3.7/dist-packages (from pycaret) (1.8.2.2)\n",
      "Requirement already satisfied: pyod in /usr/local/lib/python3.7/dist-packages (from pycaret) (1.0.6)\n",
      "Requirement already satisfied: ipywidgets in /usr/local/lib/python3.7/dist-packages (from pycaret) (7.7.1)\n",
      "Requirement already satisfied: yellowbrick>=1.0.1 in /usr/local/lib/python3.7/dist-packages (from pycaret) (1.3.post1)\n",
      "Requirement already satisfied: textblob in /usr/local/lib/python3.7/dist-packages (from pycaret) (0.15.3)\n",
      "Requirement already satisfied: Boruta in /usr/local/lib/python3.7/dist-packages (from pycaret) (0.3)\n",
      "Requirement already satisfied: scipy<=1.5.4 in /usr/local/lib/python3.7/dist-packages (from pycaret) (1.5.4)\n",
      "Requirement already satisfied: pyyaml<6.0.0 in /usr/local/lib/python3.7/dist-packages (from pycaret) (5.4.1)\n",
      "Requirement already satisfied: scikit-plot in /usr/local/lib/python3.7/dist-packages (from pycaret) (0.3.7)\n",
      "Requirement already satisfied: joblib in /usr/local/lib/python3.7/dist-packages (from pycaret) (1.2.0)\n",
      "Requirement already satisfied: kmodes>=0.10.1 in /usr/local/lib/python3.7/dist-packages (from pycaret) (0.12.2)\n",
      "Requirement already satisfied: pandas in /usr/local/lib/python3.7/dist-packages (from pycaret) (1.3.5)\n",
      "Requirement already satisfied: imbalanced-learn==0.7.0 in /usr/local/lib/python3.7/dist-packages (from pycaret) (0.7.0)\n",
      "Requirement already satisfied: lightgbm>=2.3.1 in /usr/local/lib/python3.7/dist-packages (from pycaret) (3.3.3)\n",
      "Requirement already satisfied: gensim<4.0.0 in /usr/local/lib/python3.7/dist-packages (from pycaret) (3.6.0)\n",
      "Requirement already satisfied: matplotlib in /usr/local/lib/python3.7/dist-packages (from pycaret) (3.2.2)\n",
      "Requirement already satisfied: cufflinks>=0.17.0 in /usr/local/lib/python3.7/dist-packages (from pycaret) (0.17.3)\n",
      "Requirement already satisfied: pandas-profiling>=2.8.0 in /usr/local/lib/python3.7/dist-packages (from pycaret) (3.4.0)\n",
      "Requirement already satisfied: IPython in /usr/local/lib/python3.7/dist-packages (from pycaret) (7.9.0)\n",
      "Requirement already satisfied: spacy<2.4.0 in /usr/local/lib/python3.7/dist-packages (from pycaret) (2.3.8)\n",
      "Requirement already satisfied: pyLDAvis in /usr/local/lib/python3.7/dist-packages (from pycaret) (3.2.2)\n",
      "Requirement already satisfied: scikit-learn==0.23.2 in /usr/local/lib/python3.7/dist-packages (from pycaret) (0.23.2)\n",
      "Requirement already satisfied: mlxtend>=0.17.0 in /usr/local/lib/python3.7/dist-packages (from pycaret) (0.19.0)\n",
      "Requirement already satisfied: numba<0.55 in /usr/local/lib/python3.7/dist-packages (from pycaret) (0.54.1)\n",
      "Requirement already satisfied: plotly>=4.4.1 in /usr/local/lib/python3.7/dist-packages (from pycaret) (5.5.0)\n",
      "Requirement already satisfied: seaborn in /usr/local/lib/python3.7/dist-packages (from pycaret) (0.11.2)\n",
      "Requirement already satisfied: umap-learn in /usr/local/lib/python3.7/dist-packages (from pycaret) (0.5.3)\n",
      "Requirement already satisfied: mlflow in /usr/local/lib/python3.7/dist-packages (from pycaret) (1.30.0)\n",
      "Requirement already satisfied: nltk in /usr/local/lib/python3.7/dist-packages (from pycaret) (3.7)\n",
      "Requirement already satisfied: numpy>=1.13.3 in /usr/local/lib/python3.7/dist-packages (from imbalanced-learn==0.7.0->pycaret) (1.19.5)\n",
      "Requirement already satisfied: threadpoolctl>=2.0.0 in /usr/local/lib/python3.7/dist-packages (from scikit-learn==0.23.2->pycaret) (3.1.0)\n",
      "Requirement already satisfied: colorlover>=0.2.1 in /usr/local/lib/python3.7/dist-packages (from cufflinks>=0.17.0->pycaret) (0.3.0)\n",
      "Requirement already satisfied: six>=1.9.0 in /usr/local/lib/python3.7/dist-packages (from cufflinks>=0.17.0->pycaret) (1.15.0)\n",
      "Requirement already satisfied: setuptools>=34.4.1 in /usr/local/lib/python3.7/dist-packages (from cufflinks>=0.17.0->pycaret) (57.4.0)\n",
      "Requirement already satisfied: smart-open>=1.2.1 in /usr/local/lib/python3.7/dist-packages (from gensim<4.0.0->pycaret) (5.2.1)\n",
      "Requirement already satisfied: backcall in /usr/local/lib/python3.7/dist-packages (from IPython->pycaret) (0.2.0)\n",
      "Requirement already satisfied: pygments in /usr/local/lib/python3.7/dist-packages (from IPython->pycaret) (2.6.1)\n",
      "Requirement already satisfied: jedi>=0.10 in /usr/local/lib/python3.7/dist-packages (from IPython->pycaret) (0.18.1)\n",
      "Requirement already satisfied: prompt-toolkit<2.1.0,>=2.0.0 in /usr/local/lib/python3.7/dist-packages (from IPython->pycaret) (2.0.10)\n",
      "Requirement already satisfied: decorator in /usr/local/lib/python3.7/dist-packages (from IPython->pycaret) (4.4.2)\n",
      "Requirement already satisfied: pexpect in /usr/local/lib/python3.7/dist-packages (from IPython->pycaret) (4.8.0)\n",
      "Requirement already satisfied: traitlets>=4.2 in /usr/local/lib/python3.7/dist-packages (from IPython->pycaret) (5.1.1)\n",
      "Requirement already satisfied: pickleshare in /usr/local/lib/python3.7/dist-packages (from IPython->pycaret) (0.7.5)\n",
      "Requirement already satisfied: ipykernel>=4.5.1 in /usr/local/lib/python3.7/dist-packages (from ipywidgets->pycaret) (5.3.4)\n",
      "Requirement already satisfied: ipython-genutils~=0.2.0 in /usr/local/lib/python3.7/dist-packages (from ipywidgets->pycaret) (0.2.0)\n",
      "Requirement already satisfied: jupyterlab-widgets>=1.0.0 in /usr/local/lib/python3.7/dist-packages (from ipywidgets->pycaret) (3.0.3)\n",
      "Requirement already satisfied: widgetsnbextension~=3.6.0 in /usr/local/lib/python3.7/dist-packages (from ipywidgets->pycaret) (3.6.1)\n",
      "Requirement already satisfied: jupyter-client in /usr/local/lib/python3.7/dist-packages (from ipykernel>=4.5.1->ipywidgets->pycaret) (6.1.12)\n",
      "Requirement already satisfied: tornado>=4.2 in /usr/local/lib/python3.7/dist-packages (from ipykernel>=4.5.1->ipywidgets->pycaret) (5.1.1)\n",
      "Requirement already satisfied: parso<0.9.0,>=0.8.0 in /usr/local/lib/python3.7/dist-packages (from jedi>=0.10->IPython->pycaret) (0.8.3)\n",
      "Requirement already satisfied: wheel in /usr/local/lib/python3.7/dist-packages (from lightgbm>=2.3.1->pycaret) (0.37.1)\n",
      "Requirement already satisfied: cycler>=0.10 in /usr/local/lib/python3.7/dist-packages (from matplotlib->pycaret) (0.11.0)\n",
      "Requirement already satisfied: python-dateutil>=2.1 in /usr/local/lib/python3.7/dist-packages (from matplotlib->pycaret) (2.8.2)\n",
      "Requirement already satisfied: pyparsing!=2.0.4,!=2.1.2,!=2.1.6,>=2.0.1 in /usr/local/lib/python3.7/dist-packages (from matplotlib->pycaret) (3.0.9)\n",
      "Requirement already satisfied: kiwisolver>=1.0.1 in /usr/local/lib/python3.7/dist-packages (from matplotlib->pycaret) (1.4.4)\n",
      "Requirement already satisfied: typing-extensions in /usr/local/lib/python3.7/dist-packages (from kiwisolver>=1.0.1->matplotlib->pycaret) (4.1.1)\n",
      "Requirement already satisfied: llvmlite<0.38,>=0.37.0rc1 in /usr/local/lib/python3.7/dist-packages (from numba<0.55->pycaret) (0.37.0)\n",
      "Requirement already satisfied: pytz>=2017.3 in /usr/local/lib/python3.7/dist-packages (from pandas->pycaret) (2022.5)\n",
      "Requirement already satisfied: jinja2<3.2,>=2.11.1 in /usr/local/lib/python3.7/dist-packages (from pandas-profiling>=2.8.0->pycaret) (2.11.3)\n",
      "Requirement already satisfied: htmlmin==0.1.12 in /usr/local/lib/python3.7/dist-packages (from pandas-profiling>=2.8.0->pycaret) (0.1.12)\n",
      "Requirement already satisfied: requests<2.29,>=2.24.0 in /usr/local/lib/python3.7/dist-packages (from pandas-profiling>=2.8.0->pycaret) (2.28.1)\n",
      "Requirement already satisfied: phik<0.13,>=0.11.1 in /usr/local/lib/python3.7/dist-packages (from pandas-profiling>=2.8.0->pycaret) (0.12.2)\n",
      "Requirement already satisfied: visions[type_image_path]==0.7.5 in /usr/local/lib/python3.7/dist-packages (from pandas-profiling>=2.8.0->pycaret) (0.7.5)\n",
      "Requirement already satisfied: tqdm<4.65,>=4.48.2 in /usr/local/lib/python3.7/dist-packages (from pandas-profiling>=2.8.0->pycaret) (4.64.1)\n",
      "Requirement already satisfied: pydantic<1.11,>=1.8.1 in /usr/local/lib/python3.7/dist-packages (from pandas-profiling>=2.8.0->pycaret) (1.10.2)\n",
      "Requirement already satisfied: missingno<0.6,>=0.4.2 in /usr/local/lib/python3.7/dist-packages (from pandas-profiling>=2.8.0->pycaret) (0.5.1)\n",
      "Requirement already satisfied: multimethod<1.10,>=1.4 in /usr/local/lib/python3.7/dist-packages (from pandas-profiling>=2.8.0->pycaret) (1.9)\n",
      "Requirement already satisfied: statsmodels<0.14,>=0.13.2 in /usr/local/lib/python3.7/dist-packages (from pandas-profiling>=2.8.0->pycaret) (0.13.5)\n",
      "Requirement already satisfied: tangled-up-in-unicode>=0.0.4 in /usr/local/lib/python3.7/dist-packages (from visions[type_image_path]==0.7.5->pandas-profiling>=2.8.0->pycaret) (0.2.0)\n",
      "Requirement already satisfied: networkx>=2.4 in /usr/local/lib/python3.7/dist-packages (from visions[type_image_path]==0.7.5->pandas-profiling>=2.8.0->pycaret) (2.6.3)\n",
      "Requirement already satisfied: attrs>=19.3.0 in /usr/local/lib/python3.7/dist-packages (from visions[type_image_path]==0.7.5->pandas-profiling>=2.8.0->pycaret) (22.1.0)\n",
      "Requirement already satisfied: imagehash in /usr/local/lib/python3.7/dist-packages (from visions[type_image_path]==0.7.5->pandas-profiling>=2.8.0->pycaret) (4.3.1)\n",
      "Requirement already satisfied: Pillow in /usr/local/lib/python3.7/dist-packages (from visions[type_image_path]==0.7.5->pandas-profiling>=2.8.0->pycaret) (7.1.2)\n",
      "Requirement already satisfied: MarkupSafe>=0.23 in /usr/local/lib/python3.7/dist-packages (from jinja2<3.2,>=2.11.1->pandas-profiling>=2.8.0->pycaret) (2.0.1)\n",
      "Requirement already satisfied: tenacity>=6.2.0 in /usr/local/lib/python3.7/dist-packages (from plotly>=4.4.1->pycaret) (8.1.0)\n",
      "Requirement already satisfied: wcwidth in /usr/local/lib/python3.7/dist-packages (from prompt-toolkit<2.1.0,>=2.0.0->IPython->pycaret) (0.2.5)\n",
      "Requirement already satisfied: urllib3<1.27,>=1.21.1 in /usr/local/lib/python3.7/dist-packages (from requests<2.29,>=2.24.0->pandas-profiling>=2.8.0->pycaret) (1.26.12)\n",
      "Requirement already satisfied: certifi>=2017.4.17 in /usr/local/lib/python3.7/dist-packages (from requests<2.29,>=2.24.0->pandas-profiling>=2.8.0->pycaret) (2022.9.24)\n",
      "Requirement already satisfied: charset-normalizer<3,>=2 in /usr/local/lib/python3.7/dist-packages (from requests<2.29,>=2.24.0->pandas-profiling>=2.8.0->pycaret) (2.1.1)\n",
      "Requirement already satisfied: idna<4,>=2.5 in /usr/local/lib/python3.7/dist-packages (from requests<2.29,>=2.24.0->pandas-profiling>=2.8.0->pycaret) (2.10)\n",
      "Requirement already satisfied: blis<0.8.0,>=0.4.0 in /usr/local/lib/python3.7/dist-packages (from spacy<2.4.0->pycaret) (0.7.9)\n",
      "Requirement already satisfied: wasabi<1.1.0,>=0.4.0 in /usr/local/lib/python3.7/dist-packages (from spacy<2.4.0->pycaret) (0.10.1)\n",
      "Requirement already satisfied: cymem<2.1.0,>=2.0.2 in /usr/local/lib/python3.7/dist-packages (from spacy<2.4.0->pycaret) (2.0.7)\n",
      "Requirement already satisfied: srsly<1.1.0,>=1.0.2 in /usr/local/lib/python3.7/dist-packages (from spacy<2.4.0->pycaret) (1.0.6)\n",
      "Requirement already satisfied: thinc<7.5.0,>=7.4.1 in /usr/local/lib/python3.7/dist-packages (from spacy<2.4.0->pycaret) (7.4.6)\n",
      "Requirement already satisfied: plac<1.2.0,>=0.9.6 in /usr/local/lib/python3.7/dist-packages (from spacy<2.4.0->pycaret) (1.1.3)\n",
      "Requirement already satisfied: preshed<3.1.0,>=3.0.2 in /usr/local/lib/python3.7/dist-packages (from spacy<2.4.0->pycaret) (3.0.8)\n",
      "Requirement already satisfied: murmurhash<1.1.0,>=0.28.0 in /usr/local/lib/python3.7/dist-packages (from spacy<2.4.0->pycaret) (1.0.9)\n",
      "Requirement already satisfied: catalogue<1.1.0,>=0.0.7 in /usr/local/lib/python3.7/dist-packages (from spacy<2.4.0->pycaret) (1.0.2)\n",
      "Requirement already satisfied: zipp>=0.5 in /usr/local/lib/python3.7/dist-packages (from catalogue<1.1.0,>=0.0.7->spacy<2.4.0->pycaret) (3.10.0)\n",
      "Requirement already satisfied: patsy>=0.5.2 in /usr/local/lib/python3.7/dist-packages (from statsmodels<0.14,>=0.13.2->pandas-profiling>=2.8.0->pycaret) (0.5.3)\n",
      "Requirement already satisfied: packaging>=21.3 in /usr/local/lib/python3.7/dist-packages (from statsmodels<0.14,>=0.13.2->pandas-profiling>=2.8.0->pycaret) (21.3)\n",
      "Requirement already satisfied: notebook>=4.4.1 in /usr/local/lib/python3.7/dist-packages (from widgetsnbextension~=3.6.0->ipywidgets->pycaret) (5.5.0)\n",
      "Requirement already satisfied: terminado>=0.8.1 in /usr/local/lib/python3.7/dist-packages (from notebook>=4.4.1->widgetsnbextension~=3.6.0->ipywidgets->pycaret) (0.13.3)\n",
      "Requirement already satisfied: jupyter-core>=4.4.0 in /usr/local/lib/python3.7/dist-packages (from notebook>=4.4.1->widgetsnbextension~=3.6.0->ipywidgets->pycaret) (4.11.2)\n",
      "Requirement already satisfied: pyzmq>=17 in /usr/local/lib/python3.7/dist-packages (from notebook>=4.4.1->widgetsnbextension~=3.6.0->ipywidgets->pycaret) (23.2.1)\n",
      "Requirement already satisfied: Send2Trash in /usr/local/lib/python3.7/dist-packages (from notebook>=4.4.1->widgetsnbextension~=3.6.0->ipywidgets->pycaret) (1.8.0)\n",
      "Requirement already satisfied: nbformat in /usr/local/lib/python3.7/dist-packages (from notebook>=4.4.1->widgetsnbextension~=3.6.0->ipywidgets->pycaret) (5.7.0)\n",
      "Requirement already satisfied: nbconvert in /usr/local/lib/python3.7/dist-packages (from notebook>=4.4.1->widgetsnbextension~=3.6.0->ipywidgets->pycaret) (5.6.1)\n",
      "Requirement already satisfied: ptyprocess in /usr/local/lib/python3.7/dist-packages (from terminado>=0.8.1->notebook>=4.4.1->widgetsnbextension~=3.6.0->ipywidgets->pycaret) (0.7.0)\n",
      "Requirement already satisfied: PyWavelets in /usr/local/lib/python3.7/dist-packages (from imagehash->visions[type_image_path]==0.7.5->pandas-profiling>=2.8.0->pycaret) (1.3.0)\n",
      "Requirement already satisfied: importlib-metadata!=4.7.0,<6,>=3.7.0 in /usr/local/lib/python3.7/dist-packages (from mlflow->pycaret) (4.13.0)\n",
      "Requirement already satisfied: querystring-parser<2 in /usr/local/lib/python3.7/dist-packages (from mlflow->pycaret) (1.2.4)\n",
      "Requirement already satisfied: gitpython<4,>=2.1.0 in /usr/local/lib/python3.7/dist-packages (from mlflow->pycaret) (3.1.29)\n",
      "Requirement already satisfied: click<9,>=7.0 in /usr/local/lib/python3.7/dist-packages (from mlflow->pycaret) (7.1.2)\n",
      "Requirement already satisfied: cloudpickle<3 in /usr/local/lib/python3.7/dist-packages (from mlflow->pycaret) (1.5.0)\n",
      "Requirement already satisfied: alembic<2 in /usr/local/lib/python3.7/dist-packages (from mlflow->pycaret) (1.8.1)\n",
      "Requirement already satisfied: protobuf<5,>=3.12.0 in /usr/local/lib/python3.7/dist-packages (from mlflow->pycaret) (3.17.3)\n",
      "Requirement already satisfied: Flask<3 in /usr/local/lib/python3.7/dist-packages (from mlflow->pycaret) (1.1.4)\n",
      "Requirement already satisfied: docker<7,>=4.0.0 in /usr/local/lib/python3.7/dist-packages (from mlflow->pycaret) (6.0.1)\n",
      "Requirement already satisfied: sqlparse<1,>=0.4.0 in /usr/local/lib/python3.7/dist-packages (from mlflow->pycaret) (0.4.3)\n",
      "Requirement already satisfied: entrypoints<1 in /usr/local/lib/python3.7/dist-packages (from mlflow->pycaret) (0.4)\n",
      "Requirement already satisfied: gunicorn<21 in /usr/local/lib/python3.7/dist-packages (from mlflow->pycaret) (20.1.0)\n",
      "Requirement already satisfied: prometheus-flask-exporter<1 in /usr/local/lib/python3.7/dist-packages (from mlflow->pycaret) (0.20.3)\n",
      "Requirement already satisfied: sqlalchemy<2,>=1.4.0 in /usr/local/lib/python3.7/dist-packages (from mlflow->pycaret) (1.4.42)\n",
      "Requirement already satisfied: databricks-cli<1,>=0.8.7 in /usr/local/lib/python3.7/dist-packages (from mlflow->pycaret) (0.17.3)\n",
      "Requirement already satisfied: Mako in /usr/local/lib/python3.7/dist-packages (from alembic<2->mlflow->pycaret) (1.2.3)\n",
      "Requirement already satisfied: importlib-resources in /usr/local/lib/python3.7/dist-packages (from alembic<2->mlflow->pycaret) (5.10.0)\n",
      "Requirement already satisfied: tabulate>=0.7.7 in /usr/local/lib/python3.7/dist-packages (from databricks-cli<1,>=0.8.7->mlflow->pycaret) (0.8.10)\n",
      "Requirement already satisfied: oauthlib>=3.1.0 in /usr/local/lib/python3.7/dist-packages (from databricks-cli<1,>=0.8.7->mlflow->pycaret) (3.2.2)\n",
      "Requirement already satisfied: pyjwt>=1.7.0 in /usr/local/lib/python3.7/dist-packages (from databricks-cli<1,>=0.8.7->mlflow->pycaret) (2.6.0)\n",
      "Requirement already satisfied: websocket-client>=0.32.0 in /usr/local/lib/python3.7/dist-packages (from docker<7,>=4.0.0->mlflow->pycaret) (1.4.2)\n",
      "Requirement already satisfied: itsdangerous<2.0,>=0.24 in /usr/local/lib/python3.7/dist-packages (from Flask<3->mlflow->pycaret) (1.1.0)\n",
      "Requirement already satisfied: Werkzeug<2.0,>=0.15 in /usr/local/lib/python3.7/dist-packages (from Flask<3->mlflow->pycaret) (1.0.1)\n",
      "Requirement already satisfied: gitdb<5,>=4.0.1 in /usr/local/lib/python3.7/dist-packages (from gitpython<4,>=2.1.0->mlflow->pycaret) (4.0.9)\n",
      "Requirement already satisfied: smmap<6,>=3.0.1 in /usr/local/lib/python3.7/dist-packages (from gitdb<5,>=4.0.1->gitpython<4,>=2.1.0->mlflow->pycaret) (5.0.0)\n",
      "Requirement already satisfied: prometheus-client in /usr/local/lib/python3.7/dist-packages (from prometheus-flask-exporter<1->mlflow->pycaret) (0.15.0)\n",
      "Requirement already satisfied: greenlet!=0.4.17 in /usr/local/lib/python3.7/dist-packages (from sqlalchemy<2,>=1.4.0->mlflow->pycaret) (1.1.3.post0)\n",
      "Requirement already satisfied: defusedxml in /usr/local/lib/python3.7/dist-packages (from nbconvert->notebook>=4.4.1->widgetsnbextension~=3.6.0->ipywidgets->pycaret) (0.7.1)\n",
      "Requirement already satisfied: bleach in /usr/local/lib/python3.7/dist-packages (from nbconvert->notebook>=4.4.1->widgetsnbextension~=3.6.0->ipywidgets->pycaret) (5.0.1)\n",
      "Requirement already satisfied: testpath in /usr/local/lib/python3.7/dist-packages (from nbconvert->notebook>=4.4.1->widgetsnbextension~=3.6.0->ipywidgets->pycaret) (0.6.0)\n",
      "Requirement already satisfied: pandocfilters>=1.4.1 in /usr/local/lib/python3.7/dist-packages (from nbconvert->notebook>=4.4.1->widgetsnbextension~=3.6.0->ipywidgets->pycaret) (1.5.0)\n",
      "Requirement already satisfied: mistune<2,>=0.8.1 in /usr/local/lib/python3.7/dist-packages (from nbconvert->notebook>=4.4.1->widgetsnbextension~=3.6.0->ipywidgets->pycaret) (0.8.4)\n",
      "Requirement already satisfied: fastjsonschema in /usr/local/lib/python3.7/dist-packages (from nbformat->notebook>=4.4.1->widgetsnbextension~=3.6.0->ipywidgets->pycaret) (2.16.2)\n",
      "Requirement already satisfied: jsonschema>=2.6 in /usr/local/lib/python3.7/dist-packages (from nbformat->notebook>=4.4.1->widgetsnbextension~=3.6.0->ipywidgets->pycaret) (4.3.3)\n",
      "Requirement already satisfied: pyrsistent!=0.17.0,!=0.17.1,!=0.17.2,>=0.14.0 in /usr/local/lib/python3.7/dist-packages (from jsonschema>=2.6->nbformat->notebook>=4.4.1->widgetsnbextension~=3.6.0->ipywidgets->pycaret) (0.18.1)\n",
      "Requirement already satisfied: webencodings in /usr/local/lib/python3.7/dist-packages (from bleach->nbconvert->notebook>=4.4.1->widgetsnbextension~=3.6.0->ipywidgets->pycaret) (0.5.1)\n",
      "Requirement already satisfied: regex>=2021.8.3 in /usr/local/lib/python3.7/dist-packages (from nltk->pycaret) (2022.6.2)\n",
      "Requirement already satisfied: funcy in /usr/local/lib/python3.7/dist-packages (from pyLDAvis->pycaret) (1.17)\n",
      "Requirement already satisfied: future in /usr/local/lib/python3.7/dist-packages (from pyLDAvis->pycaret) (0.16.0)\n",
      "Requirement already satisfied: numexpr in /usr/local/lib/python3.7/dist-packages (from pyLDAvis->pycaret) (2.8.4)\n",
      "Requirement already satisfied: pynndescent>=0.5 in /usr/local/lib/python3.7/dist-packages (from umap-learn->pycaret) (0.5.8)\n"
     ]
    }
   ],
   "source": [
    "!pip install pycaret"
   ]
  },
  {
   "cell_type": "code",
   "execution_count": null,
   "metadata": {
    "colab": {
     "base_uri": "https://localhost:8080/"
    },
    "id": "6AZjr-uEgr5Z",
    "outputId": "66688751-7e2f-4b05-8fa7-393f8b17c7ba"
   },
   "outputs": [
    {
     "data": {
      "text/plain": [
       "(11712, 120001)"
      ]
     },
     "execution_count": 133,
     "metadata": {},
     "output_type": "execute_result"
    }
   ],
   "source": [
    "df_uniao_cell_line.shape\n"
   ]
  },
  {
   "cell_type": "markdown",
   "metadata": {
    "id": "2ugei1uQhz4a"
   },
   "source": [
    "Separando algumas imagens para \"cross_validation\" antes de separar entre dado de treino e teste. Esse dado vai servir para testar o algoritmo pós testes."
   ]
  },
  {
   "cell_type": "code",
   "execution_count": null,
   "metadata": {
    "colab": {
     "base_uri": "https://localhost:8080/"
    },
    "id": "eNhW2SdzhCls",
    "outputId": "6193c4b3-bdc2-4ce7-948b-45cb9563c795"
   },
   "outputs": [
    {
     "name": "stdout",
     "output_type": "stream",
     "text": [
      "Data for Modeling: (1171, 120001)\n",
      "Unseen Data For Predictions: (5393, 120001)\n"
     ]
    }
   ],
   "source": [
    "data = df_uniao_cell_line.sample(frac=0.1, random_state=786) #separando 90% das imagens pra treino e teste, deixando 10% pra cross validation\n",
    "data_unseen = df_uniao_cell_line.drop(data.index)\n",
    "\n",
    "data.reset_index(drop=True, inplace=True)\n",
    "data_unseen.reset_index(drop=True, inplace=True)\n",
    "\n",
    "print('Data for Modeling: ' + str(data.shape)) #dados que vão para o modelo\n",
    "print('Unseen Data For Predictions: ' + str(data_unseen.shape)) #dados separados"
   ]
  },
  {
   "cell_type": "code",
   "execution_count": null,
   "metadata": {
    "id": "aN8jJTY-sODu"
   },
   "outputs": [],
   "source": [
    "from pycaret.classification import *\n"
   ]
  },
  {
   "cell_type": "code",
   "execution_count": null,
   "metadata": {
    "colab": {
     "background_save": true,
     "base_uri": "https://localhost:8080/",
     "height": 1000,
     "referenced_widgets": [
      "19270ec0461747a88693d8a254e8ea7b",
      "60fe738d0ae24f35979105bd45ff1ed7",
      "3ea1f18f3889428db56d68cd0facdcc9",
      "dfbbb5178ecf4ed0a1bf7c81089685ed",
      "694a9dda51f7428698f5fbd6e6ca2837",
      "d989e01b2e6d40efab5496dde382eb4a"
     ]
    },
    "id": "LogGZW0lkJEk",
    "outputId": "69a494ce-b53c-4fad-d571-29bc5f8831ac"
   },
   "outputs": [
    {
     "name": "stderr",
     "output_type": "stream",
     "text": [
      "INFO:logs:PyCaret Supervised Module\n",
      "INFO:logs:ML Usecase: classification\n",
      "INFO:logs:version 2.3.10\n",
      "INFO:logs:Initializing setup()\n",
      "INFO:logs:setup(target=Rótulo_Y, ml_usecase=classification, available_plots={'parameter': 'Hyperparameters', 'auc': 'AUC', 'confusion_matrix': 'Confusion Matrix', 'threshold': 'Threshold', 'pr': 'Precision Recall', 'error': 'Prediction Error', 'class_report': 'Class Report', 'rfe': 'Feature Selection', 'learning': 'Learning Curve', 'manifold': 'Manifold Learning', 'calibration': 'Calibration Curve', 'vc': 'Validation Curve', 'dimension': 'Dimensions', 'feature': 'Feature Importance', 'feature_all': 'Feature Importance (All)', 'boundary': 'Decision Boundary', 'lift': 'Lift Chart', 'gain': 'Gain Chart', 'tree': 'Decision Tree', 'ks': 'KS Statistic Plot'}, train_size=0.7, test_data=None, preprocess=True, imputation_type=simple, iterative_imputation_iters=5, categorical_features=None, categorical_imputation=constant, categorical_iterative_imputer=lightgbm, ordinal_features=None, high_cardinality_features=None, high_cardinality_method=frequency, numeric_features=None, numeric_imputation=mean, numeric_iterative_imputer=lightgbm, date_features=None, ignore_features=None, normalize=False, normalize_method=zscore, transformation=False, transformation_method=yeo-johnson, handle_unknown_categorical=True, unknown_categorical_method=least_frequent, pca=False, pca_method=linear, pca_components=None, ignore_low_variance=False, combine_rare_levels=False, rare_level_threshold=0.1, bin_numeric_features=None, remove_outliers=False, outliers_threshold=0.05, remove_multicollinearity=False, multicollinearity_threshold=0.9, remove_perfect_collinearity=True, create_clusters=False, cluster_iter=20, polynomial_features=False, polynomial_degree=2, trigonometry_features=False, polynomial_threshold=0.1, group_features=None, group_names=None, feature_selection=False, feature_selection_threshold=0.8, feature_selection_method=classic, feature_interaction=False, feature_ratio=False, interaction_threshold=0.01, fix_imbalance=False, fix_imbalance_method=None, transform_target=False, transform_target_method=box-cox, data_split_shuffle=True, data_split_stratify=False, fold_strategy=stratifiedkfold, fold=10, fold_shuffle=False, fold_groups=None, n_jobs=-1, use_gpu=False, custom_pipeline=None, html=True, session_id=123, log_experiment=False, experiment_name=None, experiment_custom_tags=None, log_plots=False, log_profile=False, log_data=False, silent=False, verbose=True, profile=False, profile_kwargs=None, display=None)\n",
      "INFO:logs:Checking environment\n",
      "INFO:logs:python_version: 3.7.15\n",
      "INFO:logs:python_build: ('default', 'Oct 12 2022 19:14:55')\n",
      "INFO:logs:machine: x86_64\n",
      "INFO:logs:platform: Linux-5.10.133+-x86_64-with-Ubuntu-18.04-bionic\n",
      "INFO:logs:Memory: svmem(total=13616361472, available=8408834048, percent=38.2, used=9971367936, free=470257664, active=1145065472, inactive=11778973696, buffers=256016384, cached=2918719488, shared=1306624, slab=127881216)\n",
      "INFO:logs:Physical Core: 1\n",
      "INFO:logs:Logical Core: 2\n",
      "INFO:logs:Checking libraries\n",
      "INFO:logs:pd==1.3.5\n",
      "INFO:logs:numpy==1.19.5\n",
      "INFO:logs:sklearn==0.23.2\n",
      "INFO:logs:lightgbm==3.3.3\n",
      "WARNING:logs:catboost not found\n",
      "INFO:logs:xgboost==0.90\n",
      "INFO:logs:mlflow==1.30.0\n",
      "INFO:logs:Checking Exceptions\n",
      "INFO:logs:Declaring global variables\n",
      "INFO:logs:USI: a911\n",
      "INFO:logs:pycaret_globals: {'log_plots_param', 'fold_generator', 'pycaret_globals', 'X', 'n_jobs_param', 'html_param', 'display_container', 'fold_shuffle_param', 'fix_imbalance_param', 'y_test', 'transform_target_param', 'fix_imbalance_method_param', 'imputation_classifier', 'gpu_param', 'logging_param', 'experiment__', 'fold_param', '_all_metrics', '_all_models', 'X_test', 'y', 'master_model_container', 'fold_groups_param_full', 'seed', '_internal_pipeline', 'imputation_regressor', 'stratify_param', 'transform_target_method_param', 'exp_name_log', 'iterative_imputation_iters_param', '_available_plots', 'fold_groups_param', '_ml_usecase', 'dashboard_logger', '_all_models_internal', 'target_param', 'USI', 'prep_pipe', 'X_train', '_gpu_n_jobs_param', 'create_model_container', 'data_before_preprocess', 'y_train'}\n",
      "INFO:logs:Preparing display monitor\n",
      "INFO:logs:Preparing display monitor\n"
     ]
    },
    {
     "data": {
      "application/vnd.jupyter.widget-view+json": {
       "model_id": "19270ec0461747a88693d8a254e8ea7b",
       "version_major": 2,
       "version_minor": 0
      },
      "text/plain": [
       "IntProgress(value=0, description='Processing: ', max=3)"
      ]
     },
     "metadata": {},
     "output_type": "display_data"
    },
    {
     "data": {
      "text/html": [
       "\n",
       "  <div id=\"df-56064285-cae0-45df-bc9d-8443bfbb6327\">\n",
       "    <div class=\"colab-df-container\">\n",
       "      <div>\n",
       "<style scoped>\n",
       "    .dataframe tbody tr th:only-of-type {\n",
       "        vertical-align: middle;\n",
       "    }\n",
       "\n",
       "    .dataframe tbody tr th {\n",
       "        vertical-align: top;\n",
       "    }\n",
       "\n",
       "    .dataframe thead th {\n",
       "        text-align: right;\n",
       "    }\n",
       "</style>\n",
       "<table border=\"1\" class=\"dataframe\">\n",
       "  <thead>\n",
       "    <tr style=\"text-align: right;\">\n",
       "      <th></th>\n",
       "      <th></th>\n",
       "      <th></th>\n",
       "    </tr>\n",
       "    <tr>\n",
       "      <th></th>\n",
       "      <th></th>\n",
       "      <th></th>\n",
       "    </tr>\n",
       "  </thead>\n",
       "  <tbody>\n",
       "    <tr>\n",
       "      <th>Initiated</th>\n",
       "      <td>. . . . . . . . . . . . . . . . . .</td>\n",
       "      <td>17:45:12</td>\n",
       "    </tr>\n",
       "    <tr>\n",
       "      <th>Status</th>\n",
       "      <td>. . . . . . . . . . . . . . . . . .</td>\n",
       "      <td>Preprocessing Data</td>\n",
       "    </tr>\n",
       "  </tbody>\n",
       "</table>\n",
       "</div>\n",
       "      <button class=\"colab-df-convert\" onclick=\"convertToInteractive('df-56064285-cae0-45df-bc9d-8443bfbb6327')\"\n",
       "              title=\"Convert this dataframe to an interactive table.\"\n",
       "              style=\"display:none;\">\n",
       "        \n",
       "  <svg xmlns=\"http://www.w3.org/2000/svg\" height=\"24px\"viewBox=\"0 0 24 24\"\n",
       "       width=\"24px\">\n",
       "    <path d=\"M0 0h24v24H0V0z\" fill=\"none\"/>\n",
       "    <path d=\"M18.56 5.44l.94 2.06.94-2.06 2.06-.94-2.06-.94-.94-2.06-.94 2.06-2.06.94zm-11 1L8.5 8.5l.94-2.06 2.06-.94-2.06-.94L8.5 2.5l-.94 2.06-2.06.94zm10 10l.94 2.06.94-2.06 2.06-.94-2.06-.94-.94-2.06-.94 2.06-2.06.94z\"/><path d=\"M17.41 7.96l-1.37-1.37c-.4-.4-.92-.59-1.43-.59-.52 0-1.04.2-1.43.59L10.3 9.45l-7.72 7.72c-.78.78-.78 2.05 0 2.83L4 21.41c.39.39.9.59 1.41.59.51 0 1.02-.2 1.41-.59l7.78-7.78 2.81-2.81c.8-.78.8-2.07 0-2.86zM5.41 20L4 18.59l7.72-7.72 1.47 1.35L5.41 20z\"/>\n",
       "  </svg>\n",
       "      </button>\n",
       "      \n",
       "  <style>\n",
       "    .colab-df-container {\n",
       "      display:flex;\n",
       "      flex-wrap:wrap;\n",
       "      gap: 12px;\n",
       "    }\n",
       "\n",
       "    .colab-df-convert {\n",
       "      background-color: #E8F0FE;\n",
       "      border: none;\n",
       "      border-radius: 50%;\n",
       "      cursor: pointer;\n",
       "      display: none;\n",
       "      fill: #1967D2;\n",
       "      height: 32px;\n",
       "      padding: 0 0 0 0;\n",
       "      width: 32px;\n",
       "    }\n",
       "\n",
       "    .colab-df-convert:hover {\n",
       "      background-color: #E2EBFA;\n",
       "      box-shadow: 0px 1px 2px rgba(60, 64, 67, 0.3), 0px 1px 3px 1px rgba(60, 64, 67, 0.15);\n",
       "      fill: #174EA6;\n",
       "    }\n",
       "\n",
       "    [theme=dark] .colab-df-convert {\n",
       "      background-color: #3B4455;\n",
       "      fill: #D2E3FC;\n",
       "    }\n",
       "\n",
       "    [theme=dark] .colab-df-convert:hover {\n",
       "      background-color: #434B5C;\n",
       "      box-shadow: 0px 1px 3px 1px rgba(0, 0, 0, 0.15);\n",
       "      filter: drop-shadow(0px 1px 2px rgba(0, 0, 0, 0.3));\n",
       "      fill: #FFFFFF;\n",
       "    }\n",
       "  </style>\n",
       "\n",
       "      <script>\n",
       "        const buttonEl =\n",
       "          document.querySelector('#df-56064285-cae0-45df-bc9d-8443bfbb6327 button.colab-df-convert');\n",
       "        buttonEl.style.display =\n",
       "          google.colab.kernel.accessAllowed ? 'block' : 'none';\n",
       "\n",
       "        async function convertToInteractive(key) {\n",
       "          const element = document.querySelector('#df-56064285-cae0-45df-bc9d-8443bfbb6327');\n",
       "          const dataTable =\n",
       "            await google.colab.kernel.invokeFunction('convertToInteractive',\n",
       "                                                     [key], {});\n",
       "          if (!dataTable) return;\n",
       "\n",
       "          const docLinkHtml = 'Like what you see? Visit the ' +\n",
       "            '<a target=\"_blank\" href=https://colab.research.google.com/notebooks/data_table.ipynb>data table notebook</a>'\n",
       "            + ' to learn more about interactive tables.';\n",
       "          element.innerHTML = '';\n",
       "          dataTable['output_type'] = 'display_data';\n",
       "          await google.colab.output.renderOutput(dataTable, element);\n",
       "          const docLink = document.createElement('div');\n",
       "          docLink.innerHTML = docLinkHtml;\n",
       "          element.appendChild(docLink);\n",
       "        }\n",
       "      </script>\n",
       "    </div>\n",
       "  </div>\n",
       "  "
      ],
      "text/plain": [
       "                                                                  \n",
       "                                                                  \n",
       "Initiated  . . . . . . . . . . . . . . . . . .            17:45:12\n",
       "Status     . . . . . . . . . . . . . . . . . .  Preprocessing Data"
      ]
     },
     "metadata": {},
     "output_type": "display_data"
    },
    {
     "name": "stderr",
     "output_type": "stream",
     "text": [
      "INFO:logs:Importing libraries\n",
      "INFO:logs:Copying data for preprocessing\n",
      "INFO:logs:Declaring preprocessing parameters\n",
      "INFO:logs:Creating preprocessing pipeline\n",
      "INFO:logs:Preprocessing pipeline created successfully\n",
      "ERROR:logs:(Process Exit): setup has been interupted with user command 'quit'. setup must rerun.\n",
      "INFO:logs:Creating global containers\n",
      "INFO:logs:Internal pipeline: Pipeline(memory=None, steps=[('empty_step', 'passthrough')], verbose=False)\n"
     ]
    },
    {
     "data": {
      "application/vnd.jupyter.widget-view+json": {
       "model_id": "dfbbb5178ecf4ed0a1bf7c81089685ed",
       "version_major": 2,
       "version_minor": 0
      },
      "text/plain": [
       "Text(value=\"Following data types have been inferred automatically, if they are correct press enter to continue…"
      ]
     },
     "metadata": {},
     "output_type": "display_data"
    },
    {
     "data": {
      "text/html": [
       "\n",
       "  <div id=\"df-4fdc159c-4ba0-478e-a910-8d2f95508734\">\n",
       "    <div class=\"colab-df-container\">\n",
       "      <div>\n",
       "<style scoped>\n",
       "    .dataframe tbody tr th:only-of-type {\n",
       "        vertical-align: middle;\n",
       "    }\n",
       "\n",
       "    .dataframe tbody tr th {\n",
       "        vertical-align: top;\n",
       "    }\n",
       "\n",
       "    .dataframe thead th {\n",
       "        text-align: right;\n",
       "    }\n",
       "</style>\n",
       "<table border=\"1\" class=\"dataframe\">\n",
       "  <thead>\n",
       "    <tr style=\"text-align: right;\">\n",
       "      <th></th>\n",
       "      <th>Data Type</th>\n",
       "    </tr>\n",
       "  </thead>\n",
       "  <tbody>\n",
       "    <tr>\n",
       "      <th>0</th>\n",
       "      <td></td>\n",
       "    </tr>\n",
       "    <tr>\n",
       "      <th>1</th>\n",
       "      <td></td>\n",
       "    </tr>\n",
       "    <tr>\n",
       "      <th>2</th>\n",
       "      <td></td>\n",
       "    </tr>\n",
       "    <tr>\n",
       "      <th>3</th>\n",
       "      <td></td>\n",
       "    </tr>\n",
       "    <tr>\n",
       "      <th>4</th>\n",
       "      <td></td>\n",
       "    </tr>\n",
       "    <tr>\n",
       "      <th>...</th>\n",
       "      <td>...</td>\n",
       "    </tr>\n",
       "    <tr>\n",
       "      <th>119996</th>\n",
       "      <td></td>\n",
       "    </tr>\n",
       "    <tr>\n",
       "      <th>119997</th>\n",
       "      <td></td>\n",
       "    </tr>\n",
       "    <tr>\n",
       "      <th>119998</th>\n",
       "      <td></td>\n",
       "    </tr>\n",
       "    <tr>\n",
       "      <th>119999</th>\n",
       "      <td></td>\n",
       "    </tr>\n",
       "    <tr>\n",
       "      <th>Rótulo_Y</th>\n",
       "      <td>Label</td>\n",
       "    </tr>\n",
       "  </tbody>\n",
       "</table>\n",
       "<p>120001 rows × 1 columns</p>\n",
       "</div>\n",
       "      <button class=\"colab-df-convert\" onclick=\"convertToInteractive('df-4fdc159c-4ba0-478e-a910-8d2f95508734')\"\n",
       "              title=\"Convert this dataframe to an interactive table.\"\n",
       "              style=\"display:none;\">\n",
       "        \n",
       "  <svg xmlns=\"http://www.w3.org/2000/svg\" height=\"24px\"viewBox=\"0 0 24 24\"\n",
       "       width=\"24px\">\n",
       "    <path d=\"M0 0h24v24H0V0z\" fill=\"none\"/>\n",
       "    <path d=\"M18.56 5.44l.94 2.06.94-2.06 2.06-.94-2.06-.94-.94-2.06-.94 2.06-2.06.94zm-11 1L8.5 8.5l.94-2.06 2.06-.94-2.06-.94L8.5 2.5l-.94 2.06-2.06.94zm10 10l.94 2.06.94-2.06 2.06-.94-2.06-.94-.94-2.06-.94 2.06-2.06.94z\"/><path d=\"M17.41 7.96l-1.37-1.37c-.4-.4-.92-.59-1.43-.59-.52 0-1.04.2-1.43.59L10.3 9.45l-7.72 7.72c-.78.78-.78 2.05 0 2.83L4 21.41c.39.39.9.59 1.41.59.51 0 1.02-.2 1.41-.59l7.78-7.78 2.81-2.81c.8-.78.8-2.07 0-2.86zM5.41 20L4 18.59l7.72-7.72 1.47 1.35L5.41 20z\"/>\n",
       "  </svg>\n",
       "      </button>\n",
       "      \n",
       "  <style>\n",
       "    .colab-df-container {\n",
       "      display:flex;\n",
       "      flex-wrap:wrap;\n",
       "      gap: 12px;\n",
       "    }\n",
       "\n",
       "    .colab-df-convert {\n",
       "      background-color: #E8F0FE;\n",
       "      border: none;\n",
       "      border-radius: 50%;\n",
       "      cursor: pointer;\n",
       "      display: none;\n",
       "      fill: #1967D2;\n",
       "      height: 32px;\n",
       "      padding: 0 0 0 0;\n",
       "      width: 32px;\n",
       "    }\n",
       "\n",
       "    .colab-df-convert:hover {\n",
       "      background-color: #E2EBFA;\n",
       "      box-shadow: 0px 1px 2px rgba(60, 64, 67, 0.3), 0px 1px 3px 1px rgba(60, 64, 67, 0.15);\n",
       "      fill: #174EA6;\n",
       "    }\n",
       "\n",
       "    [theme=dark] .colab-df-convert {\n",
       "      background-color: #3B4455;\n",
       "      fill: #D2E3FC;\n",
       "    }\n",
       "\n",
       "    [theme=dark] .colab-df-convert:hover {\n",
       "      background-color: #434B5C;\n",
       "      box-shadow: 0px 1px 3px 1px rgba(0, 0, 0, 0.15);\n",
       "      filter: drop-shadow(0px 1px 2px rgba(0, 0, 0, 0.3));\n",
       "      fill: #FFFFFF;\n",
       "    }\n",
       "  </style>\n",
       "\n",
       "      <script>\n",
       "        const buttonEl =\n",
       "          document.querySelector('#df-4fdc159c-4ba0-478e-a910-8d2f95508734 button.colab-df-convert');\n",
       "        buttonEl.style.display =\n",
       "          google.colab.kernel.accessAllowed ? 'block' : 'none';\n",
       "\n",
       "        async function convertToInteractive(key) {\n",
       "          const element = document.querySelector('#df-4fdc159c-4ba0-478e-a910-8d2f95508734');\n",
       "          const dataTable =\n",
       "            await google.colab.kernel.invokeFunction('convertToInteractive',\n",
       "                                                     [key], {});\n",
       "          if (!dataTable) return;\n",
       "\n",
       "          const docLinkHtml = 'Like what you see? Visit the ' +\n",
       "            '<a target=\"_blank\" href=https://colab.research.google.com/notebooks/data_table.ipynb>data table notebook</a>'\n",
       "            + ' to learn more about interactive tables.';\n",
       "          element.innerHTML = '';\n",
       "          dataTable['output_type'] = 'display_data';\n",
       "          await google.colab.output.renderOutput(dataTable, element);\n",
       "          const docLink = document.createElement('div');\n",
       "          docLink.innerHTML = docLinkHtml;\n",
       "          element.appendChild(docLink);\n",
       "        }\n",
       "      </script>\n",
       "    </div>\n",
       "  </div>\n",
       "  "
      ],
      "text/plain": [
       "         Data Type\n",
       "0                 \n",
       "1                 \n",
       "2                 \n",
       "3                 \n",
       "4                 \n",
       "...            ...\n",
       "119996            \n",
       "119997            \n",
       "119998            \n",
       "119999            \n",
       "Rótulo_Y     Label\n",
       "\n",
       "[120001 rows x 1 columns]"
      ]
     },
     "metadata": {},
     "output_type": "display_data"
    }
   ],
   "source": [
    "exp_mclf101 = setup(data = data, target = 'Rótulo_Y', session_id=123) "
   ]
  },
  {
   "cell_type": "code",
   "execution_count": null,
   "metadata": {
    "id": "kIODXps4sfG8"
   },
   "outputs": [],
   "source": []
  }
 ],
 "metadata": {
  "accelerator": "TPU",
  "colab": {
   "provenance": []
  },
  "gpuClass": "standard",
  "kernelspec": {
   "display_name": "Python 3 (ipykernel)",
   "language": "python",
   "name": "python3"
  },
  "language_info": {
   "codemirror_mode": {
    "name": "ipython",
    "version": 3
   },
   "file_extension": ".py",
   "mimetype": "text/x-python",
   "name": "python",
   "nbconvert_exporter": "python",
   "pygments_lexer": "ipython3",
   "version": "3.7.9"
  },
  "widgets": {
   "application/vnd.jupyter.widget-state+json": {
    "19270ec0461747a88693d8a254e8ea7b": {
     "model_module": "@jupyter-widgets/controls",
     "model_module_version": "1.5.0",
     "model_name": "IntProgressModel",
     "state": {
      "_dom_classes": [],
      "_model_module": "@jupyter-widgets/controls",
      "_model_module_version": "1.5.0",
      "_model_name": "IntProgressModel",
      "_view_count": null,
      "_view_module": "@jupyter-widgets/controls",
      "_view_module_version": "1.5.0",
      "_view_name": "ProgressView",
      "bar_style": "",
      "description": "Processing: ",
      "description_tooltip": null,
      "layout": "IPY_MODEL_60fe738d0ae24f35979105bd45ff1ed7",
      "max": 3,
      "min": 0,
      "orientation": "horizontal",
      "style": "IPY_MODEL_3ea1f18f3889428db56d68cd0facdcc9",
      "value": 2
     }
    },
    "3ea1f18f3889428db56d68cd0facdcc9": {
     "model_module": "@jupyter-widgets/controls",
     "model_module_version": "1.5.0",
     "model_name": "ProgressStyleModel",
     "state": {
      "_model_module": "@jupyter-widgets/controls",
      "_model_module_version": "1.5.0",
      "_model_name": "ProgressStyleModel",
      "_view_count": null,
      "_view_module": "@jupyter-widgets/base",
      "_view_module_version": "1.2.0",
      "_view_name": "StyleView",
      "bar_color": null,
      "description_width": ""
     }
    },
    "60fe738d0ae24f35979105bd45ff1ed7": {
     "model_module": "@jupyter-widgets/base",
     "model_module_version": "1.2.0",
     "model_name": "LayoutModel",
     "state": {
      "_model_module": "@jupyter-widgets/base",
      "_model_module_version": "1.2.0",
      "_model_name": "LayoutModel",
      "_view_count": null,
      "_view_module": "@jupyter-widgets/base",
      "_view_module_version": "1.2.0",
      "_view_name": "LayoutView",
      "align_content": null,
      "align_items": null,
      "align_self": null,
      "border": null,
      "bottom": null,
      "display": null,
      "flex": null,
      "flex_flow": null,
      "grid_area": null,
      "grid_auto_columns": null,
      "grid_auto_flow": null,
      "grid_auto_rows": null,
      "grid_column": null,
      "grid_gap": null,
      "grid_row": null,
      "grid_template_areas": null,
      "grid_template_columns": null,
      "grid_template_rows": null,
      "height": null,
      "justify_content": null,
      "justify_items": null,
      "left": null,
      "margin": null,
      "max_height": null,
      "max_width": null,
      "min_height": null,
      "min_width": null,
      "object_fit": null,
      "object_position": null,
      "order": null,
      "overflow": null,
      "overflow_x": null,
      "overflow_y": null,
      "padding": null,
      "right": null,
      "top": null,
      "visibility": null,
      "width": null
     }
    },
    "694a9dda51f7428698f5fbd6e6ca2837": {
     "model_module": "@jupyter-widgets/base",
     "model_module_version": "1.2.0",
     "model_name": "LayoutModel",
     "state": {
      "_model_module": "@jupyter-widgets/base",
      "_model_module_version": "1.2.0",
      "_model_name": "LayoutModel",
      "_view_count": null,
      "_view_module": "@jupyter-widgets/base",
      "_view_module_version": "1.2.0",
      "_view_name": "LayoutView",
      "align_content": null,
      "align_items": null,
      "align_self": null,
      "border": null,
      "bottom": null,
      "display": null,
      "flex": null,
      "flex_flow": null,
      "grid_area": null,
      "grid_auto_columns": null,
      "grid_auto_flow": null,
      "grid_auto_rows": null,
      "grid_column": null,
      "grid_gap": null,
      "grid_row": null,
      "grid_template_areas": null,
      "grid_template_columns": null,
      "grid_template_rows": null,
      "height": null,
      "justify_content": null,
      "justify_items": null,
      "left": null,
      "margin": null,
      "max_height": null,
      "max_width": null,
      "min_height": null,
      "min_width": null,
      "object_fit": null,
      "object_position": null,
      "order": null,
      "overflow": null,
      "overflow_x": null,
      "overflow_y": null,
      "padding": null,
      "right": null,
      "top": null,
      "visibility": null,
      "width": "100%"
     }
    },
    "d989e01b2e6d40efab5496dde382eb4a": {
     "model_module": "@jupyter-widgets/controls",
     "model_module_version": "1.5.0",
     "model_name": "DescriptionStyleModel",
     "state": {
      "_model_module": "@jupyter-widgets/controls",
      "_model_module_version": "1.5.0",
      "_model_name": "DescriptionStyleModel",
      "_view_count": null,
      "_view_module": "@jupyter-widgets/base",
      "_view_module_version": "1.2.0",
      "_view_name": "StyleView",
      "description_width": ""
     }
    },
    "dfbbb5178ecf4ed0a1bf7c81089685ed": {
     "model_module": "@jupyter-widgets/controls",
     "model_module_version": "1.5.0",
     "model_name": "TextModel",
     "state": {
      "_dom_classes": [],
      "_model_module": "@jupyter-widgets/controls",
      "_model_module_version": "1.5.0",
      "_model_name": "TextModel",
      "_view_count": null,
      "_view_module": "@jupyter-widgets/controls",
      "_view_module_version": "1.5.0",
      "_view_name": "TextView",
      "continuous_update": true,
      "description": "",
      "description_tooltip": null,
      "disabled": false,
      "layout": "IPY_MODEL_694a9dda51f7428698f5fbd6e6ca2837",
      "placeholder": "​",
      "style": "IPY_MODEL_d989e01b2e6d40efab5496dde382eb4a",
      "value": "Following data types have been inferred automatically, if they are correct press enter to continue or type 'quit' otherwise."
     }
    }
   }
  }
 },
 "nbformat": 4,
 "nbformat_minor": 4
}
