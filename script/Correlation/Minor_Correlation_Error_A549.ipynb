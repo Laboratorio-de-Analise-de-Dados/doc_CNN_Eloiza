{
  "nbformat": 4,
  "nbformat_minor": 0,
  "metadata": {
    "colab": {
      "name": "Minor_Correlation_Error_A549.ipynb",
      "provenance": [],
      "mount_file_id": "1gQIjMbHjhjXx8IeUVkBN_4W-gf43pWIZ",
      "authorship_tag": "ABX9TyNLNA29eAnX2a90bkidEwNj"
    },
    "kernelspec": {
      "name": "python3",
      "display_name": "Python 3"
    },
    "language_info": {
      "name": "python"
    }
  },
  "cells": [
    {
      "cell_type": "markdown",
      "source": [
        "Correlation\n",
        "\n",
        "For this analysis, I need to check if there is a relationship between the predicted values (model) and the values I know (y). Whether this relationship is positive or negative."
      ],
      "metadata": {
        "id": "drk8EzJ_MQMW"
      }
    },
    {
      "cell_type": "markdown",
      "source": [
        "### Organization of libraries"
      ],
      "metadata": {
        "id": "LaBVq9VaNo8o"
      }
    },
    {
      "cell_type": "code",
      "execution_count": null,
      "metadata": {
        "id": "9Afm8Op2uavd"
      },
      "outputs": [],
      "source": [
        "#salvar/carregar arquivos em diferentes formatos\n",
        "import joblib\n",
        "#gerar gráfico\n",
        "import matplotlib\n",
        "#estruturação dos dados\n",
        "import numpy as np\n",
        "#gerar gráfico\n",
        "import seaborn as sns\n",
        "#gerar gráfico\n",
        "import matplotlib.pyplot as plt\n",
        "#Carregar o modelo\n",
        "from keras.models import load_model\n"
      ]
    },
    {
      "cell_type": "code",
      "source": [
        "pip install util-gfsilveira"
      ],
      "metadata": {
        "colab": {
          "base_uri": "https://localhost:8080/"
        },
        "id": "Kn_TmAOxxd-_",
        "outputId": "801117fb-4324-46a1-d95b-810af601cb00"
      },
      "execution_count": null,
      "outputs": [
        {
          "output_type": "stream",
          "name": "stdout",
          "text": [
            "Looking in indexes: https://pypi.org/simple, https://us-python.pkg.dev/colab-wheels/public/simple/\n",
            "Requirement already satisfied: util-gfsilveira in /usr/local/lib/python3.7/dist-packages (0.1)\n"
          ]
        }
      ]
    },
    {
      "cell_type": "markdown",
      "source": [
        "Regression Model A549 - MINOR ERROR"
      ],
      "metadata": {
        "id": "woazDkf1NxNO"
      }
    },
    {
      "cell_type": "code",
      "source": [
        "#Importando o modelo contendo os valores previstos para o número de células nas imagens\n",
        "\n",
        "modelo_menor_erro = load_model('/content/drive/MyDrive/1_Informações_scripts/model__A549_regressao_menor_erro_Mean_squared_error_30%_18_PACIENCE2022-6-29.h5')\n",
        "modelo_menor_erro"
      ],
      "metadata": {
        "colab": {
          "base_uri": "https://localhost:8080/"
        },
        "id": "vhnGcTinxl-_",
        "outputId": "e4b2bf54-f5c3-4b2a-b17a-02603510b032"
      },
      "execution_count": null,
      "outputs": [
        {
          "output_type": "execute_result",
          "data": {
            "text/plain": [
              "<keras.engine.sequential.Sequential at 0x7fd37989d5d0>"
            ]
          },
          "metadata": {},
          "execution_count": 25
        }
      ]
    },
    {
      "cell_type": "markdown",
      "source": [
        "### Data needed to get X_test"
      ],
      "metadata": {
        "id": "ftz0R5TWN8_5"
      }
    },
    {
      "cell_type": "code",
      "source": [
        "#Importando as imagnes que foram salvas para treinar e testar o modelo quando foram separadas usando train_test_split\n",
        "\n",
        "X_test_menor_erro = joblib.load('/content/drive/MyDrive/1_Informações_scripts/images_de_X_test_a549_melhor_modelo_18_PACIENCE_500_2022-6-29.gz') #carregando arquivo\n",
        "X_test_menor_erro.shape #30% das imagens que foram salvas para testar o modelo"
      ],
      "metadata": {
        "colab": {
          "base_uri": "https://localhost:8080/"
        },
        "id": "YYVc-u7E3en7",
        "outputId": "0a7b7839-c5db-4122-96d1-2ce03e326d4e"
      },
      "execution_count": null,
      "outputs": [
        {
          "output_type": "execute_result",
          "data": {
            "text/plain": [
              "(341, 200, 200, 3)"
            ]
          },
          "metadata": {},
          "execution_count": 26
        }
      ]
    },
    {
      "cell_type": "code",
      "source": [
        "#Importando os rótulos de cada imagem - número de células para cada imagem\n",
        "\n",
        "y_test_menor_erro = joblib.load('/content/drive/MyDrive/1_Informações_scripts/images_de_y_test_a549_melhor_modelo_18_PACIENCE%00_2022-6-29.gz')\n",
        "y_test_menor_erro.shape #30% dos rótulos que foram salvos das imagens"
      ],
      "metadata": {
        "colab": {
          "base_uri": "https://localhost:8080/"
        },
        "id": "jXZqsPwI4KHw",
        "outputId": "e47fbbb8-90ad-4c46-8f45-8545cd44597a"
      },
      "execution_count": null,
      "outputs": [
        {
          "output_type": "execute_result",
          "data": {
            "text/plain": [
              "(341,)"
            ]
          },
          "metadata": {},
          "execution_count": 27
        }
      ]
    },
    {
      "cell_type": "markdown",
      "source": [
        "### Getting X_test values to create predicted data list"
      ],
      "metadata": {
        "id": "2VjICJ5ZOKmq"
      }
    },
    {
      "cell_type": "code",
      "source": [
        "#ROTULO\n",
        "dados_prev = modelo_menor_erro.predict(X_test_menor_erro) #usando a função predict para obter os valores das imagens de X_test\n",
        "lista_previsto_menor_erro = dados_prev.flatten().tolist() #criando uma lista com valores e retirando as listas dentro de listas (comuns em arrays)\n",
        "len(lista_previsto_menor_erro)"
      ],
      "metadata": {
        "id": "tTpBZcg9TFb3",
        "colab": {
          "base_uri": "https://localhost:8080/"
        },
        "outputId": "13d9d5f8-6a2e-4e8c-9cbc-a6b36fd064ce"
      },
      "execution_count": null,
      "outputs": [
        {
          "output_type": "execute_result",
          "data": {
            "text/plain": [
              "341"
            ]
          },
          "metadata": {},
          "execution_count": 28
        }
      ]
    },
    {
      "cell_type": "markdown",
      "source": [
        ""
      ],
      "metadata": {
        "id": "1cGwQvBy6Twm"
      }
    },
    {
      "cell_type": "markdown",
      "source": [
        "### Observed data values"
      ],
      "metadata": {
        "id": "T6cba4sqOQ17"
      }
    },
    {
      "cell_type": "code",
      "source": [
        "#ROTULO\n",
        "lista_observado_menor_erro = list(y_test_menor_erro) #Salvando os rótulos que estavam em único array em uma lista\n",
        "len(lista_observado_menor_erro)"
      ],
      "metadata": {
        "id": "ICQmY0-tYUlh",
        "colab": {
          "base_uri": "https://localhost:8080/"
        },
        "outputId": "25685290-4bad-47b8-d6c0-684dacf7337d"
      },
      "execution_count": null,
      "outputs": [
        {
          "output_type": "execute_result",
          "data": {
            "text/plain": [
              "341"
            ]
          },
          "metadata": {},
          "execution_count": 29
        }
      ]
    },
    {
      "cell_type": "markdown",
      "source": [
        "### Creating the dataframe to organize the lists of values"
      ],
      "metadata": {
        "id": "5E1tEfRGOWMA"
      }
    },
    {
      "cell_type": "code",
      "source": [
        "import pandas as pd #Chamando pandas para criar Dataframe\n",
        "from scipy.stats.stats import pearsonr as stats #importando a biblioteca para gráfico de correlação\n"
      ],
      "metadata": {
        "id": "l9H08-gBCnLh"
      },
      "execution_count": null,
      "outputs": []
    },
    {
      "cell_type": "code",
      "source": [
        "#criando um dataframe para organizar os dados de cada lista criada\n",
        "df_menor_erro = pd.DataFrame(zip(lista_observado_menor_erro,lista_previsto_menor_erro), \n",
        "                  columns = ['Observed values','Lista preditos']) #criando as colunas que vão receber as listas\n",
        "df_menor_erro.tail() #chamando a dataframe"
      ],
      "metadata": {
        "colab": {
          "base_uri": "https://localhost:8080/",
          "height": 206
        },
        "id": "urHH63C6Da7v",
        "outputId": "0f68153a-2e61-4ce3-ddd8-34bd0233d598"
      },
      "execution_count": null,
      "outputs": [
        {
          "output_type": "execute_result",
          "data": {
            "text/plain": [
              "     Observed values  Lista preditos\n",
              "336              591      489.135406\n",
              "337             1041     1088.215820\n",
              "338              212      302.097565\n",
              "339              241      289.556000\n",
              "340             1044      984.529114"
            ],
            "text/html": [
              "\n",
              "  <div id=\"df-a3727dfc-c92b-4e7c-a2c5-d24356c581e9\">\n",
              "    <div class=\"colab-df-container\">\n",
              "      <div>\n",
              "<style scoped>\n",
              "    .dataframe tbody tr th:only-of-type {\n",
              "        vertical-align: middle;\n",
              "    }\n",
              "\n",
              "    .dataframe tbody tr th {\n",
              "        vertical-align: top;\n",
              "    }\n",
              "\n",
              "    .dataframe thead th {\n",
              "        text-align: right;\n",
              "    }\n",
              "</style>\n",
              "<table border=\"1\" class=\"dataframe\">\n",
              "  <thead>\n",
              "    <tr style=\"text-align: right;\">\n",
              "      <th></th>\n",
              "      <th>Observed values</th>\n",
              "      <th>Lista preditos</th>\n",
              "    </tr>\n",
              "  </thead>\n",
              "  <tbody>\n",
              "    <tr>\n",
              "      <th>336</th>\n",
              "      <td>591</td>\n",
              "      <td>489.135406</td>\n",
              "    </tr>\n",
              "    <tr>\n",
              "      <th>337</th>\n",
              "      <td>1041</td>\n",
              "      <td>1088.215820</td>\n",
              "    </tr>\n",
              "    <tr>\n",
              "      <th>338</th>\n",
              "      <td>212</td>\n",
              "      <td>302.097565</td>\n",
              "    </tr>\n",
              "    <tr>\n",
              "      <th>339</th>\n",
              "      <td>241</td>\n",
              "      <td>289.556000</td>\n",
              "    </tr>\n",
              "    <tr>\n",
              "      <th>340</th>\n",
              "      <td>1044</td>\n",
              "      <td>984.529114</td>\n",
              "    </tr>\n",
              "  </tbody>\n",
              "</table>\n",
              "</div>\n",
              "      <button class=\"colab-df-convert\" onclick=\"convertToInteractive('df-a3727dfc-c92b-4e7c-a2c5-d24356c581e9')\"\n",
              "              title=\"Convert this dataframe to an interactive table.\"\n",
              "              style=\"display:none;\">\n",
              "        \n",
              "  <svg xmlns=\"http://www.w3.org/2000/svg\" height=\"24px\"viewBox=\"0 0 24 24\"\n",
              "       width=\"24px\">\n",
              "    <path d=\"M0 0h24v24H0V0z\" fill=\"none\"/>\n",
              "    <path d=\"M18.56 5.44l.94 2.06.94-2.06 2.06-.94-2.06-.94-.94-2.06-.94 2.06-2.06.94zm-11 1L8.5 8.5l.94-2.06 2.06-.94-2.06-.94L8.5 2.5l-.94 2.06-2.06.94zm10 10l.94 2.06.94-2.06 2.06-.94-2.06-.94-.94-2.06-.94 2.06-2.06.94z\"/><path d=\"M17.41 7.96l-1.37-1.37c-.4-.4-.92-.59-1.43-.59-.52 0-1.04.2-1.43.59L10.3 9.45l-7.72 7.72c-.78.78-.78 2.05 0 2.83L4 21.41c.39.39.9.59 1.41.59.51 0 1.02-.2 1.41-.59l7.78-7.78 2.81-2.81c.8-.78.8-2.07 0-2.86zM5.41 20L4 18.59l7.72-7.72 1.47 1.35L5.41 20z\"/>\n",
              "  </svg>\n",
              "      </button>\n",
              "      \n",
              "  <style>\n",
              "    .colab-df-container {\n",
              "      display:flex;\n",
              "      flex-wrap:wrap;\n",
              "      gap: 12px;\n",
              "    }\n",
              "\n",
              "    .colab-df-convert {\n",
              "      background-color: #E8F0FE;\n",
              "      border: none;\n",
              "      border-radius: 50%;\n",
              "      cursor: pointer;\n",
              "      display: none;\n",
              "      fill: #1967D2;\n",
              "      height: 32px;\n",
              "      padding: 0 0 0 0;\n",
              "      width: 32px;\n",
              "    }\n",
              "\n",
              "    .colab-df-convert:hover {\n",
              "      background-color: #E2EBFA;\n",
              "      box-shadow: 0px 1px 2px rgba(60, 64, 67, 0.3), 0px 1px 3px 1px rgba(60, 64, 67, 0.15);\n",
              "      fill: #174EA6;\n",
              "    }\n",
              "\n",
              "    [theme=dark] .colab-df-convert {\n",
              "      background-color: #3B4455;\n",
              "      fill: #D2E3FC;\n",
              "    }\n",
              "\n",
              "    [theme=dark] .colab-df-convert:hover {\n",
              "      background-color: #434B5C;\n",
              "      box-shadow: 0px 1px 3px 1px rgba(0, 0, 0, 0.15);\n",
              "      filter: drop-shadow(0px 1px 2px rgba(0, 0, 0, 0.3));\n",
              "      fill: #FFFFFF;\n",
              "    }\n",
              "  </style>\n",
              "\n",
              "      <script>\n",
              "        const buttonEl =\n",
              "          document.querySelector('#df-a3727dfc-c92b-4e7c-a2c5-d24356c581e9 button.colab-df-convert');\n",
              "        buttonEl.style.display =\n",
              "          google.colab.kernel.accessAllowed ? 'block' : 'none';\n",
              "\n",
              "        async function convertToInteractive(key) {\n",
              "          const element = document.querySelector('#df-a3727dfc-c92b-4e7c-a2c5-d24356c581e9');\n",
              "          const dataTable =\n",
              "            await google.colab.kernel.invokeFunction('convertToInteractive',\n",
              "                                                     [key], {});\n",
              "          if (!dataTable) return;\n",
              "\n",
              "          const docLinkHtml = 'Like what you see? Visit the ' +\n",
              "            '<a target=\"_blank\" href=https://colab.research.google.com/notebooks/data_table.ipynb>data table notebook</a>'\n",
              "            + ' to learn more about interactive tables.';\n",
              "          element.innerHTML = '';\n",
              "          dataTable['output_type'] = 'display_data';\n",
              "          await google.colab.output.renderOutput(dataTable, element);\n",
              "          const docLink = document.createElement('div');\n",
              "          docLink.innerHTML = docLinkHtml;\n",
              "          element.appendChild(docLink);\n",
              "        }\n",
              "      </script>\n",
              "    </div>\n",
              "  </div>\n",
              "  "
            ]
          },
          "metadata": {},
          "execution_count": 31
        }
      ]
    },
    {
      "cell_type": "code",
      "source": [
        "#Precisava do dado arrendodado, já que era muito extenso, então foi criada uma nova coluna com esses valores e adicionado ao df\n",
        "teste = round(df_menor_erro['Lista preditos'],2) #arredondando\n",
        "df_menor_erro['Predicted values'] = teste #criando a coluna\n",
        "df_menor_erro.head()"
      ],
      "metadata": {
        "id": "RYiRrt7riAQb",
        "colab": {
          "base_uri": "https://localhost:8080/",
          "height": 206
        },
        "outputId": "c2b9956f-77cd-407a-a269-aa23872bb676"
      },
      "execution_count": null,
      "outputs": [
        {
          "output_type": "execute_result",
          "data": {
            "text/plain": [
              "   Observed values  Lista preditos  Predicted values\n",
              "0              466      444.524567            444.52\n",
              "1              944      946.898376            946.90\n",
              "2              455      536.983337            536.98\n",
              "3              539      566.919373            566.92\n",
              "4              874      833.592957            833.59"
            ],
            "text/html": [
              "\n",
              "  <div id=\"df-812daec2-cffc-4864-81be-5359376449da\">\n",
              "    <div class=\"colab-df-container\">\n",
              "      <div>\n",
              "<style scoped>\n",
              "    .dataframe tbody tr th:only-of-type {\n",
              "        vertical-align: middle;\n",
              "    }\n",
              "\n",
              "    .dataframe tbody tr th {\n",
              "        vertical-align: top;\n",
              "    }\n",
              "\n",
              "    .dataframe thead th {\n",
              "        text-align: right;\n",
              "    }\n",
              "</style>\n",
              "<table border=\"1\" class=\"dataframe\">\n",
              "  <thead>\n",
              "    <tr style=\"text-align: right;\">\n",
              "      <th></th>\n",
              "      <th>Observed values</th>\n",
              "      <th>Lista preditos</th>\n",
              "      <th>Predicted values</th>\n",
              "    </tr>\n",
              "  </thead>\n",
              "  <tbody>\n",
              "    <tr>\n",
              "      <th>0</th>\n",
              "      <td>466</td>\n",
              "      <td>444.524567</td>\n",
              "      <td>444.52</td>\n",
              "    </tr>\n",
              "    <tr>\n",
              "      <th>1</th>\n",
              "      <td>944</td>\n",
              "      <td>946.898376</td>\n",
              "      <td>946.90</td>\n",
              "    </tr>\n",
              "    <tr>\n",
              "      <th>2</th>\n",
              "      <td>455</td>\n",
              "      <td>536.983337</td>\n",
              "      <td>536.98</td>\n",
              "    </tr>\n",
              "    <tr>\n",
              "      <th>3</th>\n",
              "      <td>539</td>\n",
              "      <td>566.919373</td>\n",
              "      <td>566.92</td>\n",
              "    </tr>\n",
              "    <tr>\n",
              "      <th>4</th>\n",
              "      <td>874</td>\n",
              "      <td>833.592957</td>\n",
              "      <td>833.59</td>\n",
              "    </tr>\n",
              "  </tbody>\n",
              "</table>\n",
              "</div>\n",
              "      <button class=\"colab-df-convert\" onclick=\"convertToInteractive('df-812daec2-cffc-4864-81be-5359376449da')\"\n",
              "              title=\"Convert this dataframe to an interactive table.\"\n",
              "              style=\"display:none;\">\n",
              "        \n",
              "  <svg xmlns=\"http://www.w3.org/2000/svg\" height=\"24px\"viewBox=\"0 0 24 24\"\n",
              "       width=\"24px\">\n",
              "    <path d=\"M0 0h24v24H0V0z\" fill=\"none\"/>\n",
              "    <path d=\"M18.56 5.44l.94 2.06.94-2.06 2.06-.94-2.06-.94-.94-2.06-.94 2.06-2.06.94zm-11 1L8.5 8.5l.94-2.06 2.06-.94-2.06-.94L8.5 2.5l-.94 2.06-2.06.94zm10 10l.94 2.06.94-2.06 2.06-.94-2.06-.94-.94-2.06-.94 2.06-2.06.94z\"/><path d=\"M17.41 7.96l-1.37-1.37c-.4-.4-.92-.59-1.43-.59-.52 0-1.04.2-1.43.59L10.3 9.45l-7.72 7.72c-.78.78-.78 2.05 0 2.83L4 21.41c.39.39.9.59 1.41.59.51 0 1.02-.2 1.41-.59l7.78-7.78 2.81-2.81c.8-.78.8-2.07 0-2.86zM5.41 20L4 18.59l7.72-7.72 1.47 1.35L5.41 20z\"/>\n",
              "  </svg>\n",
              "      </button>\n",
              "      \n",
              "  <style>\n",
              "    .colab-df-container {\n",
              "      display:flex;\n",
              "      flex-wrap:wrap;\n",
              "      gap: 12px;\n",
              "    }\n",
              "\n",
              "    .colab-df-convert {\n",
              "      background-color: #E8F0FE;\n",
              "      border: none;\n",
              "      border-radius: 50%;\n",
              "      cursor: pointer;\n",
              "      display: none;\n",
              "      fill: #1967D2;\n",
              "      height: 32px;\n",
              "      padding: 0 0 0 0;\n",
              "      width: 32px;\n",
              "    }\n",
              "\n",
              "    .colab-df-convert:hover {\n",
              "      background-color: #E2EBFA;\n",
              "      box-shadow: 0px 1px 2px rgba(60, 64, 67, 0.3), 0px 1px 3px 1px rgba(60, 64, 67, 0.15);\n",
              "      fill: #174EA6;\n",
              "    }\n",
              "\n",
              "    [theme=dark] .colab-df-convert {\n",
              "      background-color: #3B4455;\n",
              "      fill: #D2E3FC;\n",
              "    }\n",
              "\n",
              "    [theme=dark] .colab-df-convert:hover {\n",
              "      background-color: #434B5C;\n",
              "      box-shadow: 0px 1px 3px 1px rgba(0, 0, 0, 0.15);\n",
              "      filter: drop-shadow(0px 1px 2px rgba(0, 0, 0, 0.3));\n",
              "      fill: #FFFFFF;\n",
              "    }\n",
              "  </style>\n",
              "\n",
              "      <script>\n",
              "        const buttonEl =\n",
              "          document.querySelector('#df-812daec2-cffc-4864-81be-5359376449da button.colab-df-convert');\n",
              "        buttonEl.style.display =\n",
              "          google.colab.kernel.accessAllowed ? 'block' : 'none';\n",
              "\n",
              "        async function convertToInteractive(key) {\n",
              "          const element = document.querySelector('#df-812daec2-cffc-4864-81be-5359376449da');\n",
              "          const dataTable =\n",
              "            await google.colab.kernel.invokeFunction('convertToInteractive',\n",
              "                                                     [key], {});\n",
              "          if (!dataTable) return;\n",
              "\n",
              "          const docLinkHtml = 'Like what you see? Visit the ' +\n",
              "            '<a target=\"_blank\" href=https://colab.research.google.com/notebooks/data_table.ipynb>data table notebook</a>'\n",
              "            + ' to learn more about interactive tables.';\n",
              "          element.innerHTML = '';\n",
              "          dataTable['output_type'] = 'display_data';\n",
              "          await google.colab.output.renderOutput(dataTable, element);\n",
              "          const docLink = document.createElement('div');\n",
              "          docLink.innerHTML = docLinkHtml;\n",
              "          element.appendChild(docLink);\n",
              "        }\n",
              "      </script>\n",
              "    </div>\n",
              "  </div>\n",
              "  "
            ]
          },
          "metadata": {},
          "execution_count": 32
        }
      ]
    },
    {
      "cell_type": "code",
      "source": [
        "#alternando a ordem das colunas da Dataframe para melhor organizar\n",
        "df_menor_erro = df_menor_erro.reindex(columns=['Observed values','Predicted values','Lista preditos'])\n",
        "df_menor_erro.head()"
      ],
      "metadata": {
        "colab": {
          "base_uri": "https://localhost:8080/",
          "height": 206
        },
        "id": "L3jTF3_YoQTb",
        "outputId": "eb4b9172-458d-4cf5-be7d-8914d56ba1cf"
      },
      "execution_count": null,
      "outputs": [
        {
          "output_type": "execute_result",
          "data": {
            "text/plain": [
              "   Observed values  Predicted values  Lista preditos\n",
              "0              466            444.52      444.524567\n",
              "1              944            946.90      946.898376\n",
              "2              455            536.98      536.983337\n",
              "3              539            566.92      566.919373\n",
              "4              874            833.59      833.592957"
            ],
            "text/html": [
              "\n",
              "  <div id=\"df-139fbfbf-eaea-466b-9793-e15b198d2226\">\n",
              "    <div class=\"colab-df-container\">\n",
              "      <div>\n",
              "<style scoped>\n",
              "    .dataframe tbody tr th:only-of-type {\n",
              "        vertical-align: middle;\n",
              "    }\n",
              "\n",
              "    .dataframe tbody tr th {\n",
              "        vertical-align: top;\n",
              "    }\n",
              "\n",
              "    .dataframe thead th {\n",
              "        text-align: right;\n",
              "    }\n",
              "</style>\n",
              "<table border=\"1\" class=\"dataframe\">\n",
              "  <thead>\n",
              "    <tr style=\"text-align: right;\">\n",
              "      <th></th>\n",
              "      <th>Observed values</th>\n",
              "      <th>Predicted values</th>\n",
              "      <th>Lista preditos</th>\n",
              "    </tr>\n",
              "  </thead>\n",
              "  <tbody>\n",
              "    <tr>\n",
              "      <th>0</th>\n",
              "      <td>466</td>\n",
              "      <td>444.52</td>\n",
              "      <td>444.524567</td>\n",
              "    </tr>\n",
              "    <tr>\n",
              "      <th>1</th>\n",
              "      <td>944</td>\n",
              "      <td>946.90</td>\n",
              "      <td>946.898376</td>\n",
              "    </tr>\n",
              "    <tr>\n",
              "      <th>2</th>\n",
              "      <td>455</td>\n",
              "      <td>536.98</td>\n",
              "      <td>536.983337</td>\n",
              "    </tr>\n",
              "    <tr>\n",
              "      <th>3</th>\n",
              "      <td>539</td>\n",
              "      <td>566.92</td>\n",
              "      <td>566.919373</td>\n",
              "    </tr>\n",
              "    <tr>\n",
              "      <th>4</th>\n",
              "      <td>874</td>\n",
              "      <td>833.59</td>\n",
              "      <td>833.592957</td>\n",
              "    </tr>\n",
              "  </tbody>\n",
              "</table>\n",
              "</div>\n",
              "      <button class=\"colab-df-convert\" onclick=\"convertToInteractive('df-139fbfbf-eaea-466b-9793-e15b198d2226')\"\n",
              "              title=\"Convert this dataframe to an interactive table.\"\n",
              "              style=\"display:none;\">\n",
              "        \n",
              "  <svg xmlns=\"http://www.w3.org/2000/svg\" height=\"24px\"viewBox=\"0 0 24 24\"\n",
              "       width=\"24px\">\n",
              "    <path d=\"M0 0h24v24H0V0z\" fill=\"none\"/>\n",
              "    <path d=\"M18.56 5.44l.94 2.06.94-2.06 2.06-.94-2.06-.94-.94-2.06-.94 2.06-2.06.94zm-11 1L8.5 8.5l.94-2.06 2.06-.94-2.06-.94L8.5 2.5l-.94 2.06-2.06.94zm10 10l.94 2.06.94-2.06 2.06-.94-2.06-.94-.94-2.06-.94 2.06-2.06.94z\"/><path d=\"M17.41 7.96l-1.37-1.37c-.4-.4-.92-.59-1.43-.59-.52 0-1.04.2-1.43.59L10.3 9.45l-7.72 7.72c-.78.78-.78 2.05 0 2.83L4 21.41c.39.39.9.59 1.41.59.51 0 1.02-.2 1.41-.59l7.78-7.78 2.81-2.81c.8-.78.8-2.07 0-2.86zM5.41 20L4 18.59l7.72-7.72 1.47 1.35L5.41 20z\"/>\n",
              "  </svg>\n",
              "      </button>\n",
              "      \n",
              "  <style>\n",
              "    .colab-df-container {\n",
              "      display:flex;\n",
              "      flex-wrap:wrap;\n",
              "      gap: 12px;\n",
              "    }\n",
              "\n",
              "    .colab-df-convert {\n",
              "      background-color: #E8F0FE;\n",
              "      border: none;\n",
              "      border-radius: 50%;\n",
              "      cursor: pointer;\n",
              "      display: none;\n",
              "      fill: #1967D2;\n",
              "      height: 32px;\n",
              "      padding: 0 0 0 0;\n",
              "      width: 32px;\n",
              "    }\n",
              "\n",
              "    .colab-df-convert:hover {\n",
              "      background-color: #E2EBFA;\n",
              "      box-shadow: 0px 1px 2px rgba(60, 64, 67, 0.3), 0px 1px 3px 1px rgba(60, 64, 67, 0.15);\n",
              "      fill: #174EA6;\n",
              "    }\n",
              "\n",
              "    [theme=dark] .colab-df-convert {\n",
              "      background-color: #3B4455;\n",
              "      fill: #D2E3FC;\n",
              "    }\n",
              "\n",
              "    [theme=dark] .colab-df-convert:hover {\n",
              "      background-color: #434B5C;\n",
              "      box-shadow: 0px 1px 3px 1px rgba(0, 0, 0, 0.15);\n",
              "      filter: drop-shadow(0px 1px 2px rgba(0, 0, 0, 0.3));\n",
              "      fill: #FFFFFF;\n",
              "    }\n",
              "  </style>\n",
              "\n",
              "      <script>\n",
              "        const buttonEl =\n",
              "          document.querySelector('#df-139fbfbf-eaea-466b-9793-e15b198d2226 button.colab-df-convert');\n",
              "        buttonEl.style.display =\n",
              "          google.colab.kernel.accessAllowed ? 'block' : 'none';\n",
              "\n",
              "        async function convertToInteractive(key) {\n",
              "          const element = document.querySelector('#df-139fbfbf-eaea-466b-9793-e15b198d2226');\n",
              "          const dataTable =\n",
              "            await google.colab.kernel.invokeFunction('convertToInteractive',\n",
              "                                                     [key], {});\n",
              "          if (!dataTable) return;\n",
              "\n",
              "          const docLinkHtml = 'Like what you see? Visit the ' +\n",
              "            '<a target=\"_blank\" href=https://colab.research.google.com/notebooks/data_table.ipynb>data table notebook</a>'\n",
              "            + ' to learn more about interactive tables.';\n",
              "          element.innerHTML = '';\n",
              "          dataTable['output_type'] = 'display_data';\n",
              "          await google.colab.output.renderOutput(dataTable, element);\n",
              "          const docLink = document.createElement('div');\n",
              "          docLink.innerHTML = docLinkHtml;\n",
              "          element.appendChild(docLink);\n",
              "        }\n",
              "      </script>\n",
              "    </div>\n",
              "  </div>\n",
              "  "
            ]
          },
          "metadata": {},
          "execution_count": 33
        }
      ]
    },
    {
      "cell_type": "code",
      "source": [
        "#Chamando apenas os dados maiores 300 células\n",
        "df_300 = df_menor_erro[df_menor_erro['Observed values'] > 300]\n"
      ],
      "metadata": {
        "id": "yCOwnAMoZb_4"
      },
      "execution_count": null,
      "outputs": []
    },
    {
      "cell_type": "code",
      "source": [
        "#len(df_300)"
      ],
      "metadata": {
        "id": "robMjVqFwBkw"
      },
      "execution_count": null,
      "outputs": []
    },
    {
      "cell_type": "markdown",
      "source": [
        "### Pearson Correlation Chart"
      ],
      "metadata": {
        "id": "aQ4110wCOk71"
      }
    },
    {
      "cell_type": "code",
      "source": [
        "col1_obt = 0 #chamando a primeira coluna\n",
        "col2_prev = 1 #chamando a segunda coluna\n",
        "pear_pos_menor_erro = stats(df_300[df_300.columns[col1_obt]], df_300[df_300.columns[col2_prev]]) #calculando a correlação entre as duas colunas selecionadas"
      ],
      "metadata": {
        "id": "glzd2fGxU9Rp"
      },
      "execution_count": null,
      "outputs": []
    },
    {
      "cell_type": "code",
      "source": [
        "plt.figure(figsize=(15,15))\n",
        "sns.jointplot(\n",
        "    x=df_300.columns[col1_obt], #Em x recebe os dados obtidos (rótulos)\n",
        "    y=df_300.columns[col2_prev], #Em y recebe os valores previstos (imagens)\n",
        "    kind='reg',\n",
        "    data=df_300\n",
        ")\n",
        "\n",
        "if pear_pos_menor_erro[1] < 0.01:\n",
        "  plt.legend(['p < ' + '0.01' + '\\nR = ' + str(round(pear_pos_menor_erro[0], 4))]) #calculando p e relse:\n",
        "else: \n",
        "  plt.legend(['p = ' + str(round(pear_pos_menor_erro[1],3)) + '\\nR = ' + str(round(pear_pos_menor_erro[0], 4))]) #calculando p e r\n",
        "\n",
        "\n",
        "\n",
        "\n",
        "\n",
        "# if print_fig == 1:\n",
        "#     plt.savefig(\"results\\\\Corr_\"+df.columns[campo_select]+\"\"+str(exp)+\"\"+df.columns[col1]+\"-\"+df.columns[col2]+\".jpg\", dpi=600)\n"
      ],
      "metadata": {
        "colab": {
          "base_uri": "https://localhost:8080/",
          "height": 458
        },
        "id": "JzlSYNZ0EP7q",
        "outputId": "a8e5222b-15bd-4469-a860-2dbae7985fd6"
      },
      "execution_count": null,
      "outputs": [
        {
          "output_type": "display_data",
          "data": {
            "text/plain": [
              "<Figure size 1080x1080 with 0 Axes>"
            ]
          },
          "metadata": {}
        },
        {
          "output_type": "display_data",
          "data": {
            "text/plain": [
              "<Figure size 432x432 with 3 Axes>"
            ],
            "image/png": "[encoded data removed]"
          },
          "metadata": {
            "needs_background": "light"
          }
        }
      ]
    },
    {
      "cell_type": "code",
      "source": [
        "# pear_pos_menor_erro"
      ],
      "metadata": {
        "id": "xObmKBkyT9i8"
      },
      "execution_count": null,
      "outputs": []
    },
    {
      "cell_type": "code",
      "source": [
        "pear_pos_menor_erro[1]\n",
        "if pear_pos_menor_erro[1] < 0.01:\n",
        "  print('Sim, é inferior')\n",
        "else:\n",
        "  print('Não é inferior')"
      ],
      "metadata": {
        "colab": {
          "base_uri": "https://localhost:8080/"
        },
        "id": "6RVmNGmNEK_t",
        "outputId": "15a93e9e-8cd1-4b5e-98bc-2f49a6de7677"
      },
      "execution_count": null,
      "outputs": [
        {
          "output_type": "stream",
          "name": "stdout",
          "text": [
            "Sim, é inferior\n"
          ]
        }
      ]
    }
  ]
}