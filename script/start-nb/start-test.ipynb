{
 "cells": [
  {
   "cell_type": "code",
   "execution_count": 1,
   "id": "e4509359-cfcf-4f44-83f3-a291072d0e2f",
   "metadata": {},
   "outputs": [],
   "source": [
    "import os\n",
    "from util import printLis"
   ]
  },
  {
   "cell_type": "code",
   "execution_count": 2,
   "id": "55b57606-ec8f-4654-be57-572bb3b24573",
   "metadata": {},
   "outputs": [
    {
     "name": "stdout",
     "output_type": "stream",
     "text": [
      "-------------\n",
      "-=< Lista >=-\n",
      "-------------\n",
      "0 -> main.py\n",
      "1 -> .ipynb_checkpoints\n"
     ]
    }
   ],
   "source": [
    "printLis(os.listdir(\"./../start-py\"))"
   ]
  },
  {
   "cell_type": "code",
   "execution_count": 3,
   "id": "92ed4cf3-e892-416b-9621-f53b383d55b3",
   "metadata": {},
   "outputs": [
    {
     "name": "stdout",
     "output_type": "stream",
     "text": [
      "Python 3.7.9\n"
     ]
    }
   ],
   "source": [
    "!python --version"
   ]
  },
  {
   "cell_type": "code",
   "execution_count": 4,
   "id": "ce57ecb7-605f-4c1e-9d00-a5b428deccd3",
   "metadata": {},
   "outputs": [
    {
     "name": "stdout",
     "output_type": "stream",
     "text": [
      "main.py\n"
     ]
    }
   ],
   "source": [
    "!ls ./../start-py/"
   ]
  },
  {
   "cell_type": "code",
   "execution_count": 5,
   "id": "75e5ba85-2db7-4937-869e-3b0d62f17f70",
   "metadata": {},
   "outputs": [
    {
     "name": "stdout",
     "output_type": "stream",
     "text": [
      "Fala Povo\n"
     ]
    }
   ],
   "source": [
    "!python ./../start-py/main.py"
   ]
  },
  {
   "cell_type": "code",
   "execution_count": 6,
   "id": "8aee7e84-b6c2-4314-b6b6-b5966c70f9cd",
   "metadata": {},
   "outputs": [
    {
     "name": "stdout",
     "output_type": "stream",
     "text": [
      "Application directory:   /usr/local/share/jupyter/lab\n",
      "User Settings directory: /root/.jupyter/lab/user-settings\n",
      "Workspaces directory: /root/.jupyter/lab/workspaces\n"
     ]
    }
   ],
   "source": [
    "!jupyter lab path"
   ]
  },
  {
   "cell_type": "code",
   "execution_count": 7,
   "id": "98068271-8a54-4cef-9b56-2ea27b124a6a",
   "metadata": {},
   "outputs": [
    {
     "name": "stdout",
     "output_type": "stream",
     "text": [
      "@jupyterlab\n"
     ]
    }
   ],
   "source": [
    "!ls /root/.jupyter/lab/user-settings"
   ]
  },
  {
   "cell_type": "code",
   "execution_count": 8,
   "id": "a6cc1116-1c86-4b49-a828-0c4178c56ff8",
   "metadata": {},
   "outputs": [],
   "source": [
    "# Testando a mudança"
   ]
  },
  {
   "cell_type": "code",
   "execution_count": 9,
   "id": "597a22cf-8ea1-4822-bdbe-b6547732c466",
   "metadata": {},
   "outputs": [],
   "source": [
    "import pandas as pd"
   ]
  },
  {
   "cell_type": "code",
   "execution_count": null,
   "id": "8545e0c4-e4ad-4a3f-a526-7bb06769dee8",
   "metadata": {},
   "outputs": [],
   "source": []
  }
 ],
 "metadata": {
  "kernelspec": {
   "display_name": "Python 3 (ipykernel)",
   "language": "python",
   "name": "python3"
  },
  "language_info": {
   "codemirror_mode": {
    "name": "ipython",
    "version": 3
   },
   "file_extension": ".py",
   "mimetype": "text/x-python",
   "name": "python",
   "nbconvert_exporter": "python",
   "pygments_lexer": "ipython3",
   "version": "3.7.9"
  }
 },
 "nbformat": 4,
 "nbformat_minor": 5
}
