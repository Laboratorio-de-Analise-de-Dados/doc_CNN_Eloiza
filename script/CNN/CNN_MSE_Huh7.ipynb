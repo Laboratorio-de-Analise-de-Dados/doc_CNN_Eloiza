{
  "nbformat": 4,
  "nbformat_minor": 0,
  "metadata": {
    "orig_nbformat": 2,
    "deepnote": {
      "is_reactive": false
    },
    "deepnote_notebook_id": "1ceeabb3-ab09-41c9-96c0-7ad925f2fd7b",
    "deepnote_execution_queue": [],
    "colab": {
      "name": "CNN_MSE_Huh7.ipynb",
      "provenance": []
    },
    "language_info": {
      "name": "python"
    },
    "kernelspec": {
      "name": "python3",
      "display_name": "Python 3"
    },
    "accelerator": "GPU"
  },
  "cells": [
    {
      "cell_type": "markdown",
      "metadata": {
        "tags": [],
        "is_collapsed": false,
        "cell_id": "00000-21055a29-82eb-4643-9830-f753c42ca153",
        "deepnote_cell_type": "text-cell-h1",
        "id": "wLLAo9YSSM7W"
      },
      "source": [
        "# Cell line Huh7"
      ]
    },
    {
      "cell_type": "code",
      "metadata": {
        "colab": {
          "base_uri": "https://localhost:8080/"
        },
        "id": "_p1E8Qz-SlfI",
        "outputId": "7de1fa9f-36c2-44b0-e751-4988c3e6d41a"
      },
      "source": [
        "from google.colab import drive\n",
        "drive.mount('/content/drive')"
      ],
      "execution_count": null,
      "outputs": [
        {
          "output_type": "stream",
          "name": "stdout",
          "text": [
            "Mounted at /content/drive\n"
          ]
        }
      ]
    },
    {
      "cell_type": "code",
      "metadata": {
        "colab": {
          "base_uri": "https://localhost:8080/"
        },
        "id": "P5IxcKiLSy0i",
        "outputId": "3fc3b7b1-d410-49aa-f8b5-0b660a7e2d95"
      },
      "source": [
        "pip install util-gfsilveira"
      ],
      "execution_count": null,
      "outputs": [
        {
          "output_type": "stream",
          "name": "stdout",
          "text": [
            "Looking in indexes: https://pypi.org/simple, https://us-python.pkg.dev/colab-wheels/public/simple/\n",
            "Collecting util-gfsilveira\n",
            "  Downloading util_gfsilveira-0.1-py3-none-any.whl (3.1 kB)\n",
            "Installing collected packages: util-gfsilveira\n",
            "Successfully installed util-gfsilveira-0.1\n"
          ]
        }
      ]
    },
    {
      "cell_type": "markdown",
      "metadata": {
        "tags": [],
        "is_collapsed": false,
        "cell_id": "00000-ae846df1-5e59-47eb-99fb-243102c1c94f",
        "deepnote_cell_type": "text-cell-h1",
        "id": "4Djll5ErSM7j"
      },
      "source": [
        "# Imports data structuring"
      ]
    },
    {
      "cell_type": "code",
      "metadata": {
        "tags": [],
        "deepnote_to_be_reexecuted": false,
        "source_hash": "64fc40d5",
        "execution_start": 1633368008910,
        "execution_millis": 638,
        "cell_id": "00001-e6b8f206-48b8-4271-9f25-4acda683c20c",
        "deepnote_cell_type": "code",
        "id": "CvjIFfGLSM7l"
      },
      "source": [
        "#organização dos arquivos\n",
        "import os\n",
        "#salvar/carregar arquivos em diferentes formatos\n",
        "import joblib\n",
        "#organizando os arquivos de forma aleatória\n",
        "import random\n",
        "#gerar gráfico\n",
        "import matplotlib\n",
        "#estruturação dos dados\n",
        "import numpy as np\n",
        "#gerar gráfico\n",
        "import seaborn as sns\n",
        "#gerar gráfico\n",
        "import matplotlib.pyplot as plt\n",
        "#gerar imagem\n",
        "import matplotlib.image as mpimg"
      ],
      "execution_count": null,
      "outputs": []
    },
    {
      "cell_type": "markdown",
      "metadata": {
        "tags": [],
        "is_collapsed": false,
        "cell_id": "00002-ee0c7516-824a-4e36-b357-3f541e4e3d6f",
        "deepnote_cell_type": "text-cell-h1",
        "id": "uYXe4X6BSM7s"
      },
      "source": [
        "# CNN template import"
      ]
    },
    {
      "cell_type": "code",
      "metadata": {
        "tags": [],
        "deepnote_to_be_reexecuted": false,
        "source_hash": "654178fe",
        "execution_start": 1633368097267,
        "execution_millis": 1691,
        "cell_id": "00003-7352f6bf-5dd6-48be-9337-3a88a90ccc28",
        "deepnote_cell_type": "code",
        "id": "IvY9G6eVSM7t"
      },
      "source": [
        "#modelo de revisão redes neurais - cnn\n",
        "from keras.models import Sequential\n",
        "from keras.utils.np_utils import to_categorical\n",
        "#from keras.utils import to_categorical\n",
        "from util import meus_uteis, timeProcess, mask_corr_graphic, printLis\n",
        "from sklearn.metrics import confusion_matrix, accuracy_score, classification_report\n",
        "from keras.layers import Dense, Conv2D, MaxPooling2D, Dropout, Flatten"
      ],
      "execution_count": null,
      "outputs": []
    },
    {
      "cell_type": "markdown",
      "metadata": {
        "tags": [],
        "is_collapsed": false,
        "cell_id": "00004-bd4d7958-6760-4e0f-ba19-2eb462ededec",
        "deepnote_cell_type": "text-cell-p",
        "id": "J-60uv59SM7v"
      },
      "source": [
        "Documents from different files will be stored in this directory"
      ]
    },
    {
      "cell_type": "code",
      "metadata": {
        "tags": [],
        "deepnote_to_be_reexecuted": false,
        "source_hash": "38a38df5",
        "execution_start": 1633368102902,
        "execution_millis": 23,
        "cell_id": "00005-af14e67f-7436-4235-bb5a-9e45873ecfb1",
        "deepnote_cell_type": "code",
        "colab": {
          "base_uri": "https://localhost:8080/"
        },
        "id": "kj3YayKfSM7x",
        "outputId": "81beb3bb-b2c9-4b93-9a6f-bd89b6163ddb"
      },
      "source": [
        "diretorio = '/content/drive/MyDrive/1_Informações_scripts' #alimentando a variável com os arquivos da pasta datasets\n",
        "lista_dados = os.listdir(diretorio) #listando os arquivos dessa pasta\n",
        "printLis(lista_dados) #printando as diferentes listas"
      ],
      "execution_count": null,
      "outputs": [
        {
          "output_type": "stream",
          "name": "stdout",
          "text": [
            "-------------\n",
            "-=< Lista >=-\n",
            "-------------\n",
            "0 -> lista_img_camp_clar_100_resized_regressao_3T3_samehuh72021-10-25.gz\n",
            "1 -> lista_rotulo_camp_clar_100_resized_regressao_3T3_samehuh72021-10-25.gz\n",
            "2 -> lista_img_camp_clar_100_resized_regressao_A549_samehuh72021-10-25.gz\n",
            "3 -> lista_rotulo_camp_clar_100_resized_regressao_A549_samehuh72021-10-25.gz\n",
            "4 -> lista_img_camp_clar_100_resized_regressao_huh7_samehuh72021-10-25.gz\n",
            "5 -> lista_rotulo_camp_clar_100_resized_regressao_huh7_samehuh72021-10-25.gz\n",
            "6 -> model_A549_samehuh7_img2021-10-26.h5\n",
            "7 -> model_huh7_samehuh7_img2021-10-26.h5\n",
            "8 -> model__3T3_samehuh7_img2021-10-26.h5\n",
            "9 -> model_A549_samehuh7_img_40_602021-10-27.h5\n",
            "10 -> model_huh7_samehuh7_img_40_602021-10-27.h5\n",
            "11 -> model__3T3_samehuh7_img_40_602021-10-27.h5\n",
            "12 -> lista_img_camp_clar_100_resized_regressao_A5492021-11-9.gz\n",
            "13 -> lista_rotulo_camp_clar_100_resized_regressao_A5492021-11-9.gz\n",
            "14 -> lista_img_camp_clar_75_resized_regressao_A5492021-11-9.gz\n",
            "15 -> lista_rotulo_camp_clar_75_resized_regressao_A5492021-11-9.gz\n",
            "16 -> lista_img_camp_clar_50_resized_regressao_A5492021-11-9.gz\n",
            "17 -> lista_rotulo_camp_clar_50_resized_regressao_A5492021-11-9.gz\n",
            "18 -> lista_img_camp_clar_25_resized_regressao_A5492021-11-9.gz\n",
            "19 -> lista_rotulo_camp_clar_25_resized_regressao_A5492021-11-9.gz\n",
            "20 -> lista_img_camp_clar_100_resized_regressao_huh72021-11-9.gz\n",
            "21 -> lista_rotulo_camp_clar_100_resized_regressao_huh72021-11-9.gz\n",
            "22 -> lista_img_camp_clar_75_resized_regressao_HUH72021-11-9.gz\n",
            "23 -> lista_rotulo_camp_clar_75_resized_regressao_HUH72021-11-9.gz\n",
            "24 -> lista_img_camp_clar_50_resized_regressao_HUH72021-11-9.gz\n",
            "25 -> lista_rotulo_camp_clar_50_resized_regressao_HUH72021-11-9.gz\n",
            "26 -> lista_rotulo_camp_clar_25_resized_regressao_HUH72021-11-9.gz\n",
            "27 -> lista_img_camp_clar_25_resized_regressao_HUH72021-11-9.gz\n",
            "28 -> lista_img_camp_clar_100_resized_regressao_3T32021-11-9.gz\n",
            "29 -> lista_rotulo_camp_clar_100_resized_regressao_3T32021-11-9.gz\n",
            "30 -> lista_img_camp_clar_75_resized_regressao_3T3_2021-11-9.gz\n",
            "31 -> lista_rotulo_camp_clar_75_resized_regressao_3T3_2021-11-9.gz\n",
            "32 -> lista_img_camp_clar_50_resized_regressao_3T3_2021-11-9.gz\n",
            "33 -> lista_rotulo_camp_clar_50_resized_regressao_3T3_2021-11-9.gz\n",
            "34 -> lista_img_camp_clar_25_resized_regressao_3T3_2021-11-9.gz\n",
            "35 -> lista_rotulo_camp_clar_25_resized_regressao_3T3_2021-11-9.gz\n",
            "36 -> model_A549_100_75_50_25_2021-11-11.h5\n",
            "37 -> model_HUH7_100_75_50_25_2021-11-11.h5\n",
            "38 -> model_3T3_100_75_50_25_2021-11-11.h5\n",
            "39 -> images_de_x_caracteristicas_a549.gz\n",
            "40 -> images_de_y_caracteristicas_a549.gz\n",
            "41 -> images_de_x_caracteristicas_Huh7.gz\n",
            "42 -> rotulos_de_y_caracteristicas_Huh7.gz\n",
            "43 -> images_de_x_caracteristicas_3T3.gz\n",
            "44 -> rotulos_de_y_caracteristicas_3T3.gz\n",
            "45 -> 1_images_de_X_train_a549_pior_modelo.gz\n",
            "46 -> 1_images_de_y_train_a549_pior_modelo.gz\n",
            "47 -> 2_images_de_X_test_a549_pior_modelo.gz\n",
            "48 -> 2_images_de_y_test_a549_pior_modelo.gz\n",
            "49 -> model__A549_regressao_maior_erro2022-1-26.h5\n",
            "50 -> 1_images_de_X_train_a549_melhor_modelo2022-1-26.gz\n",
            "51 -> 1_images_de_y_train_a549_melhor_modelo2022-1-26.gz\n",
            "52 -> 2_images_de_X_test_a549_melhor_modelo2022-1-26.gz\n",
            "53 -> 2_images_de_y_test_a549_melhor_modelo2022-1-26.gz\n",
            "54 -> model__A549_regressao_menor_erro2022-1-26.h5\n",
            "55 -> 3_images_de_X_train_huh7_pior_modelo.gz\n",
            "56 -> 3_images_de_y_train_huh7_pior_modelo.gz\n",
            "57 -> 4_images_de_X_test_huh7_pior_modelo.gz\n",
            "58 -> 4_images_de_y_test_huh7_pior_modelo.gz\n",
            "59 -> 3_images_de_X_train_huh7_melhor_modelo.gz\n",
            "60 -> 3_images_de_y_train_huh7_melhor_modelo.gz\n",
            "61 -> 4_images_de_X_test_huh7_melhor_modelo.gz\n",
            "62 -> 4_images_de_y_test_huh7_melhor_modelo.gz\n",
            "63 -> model__huh7_regressao_maior_erro2022-1-26.h5\n",
            "64 -> model__huh7_regressao_menor_erro2022-1-26.h5\n",
            "65 -> 5_images_de_X_train_3T3_melhor_modelo.gz\n",
            "66 -> 5_images_de_y_train_3T3_melhor_modelo.gz\n",
            "67 -> 6_images_de_X_test_3T3_melhor_modelo.gz\n",
            "68 -> 6_images_de_y_test_3T3_melhor_modelo.gz\n",
            "69 -> 5_images_de_X_train_3T3_pior_modelo.gz\n",
            "70 -> 5_images_de_y_train_3T3_pior_modelo.gz\n",
            "71 -> 6_images_de_X_test_3T3_pior_modelo.gz\n",
            "72 -> 6_images_de_y_test_3T3_pior_modelo.gz\n",
            "73 -> model__3T3_regressao_menor_erro2022-1-26.h5\n",
            "74 -> model__3T3_regressao_maior_erro2022-1-26.h5\n",
            "75 -> model__A549_regressao_menor_erro_Mean_squared_error2022-4-27.h5\n",
            "76 -> model__3T3_regressao_menor_erro_Mean_squared_error2022-4-27.h5\n",
            "77 -> model__huh7_regressao_menor_erro_Mean_squared_error2022-4-27.h5\n",
            "78 -> model__huh7_regressao_maior_erro_Mean_squared_error2022-4-28.h5\n",
            "79 -> model__huh7_regressao_maior_erro_Mean_squared_error_30%2022-4-29.h5\n",
            "80 -> model__huh7_regressao_maior_erro_Mean_squared_error_40%2022-4-29.h5\n",
            "81 -> model__A549_regressao_menor_erro_Mean_squared_error_30%2022-4-29.h5\n",
            "82 -> 1_model__huh7_regressao_menor_erro_Mean_squared_error_30%2022-4-29.h5\n",
            "83 -> model__A549_regressao_menor_erro_Mean_squared_error2022-4-29.h5\n",
            "84 -> model__A549_regressao_maior_erro_Mean_squared_error2022-4-29.h5\n",
            "85 -> model__3T3_regressao_maior_erro_Mean_squared_error2022-4-29.h5\n",
            "86 -> model__3T3_regressao_menor_erro_Mean_squared_error2022-4-29.h5\n",
            "87 -> model__A549_regressao_maior_erro_Mean_squared_error2022-5-4.h5\n",
            "88 -> 1_images_de_y_train_a549_melhor_modelo2022-5-11.gz\n",
            "89 -> 1_images_de_X_train_a549_melhor_modelo2022-5-11.gz\n",
            "90 -> 2_images_de_X_test_a549_melhor_modelo2022-5-11.gz\n",
            "91 -> 2_images_de_y_test_a549_melhor_modelo2022-5-11.gz\n",
            "92 -> model__A549_regressao_maior_erro_Mean_squared_error_2022-5-11.h5\n",
            "93 -> 1_images_de_X_train_a549_pior_modelo2022-5-11.gz\n",
            "94 -> 1_images_de_y_train_a549_pior_modelo2022-5-11.gz\n",
            "95 -> 2_images_de_X_test_a549_pior_modelo2022-5-11.gz\n",
            "96 -> 2_images_de_y_test_a549_pior_modelo2022-5-11.gz\n",
            "97 -> 1_images_de_X_train_a549_pior_modelo2022-5-16.gz\n",
            "98 -> 1_images_de_X_train_a549_pior_modelo_2022-5-16.gz\n",
            "99 -> 1_images_de_y_train_a549_pior_modelo_2022-5-16.gz\n",
            "100 -> 2_images_de_X_test_a549_pior_modelo_2022-5-16.gz\n",
            "101 -> 2_images_de_y_test_a549_pior_modelo_2022-5-16.gz\n",
            "102 -> model__A549_regressao_maior_erro_Mean_squared_error_2022-5-16.h5\n",
            "103 -> 3_images_de_y_train_huh7_pior_modelo_2022-5-18.gz\n",
            "104 -> 4_images_de_X_test_huh7_pior_modelo_2022-5-18.gz\n",
            "105 -> 3_images_de_X_train_huh7_pior_modelo_2022-5-18.gz\n",
            "106 -> 4_images_de_y_test_huh7_pior_modelo_2022-5-18.gz\n",
            "107 -> 2_model__huh7_regressao_maior_erro_Mean_squared_error_40%2022-5-18.h5\n",
            "108 -> model_3T3_100_75_50_25_2022-5-18.h5\n",
            "109 -> 5_images_de_y_train_3T3_melhor_modelo2022-5-18.gz\n",
            "110 -> 5_images_de_X_train_3T3_melhor_modelo2022-5-18.gz\n",
            "111 -> model_3T3_pior_modelo_mean_squared_error_2022-5-18.h5\n",
            "112 -> 6_images_de_X_test_3T3_pior_modelo_2022-5-18.gz\n",
            "113 -> .ipynb_checkpoints\n",
            "114 -> 6_images_de_y_test_3T3_pior_modelo_2022-5-18.gz\n",
            "115 -> lista_img_camp_clar_3T3_samehuh72022-5-23.gz\n",
            "116 -> lista_rotulo_camp_camp_clar_3T3_samehuh772022-5-23.gz\n",
            "117 -> images_de_X_train_a549_melhor_modelo_18_PACIENCE2022-6-29.gz\n",
            "118 -> images_de_y_train_a549_melhor_modelo_18_PACIENCE2022-6-29.gz\n",
            "119 -> images_de_X_test_a549_melhor_modelo_18_PACIENCE2022-6-29.gz\n",
            "120 -> images_de_y_test_a549_melhor_modelo_18_PACIENCE2022-6-29.gz\n",
            "121 -> 1_images_de_y_train_a549_pior_modelo_18_PACIENCE2022-6-29.gz\n",
            "122 -> 2_images_de_X_test_a549_pior_modelo_18_PACIENCE_2022-6-29.gz\n",
            "123 -> 1_images_de_X_train_a549_pior_modelo_18_PACIENCE2022-6-29.gz\n",
            "124 -> 2_images_de_y_test_a549_pior_modelo_18_PACIENCE_2022-6-29.gz\n",
            "125 -> model__A549_regressao_maior_erro_18_PACIEN_2022-6-29.h5\n",
            "126 -> images_de_X_train_a549_melhor_modelo_18_PACIENCE_500_2022-6-29.gz\n",
            "127 -> images_de_y_train_a549_melhor_modelo_18_PACIENCE_500_2022-6-29.gz\n",
            "128 -> images_de_y_test_a549_melhor_modelo_18_PACIENCE%00_2022-6-29.gz\n",
            "129 -> model__A549_regressao_menor_erro_Mean_squared_error_30%_18_PACIENCE2022-6-29.h5\n",
            "130 -> images_de_X_test_a549_melhor_modelo_18_PACIENCE_500_2022-6-29.gz\n",
            "131 -> 1_images_de_X_train_a549_pior_modelo_18_PACIENCE_500_2022-6-29.gz\n",
            "132 -> 1_images_de_y_train_a549_pior_modelo_18_PACIENCE_500_2022-6-29.gz\n",
            "133 -> 2_images_de_X_test_a549_pior_modelo_18_PACIENCE_500_2022-6-29.gz\n",
            "134 -> 2_images_de_y_test_a549_pior_modelo_18_PACIENCE_500_2022-6-29.gz\n",
            "135 -> model__A549_regressao_maior_erro_18_PACIEN_500_2022-6-29.h5\n",
            "136 -> 3_images_de_X_train_huh7_melhor_modelo_200_epochs_2022-6-30.gz\n",
            "137 -> 3_images_de_y_train_huh7_melhor_modelo_200_epochs_2022-6-30.gz\n",
            "138 -> 4_images_de_X_test_huh7_melhor_modelo_200_epochs_2022-6-30.gz\n",
            "139 -> 4_images_de_y_test_huh7_melhor_modelo_200_epochs_2022-6-30.gz\n",
            "140 -> model__huh7_regressao_menor_erro_Mean_squared_error_200_epochs2022-6-30.h5\n",
            "141 -> 3_images_de_y_train_huh7_PIOR_modelo_200_epochs_2022-6-30.gz\n",
            "142 -> 3_images_de_X_train_huh7_PIOR_modelo_200_epochs_2022-6-30.gz\n",
            "143 -> 4_images_de_X_test_huh7_PIOR_modelo_200_epochs_2022-6-30.gz\n",
            "144 -> 4_images_de_y_test_huh7_PIOR_modelo_200_epochs_2022-6-30.gz\n",
            "145 -> model__huh7_regressao_MAIOR_erro_Mean_squared_error_200_epochs2022-6-30.h5\n"
          ]
        }
      ]
    },
    {
      "cell_type": "markdown",
      "source": [
        "Lists of all images in each file"
      ],
      "metadata": {
        "id": "HKKRn0P7_41w"
      }
    },
    {
      "cell_type": "code",
      "metadata": {
        "colab": {
          "base_uri": "https://localhost:8080/"
        },
        "id": "uWiQ2ep97SQT",
        "outputId": "88b2105a-a479-4ac1-cb37-dfc942a95f70"
      },
      "source": [
        "#lstando arquivos com as imagens 100%, 75%, 50%, 25%\n",
        "for k, v in enumerate(lista_dados):\n",
        "    if k in [20,22,24,27]:\n",
        "        print(f'{k} -> {v}')"
      ],
      "execution_count": null,
      "outputs": [
        {
          "output_type": "stream",
          "name": "stdout",
          "text": [
            "20 -> lista_img_camp_clar_100_resized_regressao_huh72021-11-9.gz\n",
            "22 -> lista_img_camp_clar_75_resized_regressao_HUH72021-11-9.gz\n",
            "24 -> lista_img_camp_clar_50_resized_regressao_HUH72021-11-9.gz\n",
            "27 -> lista_img_camp_clar_25_resized_regressao_HUH72021-11-9.gz\n"
          ]
        }
      ]
    },
    {
      "cell_type": "markdown",
      "metadata": {
        "tags": [],
        "is_collapsed": false,
        "cell_id": "00008-8eac5f89-63b8-48cd-a4b6-d83416832edf",
        "deepnote_cell_type": "text-cell-h2",
        "id": "7M06GA35SM77"
      },
      "source": [
        "## x = features/images"
      ]
    },
    {
      "cell_type": "code",
      "metadata": {
        "colab": {
          "base_uri": "https://localhost:8080/"
        },
        "id": "iiR7-Rvl8ATL",
        "outputId": "ae0a53da-ef2c-4de8-eb29-11dd79b33e9e"
      },
      "source": [
        "#somando todas as imagens de diferentes tamanho\n",
        "X_cem = joblib.load(diretorio+ '/' + lista_dados[20])\n",
        "\n",
        "# 12 -> 00-lista_img_dapi_crop_75_resized_2021-5-12.gz\n",
        "X_setcin = joblib.load(diretorio+ '/' + lista_dados[22])\n",
        "\n",
        "# 10 -> 00-lista_img_dapi_crop_50_resized_2021-5-12.gz\n",
        "X_cinq = joblib.load(diretorio+ '/' + lista_dados[24])\n",
        "\n",
        "# 8 -> 00-lista_img_dapi_crop_25_resized_2021-5-12.gz\n",
        "X_vincin = joblib.load(diretorio+ '/' + lista_dados[27])\n",
        "\n",
        "x = np.asarray(list(X_cem) + list(X_setcin) + list(X_cinq) + list(X_vincin))\n",
        "\n",
        "x.shape"
      ],
      "execution_count": null,
      "outputs": [
        {
          "output_type": "execute_result",
          "data": {
            "text/plain": [
              "(704, 200, 200, 3)"
            ]
          },
          "metadata": {},
          "execution_count": 7
        }
      ]
    },
    {
      "cell_type": "markdown",
      "metadata": {
        "tags": [],
        "is_collapsed": false,
        "cell_id": "00011-f8d1e896-e5dc-45ca-8c03-e86e0af41b74",
        "deepnote_cell_type": "text-cell-p",
        "id": "DeTAlkFtSM8A"
      },
      "source": [
        "Vamos definir nossos rótulos (y)"
      ]
    },
    {
      "cell_type": "markdown",
      "metadata": {
        "tags": [],
        "is_collapsed": false,
        "cell_id": "00012-f0f139d8-46be-42ec-a074-7cb0453417df",
        "deepnote_cell_type": "text-cell-h2",
        "id": "L1CJ_4RMSM8B"
      },
      "source": [
        "## y = labels"
      ]
    },
    {
      "cell_type": "markdown",
      "metadata": {
        "tags": [],
        "is_collapsed": false,
        "cell_id": "00013-3b37cd88-986b-438a-aeb6-b8f315a5fe7f",
        "deepnote_cell_type": "text-cell-p",
        "id": "9i6j9UDxSM8C"
      },
      "source": [
        "Opening the labels that were saved in the preparation of the images"
      ]
    },
    {
      "cell_type": "code",
      "metadata": {
        "colab": {
          "base_uri": "https://localhost:8080/"
        },
        "id": "btKj5fB38cZX",
        "outputId": "e8ca225b-c2b9-4b53-a036-cb817e84fa99"
      },
      "source": [
        "for k, v in enumerate(lista_dados):\n",
        "    if k in [21,23,25,26]:\n",
        "        print(f'{k} -> {v}')"
      ],
      "execution_count": null,
      "outputs": [
        {
          "output_type": "stream",
          "name": "stdout",
          "text": [
            "21 -> lista_rotulo_camp_clar_100_resized_regressao_huh72021-11-9.gz\n",
            "23 -> lista_rotulo_camp_clar_75_resized_regressao_HUH72021-11-9.gz\n",
            "25 -> lista_rotulo_camp_clar_50_resized_regressao_HUH72021-11-9.gz\n",
            "26 -> lista_rotulo_camp_clar_25_resized_regressao_HUH72021-11-9.gz\n"
          ]
        }
      ]
    },
    {
      "cell_type": "code",
      "metadata": {
        "colab": {
          "base_uri": "https://localhost:8080/"
        },
        "id": "UblC2SjV8pEP",
        "outputId": "37c1050c-d6cb-40f8-8cac-cc6e26b698a7"
      },
      "source": [
        "#somando todos os rótulos de diferentes tamanho\n",
        "y_cem = joblib.load(diretorio+ '/' + lista_dados[21])\n",
        "\n",
        "# 12 -> 00-lista_img_dapi_crop_75_resized_2021-5-12.gz\n",
        "y_setcin = joblib.load(diretorio+ '/' + lista_dados[23])\n",
        "\n",
        "# 10 -> 00-lista_img_dapi_crop_50_resized_2021-5-12.gz\n",
        "y_cinq = joblib.load(diretorio+ '/' + lista_dados[25])\n",
        "\n",
        "# 8 -> 00-lista_img_dapi_crop_25_resized_2021-5-12.gz\n",
        "y_vincin = joblib.load(diretorio+ '/' + lista_dados[26])\n",
        "\n",
        "y = np.asarray(list(y_cem) + list(y_setcin) + list(y_cinq) + list(y_vincin))\n",
        "\n",
        "y.shape"
      ],
      "execution_count": null,
      "outputs": [
        {
          "output_type": "execute_result",
          "data": {
            "text/plain": [
              "(704,)"
            ]
          },
          "metadata": {},
          "execution_count": 9
        }
      ]
    },
    {
      "cell_type": "code",
      "metadata": {
        "tags": [],
        "deepnote_to_be_reexecuted": false,
        "source_hash": "abcd6da",
        "execution_start": 1633368187859,
        "execution_millis": 7,
        "cell_id": "00017-f46ce7ae-ea98-4be5-afc5-d26f235f335c",
        "deepnote_cell_type": "code",
        "id": "Bah5W3AESM8F"
      },
      "source": [
        "#Train and test split datasets for CNN model\n",
        "#função que separa as imagens em teste e treino\n",
        "from sklearn.model_selection import train_test_split"
      ],
      "execution_count": null,
      "outputs": []
    },
    {
      "cell_type": "markdown",
      "metadata": {
        "tags": [],
        "is_collapsed": false,
        "cell_id": "00018-39d15506-4bb0-42a3-980e-c1e95772079a",
        "deepnote_cell_type": "text-cell-p",
        "id": "N1b1rXudSM8H"
      },
      "source": [
        "Test and training separation from a library.\n",
        "\n",
        "\n"
      ]
    },
    {
      "cell_type": "code",
      "metadata": {
        "tags": [],
        "deepnote_to_be_reexecuted": false,
        "source_hash": "2984b900",
        "execution_start": 1633368189998,
        "execution_millis": 16,
        "cell_id": "00019-88b55709-daeb-40d3-baf0-7a49ffc30c48",
        "deepnote_cell_type": "code",
        "id": "M9e325oRSM8I",
        "colab": {
          "base_uri": "https://localhost:8080/"
        },
        "outputId": "3fa26df9-ddf2-479a-d893-4a1eb9dd0887"
      },
      "source": [
        "X_train, X_test, y_train, y_test = train_test_split(x, y, test_size=0.3, random_state=0)\n",
        "#variáveis recebem o número de imagens para tes e treino\n",
        "print(f'{X_train.shape} \\n{X_test.shape} \\n{y_train.shape} \\n{y_test.shape}')"
      ],
      "execution_count": null,
      "outputs": [
        {
          "output_type": "stream",
          "name": "stdout",
          "text": [
            "(492, 200, 200, 3) \n",
            "(212, 200, 200, 3) \n",
            "(492,) \n",
            "(212,)\n"
          ]
        }
      ]
    },
    {
      "cell_type": "code",
      "source": [
        "data = timeProcess()[1]"
      ],
      "metadata": {
        "id": "C9eeWhkXc0Fq"
      },
      "execution_count": null,
      "outputs": []
    },
    {
      "cell_type": "code",
      "source": [
        "joblib.dump(X_train, '/content/drive/MyDrive/1_Informações_scripts//3_images_de_X_train_huh7_melhor_modelo_500_epochs_'+data+'.gz')\n"
      ],
      "metadata": {
        "id": "Smx0yTS8deVj",
        "colab": {
          "base_uri": "https://localhost:8080/"
        },
        "outputId": "5a57ee2b-74cc-40a8-e8e9-e36a9961ad74"
      },
      "execution_count": null,
      "outputs": [
        {
          "output_type": "execute_result",
          "data": {
            "text/plain": [
              "['/content/drive/MyDrive/1_Informações_scripts//3_images_de_X_train_huh7_melhor_modelo_500_epochs_2022-6-30.gz']"
            ]
          },
          "metadata": {},
          "execution_count": 13
        }
      ]
    },
    {
      "cell_type": "code",
      "source": [
        "joblib.dump(y_train, '/content/drive/MyDrive/1_Informações_scripts//3_images_de_y_train_huh7_melhor_modelo_500_epochs_'+data+'.gz')\n"
      ],
      "metadata": {
        "id": "ePefPzqzdeGk",
        "colab": {
          "base_uri": "https://localhost:8080/"
        },
        "outputId": "b9764135-5502-4c15-c284-cd88a8002ac9"
      },
      "execution_count": null,
      "outputs": [
        {
          "output_type": "execute_result",
          "data": {
            "text/plain": [
              "['/content/drive/MyDrive/1_Informações_scripts//3_images_de_y_train_huh7_melhor_modelo_500_epochs_2022-6-30.gz']"
            ]
          },
          "metadata": {},
          "execution_count": 14
        }
      ]
    },
    {
      "cell_type": "code",
      "source": [
        "joblib.dump(X_test, '/content/drive/MyDrive/1_Informações_scripts//4_images_de_X_test_huh7_melhor_modelo_500_epochs_'+data+'.gz')\n"
      ],
      "metadata": {
        "id": "SFKZ-lnadd7E",
        "colab": {
          "base_uri": "https://localhost:8080/"
        },
        "outputId": "5635e196-adac-4c60-e639-cfcf447ba201"
      },
      "execution_count": null,
      "outputs": [
        {
          "output_type": "execute_result",
          "data": {
            "text/plain": [
              "['/content/drive/MyDrive/1_Informações_scripts//4_images_de_X_test_huh7_melhor_modelo_500_epochs_2022-6-30.gz']"
            ]
          },
          "metadata": {},
          "execution_count": 15
        }
      ]
    },
    {
      "cell_type": "code",
      "source": [
        "joblib.dump(y_test, '/content/drive/MyDrive/1_Informações_scripts//4_images_de_y_test_huh7_melhor_modelo_500_epochs_'+data+'.gz')\n"
      ],
      "metadata": {
        "id": "Om5lb_S4ddvs",
        "colab": {
          "base_uri": "https://localhost:8080/"
        },
        "outputId": "9f53ea39-62e4-4093-90b8-cb8596617fe9"
      },
      "execution_count": null,
      "outputs": [
        {
          "output_type": "execute_result",
          "data": {
            "text/plain": [
              "['/content/drive/MyDrive/1_Informações_scripts//4_images_de_y_test_huh7_melhor_modelo_500_epochs_2022-6-30.gz']"
            ]
          },
          "metadata": {},
          "execution_count": 16
        }
      ]
    },
    {
      "cell_type": "markdown",
      "metadata": {
        "tags": [],
        "is_collapsed": false,
        "cell_id": "00022-39d1b6bf-8d7e-4e97-8ba6-57e3add98b99",
        "deepnote_cell_type": "text-cell-h3",
        "id": "S9njTmYbSM8M"
      },
      "source": [
        "### Model determination\n"
      ]
    },
    {
      "cell_type": "code",
      "metadata": {
        "tags": [],
        "deepnote_to_be_reexecuted": false,
        "source_hash": "fcfd5f57",
        "execution_start": 1633368198477,
        "execution_millis": 99,
        "cell_id": "00023-bd1a3f94-d3e6-495f-8a53-163dccc1175e",
        "deepnote_cell_type": "code",
        "id": "6UiKq8SPSM8O",
        "colab": {
          "base_uri": "https://localhost:8080/"
        },
        "outputId": "7de6e9b4-6b67-43da-9adf-178eef741e0b"
      },
      "source": [
        "modelo = Sequential()\n",
        "modelo.add(Conv2D(32, kernel_size=3, activation='relu', input_shape=X_train[0].shape))\n",
        "#função de ativação relu é muito utilizado para problemas de regressão\n",
        "modelo.add(MaxPooling2D(pool_size=(2, 2), strides=(2, 2), padding='valid'))\n",
        "modelo.add(Conv2D(64, kernel_size=3, activation='relu'))\n",
        "modelo.add(MaxPooling2D(pool_size=(2, 2), strides=(2, 2), padding='valid'))\n",
        "modelo.add(Conv2D(128, kernel_size=3, activation='relu'))\n",
        "modelo.add(MaxPooling2D(pool_size=(2, 2), strides=(2, 2), padding='valid'))\n",
        "modelo.add(Conv2D(256, kernel_size=3, activation='relu'))\n",
        "modelo.add(MaxPooling2D(pool_size=(2, 2), strides=(2, 2), padding='valid'))\n",
        "modelo.add(Flatten())\n",
        "modelo.add(Dropout(0.9))\n",
        "modelo.add(Dense(1, activation='linear'))\n",
        "#apenas uma saída e de forma linear\n",
        "modelo.compile(optimizer='adam', loss='mse', metrics=['mean_squared_error'])\n",
        "print(modelo.summary())"
      ],
      "execution_count": null,
      "outputs": [
        {
          "output_type": "stream",
          "name": "stdout",
          "text": [
            "Model: \"sequential\"\n",
            "_________________________________________________________________\n",
            " Layer (type)                Output Shape              Param #   \n",
            "=================================================================\n",
            " conv2d (Conv2D)             (None, 198, 198, 32)      896       \n",
            "                                                                 \n",
            " max_pooling2d (MaxPooling2D  (None, 99, 99, 32)       0         \n",
            " )                                                               \n",
            "                                                                 \n",
            " conv2d_1 (Conv2D)           (None, 97, 97, 64)        18496     \n",
            "                                                                 \n",
            " max_pooling2d_1 (MaxPooling  (None, 48, 48, 64)       0         \n",
            " 2D)                                                             \n",
            "                                                                 \n",
            " conv2d_2 (Conv2D)           (None, 46, 46, 128)       73856     \n",
            "                                                                 \n",
            " max_pooling2d_2 (MaxPooling  (None, 23, 23, 128)      0         \n",
            " 2D)                                                             \n",
            "                                                                 \n",
            " conv2d_3 (Conv2D)           (None, 21, 21, 256)       295168    \n",
            "                                                                 \n",
            " max_pooling2d_3 (MaxPooling  (None, 10, 10, 256)      0         \n",
            " 2D)                                                             \n",
            "                                                                 \n",
            " flatten (Flatten)           (None, 25600)             0         \n",
            "                                                                 \n",
            " dropout (Dropout)           (None, 25600)             0         \n",
            "                                                                 \n",
            " dense (Dense)               (None, 1)                 25601     \n",
            "                                                                 \n",
            "=================================================================\n",
            "Total params: 414,017\n",
            "Trainable params: 414,017\n",
            "Non-trainable params: 0\n",
            "_________________________________________________________________\n",
            "None\n"
          ]
        }
      ]
    },
    {
      "cell_type": "markdown",
      "source": [
        "# Training and testing epochs"
      ],
      "metadata": {
        "id": "GXIi6eqwBXJI"
      }
    },
    {
      "cell_type": "code",
      "source": [
        "from tensorflow.keras.callbacks import EarlyStopping\n",
        "from tensorflow.keras.callbacks import ModelCheckpoint"
      ],
      "metadata": {
        "id": "hqVx6zTVdJ_u"
      },
      "execution_count": null,
      "outputs": []
    },
    {
      "cell_type": "code",
      "source": [
        "# simple early stopping\n",
        "es = EarlyStopping(monitor='val_loss', mode='min', verbose=1, patience=18)"
      ],
      "metadata": {
        "id": "4MAdlHKYdM8j"
      },
      "execution_count": null,
      "outputs": []
    },
    {
      "cell_type": "code",
      "source": [
        "# fit model\n",
        "history = modelo.fit(X_train,y_train,\n",
        "                    validation_data=(X_test, y_test), \n",
        "                    epochs=500, verbose=2, \n",
        "                    callbacks=[es]\n",
        "                     )"
      ],
      "metadata": {
        "colab": {
          "base_uri": "https://localhost:8080/"
        },
        "id": "k0oUMTffdNxL",
        "outputId": "1950fe74-f1de-42c4-85d9-5ffdb27f263d"
      },
      "execution_count": null,
      "outputs": [
        {
          "output_type": "stream",
          "name": "stdout",
          "text": [
            "Epoch 1/500\n",
            "16/16 - 13s - loss: 131837.4219 - mean_squared_error: 131837.4219 - val_loss: 87182.5156 - val_mean_squared_error: 87182.5156 - 13s/epoch - 796ms/step\n",
            "Epoch 2/500\n",
            "16/16 - 1s - loss: 113964.4453 - mean_squared_error: 113964.4453 - val_loss: 83814.0781 - val_mean_squared_error: 83814.0781 - 763ms/epoch - 48ms/step\n",
            "Epoch 3/500\n",
            "16/16 - 1s - loss: 104258.3750 - mean_squared_error: 104258.3750 - val_loss: 81588.8906 - val_mean_squared_error: 81588.8906 - 763ms/epoch - 48ms/step\n",
            "Epoch 4/500\n",
            "16/16 - 1s - loss: 99233.2344 - mean_squared_error: 99233.2344 - val_loss: 78046.7422 - val_mean_squared_error: 78046.7422 - 773ms/epoch - 48ms/step\n",
            "Epoch 5/500\n",
            "16/16 - 1s - loss: 92431.2188 - mean_squared_error: 92431.2188 - val_loss: 75220.0312 - val_mean_squared_error: 75220.0312 - 761ms/epoch - 48ms/step\n",
            "Epoch 6/500\n",
            "16/16 - 1s - loss: 104104.6875 - mean_squared_error: 104104.6875 - val_loss: 82964.0938 - val_mean_squared_error: 82964.0938 - 787ms/epoch - 49ms/step\n",
            "Epoch 7/500\n",
            "16/16 - 1s - loss: 97132.0078 - mean_squared_error: 97132.0078 - val_loss: 79661.7656 - val_mean_squared_error: 79661.7656 - 794ms/epoch - 50ms/step\n",
            "Epoch 8/500\n",
            "16/16 - 1s - loss: 108939.9141 - mean_squared_error: 108939.9141 - val_loss: 105750.0625 - val_mean_squared_error: 105750.0625 - 783ms/epoch - 49ms/step\n",
            "Epoch 9/500\n",
            "16/16 - 1s - loss: 104308.4688 - mean_squared_error: 104308.4688 - val_loss: 80855.8516 - val_mean_squared_error: 80855.8516 - 788ms/epoch - 49ms/step\n",
            "Epoch 10/500\n",
            "16/16 - 1s - loss: 101160.0156 - mean_squared_error: 101160.0156 - val_loss: 92703.8672 - val_mean_squared_error: 92703.8672 - 760ms/epoch - 47ms/step\n",
            "Epoch 11/500\n",
            "16/16 - 1s - loss: 102306.5781 - mean_squared_error: 102306.5781 - val_loss: 79597.2266 - val_mean_squared_error: 79597.2266 - 785ms/epoch - 49ms/step\n",
            "Epoch 12/500\n",
            "16/16 - 1s - loss: 93134.0859 - mean_squared_error: 93134.0859 - val_loss: 82247.2812 - val_mean_squared_error: 82247.2812 - 770ms/epoch - 48ms/step\n",
            "Epoch 13/500\n",
            "16/16 - 1s - loss: 97147.1953 - mean_squared_error: 97147.1953 - val_loss: 77014.4219 - val_mean_squared_error: 77014.4219 - 760ms/epoch - 47ms/step\n",
            "Epoch 14/500\n",
            "16/16 - 1s - loss: 92995.0625 - mean_squared_error: 92995.0625 - val_loss: 76921.1484 - val_mean_squared_error: 76921.1484 - 775ms/epoch - 48ms/step\n",
            "Epoch 15/500\n",
            "16/16 - 1s - loss: 94940.0312 - mean_squared_error: 94940.0312 - val_loss: 92797.7812 - val_mean_squared_error: 92797.7812 - 763ms/epoch - 48ms/step\n",
            "Epoch 16/500\n",
            "16/16 - 1s - loss: 100251.5938 - mean_squared_error: 100251.5938 - val_loss: 88413.2656 - val_mean_squared_error: 88413.2656 - 770ms/epoch - 48ms/step\n",
            "Epoch 17/500\n",
            "16/16 - 1s - loss: 96614.3984 - mean_squared_error: 96614.3984 - val_loss: 77648.1953 - val_mean_squared_error: 77648.1953 - 762ms/epoch - 48ms/step\n",
            "Epoch 18/500\n",
            "16/16 - 1s - loss: 96191.6016 - mean_squared_error: 96191.6016 - val_loss: 79109.0469 - val_mean_squared_error: 79109.0469 - 763ms/epoch - 48ms/step\n",
            "Epoch 19/500\n",
            "16/16 - 1s - loss: 94534.1406 - mean_squared_error: 94534.1406 - val_loss: 79311.4375 - val_mean_squared_error: 79311.4375 - 791ms/epoch - 49ms/step\n",
            "Epoch 20/500\n",
            "16/16 - 1s - loss: 92381.7422 - mean_squared_error: 92381.7422 - val_loss: 77603.1172 - val_mean_squared_error: 77603.1172 - 760ms/epoch - 47ms/step\n",
            "Epoch 21/500\n",
            "16/16 - 1s - loss: 92733.5781 - mean_squared_error: 92733.5781 - val_loss: 73098.5625 - val_mean_squared_error: 73098.5625 - 762ms/epoch - 48ms/step\n",
            "Epoch 22/500\n",
            "16/16 - 1s - loss: 87397.8750 - mean_squared_error: 87397.8750 - val_loss: 72097.4219 - val_mean_squared_error: 72097.4219 - 763ms/epoch - 48ms/step\n",
            "Epoch 23/500\n",
            "16/16 - 1s - loss: 87416.4297 - mean_squared_error: 87416.4297 - val_loss: 107569.7891 - val_mean_squared_error: 107569.7891 - 785ms/epoch - 49ms/step\n",
            "Epoch 24/500\n",
            "16/16 - 1s - loss: 102157.0547 - mean_squared_error: 102157.0547 - val_loss: 83010.7188 - val_mean_squared_error: 83010.7188 - 768ms/epoch - 48ms/step\n",
            "Epoch 25/500\n",
            "16/16 - 1s - loss: 92490.7188 - mean_squared_error: 92490.7188 - val_loss: 76752.3750 - val_mean_squared_error: 76752.3750 - 759ms/epoch - 47ms/step\n",
            "Epoch 26/500\n",
            "16/16 - 1s - loss: 89633.4531 - mean_squared_error: 89633.4531 - val_loss: 73676.4141 - val_mean_squared_error: 73676.4141 - 760ms/epoch - 47ms/step\n",
            "Epoch 27/500\n",
            "16/16 - 1s - loss: 88587.5391 - mean_squared_error: 88587.5391 - val_loss: 91856.4062 - val_mean_squared_error: 91856.4062 - 761ms/epoch - 48ms/step\n",
            "Epoch 28/500\n",
            "16/16 - 1s - loss: 94032.6641 - mean_squared_error: 94032.6641 - val_loss: 95132.1719 - val_mean_squared_error: 95132.1719 - 765ms/epoch - 48ms/step\n",
            "Epoch 29/500\n",
            "16/16 - 1s - loss: 91465.6250 - mean_squared_error: 91465.6250 - val_loss: 84182.5469 - val_mean_squared_error: 84182.5469 - 761ms/epoch - 48ms/step\n",
            "Epoch 30/500\n",
            "16/16 - 1s - loss: 91977.5391 - mean_squared_error: 91977.5391 - val_loss: 76876.2109 - val_mean_squared_error: 76876.2109 - 793ms/epoch - 50ms/step\n",
            "Epoch 31/500\n",
            "16/16 - 1s - loss: 92131.6484 - mean_squared_error: 92131.6484 - val_loss: 80477.8984 - val_mean_squared_error: 80477.8984 - 816ms/epoch - 51ms/step\n",
            "Epoch 32/500\n",
            "16/16 - 1s - loss: 97189.9453 - mean_squared_error: 97189.9453 - val_loss: 80626.0156 - val_mean_squared_error: 80626.0156 - 796ms/epoch - 50ms/step\n",
            "Epoch 33/500\n",
            "16/16 - 1s - loss: 85212.2031 - mean_squared_error: 85212.2031 - val_loss: 69544.6406 - val_mean_squared_error: 69544.6406 - 777ms/epoch - 49ms/step\n",
            "Epoch 34/500\n",
            "16/16 - 1s - loss: 92475.1641 - mean_squared_error: 92475.1641 - val_loss: 78697.4844 - val_mean_squared_error: 78697.4844 - 772ms/epoch - 48ms/step\n",
            "Epoch 35/500\n",
            "16/16 - 1s - loss: 88975.7891 - mean_squared_error: 88975.7891 - val_loss: 70947.7344 - val_mean_squared_error: 70947.7422 - 767ms/epoch - 48ms/step\n",
            "Epoch 36/500\n",
            "16/16 - 1s - loss: 82880.0625 - mean_squared_error: 82880.0625 - val_loss: 80051.1797 - val_mean_squared_error: 80051.1797 - 764ms/epoch - 48ms/step\n",
            "Epoch 37/500\n",
            "16/16 - 1s - loss: 70910.0156 - mean_squared_error: 70910.0156 - val_loss: 85276.8281 - val_mean_squared_error: 85276.8281 - 760ms/epoch - 48ms/step\n",
            "Epoch 38/500\n",
            "16/16 - 1s - loss: 78009.5391 - mean_squared_error: 78009.5391 - val_loss: 58033.5391 - val_mean_squared_error: 58033.5391 - 786ms/epoch - 49ms/step\n",
            "Epoch 39/500\n",
            "16/16 - 1s - loss: 75606.1250 - mean_squared_error: 75606.1250 - val_loss: 91261.2656 - val_mean_squared_error: 91261.2656 - 755ms/epoch - 47ms/step\n",
            "Epoch 40/500\n",
            "16/16 - 1s - loss: 68276.1172 - mean_squared_error: 68276.1172 - val_loss: 71180.9062 - val_mean_squared_error: 71180.9062 - 754ms/epoch - 47ms/step\n",
            "Epoch 41/500\n",
            "16/16 - 1s - loss: 77057.2422 - mean_squared_error: 77057.2422 - val_loss: 77674.5312 - val_mean_squared_error: 77674.5312 - 755ms/epoch - 47ms/step\n",
            "Epoch 42/500\n",
            "16/16 - 1s - loss: 89559.2031 - mean_squared_error: 89559.2031 - val_loss: 91957.5078 - val_mean_squared_error: 91957.5078 - 758ms/epoch - 47ms/step\n",
            "Epoch 43/500\n",
            "16/16 - 1s - loss: 91787.8594 - mean_squared_error: 91787.8594 - val_loss: 70037.9688 - val_mean_squared_error: 70037.9688 - 754ms/epoch - 47ms/step\n",
            "Epoch 44/500\n",
            "16/16 - 1s - loss: 80110.1250 - mean_squared_error: 80110.1250 - val_loss: 71775.7969 - val_mean_squared_error: 71775.7969 - 932ms/epoch - 58ms/step\n",
            "Epoch 45/500\n",
            "16/16 - 1s - loss: 82374.4688 - mean_squared_error: 82374.4688 - val_loss: 72940.5078 - val_mean_squared_error: 72940.5078 - 864ms/epoch - 54ms/step\n",
            "Epoch 46/500\n",
            "16/16 - 1s - loss: 71602.4531 - mean_squared_error: 71602.4531 - val_loss: 68353.9141 - val_mean_squared_error: 68353.9141 - 819ms/epoch - 51ms/step\n",
            "Epoch 47/500\n",
            "16/16 - 1s - loss: 70300.3984 - mean_squared_error: 70300.3984 - val_loss: 64602.5664 - val_mean_squared_error: 64602.5664 - 862ms/epoch - 54ms/step\n",
            "Epoch 48/500\n",
            "16/16 - 1s - loss: 64213.3828 - mean_squared_error: 64213.3828 - val_loss: 43509.6953 - val_mean_squared_error: 43509.6953 - 779ms/epoch - 49ms/step\n",
            "Epoch 49/500\n",
            "16/16 - 1s - loss: 59139.1602 - mean_squared_error: 59139.1602 - val_loss: 46816.2227 - val_mean_squared_error: 46816.2227 - 756ms/epoch - 47ms/step\n",
            "Epoch 50/500\n",
            "16/16 - 1s - loss: 64700.2109 - mean_squared_error: 64700.2109 - val_loss: 72469.9375 - val_mean_squared_error: 72469.9375 - 785ms/epoch - 49ms/step\n",
            "Epoch 51/500\n",
            "16/16 - 1s - loss: 75752.8438 - mean_squared_error: 75752.8438 - val_loss: 69999.3672 - val_mean_squared_error: 69999.3672 - 759ms/epoch - 47ms/step\n",
            "Epoch 52/500\n",
            "16/16 - 1s - loss: 74465.0234 - mean_squared_error: 74465.0234 - val_loss: 70321.3516 - val_mean_squared_error: 70321.3516 - 757ms/epoch - 47ms/step\n",
            "Epoch 53/500\n",
            "16/16 - 1s - loss: 68836.9688 - mean_squared_error: 68836.9688 - val_loss: 68020.2031 - val_mean_squared_error: 68020.2031 - 754ms/epoch - 47ms/step\n",
            "Epoch 54/500\n",
            "16/16 - 1s - loss: 66490.4688 - mean_squared_error: 66490.4688 - val_loss: 60954.2969 - val_mean_squared_error: 60954.2969 - 755ms/epoch - 47ms/step\n",
            "Epoch 55/500\n",
            "16/16 - 1s - loss: 74867.6406 - mean_squared_error: 74867.6406 - val_loss: 68836.2422 - val_mean_squared_error: 68836.2422 - 753ms/epoch - 47ms/step\n",
            "Epoch 56/500\n",
            "16/16 - 1s - loss: 70001.2188 - mean_squared_error: 70001.2188 - val_loss: 62721.7422 - val_mean_squared_error: 62721.7422 - 761ms/epoch - 48ms/step\n",
            "Epoch 57/500\n",
            "16/16 - 1s - loss: 64219.2070 - mean_squared_error: 64219.2070 - val_loss: 59204.7070 - val_mean_squared_error: 59204.7070 - 761ms/epoch - 48ms/step\n",
            "Epoch 58/500\n",
            "16/16 - 1s - loss: 57146.9766 - mean_squared_error: 57146.9766 - val_loss: 55974.0391 - val_mean_squared_error: 55974.0391 - 754ms/epoch - 47ms/step\n",
            "Epoch 59/500\n",
            "16/16 - 1s - loss: 59333.0156 - mean_squared_error: 59333.0156 - val_loss: 52282.2344 - val_mean_squared_error: 52282.2344 - 758ms/epoch - 47ms/step\n",
            "Epoch 60/500\n",
            "16/16 - 1s - loss: 60699.2656 - mean_squared_error: 60699.2656 - val_loss: 73513.3906 - val_mean_squared_error: 73513.3906 - 783ms/epoch - 49ms/step\n",
            "Epoch 61/500\n",
            "16/16 - 1s - loss: 58211.1250 - mean_squared_error: 58211.1250 - val_loss: 52007.3867 - val_mean_squared_error: 52007.3867 - 756ms/epoch - 47ms/step\n",
            "Epoch 62/500\n",
            "16/16 - 1s - loss: 64188.2578 - mean_squared_error: 64188.2578 - val_loss: 58701.4102 - val_mean_squared_error: 58701.4102 - 780ms/epoch - 49ms/step\n",
            "Epoch 63/500\n",
            "16/16 - 1s - loss: 62019.9023 - mean_squared_error: 62019.9023 - val_loss: 50123.1172 - val_mean_squared_error: 50123.1172 - 761ms/epoch - 48ms/step\n",
            "Epoch 64/500\n",
            "16/16 - 1s - loss: 52103.0977 - mean_squared_error: 52103.0977 - val_loss: 45833.7070 - val_mean_squared_error: 45833.7070 - 761ms/epoch - 48ms/step\n",
            "Epoch 65/500\n",
            "16/16 - 1s - loss: 48323.0430 - mean_squared_error: 48323.0430 - val_loss: 40100.8125 - val_mean_squared_error: 40100.8125 - 762ms/epoch - 48ms/step\n",
            "Epoch 66/500\n",
            "16/16 - 1s - loss: 51545.1797 - mean_squared_error: 51545.1797 - val_loss: 48751.4844 - val_mean_squared_error: 48751.4844 - 756ms/epoch - 47ms/step\n",
            "Epoch 67/500\n",
            "16/16 - 1s - loss: 56028.9688 - mean_squared_error: 56028.9688 - val_loss: 49780.8906 - val_mean_squared_error: 49780.8906 - 761ms/epoch - 48ms/step\n",
            "Epoch 68/500\n",
            "16/16 - 1s - loss: 53734.8828 - mean_squared_error: 53734.8828 - val_loss: 40145.8555 - val_mean_squared_error: 40145.8555 - 757ms/epoch - 47ms/step\n",
            "Epoch 69/500\n",
            "16/16 - 1s - loss: 40967.8320 - mean_squared_error: 40967.8320 - val_loss: 79801.4375 - val_mean_squared_error: 79801.4375 - 756ms/epoch - 47ms/step\n",
            "Epoch 70/500\n",
            "16/16 - 1s - loss: 46168.6680 - mean_squared_error: 46168.6680 - val_loss: 61094.6094 - val_mean_squared_error: 61094.6094 - 762ms/epoch - 48ms/step\n",
            "Epoch 71/500\n",
            "16/16 - 1s - loss: 57754.4297 - mean_squared_error: 57754.4297 - val_loss: 51843.1562 - val_mean_squared_error: 51843.1562 - 756ms/epoch - 47ms/step\n",
            "Epoch 72/500\n",
            "16/16 - 1s - loss: 62235.3750 - mean_squared_error: 62235.3750 - val_loss: 54072.6328 - val_mean_squared_error: 54072.6328 - 761ms/epoch - 48ms/step\n",
            "Epoch 73/500\n",
            "16/16 - 1s - loss: 51997.8164 - mean_squared_error: 51997.8164 - val_loss: 50721.9258 - val_mean_squared_error: 50721.9258 - 756ms/epoch - 47ms/step\n",
            "Epoch 74/500\n",
            "16/16 - 1s - loss: 46885.1992 - mean_squared_error: 46885.1992 - val_loss: 39901.5156 - val_mean_squared_error: 39901.5156 - 755ms/epoch - 47ms/step\n",
            "Epoch 75/500\n",
            "16/16 - 1s - loss: 41113.7734 - mean_squared_error: 41113.7734 - val_loss: 36512.0508 - val_mean_squared_error: 36512.0508 - 758ms/epoch - 47ms/step\n",
            "Epoch 76/500\n",
            "16/16 - 1s - loss: 41808.2305 - mean_squared_error: 41808.2305 - val_loss: 49723.7539 - val_mean_squared_error: 49723.7539 - 790ms/epoch - 49ms/step\n",
            "Epoch 77/500\n",
            "16/16 - 1s - loss: 42858.3984 - mean_squared_error: 42858.3984 - val_loss: 37784.1602 - val_mean_squared_error: 37784.1602 - 781ms/epoch - 49ms/step\n",
            "Epoch 78/500\n",
            "16/16 - 1s - loss: 39236.5586 - mean_squared_error: 39236.5586 - val_loss: 35920.3164 - val_mean_squared_error: 35920.3164 - 756ms/epoch - 47ms/step\n",
            "Epoch 79/500\n",
            "16/16 - 1s - loss: 38790.5742 - mean_squared_error: 38790.5742 - val_loss: 35086.2148 - val_mean_squared_error: 35086.2148 - 780ms/epoch - 49ms/step\n",
            "Epoch 80/500\n",
            "16/16 - 1s - loss: 33787.5977 - mean_squared_error: 33787.5977 - val_loss: 38070.9805 - val_mean_squared_error: 38070.9805 - 785ms/epoch - 49ms/step\n",
            "Epoch 81/500\n",
            "16/16 - 1s - loss: 38044.6055 - mean_squared_error: 38044.6055 - val_loss: 67948.7188 - val_mean_squared_error: 67948.7188 - 785ms/epoch - 49ms/step\n",
            "Epoch 82/500\n",
            "16/16 - 1s - loss: 55484.7031 - mean_squared_error: 55484.7031 - val_loss: 46248.0547 - val_mean_squared_error: 46248.0547 - 779ms/epoch - 49ms/step\n",
            "Epoch 83/500\n",
            "16/16 - 1s - loss: 42932.9883 - mean_squared_error: 42932.9883 - val_loss: 40935.8477 - val_mean_squared_error: 40935.8477 - 759ms/epoch - 47ms/step\n",
            "Epoch 84/500\n",
            "16/16 - 1s - loss: 34056.3594 - mean_squared_error: 34056.3594 - val_loss: 39590.8242 - val_mean_squared_error: 39590.8242 - 784ms/epoch - 49ms/step\n",
            "Epoch 85/500\n",
            "16/16 - 1s - loss: 47070.9531 - mean_squared_error: 47070.9531 - val_loss: 58105.5234 - val_mean_squared_error: 58105.5234 - 755ms/epoch - 47ms/step\n",
            "Epoch 86/500\n",
            "16/16 - 1s - loss: 51945.3906 - mean_squared_error: 51945.3906 - val_loss: 40357.4297 - val_mean_squared_error: 40357.4297 - 759ms/epoch - 47ms/step\n",
            "Epoch 87/500\n",
            "16/16 - 1s - loss: 54350.6094 - mean_squared_error: 54350.6094 - val_loss: 76035.4688 - val_mean_squared_error: 76035.4688 - 761ms/epoch - 48ms/step\n",
            "Epoch 88/500\n",
            "16/16 - 1s - loss: 57041.2891 - mean_squared_error: 57041.2891 - val_loss: 45383.2812 - val_mean_squared_error: 45383.2812 - 780ms/epoch - 49ms/step\n",
            "Epoch 89/500\n",
            "16/16 - 1s - loss: 42528.1250 - mean_squared_error: 42528.1250 - val_loss: 36196.6328 - val_mean_squared_error: 36196.6328 - 759ms/epoch - 47ms/step\n",
            "Epoch 90/500\n",
            "16/16 - 1s - loss: 41917.1289 - mean_squared_error: 41917.1289 - val_loss: 36457.2148 - val_mean_squared_error: 36457.2148 - 755ms/epoch - 47ms/step\n",
            "Epoch 91/500\n",
            "16/16 - 1s - loss: 38416.4688 - mean_squared_error: 38416.4688 - val_loss: 35562.6680 - val_mean_squared_error: 35562.6680 - 760ms/epoch - 48ms/step\n",
            "Epoch 92/500\n",
            "16/16 - 1s - loss: 32928.4961 - mean_squared_error: 32928.4961 - val_loss: 45414.6523 - val_mean_squared_error: 45414.6523 - 763ms/epoch - 48ms/step\n",
            "Epoch 93/500\n",
            "16/16 - 1s - loss: 42578.0195 - mean_squared_error: 42578.0195 - val_loss: 73816.7812 - val_mean_squared_error: 73816.7812 - 752ms/epoch - 47ms/step\n",
            "Epoch 94/500\n",
            "16/16 - 1s - loss: 61020.9609 - mean_squared_error: 61020.9609 - val_loss: 47057.7734 - val_mean_squared_error: 47057.7734 - 783ms/epoch - 49ms/step\n",
            "Epoch 95/500\n",
            "16/16 - 1s - loss: 52367.4062 - mean_squared_error: 52367.4062 - val_loss: 39648.3633 - val_mean_squared_error: 39648.3633 - 754ms/epoch - 47ms/step\n",
            "Epoch 96/500\n",
            "16/16 - 1s - loss: 36922.2773 - mean_squared_error: 36922.2773 - val_loss: 73468.1172 - val_mean_squared_error: 73468.1172 - 762ms/epoch - 48ms/step\n",
            "Epoch 97/500\n",
            "16/16 - 1s - loss: 28702.8691 - mean_squared_error: 28702.8691 - val_loss: 34250.6133 - val_mean_squared_error: 34250.6133 - 760ms/epoch - 47ms/step\n",
            "Epoch 98/500\n",
            "16/16 - 1s - loss: 45033.6797 - mean_squared_error: 45033.6797 - val_loss: 44681.9297 - val_mean_squared_error: 44681.9297 - 761ms/epoch - 48ms/step\n",
            "Epoch 99/500\n",
            "16/16 - 1s - loss: 36918.9258 - mean_squared_error: 36918.9258 - val_loss: 32662.9570 - val_mean_squared_error: 32662.9570 - 784ms/epoch - 49ms/step\n",
            "Epoch 100/500\n",
            "16/16 - 1s - loss: 31880.3691 - mean_squared_error: 31880.3691 - val_loss: 40627.9570 - val_mean_squared_error: 40627.9570 - 756ms/epoch - 47ms/step\n",
            "Epoch 101/500\n",
            "16/16 - 1s - loss: 35254.9531 - mean_squared_error: 35254.9531 - val_loss: 32235.7812 - val_mean_squared_error: 32235.7812 - 761ms/epoch - 48ms/step\n",
            "Epoch 102/500\n",
            "16/16 - 1s - loss: 28707.5469 - mean_squared_error: 28707.5469 - val_loss: 30082.3887 - val_mean_squared_error: 30082.3887 - 759ms/epoch - 47ms/step\n",
            "Epoch 103/500\n",
            "16/16 - 1s - loss: 30890.2676 - mean_squared_error: 30890.2676 - val_loss: 29661.6777 - val_mean_squared_error: 29661.6777 - 783ms/epoch - 49ms/step\n",
            "Epoch 104/500\n",
            "16/16 - 1s - loss: 43102.9297 - mean_squared_error: 43102.9297 - val_loss: 38576.7070 - val_mean_squared_error: 38576.7070 - 755ms/epoch - 47ms/step\n",
            "Epoch 105/500\n",
            "16/16 - 1s - loss: 37541.2266 - mean_squared_error: 37541.2266 - val_loss: 46890.2578 - val_mean_squared_error: 46890.2578 - 768ms/epoch - 48ms/step\n",
            "Epoch 106/500\n",
            "16/16 - 1s - loss: 41274.9062 - mean_squared_error: 41274.9062 - val_loss: 45457.1641 - val_mean_squared_error: 45457.1641 - 760ms/epoch - 47ms/step\n",
            "Epoch 107/500\n",
            "16/16 - 1s - loss: 36609.7461 - mean_squared_error: 36609.7461 - val_loss: 31287.4727 - val_mean_squared_error: 31287.4727 - 786ms/epoch - 49ms/step\n",
            "Epoch 108/500\n",
            "16/16 - 1s - loss: 26000.1543 - mean_squared_error: 26000.1543 - val_loss: 31849.1836 - val_mean_squared_error: 31849.1836 - 759ms/epoch - 47ms/step\n",
            "Epoch 109/500\n",
            "16/16 - 1s - loss: 25819.1309 - mean_squared_error: 25819.1309 - val_loss: 25812.4766 - val_mean_squared_error: 25812.4766 - 784ms/epoch - 49ms/step\n",
            "Epoch 110/500\n",
            "16/16 - 1s - loss: 35977.9844 - mean_squared_error: 35977.9844 - val_loss: 35861.6914 - val_mean_squared_error: 35861.6914 - 760ms/epoch - 48ms/step\n",
            "Epoch 111/500\n",
            "16/16 - 1s - loss: 33374.3281 - mean_squared_error: 33374.3281 - val_loss: 36033.8359 - val_mean_squared_error: 36033.8359 - 756ms/epoch - 47ms/step\n",
            "Epoch 112/500\n",
            "16/16 - 1s - loss: 26974.0723 - mean_squared_error: 26974.0723 - val_loss: 27661.0195 - val_mean_squared_error: 27661.0195 - 759ms/epoch - 47ms/step\n",
            "Epoch 113/500\n",
            "16/16 - 1s - loss: 27713.8691 - mean_squared_error: 27713.8691 - val_loss: 31823.7852 - val_mean_squared_error: 31823.7852 - 758ms/epoch - 47ms/step\n",
            "Epoch 114/500\n",
            "16/16 - 1s - loss: 24878.2324 - mean_squared_error: 24878.2324 - val_loss: 29560.1895 - val_mean_squared_error: 29560.1895 - 759ms/epoch - 47ms/step\n",
            "Epoch 115/500\n",
            "16/16 - 1s - loss: 27293.7930 - mean_squared_error: 27293.7930 - val_loss: 41354.8555 - val_mean_squared_error: 41354.8555 - 759ms/epoch - 47ms/step\n",
            "Epoch 116/500\n",
            "16/16 - 1s - loss: 28154.8984 - mean_squared_error: 28154.8984 - val_loss: 31239.2070 - val_mean_squared_error: 31239.2070 - 762ms/epoch - 48ms/step\n",
            "Epoch 117/500\n",
            "16/16 - 1s - loss: 24156.9941 - mean_squared_error: 24156.9941 - val_loss: 38983.7070 - val_mean_squared_error: 38983.7070 - 790ms/epoch - 49ms/step\n",
            "Epoch 118/500\n",
            "16/16 - 1s - loss: 33669.0742 - mean_squared_error: 33669.0742 - val_loss: 31926.1934 - val_mean_squared_error: 31926.1934 - 759ms/epoch - 47ms/step\n",
            "Epoch 119/500\n",
            "16/16 - 1s - loss: 24149.7363 - mean_squared_error: 24149.7363 - val_loss: 25130.6504 - val_mean_squared_error: 25130.6504 - 760ms/epoch - 48ms/step\n",
            "Epoch 120/500\n",
            "16/16 - 1s - loss: 24963.1738 - mean_squared_error: 24963.1738 - val_loss: 47174.6328 - val_mean_squared_error: 47174.6328 - 758ms/epoch - 47ms/step\n",
            "Epoch 121/500\n",
            "16/16 - 1s - loss: 46434.7383 - mean_squared_error: 46434.7383 - val_loss: 49573.9570 - val_mean_squared_error: 49573.9570 - 759ms/epoch - 47ms/step\n",
            "Epoch 122/500\n",
            "16/16 - 1s - loss: 29520.0117 - mean_squared_error: 29520.0117 - val_loss: 30825.5762 - val_mean_squared_error: 30825.5762 - 783ms/epoch - 49ms/step\n",
            "Epoch 123/500\n",
            "16/16 - 1s - loss: 26455.1191 - mean_squared_error: 26455.1191 - val_loss: 25536.3672 - val_mean_squared_error: 25536.3672 - 761ms/epoch - 48ms/step\n",
            "Epoch 124/500\n",
            "16/16 - 1s - loss: 27187.3438 - mean_squared_error: 27187.3438 - val_loss: 32571.8516 - val_mean_squared_error: 32571.8516 - 762ms/epoch - 48ms/step\n",
            "Epoch 125/500\n",
            "16/16 - 1s - loss: 21909.5527 - mean_squared_error: 21909.5527 - val_loss: 25541.4316 - val_mean_squared_error: 25541.4316 - 786ms/epoch - 49ms/step\n",
            "Epoch 126/500\n",
            "16/16 - 1s - loss: 22674.2715 - mean_squared_error: 22674.2715 - val_loss: 31631.5254 - val_mean_squared_error: 31631.5254 - 761ms/epoch - 48ms/step\n",
            "Epoch 127/500\n",
            "16/16 - 1s - loss: 22613.5723 - mean_squared_error: 22613.5723 - val_loss: 28364.6289 - val_mean_squared_error: 28364.6289 - 759ms/epoch - 47ms/step\n",
            "Epoch 128/500\n",
            "16/16 - 1s - loss: 24685.3320 - mean_squared_error: 24685.3320 - val_loss: 32360.7598 - val_mean_squared_error: 32360.7598 - 758ms/epoch - 47ms/step\n",
            "Epoch 129/500\n",
            "16/16 - 1s - loss: 23077.8711 - mean_squared_error: 23077.8711 - val_loss: 25947.3223 - val_mean_squared_error: 25947.3223 - 760ms/epoch - 47ms/step\n",
            "Epoch 130/500\n",
            "16/16 - 1s - loss: 19881.9648 - mean_squared_error: 19881.9648 - val_loss: 26921.5469 - val_mean_squared_error: 26921.5469 - 762ms/epoch - 48ms/step\n",
            "Epoch 131/500\n",
            "16/16 - 1s - loss: 25364.2598 - mean_squared_error: 25364.2598 - val_loss: 38381.4766 - val_mean_squared_error: 38381.4766 - 768ms/epoch - 48ms/step\n",
            "Epoch 132/500\n",
            "16/16 - 1s - loss: 26704.6836 - mean_squared_error: 26704.6836 - val_loss: 36911.9688 - val_mean_squared_error: 36911.9688 - 763ms/epoch - 48ms/step\n",
            "Epoch 133/500\n",
            "16/16 - 1s - loss: 23371.4727 - mean_squared_error: 23371.4727 - val_loss: 26743.9102 - val_mean_squared_error: 26743.9102 - 760ms/epoch - 47ms/step\n",
            "Epoch 134/500\n",
            "16/16 - 1s - loss: 23332.1152 - mean_squared_error: 23332.1152 - val_loss: 35635.4844 - val_mean_squared_error: 35635.4844 - 763ms/epoch - 48ms/step\n",
            "Epoch 135/500\n",
            "16/16 - 1s - loss: 31665.3672 - mean_squared_error: 31665.3672 - val_loss: 48809.8594 - val_mean_squared_error: 48809.8594 - 762ms/epoch - 48ms/step\n",
            "Epoch 136/500\n",
            "16/16 - 1s - loss: 26595.5664 - mean_squared_error: 26595.5664 - val_loss: 24435.1465 - val_mean_squared_error: 24435.1465 - 786ms/epoch - 49ms/step\n",
            "Epoch 137/500\n",
            "16/16 - 1s - loss: 30355.2305 - mean_squared_error: 30355.2305 - val_loss: 29079.9863 - val_mean_squared_error: 29079.9863 - 763ms/epoch - 48ms/step\n",
            "Epoch 138/500\n",
            "16/16 - 1s - loss: 21530.4863 - mean_squared_error: 21530.4863 - val_loss: 28447.3594 - val_mean_squared_error: 28447.3594 - 755ms/epoch - 47ms/step\n",
            "Epoch 139/500\n",
            "16/16 - 1s - loss: 23134.0332 - mean_squared_error: 23134.0332 - val_loss: 47121.8320 - val_mean_squared_error: 47121.8320 - 760ms/epoch - 48ms/step\n",
            "Epoch 140/500\n",
            "16/16 - 1s - loss: 24024.9863 - mean_squared_error: 24024.9863 - val_loss: 28950.2051 - val_mean_squared_error: 28950.2051 - 758ms/epoch - 47ms/step\n",
            "Epoch 141/500\n",
            "16/16 - 1s - loss: 21836.0059 - mean_squared_error: 21836.0059 - val_loss: 30059.0449 - val_mean_squared_error: 30059.0449 - 769ms/epoch - 48ms/step\n",
            "Epoch 142/500\n",
            "16/16 - 1s - loss: 17998.0684 - mean_squared_error: 17998.0684 - val_loss: 32772.8477 - val_mean_squared_error: 32772.8477 - 783ms/epoch - 49ms/step\n",
            "Epoch 143/500\n",
            "16/16 - 1s - loss: 26775.4902 - mean_squared_error: 26775.4902 - val_loss: 31277.9629 - val_mean_squared_error: 31277.9629 - 760ms/epoch - 48ms/step\n",
            "Epoch 144/500\n",
            "16/16 - 1s - loss: 20669.9355 - mean_squared_error: 20669.9355 - val_loss: 28193.9922 - val_mean_squared_error: 28193.9922 - 765ms/epoch - 48ms/step\n",
            "Epoch 145/500\n",
            "16/16 - 1s - loss: 18169.6719 - mean_squared_error: 18169.6719 - val_loss: 33034.7812 - val_mean_squared_error: 33034.7812 - 763ms/epoch - 48ms/step\n",
            "Epoch 146/500\n",
            "16/16 - 1s - loss: 34205.9297 - mean_squared_error: 34205.9297 - val_loss: 32772.3711 - val_mean_squared_error: 32772.3711 - 764ms/epoch - 48ms/step\n",
            "Epoch 147/500\n",
            "16/16 - 1s - loss: 28860.1191 - mean_squared_error: 28860.1191 - val_loss: 34626.1992 - val_mean_squared_error: 34626.1992 - 759ms/epoch - 47ms/step\n",
            "Epoch 148/500\n",
            "16/16 - 1s - loss: 19740.8926 - mean_squared_error: 19740.8926 - val_loss: 30823.1504 - val_mean_squared_error: 30823.1504 - 789ms/epoch - 49ms/step\n",
            "Epoch 149/500\n",
            "16/16 - 1s - loss: 16962.6680 - mean_squared_error: 16962.6680 - val_loss: 27174.5840 - val_mean_squared_error: 27174.5840 - 785ms/epoch - 49ms/step\n",
            "Epoch 150/500\n",
            "16/16 - 1s - loss: 19073.1543 - mean_squared_error: 19073.1543 - val_loss: 25289.4863 - val_mean_squared_error: 25289.4863 - 785ms/epoch - 49ms/step\n",
            "Epoch 151/500\n",
            "16/16 - 1s - loss: 18202.4609 - mean_squared_error: 18202.4609 - val_loss: 25165.0000 - val_mean_squared_error: 25165.0000 - 772ms/epoch - 48ms/step\n",
            "Epoch 152/500\n",
            "16/16 - 1s - loss: 16240.6328 - mean_squared_error: 16240.6328 - val_loss: 30679.3516 - val_mean_squared_error: 30679.3516 - 763ms/epoch - 48ms/step\n",
            "Epoch 153/500\n",
            "16/16 - 1s - loss: 17521.6289 - mean_squared_error: 17521.6289 - val_loss: 28309.1445 - val_mean_squared_error: 28309.1445 - 766ms/epoch - 48ms/step\n",
            "Epoch 154/500\n",
            "16/16 - 1s - loss: 17111.1094 - mean_squared_error: 17111.1094 - val_loss: 25295.2363 - val_mean_squared_error: 25295.2363 - 787ms/epoch - 49ms/step\n",
            "Epoch 154: early stopping\n"
          ]
        }
      ]
    },
    {
      "cell_type": "code",
      "metadata": {
        "tags": [],
        "deepnote_to_be_reexecuted": false,
        "source_hash": "b6e72463",
        "execution_start": 1633368203653,
        "execution_millis": 936856,
        "cell_id": "00026-68e17e55-8de2-43ba-8538-512d5de26d64",
        "deepnote_cell_type": "code",
        "id": "ADpjLRPUSM8R"
      },
      "source": [
        "# #rodadas de treinamento\n",
        "# history = modelo.fit(\n",
        "#                         X_train,\n",
        "#                         y_train,\n",
        "#                         validation_data=(X_test, y_test),\n",
        "#                         epochs=50,\n",
        "#                         batch_size=12\n",
        "#                     )"
      ],
      "execution_count": null,
      "outputs": []
    },
    {
      "cell_type": "code",
      "source": [
        "data = timeProcess()[1]\n",
        "modelo.save('/content/drive/MyDrive/1_Informações_scripts//model__huh7_regressao_menor_erro_Mean_squared_error_500_epochs'+data+'.h5')"
      ],
      "metadata": {
        "id": "X_AHjjmDd9sc"
      },
      "execution_count": null,
      "outputs": []
    },
    {
      "cell_type": "markdown",
      "metadata": {
        "tags": [],
        "is_collapsed": false,
        "cell_id": "00027-ae57ba8f-94a0-43a9-ba13-3c5f4fb8c357",
        "deepnote_cell_type": "text-cell-h2",
        "id": "Md1GLb6qSM8S"
      },
      "source": [
        "## Accuracy Assessment"
      ]
    },
    {
      "cell_type": "code",
      "metadata": {
        "tags": [],
        "deepnote_to_be_reexecuted": false,
        "source_hash": "b96ca127",
        "execution_start": 1633369207099,
        "execution_millis": 201,
        "cell_id": "00031-1364e1a8-c1c5-4496-95f6-080f54577227",
        "deepnote_cell_type": "code",
        "colab": {
          "base_uri": "https://localhost:8080/",
          "height": 295
        },
        "id": "XT24foumSM8V",
        "outputId": "c2b6ced7-5053-44a5-b72b-a08e9db68501"
      },
      "source": [
        "#gráfico avaliando a acurácia a partir de treino e teste\n",
        "plt.plot(history.history['mean_squared_error'])\n",
        "plt.plot(history.history['val_mean_squared_error'])\n",
        "plt.title('Accuracy Metric')\n",
        "plt.ylabel('MSE')\n",
        "plt.xlabel('Epochs')\n",
        "plt.legend(['train', 'test'], loc='upper left')\n",
        "plt.show()"
      ],
      "execution_count": null,
      "outputs": [
        {
          "output_type": "display_data",
          "data": {
            "text/plain": [
              "<Figure size 432x288 with 1 Axes>"
            ],
            "image/png": "[encoded data removed]"
          },
          "metadata": {
            "needs_background": "light"
          }
        }
      ]
    },
    {
      "cell_type": "code",
      "metadata": {
        "tags": [],
        "deepnote_to_be_reexecuted": false,
        "source_hash": "96e272ff",
        "execution_start": 1633369210497,
        "execution_millis": 3600,
        "cell_id": "00032-ad110d89-30f3-47cc-8469-bc798b259079",
        "deepnote_cell_type": "code",
        "colab": {
          "base_uri": "https://localhost:8080/",
          "height": 295
        },
        "id": "bkLDfovxSM8W",
        "outputId": "1ab7bbec-cb2e-4522-8310-29e8d406c390"
      },
      "source": [
        "#avaliando a previsão do modelo com os rótulos\n",
        "prev = modelo.predict(X_test)\n",
        "plt.title('Previsão dos valores Operetta')\n",
        "plt.ylabel('Rótulos')\n",
        "plt.xlabel('Previsão')\n",
        "plt.plot(prev)\n",
        "plt.plot(y_test)\n",
        "plt.show()"
      ],
      "execution_count": null,
      "outputs": [
        {
          "output_type": "display_data",
          "data": {
            "text/plain": [
              "<Figure size 432x288 with 1 Axes>"
            ],
            "image/png": "[encoded data removed]"
          },
          "metadata": {
            "needs_background": "light"
          }
        }
      ]
    },
    {
      "cell_type": "code",
      "metadata": {
        "tags": [],
        "cell_id": "00033-2864b5bb-faa2-4f6f-95ec-dc3e9877d989",
        "deepnote_to_be_reexecuted": false,
        "source_hash": "b623e53d",
        "execution_start": 1633369216849,
        "execution_millis": 4,
        "deepnote_cell_type": "code",
        "id": "EHDs5Jd7SM8Y"
      },
      "source": [
        ""
      ],
      "execution_count": null,
      "outputs": []
    },
    {
      "cell_type": "markdown",
      "source": [
        "# Qualit model analisys"
      ],
      "metadata": {
        "id": "VPjnFePCBobA"
      }
    },
    {
      "cell_type": "code",
      "metadata": {
        "tags": [],
        "deepnote_to_be_reexecuted": false,
        "source_hash": "3b8f2163",
        "execution_start": 1633369218142,
        "execution_millis": 4,
        "cell_id": "00034-c5975f05-dccc-4775-bd71-c8ee86dc41a8",
        "deepnote_cell_type": "code",
        "id": "1j3UXE8nSM8Z"
      },
      "source": [
        "# Qualit model analisys\n",
        "from sklearn.metrics import r2_score,mean_absolute_error, mean_squared_error, mean_squared_log_error, median_absolute_error"
      ],
      "execution_count": null,
      "outputs": []
    },
    {
      "cell_type": "code",
      "metadata": {
        "tags": [],
        "deepnote_to_be_reexecuted": false,
        "source_hash": "be0ac731",
        "execution_start": 1633369219810,
        "execution_millis": 23,
        "cell_id": "00035-96a27f47-7947-4c65-98d3-30b309513350",
        "deepnote_cell_type": "code",
        "colab": {
          "base_uri": "https://localhost:8080/"
        },
        "id": "AisRDz2hSM8a",
        "outputId": "2117515d-90e0-40e5-958d-2339051240a8"
      },
      "source": [
        "#buscando pelas métricas\n",
        "print(f\"{round(r2_score(y_test, prev) * 100, 2)}% r2_score\") #raíz quadrada\n",
        "print(f\"{round(mean_absolute_error(y_test, prev), 2)} Erro médio absoluto\") \n",
        "print(f\"{round(mean_squared_error(y_test, prev), 2)} Erro médio quadrático\")\n",
        "\n"
      ],
      "execution_count": null,
      "outputs": [
        {
          "output_type": "stream",
          "name": "stdout",
          "text": [
            "67.46% r2_score\n",
            "115.14 Erro médio absoluto\n",
            "25295.23 Erro médio quadrático\n"
          ]
        }
      ]
    },
    {
      "cell_type": "code",
      "metadata": {
        "tags": [],
        "deepnote_to_be_reexecuted": false,
        "source_hash": "bec942ae",
        "execution_start": 1633369222058,
        "execution_millis": 12,
        "cell_id": "00036-573f4aa4-6a54-4857-8f98-e779f17a91c4",
        "deepnote_cell_type": "code",
        "colab": {
          "base_uri": "https://localhost:8080/"
        },
        "id": "pSs312v-SM8b",
        "outputId": "a71235cf-1cb7-4e0d-c5db-c0b8d3bce242"
      },
      "source": [
        "mean_absolute_error(y_test, prev)"
      ],
      "execution_count": null,
      "outputs": [
        {
          "output_type": "execute_result",
          "data": {
            "text/plain": [
              "160.07656363721165"
            ]
          },
          "metadata": {},
          "execution_count": 24
        }
      ]
    },
    {
      "cell_type": "code",
      "metadata": {
        "tags": [],
        "deepnote_to_be_reexecuted": false,
        "source_hash": "c9cb7100",
        "execution_start": 1633369232758,
        "execution_millis": 15,
        "cell_id": "00037-87ca8a46-487b-43bd-ac4e-84d7eaf137cf",
        "deepnote_cell_type": "code",
        "colab": {
          "base_uri": "https://localhost:8080/"
        },
        "id": "Kxt5LVFnSM8c",
        "outputId": "92dd2596-5d74-4b36-e7e8-ad2ceb7f132d"
      },
      "source": [
        "print(f\"{round(mean_absolute_error(y_test, prev), 2)}\")\n"
      ],
      "execution_count": null,
      "outputs": [
        {
          "output_type": "stream",
          "name": "stdout",
          "text": [
            "160.08\n"
          ]
        }
      ]
    },
    {
      "cell_type": "code",
      "metadata": {
        "tags": [],
        "deepnote_to_be_reexecuted": false,
        "source_hash": "bc178940",
        "execution_start": 1633369242674,
        "execution_millis": 10,
        "cell_id": "00038-420f1037-c858-42af-8555-f2c74ebca5a1",
        "deepnote_cell_type": "code",
        "colab": {
          "base_uri": "https://localhost:8080/"
        },
        "id": "tfScx0ytSM8d",
        "outputId": "5d442496-677c-4c5a-b72a-bb19464c5701"
      },
      "source": [
        "print(f\"{round(mean_squared_error(y_test, prev), 2)}\")\n"
      ],
      "execution_count": null,
      "outputs": [
        {
          "output_type": "stream",
          "name": "stdout",
          "text": [
            "50061.38\n"
          ]
        }
      ]
    },
    {
      "cell_type": "code",
      "metadata": {
        "tags": [],
        "deepnote_to_be_reexecuted": false,
        "source_hash": "ab70e648",
        "execution_start": 1631639992417,
        "execution_millis": 41,
        "cell_id": "00039-e723e46c-2a64-4481-ac95-a54daa68be17",
        "deepnote_cell_type": "code",
        "id": "Pob120meSM8e"
      },
      "source": [
        "# #salvando o modelo\n",
        "data = timeProcess()[1]\n",
        "modelo.save('/content/drive/MyDrive/1_Informações_scripts//1_model__huh7_regressao_menor_erro_Mean_squared_error_30%'+data+'.h5')"
      ],
      "execution_count": null,
      "outputs": []
    }
  ]
}